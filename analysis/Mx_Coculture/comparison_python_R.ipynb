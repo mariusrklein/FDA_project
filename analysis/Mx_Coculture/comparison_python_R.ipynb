{
 "cells": [
  {
   "cell_type": "markdown",
   "id": "84d842e5",
   "metadata": {
    "papermill": {
     "duration": 0.014374,
     "end_time": "2022-12-07T12:44:47.079844",
     "exception": false,
     "start_time": "2022-12-07T12:44:47.065470",
     "status": "completed"
    },
    "tags": []
   },
   "source": [
    "# Mx_Coculture: Comparison between Python and R\n",
    "\n",
    "In this notebook, I create similar plots to the ones shown by Molenaar et al.\n",
    " "
   ]
  },
  {
   "cell_type": "code",
   "execution_count": null,
   "id": "8626e04c",
   "metadata": {
    "papermill": {
     "duration": 4.541639,
     "end_time": "2022-12-07T12:44:51.633238",
     "exception": false,
     "start_time": "2022-12-07T12:44:47.091599",
     "status": "completed"
    },
    "tags": []
   },
   "outputs": [],
   "source": [
    "import platform\n",
    "import os\n",
    "import multiprocessing\n",
    "import numpy as np\n",
    "import pandas as pd\n",
    "import anndata as ad\n",
    "import scanpy as sc\n",
    "import seaborn as sns\n",
    "from sklearn.cluster import KMeans\n",
    "import re\n",
    "import outer_spacem as osm\n",
    "import sys\n",
    "sys.path.append('/home/mklein/spacem')\n",
    "sys.path.append('/Volumes/mklein/spacem')\n",
    "sys.path.append('/home/mklein/FDA_project')\n",
    "from src.correction import *\n",
    "from src.evaluation import intermixing, MetaboliteAnalysis\n",
    "\n",
    "%matplotlib inline"
   ]
  },
  {
   "cell_type": "code",
   "execution_count": null,
   "id": "dba1e025",
   "metadata": {
    "papermill": {
     "duration": 0.016897,
     "end_time": "2022-12-07T12:44:51.701172",
     "exception": false,
     "start_time": "2022-12-07T12:44:51.684275",
     "status": "completed"
    },
    "tags": [
     "injected-parameters"
    ]
   },
   "outputs": [],
   "source": [
    "# Parameters\n",
    "source_path = \"/home/mklein/Raw Data/Coculture\"\n",
    "target_path = \"/home/mklein/FDA_project/data/Mx_Co_Cultured\"\n",
    "condition_name = \"celltype\"\n",
    "well_name = \"rowcol\"\n",
    "deconv_default_min_overlap = 0.3\n",
    "analysis_path = \"/home/mklein/FDA_project/analysis/Mx_Coculture\"\n",
    "notebooks = [\n",
    "    \"pipeline_01_correction.ipynb\",\n",
    "    \"pipeline_02_processing.ipynb\",\n",
    "    \"pipeline_03_evaluation.ipynb\",\n",
    "]\n",
    "project = \"Mx_Coculture\"\n"
   ]
  },
  {
   "cell_type": "markdown",
   "id": "b52553c8",
   "metadata": {
    "papermill": {
     "duration": 0.008368,
     "end_time": "2022-12-07T12:44:51.718054",
     "exception": false,
     "start_time": "2022-12-07T12:44:51.709686",
     "status": "completed"
    },
    "tags": []
   },
   "source": [
    "Loading the uncorrected and ISM-corrected dataset from file. Additionally, loading the metadata CSV file to filter out excluded wells."
   ]
  },
  {
   "cell_type": "code",
   "execution_count": null,
   "id": "ffe6afdb",
   "metadata": {
    "papermill": {
     "duration": 0.132425,
     "end_time": "2022-12-07T12:44:51.858578",
     "exception": false,
     "start_time": "2022-12-07T12:44:51.726153",
     "status": "completed"
    },
    "tags": []
   },
   "outputs": [],
   "source": [
    "adata = ad.read(os.path.join(target_path, \"dataset_threshold_0.1\", \"cells_spatiomolecular_adata.h5ad\"))\n",
    "adata_cor = ad.read(os.path.join(target_path, \"dataset_threshold_0.1\", \"cells_spatiomolecular_adata_corrected.h5ad\"))"
   ]
  },
  {
   "cell_type": "code",
   "execution_count": null,
   "id": "17117d12-18c5-4240-90f8-0fa6073ba34e",
   "metadata": {},
   "outputs": [],
   "source": [
    "included_molecules = adata.var_names.intersection(adata_cor.var_names)\n",
    "included_cells = adata.obs_names.intersection(adata_cor.obs_names)\n",
    "\n",
    "def subset_molecules(adata):\n",
    "    \n",
    "    return adata[included_cells, included_molecules].copy()\n",
    "\n",
    "adata = subset_molecules(adata)\n",
    "adata_cor = subset_molecules(adata_cor)\n",
    "\n",
    "print(adata.shape)\n",
    "print(adata_cor.shape)"
   ]
  },
  {
   "cell_type": "markdown",
   "id": "e1f42574-bcd7-4193-8856-b6ae68dc1908",
   "metadata": {},
   "source": [
    "First of all, the loaded datasets are filtered:\n",
    "\n",
    "- cells need non-zero intensities for at least 10 ions.\n",
    "- ions need non-zero intensities for at least 200 cells.\n",
    "\n",
    "After that, the sets are preprocessed in different ways:\n",
    "\n",
    "- intensties are normalized to TIC and/or log-transformed (log(x+1))\n",
    "\n",
    "After that, both datasets are subset to contain the same ions and cells (intersection)."
   ]
  },
  {
   "cell_type": "code",
   "execution_count": null,
   "id": "f3b730f6-0c1b-4ef5-87cf-e826695dd0c1",
   "metadata": {},
   "outputs": [],
   "source": [
    "def preprocess(adata):\n",
    "    adata.obs['well'] = 'dataset'\n",
    "    sc.pp.filter_cells(adata, min_genes=5)\n",
    "    sc.pp.filter_genes(adata, min_cells=1)\n",
    "    adata.raw = adata\n",
    "    adata.layers[\"raw_counts\"] = adata.X.copy()\n",
    "    sc.pp.scale(adata)\n",
    "    adata.layers[\"norm_counts\"] = sc.pp.normalize_total(adata, layer='raw_counts', target_sum=None, inplace=False)['X']\n",
    "    adata.layers[\"1e4_norm_counts\"] = sc.pp.normalize_total(adata, layer='raw_counts', target_sum=1e4, inplace=False)['X']\n",
    "    adata.layers[\"scaled_counts\"] = sc.pp.scale(adata, layer='raw_counts', copy=True).X\n",
    "    \n",
    "    adata.layers[\"log_raw_counts\"] = sc.pp.log1p(adata.layers[\"raw_counts\"], copy=True)\n",
    "    adata.layers[\"log_norm_counts\"] = sc.pp.log1p(adata.layers[\"norm_counts\"], copy=True)\n",
    "    adata.layers[\"1e4_log_norm_counts\"] = sc.pp.log1p(adata.layers[\"1e4_norm_counts\"], copy=True)\n",
    "    adata.X = adata.layers[\"scaled_counts\"]\n",
    "    \n",
    "    adata.var['median_intensity'] = np.median(adata.X, axis=0)\n",
    "    adata.var['mean_intensity'] = np.mean(adata.X, axis=0)\n",
    "    # adata_x = adata.X.copy()\n",
    "    # adata_x[adata_x == 0] = np.nan\n",
    "    # adata.var['median_intensity_nonzero'] = np.nanmedian(adata_x, axis=0)\n",
    "    \n",
    "    \n",
    "preprocess(adata)\n",
    "preprocess(adata_cor)\n",
    "\n",
    "print(adata.shape)\n",
    "print(adata_cor.shape)"
   ]
  },
  {
   "cell_type": "code",
   "execution_count": null,
   "id": "606266d6-6f82-4b7b-a14a-4b403c1cf5c8",
   "metadata": {
    "papermill": {
     "duration": 120.971995,
     "end_time": "2022-12-01T11:32:46.203388",
     "exception": false,
     "start_time": "2022-12-01T11:30:45.231393",
     "status": "completed"
    },
    "tags": []
   },
   "outputs": [],
   "source": [
    "def dimred_umap(adata, layer=None, min_dist=0.5, point_size=15):\n",
    "    if layer is not None:\n",
    "        adata.layers['default_X'] = adata.X\n",
    "        adata.X = adata.layers[layer]\n",
    "    \n",
    "    sc.pp.pca(adata)\n",
    "    sc.pp.neighbors(adata, n_neighbors=200, metric='cosine')\n",
    "    sc.tl.umap(adata, min_dist=min_dist, spread=2.0, random_state=1, n_components=2)\n",
    "    sc.pl.umap(adata, color=[condition_name], palette='cividis')\n",
    "    \n",
    "    \n",
    "    if layer is not None:\n",
    "        adata.X = adata.layers['default_X']"
   ]
  },
  {
   "cell_type": "code",
   "execution_count": null,
   "id": "5c58f7de-9b9d-4efc-8539-4bdd535d283d",
   "metadata": {
    "tags": []
   },
   "outputs": [],
   "source": [
    "def intermixing_layer(adata, adata_cor, condition_name, measures = ['X_pca', 'X_umap'], layer=None):\n",
    "    if layer is not None:\n",
    "        adata.layers['default_X'] = adata.X\n",
    "        adata.X = adata.layers[layer]\n",
    "        adata_cor.layers['default_X'] = adata_cor.X\n",
    "        adata_cor.X = adata_cor.layers[layer]\n",
    "    \n",
    "    summaries = intermixing({'uncorrected': adata, 'ISM correction': adata_cor}, condition_name = condition_name, measures = measures)\n",
    "    \n",
    "    if layer is not None:\n",
    "        adata.X = adata.layers['default_X']\n",
    "        adata_cor.X = adata_cor.layers['default_X']\n",
    "    \n",
    "    return\n",
    "    "
   ]
  },
  {
   "cell_type": "markdown",
   "id": "5c3ee95a-3d32-43d2-aa13-d23a597a7d27",
   "metadata": {},
   "source": [
    "As in the manuscript of MOlenaar et al, data is scaled to zero mean and standard variance."
   ]
  },
  {
   "cell_type": "code",
   "execution_count": null,
   "id": "3717d5f8-46c1-4010-b60c-b9fdad70690e",
   "metadata": {},
   "outputs": [],
   "source": [
    "dimred_umap(adata, layer='scaled_counts')\n",
    "dimred_umap(adata_cor, layer='scaled_counts')\n",
    "intermixing_layer(adata, adata_cor, condition_name, measures = ['X_pca', 'X_umap'], layer='scaled_counts')"
   ]
  },
  {
   "cell_type": "code",
   "execution_count": null,
   "id": "ecadd833-2338-42d3-8ab4-43db9b5477bd",
   "metadata": {},
   "outputs": [],
   "source": [
    "sc.pl.umap(adata, color=[condition_name], palette='cividis', title=\"none\")\n",
    "sc.pl.umap(adata_cor, color=[condition_name], palette='cividis', title=\"ISM (non-supervised)\")"
   ]
  }
 ],
 "metadata": {
  "kernelspec": {
   "display_name": "“ion_suppression_new”",
   "language": "python",
   "name": "ion_suppression"
  },
  "language_info": {
   "codemirror_mode": {
    "name": "ipython",
    "version": 3
   },
   "file_extension": ".py",
   "mimetype": "text/x-python",
   "name": "python",
   "nbconvert_exporter": "python",
   "pygments_lexer": "ipython3",
   "version": "3.10.8"
  },
  "papermill": {
   "default_parameters": {},
   "duration": 8.912759,
   "end_time": "2022-12-07T12:44:53.472646",
   "environment_variables": {},
   "exception": true,
   "input_path": "/home/mklein/FDA_project/pipeline_03_evaluation.ipynb",
   "output_path": "/home/mklein/FDA_project/analysis/Mx_Coculture/pipeline_03_evaluation.ipynb",
   "parameters": {
    "analysis_path": "/home/mklein/FDA_project/analysis/Mx_Coculture",
    "condition_name": "condition",
    "deconv_default_min_overlap": 0.3,
    "notebooks": [
     "pipeline_01_correction.ipynb",
     "pipeline_02_processing.ipynb",
     "pipeline_03_evaluation.ipynb"
    ],
    "project": "Mx_Coculture",
    "source_path": "/home/mklein/Raw Data/Coculture",
    "target_path": "/home/mklein/FDA_project/data/Mx_Co_Cultured",
    "well_name": "rowcol"
   },
   "start_time": "2022-12-07T12:44:44.559887",
   "version": "2.3.4"
  },
  "vscode": {
   "interpreter": {
    "hash": "89b4449ee30f46b148fb6825d70934bcbb1ebdb6d5b2015fe3835362773c7289"
   }
  }
 },
 "nbformat": 4,
 "nbformat_minor": 5
}
