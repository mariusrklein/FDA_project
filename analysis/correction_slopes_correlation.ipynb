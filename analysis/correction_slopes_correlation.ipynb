{
 "cells": [
  {
   "cell_type": "markdown",
   "id": "54ee6461-7a17-48e5-a315-2f9695884096",
   "metadata": {},
   "source": [
    "# Associations of correction slopes across datasets\n",
    "\n",
    "Since ion suppression is a complicated and multifactorial process, it is hard to tackle it mechanistically. Although this method revolves around the mere area of overlap as influence parameter, the different ion-specific slopes gathered in the correction of various datasets should still contain molecular information about the susceptibility to ion suppression. An indication for that would be a correlation of the slopes for ions acquired in multiple datasets. As we analyzed two Metabolomics and two Lipidomics datasets, one can compare those separately."
   ]
  },
  {
   "cell_type": "code",
   "execution_count": null,
   "id": "d6dd7a13-c745-4377-b4bd-ca06c798fc5c",
   "metadata": {},
   "outputs": [],
   "source": [
    "import os\n",
    "import pandas as pd\n",
    "import scanpy as sc\n",
    "import seaborn as sns"
   ]
  },
  {
   "cell_type": "code",
   "execution_count": null,
   "id": "17147014-6a2d-4538-9517-57b2088d9086",
   "metadata": {},
   "outputs": [],
   "source": [
    "source_path = '/home/mklein/FDA_project/data'\n",
    "datasets = [dir.name for dir in os.scandir(source_path) if dir.is_dir() and dir.name[0] != \".\"]\n",
    "datasets"
   ]
  },
  {
   "cell_type": "code",
   "execution_count": null,
   "id": "b1868bf3-243e-4df6-b3b2-968e38b27e99",
   "metadata": {},
   "outputs": [],
   "source": [
    "adatas = {} \n",
    "for dset in datasets:\n",
    "    adata = sc.read(os.path.join(source_path, dset, 'corrected_batch_sm_matrix.h5ad'))\n",
    "    df = adata.var[['corrected_only_using_pool', 'mean_correction_quantreg_slope', 'sum_correction_using_ion_pool']]\n",
    "    adatas[dset] = df\n"
   ]
  },
  {
   "cell_type": "markdown",
   "id": "3a01772d-4fe0-4a11-9de2-31c6a1819ede",
   "metadata": {},
   "source": [
    "All slope information is loaded from the respective annotated data matrices. As the datasets usually consist of multiple wells, the reported correction slopes are mean values of the corresponding set of wells. Ions that were only corrected using the reference pool are excluded (one could be more strict by thresholding for a max. fraction of wells corrected by reference pool, e.g. 50%)."
   ]
  },
  {
   "cell_type": "code",
   "execution_count": null,
   "id": "f78a2ad2-17ba-4e45-83c3-fcffb97ff6eb",
   "metadata": {},
   "outputs": [],
   "source": [
    "df = pd.concat(adatas)\n",
    "df.index.names = ['dataset', 'ion']\n",
    "df.reset_index(inplace=True)\n",
    "df = df[df['corrected_only_using_pool'] == False]"
   ]
  },
  {
   "cell_type": "code",
   "execution_count": null,
   "id": "75501b52-0610-4823-92c5-4cff7d859a0b",
   "metadata": {},
   "outputs": [],
   "source": [
    "wide_df = df.pivot(index='ion', columns='dataset', values='mean_correction_quantreg_slope')"
   ]
  },
  {
   "cell_type": "code",
   "execution_count": null,
   "id": "572f9bda-0af0-47c0-a971-0d99ab081b8a",
   "metadata": {},
   "outputs": [],
   "source": [
    "sns.pairplot(wide_df)\n",
    "wide_df.corr(method=\"spearman\")"
   ]
  },
  {
   "cell_type": "markdown",
   "id": "8052f0ea-f8b1-4192-9f38-0511372b36ed",
   "metadata": {},
   "source": [
    "No metabolites were found in both Metabolomics datasets as the ions in the coculture set were only available as sum formulas without a specific adduct. All the other datasets use sum formulas with specific adducts. However, between the Lipidomics datasets, a number of ions overlap and their slopes have a positive correlation with Spearman r = 0.583. "
   ]
  },
  {
   "cell_type": "code",
   "execution_count": null,
   "id": "bcb4cf99-b37b-4f83-ad66-a701b5b965f5",
   "metadata": {},
   "outputs": [],
   "source": [
    "sns.lmplot(wide_df[['Lx_Glioblastoma', 'Lx_Pancreatic_Cancer']], x='Lx_Pancreatic_Cancer', y='Lx_Glioblastoma')\n",
    "wide_df[['Lx_Glioblastoma', 'Lx_Pancreatic_Cancer']].corr(method='spearman')"
   ]
  },
  {
   "cell_type": "markdown",
   "id": "112b7098-f72b-4fa1-b9aa-dd3d06b5e23a",
   "metadata": {},
   "source": [
    "In order to enable a comparison of the metabolites annotated in the Metabolomics datasets, one has to strip the adducts from the ions in the Seahorse dataset. However, due to the low number of metabolites annotated for the coculture dataset (58), still only a very small set of 8 jointly annotated metabolites can be found. The corresponding slopes do not show a positive correlation."
   ]
  },
  {
   "cell_type": "code",
   "execution_count": null,
   "id": "465245ba-b2cb-48a5-a92b-791df2cca9ad",
   "metadata": {},
   "outputs": [],
   "source": [
    "df[\"ion_stripped\"] = df['ion'].str.extract(r'([^-^+]+)')\n",
    "df_stripped = df.groupby(['dataset', 'ion_stripped']).mean(numeric_only=True).reset_index()"
   ]
  },
  {
   "cell_type": "code",
   "execution_count": null,
   "id": "5a2f4c26-20bc-4465-bd48-72de5984b63f",
   "metadata": {},
   "outputs": [],
   "source": [
    "wide_df_stripped = df_stripped.pivot(index='ion_stripped', columns='dataset', values='mean_correction_quantreg_slope')\n",
    "wide_df_stripped = wide_df_stripped.reset_index()"
   ]
  },
  {
   "cell_type": "code",
   "execution_count": null,
   "id": "fe375b6f-7e46-454f-b70e-8a351df1a39c",
   "metadata": {},
   "outputs": [],
   "source": [
    "sns.lmplot(wide_df_stripped[['Mx_Co_Cultured', 'Mx_Seahorse']], x='Mx_Co_Cultured', y='Mx_Seahorse')\n",
    "wide_df_stripped[['Mx_Co_Cultured', 'Mx_Seahorse']].corr(method='spearman')"
   ]
  }
 ],
 "metadata": {
  "kernelspec": {
   "display_name": "Python 3 (ipykernel)",
   "language": "python",
   "name": "python3"
  },
  "language_info": {
   "codemirror_mode": {
    "name": "ipython",
    "version": 3
   },
   "file_extension": ".py",
   "mimetype": "text/x-python",
   "name": "python",
   "nbconvert_exporter": "python",
   "pygments_lexer": "ipython3",
   "version": "3.10.6"
  }
 },
 "nbformat": 4,
 "nbformat_minor": 5
}
