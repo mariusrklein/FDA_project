{
 "cells": [
  {
   "cell_type": "markdown",
   "id": "54ee6461-7a17-48e5-a315-2f9695884096",
   "metadata": {
    "tags": []
   },
   "source": [
    "# Associations of correction slopes across datasets\n",
    "\n",
    "Since ion suppression is a complicated and multifactorial process, it is hard to tackle it mechanistically. Although this method revolves around the mere area of overlap as influence parameter, the different ion-specific slopes gathered in the correction of various datasets should still contain molecular information about the susceptibility to ion suppression. An indication for that would be a correlation of the slopes for ions acquired in multiple datasets. As we analyzed two Metabolomics and two Lipidomics datasets, one can compare those separately."
   ]
  },
  {
   "cell_type": "code",
   "execution_count": null,
   "id": "d6dd7a13-c745-4377-b4bd-ca06c798fc5c",
   "metadata": {},
   "outputs": [],
   "source": [
    "import os\n",
    "import numpy as np\n",
    "import pandas as pd\n",
    "import scanpy as sc\n",
    "import seaborn as sns\n",
    "import re"
   ]
  },
  {
   "cell_type": "code",
   "execution_count": null,
   "id": "17147014-6a2d-4538-9517-57b2088d9086",
   "metadata": {},
   "outputs": [],
   "source": [
    "source_path = '/home/mklein/FDA_project/data'\n",
    "# datasets = [dir.name for dir in os.scandir(source_path) if dir.is_dir() and dir.name[0] != \".\" and dir.name[2] == \"_\"]\n",
    "datasets = ['Lx_Glioblastoma', 'Mx_Seahorse', 'Lx_Pancreatic_Cancer']"
   ]
  },
  {
   "cell_type": "code",
   "execution_count": null,
   "id": "b1868bf3-243e-4df6-b3b2-968e38b27e99",
   "metadata": {},
   "outputs": [],
   "source": [
    "adatas = {} \n",
    "for dset in datasets:\n",
    "    adata = sc.read(os.path.join(source_path, dset, 'corrected_batch_sm_matrix.h5ad'))\n",
    "    df = adata.var[['corrected_only_using_pool', 'mean_correction_quantreg_slope', 'sum_correction_using_ion_pool']]\n",
    "    adatas[dset] = df\n"
   ]
  },
  {
   "cell_type": "markdown",
   "id": "3a01772d-4fe0-4a11-9de2-31c6a1819ede",
   "metadata": {},
   "source": [
    "All slope information is loaded from the respective annotated data matrices. As the datasets usually consist of multiple wells, the reported correction slopes are mean values of the corresponding set of wells. Ions that were only corrected using the reference pool are excluded (one could be more strict by thresholding for a max. fraction of wells corrected by reference pool, e.g. 50%)."
   ]
  },
  {
   "cell_type": "code",
   "execution_count": null,
   "id": "f78a2ad2-17ba-4e45-83c3-fcffb97ff6eb",
   "metadata": {},
   "outputs": [],
   "source": [
    "df = pd.concat(adatas)\n",
    "df.index.names = ['dataset', 'ion']\n",
    "df.reset_index(inplace=True)\n",
    "df = df[df['corrected_only_using_pool'] == False]"
   ]
  },
  {
   "cell_type": "code",
   "execution_count": null,
   "id": "75501b52-0610-4823-92c5-4cff7d859a0b",
   "metadata": {},
   "outputs": [],
   "source": [
    "wide_df = df.pivot(index='ion', columns='dataset', values='mean_correction_quantreg_slope')\n",
    "# wide_df[\"ion\"] = \n",
    "wide_df[\"ion\"] = [re.sub(r\"([\\d\\w]+)[+-](\\w)+\", r\"\\1\", i) for i in wide_df.index]\n",
    "wide_df[\"adduct\"] = [re.sub(r\"([\\d\\w]+)([+-]\\w+)\", r\"\\2\", i) for i in wide_df.index]\n",
    "wide_df.value_counts(\"adduct\")"
   ]
  },
  {
   "cell_type": "code",
   "execution_count": null,
   "id": "572f9bda-0af0-47c0-a971-0d99ab081b8a",
   "metadata": {},
   "outputs": [],
   "source": [
    "sns.pairplot(wide_df)\n",
    "wide_df.corr(method=\"spearman\")"
   ]
  },
  {
   "cell_type": "markdown",
   "id": "8052f0ea-f8b1-4192-9f38-0511372b36ed",
   "metadata": {},
   "source": [
    "No metabolites were found in both Metabolomics datasets as the ions in the coculture set were only available as sum formulas without a specific adduct. All the other datasets use sum formulas with specific adducts. However, between the Lipidomics datasets, a number of ions overlap and their slopes have a positive correlation with Spearman r = 0.583. "
   ]
  },
  {
   "cell_type": "code",
   "execution_count": null,
   "id": "bcb4cf99-b37b-4f83-ad66-a701b5b965f5",
   "metadata": {},
   "outputs": [],
   "source": [
    "plt = sns.lmplot(wide_df[['Lx_Glioblastoma', 'Lx_Pancreatic_Cancer', 'adduct']], x='Lx_Pancreatic_Cancer', y='Lx_Glioblastoma', palette=\"cividis\")\n",
    "plt.set_axis_labels(\"correction slope (Pancreatic cancer)\", \"correction slope (Glioblastoma)\")\n",
    "wide_df[['Lx_Glioblastoma', 'Lx_Pancreatic_Cancer']].corr(method='spearman')"
   ]
  },
  {
   "cell_type": "code",
   "execution_count": null,
   "id": "61bff8ba-6dc5-439b-9ef5-a6ba23a531dc",
   "metadata": {},
   "outputs": [],
   "source": [
    "plt = sns.lmplot(wide_df[['Lx_Glioblastoma', 'Lx_Pancreatic_Cancer', 'adduct']], x='Lx_Pancreatic_Cancer', y='Lx_Glioblastoma', hue='adduct', col=\"adduct\", palette=\"cividis\")\n",
    "plt.set_axis_labels(\"correction slope (Pancreatic cancer)\", \"correction slope (Glioblastoma)\")\n",
    "wide_df[['Lx_Glioblastoma', 'Lx_Pancreatic_Cancer', 'adduct']].groupby('adduct').corr(method='spearman')"
   ]
  },
  {
   "cell_type": "markdown",
   "id": "112b7098-f72b-4fa1-b9aa-dd3d06b5e23a",
   "metadata": {},
   "source": [
    "In order to enable a comparison of the metabolites annotated in the Metabolomics datasets, one has to strip the adducts from the ions in the Seahorse dataset. However, due to the low number of metabolites annotated for the coculture dataset (58), still only a very small set of 8 jointly annotated metabolites can be found. The corresponding slopes do not show a positive correlation."
   ]
  },
  {
   "cell_type": "code",
   "execution_count": null,
   "id": "465245ba-b2cb-48a5-a92b-791df2cca9ad",
   "metadata": {},
   "outputs": [],
   "source": [
    "df[\"ion_stripped\"] = df['ion'].str.extract(r'([^-^+]+)')\n",
    "df_stripped = df.groupby(['dataset', 'ion_stripped']).mean(numeric_only=True).reset_index()"
   ]
  },
  {
   "cell_type": "code",
   "execution_count": null,
   "id": "5a2f4c26-20bc-4465-bd48-72de5984b63f",
   "metadata": {},
   "outputs": [],
   "source": [
    "wide_df_stripped = df_stripped.pivot(index='ion_stripped', columns='dataset', values='mean_correction_quantreg_slope')\n",
    "wide_df_stripped = wide_df_stripped.reset_index()"
   ]
  },
  {
   "cell_type": "code",
   "execution_count": null,
   "id": "fe375b6f-7e46-454f-b70e-8a351df1a39c",
   "metadata": {},
   "outputs": [],
   "source": [
    "sns.lmplot(wide_df_stripped[['Mx_Co_Cultured', 'Mx_Seahorse']], x='Mx_Co_Cultured', y='Mx_Seahorse')\n",
    "wide_df_stripped[['Mx_Co_Cultured', 'Mx_Seahorse']].corr(method='spearman')"
   ]
  },
  {
   "cell_type": "markdown",
   "id": "1b27766c-8dbf-4aa3-a0ae-9272cd3fad76",
   "metadata": {},
   "source": [
    "So far, only mean correction slopes were compared. As the different wells of a dataset are corrected separately, a comparison of all the individual correction slopes would be interesting as well. To this end, all slopes across wells and datasets are combined in one table and visualized using PCA (NaNs are replaced by 0). This shows that the wells within a dataset have much higher similarity than across datasets. Also, Lipidomics datasets tend to localize to the left and changing the correction parameter `correction_proportion_threshold` has relatively little effect on the slopes."
   ]
  },
  {
   "cell_type": "code",
   "execution_count": null,
   "id": "204277c1-3bd9-42f6-97e5-be174d56efe7",
   "metadata": {},
   "outputs": [],
   "source": [
    "all_adatas = {} \n",
    "for dset in datasets:\n",
    "    samples = [dir.name for dir in os.scandir(os.path.join(source_path, dset)) if dir.is_dir() and dir.name[0] != \".\"]\n",
    "    dset_adata = {}\n",
    "    for s in samples:\n",
    "        adata = sc.read(os.path.join(source_path, dset, s, 'cells_spatiomolecular_adata_corrected.h5ad'))\n",
    "        df = adata.var[['correction_full_pixel_avg_intensities', 'correction_n_datapoints', 'correction_n_iterations', \n",
    "                'correction_quantreg_intersect', 'correction_quantreg_slope', 'correction_using_ion_pool']]\n",
    "        dset_adata[s] = df\n",
    "    all_adatas[dset] = pd.concat(dset_adata)"
   ]
  },
  {
   "cell_type": "code",
   "execution_count": null,
   "id": "a2e8f741-cf4e-498f-9035-22e9df2b9413",
   "metadata": {},
   "outputs": [],
   "source": [
    "all_wells_df = pd.concat(all_adatas)\n",
    "all_wells_df"
   ]
  },
  {
   "cell_type": "code",
   "execution_count": null,
   "id": "17292c7c-88ae-4d53-9997-07645f4d79f7",
   "metadata": {},
   "outputs": [],
   "source": [
    "all_wells_df.index.names = ['dataset', 'well', 'ion']\n",
    "all_wells_df.reset_index(inplace=True)\n",
    "all_wells_df = all_wells_df[all_wells_df['correction_using_ion_pool'] == False]\n",
    "all_wells_df['set_well'] = all_wells_df['dataset'] +\"_\"+ all_wells_df['well']"
   ]
  },
  {
   "cell_type": "code",
   "execution_count": null,
   "id": "7399b117-a4d6-4821-a898-0fd11f8f74da",
   "metadata": {},
   "outputs": [],
   "source": [
    "all_wells_wide_df = all_wells_df.pivot(index='ion', columns=['dataset', 'well', 'set_well'], values='correction_quantreg_slope')\n",
    "pc_df = all_wells_wide_df.T.reset_index(['dataset', 'well'])\n",
    "pc_df"
   ]
  },
  {
   "cell_type": "code",
   "execution_count": null,
   "id": "92acf257-fa22-45fe-9958-49d9b639bbfe",
   "metadata": {},
   "outputs": [],
   "source": [
    "pc_df[all_wells_wide_df.index].replace(np.nan, 0)"
   ]
  },
  {
   "cell_type": "code",
   "execution_count": null,
   "id": "728d7789-f4e3-477d-9da9-1e7acb4e0b74",
   "metadata": {},
   "outputs": [],
   "source": [
    "from sklearn.decomposition import PCA\n",
    "pca = PCA(n_components=2)\n",
    "X = pc_df[all_wells_wide_df.index].replace(np.nan, 0)\n",
    "y = [i[:4] for i in list(pc_df['dataset'])]\n",
    "principalComponents = pca.fit_transform(X)\n",
    "principalDf = pd.DataFrame(data = principalComponents, columns = ['PC1', 'PC2'])\n",
    "principalDf.index = pc_df.index"
   ]
  },
  {
   "cell_type": "code",
   "execution_count": null,
   "id": "d500746a-09d3-4c69-9b1c-0ec61b3ffe48",
   "metadata": {},
   "outputs": [],
   "source": [
    "finalDf = pd.concat([principalDf, pc_df[['dataset', 'well']]], axis = 1)"
   ]
  },
  {
   "cell_type": "code",
   "execution_count": null,
   "id": "d1bbac62-283d-4c77-80aa-76607e4c118e",
   "metadata": {},
   "outputs": [],
   "source": [
    "sns.scatterplot(finalDf, x = 'PC1', y=\"PC2\", hue='dataset', palette = \"cividis\")"
   ]
  },
  {
   "cell_type": "code",
   "execution_count": null,
   "id": "92480148-dc1a-440b-bad9-1bdb2fcc7237",
   "metadata": {},
   "outputs": [],
   "source": [
    "pca.explained_variance_ratio_"
   ]
  },
  {
   "cell_type": "code",
   "execution_count": null,
   "id": "91930b49-339f-4907-a233-7ab9defc96f1",
   "metadata": {},
   "outputs": [],
   "source": [
    "from pca import pca\n",
    "# Initialize\n",
    "model = pca()\n",
    "# Fit transform\n",
    "out = model.fit_transform(X)\n",
    "\n",
    "# Print the top features. The results show that f1 is best, followed by f2 etc\n",
    "print(out['topfeat'])"
   ]
  },
  {
   "cell_type": "code",
   "execution_count": null,
   "id": "8abe63cd-e863-42b5-aed9-df4b24a2cbad",
   "metadata": {},
   "outputs": [],
   "source": [
    "#model.plot()\n",
    "ax = model.biplot(n_feat=20, legend=False)"
   ]
  }
 ],
 "metadata": {
  "kernelspec": {
   "display_name": "“ion_suppression_new”",
   "language": "python",
   "name": "ion_suppression"
  },
  "language_info": {
   "codemirror_mode": {
    "name": "ipython",
    "version": 3
   },
   "file_extension": ".py",
   "mimetype": "text/x-python",
   "name": "python",
   "nbconvert_exporter": "python",
   "pygments_lexer": "ipython3",
   "version": "3.10.8"
  }
 },
 "nbformat": 4,
 "nbformat_minor": 5
}
