{
 "cells": [
  {
   "cell_type": "markdown",
   "id": "a54f7839",
   "metadata": {
    "papermill": {
     "duration": 0.008232,
     "end_time": "2022-12-11T13:49:57.999895",
     "exception": false,
     "start_time": "2022-12-11T13:49:57.991663",
     "status": "completed"
    },
    "tags": []
   },
   "source": [
    "# Lx_Pancreatic_Cancer: Correction\n",
    "\n",
    "SpaceM datasets are usually stored as annotated data-matrices, separately for individual wells. With this notebooks, these individual files are corrected for ion suppression on the pixel-level and then deconvoluted to cell-level. All resulting files are saved separately by well to the target_path and the impact of the correction briefly shown for visual inspection."
   ]
  },
  {
   "cell_type": "code",
   "execution_count": null,
   "id": "edc2a658",
   "metadata": {
    "execution": {
     "iopub.execute_input": "2023-01-10T16:40:10.317886Z",
     "iopub.status.busy": "2023-01-10T16:40:10.317224Z",
     "iopub.status.idle": "2023-01-10T16:40:16.625244Z",
     "shell.execute_reply": "2023-01-10T16:40:16.624206Z"
    },
    "papermill": {
     "duration": 5.759665,
     "end_time": "2022-12-11T13:50:03.766570",
     "exception": false,
     "start_time": "2022-12-11T13:49:58.006905",
     "status": "completed"
    },
    "tags": []
   },
   "outputs": [],
   "source": [
    "import os\n",
    "import platform\n",
    "import scanpy as sc\n",
    "import pandas as pd\n",
    "import numpy as np\n",
    "import anndata as ad\n",
    "import statistics as st\n",
    "import multiprocessing\n",
    "from joblib import Parallel, delayed\n",
    "from tqdm import tqdm\n",
    "import statsmodels.formula.api as smf\n",
    "import seaborn as sns\n",
    "import re\n",
    "from importlib import reload\n",
    "import json\n",
    "import sys\n",
    "sys.path.append('/home/mklein/spacem')\n",
    "sys.path.append('/home/mklein/FDA_project')\n",
    "\n",
    "from src.correction import (add_normalization_factors, \n",
    "                            correct_quantile_inplace,\n",
    "                            deconvolution_spacem,\n",
    "                            get_overlap_data,\n",
    "                            add_overlap_matrix_spacem, \n",
    "                            get_reference_pool\n",
    "                           )\n",
    "from src import const \n",
    "from SpaceM.lib.modules import (\n",
    "    overlap_analysis,\n",
    "    single_cell_analysis_normalization\n",
    ")\n",
    "\n",
    "%matplotlib inline\n",
    "%config InlineBackend.figure_formats = ['retina']"
   ]
  },
  {
   "cell_type": "markdown",
   "id": "2af46363",
   "metadata": {
    "papermill": {
     "duration": 0.006553,
     "end_time": "2022-12-11T13:50:03.781135",
     "exception": false,
     "start_time": "2022-12-11T13:50:03.774582",
     "status": "completed"
    },
    "tags": []
   },
   "source": [
    "The original data lies on the groups shared data storage. Corrected files will be saved in a separate location, preserving the well-specific folder structure."
   ]
  },
  {
   "cell_type": "code",
   "execution_count": null,
   "id": "c902baaf",
   "metadata": {
    "execution": {
     "iopub.execute_input": "2023-01-10T16:40:16.630256Z",
     "iopub.status.busy": "2023-01-10T16:40:16.629526Z",
     "iopub.status.idle": "2023-01-10T16:40:16.634494Z",
     "shell.execute_reply": "2023-01-10T16:40:16.633723Z"
    },
    "papermill": {
     "duration": 0.02027,
     "end_time": "2022-12-11T13:50:03.807877",
     "exception": false,
     "start_time": "2022-12-11T13:50:03.787607",
     "status": "completed"
    },
    "tags": [
     "parameters"
    ]
   },
   "outputs": [],
   "source": [
    "if platform.system() == \"Darwin\":\n",
    "    source_path = '/Volumes/alexandr/smenon/2022-07-13_Glioblastoma/processed_files'\n",
    "    target_path = '/Volumes/mklein/FDA_project/data/Lx_Glioblastoma'\n",
    "else:\n",
    "    source_path = '/g/alexandr/smenon/2022-07-13_Glioblastoma/processed_files'\n",
    "    target_path = '/home/mklein/FDA_project/data/Lx_Glioblastoma'\n",
    "    \n",
    "\n",
    "deconv_default_min_overlap = 0.0\n",
    "correction_proportion_threshold = 0.1"
   ]
  },
  {
   "cell_type": "code",
   "execution_count": null,
   "id": "d09c2535",
   "metadata": {
    "execution": {
     "iopub.execute_input": "2023-01-10T16:40:16.638467Z",
     "iopub.status.busy": "2023-01-10T16:40:16.637948Z",
     "iopub.status.idle": "2023-01-10T16:40:16.642446Z",
     "shell.execute_reply": "2023-01-10T16:40:16.641699Z"
    },
    "papermill": {
     "duration": 0.017109,
     "end_time": "2022-12-11T13:50:03.831253",
     "exception": false,
     "start_time": "2022-12-11T13:50:03.814144",
     "status": "completed"
    },
    "tags": [
     "injected-parameters"
    ]
   },
   "outputs": [],
   "source": [
    "# Parameters\n",
    "source_path = \"/home/mklein/Raw Data/2022-01-31_PancreaticCancer\"\n",
    "target_path = \"/home/mklein/FDA_project/data/Lx_Pancreatic_Cancer\"\n",
    "condition_name = \"condition\"\n",
    "well_name = \"slide_well\"\n",
    "analysis_path = \"/home/mklein/FDA_project/analysis/Lx_Pancreatic_Cancer\"\n",
    "notebooks = [\n",
    "    \"pipeline_01_correction.ipynb\",\n",
    "    \"pipeline_02_processing.ipynb\",\n",
    "    \"pipeline_03_evaluation.ipynb\",\n",
    "]\n",
    "project = \"Lx_Pancreatic_Cancer\"\n"
   ]
  },
  {
   "cell_type": "code",
   "execution_count": null,
   "id": "0a5bcefe",
   "metadata": {
    "execution": {
     "iopub.execute_input": "2023-01-10T16:40:16.646425Z",
     "iopub.status.busy": "2023-01-10T16:40:16.645811Z",
     "iopub.status.idle": "2023-01-10T16:40:17.085111Z",
     "shell.execute_reply": "2023-01-10T16:40:17.084125Z"
    },
    "papermill": {
     "duration": 0.800912,
     "end_time": "2022-12-11T13:50:04.637743",
     "exception": false,
     "start_time": "2022-12-11T13:50:03.836831",
     "status": "completed"
    },
    "tags": []
   },
   "outputs": [],
   "source": [
    "samples = []\n",
    "for dirpath, dirnames, filenames in os.walk(source_path):\n",
    "        if 'analysis' in dirnames:\n",
    "            samples.append(re.sub(source_path+'/?', '', dirpath))\n",
    "samples"
   ]
  },
  {
   "cell_type": "code",
   "execution_count": null,
   "id": "90642b6d",
   "metadata": {
    "execution": {
     "iopub.execute_input": "2023-01-10T16:40:17.089104Z",
     "iopub.status.busy": "2023-01-10T16:40:17.088713Z",
     "iopub.status.idle": "2023-01-10T16:40:17.093320Z",
     "shell.execute_reply": "2023-01-10T16:40:17.092550Z"
    },
    "papermill": {
     "duration": 0.017221,
     "end_time": "2022-12-11T13:50:04.662996",
     "exception": false,
     "start_time": "2022-12-11T13:50:04.645775",
     "status": "completed"
    },
    "tags": []
   },
   "outputs": [],
   "source": [
    "files = {\n",
    "        'config': '../config.json',\n",
    "        'sm_matrix': 'ablation_mark_analysis/spatiomolecular_adata.h5ad',\n",
    "        'overlap_regions': 'overlap_analysis2/overlap.regions.csv',\n",
    "        'mark_regions': 'overlap_analysis2/ablation_mark.regions.csv',\n",
    "        'cell_regions': 'overlap_analysis2/cell.regions.csv',\n",
    "        'cell_sm_matrix': 'single_cell_analysis/spatiomolecular_adata.h5ad',\n",
    "    }"
   ]
  },
  {
   "cell_type": "code",
   "execution_count": null,
   "id": "5b198fa1",
   "metadata": {
    "execution": {
     "iopub.execute_input": "2023-01-10T16:40:17.097291Z",
     "iopub.status.busy": "2023-01-10T16:40:17.096651Z",
     "iopub.status.idle": "2023-01-10T16:40:17.103389Z",
     "shell.execute_reply": "2023-01-10T16:40:17.102554Z"
    },
    "papermill": {
     "duration": 0.019683,
     "end_time": "2022-12-11T13:50:04.689577",
     "exception": false,
     "start_time": "2022-12-11T13:50:04.669894",
     "status": "completed"
    },
    "tags": []
   },
   "outputs": [],
   "source": [
    "def assign_average_tpo(am_adata, overlap_data, min_overlap, method=np.mean):\n",
    "    if min_overlap is None:\n",
    "        min_overlap = 0\n",
    "    \n",
    "    overlap = overlap_data.overlap_regions\n",
    "    overlap['am_id'] = overlap['am_id'].astype(str)\n",
    "    overlap['cell_id'] = overlap['cell_id'].astype(str)\n",
    "    merged_df = pd.merge(overlap[['am_id', 'cell_id']], am_adata.obs[const.TPO], left_on='am_id', right_index=True)\n",
    "    merged_df = merged_df[merged_df[const.TPO] >= min_overlap]\n",
    "    \n",
    "    mean_df = merged_df[['cell_id', 'correction_total_pixel_overlap']].groupby('cell_id', group_keys=False).agg(method)\n",
    "#     mean_df = merged_df[['cell_id', 'correction_total_pixel_overlap']].groupby('cell_id', group_keys=False).agg(lambda x: method(x))\n",
    "    return mean_df[const.TPO]"
   ]
  },
  {
   "cell_type": "code",
   "execution_count": null,
   "id": "e7c8bc4e",
   "metadata": {
    "execution": {
     "iopub.execute_input": "2023-01-10T16:40:17.107286Z",
     "iopub.status.busy": "2023-01-10T16:40:17.106790Z",
     "iopub.status.idle": "2023-01-10T16:40:17.121199Z",
     "shell.execute_reply": "2023-01-10T16:40:17.120437Z"
    },
    "papermill": {
     "duration": 0.028244,
     "end_time": "2022-12-11T13:50:04.724280",
     "exception": false,
     "start_time": "2022-12-11T13:50:04.696036",
     "status": "completed"
    },
    "tags": []
   },
   "outputs": [],
   "source": [
    "def correct_sample_spacem(sample):\n",
    "    \n",
    "    sample_path = os.path.join(source_path, sample, \"analysis\")\n",
    "    sample = re.sub('/', '_', sample)\n",
    "    \n",
    "    if not os.path.exists(os.path.join(target_path, sample)):\n",
    "        os.makedirs(os.path.join(target_path, sample))\n",
    "\n",
    "    # get appropriate file paths for the processed well\n",
    "    project_files = {k: os.path.join(sample_path, v) for k, v in files.items()}\n",
    "\n",
    "    if os.path.exists(project_files['config']):\n",
    "        with open(project_files['config']) as json_file:\n",
    "            data = json.load(json_file)\n",
    "        deconv_info = data['single_cell_analysis']\n",
    "        if deconv_info['ablation_marks_min_overlap_ratio'] is None:\n",
    "            deconv_info['ablation_marks_min_overlap_ratio'] = deconv_default_min_overlap\n",
    "    else:\n",
    "        deconv_info = None\n",
    "        print('No well config file found. Using default deconvolution parameters.')\n",
    "    # load required files\n",
    "    cell_regions = pd.read_csv(project_files['cell_regions'])\n",
    "    mark_regions = pd.read_csv(project_files['mark_regions'])\n",
    "    overlap_regions = pd.read_csv(project_files['overlap_regions'])\n",
    "    \n",
    "    sm_matrix = sc.read(os.path.join(sample_path, files['sm_matrix']))\n",
    "    cell_sm_matrix = sc.read(os.path.join(sample_path, files['cell_sm_matrix']))\n",
    "       \n",
    "    add_overlap_matrix_spacem(sm_matrix, cell_regions, mark_regions, overlap_regions)\n",
    "    \n",
    "    add_normalization_factors(adata=sm_matrix, method=st.median)\n",
    "\n",
    "    # perform the actual quantile regression\n",
    "    corr_sm_matrix = correct_quantile_inplace(adata=sm_matrix, \n",
    "        reference_ions = get_reference_pool(sm_matrix), \n",
    "        correct_intersect = True,\n",
    "        n_jobs=6)\n",
    "    \n",
    "    # perform pixel-cell-deconvolution\n",
    "    overlap_data = get_overlap_data(cell_regions, mark_regions, overlap_regions)\n",
    "    corr_cell_sm_matrix = deconvolution_spacem(adata=corr_sm_matrix, \n",
    "        overlap_data=overlap_data,\n",
    "        raw_adata=cell_sm_matrix,\n",
    "        deconvolution_params=deconv_info)\n",
    "    gen_cell_sm_matrix = deconvolution_spacem(adata=sm_matrix,\n",
    "        overlap_data=overlap_data,\n",
    "        raw_adata=cell_sm_matrix,\n",
    "        deconvolution_params=deconv_info)\n",
    "    \n",
    "    # hand over TPOs to spatiomolecular matrix for downstream analysis\n",
    "    min_overlap = deconv_info['ablation_marks_min_overlap_ratio']\n",
    "    corr_cell_sm_matrix.obs['list_TPO'] = assign_average_tpo(sm_matrix, overlap_data, min_overlap, method=lambda x: \";\".join(x.astype(str)))\n",
    "    gen_cell_sm_matrix.obs['list_TPO'] = assign_average_tpo(sm_matrix, overlap_data, min_overlap, method=lambda x: \";\".join(x.astype(str)))\n",
    "    \n",
    "    # write the generated files to the dedicated project location.\n",
    "    corr_sm_matrix.write(os.path.join(target_path, sample, 'am_spatiomolecular_adata_corrected.h5ad'))\n",
    "    sm_matrix.write(os.path.join(target_path, sample, 'am_spatiomolecular_adata.h5ad'))\n",
    "    corr_cell_sm_matrix.write(os.path.join(target_path, sample, 'cells_spatiomolecular_adata_corrected.h5ad'))\n",
    "    cell_sm_matrix.write(os.path.join(target_path, sample, 'cells_spatiomolecular_adata_spacem.h5ad'))\n",
    "    gen_cell_sm_matrix.write(os.path.join(target_path, sample, 'cells_spatiomolecular_adata.h5ad'))\n",
    "    \n",
    "    return (sample, cell_sm_matrix, corr_cell_sm_matrix, sm_matrix, corr_sm_matrix, deconv_info)"
   ]
  },
  {
   "cell_type": "markdown",
   "id": "2c75dc00",
   "metadata": {
    "papermill": {
     "duration": 0.00576,
     "end_time": "2022-12-11T13:50:04.735878",
     "exception": false,
     "start_time": "2022-12-11T13:50:04.730118",
     "status": "completed"
    },
    "tags": []
   },
   "source": [
    "This is the actual correction pipeline."
   ]
  },
  {
   "cell_type": "code",
   "execution_count": null,
   "id": "916b6d2c",
   "metadata": {
    "execution": {
     "iopub.execute_input": "2023-01-10T16:40:17.125258Z",
     "iopub.status.busy": "2023-01-10T16:40:17.124760Z",
     "iopub.status.idle": "2023-01-10T16:44:52.432687Z",
     "shell.execute_reply": "2023-01-10T16:44:52.431703Z"
    },
    "papermill": {
     "duration": 173.468438,
     "end_time": "2022-12-11T13:52:58.210189",
     "exception": false,
     "start_time": "2022-12-11T13:50:04.741751",
     "status": "completed"
    },
    "tags": []
   },
   "outputs": [],
   "source": [
    "adata_list = Parallel(n_jobs=7)(delayed(correct_sample_spacem)(sample) for sample in tqdm(samples))\n",
    "# adata_list = [correct_sample_spacem(sample) for sample in tqdm(samples[0])]"
   ]
  },
  {
   "cell_type": "code",
   "execution_count": null,
   "id": "898d3fa9",
   "metadata": {
    "execution": {
     "iopub.execute_input": "2023-01-10T16:44:52.437380Z",
     "iopub.status.busy": "2023-01-10T16:44:52.437000Z",
     "iopub.status.idle": "2023-01-10T16:44:54.329772Z",
     "shell.execute_reply": "2023-01-10T16:44:54.328707Z"
    },
    "papermill": {
     "duration": 8.561953,
     "end_time": "2022-12-11T13:53:06.782524",
     "exception": false,
     "start_time": "2022-12-11T13:52:58.220571",
     "status": "completed"
    },
    "tags": []
   },
   "outputs": [],
   "source": [
    "# reshape data for immediate analysis\n",
    "am_adata_dict = {item[0]: item[3] for item in adata_list}\n",
    "am_adata_cor_dict = {item[0]: item[4] for item in adata_list}\n",
    "adata_dict = {item[0]: item[1] for item in adata_list}\n",
    "adata_cor_dict = {item[0]: item[2] for item in adata_list}\n",
    "\n",
    "am_adata = ad.concat(am_adata_dict, label='well', index_unique=\"_\", merge=\"first\")\n",
    "am_adata_cor = ad.concat(am_adata_cor_dict, label='well', index_unique=\"_\", merge='first')\n",
    "adata = ad.concat(adata_dict, label='well', index_unique=\"_\", merge=\"first\")\n",
    "adata_cor = ad.concat(adata_cor_dict, label='well', index_unique=\"_\", merge=\"first\")\n",
    "\n",
    "deconv_dict = {item[0]: item[5] for item in adata_list}\n",
    "deconv_table = pd.DataFrame(deconv_dict).T\n",
    "deconv_table"
   ]
  },
  {
   "cell_type": "markdown",
   "id": "cf7de639",
   "metadata": {
    "papermill": {
     "duration": 0.009232,
     "end_time": "2022-12-11T13:53:06.802665",
     "exception": false,
     "start_time": "2022-12-11T13:53:06.793433",
     "status": "completed"
    },
    "tags": []
   },
   "source": [
    "The ion suppression correction takes a parameter proportion_threshold to filter the pixels used to compute quantile regression. In particular, pixels with a sampling proportion lower than the threshold are excluded for this step. In contrast, the actual correction is then performed on all pixels in the dataset. As a consequence, for the majority of the dataset, the dependence of the data on the factor \"sampling_proportion\" is not completely removed by the correction. Instead, depending on the difference in slope between the complete and thresholded set of pixels, the corrected set of pixels has a positive or negative dependence on the factor \"sampling_proportion\". The larger the proportion_threshold, the stronger this deviation can get.\n",
    "\n",
    "In the following figure, these differences are visualized for a subset of ions (with very low/high correction slope) and wells. The top panel shows the logarithmic ion intensity/proportion ratio plotted against the log proportion ratio of the respective pixels. As this is the relationship used to compute the quantile regression, the resulting regression lines can also be shown. The black lines show the quantile regression of the total set of pixels in a well, the red lines for the thresholded set (shown as orange squares). In turn, the blue squares are disregarded in calculating the correction slope. The bottom panel shows the corresponding corrected sets of pixels with black lines again representing the quantile regression on the complete set of pixels."
   ]
  },
  {
   "cell_type": "code",
   "execution_count": null,
   "id": "15c096d1",
   "metadata": {
    "execution": {
     "iopub.execute_input": "2023-01-10T16:44:54.334720Z",
     "iopub.status.busy": "2023-01-10T16:44:54.334051Z",
     "iopub.status.idle": "2023-01-10T16:44:54.338732Z",
     "shell.execute_reply": "2023-01-10T16:44:54.337937Z"
    },
    "papermill": {
     "duration": 0.022978,
     "end_time": "2022-12-11T13:53:06.834938",
     "exception": false,
     "start_time": "2022-12-11T13:53:06.811960",
     "status": "completed"
    },
    "tags": []
   },
   "outputs": [],
   "source": [
    "import warnings\n",
    "warnings.filterwarnings('ignore')"
   ]
  },
  {
   "cell_type": "code",
   "execution_count": null,
   "id": "f9d5c6c3",
   "metadata": {
    "execution": {
     "iopub.execute_input": "2023-01-10T16:44:54.342806Z",
     "iopub.status.busy": "2023-01-10T16:44:54.342303Z",
     "iopub.status.idle": "2023-01-10T16:44:54.358191Z",
     "shell.execute_reply": "2023-01-10T16:44:54.357302Z"
    },
    "papermill": {
     "duration": 0.038303,
     "end_time": "2022-12-11T13:53:06.881196",
     "exception": false,
     "start_time": "2022-12-11T13:53:06.842893",
     "status": "completed"
    },
    "tags": []
   },
   "outputs": [],
   "source": [
    "am_adata.obs[const.TPO] = am_adata_cor.obs[const.TPO]"
   ]
  },
  {
   "cell_type": "code",
   "execution_count": null,
   "id": "17d8f863",
   "metadata": {
    "execution": {
     "iopub.execute_input": "2023-01-10T16:44:54.362115Z",
     "iopub.status.busy": "2023-01-10T16:44:54.361801Z",
     "iopub.status.idle": "2023-01-10T16:45:08.097947Z",
     "shell.execute_reply": "2023-01-10T16:45:08.097042Z"
    },
    "papermill": {
     "duration": 17.08151,
     "end_time": "2022-12-11T13:53:23.970837",
     "exception": false,
     "start_time": "2022-12-11T13:53:06.889327",
     "status": "completed"
    },
    "tags": []
   },
   "outputs": [],
   "source": [
    "from src.evaluation import compare_pre_post_correction\n",
    "compare_pre_post_correction(am_adata, am_adata_cor, proportion_threshold=correction_proportion_threshold)"
   ]
  }
 ],
 "metadata": {
  "kernelspec": {
   "display_name": "Python 3 (ipykernel)",
   "language": "python",
   "name": "python3"
  },
  "language_info": {
   "codemirror_mode": {
    "name": "ipython",
    "version": 3
   },
   "file_extension": ".py",
   "mimetype": "text/x-python",
   "name": "python",
   "nbconvert_exporter": "python",
   "pygments_lexer": "ipython3",
   "version": "3.10.6"
  },
  "papermill": {
   "default_parameters": {},
   "duration": 212.504498,
   "end_time": "2022-12-11T13:53:28.136048",
   "environment_variables": {},
   "exception": null,
   "input_path": "/home/mklein/FDA_project/pipeline_01_correction.ipynb",
   "output_path": "/home/mklein/FDA_project/analysis/Lx_Pancreatic_Cancer/pipeline_01_correction.ipynb",
   "parameters": {
    "analysis_path": "/home/mklein/FDA_project/analysis/Lx_Pancreatic_Cancer",
    "condition_name": "condition",
    "notebooks": [
     "pipeline_01_correction.ipynb",
     "pipeline_02_processing.ipynb",
     "pipeline_03_evaluation.ipynb"
    ],
    "project": "Lx_Pancreatic_Cancer",
    "source_path": "/home/mklein/Raw Data/2022-01-31_PancreaticCancer",
    "target_path": "/home/mklein/FDA_project/data/Lx_Pancreatic_Cancer",
    "well_name": "slide_well"
   },
   "start_time": "2022-12-11T13:49:55.631550",
   "version": "2.3.4"
  },
  "vscode": {
   "interpreter": {
    "hash": "89b4449ee30f46b148fb6825d70934bcbb1ebdb6d5b2015fe3835362773c7289"
   }
  }
 },
 "nbformat": 4,
 "nbformat_minor": 5
}
