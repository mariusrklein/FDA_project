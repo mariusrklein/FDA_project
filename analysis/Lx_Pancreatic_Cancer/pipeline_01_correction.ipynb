{
 "cells": [
  {
   "cell_type": "markdown",
   "id": "a54f7839",
   "metadata": {
    "papermill": {
     "duration": 0.00626,
     "end_time": "2023-01-15T17:29:26.368855",
     "exception": false,
     "start_time": "2023-01-15T17:29:26.362595",
     "status": "completed"
    },
    "tags": []
   },
   "source": [
    "# Lx_Pancreatic_Cancer: Correction\n",
    "\n",
    "SpaceM datasets are usually stored as annotated data-matrices, separately for individual wells. With this notebooks, these individual files are corrected for ion suppression on the pixel-level and then deconvoluted to cell-level. All resulting files are saved separately by well to the target_path and the impact of the correction briefly shown for visual inspection."
   ]
  },
  {
   "cell_type": "code",
   "execution_count": null,
   "id": "edc2a658",
   "metadata": {
    "papermill": {
     "duration": 5.192635,
     "end_time": "2023-01-15T17:29:31.567075",
     "exception": false,
     "start_time": "2023-01-15T17:29:26.374440",
     "status": "completed"
    },
    "tags": []
   },
   "outputs": [],
   "source": [
    "import os\n",
    "import platform\n",
    "import scanpy as sc\n",
    "import pandas as pd\n",
    "import numpy as np\n",
    "import anndata as ad\n",
    "import statistics as st\n",
    "import multiprocessing\n",
    "from joblib import Parallel, delayed\n",
    "from tqdm import tqdm\n",
    "import statsmodels.formula.api as smf\n",
    "import seaborn as sns\n",
    "import re\n",
    "from importlib import reload\n",
    "import json\n",
    "import sys\n",
    "sys.path.append('/home/mklein/spacem')\n",
    "sys.path.append('/home/mklein/FDA_project')\n",
    "\n",
    "from src.correction import (add_normalization_factors, \n",
    "                            correct_quantile_inplace,\n",
    "                            deconvolution_spacem,\n",
    "                            get_overlap_data,\n",
    "                            add_overlap_matrix_spacem, \n",
    "                            get_reference_pool\n",
    "                           )\n",
    "from src import const \n",
    "from SpaceM.lib.modules import (\n",
    "    overlap_analysis,\n",
    "    single_cell_analysis_normalization\n",
    ")\n",
    "\n",
    "%matplotlib inline\n",
    "%config InlineBackend.figure_formats = ['retina']"
   ]
  },
  {
   "cell_type": "markdown",
   "id": "2af46363",
   "metadata": {
    "papermill": {
     "duration": 0.005233,
     "end_time": "2023-01-15T17:29:31.578159",
     "exception": false,
     "start_time": "2023-01-15T17:29:31.572926",
     "status": "completed"
    },
    "tags": []
   },
   "source": [
    "The original data lies on the groups shared data storage. Corrected files will be saved in a separate location, preserving the well-specific folder structure."
   ]
  },
  {
   "cell_type": "code",
   "execution_count": null,
   "id": "c902baaf",
   "metadata": {
    "papermill": {
     "duration": 0.014571,
     "end_time": "2023-01-15T17:29:31.598108",
     "exception": false,
     "start_time": "2023-01-15T17:29:31.583537",
     "status": "completed"
    },
    "tags": [
     "parameters"
    ]
   },
   "outputs": [],
   "source": [
    "if platform.system() == \"Darwin\":\n",
    "    source_path = '/Volumes/alexandr/smenon/2022-07-13_Glioblastoma/processed_files'\n",
    "    target_path = '/Volumes/mklein/FDA_project/data/Lx_Glioblastoma'\n",
    "else:\n",
    "    source_path = '/g/alexandr/smenon/2022-07-13_Glioblastoma/processed_files'\n",
    "    target_path = '/home/mklein/FDA_project/data/Lx_Glioblastoma'\n",
    "    \n",
    "\n",
    "deconv_default_min_overlap = 0.0\n",
    "correction_proportion_threshold = 0.01"
   ]
  },
  {
   "cell_type": "code",
   "execution_count": null,
   "id": "d09c2535",
   "metadata": {
    "papermill": {
     "duration": 0.014485,
     "end_time": "2023-01-15T17:29:31.618264",
     "exception": false,
     "start_time": "2023-01-15T17:29:31.603779",
     "status": "completed"
    },
    "tags": [
     "injected-parameters"
    ]
   },
   "outputs": [],
   "source": [
    "# Parameters\n",
    "source_path = \"/home/mklein/Raw Data/2022-01-31_PancreaticCancer\"\n",
    "target_path = \"/home/mklein/FDA_project/data/Lx_Pancreatic_Cancer\"\n",
    "condition_name = \"condition\"\n",
    "well_name = \"slide_well\"\n",
    "analysis_path = \"/home/mklein/FDA_project/analysis/Lx_Pancreatic_Cancer\"\n",
    "notebooks = [\n",
    "    \"pipeline_01_correction.ipynb\",\n",
    "    \"pipeline_02_processing.ipynb\",\n",
    "    \"pipeline_03_evaluation.ipynb\",\n",
    "]\n",
    "project = \"Lx_Pancreatic_Cancer\"\n"
   ]
  },
  {
   "cell_type": "code",
   "execution_count": null,
   "id": "0a5bcefe",
   "metadata": {
    "papermill": {
     "duration": 0.30184,
     "end_time": "2023-01-15T17:29:31.926239",
     "exception": false,
     "start_time": "2023-01-15T17:29:31.624399",
     "status": "completed"
    },
    "tags": []
   },
   "outputs": [],
   "source": [
    "samples = []\n",
    "for dirpath, dirnames, filenames in os.walk(source_path):\n",
    "        if 'analysis' in dirnames:\n",
    "            samples.append(re.sub(source_path+'/?', '', dirpath))\n",
    "samples"
   ]
  },
  {
   "cell_type": "code",
   "execution_count": null,
   "id": "90642b6d",
   "metadata": {
    "papermill": {
     "duration": 0.014343,
     "end_time": "2023-01-15T17:29:31.946836",
     "exception": false,
     "start_time": "2023-01-15T17:29:31.932493",
     "status": "completed"
    },
    "tags": []
   },
   "outputs": [],
   "source": [
    "files = {\n",
    "        'config': '../config.json',\n",
    "        'sm_matrix': 'ablation_mark_analysis/spatiomolecular_adata.h5ad',\n",
    "        'overlap_regions': 'overlap_analysis2/overlap.regions.csv',\n",
    "        'mark_regions': 'overlap_analysis2/ablation_mark.regions.csv',\n",
    "        'cell_regions': 'overlap_analysis2/cell.regions.csv',\n",
    "        'cell_sm_matrix': 'single_cell_analysis/spatiomolecular_adata.h5ad',\n",
    "    }"
   ]
  },
  {
   "cell_type": "code",
   "execution_count": null,
   "id": "803e1ca6-8a40-42a7-9f69-b0e8a6ab76b4",
   "metadata": {},
   "outputs": [],
   "source": [
    "sns.histplot(sc.read(os.path.join(os.path.join(source_path, samples[0], \"analysis\"), files['sm_matrix'])).obs['am_area'])"
   ]
  },
  {
   "cell_type": "code",
   "execution_count": null,
   "id": "5b198fa1",
   "metadata": {
    "execution": {
     "iopub.execute_input": "2023-01-15T17:29:31.960406Z",
     "iopub.status.busy": "2023-01-15T17:29:31.959772Z",
     "iopub.status.idle": "2023-01-15T17:29:31.968442Z",
     "shell.execute_reply": "2023-01-15T17:29:31.967514Z"
    },
    "papermill": {
     "duration": 0.017761,
     "end_time": "2023-01-15T17:29:31.970613",
     "exception": false,
     "start_time": "2023-01-15T17:29:31.952852",
     "status": "completed"
    },
    "tags": []
   },
   "outputs": [],
   "source": [
    "def assign_average_tpo(am_adata, overlap_data, min_overlap, method=np.mean):\n",
    "    if min_overlap is None:\n",
    "        min_overlap = 0\n",
    "    \n",
    "    overlap = overlap_data.overlap_regions\n",
    "    overlap['am_id'] = overlap['am_id'].astype(str)\n",
    "    overlap['cell_id'] = overlap['cell_id'].astype(str)\n",
    "    merged_df = pd.merge(overlap[['am_id', 'cell_id']], am_adata.obs[const.TPO], left_on='am_id', right_index=True)\n",
    "    merged_df = merged_df[merged_df[const.TPO] >= min_overlap]\n",
    "    \n",
    "    mean_df = merged_df[['cell_id', 'correction_total_pixel_overlap']].groupby('cell_id', group_keys=False).agg(method)\n",
    "#     mean_df = merged_df[['cell_id', 'correction_total_pixel_overlap']].groupby('cell_id', group_keys=False).agg(lambda x: method(x))\n",
    "    return mean_df[const.TPO]"
   ]
  },
  {
   "cell_type": "code",
   "execution_count": null,
   "id": "e7c8bc4e",
   "metadata": {
    "execution": {
     "iopub.execute_input": "2023-01-15T17:29:31.983602Z",
     "iopub.status.busy": "2023-01-15T17:29:31.983004Z",
     "iopub.status.idle": "2023-01-15T17:29:32.098932Z",
     "shell.execute_reply": "2023-01-15T17:29:32.097953Z"
    },
    "papermill": {
     "duration": 0.124663,
     "end_time": "2023-01-15T17:29:32.100987",
     "exception": false,
     "start_time": "2023-01-15T17:29:31.976324",
     "status": "completed"
    },
    "tags": []
   },
   "outputs": [],
   "source": [
    "def correct_sample_spacem(sample):\n",
    "    \n",
    "    sample_path = os.path.join(source_path, sample, \"analysis\")\n",
    "    sample = re.sub('/', '_', sample)\n",
    "    \n",
    "    if not os.path.exists(os.path.join(target_path, sample)):\n",
    "        os.makedirs(os.path.join(target_path, sample))\n",
    "\n",
    "    # get appropriate file paths for the processed well\n",
    "    project_files = {k: os.path.join(sample_path, v) for k, v in files.items()}\n",
    "\n",
    "    if os.path.exists(project_files['config']):\n",
    "        with open(project_files['config']) as json_file:\n",
    "            data = json.load(json_file)\n",
    "        deconv_info = data['single_cell_analysis']\n",
    "        if deconv_info['ablation_marks_min_overlap_ratio'] is None:\n",
    "            deconv_info['ablation_marks_min_overlap_ratio'] = deconv_default_min_overlap\n",
    "    else:\n",
    "        deconv_info = None\n",
    "        print('No well config file found. Using default deconvolution parameters.')\n",
    "    # load required files\n",
    "    cell_regions = pd.read_csv(project_files['cell_regions'])\n",
    "    mark_regions = pd.read_csv(project_files['mark_regions'])\n",
    "    overlap_regions = pd.read_csv(project_files['overlap_regions'])\n",
    "    \n",
    "    sm_matrix = sc.read(os.path.join(sample_path, files['sm_matrix']))\n",
    "    cell_sm_matrix = sc.read(os.path.join(sample_path, files['cell_sm_matrix']))\n",
    "       \n",
    "    add_overlap_matrix_spacem(sm_matrix, cell_regions, mark_regions, overlap_regions)\n",
    "    \n",
    "    add_normalization_factors(adata=sm_matrix, method=st.median)\n",
    "\n",
    "    # perform the actual quantile regression\n",
    "    corr_sm_matrix = correct_quantile_inplace(adata=sm_matrix, \n",
    "        reference_ions = get_reference_pool(sm_matrix), \n",
    "        correct_intersect = True,\n",
    "        n_jobs=6)\n",
    "    \n",
    "    # perform pixel-cell-deconvolution\n",
    "    overlap_data = get_overlap_data(cell_regions, mark_regions, overlap_regions)\n",
    "    corr_cell_sm_matrix = deconvolution_spacem(adata=corr_sm_matrix, \n",
    "        overlap_data=overlap_data,\n",
    "        raw_adata=cell_sm_matrix,\n",
    "        deconvolution_params=deconv_info)\n",
    "    gen_cell_sm_matrix = deconvolution_spacem(adata=sm_matrix,\n",
    "        overlap_data=overlap_data,\n",
    "        raw_adata=cell_sm_matrix,\n",
    "        deconvolution_params=deconv_info)\n",
    "    \n",
    "    # hand over TPOs to spatiomolecular matrix for downstream analysis\n",
    "    min_overlap = deconv_info['ablation_marks_min_overlap_ratio']\n",
    "    corr_cell_sm_matrix.obs['list_TPO'] = assign_average_tpo(sm_matrix, overlap_data, min_overlap, method=lambda x: \";\".join(x.astype(str)))\n",
    "    gen_cell_sm_matrix.obs['list_TPO'] = assign_average_tpo(sm_matrix, overlap_data, min_overlap, method=lambda x: \";\".join(x.astype(str)))\n",
    "    \n",
    "    # write the generated files to the dedicated project location.\n",
    "    corr_sm_matrix.write(os.path.join(target_path, sample, 'am_spatiomolecular_adata_corrected.h5ad'))\n",
    "    sm_matrix.write(os.path.join(target_path, sample, 'am_spatiomolecular_adata.h5ad'))\n",
    "    corr_cell_sm_matrix.write(os.path.join(target_path, sample, 'cells_spatiomolecular_adata_corrected.h5ad'))\n",
    "    cell_sm_matrix.write(os.path.join(target_path, sample, 'cells_spatiomolecular_adata_spacem.h5ad'))\n",
    "    gen_cell_sm_matrix.write(os.path.join(target_path, sample, 'cells_spatiomolecular_adata.h5ad'))\n",
    "    \n",
    "    return (sample, cell_sm_matrix, corr_cell_sm_matrix, sm_matrix, corr_sm_matrix, deconv_info)"
   ]
  },
  {
   "cell_type": "markdown",
   "id": "2c75dc00",
   "metadata": {
    "papermill": {
     "duration": 0.005788,
     "end_time": "2023-01-15T17:29:32.113341",
     "exception": false,
     "start_time": "2023-01-15T17:29:32.107553",
     "status": "completed"
    },
    "tags": []
   },
   "source": [
    "This is the actual correction pipeline."
   ]
  },
  {
   "cell_type": "code",
   "execution_count": null,
   "id": "916b6d2c",
   "metadata": {
    "execution": {
     "iopub.execute_input": "2023-01-15T17:29:32.126841Z",
     "iopub.status.busy": "2023-01-15T17:29:32.126023Z",
     "iopub.status.idle": "2023-01-15T17:34:55.593996Z",
     "shell.execute_reply": "2023-01-15T17:34:55.592861Z"
    },
    "papermill": {
     "duration": 323.483392,
     "end_time": "2023-01-15T17:34:55.602692",
     "exception": false,
     "start_time": "2023-01-15T17:29:32.119300",
     "status": "completed"
    },
    "tags": []
   },
   "outputs": [],
   "source": [
    "adata_list = Parallel(n_jobs=7)(delayed(correct_sample_spacem)(sample) for sample in tqdm(samples))\n",
    "# adata_list = [correct_sample_spacem(sample) for sample in tqdm(samples[0])]"
   ]
  },
  {
   "cell_type": "code",
   "execution_count": null,
   "id": "898d3fa9",
   "metadata": {
    "execution": {
     "iopub.execute_input": "2023-01-15T17:34:55.619510Z",
     "iopub.status.busy": "2023-01-15T17:34:55.618457Z",
     "iopub.status.idle": "2023-01-15T17:34:57.278497Z",
     "shell.execute_reply": "2023-01-15T17:34:57.277276Z"
    },
    "papermill": {
     "duration": 1.671066,
     "end_time": "2023-01-15T17:34:57.280834",
     "exception": false,
     "start_time": "2023-01-15T17:34:55.609768",
     "status": "completed"
    },
    "tags": []
   },
   "outputs": [],
   "source": [
    "# reshape data for immediate analysis\n",
    "am_adata_dict = {item[0]: item[3] for item in adata_list}\n",
    "am_adata_cor_dict = {item[0]: item[4] for item in adata_list}\n",
    "adata_dict = {item[0]: item[1] for item in adata_list}\n",
    "adata_cor_dict = {item[0]: item[2] for item in adata_list}\n",
    "\n",
    "am_adata = ad.concat(am_adata_dict, label='well', index_unique=\"_\", merge=\"first\")\n",
    "am_adata_cor = ad.concat(am_adata_cor_dict, label='well', index_unique=\"_\", merge='first')\n",
    "adata = ad.concat(adata_dict, label='well', index_unique=\"_\", merge=\"first\")\n",
    "adata_cor = ad.concat(adata_cor_dict, label='well', index_unique=\"_\", merge=\"first\")\n",
    "\n",
    "deconv_dict = {item[0]: item[5] for item in adata_list}\n",
    "deconv_table = pd.DataFrame(deconv_dict).T\n",
    "deconv_table"
   ]
  },
  {
   "cell_type": "markdown",
   "id": "cf7de639",
   "metadata": {
    "papermill": {
     "duration": 0.008299,
     "end_time": "2023-01-15T17:34:57.297047",
     "exception": false,
     "start_time": "2023-01-15T17:34:57.288748",
     "status": "completed"
    },
    "tags": []
   },
   "source": [
    "The ion suppression correction takes a parameter proportion_threshold to filter the pixels used to compute quantile regression. In particular, pixels with a sampling proportion lower than the threshold are excluded for this step. In contrast, the actual correction is then performed on all pixels in the dataset. As a consequence, for the majority of the dataset, the dependence of the data on the factor \"sampling_proportion\" is not completely removed by the correction. Instead, depending on the difference in slope between the complete and thresholded set of pixels, the corrected set of pixels has a positive or negative dependence on the factor \"sampling_proportion\". The larger the proportion_threshold, the stronger this deviation can get.\n",
    "\n",
    "In the following figure, these differences are visualized for a subset of ions (with very low/high correction slope) and wells. The top panel shows the logarithmic ion intensity/proportion ratio plotted against the log proportion ratio of the respective pixels. As this is the relationship used to compute the quantile regression, the resulting regression lines can also be shown. The black lines show the quantile regression of the total set of pixels in a well, the red lines for the thresholded set (shown as orange squares). In turn, the blue squares are disregarded in calculating the correction slope. The bottom panel shows the corresponding corrected sets of pixels with black lines again representing the quantile regression on the complete set of pixels."
   ]
  },
  {
   "cell_type": "code",
   "execution_count": null,
   "id": "15c096d1",
   "metadata": {
    "execution": {
     "iopub.execute_input": "2023-01-15T17:34:57.315037Z",
     "iopub.status.busy": "2023-01-15T17:34:57.314019Z",
     "iopub.status.idle": "2023-01-15T17:34:57.319358Z",
     "shell.execute_reply": "2023-01-15T17:34:57.318372Z"
    },
    "papermill": {
     "duration": 0.016671,
     "end_time": "2023-01-15T17:34:57.321613",
     "exception": false,
     "start_time": "2023-01-15T17:34:57.304942",
     "status": "completed"
    },
    "tags": []
   },
   "outputs": [],
   "source": [
    "import warnings\n",
    "warnings.filterwarnings('ignore')"
   ]
  },
  {
   "cell_type": "code",
   "execution_count": null,
   "id": "f9d5c6c3",
   "metadata": {
    "execution": {
     "iopub.execute_input": "2023-01-15T17:34:57.338727Z",
     "iopub.status.busy": "2023-01-15T17:34:57.338051Z",
     "iopub.status.idle": "2023-01-15T17:34:57.354651Z",
     "shell.execute_reply": "2023-01-15T17:34:57.353730Z"
    },
    "papermill": {
     "duration": 0.027569,
     "end_time": "2023-01-15T17:34:57.356802",
     "exception": false,
     "start_time": "2023-01-15T17:34:57.329233",
     "status": "completed"
    },
    "tags": []
   },
   "outputs": [],
   "source": [
    "am_adata.obs[const.TPO] = am_adata_cor.obs[const.TPO]"
   ]
  },
  {
   "cell_type": "code",
   "execution_count": null,
   "id": "17d8f863",
   "metadata": {
    "execution": {
     "iopub.execute_input": "2023-01-15T17:34:57.373861Z",
     "iopub.status.busy": "2023-01-15T17:34:57.373443Z",
     "iopub.status.idle": "2023-01-15T17:35:56.361244Z",
     "shell.execute_reply": "2023-01-15T17:35:56.360052Z"
    },
    "papermill": {
     "duration": 59.044464,
     "end_time": "2023-01-15T17:35:56.409431",
     "exception": false,
     "start_time": "2023-01-15T17:34:57.364967",
     "status": "completed"
    },
    "tags": []
   },
   "outputs": [],
   "source": [
    "from src.evaluation import compare_pre_post_correction\n",
    "compare_pre_post_correction(am_adata, am_adata_cor, proportion_threshold=correction_proportion_threshold)"
   ]
  }
 ],
 "metadata": {
  "kernelspec": {
   "display_name": "“ion_suppression_new”",
   "language": "python",
   "name": "ion_suppression"
  },
  "language_info": {
   "codemirror_mode": {
    "name": "ipython",
    "version": 3
   },
   "file_extension": ".py",
   "mimetype": "text/x-python",
   "name": "python",
   "nbconvert_exporter": "python",
   "pygments_lexer": "ipython3",
   "version": "3.10.8"
  },
  "papermill": {
   "default_parameters": {},
   "duration": 396.167207,
   "end_time": "2023-01-15T17:35:59.653898",
   "environment_variables": {},
   "exception": null,
   "input_path": "analysis/Lx_Pancreatic_Cancer/pipeline_01_correction.ipynb",
   "output_path": "analysis/Lx_Pancreatic_Cancer/pipeline_01_correction.ipynb",
   "parameters": {
    "analysis_path": "/home/mklein/FDA_project/analysis/Lx_Pancreatic_Cancer",
    "condition_name": "condition",
    "notebooks": [
     "pipeline_01_correction.ipynb",
     "pipeline_02_processing.ipynb",
     "pipeline_03_evaluation.ipynb"
    ],
    "project": "Lx_Pancreatic_Cancer",
    "source_path": "/home/mklein/Raw Data/2022-01-31_PancreaticCancer",
    "target_path": "/home/mklein/FDA_project/data/Lx_Pancreatic_Cancer",
    "well_name": "slide_well"
   },
   "start_time": "2023-01-15T17:29:23.486691",
   "version": "2.3.4"
  },
  "vscode": {
   "interpreter": {
    "hash": "89b4449ee30f46b148fb6825d70934bcbb1ebdb6d5b2015fe3835362773c7289"
   }
  }
 },
 "nbformat": 4,
 "nbformat_minor": 5
}
