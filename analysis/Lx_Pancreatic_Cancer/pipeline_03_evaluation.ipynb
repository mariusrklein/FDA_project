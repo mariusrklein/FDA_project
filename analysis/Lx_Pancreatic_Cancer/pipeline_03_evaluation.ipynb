{
 "cells": [
  {
   "cell_type": "markdown",
   "id": "0925a47b",
   "metadata": {
    "papermill": {
     "duration": 0.014168,
     "end_time": "2023-01-11T11:12:20.343366",
     "exception": false,
     "start_time": "2023-01-11T11:12:20.329198",
     "status": "completed"
    },
    "tags": []
   },
   "source": [
    "# Lx_Pancreatic_Cancer: Evaluation\n",
    "\n",
    "In this notebook, different measures are investigated to quantify the effect of correcting SpaceM ion intensity data for partial pixel-cell overlap.\n",
    "Moreover, The effects of the correction on different metabolites is visualized.\n",
    " "
   ]
  },
  {
   "cell_type": "code",
   "execution_count": null,
   "id": "6c3e0897",
   "metadata": {
    "execution": {
     "iopub.execute_input": "2023-01-11T11:12:20.370141Z",
     "iopub.status.busy": "2023-01-11T11:12:20.369541Z",
     "iopub.status.idle": "2023-01-11T11:12:34.745189Z",
     "shell.execute_reply": "2023-01-11T11:12:34.744152Z"
    },
    "papermill": {
     "duration": 14.3918,
     "end_time": "2023-01-11T11:12:34.747547",
     "exception": false,
     "start_time": "2023-01-11T11:12:20.355747",
     "status": "completed"
    },
    "tags": []
   },
   "outputs": [],
   "source": [
    "import platform\n",
    "import os\n",
    "import multiprocessing\n",
    "import numpy as np\n",
    "import pandas as pd\n",
    "import anndata as ad\n",
    "import scanpy as sc\n",
    "import seaborn as sns\n",
    "from sklearn.cluster import KMeans\n",
    "import re\n",
    "import outer_spacem as osm\n",
    "import sys\n",
    "sys.path.append('/home/mklein/spacem')\n",
    "sys.path.append('/Volumes/mklein/spacem')\n",
    "sys.path.append('/home/mklein/FDA_project')\n",
    "from src.correction import *\n",
    "from src.evaluation import intermixing, MetaboliteAnalysis\n",
    "\n",
    "%matplotlib inline\n",
    "%config InlineBackend.figure_formats = ['retina']"
   ]
  },
  {
   "cell_type": "code",
   "execution_count": null,
   "id": "4940b9fe",
   "metadata": {
    "execution": {
     "iopub.execute_input": "2023-01-11T11:12:34.775230Z",
     "iopub.status.busy": "2023-01-11T11:12:34.774205Z",
     "iopub.status.idle": "2023-01-11T11:12:34.780252Z",
     "shell.execute_reply": "2023-01-11T11:12:34.779370Z"
    },
    "papermill": {
     "duration": 0.021137,
     "end_time": "2023-01-11T11:12:34.782289",
     "exception": false,
     "start_time": "2023-01-11T11:12:34.761152",
     "status": "completed"
    },
    "tags": [
     "parameters"
    ]
   },
   "outputs": [],
   "source": [
    "if platform.system() == \"Darwin\":\n",
    "    target_path = '/Volumes/mklein/FDA_project/data/Lx_Glioblastoma'\n",
    "    if True:\n",
    "        target_path = '/Users/mariusklein/Local_Project_Files/FDA_project/data/Lx_Glioblastoma'\n",
    "\n",
    "else:\n",
    "    target_path = '/home/mklein/FDA_project/data/Lx_Glioblastoma'\n",
    "\n",
    "condition_name = 'condition'\n",
    "well_name = 'rowcol'\n",
    "project = 'Lx_Glioblastoma'\n",
    "analysis_path = target_path"
   ]
  },
  {
   "cell_type": "code",
   "execution_count": null,
   "id": "d2c31904",
   "metadata": {
    "execution": {
     "iopub.execute_input": "2023-01-11T11:12:34.810935Z",
     "iopub.status.busy": "2023-01-11T11:12:34.810345Z",
     "iopub.status.idle": "2023-01-11T11:12:34.815743Z",
     "shell.execute_reply": "2023-01-11T11:12:34.814780Z"
    },
    "papermill": {
     "duration": 0.021544,
     "end_time": "2023-01-11T11:12:34.817866",
     "exception": false,
     "start_time": "2023-01-11T11:12:34.796322",
     "status": "completed"
    },
    "tags": [
     "injected-parameters"
    ]
   },
   "outputs": [],
   "source": [
    "# Parameters\n",
    "source_path = \"/home/mklein/Raw Data/2022-01-31_PancreaticCancer\"\n",
    "target_path = \"/home/mklein/FDA_project/data/Lx_Pancreatic_Cancer\"\n",
    "condition_name = \"condition\"\n",
    "well_name = \"slide_well\"\n",
    "analysis_path = \"/home/mklein/FDA_project/analysis/Lx_Pancreatic_Cancer\"\n",
    "notebooks = [\n",
    "    \"pipeline_01_correction.ipynb\",\n",
    "    \"pipeline_02_processing.ipynb\",\n",
    "    \"pipeline_03_evaluation.ipynb\",\n",
    "]\n",
    "project = \"Lx_Pancreatic_Cancer\"\n"
   ]
  },
  {
   "cell_type": "markdown",
   "id": "082dec30",
   "metadata": {
    "papermill": {
     "duration": 0.012897,
     "end_time": "2023-01-11T11:12:34.843263",
     "exception": false,
     "start_time": "2023-01-11T11:12:34.830366",
     "status": "completed"
    },
    "tags": []
   },
   "source": [
    "Loading the uncorrected and ISM-corrected dataset from file. Additionally, loading the metadata CSV file to filter out excluded wells."
   ]
  },
  {
   "cell_type": "code",
   "execution_count": null,
   "id": "05a8c269",
   "metadata": {
    "execution": {
     "iopub.execute_input": "2023-01-11T11:12:34.870648Z",
     "iopub.status.busy": "2023-01-11T11:12:34.870075Z",
     "iopub.status.idle": "2023-01-11T11:12:37.967462Z",
     "shell.execute_reply": "2023-01-11T11:12:37.966489Z"
    },
    "papermill": {
     "duration": 3.114244,
     "end_time": "2023-01-11T11:12:37.970051",
     "exception": false,
     "start_time": "2023-01-11T11:12:34.855807",
     "status": "completed"
    },
    "tags": []
   },
   "outputs": [],
   "source": [
    "adata = ad.read(os.path.join(target_path, \"gen_batch_sm_matrix.h5ad\"))\n",
    "adata_cor = ad.read(os.path.join(target_path, \"corrected_batch_sm_matrix.h5ad\"))"
   ]
  },
  {
   "cell_type": "code",
   "execution_count": null,
   "id": "53d49c7a",
   "metadata": {
    "execution": {
     "iopub.execute_input": "2023-01-11T11:12:37.999177Z",
     "iopub.status.busy": "2023-01-11T11:12:37.998306Z",
     "iopub.status.idle": "2023-01-11T11:12:38.452377Z",
     "shell.execute_reply": "2023-01-11T11:12:38.451419Z"
    },
    "papermill": {
     "duration": 0.471292,
     "end_time": "2023-01-11T11:12:38.454778",
     "exception": false,
     "start_time": "2023-01-11T11:12:37.983486",
     "status": "completed"
    },
    "tags": []
   },
   "outputs": [],
   "source": [
    "metadata_path = os.path.join(target_path, 'metadata.csv')\n",
    "samples = list(set(adata.obs['well']))\n",
    "\n",
    "if os.path.exists(metadata_path):\n",
    "    metadata = pd.read_csv(metadata_path)\n",
    "    if well_name not in metadata.columns:\n",
    "        if \"row\" in metadata.columns and \"col\" in metadata.columns:\n",
    "            metadata[well_name] = metadata['row'].astype(str) + metadata['col'].astype(str)\n",
    "        elif \"slide\" in metadata.columns and \"well\" in metadata.columns:\n",
    "            metadata[well_name] = \"S\" + metadata['slide'].astype(str) + \"_W\" + metadata['well'].astype(str)\n",
    "        else:\n",
    "            raise Exception(\"Could not find condition column in metadata file and no default composition worked.\")\n",
    "    samples = list(metadata[well_name])\n",
    "\n",
    "def assign_conditions(adata):\n",
    "    index = adata.obs.index.name\n",
    "    new_obs = adata.obs.reset_index()\n",
    "    \n",
    "    new_obs = pd.merge(new_obs, metadata[[well_name, condition_name]], \n",
    "                       how='inner', left_on='well', right_on=well_name).set_index(index)\n",
    "    \n",
    "    adata = adata[new_obs.index, :].copy()\n",
    "    adata.obs = new_obs\n",
    "    if 'keep_conditions' in globals():\n",
    "        adata = adata[adata.obs[condition_name].isin(keep_conditions), :].copy()\n",
    "    return adata\n",
    "\n",
    "adata = assign_conditions(adata)\n",
    "adata_cor = assign_conditions(adata_cor)"
   ]
  },
  {
   "cell_type": "code",
   "execution_count": null,
   "id": "1cd4a253",
   "metadata": {
    "execution": {
     "iopub.execute_input": "2023-01-11T11:12:38.483585Z",
     "iopub.status.busy": "2023-01-11T11:12:38.482997Z",
     "iopub.status.idle": "2023-01-11T11:12:38.562046Z",
     "shell.execute_reply": "2023-01-11T11:12:38.561091Z"
    },
    "papermill": {
     "duration": 0.095017,
     "end_time": "2023-01-11T11:12:38.564223",
     "exception": false,
     "start_time": "2023-01-11T11:12:38.469206",
     "status": "completed"
    },
    "tags": []
   },
   "outputs": [],
   "source": [
    "pd.crosstab(adata.obs['well'], adata.obs[condition_name], margins=True)"
   ]
  },
  {
   "cell_type": "code",
   "execution_count": null,
   "id": "e44ccf24",
   "metadata": {
    "execution": {
     "iopub.execute_input": "2023-01-11T11:12:38.593764Z",
     "iopub.status.busy": "2023-01-11T11:12:38.593004Z",
     "iopub.status.idle": "2023-01-11T11:12:39.520491Z",
     "shell.execute_reply": "2023-01-11T11:12:39.519317Z"
    },
    "papermill": {
     "duration": 0.945111,
     "end_time": "2023-01-11T11:12:39.522792",
     "exception": false,
     "start_time": "2023-01-11T11:12:38.577681",
     "status": "completed"
    },
    "tags": []
   },
   "outputs": [],
   "source": [
    "included_molecules = adata.var_names.intersection(adata_cor.var_names)\n",
    "included_cells = adata.obs_names.intersection(adata_cor.obs_names)\n",
    "\n",
    "def subset_molecules(adata):\n",
    "    \n",
    "    return adata[included_cells, included_molecules].copy()\n",
    "\n",
    "adata = subset_molecules(adata)\n",
    "adata_cor = subset_molecules(adata_cor)\n",
    "\n",
    "print(adata.shape)\n",
    "print(adata_cor.shape)"
   ]
  },
  {
   "cell_type": "markdown",
   "id": "f5a4cf21",
   "metadata": {
    "papermill": {
     "duration": 0.012834,
     "end_time": "2023-01-11T11:12:39.550744",
     "exception": false,
     "start_time": "2023-01-11T11:12:39.537910",
     "status": "completed"
    },
    "tags": []
   },
   "source": [
    "First of all, the loaded datasets are filtered:\n",
    "\n",
    "- cells need non-zero intensities for at least 10 ions.\n",
    "- ions need non-zero intensities for at least 200 cells.\n",
    "\n",
    "After that, the sets are preprocessed in different ways:\n",
    "\n",
    "- intensties are normalized to TIC and/or log-transformed (log(x+1))\n",
    "\n",
    "After that, both datasets are subset to contain the same ions and cells (intersection)."
   ]
  },
  {
   "cell_type": "code",
   "execution_count": null,
   "id": "50fa3086",
   "metadata": {
    "execution": {
     "iopub.execute_input": "2023-01-11T11:12:39.580288Z",
     "iopub.status.busy": "2023-01-11T11:12:39.579654Z",
     "iopub.status.idle": "2023-01-11T11:12:42.452042Z",
     "shell.execute_reply": "2023-01-11T11:12:42.450925Z"
    },
    "papermill": {
     "duration": 2.890887,
     "end_time": "2023-01-11T11:12:42.454319",
     "exception": false,
     "start_time": "2023-01-11T11:12:39.563432",
     "status": "completed"
    },
    "tags": []
   },
   "outputs": [],
   "source": [
    "def preprocess(adata):\n",
    "    \n",
    "    sc.pp.filter_cells(adata, min_genes=10)\n",
    "    sc.pp.filter_genes(adata, min_cells=200)\n",
    "    adata.raw = adata\n",
    "    adata.layers[\"raw_counts\"] = adata.X.copy()\n",
    "    # sc.pp.scale(adata)\n",
    "    adata.layers[\"norm_counts\"] = sc.pp.normalize_total(adata, layer='raw_counts', target_sum=None, inplace=False)['X']\n",
    "    adata.layers[\"1e4_norm_counts\"] = sc.pp.normalize_total(adata, layer='raw_counts', target_sum=1e4, inplace=False)['X']\n",
    "    \n",
    "    adata.layers[\"log_raw_counts\"] = sc.pp.log1p(adata.layers[\"raw_counts\"], copy=True)\n",
    "    adata.layers[\"log_norm_counts\"] = sc.pp.log1p(adata.layers[\"norm_counts\"], copy=True)\n",
    "    adata.layers[\"1e4_log_norm_counts\"] = sc.pp.log1p(adata.layers[\"1e4_norm_counts\"], copy=True)\n",
    "    adata.X = adata.layers[\"log_norm_counts\"]\n",
    "    \n",
    "    adata.var['median_intensity'] = np.median(adata.X, axis=0)\n",
    "    adata.var['mean_intensity'] = np.mean(adata.X, axis=0)\n",
    "    # adata_x = adata.X.copy()\n",
    "    # adata_x[adata_x == 0] = np.nan\n",
    "    # adata.var['median_intensity_nonzero'] = np.nanmedian(adata_x, axis=0)\n",
    "    \n",
    "    \n",
    "preprocess(adata)\n",
    "preprocess(adata_cor)\n",
    "\n",
    "print(adata.shape)\n",
    "print(adata_cor.shape)"
   ]
  },
  {
   "cell_type": "code",
   "execution_count": null,
   "id": "239bf7f1",
   "metadata": {
    "execution": {
     "iopub.execute_input": "2023-01-11T11:12:42.483406Z",
     "iopub.status.busy": "2023-01-11T11:12:42.482999Z",
     "iopub.status.idle": "2023-01-11T11:12:42.490725Z",
     "shell.execute_reply": "2023-01-11T11:12:42.489803Z"
    },
    "papermill": {
     "duration": 0.024506,
     "end_time": "2023-01-11T11:12:42.492966",
     "exception": false,
     "start_time": "2023-01-11T11:12:42.468460",
     "status": "completed"
    },
    "tags": []
   },
   "outputs": [],
   "source": [
    "def dimred_umap(adata, layer=None, min_dist=0.5):\n",
    "    if layer is not None:\n",
    "        adata.layers['default_X'] = adata.X\n",
    "        adata.X = adata.layers[layer]\n",
    "    \n",
    "    sc.pp.pca(adata)\n",
    "    sc.pp.neighbors(adata, n_neighbors=50, metric='cosine')\n",
    "    sc.tl.umap(adata, min_dist=min_dist, spread=1.0, random_state=1, n_components=2)\n",
    "    #sc.pl.umap(adata, color=['well', condition_name], palette='cividis')\n",
    "    f = osm.pl.highlight_scatterplot(\n",
    "        data = adata,\n",
    "        obsm_key = \"X_umap\",\n",
    "        hue = condition_name,\n",
    "        col = condition_name,\n",
    "        palette = \"cividis\",\n",
    "        trim_axes=True,\n",
    "        height = 5,\n",
    "        scatter_kwargs = dict(s=5)\n",
    "    )\n",
    "\n",
    "    f.add_legend(markerscale=3)\n",
    "    \n",
    "    if layer is not None:\n",
    "        adata.X = adata.layers['default_X']"
   ]
  },
  {
   "cell_type": "code",
   "execution_count": null,
   "id": "93c1ec9a",
   "metadata": {
    "execution": {
     "iopub.execute_input": "2023-01-11T11:12:42.522449Z",
     "iopub.status.busy": "2023-01-11T11:12:42.521642Z",
     "iopub.status.idle": "2023-01-11T11:12:42.528963Z",
     "shell.execute_reply": "2023-01-11T11:12:42.528018Z"
    },
    "papermill": {
     "duration": 0.02402,
     "end_time": "2023-01-11T11:12:42.531062",
     "exception": false,
     "start_time": "2023-01-11T11:12:42.507042",
     "status": "completed"
    },
    "tags": []
   },
   "outputs": [],
   "source": [
    "def intermixing_layer(adata, adata_cor, condition_name, measures = ['X_pca', 'X_umap'], layer=None):\n",
    "    if layer is not None:\n",
    "        adata.layers['default_X'] = adata.X\n",
    "        adata.X = adata.layers[layer]\n",
    "        adata_cor.layers['default_X'] = adata_cor.X\n",
    "        adata_cor.X = adata_cor.layers[layer]\n",
    "    \n",
    "    summaries = intermixing({'uncorrected': adata, 'ISM correction': adata_cor}, condition_name = condition_name, measures = measures)\n",
    "    \n",
    "    if layer is not None:\n",
    "        adata.X = adata.layers['default_X']\n",
    "        adata_cor.X = adata_cor.layers['default_X']\n",
    "    \n",
    "    return\n",
    "    "
   ]
  },
  {
   "cell_type": "markdown",
   "id": "93dd3430",
   "metadata": {
    "papermill": {
     "duration": 0.012849,
     "end_time": "2023-01-11T11:12:42.557067",
     "exception": false,
     "start_time": "2023-01-11T11:12:42.544218",
     "status": "completed"
    },
    "tags": []
   },
   "source": [
    "The different options for scaling and transforming the data are shown in the following:\n",
    "\n",
    "1. raw values\n",
    "2. log transformation\n",
    "3. TIC normalization\n",
    "4. TIC normalization and log transformation\n",
    "5. normalization to a fixed count (10^4)\n",
    "6. normalization to a fixed count (10^4) and log transformation\n",
    "\n",
    "The normalization to a fixed count has a slightly different effect than TIC normalization. The former normalizes all counts per cell to the given target sum so that all cells from the uncorrected and the corrected set are scaled to this count. In contrast, the latter retains the differences between the datasets by normalizing to the median count across cells in a dataset."
   ]
  },
  {
   "cell_type": "code",
   "execution_count": null,
   "id": "e96a62cc",
   "metadata": {
    "execution": {
     "iopub.execute_input": "2023-01-11T11:12:42.585380Z",
     "iopub.status.busy": "2023-01-11T11:12:42.584785Z",
     "iopub.status.idle": "2023-01-11T11:24:23.700004Z",
     "shell.execute_reply": "2023-01-11T11:24:23.698906Z"
    },
    "papermill": {
     "duration": 701.13127,
     "end_time": "2023-01-11T11:24:23.702259",
     "exception": false,
     "start_time": "2023-01-11T11:12:42.570989",
     "status": "completed"
    },
    "tags": []
   },
   "outputs": [],
   "source": [
    "dimred_umap(adata, layer='raw_counts')\n",
    "dimred_umap(adata_cor, layer='raw_counts')\n",
    "intermixing_layer(adata, adata_cor, condition_name, measures = ['X_pca', 'X_umap'], layer='raw_counts')"
   ]
  },
  {
   "cell_type": "code",
   "execution_count": null,
   "id": "eebfdd8a",
   "metadata": {
    "execution": {
     "iopub.execute_input": "2023-01-11T11:24:23.821618Z",
     "iopub.status.busy": "2023-01-11T11:24:23.820479Z",
     "iopub.status.idle": "2023-01-11T11:33:34.234048Z",
     "shell.execute_reply": "2023-01-11T11:33:34.233010Z"
    },
    "papermill": {
     "duration": 550.474897,
     "end_time": "2023-01-11T11:33:34.236522",
     "exception": false,
     "start_time": "2023-01-11T11:24:23.761625",
     "status": "completed"
    },
    "tags": []
   },
   "outputs": [],
   "source": [
    "dimred_umap(adata, layer='log_raw_counts')\n",
    "dimred_umap(adata_cor, layer='log_raw_counts')\n",
    "intermixing_layer(adata, adata_cor, condition_name, measures = ['X_pca', 'X_umap'], layer='log_raw_counts')"
   ]
  },
  {
   "cell_type": "code",
   "execution_count": null,
   "id": "6db4dc16",
   "metadata": {
    "execution": {
     "iopub.execute_input": "2023-01-11T11:33:34.388533Z",
     "iopub.status.busy": "2023-01-11T11:33:34.387858Z",
     "iopub.status.idle": "2023-01-11T11:42:39.177085Z",
     "shell.execute_reply": "2023-01-11T11:42:39.175774Z"
    },
    "papermill": {
     "duration": 544.86662,
     "end_time": "2023-01-11T11:42:39.179839",
     "exception": false,
     "start_time": "2023-01-11T11:33:34.313219",
     "status": "completed"
    },
    "tags": []
   },
   "outputs": [],
   "source": [
    "dimred_umap(adata, layer='norm_counts')\n",
    "dimred_umap(adata_cor, layer='norm_counts')\n",
    "intermixing_layer(adata, adata_cor, condition_name, measures = ['X_pca', 'X_umap'], layer='norm_counts')"
   ]
  },
  {
   "cell_type": "code",
   "execution_count": null,
   "id": "77415a35",
   "metadata": {
    "execution": {
     "iopub.execute_input": "2023-01-11T11:42:39.377219Z",
     "iopub.status.busy": "2023-01-11T11:42:39.376259Z",
     "iopub.status.idle": "2023-01-11T11:51:40.603287Z",
     "shell.execute_reply": "2023-01-11T11:51:40.602047Z"
    },
    "papermill": {
     "duration": 541.326296,
     "end_time": "2023-01-11T11:51:40.605720",
     "exception": false,
     "start_time": "2023-01-11T11:42:39.279424",
     "status": "completed"
    },
    "tags": []
   },
   "outputs": [],
   "source": [
    "dimred_umap(adata, layer='log_norm_counts')\n",
    "dimred_umap(adata_cor, layer='log_norm_counts')\n",
    "intermixing_layer(adata, adata_cor, condition_name, measures = ['X_pca', 'X_umap'], layer='log_norm_counts')"
   ]
  },
  {
   "cell_type": "code",
   "execution_count": null,
   "id": "c87726d6",
   "metadata": {
    "execution": {
     "iopub.execute_input": "2023-01-11T11:51:40.827503Z",
     "iopub.status.busy": "2023-01-11T11:51:40.827015Z",
     "iopub.status.idle": "2023-01-11T12:00:44.522979Z",
     "shell.execute_reply": "2023-01-11T12:00:44.521986Z"
    },
    "papermill": {
     "duration": 543.807991,
     "end_time": "2023-01-11T12:00:44.526045",
     "exception": false,
     "start_time": "2023-01-11T11:51:40.718054",
     "status": "completed"
    },
    "tags": []
   },
   "outputs": [],
   "source": [
    "dimred_umap(adata, layer='1e4_norm_counts')\n",
    "dimred_umap(adata_cor, layer='1e4_norm_counts')\n",
    "intermixing_layer(adata, adata_cor, condition_name, measures = ['X_pca', 'X_umap'], layer='1e4_norm_counts')"
   ]
  },
  {
   "cell_type": "code",
   "execution_count": null,
   "id": "823fc858",
   "metadata": {
    "execution": {
     "iopub.execute_input": "2023-01-11T12:00:44.795048Z",
     "iopub.status.busy": "2023-01-11T12:00:44.794559Z",
     "iopub.status.idle": "2023-01-11T12:09:58.842301Z",
     "shell.execute_reply": "2023-01-11T12:09:58.841090Z"
    },
    "papermill": {
     "duration": 554.183937,
     "end_time": "2023-01-11T12:09:58.844731",
     "exception": false,
     "start_time": "2023-01-11T12:00:44.660794",
     "status": "completed"
    },
    "tags": []
   },
   "outputs": [],
   "source": [
    "dimred_umap(adata, layer='1e4_log_norm_counts')\n",
    "dimred_umap(adata_cor, layer='1e4_log_norm_counts')\n",
    "intermixing_layer(adata, adata_cor, condition_name, measures = ['X_pca', 'X_umap'], layer='1e4_log_norm_counts')"
   ]
  },
  {
   "cell_type": "markdown",
   "id": "d38383a6",
   "metadata": {
    "papermill": {
     "duration": 0.147299,
     "end_time": "2023-01-11T12:09:59.144987",
     "exception": false,
     "start_time": "2023-01-11T12:09:58.997688",
     "status": "completed"
    },
    "tags": []
   },
   "source": [
    "Before analysis, asserting that the two data files were deconvoluted in the same way. Specifically, the corrected dataframe cannot have non-zero values at positions where the uncorrected dataframe has zero values."
   ]
  },
  {
   "cell_type": "code",
   "execution_count": null,
   "id": "f47b5d15",
   "metadata": {
    "execution": {
     "iopub.execute_input": "2023-01-11T12:09:59.449541Z",
     "iopub.status.busy": "2023-01-11T12:09:59.448597Z",
     "iopub.status.idle": "2023-01-11T12:10:00.779188Z",
     "shell.execute_reply": "2023-01-11T12:10:00.778212Z"
    },
    "papermill": {
     "duration": 1.486355,
     "end_time": "2023-01-11T12:10:00.781996",
     "exception": false,
     "start_time": "2023-01-11T12:09:59.295641",
     "status": "completed"
    },
    "tags": []
   },
   "outputs": [],
   "source": [
    "assert not any(pd.Series(np.array((adata.to_df() == 0) & (adata_cor.to_df()!= 0)).flatten()))"
   ]
  },
  {
   "cell_type": "code",
   "execution_count": null,
   "id": "0479943c",
   "metadata": {
    "execution": {
     "iopub.execute_input": "2023-01-11T12:10:01.084295Z",
     "iopub.status.busy": "2023-01-11T12:10:01.083545Z",
     "iopub.status.idle": "2023-01-11T12:10:01.090328Z",
     "shell.execute_reply": "2023-01-11T12:10:01.089358Z"
    },
    "papermill": {
     "duration": 0.162401,
     "end_time": "2023-01-11T12:10:01.092614",
     "exception": false,
     "start_time": "2023-01-11T12:10:00.930213",
     "status": "completed"
    },
    "tags": []
   },
   "outputs": [],
   "source": [
    "adata.obs['correction'] = 'uncorrected'\n",
    "adata_cor.obs['correction'] = 'ISM correction'"
   ]
  },
  {
   "cell_type": "markdown",
   "id": "168e7300",
   "metadata": {
    "papermill": {
     "duration": 0.147563,
     "end_time": "2023-01-11T12:10:01.390890",
     "exception": false,
     "start_time": "2023-01-11T12:10:01.243327",
     "status": "completed"
    },
    "tags": []
   },
   "source": [
    "## Effects of the correction on different molecules\n",
    "\n",
    "The ISM correction is performed per ion on the logarithmized intensity / sampling proportion ratio. The underlying quantile regression can only be computed with a minimum number of datapoints. If an ion has less than 10 datapoints, the quantile regression is instead computed based on a reference pool of ions.\n",
    "In the following, the resulting slopes by which all ions have been corrected are visualized. Ions that were corrected using the reference pool are shown separately.\n"
   ]
  },
  {
   "cell_type": "code",
   "execution_count": null,
   "id": "0c16695f",
   "metadata": {
    "execution": {
     "iopub.execute_input": "2023-01-11T12:10:01.693110Z",
     "iopub.status.busy": "2023-01-11T12:10:01.692201Z",
     "iopub.status.idle": "2023-01-11T12:10:02.557177Z",
     "shell.execute_reply": "2023-01-11T12:10:02.556052Z"
    },
    "papermill": {
     "duration": 1.017306,
     "end_time": "2023-01-11T12:10:02.559665",
     "exception": false,
     "start_time": "2023-01-11T12:10:01.542359",
     "status": "completed"
    },
    "tags": []
   },
   "outputs": [],
   "source": [
    "grid = sns.FacetGrid(adata_cor.var[['mean_correction_quantreg_slope', 'corrected_only_using_pool']], col='corrected_only_using_pool', hue='corrected_only_using_pool', sharey=False)\n",
    "grid.map(sns.histplot, 'mean_correction_quantreg_slope', bins=30)\n",
    "cor_pool = list(adata_cor.var[adata_cor.var['corrected_only_using_pool'] == True].index)\n",
    "adata_cor.var['corrected_only_using_pool'].value_counts()"
   ]
  },
  {
   "cell_type": "markdown",
   "id": "8172fdae",
   "metadata": {
    "papermill": {
     "duration": 0.15174,
     "end_time": "2023-01-11T12:10:02.861178",
     "exception": false,
     "start_time": "2023-01-11T12:10:02.709438",
     "status": "completed"
    },
    "tags": []
   },
   "source": [
    "Based on the slopes of the correction but also the logfoldchanges between corrected and uncorrected cells, one can infer the extent of alteration of different metabolites in the correction. These measures not necessarily correlate, thus the degree of correction of ions has to be evaluated on individual datasets."
   ]
  },
  {
   "cell_type": "code",
   "execution_count": null,
   "id": "4020f6dd",
   "metadata": {
    "execution": {
     "iopub.execute_input": "2023-01-11T12:10:03.167579Z",
     "iopub.status.busy": "2023-01-11T12:10:03.166309Z",
     "iopub.status.idle": "2023-01-11T12:10:03.177141Z",
     "shell.execute_reply": "2023-01-11T12:10:03.176254Z"
    },
    "papermill": {
     "duration": 0.168417,
     "end_time": "2023-01-11T12:10:03.179528",
     "exception": false,
     "start_time": "2023-01-11T12:10:03.011111",
     "status": "completed"
    },
    "tags": []
   },
   "outputs": [],
   "source": [
    "import src.evaluation\n",
    "from importlib import reload\n",
    "reload(src.evaluation)\n",
    "from src.evaluation import MetaboliteAnalysis"
   ]
  },
  {
   "cell_type": "code",
   "execution_count": null,
   "id": "86d8608e",
   "metadata": {
    "execution": {
     "iopub.execute_input": "2023-01-11T12:10:03.486128Z",
     "iopub.status.busy": "2023-01-11T12:10:03.485557Z",
     "iopub.status.idle": "2023-01-11T12:10:49.975044Z",
     "shell.execute_reply": "2023-01-11T12:10:49.973924Z"
    },
    "papermill": {
     "duration": 46.646187,
     "end_time": "2023-01-11T12:10:49.977851",
     "exception": false,
     "start_time": "2023-01-11T12:10:03.331664",
     "status": "completed"
    },
    "tags": []
   },
   "outputs": [],
   "source": [
    "ma_raw = MetaboliteAnalysis(adata=adata, adata_cor=adata_cor, condition_name = condition_name, \n",
    "                        obs_columns = ['list_TPO'],\n",
    "                        var_columns = ['corrected_only_using_pool', 'mean_correction_quantreg_slope', \n",
    "                                       'n_cells','median_intensity', 'mean_intensity', 'sum_correction_using_ion_pool'],\n",
    "                       use_raw = True)"
   ]
  },
  {
   "cell_type": "code",
   "execution_count": null,
   "id": "1bdb9042",
   "metadata": {
    "execution": {
     "iopub.execute_input": "2023-01-11T12:10:50.298180Z",
     "iopub.status.busy": "2023-01-11T12:10:50.297385Z",
     "iopub.status.idle": "2023-01-11T12:11:02.311481Z",
     "shell.execute_reply": "2023-01-11T12:11:02.310416Z"
    },
    "papermill": {
     "duration": 12.187199,
     "end_time": "2023-01-11T12:11:02.327171",
     "exception": false,
     "start_time": "2023-01-11T12:10:50.139972",
     "status": "completed"
    },
    "tags": []
   },
   "outputs": [],
   "source": [
    "ma_raw.pair_plot(exclude_ref_corrected = False)"
   ]
  },
  {
   "cell_type": "code",
   "execution_count": null,
   "id": "802496f6",
   "metadata": {
    "execution": {
     "iopub.execute_input": "2023-01-11T12:11:02.690283Z",
     "iopub.status.busy": "2023-01-11T12:11:02.688991Z",
     "iopub.status.idle": "2023-01-11T12:11:03.753801Z",
     "shell.execute_reply": "2023-01-11T12:11:03.752763Z"
    },
    "papermill": {
     "duration": 1.251938,
     "end_time": "2023-01-11T12:11:03.758579",
     "exception": false,
     "start_time": "2023-01-11T12:11:02.506641",
     "status": "completed"
    },
    "tags": []
   },
   "outputs": [],
   "source": [
    "ma_raw.volcano_plot(exclude_ref_corrected = False)"
   ]
  },
  {
   "cell_type": "code",
   "execution_count": null,
   "id": "d41e48d2",
   "metadata": {
    "execution": {
     "iopub.execute_input": "2023-01-11T12:11:04.135759Z",
     "iopub.status.busy": "2023-01-11T12:11:04.135219Z",
     "iopub.status.idle": "2023-01-11T12:11:06.235998Z",
     "shell.execute_reply": "2023-01-11T12:11:06.235037Z"
    },
    "papermill": {
     "duration": 2.293522,
     "end_time": "2023-01-11T12:11:06.239839",
     "exception": false,
     "start_time": "2023-01-11T12:11:03.946317",
     "status": "completed"
    },
    "tags": []
   },
   "outputs": [],
   "source": [
    "sc.pl.rank_genes_groups_tracksplot(ma_raw.conc_adata, groupby='correction', dendrogram=False)"
   ]
  },
  {
   "cell_type": "code",
   "execution_count": null,
   "id": "0e0721d1",
   "metadata": {
    "execution": {
     "iopub.execute_input": "2023-01-11T12:11:06.626211Z",
     "iopub.status.busy": "2023-01-11T12:11:06.624933Z",
     "iopub.status.idle": "2023-01-11T12:11:06.665887Z",
     "shell.execute_reply": "2023-01-11T12:11:06.664833Z"
    },
    "papermill": {
     "duration": 0.235771,
     "end_time": "2023-01-11T12:11:06.668248",
     "exception": false,
     "start_time": "2023-01-11T12:11:06.432477",
     "status": "completed"
    },
    "tags": []
   },
   "outputs": [],
   "source": [
    "adata_cor.obs['n_pixels'] = [i.count(';')+1 for i in adata_cor.obs['list_TPO']]\n",
    "strat_cell_list = list(adata_cor.obs.groupby('n_pixels', group_keys=False).apply(lambda x: x.sample(1)).index)[:6]\n",
    "strat_cell_list"
   ]
  },
  {
   "cell_type": "markdown",
   "id": "7e50bfdb",
   "metadata": {
    "papermill": {
     "duration": 0.194277,
     "end_time": "2023-01-11T12:11:07.059535",
     "exception": false,
     "start_time": "2023-01-11T12:11:06.865258",
     "status": "completed"
    },
    "tags": []
   },
   "source": [
    "The following plot shows the metabolic profiles of sampled cell generated from 1 and increasing numbers of ablation marks. The first row has the uncorrected raw ion intensities, the second row the corrected raw ion intensities and the third row the correction ratio/quotient between the two ( $correction\\_ratio = \\frac{I_{corrected}}{I_{uncorrected}}$ ). Most ions have the same correction ratio in a given cells, some have a higher ratio (smaller slope, less ISM correction) and some have a lower ratio (steeper slope, stronger ISM correction). The distribution of ion-specific correction ratios in the same cells is shown, separately for self-corrected and pool-corrected ions, in density plots underneath the metabolic profiles. Black horizontal and vertical lines show the sampling proportion of all ablation marks that were combined to the respective cell. Especially from the density plots, it becomes obvious that the majority of ions have correction ratios that colocalize with the pixels' sampling ratios. This can be explained by the fact that most ions had a correction slope of ~-1, the pool-corrected ions had all the same slope close to -1. Thus, these ions are down-corrected by multiplying with ~1 times their sampling proportion. Since many ions seem to occur only in one of the underlying ablation marks, the distribution of correction ratios has prominent peaks and few values between them."
   ]
  },
  {
   "cell_type": "code",
   "execution_count": null,
   "id": "f0dc23e5",
   "metadata": {
    "execution": {
     "iopub.execute_input": "2023-01-11T12:11:07.456066Z",
     "iopub.status.busy": "2023-01-11T12:11:07.455318Z",
     "iopub.status.idle": "2023-01-11T12:13:02.125191Z",
     "shell.execute_reply": "2023-01-11T12:13:02.124150Z"
    },
    "papermill": {
     "duration": 114.870301,
     "end_time": "2023-01-11T12:13:02.129941",
     "exception": false,
     "start_time": "2023-01-11T12:11:07.259640",
     "status": "completed"
    },
    "tags": []
   },
   "outputs": [],
   "source": [
    "ma_raw.quotient_plot(show_cells=strat_cell_list)"
   ]
  },
  {
   "cell_type": "code",
   "execution_count": null,
   "id": "18160871",
   "metadata": {
    "execution": {
     "iopub.execute_input": "2023-01-11T12:13:02.546572Z",
     "iopub.status.busy": "2023-01-11T12:13:02.545406Z",
     "iopub.status.idle": "2023-01-11T12:13:26.412369Z",
     "shell.execute_reply": "2023-01-11T12:13:26.411264Z"
    },
    "papermill": {
     "duration": 24.0801,
     "end_time": "2023-01-11T12:13:26.415849",
     "exception": false,
     "start_time": "2023-01-11T12:13:02.335749",
     "status": "completed"
    },
    "tags": []
   },
   "outputs": [],
   "source": [
    "ma_raw.top_ion_plot()"
   ]
  },
  {
   "cell_type": "code",
   "execution_count": null,
   "id": "7e16191d",
   "metadata": {
    "execution": {
     "iopub.execute_input": "2023-01-11T12:13:26.859349Z",
     "iopub.status.busy": "2023-01-11T12:13:26.858638Z",
     "iopub.status.idle": "2023-01-11T12:14:42.433388Z",
     "shell.execute_reply": "2023-01-11T12:14:42.432281Z"
    },
    "papermill": {
     "duration": 75.793497,
     "end_time": "2023-01-11T12:14:42.435980",
     "exception": false,
     "start_time": "2023-01-11T12:13:26.642483",
     "status": "completed"
    },
    "tags": []
   },
   "outputs": [],
   "source": [
    "_ = ma_raw.save_matrix(save_to_path = analysis_path, safe_to_name = project, save_figures=6)"
   ]
  },
  {
   "cell_type": "markdown",
   "id": "f382110a",
   "metadata": {
    "papermill": {
     "duration": 0.221382,
     "end_time": "2023-01-11T12:14:42.879413",
     "exception": false,
     "start_time": "2023-01-11T12:14:42.658031",
     "status": "completed"
    },
    "tags": []
   },
   "source": [
    "The same analysis is then carried out for the TIC-corrected and log-transformed data: Here, the differences between uncorrected and ISM-corrected data are much more subtle. This corresponds better with the UMAPs further down, as they also show very little noticebly differences between uncorrected and ISM-corrected datasets."
   ]
  },
  {
   "cell_type": "code",
   "execution_count": null,
   "id": "f6414008",
   "metadata": {
    "execution": {
     "iopub.execute_input": "2023-01-11T12:14:43.321712Z",
     "iopub.status.busy": "2023-01-11T12:14:43.321293Z",
     "iopub.status.idle": "2023-01-11T12:15:29.246995Z",
     "shell.execute_reply": "2023-01-11T12:15:29.245800Z"
    },
    "papermill": {
     "duration": 46.149943,
     "end_time": "2023-01-11T12:15:29.249698",
     "exception": false,
     "start_time": "2023-01-11T12:14:43.099755",
     "status": "completed"
    },
    "tags": []
   },
   "outputs": [],
   "source": [
    "ma = MetaboliteAnalysis(adata=adata, adata_cor=adata_cor, condition_name = condition_name, \n",
    "                        obs_columns = ['list_TPO'],\n",
    "                        var_columns = ['corrected_only_using_pool', 'mean_correction_quantreg_slope', \n",
    "                                       'n_cells','median_intensity', 'mean_intensity', 'sum_correction_using_ion_pool'],\n",
    "                       use_raw = False)"
   ]
  },
  {
   "cell_type": "code",
   "execution_count": null,
   "id": "b8ba3bf5",
   "metadata": {
    "execution": {
     "iopub.execute_input": "2023-01-11T12:15:29.709530Z",
     "iopub.status.busy": "2023-01-11T12:15:29.708632Z",
     "iopub.status.idle": "2023-01-11T12:15:31.791102Z",
     "shell.execute_reply": "2023-01-11T12:15:31.789980Z"
    },
    "papermill": {
     "duration": 2.312511,
     "end_time": "2023-01-11T12:15:31.794884",
     "exception": false,
     "start_time": "2023-01-11T12:15:29.482373",
     "status": "completed"
    },
    "tags": []
   },
   "outputs": [],
   "source": [
    "sc.pl.rank_genes_groups_tracksplot(ma.conc_adata, groupby='correction', dendrogram=False)"
   ]
  },
  {
   "cell_type": "code",
   "execution_count": null,
   "id": "c1b5b560",
   "metadata": {
    "execution": {
     "iopub.execute_input": "2023-01-11T12:15:32.240080Z",
     "iopub.status.busy": "2023-01-11T12:15:32.239018Z",
     "iopub.status.idle": "2023-01-11T12:17:28.173984Z",
     "shell.execute_reply": "2023-01-11T12:17:28.172861Z"
    },
    "papermill": {
     "duration": 116.163512,
     "end_time": "2023-01-11T12:17:28.179337",
     "exception": false,
     "start_time": "2023-01-11T12:15:32.015825",
     "status": "completed"
    },
    "tags": []
   },
   "outputs": [],
   "source": [
    "ma.quotient_plot(show_cells=strat_cell_list)"
   ]
  },
  {
   "cell_type": "code",
   "execution_count": null,
   "id": "61b8e401",
   "metadata": {
    "execution": {
     "iopub.execute_input": "2023-01-11T12:17:28.650295Z",
     "iopub.status.busy": "2023-01-11T12:17:28.649722Z",
     "iopub.status.idle": "2023-01-11T12:17:53.432957Z",
     "shell.execute_reply": "2023-01-11T12:17:53.431709Z"
    },
    "papermill": {
     "duration": 25.023831,
     "end_time": "2023-01-11T12:17:53.436313",
     "exception": false,
     "start_time": "2023-01-11T12:17:28.412482",
     "status": "completed"
    },
    "tags": []
   },
   "outputs": [],
   "source": [
    "ma.top_ion_plot()"
   ]
  },
  {
   "cell_type": "markdown",
   "id": "b7b6e691",
   "metadata": {
    "papermill": {
     "duration": 0.249113,
     "end_time": "2023-01-11T12:17:53.941657",
     "exception": false,
     "start_time": "2023-01-11T12:17:53.692544",
     "status": "completed"
    },
    "tags": []
   },
   "source": [
    "## Comparison of the datasets\n",
    "\n",
    "In the following, the uncorrected and ISM-corrected datasets are compared using methods of a typical single-cell analysis. Unless specified otherwise, the data was preprocessed using TOC normalization and log transformation."
   ]
  },
  {
   "cell_type": "code",
   "execution_count": null,
   "id": "779d9ae4",
   "metadata": {
    "execution": {
     "iopub.execute_input": "2023-01-11T12:17:54.458400Z",
     "iopub.status.busy": "2023-01-11T12:17:54.457761Z",
     "iopub.status.idle": "2023-01-11T12:18:04.523971Z",
     "shell.execute_reply": "2023-01-11T12:18:04.522899Z"
    },
    "papermill": {
     "duration": 10.328823,
     "end_time": "2023-01-11T12:18:04.526295",
     "exception": false,
     "start_time": "2023-01-11T12:17:54.197472",
     "status": "completed"
    },
    "tags": []
   },
   "outputs": [],
   "source": [
    "def dimred_pca(adata):\n",
    "    sc.pp.pca(adata)\n",
    "    sc.pl.pca_overview(adata, color=['well', condition_name], palette='cividis')\n",
    "\n",
    "dimred_pca(adata)\n",
    "dimred_pca(adata_cor)"
   ]
  },
  {
   "cell_type": "code",
   "execution_count": null,
   "id": "31fda607",
   "metadata": {
    "execution": {
     "iopub.execute_input": "2023-01-11T12:18:05.185008Z",
     "iopub.status.busy": "2023-01-11T12:18:05.184029Z",
     "iopub.status.idle": "2023-01-11T12:19:43.582473Z",
     "shell.execute_reply": "2023-01-11T12:19:43.581399Z"
    },
    "papermill": {
     "duration": 98.732356,
     "end_time": "2023-01-11T12:19:43.587944",
     "exception": false,
     "start_time": "2023-01-11T12:18:04.855588",
     "status": "completed"
    },
    "tags": []
   },
   "outputs": [],
   "source": [
    "dimred_umap(adata)\n",
    "dimred_umap(adata_cor)"
   ]
  },
  {
   "cell_type": "code",
   "execution_count": null,
   "id": "dc126845",
   "metadata": {
    "execution": {
     "iopub.execute_input": "2023-01-11T12:19:44.264564Z",
     "iopub.status.busy": "2023-01-11T12:19:44.263425Z",
     "iopub.status.idle": "2023-01-11T12:19:44.269989Z",
     "shell.execute_reply": "2023-01-11T12:19:44.269093Z"
    },
    "papermill": {
     "duration": 0.34672,
     "end_time": "2023-01-11T12:19:44.272432",
     "exception": false,
     "start_time": "2023-01-11T12:19:43.925712",
     "status": "completed"
    },
    "tags": []
   },
   "outputs": [],
   "source": [
    "# from sklearn.metrics.cluster import completeness_score\n",
    "# from sklearn.metrics import accuracy_score, silhouette_score\n",
    "# \n",
    "# def kmeans_clust(adata):\n",
    "#     n_clusters = len(adata.obs[condition_name].value_counts())\n",
    "#     kmeans = KMeans(n_clusters=n_clusters, random_state=0).fit(adata.X)\n",
    "#     adata.obs['kmeans'] = kmeans.labels_.astype(str)\n",
    "# \n",
    "#     sc.tl.leiden(adata, resolution=2)\n",
    "# \n",
    "#     leiden = np.array(adata.obs['leiden'].values)\n",
    "#     leiden_curated = np.copy(leiden)\n",
    "#     fc = np.array(adata.obs[condition_name].values)\n",
    "#     for cluster in np.unique(leiden):\n",
    "#         labels, counts = np.unique(fc[leiden == cluster], return_counts=True)\n",
    "#         leiden_curated[leiden == cluster] = str(labels[counts == np.max(counts)][0])\n",
    "#     adata.obs['leiden_curated'] = leiden_curated\n",
    "# \n",
    "#     sc.pl.umap(adata, color=['kmeans', 'leiden', 'leiden_curated', condition_name], palette='cividis')\n",
    "#     # print('Leiden acccuracy score: %1.4f' % accuracy_score(y_true = adata.obs[condition_name].replace(['HeLa', 'NIH3T3'], ['0', '1']), y_pred = adata.obs['leiden']))\n",
    "#     print('Curated leiden acccuracy score: %1.4f' % accuracy_score(y_true = adata.obs[condition_name], y_pred = adata.obs['leiden_curated']))\n",
    "#     print('KMeans completeness score: %1.4f' % completeness_score(adata.obs[condition_name], adata.obs['kmeans']))\n",
    "#     print('KMeans silhouette coefficient: %1.4f' % silhouette_score(adata.X, adata.obs['kmeans']))\n",
    "# \n",
    "# kmeans_clust(adata)\n",
    "# kmeans_clust(adata_cor)\n",
    "# "
   ]
  },
  {
   "cell_type": "code",
   "execution_count": null,
   "id": "e0a4f3e7",
   "metadata": {
    "execution": {
     "iopub.execute_input": "2023-01-11T12:19:44.956438Z",
     "iopub.status.busy": "2023-01-11T12:19:44.955478Z",
     "iopub.status.idle": "2023-01-11T12:30:26.629348Z",
     "shell.execute_reply": "2023-01-11T12:30:26.628287Z"
    },
    "papermill": {
     "duration": 642.126387,
     "end_time": "2023-01-11T12:30:26.740879",
     "exception": false,
     "start_time": "2023-01-11T12:19:44.614492",
     "status": "completed"
    },
    "tags": []
   },
   "outputs": [],
   "source": [
    "summaries = intermixing({'uncorrected': adata, 'ISM correction': adata_cor}, condition_name = condition_name, measures = ['X_pca', 'X_umap'])"
   ]
  },
  {
   "cell_type": "code",
   "execution_count": null,
   "id": "15a6f5f5",
   "metadata": {
    "execution": {
     "iopub.execute_input": "2023-01-11T12:30:27.460060Z",
     "iopub.status.busy": "2023-01-11T12:30:27.459452Z",
     "iopub.status.idle": "2023-01-11T12:33:36.186618Z",
     "shell.execute_reply": "2023-01-11T12:33:36.185573Z"
    },
    "papermill": {
     "duration": 189.090415,
     "end_time": "2023-01-11T12:33:36.190342",
     "exception": false,
     "start_time": "2023-01-11T12:30:27.099927",
     "status": "completed"
    },
    "tags": []
   },
   "outputs": [],
   "source": [
    "s = intermixing(\n",
    "    adata_dict = {'uncorrected': adata, 'ISM correction': adata_cor},\n",
    "    condition_name = condition_name,\n",
    "    sample_frac=0.1,\n",
    "    measures =['X_umap', 'X_pca'],\n",
    "    n_datapoints = 50,\n",
    "    sample_log = True,\n",
    "    neighborhood_size = None,\n",
    "    normalized = False,\n",
    "    show_table = [],\n",
    "    n_jobs = multiprocessing.cpu_count()\n",
    ")"
   ]
  },
  {
   "cell_type": "code",
   "execution_count": null,
   "id": "f353f3bb",
   "metadata": {
    "execution": {
     "iopub.execute_input": "2023-01-11T12:33:36.927474Z",
     "iopub.status.busy": "2023-01-11T12:33:36.926927Z",
     "iopub.status.idle": "2023-01-11T12:33:36.935179Z",
     "shell.execute_reply": "2023-01-11T12:33:36.934140Z"
    },
    "papermill": {
     "duration": 0.380451,
     "end_time": "2023-01-11T12:33:36.937562",
     "exception": false,
     "start_time": "2023-01-11T12:33:36.557111",
     "status": "completed"
    },
    "tags": []
   },
   "outputs": [],
   "source": [
    "from scipy.integrate import trapz, simps\n",
    "\n",
    "def auc_intermixing(summary_dict):\n",
    "    for name, data in summary_dict.items():\n",
    "        print('Area under the curve for %s: %1.4f'%(name, trapz(data['mean'], data.index) / max(data.index)))\n",
    "\n",
    "\n",
    "auc_intermixing(s[1])"
   ]
  },
  {
   "cell_type": "code",
   "execution_count": null,
   "id": "fb6dab61",
   "metadata": {
    "execution": {
     "iopub.execute_input": "2023-01-11T12:33:37.660347Z",
     "iopub.status.busy": "2023-01-11T12:33:37.659554Z",
     "iopub.status.idle": "2023-01-11T12:33:37.671514Z",
     "shell.execute_reply": "2023-01-11T12:33:37.670510Z"
    },
    "papermill": {
     "duration": 0.375742,
     "end_time": "2023-01-11T12:33:37.673906",
     "exception": false,
     "start_time": "2023-01-11T12:33:37.298164",
     "status": "completed"
    },
    "tags": []
   },
   "outputs": [],
   "source": [
    "from sklearn.svm import LinearSVC\n",
    "\n",
    "def analyse_svm_margin(adata, adata_cor, condition_name, layer=None):\n",
    "    print(layer)\n",
    "    if layer is not None:\n",
    "        adata.layers['default_X'] = adata.X\n",
    "        adata.X = adata.layers[layer]\n",
    "        adata_cor.layers['default_X'] = adata_cor.X\n",
    "        adata_cor.X = adata_cor.layers[layer]\n",
    "    \n",
    "    def get_svm_margin(adata, condition_name, size_factor = 1):\n",
    "        predictors = adata.X * size_factor\n",
    "        result = adata.obs[condition_name]\n",
    "        clf = LinearSVC(random_state=0, dual=False)\n",
    "        clf.fit(predictors, result)  \n",
    "        margin_df = pd.DataFrame({'condition': clf.classes_, 'margin': 1 / np.sqrt(np.sum(clf.coef_**2, axis=1))})\n",
    "\n",
    "        #print(margin_df)\n",
    "        return margin_df\n",
    "    \n",
    "    size_factor = np.sum(adata.X) / np.sum(adata_cor.X)\n",
    "\n",
    "    df = pd.merge(get_svm_margin(adata, condition_name), \n",
    "                  get_svm_margin(adata_cor, condition_name, size_factor = size_factor), \n",
    "                  on='condition', suffixes=['_uncorrected', '_ISM_corrected'])\n",
    "    sns.set(rc={\"figure.figsize\":(12, 5)})\n",
    "    sns.barplot(df.melt(id_vars='condition', var_name='correction', value_name='margin'), \n",
    "                x='condition', y='margin', hue='correction').set_title('Comparison of SVM margins for layer %s'%layer)\n",
    "    \n",
    "    \n",
    "    \n",
    "    if layer is not None:\n",
    "        adata.X = adata.layers['default_X']\n",
    "        adata_cor.X = adata_cor.layers['default_X']\n",
    "   "
   ]
  },
  {
   "cell_type": "code",
   "execution_count": null,
   "id": "d152a0ef",
   "metadata": {
    "execution": {
     "iopub.execute_input": "2023-01-11T12:33:38.432344Z",
     "iopub.status.busy": "2023-01-11T12:33:38.431909Z",
     "iopub.status.idle": "2023-01-11T12:33:41.324929Z",
     "shell.execute_reply": "2023-01-11T12:33:41.323927Z"
    },
    "papermill": {
     "duration": 3.281841,
     "end_time": "2023-01-11T12:33:41.327918",
     "exception": false,
     "start_time": "2023-01-11T12:33:38.046077",
     "status": "completed"
    },
    "tags": []
   },
   "outputs": [],
   "source": [
    "analyse_svm_margin(adata, adata_cor, condition_name, layer='log_norm_counts')"
   ]
  },
  {
   "cell_type": "code",
   "execution_count": null,
   "id": "9db20d71",
   "metadata": {
    "execution": {
     "iopub.execute_input": "2023-01-11T12:33:42.065637Z",
     "iopub.status.busy": "2023-01-11T12:33:42.065151Z",
     "iopub.status.idle": "2023-01-11T12:33:44.905729Z",
     "shell.execute_reply": "2023-01-11T12:33:44.904715Z"
    },
    "papermill": {
     "duration": 3.205524,
     "end_time": "2023-01-11T12:33:44.908259",
     "exception": false,
     "start_time": "2023-01-11T12:33:41.702735",
     "status": "completed"
    },
    "tags": []
   },
   "outputs": [],
   "source": [
    "analyse_svm_margin(adata, adata_cor, condition_name, layer='log_norm_counts')"
   ]
  }
 ],
 "metadata": {
  "kernelspec": {
   "display_name": "Python 3 (ipykernel)",
   "language": "python",
   "name": "python3"
  },
  "language_info": {
   "codemirror_mode": {
    "name": "ipython",
    "version": 3
   },
   "file_extension": ".py",
   "mimetype": "text/x-python",
   "name": "python",
   "nbconvert_exporter": "python",
   "pygments_lexer": "ipython3",
   "version": "3.10.8"
  },
  "papermill": {
   "default_parameters": {},
   "duration": 4894.689071,
   "end_time": "2023-01-11T12:33:49.137780",
   "environment_variables": {},
   "exception": null,
   "input_path": "analysis/Lx_Pancreatic_Cancer/pipeline_03_evaluation.ipynb",
   "output_path": "analysis/Lx_Pancreatic_Cancer/pipeline_03_evaluation.ipynb",
   "parameters": {
    "analysis_path": "/home/mklein/FDA_project/analysis/Lx_Pancreatic_Cancer",
    "condition_name": "condition",
    "notebooks": [
     "pipeline_01_correction.ipynb",
     "pipeline_02_processing.ipynb",
     "pipeline_03_evaluation.ipynb"
    ],
    "project": "Lx_Pancreatic_Cancer",
    "source_path": "/home/mklein/Raw Data/2022-01-31_PancreaticCancer",
    "target_path": "/home/mklein/FDA_project/data/Lx_Pancreatic_Cancer",
    "well_name": "slide_well"
   },
   "start_time": "2023-01-11T11:12:14.448709",
   "version": "2.3.4"
  },
  "vscode": {
   "interpreter": {
    "hash": "89b4449ee30f46b148fb6825d70934bcbb1ebdb6d5b2015fe3835362773c7289"
   }
  }
 },
 "nbformat": 4,
 "nbformat_minor": 5
}
