{
 "cells": [
  {
   "cell_type": "markdown",
   "id": "20d299eb",
   "metadata": {
    "papermill": {
     "duration": 0.008363,
     "end_time": "2022-12-01T11:01:00.907064",
     "exception": false,
     "start_time": "2022-12-01T11:01:00.898701",
     "status": "completed"
    },
    "tags": []
   },
   "source": [
    "# Lx_Glioblastoma: Correction\n",
    "\n",
    "SpaceM datasets are usually stored as annotated data-matrices, separately for individual wells. With this notebooks, these individual files are corrected for ion suppression on the pixel-level and then deconvoluted to cell-level. All resulting files are saved separately by well to the target_path and the impact of the correction briefly shown for visual inspection."
   ]
  },
  {
   "cell_type": "code",
   "execution_count": null,
   "id": "2c1c2695",
   "metadata": {
    "execution": {
     "iopub.execute_input": "2023-01-10T13:23:41.317169Z",
     "iopub.status.busy": "2023-01-10T13:23:41.316318Z",
     "iopub.status.idle": "2023-01-10T13:23:48.845055Z",
     "shell.execute_reply": "2023-01-10T13:23:48.843949Z"
    },
    "papermill": {
     "duration": 3.964571,
     "end_time": "2022-12-01T11:01:04.878868",
     "exception": false,
     "start_time": "2022-12-01T11:01:00.914297",
     "status": "completed"
    },
    "tags": []
   },
   "outputs": [],
   "source": [
    "import os\n",
    "import platform\n",
    "import scanpy as sc\n",
    "import pandas as pd\n",
    "import numpy as np\n",
    "import anndata as ad\n",
    "import statistics as st\n",
    "import multiprocessing\n",
    "from joblib import Parallel, delayed\n",
    "from tqdm import tqdm\n",
    "import statsmodels.formula.api as smf\n",
    "import seaborn as sns\n",
    "import re\n",
    "from importlib import reload\n",
    "import json\n",
    "import sys\n",
    "sys.path.append('/home/mklein/spacem')\n",
    "sys.path.append('/home/mklein/FDA_project')\n",
    "\n",
    "from src.correction import (add_normalization_factors, \n",
    "                            correct_quantile_inplace,\n",
    "                            deconvolution_spacem,\n",
    "                            get_overlap_data,\n",
    "                            add_overlap_matrix_spacem,\n",
    "                            get_reference_pool\n",
    "                           )\n",
    "from src import const \n",
    "from SpaceM.lib.modules import (\n",
    "    overlap_analysis,\n",
    "    single_cell_analysis_normalization\n",
    ")\n",
    "\n",
    "%matplotlib inline"
   ]
  },
  {
   "cell_type": "markdown",
   "id": "0464d9f6",
   "metadata": {
    "papermill": {
     "duration": 0.00681,
     "end_time": "2022-12-01T11:01:04.896075",
     "exception": false,
     "start_time": "2022-12-01T11:01:04.889265",
     "status": "completed"
    },
    "tags": []
   },
   "source": [
    "The original data lies on the groups shared data storage. Corrected files will be saved in a separate location, preserving the well-specific folder structure."
   ]
  },
  {
   "cell_type": "code",
   "execution_count": null,
   "id": "b55e97a5",
   "metadata": {
    "execution": {
     "iopub.execute_input": "2023-01-10T13:23:48.851249Z",
     "iopub.status.busy": "2023-01-10T13:23:48.849877Z",
     "iopub.status.idle": "2023-01-10T13:23:48.856323Z",
     "shell.execute_reply": "2023-01-10T13:23:48.855254Z"
    },
    "papermill": {
     "duration": 0.017361,
     "end_time": "2022-12-01T11:01:04.919730",
     "exception": false,
     "start_time": "2022-12-01T11:01:04.902369",
     "status": "completed"
    },
    "tags": [
     "parameters"
    ]
   },
   "outputs": [],
   "source": [
    "if platform.system() == \"Darwin\":\n",
    "    source_path = '/Volumes/alexandr/smenon/2022-07-13_Glioblastoma/processed_files'\n",
    "    target_path = '/Volumes/mklein/FDA_project/data/Lx_Glioblastoma'\n",
    "else:\n",
    "    source_path = '/g/alexandr/smenon/2022-07-13_Glioblastoma/processed_files'\n",
    "    target_path = '/home/mklein/FDA_project/data/Lx_Glioblastoma'\n",
    "    \n",
    "deconv_default_min_overlap = 0.0"
   ]
  },
  {
   "cell_type": "code",
   "execution_count": null,
   "id": "c59bd8df",
   "metadata": {
    "execution": {
     "iopub.execute_input": "2023-01-10T13:23:48.861104Z",
     "iopub.status.busy": "2023-01-10T13:23:48.860216Z",
     "iopub.status.idle": "2023-01-10T13:23:48.866858Z",
     "shell.execute_reply": "2023-01-10T13:23:48.865713Z"
    },
    "papermill": {
     "duration": 0.015854,
     "end_time": "2022-12-01T11:01:04.941743",
     "exception": false,
     "start_time": "2022-12-01T11:01:04.925889",
     "status": "completed"
    },
    "tags": [
     "injected-parameters"
    ]
   },
   "outputs": [],
   "source": [
    "# Parameters\n",
    "source_path = \"/g/alexandr/smenon/2022-07-13_Glioblastoma/processed_files\"\n",
    "target_path = \"/home/mklein/FDA_project/data/Lx_Glioblastoma\"\n",
    "condition_name = \"condition\"\n",
    "well_name = \"rowcol\"\n",
    "deconv_default_min_overlap = 0.3\n",
    "analysis_path = \"/home/mklein/FDA_project/analysis/Lx_Glioblastoma\"\n",
    "notebooks = [\n",
    "    \"pipeline_01_correction.ipynb\",\n",
    "    \"pipeline_02_processing.ipynb\",\n",
    "    \"pipeline_03_evaluation.ipynb\",\n",
    "]\n",
    "project = \"Lx_Glioblastoma\"\n",
    "correction_proportion_threshold = 0.1"
   ]
  },
  {
   "cell_type": "code",
   "execution_count": null,
   "id": "0af65dcf",
   "metadata": {
    "execution": {
     "iopub.execute_input": "2023-01-10T13:23:48.871188Z",
     "iopub.status.busy": "2023-01-10T13:23:48.870597Z",
     "iopub.status.idle": "2023-01-10T13:23:58.842053Z",
     "shell.execute_reply": "2023-01-10T13:23:58.840999Z"
    },
    "papermill": {
     "duration": 0.533793,
     "end_time": "2022-12-01T11:01:05.481153",
     "exception": false,
     "start_time": "2022-12-01T11:01:04.947360",
     "status": "completed"
    },
    "tags": []
   },
   "outputs": [],
   "source": [
    "samples = []\n",
    "for dirpath, dirnames, filenames in os.walk(source_path):\n",
    "        if 'analysis' in dirnames:\n",
    "            samples.append(re.sub(source_path+'/?', '', dirpath))\n",
    "\", \".join(samples)"
   ]
  },
  {
   "cell_type": "code",
   "execution_count": null,
   "id": "abf69d2b",
   "metadata": {
    "execution": {
     "iopub.execute_input": "2023-01-10T13:23:58.846872Z",
     "iopub.status.busy": "2023-01-10T13:23:58.846300Z",
     "iopub.status.idle": "2023-01-10T13:23:58.851314Z",
     "shell.execute_reply": "2023-01-10T13:23:58.850428Z"
    },
    "papermill": {
     "duration": 0.014181,
     "end_time": "2022-12-01T11:01:05.502814",
     "exception": false,
     "start_time": "2022-12-01T11:01:05.488633",
     "status": "completed"
    },
    "tags": []
   },
   "outputs": [],
   "source": [
    "files = {\n",
    "        'config': '../config.json',\n",
    "        'sm_matrix': 'ablation_mark_analysis/spatiomolecular_adata.h5ad',\n",
    "        'overlap_regions': 'overlap_analysis2/overlap.regions.csv',\n",
    "        'mark_regions': 'overlap_analysis2/ablation_mark.regions.csv',\n",
    "        'cell_regions': 'overlap_analysis2/cell.regions.csv',\n",
    "        'cell_sm_matrix': 'single_cell_analysis/spatiomolecular_adata.h5ad',\n",
    "    }"
   ]
  },
  {
   "cell_type": "code",
   "execution_count": null,
   "id": "4a9892b2",
   "metadata": {
    "execution": {
     "iopub.execute_input": "2023-01-10T13:23:58.855864Z",
     "iopub.status.busy": "2023-01-10T13:23:58.855210Z",
     "iopub.status.idle": "2023-01-10T13:23:58.862681Z",
     "shell.execute_reply": "2023-01-10T13:23:58.861780Z"
    },
    "papermill": {
     "duration": 0.016085,
     "end_time": "2022-12-01T11:01:05.524784",
     "exception": false,
     "start_time": "2022-12-01T11:01:05.508699",
     "status": "completed"
    },
    "tags": []
   },
   "outputs": [],
   "source": [
    "def assign_average_tpo(am_adata, overlap_data, min_overlap, method=np.mean):\n",
    "    if min_overlap is None:\n",
    "        min_overlap = 0\n",
    "    \n",
    "    overlap = overlap_data.overlap_regions\n",
    "    overlap['am_id'] = overlap['am_id'].astype(str)\n",
    "    overlap['cell_id'] = overlap['cell_id'].astype(str)\n",
    "    merged_df = pd.merge(overlap[['am_id', 'cell_id']], am_adata.obs[const.TPO], left_on='am_id', right_index=True)\n",
    "    merged_df = merged_df[merged_df[const.TPO] >= min_overlap]\n",
    "    \n",
    "    mean_df = merged_df[['cell_id', 'correction_total_pixel_overlap']].groupby('cell_id', group_keys=False).agg(method)\n",
    "#     mean_df = merged_df[['cell_id', 'correction_total_pixel_overlap']].groupby('cell_id', group_keys=False).agg(lambda x: method(x))\n",
    "    return mean_df[const.TPO]"
   ]
  },
  {
   "cell_type": "code",
   "execution_count": null,
   "id": "7651654f",
   "metadata": {
    "execution": {
     "iopub.execute_input": "2023-01-10T13:23:58.867071Z",
     "iopub.status.busy": "2023-01-10T13:23:58.866660Z",
     "iopub.status.idle": "2023-01-10T13:23:58.881392Z",
     "shell.execute_reply": "2023-01-10T13:23:58.880275Z"
    },
    "papermill": {
     "duration": 0.021357,
     "end_time": "2022-12-01T11:01:05.552460",
     "exception": false,
     "start_time": "2022-12-01T11:01:05.531103",
     "status": "completed"
    },
    "tags": []
   },
   "outputs": [],
   "source": [
    "def correct_sample_spacem(sample):\n",
    "    \n",
    "    sample_path = os.path.join(source_path, sample, \"analysis\")\n",
    "    sample = re.sub('/', '_', sample)\n",
    "    \n",
    "    if not os.path.exists(os.path.join(target_path, sample)):\n",
    "        os.makedirs(os.path.join(target_path, sample))\n",
    "\n",
    "    # get appropriate file paths for the processed well\n",
    "    project_files = {k: os.path.join(sample_path, v) for k, v in files.items()}\n",
    "\n",
    "    if os.path.exists(project_files['config']):\n",
    "        with open(project_files['config']) as json_file:\n",
    "            data = json.load(json_file)\n",
    "        deconv_info = data['single_cell_analysis']\n",
    "        if deconv_info['ablation_marks_min_overlap_ratio'] is None:\n",
    "            deconv_info['ablation_marks_min_overlap_ratio'] = deconv_default_min_overlap\n",
    "    else:\n",
    "        deconv_info = None\n",
    "        print('No well config file found. Using default deconvolution parameters.')\n",
    "    # load required files\n",
    "    cell_regions = pd.read_csv(project_files['cell_regions'])\n",
    "    mark_regions = pd.read_csv(project_files['mark_regions'])\n",
    "    overlap_regions = pd.read_csv(project_files['overlap_regions'])\n",
    "    \n",
    "    sm_matrix = sc.read(os.path.join(sample_path, files['sm_matrix']))\n",
    "    cell_sm_matrix = sc.read(os.path.join(sample_path, files['cell_sm_matrix']))\n",
    "       \n",
    "    add_overlap_matrix_spacem(sm_matrix, cell_regions, mark_regions, overlap_regions)\n",
    "    \n",
    "    add_normalization_factors(adata=sm_matrix, method=st.median)\n",
    "\n",
    "    # perform the actual quantile regression\n",
    "    corr_sm_matrix = correct_quantile_inplace(adata=sm_matrix, \n",
    "        reference_ions= get_reference_pool(sm_matrix), \n",
    "        correct_intersect = True,\n",
    "        proportion_threshold=correction_proportion_threshold,\n",
    "        n_jobs=5)\n",
    "    \n",
    "    # perform pixel-cell-deconvolution\n",
    "    overlap_data = get_overlap_data(cell_regions, mark_regions, overlap_regions)\n",
    "    corr_cell_sm_matrix = deconvolution_spacem(adata=corr_sm_matrix, \n",
    "        overlap_data=overlap_data,\n",
    "        raw_adata=cell_sm_matrix,\n",
    "        deconvolution_params=deconv_info)\n",
    "    gen_cell_sm_matrix = deconvolution_spacem(adata=sm_matrix,\n",
    "        overlap_data=overlap_data,\n",
    "        raw_adata=cell_sm_matrix,\n",
    "        deconvolution_params=deconv_info)\n",
    "    \n",
    "    # hand over TPOs to spatiomolecular matrix for downstream analysis\n",
    "    min_overlap = deconv_info['ablation_marks_min_overlap_ratio']\n",
    "    corr_cell_sm_matrix.obs['list_TPO'] = assign_average_tpo(sm_matrix, overlap_data, min_overlap, method=lambda x: \";\".join(x.astype(str)))\n",
    "    gen_cell_sm_matrix.obs['list_TPO'] = assign_average_tpo(sm_matrix, overlap_data, min_overlap, method=lambda x: \";\".join(x.astype(str)))\n",
    "    \n",
    "    # write the generated files to the dedicated project location.\n",
    "    # corr_sm_matrix.write(os.path.join(target_path, sample, 'am_spatiomolecular_adata_corrected.h5ad'))\n",
    "    # sm_matrix.write(os.path.join(target_path, sample, 'am_spatiomolecular_adata.h5ad'))\n",
    "    corr_cell_sm_matrix.write(os.path.join(target_path, sample, 'cells_spatiomolecular_adata_corrected.h5ad'))\n",
    "    cell_sm_matrix.write(os.path.join(target_path, sample, 'cells_spatiomolecular_adata_spacem.h5ad'))\n",
    "    gen_cell_sm_matrix.write(os.path.join(target_path, sample, 'cells_spatiomolecular_adata.h5ad'))\n",
    "    \n",
    "    return (sample, cell_sm_matrix, corr_cell_sm_matrix, sm_matrix, corr_sm_matrix, deconv_info)"
   ]
  },
  {
   "cell_type": "markdown",
   "id": "05809e89",
   "metadata": {
    "papermill": {
     "duration": 0.005458,
     "end_time": "2022-12-01T11:01:05.563907",
     "exception": false,
     "start_time": "2022-12-01T11:01:05.558449",
     "status": "completed"
    },
    "tags": []
   },
   "source": [
    "This is the actual correction pipeline."
   ]
  },
  {
   "cell_type": "code",
   "execution_count": null,
   "id": "b2515c5f",
   "metadata": {
    "execution": {
     "iopub.execute_input": "2023-01-10T13:23:58.885815Z",
     "iopub.status.busy": "2023-01-10T13:23:58.885284Z",
     "iopub.status.idle": "2023-01-10T13:40:09.315106Z",
     "shell.execute_reply": "2023-01-10T13:40:09.314083Z"
    },
    "papermill": {
     "duration": 321.975821,
     "end_time": "2022-12-01T11:06:27.545094",
     "exception": false,
     "start_time": "2022-12-01T11:01:05.569273",
     "status": "completed"
    },
    "tags": []
   },
   "outputs": [],
   "source": [
    "adata_list = Parallel(n_jobs=7)(delayed(correct_sample_spacem)(sample) for sample in tqdm(samples))\n",
    "# adata_list = [correct_sample_spacem(sample) for sample in tqdm(['I4'])]"
   ]
  },
  {
   "cell_type": "code",
   "execution_count": null,
   "id": "80785614",
   "metadata": {
    "execution": {
     "iopub.execute_input": "2023-01-10T13:40:09.320812Z",
     "iopub.status.busy": "2023-01-10T13:40:09.319852Z",
     "iopub.status.idle": "2023-01-10T13:40:12.903830Z",
     "shell.execute_reply": "2023-01-10T13:40:12.902525Z"
    },
    "papermill": {
     "duration": 12.028361,
     "end_time": "2022-12-01T11:06:39.587455",
     "exception": false,
     "start_time": "2022-12-01T11:06:27.559094",
     "status": "completed"
    },
    "tags": []
   },
   "outputs": [],
   "source": [
    "# reshape data for immediate analysis\n",
    "am_adata_dict = {item[0]: item[3] for item in adata_list}\n",
    "am_adata_cor_dict = {item[0]: item[4] for item in adata_list}\n",
    "adata_dict = {item[0]: item[1] for item in adata_list}\n",
    "adata_cor_dict = {item[0]: item[2] for item in adata_list}\n",
    "\n",
    "am_adata = ad.concat(am_adata_dict, label='well', index_unique=\"_\", merge=\"first\")\n",
    "am_adata_cor = ad.concat(am_adata_cor_dict, label='well', index_unique=\"_\", merge='first')\n",
    "adata = ad.concat(adata_dict, label='well', index_unique=\"_\", merge=\"first\")\n",
    "adata_cor = ad.concat(adata_cor_dict, label='well', index_unique=\"_\", merge=\"first\")\n",
    "\n",
    "deconv_dict = {item[0]: item[5] for item in adata_list}\n",
    "deconv_table = pd.DataFrame(deconv_dict).T\n",
    "deconv_table"
   ]
  },
  {
   "cell_type": "markdown",
   "id": "8decc6f0-e087-4c8c-b916-240aa4400235",
   "metadata": {},
   "source": [
    "The ion suppression correction takes a parameter proportion_threshold to filter the pixels used to compute quantile regression. In particular, pixels with a sampling proportion lower than the threshold are excluded for this step. In contrast, the actual correction is then performed on all pixels in the dataset. As a consequence, for the majority of the dataset, the dependence of the data on the factor \"sampling_proportion\" is not completely removed by the correction. Instead, depending on the difference in slope between the complete and thresholded set of pixels, the corrected set of pixels has a positive or negative dependence on the factor \"sampling_proportion\". The larger the proportion_threshold, the stronger this deviation can get.\n",
    "\n",
    "In the following figure, these differences are visualized for a subset of ions (with very low/high correction slope) and wells. The top panel shows the logarithmic ion intensity/proportion ratio plotted against the log proportion ratio of the respective pixels. As this is the relationship used to compute the quantile regression, the resulting regression lines can also be shown. The black lines show the quantile regression of the total set of pixels in a well, the red lines for the thresholded set (shown as orange squares). In turn, the blue squares are disregarded in calculating the correction slope. The bottom panel shows the corresponding corrected sets of pixels with black lines again representing the quantile regression on the complete set of pixels."
   ]
  },
  {
   "cell_type": "code",
   "execution_count": null,
   "id": "265fc62c-1574-48d8-ad01-706d4195024d",
   "metadata": {
    "execution": {
     "iopub.execute_input": "2023-01-10T13:40:12.908815Z",
     "iopub.status.busy": "2023-01-10T13:40:12.908091Z",
     "iopub.status.idle": "2023-01-10T13:40:12.913056Z",
     "shell.execute_reply": "2023-01-10T13:40:12.911981Z"
    },
    "papermill": {
     "duration": null,
     "end_time": null,
     "exception": null,
     "start_time": null,
     "status": "pending"
    },
    "tags": []
   },
   "outputs": [],
   "source": [
    "import warnings\n",
    "warnings.filterwarnings('ignore')"
   ]
  },
  {
   "cell_type": "code",
   "execution_count": null,
   "id": "afaf5db4-8a5d-48ea-ae9e-9b6e18e429da",
   "metadata": {
    "execution": {
     "iopub.execute_input": "2023-01-10T13:40:12.916976Z",
     "iopub.status.busy": "2023-01-10T13:40:12.916556Z",
     "iopub.status.idle": "2023-01-10T13:40:12.944011Z",
     "shell.execute_reply": "2023-01-10T13:40:12.942749Z"
    },
    "papermill": {
     "duration": null,
     "end_time": null,
     "exception": null,
     "start_time": null,
     "status": "pending"
    },
    "tags": []
   },
   "outputs": [],
   "source": [
    "am_adata.obs[const.TPO] = am_adata_cor.obs[const.TPO]"
   ]
  },
  {
   "cell_type": "code",
   "execution_count": null,
   "id": "e41dde30-6f71-4086-930d-7458d0a90f85",
   "metadata": {
    "execution": {
     "iopub.execute_input": "2023-01-10T13:40:12.948789Z",
     "iopub.status.busy": "2023-01-10T13:40:12.948071Z",
     "iopub.status.idle": "2023-01-10T13:40:25.231780Z",
     "shell.execute_reply": "2023-01-10T13:40:25.230262Z"
    },
    "papermill": {
     "duration": null,
     "end_time": null,
     "exception": null,
     "start_time": null,
     "status": "pending"
    },
    "tags": []
   },
   "outputs": [],
   "source": [
    "from src.evaluation import compare_pre_post_correction\n",
    "compare_pre_post_correction(am_adata, am_adata_cor, proportion_threshold=correction_proportion_threshold)"
   ]
  }
 ],
 "metadata": {
  "kernelspec": {
   "display_name": "Python 3 (ipykernel)",
   "language": "python",
   "name": "python3"
  },
  "language_info": {
   "codemirror_mode": {
    "name": "ipython",
    "version": 3
   },
   "file_extension": ".py",
   "mimetype": "text/x-python",
   "name": "python",
   "nbconvert_exporter": "python",
   "pygments_lexer": "ipython3",
   "version": "3.10.6"
  },
  "papermill": {
   "default_parameters": {},
   "duration": 342.094701,
   "end_time": "2022-12-01T11:06:40.576975",
   "environment_variables": {},
   "exception": null,
   "input_path": "/home/mklein/FDA_project/pipeline_01_correction.ipynb",
   "output_path": "/home/mklein/FDA_project/analysis/Lx_Glioblastoma/pipeline_01_correction.ipynb",
   "parameters": {
    "analysis_path": "/home/mklein/FDA_project/analysis/Lx_Glioblastoma",
    "condition_name": "condition",
    "deconv_default_min_overlap": 0.3,
    "notebooks": [
     "pipeline_01_correction.ipynb",
     "pipeline_02_processing.ipynb",
     "pipeline_03_evaluation.ipynb"
    ],
    "project": "Lx_Glioblastoma",
    "source_path": "/g/alexandr/smenon/2022-07-13_Glioblastoma/processed_files",
    "target_path": "/home/mklein/FDA_project/data/Lx_Glioblastoma",
    "well_name": "rowcol"
   },
   "start_time": "2022-12-01T11:00:58.482274",
   "version": "2.3.4"
  },
  "vscode": {
   "interpreter": {
    "hash": "89b4449ee30f46b148fb6825d70934bcbb1ebdb6d5b2015fe3835362773c7289"
   }
  }
 },
 "nbformat": 4,
 "nbformat_minor": 5
}
