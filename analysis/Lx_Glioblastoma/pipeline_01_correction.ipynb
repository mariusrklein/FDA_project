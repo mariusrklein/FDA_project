{
 "cells": [
  {
   "cell_type": "markdown",
   "id": "149d35af",
   "metadata": {
    "papermill": {
     "duration": 0.00883,
     "end_time": "2022-11-16T17:32:07.420082",
     "exception": false,
     "start_time": "2022-11-16T17:32:07.411252",
     "status": "completed"
    },
    "tags": []
   },
   "source": [
    "# High-throughput ion suppression correction\n",
    "\n",
    "SpaceM datasets are usually stored as annotated data-matrices, separately for individual wells. With this notebooks, these individual files are corrected for ion suppression on the pixel-level and then deconvoluted to cell-level. All resulting files are saved separately by well to the target_path and the impact of the correction briefly shown for visual inspection."
   ]
  },
  {
   "cell_type": "code",
   "execution_count": 1,
   "id": "6bcccbda",
   "metadata": {
    "execution": {
     "iopub.execute_input": "2022-11-16T17:32:07.437707Z",
     "iopub.status.busy": "2022-11-16T17:32:07.437024Z",
     "iopub.status.idle": "2022-11-16T17:32:11.391251Z",
     "shell.execute_reply": "2022-11-16T17:32:11.390003Z"
    },
    "papermill": {
     "duration": 3.9667,
     "end_time": "2022-11-16T17:32:11.394782",
     "exception": false,
     "start_time": "2022-11-16T17:32:07.428082",
     "status": "completed"
    },
    "tags": []
   },
   "outputs": [],
   "source": [
    "import os\n",
    "import platform\n",
    "import scanpy as sc\n",
    "import pandas as pd\n",
    "import numpy as np\n",
    "import anndata as ad\n",
    "import statistics as st\n",
    "import multiprocessing\n",
    "from joblib import Parallel, delayed\n",
    "from tqdm import tqdm\n",
    "import statsmodels.formula.api as smf\n",
    "import seaborn as sns\n",
    "import re\n",
    "from importlib import reload\n",
    "import sys\n",
    "sys.path.append('/home/mklein/spacem')\n",
    "sys.path.append('/home/mklein/FDA_project')\n",
    "\n",
    "from src.correction import (add_normalization_factors, \n",
    "                            correct_quantile_inplace,\n",
    "                            deconvolution_spacem,\n",
    "                            get_overlap_data,\n",
    "                            add_overlap_matrix_spacem\n",
    "                           )\n",
    "from src import const \n",
    "from SpaceM.lib.modules import (\n",
    "    overlap_analysis,\n",
    "    single_cell_analysis_normalization\n",
    ")"
   ]
  },
  {
   "cell_type": "markdown",
   "id": "259214b1",
   "metadata": {
    "papermill": {
     "duration": 0.006578,
     "end_time": "2022-11-16T17:32:11.409112",
     "exception": false,
     "start_time": "2022-11-16T17:32:11.402534",
     "status": "completed"
    },
    "tags": []
   },
   "source": [
    "The original data lies on the groups shared data storage. Corrected files will be saved in a separate location, preserving the well-specific folder structure."
   ]
  },
  {
   "cell_type": "code",
   "execution_count": 2,
   "id": "725fb648",
   "metadata": {
    "execution": {
     "iopub.execute_input": "2022-11-16T17:32:11.423412Z",
     "iopub.status.busy": "2022-11-16T17:32:11.422897Z",
     "iopub.status.idle": "2022-11-16T17:32:11.428502Z",
     "shell.execute_reply": "2022-11-16T17:32:11.427469Z"
    },
    "papermill": {
     "duration": 0.015615,
     "end_time": "2022-11-16T17:32:11.431146",
     "exception": false,
     "start_time": "2022-11-16T17:32:11.415531",
     "status": "completed"
    },
    "tags": [
     "parameters"
    ]
   },
   "outputs": [],
   "source": [
    "if platform.system() == \"Darwin\":\n",
    "    source_path = '/Volumes/alexandr/smenon/2022-07-13_Glioblastoma/processed_files'\n",
    "    target_path = '/Volumes/mklein/FDA_project/data/Lx_Glioblastoma'\n",
    "else:\n",
    "    source_path = '/g/alexandr/smenon/2022-07-13_Glioblastoma/processed_files'\n",
    "    target_path = '/home/mklein/FDA_project/data/Lx_Glioblastoma'"
   ]
  },
  {
   "cell_type": "code",
   "execution_count": 3,
   "id": "fe3df672",
   "metadata": {
    "execution": {
     "iopub.execute_input": "2022-11-16T17:32:11.444372Z",
     "iopub.status.busy": "2022-11-16T17:32:11.444135Z",
     "iopub.status.idle": "2022-11-16T17:32:11.448475Z",
     "shell.execute_reply": "2022-11-16T17:32:11.447537Z"
    },
    "papermill": {
     "duration": 0.013591,
     "end_time": "2022-11-16T17:32:11.450866",
     "exception": false,
     "start_time": "2022-11-16T17:32:11.437275",
     "status": "completed"
    },
    "tags": [
     "injected-parameters"
    ]
   },
   "outputs": [],
   "source": [
    "# Parameters\n",
    "source_path = \"/g/alexandr/smenon/2022-07-13_Glioblastoma/processed_files\"\n",
    "target_path = \"/home/mklein/FDA_project/data/Lx_Glioblastoma\"\n",
    "condition_name = \"condition\"\n",
    "well_name = \"rowcol\"\n"
   ]
  },
  {
   "cell_type": "code",
   "execution_count": 4,
   "id": "edd6d494",
   "metadata": {
    "execution": {
     "iopub.execute_input": "2022-11-16T17:32:11.464003Z",
     "iopub.status.busy": "2022-11-16T17:32:11.463768Z",
     "iopub.status.idle": "2022-11-16T17:32:11.798575Z",
     "shell.execute_reply": "2022-11-16T17:32:11.797534Z"
    },
    "papermill": {
     "duration": 0.344974,
     "end_time": "2022-11-16T17:32:11.801567",
     "exception": false,
     "start_time": "2022-11-16T17:32:11.456593",
     "status": "completed"
    },
    "tags": []
   },
   "outputs": [
    {
     "data": {
      "text/plain": [
       "['B1',\n",
       " 'B2',\n",
       " 'B3',\n",
       " 'B4',\n",
       " 'C1',\n",
       " 'C2',\n",
       " 'C3',\n",
       " 'C4',\n",
       " 'D1',\n",
       " 'D2',\n",
       " 'D3',\n",
       " 'D4',\n",
       " 'E1',\n",
       " 'E2',\n",
       " 'E3',\n",
       " 'E4',\n",
       " 'F1',\n",
       " 'F2',\n",
       " 'F3',\n",
       " 'F4',\n",
       " 'G1',\n",
       " 'G2',\n",
       " 'G3',\n",
       " 'G4',\n",
       " 'H2',\n",
       " 'H3',\n",
       " 'H4',\n",
       " 'I1',\n",
       " 'I2',\n",
       " 'I3',\n",
       " 'I4',\n",
       " 'J1',\n",
       " 'J2',\n",
       " 'J3',\n",
       " 'J4']"
      ]
     },
     "execution_count": 4,
     "metadata": {},
     "output_type": "execute_result"
    }
   ],
   "source": [
    "samples = []\n",
    "for dirpath, dirnames, filenames in os.walk(source_path):\n",
    "        if 'analysis' in dirnames:\n",
    "            samples.append(re.sub(source_path+'/?', '', dirpath))\n",
    "samples"
   ]
  },
  {
   "cell_type": "code",
   "execution_count": 5,
   "id": "d3ca3e59",
   "metadata": {
    "execution": {
     "iopub.execute_input": "2022-11-16T17:32:11.818280Z",
     "iopub.status.busy": "2022-11-16T17:32:11.818043Z",
     "iopub.status.idle": "2022-11-16T17:32:11.822559Z",
     "shell.execute_reply": "2022-11-16T17:32:11.821602Z"
    },
    "papermill": {
     "duration": 0.015563,
     "end_time": "2022-11-16T17:32:11.825304",
     "exception": false,
     "start_time": "2022-11-16T17:32:11.809741",
     "status": "completed"
    },
    "tags": []
   },
   "outputs": [],
   "source": [
    "files = {\n",
    "        'config': '../config.json',\n",
    "        'sm_matrix': 'ablation_mark_analysis/spatiomolecular_adata.h5ad',\n",
    "        'overlap_regions': 'overlap_analysis2/overlap.regions.csv',\n",
    "        'mark_regions': 'overlap_analysis2/ablation_mark.regions.csv',\n",
    "        'cell_regions': 'overlap_analysis2/cell.regions.csv',\n",
    "        'cell_sm_matrix': 'single_cell_analysis/spatiomolecular_adata.h5ad',\n",
    "    }"
   ]
  },
  {
   "cell_type": "code",
   "execution_count": 6,
   "id": "69b59104",
   "metadata": {
    "execution": {
     "iopub.execute_input": "2022-11-16T17:32:11.840332Z",
     "iopub.status.busy": "2022-11-16T17:32:11.840004Z",
     "iopub.status.idle": "2022-11-16T17:32:11.850706Z",
     "shell.execute_reply": "2022-11-16T17:32:11.849665Z"
    },
    "papermill": {
     "duration": 0.021227,
     "end_time": "2022-11-16T17:32:11.853267",
     "exception": false,
     "start_time": "2022-11-16T17:32:11.832040",
     "status": "completed"
    },
    "tags": []
   },
   "outputs": [],
   "source": [
    "def correct_sample_spacem(sample):\n",
    "    \n",
    "    sample_path = os.path.join(source_path, sample, \"analysis\")\n",
    "    sample = re.sub('/', '_', sample)\n",
    "    \n",
    "    if not os.path.exists(os.path.join(target_path, sample)):\n",
    "        os.makedirs(os.path.join(target_path, sample))\n",
    "\n",
    "    # get appropriate file paths for the processed well\n",
    "    project_files = {k: os.path.join(sample_path, v) for k, v in files.items()}\n",
    "\n",
    "    # load required files\n",
    "    cell_regions = pd.read_csv(project_files['cell_regions'])\n",
    "    mark_regions = pd.read_csv(project_files['mark_regions'])\n",
    "    overlap_regions = pd.read_csv(project_files['overlap_regions'])\n",
    "    \n",
    "    sm_matrix = sc.read(os.path.join(sample_path, files['sm_matrix']))\n",
    "    cell_sm_matrix = sc.read(os.path.join(sample_path, files['cell_sm_matrix']))\n",
    "       \n",
    "    add_overlap_matrix_spacem(sm_matrix, cell_regions, mark_regions, overlap_regions)\n",
    "    \n",
    "    add_normalization_factors(adata=sm_matrix, method=st.median)\n",
    "\n",
    "    # perform the actual quantile regression\n",
    "    corr_sm_matrix = correct_quantile_inplace(adata=sm_matrix, \n",
    "        reference_ions=sm_matrix.var_names, \n",
    "        correct_intersect = True,\n",
    "        n_jobs=6)\n",
    "    \n",
    "    # perform pixel-cell-deconvolution\n",
    "    overlap_data = get_overlap_data(cell_regions, mark_regions, overlap_regions)\n",
    "    corr_cell_sm_matrix = deconvolution_spacem(adata=corr_sm_matrix, \n",
    "        overlap_data=overlap_data,\n",
    "        raw_adata=cell_sm_matrix)\n",
    "    gen_cell_sm_matrix = deconvolution_spacem(adata=sm_matrix,\n",
    "        overlap_data=overlap_data,\n",
    "        raw_adata=cell_sm_matrix)\n",
    "    # write the generated files to the dedicated project location.\n",
    "    corr_sm_matrix.write(os.path.join(target_path, sample, 'am_spatiomolecular_adata_corrected.h5ad'))\n",
    "    sm_matrix.write(os.path.join(target_path, sample, 'am_spatiomolecular_adata.h5ad'))\n",
    "    corr_cell_sm_matrix.write(os.path.join(target_path, sample, 'cells_spatiomolecular_adata_corrected.h5ad'))\n",
    "    cell_sm_matrix.write(os.path.join(target_path, sample, 'cells_spatiomolecular_adata_spacem.h5ad'))\n",
    "    gen_cell_sm_matrix.write(os.path.join(target_path, sample, 'cells_spatiomolecular_adata.h5ad'))\n",
    "    \n",
    "    return (sample, cell_sm_matrix, corr_cell_sm_matrix, sm_matrix, corr_sm_matrix)"
   ]
  },
  {
   "cell_type": "markdown",
   "id": "751b2ac9",
   "metadata": {
    "papermill": {
     "duration": 0.006323,
     "end_time": "2022-11-16T17:32:11.865730",
     "exception": false,
     "start_time": "2022-11-16T17:32:11.859407",
     "status": "completed"
    },
    "tags": []
   },
   "source": [
    "This is the actual correction pipeline."
   ]
  },
  {
   "cell_type": "code",
   "execution_count": 7,
   "id": "fa8cf177",
   "metadata": {
    "execution": {
     "iopub.execute_input": "2022-11-16T17:32:11.879650Z",
     "iopub.status.busy": "2022-11-16T17:32:11.879306Z",
     "iopub.status.idle": "2022-11-16T17:39:13.017607Z",
     "shell.execute_reply": "2022-11-16T17:39:13.015769Z"
    },
    "papermill": {
     "duration": 421.149612,
     "end_time": "2022-11-16T17:39:13.021471",
     "exception": false,
     "start_time": "2022-11-16T17:32:11.871859",
     "status": "completed"
    },
    "tags": []
   },
   "outputs": [
    {
     "name": "stderr",
     "output_type": "stream",
     "text": [
      "\r",
      "  0%|                                                                                                                                     | 0/35 [00:00<?, ?it/s]"
     ]
    },
    {
     "name": "stderr",
     "output_type": "stream",
     "text": [
      "\r",
      " 29%|███████████████████████████████████▍                                                                                        | 10/35 [00:54<02:15,  5.41s/it]"
     ]
    },
    {
     "name": "stderr",
     "output_type": "stream",
     "text": [
      "\r",
      " 43%|█████████████████████████████████████████████████████▏                                                                      | 15/35 [01:46<02:29,  7.48s/it]"
     ]
    },
    {
     "name": "stderr",
     "output_type": "stream",
     "text": [
      "/home/mklein/.conda/envs/ion_suppression/lib/python3.10/site-packages/statsmodels/regression/quantile_regression.py:191: IterationLimitWarning: Maximum number of iterations (1000) reached.\n",
      "  warnings.warn(\"Maximum number of iterations (\" + str(max_iter) +\n"
     ]
    },
    {
     "name": "stderr",
     "output_type": "stream",
     "text": [
      "/home/mklein/.conda/envs/ion_suppression/lib/python3.10/site-packages/statsmodels/regression/quantile_regression.py:191: IterationLimitWarning: Maximum number of iterations (1000) reached.\n",
      "  warnings.warn(\"Maximum number of iterations (\" + str(max_iter) +\n"
     ]
    },
    {
     "name": "stderr",
     "output_type": "stream",
     "text": [
      "/home/mklein/.conda/envs/ion_suppression/lib/python3.10/site-packages/statsmodels/regression/quantile_regression.py:191: IterationLimitWarning: Maximum number of iterations (1000) reached.\n",
      "  warnings.warn(\"Maximum number of iterations (\" + str(max_iter) +\n"
     ]
    },
    {
     "name": "stderr",
     "output_type": "stream",
     "text": [
      "/home/mklein/.conda/envs/ion_suppression/lib/python3.10/site-packages/statsmodels/regression/quantile_regression.py:191: IterationLimitWarning: Maximum number of iterations (1000) reached.\n",
      "  warnings.warn(\"Maximum number of iterations (\" + str(max_iter) +\n"
     ]
    },
    {
     "name": "stderr",
     "output_type": "stream",
     "text": [
      "/home/mklein/.conda/envs/ion_suppression/lib/python3.10/site-packages/statsmodels/regression/quantile_regression.py:191: IterationLimitWarning: Maximum number of iterations (1000) reached.\n",
      "  warnings.warn(\"Maximum number of iterations (\" + str(max_iter) +\n"
     ]
    },
    {
     "name": "stderr",
     "output_type": "stream",
     "text": [
      "/home/mklein/.conda/envs/ion_suppression/lib/python3.10/site-packages/statsmodels/regression/quantile_regression.py:191: IterationLimitWarning: Maximum number of iterations (1000) reached.\n",
      "  warnings.warn(\"Maximum number of iterations (\" + str(max_iter) +\n"
     ]
    },
    {
     "name": "stderr",
     "output_type": "stream",
     "text": [
      "\r",
      " 57%|██████████████████████████████████████████████████████████████████████▊                                                     | 20/35 [02:36<02:07,  8.49s/it]"
     ]
    },
    {
     "name": "stderr",
     "output_type": "stream",
     "text": [
      "/home/mklein/.conda/envs/ion_suppression/lib/python3.10/site-packages/statsmodels/regression/quantile_regression.py:191: IterationLimitWarning: Maximum number of iterations (1000) reached.\n",
      "  warnings.warn(\"Maximum number of iterations (\" + str(max_iter) +\n"
     ]
    },
    {
     "name": "stderr",
     "output_type": "stream",
     "text": [
      "/home/mklein/.conda/envs/ion_suppression/lib/python3.10/site-packages/statsmodels/regression/quantile_regression.py:191: IterationLimitWarning: Maximum number of iterations (1000) reached.\n",
      "  warnings.warn(\"Maximum number of iterations (\" + str(max_iter) +\n"
     ]
    },
    {
     "name": "stderr",
     "output_type": "stream",
     "text": [
      "/home/mklein/.conda/envs/ion_suppression/lib/python3.10/site-packages/statsmodels/regression/quantile_regression.py:191: IterationLimitWarning: Maximum number of iterations (1000) reached.\n",
      "  warnings.warn(\"Maximum number of iterations (\" + str(max_iter) +\n"
     ]
    },
    {
     "name": "stderr",
     "output_type": "stream",
     "text": [
      "/home/mklein/.conda/envs/ion_suppression/lib/python3.10/site-packages/statsmodels/regression/quantile_regression.py:191: IterationLimitWarning: Maximum number of iterations (1000) reached.\n",
      "  warnings.warn(\"Maximum number of iterations (\" + str(max_iter) +\n"
     ]
    },
    {
     "name": "stderr",
     "output_type": "stream",
     "text": [
      "/home/mklein/.conda/envs/ion_suppression/lib/python3.10/site-packages/statsmodels/regression/quantile_regression.py:191: IterationLimitWarning: Maximum number of iterations (1000) reached.\n",
      "  warnings.warn(\"Maximum number of iterations (\" + str(max_iter) +\n"
     ]
    },
    {
     "name": "stderr",
     "output_type": "stream",
     "text": [
      "/home/mklein/.conda/envs/ion_suppression/lib/python3.10/site-packages/statsmodels/regression/quantile_regression.py:191: IterationLimitWarning: Maximum number of iterations (1000) reached.\n",
      "  warnings.warn(\"Maximum number of iterations (\" + str(max_iter) +\n"
     ]
    },
    {
     "name": "stderr",
     "output_type": "stream",
     "text": [
      "/home/mklein/.conda/envs/ion_suppression/lib/python3.10/site-packages/statsmodels/regression/quantile_regression.py:191: IterationLimitWarning: Maximum number of iterations (1000) reached.\n",
      "  warnings.warn(\"Maximum number of iterations (\" + str(max_iter) +\n"
     ]
    },
    {
     "name": "stderr",
     "output_type": "stream",
     "text": [
      "\r",
      " 71%|████████████████████████████████████████████████████████████████████████████████████████▌                                   | 25/35 [03:26<01:29,  8.97s/it]"
     ]
    },
    {
     "name": "stderr",
     "output_type": "stream",
     "text": [
      "/home/mklein/.conda/envs/ion_suppression/lib/python3.10/site-packages/statsmodels/regression/quantile_regression.py:191: IterationLimitWarning: Maximum number of iterations (1000) reached.\n",
      "  warnings.warn(\"Maximum number of iterations (\" + str(max_iter) +\n"
     ]
    },
    {
     "name": "stderr",
     "output_type": "stream",
     "text": [
      "/home/mklein/.conda/envs/ion_suppression/lib/python3.10/site-packages/statsmodels/regression/quantile_regression.py:191: IterationLimitWarning: Maximum number of iterations (1000) reached.\n",
      "  warnings.warn(\"Maximum number of iterations (\" + str(max_iter) +\n"
     ]
    },
    {
     "name": "stderr",
     "output_type": "stream",
     "text": [
      "/home/mklein/.conda/envs/ion_suppression/lib/python3.10/site-packages/statsmodels/regression/quantile_regression.py:191: IterationLimitWarning: Maximum number of iterations (1000) reached.\n",
      "  warnings.warn(\"Maximum number of iterations (\" + str(max_iter) +\n"
     ]
    },
    {
     "name": "stderr",
     "output_type": "stream",
     "text": [
      "/home/mklein/.conda/envs/ion_suppression/lib/python3.10/site-packages/statsmodels/regression/quantile_regression.py:191: IterationLimitWarning: Maximum number of iterations (1000) reached.\n",
      "  warnings.warn(\"Maximum number of iterations (\" + str(max_iter) +\n"
     ]
    },
    {
     "name": "stderr",
     "output_type": "stream",
     "text": [
      "/home/mklein/.conda/envs/ion_suppression/lib/python3.10/site-packages/statsmodels/regression/quantile_regression.py:191: IterationLimitWarning: Maximum number of iterations (1000) reached.\n",
      "  warnings.warn(\"Maximum number of iterations (\" + str(max_iter) +\n"
     ]
    },
    {
     "name": "stderr",
     "output_type": "stream",
     "text": [
      "/home/mklein/.conda/envs/ion_suppression/lib/python3.10/site-packages/statsmodels/regression/quantile_regression.py:191: IterationLimitWarning: Maximum number of iterations (1000) reached.\n",
      "  warnings.warn(\"Maximum number of iterations (\" + str(max_iter) +\n"
     ]
    },
    {
     "name": "stderr",
     "output_type": "stream",
     "text": [
      "\r",
      " 86%|██████████████████████████████████████████████████████████████████████████████████████████████████████████▎                 | 30/35 [04:20<00:48,  9.60s/it]"
     ]
    },
    {
     "name": "stderr",
     "output_type": "stream",
     "text": [
      "/home/mklein/.conda/envs/ion_suppression/lib/python3.10/site-packages/statsmodels/regression/quantile_regression.py:191: IterationLimitWarning: Maximum number of iterations (1000) reached.\n",
      "  warnings.warn(\"Maximum number of iterations (\" + str(max_iter) +\n"
     ]
    },
    {
     "name": "stderr",
     "output_type": "stream",
     "text": [
      "/home/mklein/.conda/envs/ion_suppression/lib/python3.10/site-packages/statsmodels/regression/quantile_regression.py:191: IterationLimitWarning: Maximum number of iterations (1000) reached.\n",
      "  warnings.warn(\"Maximum number of iterations (\" + str(max_iter) +\n"
     ]
    },
    {
     "name": "stderr",
     "output_type": "stream",
     "text": [
      "/home/mklein/.conda/envs/ion_suppression/lib/python3.10/site-packages/statsmodels/regression/quantile_regression.py:191: IterationLimitWarning: Maximum number of iterations (1000) reached.\n",
      "  warnings.warn(\"Maximum number of iterations (\" + str(max_iter) +\n"
     ]
    },
    {
     "name": "stderr",
     "output_type": "stream",
     "text": [
      "/home/mklein/.conda/envs/ion_suppression/lib/python3.10/site-packages/statsmodels/regression/quantile_regression.py:191: IterationLimitWarning: Maximum number of iterations (1000) reached.\n",
      "  warnings.warn(\"Maximum number of iterations (\" + str(max_iter) +\n"
     ]
    },
    {
     "name": "stderr",
     "output_type": "stream",
     "text": [
      "/home/mklein/.conda/envs/ion_suppression/lib/python3.10/site-packages/statsmodels/regression/quantile_regression.py:191: IterationLimitWarning: Maximum number of iterations (1000) reached.\n",
      "  warnings.warn(\"Maximum number of iterations (\" + str(max_iter) +\n"
     ]
    },
    {
     "name": "stderr",
     "output_type": "stream",
     "text": [
      "/home/mklein/.conda/envs/ion_suppression/lib/python3.10/site-packages/statsmodels/regression/quantile_regression.py:191: IterationLimitWarning: Maximum number of iterations (1000) reached.\n",
      "  warnings.warn(\"Maximum number of iterations (\" + str(max_iter) +\n"
     ]
    },
    {
     "name": "stderr",
     "output_type": "stream",
     "text": [
      "\r",
      "100%|████████████████████████████████████████████████████████████████████████████████████████████████████████████████████████████| 35/35 [05:23<00:00, 10.56s/it]"
     ]
    },
    {
     "name": "stderr",
     "output_type": "stream",
     "text": [
      "\r",
      "100%|████████████████████████████████████████████████████████████████████████████████████████████████████████████████████████████| 35/35 [05:23<00:00,  9.25s/it]"
     ]
    },
    {
     "name": "stderr",
     "output_type": "stream",
     "text": [
      "\n"
     ]
    },
    {
     "name": "stderr",
     "output_type": "stream",
     "text": [
      "/home/mklein/.conda/envs/ion_suppression/lib/python3.10/site-packages/statsmodels/regression/quantile_regression.py:191: IterationLimitWarning: Maximum number of iterations (1000) reached.\n",
      "  warnings.warn(\"Maximum number of iterations (\" + str(max_iter) +\n"
     ]
    },
    {
     "name": "stderr",
     "output_type": "stream",
     "text": [
      "/home/mklein/.conda/envs/ion_suppression/lib/python3.10/site-packages/statsmodels/regression/quantile_regression.py:191: IterationLimitWarning: Maximum number of iterations (1000) reached.\n",
      "  warnings.warn(\"Maximum number of iterations (\" + str(max_iter) +\n"
     ]
    },
    {
     "name": "stderr",
     "output_type": "stream",
     "text": [
      "/home/mklein/.conda/envs/ion_suppression/lib/python3.10/site-packages/statsmodels/regression/quantile_regression.py:191: IterationLimitWarning: Maximum number of iterations (1000) reached.\n",
      "  warnings.warn(\"Maximum number of iterations (\" + str(max_iter) +\n"
     ]
    },
    {
     "name": "stderr",
     "output_type": "stream",
     "text": [
      "/home/mklein/.conda/envs/ion_suppression/lib/python3.10/site-packages/statsmodels/regression/quantile_regression.py:191: IterationLimitWarning: Maximum number of iterations (1000) reached.\n",
      "  warnings.warn(\"Maximum number of iterations (\" + str(max_iter) +\n",
      "/home/mklein/.conda/envs/ion_suppression/lib/python3.10/site-packages/statsmodels/regression/quantile_regression.py:191: IterationLimitWarning: Maximum number of iterations (1000) reached.\n",
      "  warnings.warn(\"Maximum number of iterations (\" + str(max_iter) +\n"
     ]
    },
    {
     "name": "stderr",
     "output_type": "stream",
     "text": [
      "/home/mklein/.conda/envs/ion_suppression/lib/python3.10/site-packages/statsmodels/regression/quantile_regression.py:191: IterationLimitWarning: Maximum number of iterations (1000) reached.\n",
      "  warnings.warn(\"Maximum number of iterations (\" + str(max_iter) +\n"
     ]
    },
    {
     "name": "stderr",
     "output_type": "stream",
     "text": [
      "/home/mklein/.conda/envs/ion_suppression/lib/python3.10/site-packages/statsmodels/regression/quantile_regression.py:191: IterationLimitWarning: Maximum number of iterations (1000) reached.\n",
      "  warnings.warn(\"Maximum number of iterations (\" + str(max_iter) +\n"
     ]
    },
    {
     "name": "stderr",
     "output_type": "stream",
     "text": [
      "/home/mklein/.conda/envs/ion_suppression/lib/python3.10/site-packages/statsmodels/regression/quantile_regression.py:191: IterationLimitWarning: Maximum number of iterations (1000) reached.\n",
      "  warnings.warn(\"Maximum number of iterations (\" + str(max_iter) +\n"
     ]
    },
    {
     "name": "stderr",
     "output_type": "stream",
     "text": [
      "/home/mklein/.conda/envs/ion_suppression/lib/python3.10/site-packages/statsmodels/regression/quantile_regression.py:191: IterationLimitWarning: Maximum number of iterations (1000) reached.\n",
      "  warnings.warn(\"Maximum number of iterations (\" + str(max_iter) +\n"
     ]
    }
   ],
   "source": [
    "adata_list = Parallel(n_jobs=5)(delayed(correct_sample_spacem)(sample) for sample in tqdm(samples))\n",
    "# adata_list = [correct_sample_spacem(sample) for sample in tqdm(['B1'])]"
   ]
  },
  {
   "cell_type": "code",
   "execution_count": 8,
   "id": "2ef377d9",
   "metadata": {
    "execution": {
     "iopub.execute_input": "2022-11-16T17:39:13.051385Z",
     "iopub.status.busy": "2022-11-16T17:39:13.050856Z",
     "iopub.status.idle": "2022-11-16T17:39:22.661175Z",
     "shell.execute_reply": "2022-11-16T17:39:22.659062Z"
    },
    "papermill": {
     "duration": 9.629346,
     "end_time": "2022-11-16T17:39:22.664937",
     "exception": false,
     "start_time": "2022-11-16T17:39:13.035591",
     "status": "completed"
    },
    "tags": []
   },
   "outputs": [],
   "source": [
    "# reshape data for immediate analysis\n",
    "am_adata_dict = {item[0]: item[3] for item in adata_list}\n",
    "am_adata_cor_dict = {item[0]: item[4] for item in adata_list}\n",
    "adata_dict = {item[0]: item[1] for item in adata_list}\n",
    "adata_cor_dict = {item[0]: item[2] for item in adata_list}\n",
    "\n",
    "am_adata = ad.concat(am_adata_dict, label='well', index_unique=\"_\", merge=\"first\")\n",
    "am_adata_cor = ad.concat(am_adata_cor_dict, label='well', index_unique=\"_\", merge='first')\n",
    "adata = ad.concat(adata_dict, label='well', index_unique=\"_\", merge=\"first\")\n",
    "adata_cor = ad.concat(adata_cor_dict, label='well', index_unique=\"_\", merge=\"first\")"
   ]
  },
  {
   "cell_type": "markdown",
   "id": "3900acf3",
   "metadata": {
    "papermill": {
     "duration": 0.011557,
     "end_time": "2022-11-16T17:39:22.690379",
     "exception": false,
     "start_time": "2022-11-16T17:39:22.678822",
     "status": "completed"
    },
    "tags": []
   },
   "source": [
    "Every analysed pixel is characterized by its total overlap with cellular regions. The raw data shows no clear association between this overlap and acquired ion intensities. However, after the ion suppression correction, pixels with smaller overlap clearly have lower corresponding intensities (only shown for one metabolite). "
   ]
  },
  {
   "cell_type": "code",
   "execution_count": 9,
   "id": "3c22e026",
   "metadata": {
    "execution": {
     "iopub.execute_input": "2022-11-16T17:39:22.714948Z",
     "iopub.status.busy": "2022-11-16T17:39:22.714554Z",
     "iopub.status.idle": "2022-11-16T17:39:22.725376Z",
     "shell.execute_reply": "2022-11-16T17:39:22.724196Z"
    },
    "papermill": {
     "duration": 0.026621,
     "end_time": "2022-11-16T17:39:22.728084",
     "exception": false,
     "start_time": "2022-11-16T17:39:22.701463",
     "status": "completed"
    },
    "tags": []
   },
   "outputs": [],
   "source": [
    "import warnings\n",
    "warnings.filterwarnings('ignore')\n",
    "\n",
    "def plot_all_wells(adata, ion = 'C24H48NO6P+H', col = 'well', x = 'total_pixel_overlap'):\n",
    "    plot_df = sc.get.obs_df(adata, keys=[col, ion, x])\n",
    "    # plot_df = plot_df[plot_df['well'].isin(samples[:10])]\n",
    "    # plot_df= plot_df[plot_df['am_sampling_ratio'] > 0]\n",
    "    plot_df= plot_df[plot_df[ion] > 0]\n",
    "    # plot_df[ion] = plot_df[ion] / plot_df['am_sampling_ratio']\n",
    "    plot_df[col].cat.remove_unused_categories(inplace=True)\n",
    "    graph = sns.FacetGrid(plot_df, col=col, col_wrap=7)\n",
    "    graph.map(sns.regplot, x, ion).add_legend()# .set(yscale ='log', xscale='log')\n",
    "    \n",
    "    model = smf.quantreg('Q(\"' + ion + '\") ~ '+x, plot_df)\n",
    "    qrmodel = model.fit(q=0.5)\n",
    "    print(qrmodel.params)"
   ]
  },
  {
   "cell_type": "code",
   "execution_count": 10,
   "id": "027a5dbf",
   "metadata": {
    "execution": {
     "iopub.execute_input": "2022-11-16T17:39:22.749500Z",
     "iopub.status.busy": "2022-11-16T17:39:22.749066Z",
     "iopub.status.idle": "2022-11-16T17:39:54.618254Z",
     "shell.execute_reply": "2022-11-16T17:39:54.616569Z"
    },
    "papermill": {
     "duration": 31.895481,
     "end_time": "2022-11-16T17:39:54.633635",
     "exception": false,
     "start_time": "2022-11-16T17:39:22.738154",
     "status": "completed"
    },
    "tags": []
   },
   "outputs": [
    {
     "name": "stdout",
     "output_type": "stream",
     "text": [
      "Intercept              639.530579\n",
      "total_pixel_overlap    285.509090\n",
      "dtype: float64\n"
     ]
    }
   ],
   "source": [
    "am_adata.obs['total_pixel_overlap'] = am_adata_cor.obs['total_pixel_overlap']\n",
    "plot_all_wells(am_adata)"
   ]
  },
  {
   "cell_type": "code",
   "execution_count": 11,
   "id": "e6edd85f",
   "metadata": {
    "execution": {
     "iopub.execute_input": "2022-11-16T17:39:54.659577Z",
     "iopub.status.busy": "2022-11-16T17:39:54.659033Z",
     "iopub.status.idle": "2022-11-16T17:40:13.677321Z",
     "shell.execute_reply": "2022-11-16T17:40:13.676063Z"
    },
    "papermill": {
     "duration": 19.034597,
     "end_time": "2022-11-16T17:40:13.680340",
     "exception": false,
     "start_time": "2022-11-16T17:39:54.645743",
     "status": "completed"
    },
    "tags": []
   },
   "outputs": [
    {
     "name": "stdout",
     "output_type": "stream",
     "text": [
      "Intercept               -7.169836\n",
      "total_pixel_overlap    723.747873\n",
      "dtype: float64\n"
     ]
    }
   ],
   "source": [
    "plot_all_wells(am_adata_cor)"
   ]
  },
  {
   "cell_type": "markdown",
   "id": "90879258",
   "metadata": {
    "papermill": {
     "duration": 0.011008,
     "end_time": "2022-11-16T17:40:13.704722",
     "exception": false,
     "start_time": "2022-11-16T17:40:13.693714",
     "status": "completed"
    },
    "tags": []
   },
   "source": [
    "The plots above are based on the total_pixel_overlap measure, as computed within the correction procedure. The anndata object provided by SpaceM already contain a measure called am_sampling_ratio, which should have the same meaning as the computed total_pixel_overlap. However, the two measures do not correlate at all. Consequently, the corrected ion intensity data does not show a dependency on am_sampling_ratio (see below)."
   ]
  },
  {
   "cell_type": "code",
   "execution_count": 12,
   "id": "fe3b0b60",
   "metadata": {
    "execution": {
     "iopub.execute_input": "2022-11-16T17:40:13.728384Z",
     "iopub.status.busy": "2022-11-16T17:40:13.727829Z",
     "iopub.status.idle": "2022-11-16T17:40:26.749438Z",
     "shell.execute_reply": "2022-11-16T17:40:26.747804Z"
    },
    "papermill": {
     "duration": 13.040061,
     "end_time": "2022-11-16T17:40:26.755404",
     "exception": false,
     "start_time": "2022-11-16T17:40:13.715343",
     "status": "completed"
    },
    "tags": []
   },
   "outputs": [
    {
     "name": "stdout",
     "output_type": "stream",
     "text": [
      "Intercept              7.799576e-16\n",
      "total_pixel_overlap    1.000000e+00\n",
      "dtype: float64\n"
     ]
    }
   ],
   "source": [
    "plot_all_wells(am_adata, ion = 'am_sampling_ratio')"
   ]
  },
  {
   "cell_type": "code",
   "execution_count": 13,
   "id": "733243ec",
   "metadata": {
    "execution": {
     "iopub.execute_input": "2022-11-16T17:40:26.788003Z",
     "iopub.status.busy": "2022-11-16T17:40:26.787555Z",
     "iopub.status.idle": "2022-11-16T17:40:44.675127Z",
     "shell.execute_reply": "2022-11-16T17:40:44.673328Z"
    },
    "papermill": {
     "duration": 17.905156,
     "end_time": "2022-11-16T17:40:44.678734",
     "exception": false,
     "start_time": "2022-11-16T17:40:26.773578",
     "status": "completed"
    },
    "tags": []
   },
   "outputs": [
    {
     "name": "stdout",
     "output_type": "stream",
     "text": [
      "Intercept             -7.169836\n",
      "am_sampling_ratio    723.747873\n",
      "dtype: float64\n"
     ]
    }
   ],
   "source": [
    "plot_all_wells(am_adata_cor, x = 'am_sampling_ratio')"
   ]
  }
 ],
 "metadata": {
  "kernelspec": {
   "display_name": "Python 3 (ipykernel)",
   "language": "python",
   "name": "python3"
  },
  "language_info": {
   "codemirror_mode": {
    "name": "ipython",
    "version": 3
   },
   "file_extension": ".py",
   "mimetype": "text/x-python",
   "name": "python",
   "nbconvert_exporter": "python",
   "pygments_lexer": "ipython3",
   "version": "3.10.6"
  },
  "papermill": {
   "default_parameters": {},
   "duration": 523.243296,
   "end_time": "2022-11-16T17:40:48.221530",
   "environment_variables": {},
   "exception": null,
   "input_path": "/home/mklein/FDA_project/pipeline_01_correction.ipynb",
   "output_path": "/home/mklein/FDA_project/analysis/Lx_Glioblastoma/pipeline_01_correction.ipynb",
   "parameters": {
    "condition_name": "condition",
    "source_path": "/g/alexandr/smenon/2022-07-13_Glioblastoma/processed_files",
    "target_path": "/home/mklein/FDA_project/data/Lx_Glioblastoma",
    "well_name": "rowcol"
   },
   "start_time": "2022-11-16T17:32:04.978234",
   "version": "2.3.4"
  },
  "vscode": {
   "interpreter": {
    "hash": "89b4449ee30f46b148fb6825d70934bcbb1ebdb6d5b2015fe3835362773c7289"
   }
  }
 },
 "nbformat": 4,
 "nbformat_minor": 5
}