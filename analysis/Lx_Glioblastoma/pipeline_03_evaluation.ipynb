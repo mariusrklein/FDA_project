{
 "cells": [
  {
   "cell_type": "markdown",
   "id": "d37149d3",
   "metadata": {
    "papermill": {
     "duration": 0.013316,
     "end_time": "2023-01-11T09:42:25.977576",
     "exception": false,
     "start_time": "2023-01-11T09:42:25.964260",
     "status": "completed"
    },
    "tags": []
   },
   "source": [
    "# Lx_Glioblastoma: Evaluation\n",
    "\n",
    "In this notebook, different measures are investigated to quantify the effect of correcting SpaceM ion intensity data for partial pixel-cell overlap.\n",
    "Moreover, The effects of the correction on different metabolites is visualized.\n",
    " "
   ]
  },
  {
   "cell_type": "code",
   "execution_count": null,
   "id": "f382d294",
   "metadata": {
    "execution": {
     "iopub.execute_input": "2023-01-11T09:42:26.004604Z",
     "iopub.status.busy": "2023-01-11T09:42:26.003717Z",
     "iopub.status.idle": "2023-01-11T09:42:31.986704Z",
     "shell.execute_reply": "2023-01-11T09:42:31.985796Z"
    },
    "papermill": {
     "duration": 5.998702,
     "end_time": "2023-01-11T09:42:31.988918",
     "exception": false,
     "start_time": "2023-01-11T09:42:25.990216",
     "status": "completed"
    },
    "tags": []
   },
   "outputs": [],
   "source": [
    "import platform\n",
    "import os\n",
    "import multiprocessing\n",
    "import numpy as np\n",
    "import pandas as pd\n",
    "import anndata as ad\n",
    "import scanpy as sc\n",
    "import seaborn as sns\n",
    "from sklearn.cluster import KMeans\n",
    "import re\n",
    "import outer_spacem as osm\n",
    "import sys\n",
    "sys.path.append('/home/mklein/spacem')\n",
    "sys.path.append('/Volumes/mklein/spacem')\n",
    "sys.path.append('/home/mklein/FDA_project')\n",
    "sys.path.append('/Volumes/mklein/FDA_project')\n",
    "from src.correction import *\n",
    "from src.evaluation import intermixing, MetaboliteAnalysis\n",
    "\n",
    "%matplotlib inline"
   ]
  },
  {
   "cell_type": "code",
   "execution_count": null,
   "id": "fb5b3d7c",
   "metadata": {
    "execution": {
     "iopub.execute_input": "2023-01-11T09:42:32.017210Z",
     "iopub.status.busy": "2023-01-11T09:42:32.016234Z",
     "iopub.status.idle": "2023-01-11T09:42:32.021688Z",
     "shell.execute_reply": "2023-01-11T09:42:32.020756Z"
    },
    "papermill": {
     "duration": 0.021314,
     "end_time": "2023-01-11T09:42:32.023737",
     "exception": false,
     "start_time": "2023-01-11T09:42:32.002423",
     "status": "completed"
    },
    "tags": [
     "injected-parameters"
    ]
   },
   "outputs": [],
   "source": [
    "# Parameters\n",
    "source_path = \"/g/alexandr/smenon/2022-07-13_Glioblastoma/processed_files\"\n",
    "target_path = \"/home/mklein/FDA_project/data/Lx_Glioblastoma\"\n",
    "condition_name = \"condition\"\n",
    "well_name = \"rowcol\"\n",
    "deconv_default_min_overlap = 0.3\n",
    "analysis_path = \"/home/mklein/FDA_project/analysis/Lx_Glioblastoma\"\n",
    "project = \"Lx_Glioblastoma\"\n"
   ]
  },
  {
   "cell_type": "markdown",
   "id": "2daeb48c",
   "metadata": {
    "papermill": {
     "duration": 0.012738,
     "end_time": "2023-01-11T09:42:32.049392",
     "exception": false,
     "start_time": "2023-01-11T09:42:32.036654",
     "status": "completed"
    },
    "tags": []
   },
   "source": [
    "Loading the uncorrected and ISM-corrected dataset from file. Additionally, loading the metadata CSV file to filter out excluded wells."
   ]
  },
  {
   "cell_type": "code",
   "execution_count": null,
   "id": "b1c0fdf4",
   "metadata": {
    "execution": {
     "iopub.execute_input": "2023-01-11T09:42:32.076889Z",
     "iopub.status.busy": "2023-01-11T09:42:32.076222Z",
     "iopub.status.idle": "2023-01-11T09:42:32.982687Z",
     "shell.execute_reply": "2023-01-11T09:42:32.981722Z"
    },
    "papermill": {
     "duration": 0.922951,
     "end_time": "2023-01-11T09:42:32.985037",
     "exception": false,
     "start_time": "2023-01-11T09:42:32.062086",
     "status": "completed"
    },
    "tags": []
   },
   "outputs": [],
   "source": [
    "adata = ad.read(os.path.join(target_path, \"gen_batch_sm_matrix.h5ad\"))\n",
    "adata_cor = ad.read(os.path.join(target_path, \"corrected_batch_sm_matrix.h5ad\"))"
   ]
  },
  {
   "cell_type": "code",
   "execution_count": null,
   "id": "5ca1d896",
   "metadata": {
    "execution": {
     "iopub.execute_input": "2023-01-11T09:42:33.012861Z",
     "iopub.status.busy": "2023-01-11T09:42:33.012291Z",
     "iopub.status.idle": "2023-01-11T09:42:33.210255Z",
     "shell.execute_reply": "2023-01-11T09:42:33.209281Z"
    },
    "papermill": {
     "duration": 0.214161,
     "end_time": "2023-01-11T09:42:33.212633",
     "exception": false,
     "start_time": "2023-01-11T09:42:32.998472",
     "status": "completed"
    },
    "tags": []
   },
   "outputs": [],
   "source": [
    "metadata_path = os.path.join(target_path, 'metadata.csv')\n",
    "samples = list(set(adata.obs['well']))\n",
    "\n",
    "if os.path.exists(metadata_path):\n",
    "    metadata = pd.read_csv(metadata_path)\n",
    "    if well_name not in metadata.columns:\n",
    "        metadata[well_name] = metadata['row'].astype(str) + metadata['col'].astype(str)\n",
    "    samples = list(metadata[well_name])\n",
    "\n",
    "def assign_conditions(adata):\n",
    "    index = adata.obs.index.name\n",
    "    new_obs = adata.obs.reset_index()\n",
    "    \n",
    "    new_obs = pd.merge(new_obs, metadata[[well_name, condition_name]], \n",
    "                       how='inner', left_on='well', right_on=well_name).set_index(index)\n",
    "    \n",
    "    adata = adata[new_obs.index, :].copy()\n",
    "    adata.obs = new_obs\n",
    "    if 'keep_conditions' in globals():\n",
    "        adata = adata[adata.obs[condition_name].isin(keep_conditions), :].copy()\n",
    "    return adata\n",
    "\n",
    "adata = assign_conditions(adata)\n",
    "adata_cor = assign_conditions(adata_cor)"
   ]
  },
  {
   "cell_type": "code",
   "execution_count": null,
   "id": "45f5c76a-64df-4142-a6a2-ed630f5e3d5d",
   "metadata": {
    "execution": {
     "iopub.execute_input": "2023-01-11T09:42:33.240064Z",
     "iopub.status.busy": "2023-01-11T09:42:33.239619Z",
     "iopub.status.idle": "2023-01-11T09:42:33.309847Z",
     "shell.execute_reply": "2023-01-11T09:42:33.308867Z"
    },
    "papermill": {
     "duration": 0.08628,
     "end_time": "2023-01-11T09:42:33.312187",
     "exception": false,
     "start_time": "2023-01-11T09:42:33.225907",
     "status": "completed"
    },
    "tags": []
   },
   "outputs": [],
   "source": [
    "pd.crosstab(adata.obs['well'], adata.obs[condition_name], margins=True)"
   ]
  },
  {
   "cell_type": "code",
   "execution_count": null,
   "id": "e7472baa-0ea9-42bf-a03c-23157f9b2565",
   "metadata": {
    "execution": {
     "iopub.execute_input": "2023-01-11T09:42:33.341194Z",
     "iopub.status.busy": "2023-01-11T09:42:33.340229Z",
     "iopub.status.idle": "2023-01-11T09:42:33.691291Z",
     "shell.execute_reply": "2023-01-11T09:42:33.690180Z"
    },
    "papermill": {
     "duration": 0.367578,
     "end_time": "2023-01-11T09:42:33.693537",
     "exception": false,
     "start_time": "2023-01-11T09:42:33.325959",
     "status": "completed"
    },
    "tags": []
   },
   "outputs": [],
   "source": [
    "included_molecules = adata.var_names.intersection(adata_cor.var_names)\n",
    "included_cells = adata.obs_names.intersection(adata_cor.obs_names)\n",
    "\n",
    "def subset_molecules(adata):\n",
    "    \n",
    "    return adata[included_cells, included_molecules].copy()\n",
    "\n",
    "adata = subset_molecules(adata)\n",
    "adata_cor = subset_molecules(adata_cor)\n",
    "\n",
    "print(adata.shape)\n",
    "print(adata_cor.shape)"
   ]
  },
  {
   "cell_type": "markdown",
   "id": "92d96c1c-5a08-4a40-b254-2f908704c07f",
   "metadata": {
    "papermill": {
     "duration": 0.013129,
     "end_time": "2023-01-11T09:42:33.720783",
     "exception": false,
     "start_time": "2023-01-11T09:42:33.707654",
     "status": "completed"
    },
    "tags": []
   },
   "source": [
    "First of all, the loaded datasets are filtered:\n",
    "\n",
    "- cells need non-zero intensities for at least 10 ions.\n",
    "- ions need non-zero intensities for at least 200 cells.\n",
    "\n",
    "After that, the sets are preprocessed in different ways:\n",
    "\n",
    "- intensties are normalized to TIC and/or log-transformed (log(x+1))\n",
    "\n",
    "After that, both datasets are subset to contain the same ions and cells (intersection)."
   ]
  },
  {
   "cell_type": "code",
   "execution_count": null,
   "id": "bc387599",
   "metadata": {
    "execution": {
     "iopub.execute_input": "2023-01-11T09:42:33.748903Z",
     "iopub.status.busy": "2023-01-11T09:42:33.748239Z",
     "iopub.status.idle": "2023-01-11T09:42:36.014776Z",
     "shell.execute_reply": "2023-01-11T09:42:36.013771Z"
    },
    "papermill": {
     "duration": 2.283049,
     "end_time": "2023-01-11T09:42:36.016972",
     "exception": false,
     "start_time": "2023-01-11T09:42:33.733923",
     "status": "completed"
    },
    "tags": []
   },
   "outputs": [],
   "source": [
    "def preprocess(adata):\n",
    "    \n",
    "    sc.pp.filter_cells(adata, min_genes=10)\n",
    "    sc.pp.filter_genes(adata, min_cells=200)\n",
    "    adata.raw = adata\n",
    "    adata.layers[\"raw_counts\"] = adata.X.copy()\n",
    "    # sc.pp.scale(adata)\n",
    "    adata.layers[\"norm_counts\"] = sc.pp.normalize_total(adata, layer='raw_counts', target_sum=None, inplace=False)['X']\n",
    "    adata.layers[\"1e4_norm_counts\"] = sc.pp.normalize_total(adata, layer='raw_counts', target_sum=1e4, inplace=False)['X']\n",
    "    \n",
    "    adata.layers[\"log_raw_counts\"] = sc.pp.log1p(adata.layers[\"raw_counts\"], copy=True)\n",
    "    adata.layers[\"log_norm_counts\"] = sc.pp.log1p(adata.layers[\"norm_counts\"], copy=True)\n",
    "    adata.layers[\"1e4_log_norm_counts\"] = sc.pp.log1p(adata.layers[\"1e4_norm_counts\"], copy=True)\n",
    "    adata.X = adata.layers[\"log_norm_counts\"]\n",
    "    \n",
    "    adata.var['median_intensity'] = np.median(adata.X, axis=0)\n",
    "    adata.var['mean_intensity'] = np.mean(adata.X, axis=0)\n",
    "    # adata_x = adata.X.copy()\n",
    "    # adata_x[adata_x == 0] = np.nan\n",
    "    # adata.var['median_intensity_nonzero'] = np.nanmedian(adata_x, axis=0)\n",
    "    \n",
    "    \n",
    "preprocess(adata)\n",
    "preprocess(adata_cor)\n",
    "\n",
    "print(adata.shape)\n",
    "print(adata_cor.shape)\n"
   ]
  },
  {
   "cell_type": "code",
   "execution_count": null,
   "id": "4f547432-c8b3-46fd-a2b9-0fc596e15542",
   "metadata": {
    "execution": {
     "iopub.execute_input": "2023-01-11T09:42:36.046012Z",
     "iopub.status.busy": "2023-01-11T09:42:36.045208Z",
     "iopub.status.idle": "2023-01-11T09:42:36.052850Z",
     "shell.execute_reply": "2023-01-11T09:42:36.052000Z"
    },
    "papermill": {
     "duration": 0.024222,
     "end_time": "2023-01-11T09:42:36.054955",
     "exception": false,
     "start_time": "2023-01-11T09:42:36.030733",
     "status": "completed"
    },
    "tags": []
   },
   "outputs": [],
   "source": [
    "def dimred_umap(adata, layer=None, min_dist=0.5):\n",
    "    if layer is not None:\n",
    "        adata.layers['default_X'] = adata.X\n",
    "        adata.X = adata.layers[layer]\n",
    "    \n",
    "    sc.pp.pca(adata)\n",
    "    sc.pp.neighbors(adata, n_neighbors=50, metric='cosine')\n",
    "    sc.tl.umap(adata, min_dist=min_dist, spread=1.0, random_state=1, n_components=2)\n",
    "    #sc.pl.umap(adata, color=['well', condition_name], palette='cividis')\n",
    "    f = osm.pl.highlight_scatterplot(\n",
    "        data = adata,\n",
    "        obsm_key = \"X_umap\",\n",
    "        hue = condition_name,\n",
    "        col = condition_name,\n",
    "        palette = \"cividis\",\n",
    "        trim_axes=True,\n",
    "        height = 5,\n",
    "        scatter_kwargs = dict(s=5)\n",
    "    )\n",
    "\n",
    "    f.add_legend(markerscale=3)\n",
    "    \n",
    "    if layer is not None:\n",
    "        adata.X = adata.layers['default_X']"
   ]
  },
  {
   "cell_type": "code",
   "execution_count": null,
   "id": "09136aca-16d7-4304-bb27-0222bb4ff191",
   "metadata": {
    "execution": {
     "iopub.execute_input": "2023-01-11T09:42:36.082983Z",
     "iopub.status.busy": "2023-01-11T09:42:36.082577Z",
     "iopub.status.idle": "2023-01-11T09:42:36.089186Z",
     "shell.execute_reply": "2023-01-11T09:42:36.088203Z"
    },
    "papermill": {
     "duration": 0.022978,
     "end_time": "2023-01-11T09:42:36.091245",
     "exception": false,
     "start_time": "2023-01-11T09:42:36.068267",
     "status": "completed"
    },
    "tags": []
   },
   "outputs": [],
   "source": [
    "def intermixing_layer(adata, adata_cor, condition_name, measures = ['X_pca', 'X_umap'], layer=None):\n",
    "    if layer is not None:\n",
    "        adata.layers['default_X'] = adata.X\n",
    "        adata.X = adata.layers[layer]\n",
    "        adata_cor.layers['default_X'] = adata_cor.X\n",
    "        adata_cor.X = adata_cor.layers[layer]\n",
    "    \n",
    "    summaries = intermixing({'uncorrected': adata, 'ISM correction': adata_cor}, condition_name = condition_name, measures = measures)\n",
    "    \n",
    "    if layer is not None:\n",
    "        adata.X = adata.layers['default_X']\n",
    "        adata_cor.X = adata_cor.layers['default_X']\n",
    "    \n",
    "    return\n",
    "    "
   ]
  },
  {
   "cell_type": "markdown",
   "id": "f29e19fc-3c20-4a32-8a6c-e2e9ff03ee4f",
   "metadata": {
    "papermill": {
     "duration": 0.01306,
     "end_time": "2023-01-11T09:42:36.117325",
     "exception": false,
     "start_time": "2023-01-11T09:42:36.104265",
     "status": "completed"
    },
    "tags": []
   },
   "source": [
    "The different options for scaling and transforming the data are shown in the following:\n",
    "\n",
    "1. raw values\n",
    "2. log transformation\n",
    "3. TIC normalization\n",
    "4. TIC normalization and log transformation\n",
    "5. normalization to a fixed count (10^4)\n",
    "6. normalization to a fixed count (10^4) and log transformation\n",
    "\n",
    "The normalization to a fixed count has a slightly different effect than TIC normalization. The former normalizes all counts per cell to the given target sum so that all cells from the uncorrected and the corrected set are scaled to this count. In contrast, the latter retains the differences between the datasets by normalizing to the median count across cells in a dataset. Across modes of normalization, the corrected dataset shows a better separation visually and using the intermixing metric. However, this effect is very subtle after the data was log-transformed."
   ]
  },
  {
   "cell_type": "code",
   "execution_count": null,
   "id": "11cab416-3f63-48d1-b450-60ff01ce6408",
   "metadata": {
    "execution": {
     "iopub.execute_input": "2023-01-11T09:42:36.145772Z",
     "iopub.status.busy": "2023-01-11T09:42:36.144934Z",
     "iopub.status.idle": "2023-01-11T09:42:36.149165Z",
     "shell.execute_reply": "2023-01-11T09:42:36.148273Z"
    },
    "papermill": {
     "duration": 0.020464,
     "end_time": "2023-01-11T09:42:36.151354",
     "exception": false,
     "start_time": "2023-01-11T09:42:36.130890",
     "status": "completed"
    },
    "tags": []
   },
   "outputs": [],
   "source": [
    "# dimred_umap(adata, layer='raw_counts')\n",
    "# dimred_umap(adata_cor, layer='raw_counts')\n",
    "# intermixing_layer(adata, adata_cor, condition_name, measures = ['X_pca', 'X_umap'], layer='raw_counts')"
   ]
  },
  {
   "cell_type": "code",
   "execution_count": null,
   "id": "84360321-5121-4fe9-85de-caf779fd7da6",
   "metadata": {
    "execution": {
     "iopub.execute_input": "2023-01-11T09:42:36.179763Z",
     "iopub.status.busy": "2023-01-11T09:42:36.179234Z",
     "iopub.status.idle": "2023-01-11T09:42:36.183744Z",
     "shell.execute_reply": "2023-01-11T09:42:36.182861Z"
    },
    "papermill": {
     "duration": 0.020949,
     "end_time": "2023-01-11T09:42:36.185845",
     "exception": false,
     "start_time": "2023-01-11T09:42:36.164896",
     "status": "completed"
    },
    "tags": []
   },
   "outputs": [],
   "source": [
    "# dimred_umap(adata, layer='log_raw_counts')\n",
    "# dimred_umap(adata_cor, layer='log_raw_counts')\n",
    "# intermixing_layer(adata, adata_cor, condition_name, measures = ['X_pca', 'X_umap'], layer='log_raw_counts')"
   ]
  },
  {
   "cell_type": "code",
   "execution_count": null,
   "id": "922fd925-04d7-4b04-baf9-2680713b3656",
   "metadata": {
    "execution": {
     "iopub.execute_input": "2023-01-11T09:42:36.214193Z",
     "iopub.status.busy": "2023-01-11T09:42:36.213601Z",
     "iopub.status.idle": "2023-01-11T09:42:36.217772Z",
     "shell.execute_reply": "2023-01-11T09:42:36.216891Z"
    },
    "papermill": {
     "duration": 0.020703,
     "end_time": "2023-01-11T09:42:36.219799",
     "exception": false,
     "start_time": "2023-01-11T09:42:36.199096",
     "status": "completed"
    },
    "tags": []
   },
   "outputs": [],
   "source": [
    "# dimred_umap(adata, layer='norm_counts')\n",
    "# dimred_umap(adata_cor, layer='norm_counts')\n",
    "# intermixing_layer(adata, adata_cor, condition_name, measures = ['X_pca', 'X_umap'], layer='norm_counts')"
   ]
  },
  {
   "cell_type": "code",
   "execution_count": null,
   "id": "1195eae7-27f8-486f-a8c5-41cb41c6395e",
   "metadata": {
    "execution": {
     "iopub.execute_input": "2023-01-11T09:42:36.248934Z",
     "iopub.status.busy": "2023-01-11T09:42:36.248349Z",
     "iopub.status.idle": "2023-01-11T09:42:36.252371Z",
     "shell.execute_reply": "2023-01-11T09:42:36.251390Z"
    },
    "papermill": {
     "duration": 0.02072,
     "end_time": "2023-01-11T09:42:36.254610",
     "exception": false,
     "start_time": "2023-01-11T09:42:36.233890",
     "status": "completed"
    },
    "tags": []
   },
   "outputs": [],
   "source": [
    "# dimred_umap(adata, layer='log_norm_counts')\n",
    "# dimred_umap(adata_cor, layer='log_norm_counts')\n",
    "# intermixing_layer(adata, adata_cor, condition_name, measures = ['X_pca', 'X_umap'], layer='log_norm_counts')"
   ]
  },
  {
   "cell_type": "code",
   "execution_count": null,
   "id": "9b037880-fc82-47f4-a577-1f3457c3a8d5",
   "metadata": {
    "execution": {
     "iopub.execute_input": "2023-01-11T09:42:36.283020Z",
     "iopub.status.busy": "2023-01-11T09:42:36.282446Z",
     "iopub.status.idle": "2023-01-11T09:51:29.952098Z",
     "shell.execute_reply": "2023-01-11T09:51:29.951108Z"
    },
    "papermill": {
     "duration": 533.686392,
     "end_time": "2023-01-11T09:51:29.954459",
     "exception": false,
     "start_time": "2023-01-11T09:42:36.268067",
     "status": "completed"
    },
    "tags": []
   },
   "outputs": [],
   "source": [
    "dimred_umap(adata, layer='1e4_norm_counts')\n",
    "dimred_umap(adata_cor, layer='1e4_norm_counts')\n",
    "intermixing_layer(adata, adata_cor, condition_name, measures = ['X_pca', 'X_umap'], layer='1e4_norm_counts')"
   ]
  },
  {
   "cell_type": "code",
   "execution_count": null,
   "id": "c7512900-cb76-4690-9dd8-c23c20904766",
   "metadata": {
    "execution": {
     "iopub.execute_input": "2023-01-11T09:51:30.040822Z",
     "iopub.status.busy": "2023-01-11T09:51:30.040349Z",
     "iopub.status.idle": "2023-01-11T09:57:43.979343Z",
     "shell.execute_reply": "2023-01-11T09:57:43.978225Z"
    },
    "papermill": {
     "duration": 373.984133,
     "end_time": "2023-01-11T09:57:43.981613",
     "exception": false,
     "start_time": "2023-01-11T09:51:29.997480",
     "status": "completed"
    },
    "tags": []
   },
   "outputs": [],
   "source": [
    "dimred_umap(adata, layer='1e4_log_norm_counts')\n",
    "dimred_umap(adata_cor, layer='1e4_log_norm_counts')\n",
    "intermixing_layer(adata, adata_cor, condition_name, measures = ['X_pca', 'X_umap'], layer='1e4_log_norm_counts')"
   ]
  },
  {
   "cell_type": "markdown",
   "id": "52394704",
   "metadata": {
    "papermill": {
     "duration": 0.063964,
     "end_time": "2023-01-11T09:57:44.114337",
     "exception": false,
     "start_time": "2023-01-11T09:57:44.050373",
     "status": "completed"
    },
    "tags": []
   },
   "source": [
    "Before analysis, asserting that the two data files were deconvoluted in the same way. Specifically, the corrected dataframe cannot have non-zero values at positions where the uncorrected dataframe has zero values."
   ]
  },
  {
   "cell_type": "code",
   "execution_count": null,
   "id": "791b3a13",
   "metadata": {
    "execution": {
     "iopub.execute_input": "2023-01-11T09:57:44.245281Z",
     "iopub.status.busy": "2023-01-11T09:57:44.244497Z",
     "iopub.status.idle": "2023-01-11T09:57:45.242070Z",
     "shell.execute_reply": "2023-01-11T09:57:45.241051Z"
    },
    "papermill": {
     "duration": 1.066753,
     "end_time": "2023-01-11T09:57:45.244714",
     "exception": false,
     "start_time": "2023-01-11T09:57:44.177961",
     "status": "completed"
    },
    "tags": []
   },
   "outputs": [],
   "source": [
    "assert not any(pd.Series(np.array((adata.to_df() == 0) & (adata_cor.to_df()!= 0)).flatten()))"
   ]
  },
  {
   "cell_type": "code",
   "execution_count": null,
   "id": "0dcf4fc2",
   "metadata": {
    "execution": {
     "iopub.execute_input": "2023-01-11T09:57:45.375974Z",
     "iopub.status.busy": "2023-01-11T09:57:45.375383Z",
     "iopub.status.idle": "2023-01-11T09:57:45.381319Z",
     "shell.execute_reply": "2023-01-11T09:57:45.380395Z"
    },
    "papermill": {
     "duration": 0.072585,
     "end_time": "2023-01-11T09:57:45.383322",
     "exception": false,
     "start_time": "2023-01-11T09:57:45.310737",
     "status": "completed"
    },
    "tags": []
   },
   "outputs": [],
   "source": [
    "adata.obs['correction'] = 'uncorrected'\n",
    "adata_cor.obs['correction'] = 'ISM correction'"
   ]
  },
  {
   "cell_type": "markdown",
   "id": "430f23f9",
   "metadata": {
    "papermill": {
     "duration": 0.064839,
     "end_time": "2023-01-11T09:57:45.512032",
     "exception": false,
     "start_time": "2023-01-11T09:57:45.447193",
     "status": "completed"
    },
    "tags": []
   },
   "source": [
    "## Effects of the correction on different molecules\n",
    "\n",
    "The ISM correction is performed per ion on the logarithmized intensity / sampling proportion ratio. The underlying quantile regression can only be computed with a minimum number of datapoints. If an ion has less than 10 datapoints, the quantile regression is instead computed based on a reference pool of ions.\n",
    "In the following, the resulting slopes by which all ions have been corrected are visualized. Ions that were corrected using the reference pool are shown separately.\n",
    "\n",
    "**For simplicity, not all modes of preprocessing are investigated in theis step. Only the non-transformed raw counts and the TIC-normalized and log-transformed counts are included here.**\n"
   ]
  },
  {
   "cell_type": "code",
   "execution_count": null,
   "id": "bb20be59",
   "metadata": {
    "execution": {
     "iopub.execute_input": "2023-01-11T09:57:45.642764Z",
     "iopub.status.busy": "2023-01-11T09:57:45.641959Z",
     "iopub.status.idle": "2023-01-11T09:57:46.367674Z",
     "shell.execute_reply": "2023-01-11T09:57:46.366726Z"
    },
    "papermill": {
     "duration": 0.793774,
     "end_time": "2023-01-11T09:57:46.369893",
     "exception": false,
     "start_time": "2023-01-11T09:57:45.576119",
     "status": "completed"
    },
    "tags": []
   },
   "outputs": [],
   "source": [
    "grid = sns.FacetGrid(adata_cor.var[['mean_correction_quantreg_slope', 'corrected_only_using_pool']], col='corrected_only_using_pool', hue='corrected_only_using_pool', sharey=False)\n",
    "grid.map(sns.histplot, 'mean_correction_quantreg_slope', bins=30)\n",
    "cor_pool = list(adata_cor.var[adata_cor.var['corrected_only_using_pool'] == True].index)\n",
    "adata_cor.var['corrected_only_using_pool'].value_counts()"
   ]
  },
  {
   "cell_type": "markdown",
   "id": "8a25b9ae",
   "metadata": {
    "papermill": {
     "duration": 0.06461,
     "end_time": "2023-01-11T09:57:46.503564",
     "exception": false,
     "start_time": "2023-01-11T09:57:46.438954",
     "status": "completed"
    },
    "tags": []
   },
   "source": [
    "Based on the slopes of the correction but also the logfoldchanges between corrected and uncorrected cells, one can infer the extent of alteration of different metabolites in the correction. These measures not necessarily correlate, thus the degree of correction of ions has to be evaluated on individual datasets."
   ]
  },
  {
   "cell_type": "code",
   "execution_count": null,
   "id": "5a947dff",
   "metadata": {
    "execution": {
     "iopub.execute_input": "2023-01-11T09:57:46.636669Z",
     "iopub.status.busy": "2023-01-11T09:57:46.636186Z",
     "iopub.status.idle": "2023-01-11T09:57:46.643408Z",
     "shell.execute_reply": "2023-01-11T09:57:46.642639Z"
    },
    "papermill": {
     "duration": 0.076253,
     "end_time": "2023-01-11T09:57:46.645520",
     "exception": false,
     "start_time": "2023-01-11T09:57:46.569267",
     "status": "completed"
    },
    "tags": []
   },
   "outputs": [],
   "source": [
    "import src.evaluation\n",
    "from importlib import reload\n",
    "reload(src.evaluation)\n",
    "from src.evaluation import MetaboliteAnalysis"
   ]
  },
  {
   "cell_type": "code",
   "execution_count": null,
   "id": "fcf1f2b0",
   "metadata": {
    "execution": {
     "iopub.execute_input": "2023-01-11T09:57:46.778697Z",
     "iopub.status.busy": "2023-01-11T09:57:46.777905Z",
     "iopub.status.idle": "2023-01-11T09:58:18.453200Z",
     "shell.execute_reply": "2023-01-11T09:58:18.452171Z"
    },
    "papermill": {
     "duration": 31.743941,
     "end_time": "2023-01-11T09:58:18.455672",
     "exception": false,
     "start_time": "2023-01-11T09:57:46.711731",
     "status": "completed"
    },
    "tags": []
   },
   "outputs": [],
   "source": [
    "ma_raw = MetaboliteAnalysis(adata=adata, adata_cor=adata_cor, condition_name = condition_name, \n",
    "                        obs_columns = ['list_TPO'],\n",
    "                        var_columns = ['corrected_only_using_pool', 'mean_correction_quantreg_slope', \n",
    "                                       'n_cells','median_intensity', 'mean_intensity', 'sum_correction_using_ion_pool'],\n",
    "                       use_raw = True)"
   ]
  },
  {
   "cell_type": "code",
   "execution_count": null,
   "id": "37bbda08",
   "metadata": {
    "execution": {
     "iopub.execute_input": "2023-01-11T09:58:18.591314Z",
     "iopub.status.busy": "2023-01-11T09:58:18.590470Z",
     "iopub.status.idle": "2023-01-11T09:58:29.619921Z",
     "shell.execute_reply": "2023-01-11T09:58:29.618922Z"
    },
    "papermill": {
     "duration": 11.10348,
     "end_time": "2023-01-11T09:58:29.627984",
     "exception": false,
     "start_time": "2023-01-11T09:58:18.524504",
     "status": "completed"
    },
    "tags": []
   },
   "outputs": [],
   "source": [
    "ma_raw.pair_plot(exclude_ref_corrected = False)"
   ]
  },
  {
   "cell_type": "code",
   "execution_count": null,
   "id": "a8151c82",
   "metadata": {
    "execution": {
     "iopub.execute_input": "2023-01-11T09:58:29.782894Z",
     "iopub.status.busy": "2023-01-11T09:58:29.782231Z",
     "iopub.status.idle": "2023-01-11T09:58:30.657378Z",
     "shell.execute_reply": "2023-01-11T09:58:30.656394Z"
    },
    "papermill": {
     "duration": 0.952278,
     "end_time": "2023-01-11T09:58:30.659507",
     "exception": false,
     "start_time": "2023-01-11T09:58:29.707229",
     "status": "completed"
    },
    "tags": []
   },
   "outputs": [],
   "source": [
    "ma_raw.volcano_plot(exclude_ref_corrected = False)"
   ]
  },
  {
   "cell_type": "code",
   "execution_count": null,
   "id": "e684c390",
   "metadata": {
    "execution": {
     "iopub.execute_input": "2023-01-11T09:58:30.816259Z",
     "iopub.status.busy": "2023-01-11T09:58:30.815773Z",
     "iopub.status.idle": "2023-01-11T09:58:32.592360Z",
     "shell.execute_reply": "2023-01-11T09:58:32.591284Z"
    },
    "papermill": {
     "duration": 1.856556,
     "end_time": "2023-01-11T09:58:32.595186",
     "exception": false,
     "start_time": "2023-01-11T09:58:30.738630",
     "status": "completed"
    },
    "tags": []
   },
   "outputs": [],
   "source": [
    "sc.pl.rank_genes_groups_tracksplot(ma_raw.conc_adata, groupby='correction', dendrogram=False)"
   ]
  },
  {
   "cell_type": "code",
   "execution_count": null,
   "id": "e6d75f79-59d7-4db3-9cfb-45a879c76a7b",
   "metadata": {
    "execution": {
     "iopub.execute_input": "2023-01-11T09:58:32.754586Z",
     "iopub.status.busy": "2023-01-11T09:58:32.753965Z",
     "iopub.status.idle": "2023-01-11T09:58:32.794836Z",
     "shell.execute_reply": "2023-01-11T09:58:32.793893Z"
    },
    "papermill": {
     "duration": 0.121032,
     "end_time": "2023-01-11T09:58:32.797097",
     "exception": false,
     "start_time": "2023-01-11T09:58:32.676065",
     "status": "completed"
    },
    "tags": []
   },
   "outputs": [],
   "source": [
    "adata_cor.obs['n_pixels'] = [i.count(';')+1 for i in adata_cor.obs['list_TPO']]\n",
    "strat_cell_list = list(adata_cor.obs.groupby('n_pixels', group_keys=False).apply(lambda x: x.sample(1)).index)[:6]\n",
    "strat_cell_list"
   ]
  },
  {
   "cell_type": "markdown",
   "id": "e91352d2",
   "metadata": {
    "papermill": {
     "duration": 0.079745,
     "end_time": "2023-01-11T09:58:32.955992",
     "exception": false,
     "start_time": "2023-01-11T09:58:32.876247",
     "status": "completed"
    },
    "tags": []
   },
   "source": [
    "The following plot shows the metabolic profiles of sampled cell generated from 1 and increasing numbers of ablation marks. The first row has the uncorrected raw ion intensities, the second row the corrected raw ion intensities and the third row the correction ratio/quotient between the two ( $correction\\_ratio = \\frac{I_{corrected}}{I_{uncorrected}}$ ). Most ions have the same correction ratio in a given cells, some have a higher ratio (smaller slope, less ISM correction) and some have a lower ratio (steeper slope, stronger ISM correction). The distribution of ion-specific correction ratios in the same cells is shown, separately for self-corrected and pool-corrected ions, in density plots underneath the metabolic profiles. Black horizontal and vertical lines show the sampling proportion of all ablation marks that were combined to the respective cell. Especially from the density plots, it becomes obvious that the majority of ions have correction ratios that colocalize with the pixels' sampling ratios. This can be explained by the fact that most ions had a correction slope of ~-1, the pool-corrected ions had all the same slope close to -1. Thus, these ions are down-corrected by multiplying with ~1 times their sampling proportion. Since many ions seem to occur only in one of the underlying ablation marks, the distribution of correction ratios has prominent peaks and few values between them."
   ]
  },
  {
   "cell_type": "code",
   "execution_count": null,
   "id": "f5d978f2",
   "metadata": {
    "execution": {
     "iopub.execute_input": "2023-01-11T09:58:33.114718Z",
     "iopub.status.busy": "2023-01-11T09:58:33.114229Z",
     "iopub.status.idle": "2023-01-11T10:00:16.783611Z",
     "shell.execute_reply": "2023-01-11T10:00:16.782463Z"
    },
    "papermill": {
     "duration": 103.751057,
     "end_time": "2023-01-11T10:00:16.786615",
     "exception": false,
     "start_time": "2023-01-11T09:58:33.035558",
     "status": "completed"
    },
    "tags": []
   },
   "outputs": [],
   "source": [
    "ma_raw.quotient_plot(show_cells=strat_cell_list)"
   ]
  },
  {
   "cell_type": "code",
   "execution_count": null,
   "id": "924fcc71",
   "metadata": {
    "execution": {
     "iopub.execute_input": "2023-01-11T10:00:16.960539Z",
     "iopub.status.busy": "2023-01-11T10:00:16.960084Z",
     "iopub.status.idle": "2023-01-11T10:00:38.687749Z",
     "shell.execute_reply": "2023-01-11T10:00:38.686730Z"
    },
    "papermill": {
     "duration": 21.81655,
     "end_time": "2023-01-11T10:00:38.690588",
     "exception": false,
     "start_time": "2023-01-11T10:00:16.874038",
     "status": "completed"
    },
    "tags": []
   },
   "outputs": [],
   "source": [
    "ma_raw.top_ion_plot()"
   ]
  },
  {
   "cell_type": "code",
   "execution_count": null,
   "id": "9ab2a6a6",
   "metadata": {
    "execution": {
     "iopub.execute_input": "2023-01-11T10:00:38.880203Z",
     "iopub.status.busy": "2023-01-11T10:00:38.879401Z",
     "iopub.status.idle": "2023-01-11T10:01:41.192997Z",
     "shell.execute_reply": "2023-01-11T10:01:41.192024Z"
    },
    "papermill": {
     "duration": 62.409241,
     "end_time": "2023-01-11T10:01:41.195412",
     "exception": false,
     "start_time": "2023-01-11T10:00:38.786171",
     "status": "completed"
    },
    "tags": []
   },
   "outputs": [],
   "source": [
    "_ = ma_raw.save_matrix(save_to_path = analysis_path, safe_to_name = project, save_figures=6)"
   ]
  },
  {
   "cell_type": "markdown",
   "id": "6f57690a-8eea-4c15-8167-f7dc0e1847f5",
   "metadata": {
    "papermill": {
     "duration": 0.09522,
     "end_time": "2023-01-11T10:01:41.387005",
     "exception": false,
     "start_time": "2023-01-11T10:01:41.291785",
     "status": "completed"
    },
    "tags": []
   },
   "source": [
    "Analogous to the differential expression analysis in this notebook, the raw ion intensities of the uncorrected and corrected dataset can be loaded into Metenrichr, an R package by Martijn Molenaar (corresponding shiny app by Bishoy Wadie), to perform DEA and subsequent enrichment analysis for lipid ontology terms.\n",
    "\n",
    "For that, the following settings were used:\n",
    "\n",
    "- Polarization mode: Negative\n",
    "- DEA with wilcoxon test\n",
    "- Number of bootstraps: 100\n",
    "- Minimum number of annotations: 3\n",
    "- adjusted p-value cutoff: 0.05\n",
    "\n",
    "As the corrected dataset is compared to the uncorrected on, a positive enrichment corresponds to metabolites that have been increased/not changed in the correction and a negative enrichment to metabolites that have been decreased by ion suppression correction.\n",
    "\n",
    "<p align=\"center\">\n",
    "  <img \n",
    "    style=\"display: block; \n",
    "           margin-left: auto;\n",
    "           margin-right: auto;\n",
    "           width: 70%;\" align=\"center\" width=\"800\" src=\"metenrichr_LION_neg_wilcox_B100_A3_q0.05.png\">\n",
    "</p>"
   ]
  },
  {
   "cell_type": "markdown",
   "id": "3fc3f349",
   "metadata": {
    "papermill": {
     "duration": 0.094102,
     "end_time": "2023-01-11T10:01:41.575831",
     "exception": false,
     "start_time": "2023-01-11T10:01:41.481729",
     "status": "completed"
    },
    "tags": []
   },
   "source": [
    "The same analysis is then carried out for the TIC-corrected and log-transformed data: Here, the differences between uncorrected and ISM-corrected data are much more subtle. This corresponds better with the UMAPs further down, as they also show very little noticebly differences between uncorrected and ISM-corrected datasets."
   ]
  },
  {
   "cell_type": "code",
   "execution_count": null,
   "id": "278283c1-d1ca-45ad-9edd-147e5c251098",
   "metadata": {
    "execution": {
     "iopub.execute_input": "2023-01-11T10:01:41.769665Z",
     "iopub.status.busy": "2023-01-11T10:01:41.768927Z",
     "iopub.status.idle": "2023-01-11T10:01:41.774126Z",
     "shell.execute_reply": "2023-01-11T10:01:41.773175Z"
    },
    "papermill": {
     "duration": 0.104645,
     "end_time": "2023-01-11T10:01:41.776243",
     "exception": false,
     "start_time": "2023-01-11T10:01:41.671598",
     "status": "completed"
    },
    "tags": []
   },
   "outputs": [],
   "source": [
    "adata.X = adata.layers['log_norm_counts']\n",
    "adata_cor.X = adata_cor.layers['log_norm_counts']"
   ]
  },
  {
   "cell_type": "code",
   "execution_count": null,
   "id": "01e15ae3-c8fa-4f27-8cb7-1a5ba824f3ca",
   "metadata": {
    "execution": {
     "iopub.execute_input": "2023-01-11T10:01:41.973380Z",
     "iopub.status.busy": "2023-01-11T10:01:41.972887Z",
     "iopub.status.idle": "2023-01-11T10:02:12.884210Z",
     "shell.execute_reply": "2023-01-11T10:02:12.883190Z"
    },
    "papermill": {
     "duration": 31.009823,
     "end_time": "2023-01-11T10:02:12.886648",
     "exception": false,
     "start_time": "2023-01-11T10:01:41.876825",
     "status": "completed"
    },
    "tags": []
   },
   "outputs": [],
   "source": [
    "ma = MetaboliteAnalysis(adata=adata, adata_cor=adata_cor, condition_name = condition_name, \n",
    "                        obs_columns = ['list_TPO'],\n",
    "                        var_columns = ['corrected_only_using_pool', 'mean_correction_quantreg_slope', \n",
    "                                       'n_cells','median_intensity', 'mean_intensity', 'sum_correction_using_ion_pool'],\n",
    "                       use_raw = False)"
   ]
  },
  {
   "cell_type": "code",
   "execution_count": null,
   "id": "b869a0ee",
   "metadata": {
    "execution": {
     "iopub.execute_input": "2023-01-11T10:02:13.096406Z",
     "iopub.status.busy": "2023-01-11T10:02:13.095746Z",
     "iopub.status.idle": "2023-01-11T10:02:14.851527Z",
     "shell.execute_reply": "2023-01-11T10:02:14.850470Z"
    },
    "papermill": {
     "duration": 1.865145,
     "end_time": "2023-01-11T10:02:14.854216",
     "exception": false,
     "start_time": "2023-01-11T10:02:12.989071",
     "status": "completed"
    },
    "tags": []
   },
   "outputs": [],
   "source": [
    "sc.pl.rank_genes_groups_tracksplot(ma.conc_adata, groupby='correction', dendrogram=False)"
   ]
  },
  {
   "cell_type": "markdown",
   "id": "f4233e98",
   "metadata": {
    "papermill": {
     "duration": 0.096323,
     "end_time": "2023-01-11T10:02:15.049699",
     "exception": false,
     "start_time": "2023-01-11T10:02:14.953376",
     "status": "completed"
    },
    "tags": []
   },
   "source": [
    "After TIC normalization and log transformation, the distributions of correction ratios is moved and scaled down. Thus they do not co-localize with the pixels' sampling proportions anymore and differences between datasets are smaller than for the raw data."
   ]
  },
  {
   "cell_type": "code",
   "execution_count": null,
   "id": "371fd210",
   "metadata": {
    "execution": {
     "iopub.execute_input": "2023-01-11T10:02:15.250228Z",
     "iopub.status.busy": "2023-01-11T10:02:15.249541Z",
     "iopub.status.idle": "2023-01-11T10:04:09.049575Z",
     "shell.execute_reply": "2023-01-11T10:04:09.048578Z"
    },
    "papermill": {
     "duration": 113.902479,
     "end_time": "2023-01-11T10:04:09.052360",
     "exception": false,
     "start_time": "2023-01-11T10:02:15.149881",
     "status": "completed"
    },
    "tags": []
   },
   "outputs": [],
   "source": [
    "ma.quotient_plot(show_cells=strat_cell_list)"
   ]
  },
  {
   "cell_type": "code",
   "execution_count": null,
   "id": "dbd32d0c",
   "metadata": {
    "execution": {
     "iopub.execute_input": "2023-01-11T10:04:09.254876Z",
     "iopub.status.busy": "2023-01-11T10:04:09.254233Z",
     "iopub.status.idle": "2023-01-11T10:04:31.101101Z",
     "shell.execute_reply": "2023-01-11T10:04:31.100025Z"
    },
    "papermill": {
     "duration": 21.950212,
     "end_time": "2023-01-11T10:04:31.103794",
     "exception": false,
     "start_time": "2023-01-11T10:04:09.153582",
     "status": "completed"
    },
    "tags": []
   },
   "outputs": [],
   "source": [
    "ma.top_ion_plot()"
   ]
  },
  {
   "cell_type": "markdown",
   "id": "e0e0b37e-1d8f-4e4e-ab7d-7ee7761b245d",
   "metadata": {
    "papermill": {
     "duration": 0.105027,
     "end_time": "2023-01-11T10:04:31.318971",
     "exception": false,
     "start_time": "2023-01-11T10:04:31.213944",
     "status": "completed"
    },
    "tags": []
   },
   "source": [
    "The different degree of correction of metabolites could be reflected in the spatial distribution on the corresponding ion images. To this end, the ion images of each two metabolites with the highest (center column) and lowest (right column) correction slopes are shown in the following figure (from well H3, condition Naive_WT)). The corresponding dataset is available on [metaspace](https://metaspace2020.eu/annotations?db_id=658&grp=5727e852-e1dd-11e8-9d75-5fefa7059e48&ds=2022-07-16_08h56m51s&fdr=0.5&q=C24H48NO6P%20%7C%20C37H71O8P%20%7C%20C42H82NO8P%20%7C%20C41H80NO8P&row=4).\n",
    "\n",
    "<p align=\"center\">\n",
    "  <img \n",
    "    style=\"display: block; \n",
    "           margin-left: auto;\n",
    "           margin-right: auto;\n",
    "           width: 70%;\" align=\"center\" width=\"800\" src=\"ion_images_glioblastoma.png\">\n",
    "</p>\n"
   ]
  },
  {
   "cell_type": "markdown",
   "id": "02fb470e",
   "metadata": {
    "papermill": {
     "duration": 0.106395,
     "end_time": "2023-01-11T10:04:31.531489",
     "exception": false,
     "start_time": "2023-01-11T10:04:31.425094",
     "status": "completed"
    },
    "tags": []
   },
   "source": [
    "## Comparison of the datasets\n",
    "\n",
    "In the following, the uncorrected and ISM-corrected datasets are compared using methods of a typical single-cell analysis. Unless specified otherwise, the data was preprocessed using TOC normalization and log transformation."
   ]
  },
  {
   "cell_type": "code",
   "execution_count": null,
   "id": "dd8ac987",
   "metadata": {
    "execution": {
     "iopub.execute_input": "2023-01-11T10:04:31.745451Z",
     "iopub.status.busy": "2023-01-11T10:04:31.745024Z",
     "iopub.status.idle": "2023-01-11T10:04:40.925309Z",
     "shell.execute_reply": "2023-01-11T10:04:40.924309Z"
    },
    "papermill": {
     "duration": 9.289543,
     "end_time": "2023-01-11T10:04:40.927466",
     "exception": false,
     "start_time": "2023-01-11T10:04:31.637923",
     "status": "completed"
    },
    "tags": []
   },
   "outputs": [],
   "source": [
    "def dimred_pca(adata):\n",
    "    sc.pp.pca(adata)\n",
    "    sc.pl.pca_overview(adata, color=['well', condition_name], palette='cividis')\n",
    "\n",
    "dimred_pca(adata)\n",
    "dimred_pca(adata_cor)"
   ]
  },
  {
   "cell_type": "code",
   "execution_count": null,
   "id": "3e820a1f-e219-4b22-8e01-1d0182144673",
   "metadata": {
    "execution": {
     "iopub.execute_input": "2023-01-11T10:04:41.194546Z",
     "iopub.status.busy": "2023-01-11T10:04:41.193835Z",
     "iopub.status.idle": "2023-01-11T10:05:51.805277Z",
     "shell.execute_reply": "2023-01-11T10:05:51.804165Z"
    },
    "papermill": {
     "duration": 70.752805,
     "end_time": "2023-01-11T10:05:51.813737",
     "exception": false,
     "start_time": "2023-01-11T10:04:41.060932",
     "status": "completed"
    },
    "tags": []
   },
   "outputs": [],
   "source": [
    "dimred_umap(adata)\n",
    "dimred_umap(adata_cor)"
   ]
  },
  {
   "cell_type": "code",
   "execution_count": null,
   "id": "ca21cb71",
   "metadata": {
    "execution": {
     "iopub.execute_input": "2023-01-11T10:05:52.137263Z",
     "iopub.status.busy": "2023-01-11T10:05:52.136810Z",
     "iopub.status.idle": "2023-01-11T10:05:52.142352Z",
     "shell.execute_reply": "2023-01-11T10:05:52.141394Z"
    },
    "papermill": {
     "duration": 0.169032,
     "end_time": "2023-01-11T10:05:52.144491",
     "exception": false,
     "start_time": "2023-01-11T10:05:51.975459",
     "status": "completed"
    },
    "tags": []
   },
   "outputs": [],
   "source": [
    "# from sklearn.metrics.cluster import completeness_score\n",
    "# from sklearn.metrics import accuracy_score, silhouette_score\n",
    "# \n",
    "# def kmeans_clust(adata):\n",
    "#     n_clusters = len(adata.obs[condition_name].value_counts())\n",
    "#     kmeans = KMeans(n_clusters=n_clusters, random_state=0).fit(adata.X)\n",
    "#     adata.obs['kmeans'] = kmeans.labels_.astype(str)\n",
    "# \n",
    "#     sc.tl.leiden(adata, resolution=2)\n",
    "# \n",
    "#     leiden = np.array(adata.obs['leiden'].values)\n",
    "#     leiden_curated = np.copy(leiden)\n",
    "#     fc = np.array(adata.obs[condition_name].values)\n",
    "#     for cluster in np.unique(leiden):\n",
    "#         labels, counts = np.unique(fc[leiden == cluster], return_counts=True)\n",
    "#         leiden_curated[leiden == cluster] = str(labels[counts == np.max(counts)][0])\n",
    "#     adata.obs['leiden_curated'] = leiden_curated\n",
    "# \n",
    "#     sc.pl.umap(adata, color=['kmeans', 'leiden', 'leiden_curated', condition_name], palette='cividis')\n",
    "#     # print('Leiden acccuracy score: %1.4f' % accuracy_score(y_true = adata.obs[condition_name].replace(['HeLa', 'NIH3T3'], ['0', '1']), y_pred = adata.obs['leiden']))\n",
    "#     print('Curated leiden acccuracy score: %1.4f' % accuracy_score(y_true = adata.obs[condition_name], y_pred = adata.obs['leiden_curated']))\n",
    "#     print('KMeans completeness score: %1.4f' % completeness_score(adata.obs[condition_name], adata.obs['kmeans']))\n",
    "#     print('KMeans silhouette coefficient: %1.4f' % silhouette_score(adata.X, adata.obs['kmeans']))\n",
    "# \n",
    "# kmeans_clust(adata)\n",
    "# kmeans_clust(adata_cor)\n",
    "# "
   ]
  },
  {
   "cell_type": "code",
   "execution_count": null,
   "id": "0556e834",
   "metadata": {
    "execution": {
     "iopub.execute_input": "2023-01-11T10:05:52.465579Z",
     "iopub.status.busy": "2023-01-11T10:05:52.465071Z",
     "iopub.status.idle": "2023-01-11T10:13:43.762886Z",
     "shell.execute_reply": "2023-01-11T10:13:43.761830Z"
    },
    "papermill": {
     "duration": 471.489587,
     "end_time": "2023-01-11T10:13:43.793917",
     "exception": false,
     "start_time": "2023-01-11T10:05:52.304330",
     "status": "completed"
    },
    "tags": []
   },
   "outputs": [],
   "source": [
    "summaries = intermixing({'uncorrected': adata, 'ISM correction': adata_cor}, condition_name = condition_name, measures = ['X_pca', 'X_umap'])"
   ]
  },
  {
   "cell_type": "code",
   "execution_count": null,
   "id": "e95774c2",
   "metadata": {
    "execution": {
     "iopub.execute_input": "2023-01-11T10:13:44.144282Z",
     "iopub.status.busy": "2023-01-11T10:13:44.143760Z",
     "iopub.status.idle": "2023-01-11T10:15:45.100269Z",
     "shell.execute_reply": "2023-01-11T10:15:45.099233Z"
    },
    "papermill": {
     "duration": 121.123377,
     "end_time": "2023-01-11T10:15:45.102427",
     "exception": false,
     "start_time": "2023-01-11T10:13:43.979050",
     "status": "completed"
    },
    "tags": []
   },
   "outputs": [],
   "source": [
    "s = intermixing(\n",
    "    adata_dict = {'uncorrected': adata, 'ISM correction': adata_cor},\n",
    "    condition_name = condition_name,\n",
    "    sample_frac=0.1,\n",
    "    measures =['X_umap', 'X_pca'],\n",
    "    n_datapoints = 50,\n",
    "    sample_log = True,\n",
    "    neighborhood_size = None,\n",
    "    normalized = False,\n",
    "    show_table = [],\n",
    "    n_jobs = multiprocessing.cpu_count()\n",
    ")"
   ]
  },
  {
   "cell_type": "code",
   "execution_count": null,
   "id": "7a5f4d6b",
   "metadata": {
    "execution": {
     "iopub.execute_input": "2023-01-11T10:15:45.424935Z",
     "iopub.status.busy": "2023-01-11T10:15:45.424506Z",
     "iopub.status.idle": "2023-01-11T10:15:45.431824Z",
     "shell.execute_reply": "2023-01-11T10:15:45.430829Z"
    },
    "papermill": {
     "duration": 0.169802,
     "end_time": "2023-01-11T10:15:45.434114",
     "exception": false,
     "start_time": "2023-01-11T10:15:45.264312",
     "status": "completed"
    },
    "tags": []
   },
   "outputs": [],
   "source": [
    "from scipy.integrate import trapz, simps\n",
    "\n",
    "def auc_intermixing(summary_dict):\n",
    "    for name, data in summary_dict.items():\n",
    "        print('Area under the curve for %s: %1.4f'%(name, trapz(data['mean'], data.index) / max(data.index)))\n",
    "\n",
    "\n",
    "auc_intermixing(s[1])"
   ]
  },
  {
   "cell_type": "code",
   "execution_count": null,
   "id": "458acbc7",
   "metadata": {
    "execution": {
     "iopub.execute_input": "2023-01-11T10:15:45.758852Z",
     "iopub.status.busy": "2023-01-11T10:15:45.758441Z",
     "iopub.status.idle": "2023-01-11T10:15:45.770407Z",
     "shell.execute_reply": "2023-01-11T10:15:45.769430Z"
    },
    "papermill": {
     "duration": 0.176681,
     "end_time": "2023-01-11T10:15:45.772395",
     "exception": false,
     "start_time": "2023-01-11T10:15:45.595714",
     "status": "completed"
    },
    "tags": []
   },
   "outputs": [],
   "source": [
    "from sklearn.svm import LinearSVC\n",
    "\n",
    "def analyse_svm_margin(adata, adata_cor, condition_name, layer=None):\n",
    "    print(layer)\n",
    "    if layer is not None:\n",
    "        adata.layers['default_X'] = adata.X\n",
    "        adata.X = adata.layers[layer]\n",
    "        adata_cor.layers['default_X'] = adata_cor.X\n",
    "        adata_cor.X = adata_cor.layers[layer]\n",
    "    \n",
    "    def get_svm_margin(adata, condition_name, size_factor = 1):\n",
    "        predictors = adata.X * size_factor\n",
    "        result = adata.obs[condition_name]\n",
    "        clf = LinearSVC(random_state=0, dual=False)\n",
    "        clf.fit(predictors, result)  \n",
    "        margin_df = pd.DataFrame({'condition': clf.classes_, 'margin': 1 / np.sqrt(np.sum(clf.coef_**2, axis=1))})\n",
    "\n",
    "        #print(margin_df)\n",
    "        return margin_df\n",
    "    \n",
    "    size_factor = np.sum(adata.X) / np.sum(adata_cor.X)\n",
    "\n",
    "    df = pd.merge(get_svm_margin(adata, condition_name), \n",
    "                  get_svm_margin(adata_cor, condition_name, size_factor = size_factor), \n",
    "                  on='condition', suffixes=['_uncorrected', '_ISM_corrected'])\n",
    "    sns.set(rc={\"figure.figsize\":(12, 5)})\n",
    "    sns.barplot(df.melt(id_vars='condition', var_name='correction', value_name='margin'), \n",
    "                x='condition', y='margin', hue='correction').set_title('Comparison of SVM margins for layer %s'%layer)\n",
    "    \n",
    "    \n",
    "    \n",
    "    if layer is not None:\n",
    "        adata.X = adata.layers['default_X']\n",
    "        adata_cor.X = adata_cor.layers['default_X']\n",
    "   "
   ]
  },
  {
   "cell_type": "code",
   "execution_count": null,
   "id": "1a71cc89-e9e0-4a25-ac6b-523538002a66",
   "metadata": {
    "execution": {
     "iopub.execute_input": "2023-01-11T10:15:46.096136Z",
     "iopub.status.busy": "2023-01-11T10:15:46.095331Z",
     "iopub.status.idle": "2023-01-11T10:18:31.134326Z",
     "shell.execute_reply": "2023-01-11T10:18:31.133319Z"
    },
    "papermill": {
     "duration": 165.206057,
     "end_time": "2023-01-11T10:18:31.136782",
     "exception": false,
     "start_time": "2023-01-11T10:15:45.930725",
     "status": "completed"
    },
    "tags": []
   },
   "outputs": [],
   "source": [
    "analyse_svm_margin(adata, adata_cor, condition_name, layer='norm_counts')"
   ]
  },
  {
   "cell_type": "code",
   "execution_count": null,
   "id": "3c231c87-2ca4-4e68-b03e-a422d6a60ee2",
   "metadata": {
    "execution": {
     "iopub.execute_input": "2023-01-11T10:18:31.473286Z",
     "iopub.status.busy": "2023-01-11T10:18:31.472852Z",
     "iopub.status.idle": "2023-01-11T10:19:13.539336Z",
     "shell.execute_reply": "2023-01-11T10:19:13.538313Z"
    },
    "papermill": {
     "duration": 42.401697,
     "end_time": "2023-01-11T10:19:13.708534",
     "exception": false,
     "start_time": "2023-01-11T10:18:31.306837",
     "status": "completed"
    },
    "tags": []
   },
   "outputs": [],
   "source": [
    "analyse_svm_margin(adata, adata_cor, condition_name, layer='log_norm_counts')"
   ]
  },
  {
   "cell_type": "code",
   "execution_count": null,
   "id": "7bc67c1e-d1aa-4126-85e9-3257dfe98ce3",
   "metadata": {
    "execution": {
     "iopub.execute_input": "2023-01-11T10:19:14.053769Z",
     "iopub.status.busy": "2023-01-11T10:19:14.052983Z",
     "iopub.status.idle": "2023-01-11T10:19:38.395894Z",
     "shell.execute_reply": "2023-01-11T10:19:38.394916Z"
    },
    "papermill": {
     "duration": 24.51964,
     "end_time": "2023-01-11T10:19:38.398335",
     "exception": false,
     "start_time": "2023-01-11T10:19:13.878695",
     "status": "completed"
    },
    "tags": []
   },
   "outputs": [],
   "source": [
    "analyse_svm_margin(adata, adata_cor, condition_name, layer='1e4_log_norm_counts')"
   ]
  }
 ],
 "metadata": {
  "kernelspec": {
   "display_name": "Python 3 (ipykernel)",
   "language": "python",
   "name": "python3"
  },
  "language_info": {
   "codemirror_mode": {
    "name": "ipython",
    "version": 3
   },
   "file_extension": ".py",
   "mimetype": "text/x-python",
   "name": "python",
   "nbconvert_exporter": "python",
   "pygments_lexer": "ipython3",
   "version": "3.10.6"
  },
  "papermill": {
   "default_parameters": {},
   "duration": 2239.91114,
   "end_time": "2023-01-11T10:19:42.418930",
   "environment_variables": {},
   "exception": null,
   "input_path": "analysis/Lx_Glioblastoma/pipeline_03_evaluation.ipynb",
   "output_path": "analysis/Lx_Glioblastoma/pipeline_03_evaluation.ipynb",
   "parameters": {
    "analysis_path": "/home/mklein/FDA_project/analysis/Lx_Glioblastoma",
    "condition_name": "condition",
    "deconv_default_min_overlap": 0.3,
    "notebooks": [
     "pipeline_02_processing.ipynb",
     "pipeline_03_evaluation.ipynb"
    ],
    "project": "Lx_Glioblastoma",
    "source_path": "/g/alexandr/smenon/2022-07-13_Glioblastoma/processed_files",
    "target_path": "/home/mklein/FDA_project/data/Lx_Glioblastoma",
    "well_name": "rowcol"
   },
   "start_time": "2023-01-11T09:42:22.507790",
   "version": "2.3.4"
  },
  "vscode": {
   "interpreter": {
    "hash": "89b4449ee30f46b148fb6825d70934bcbb1ebdb6d5b2015fe3835362773c7289"
   }
  }
 },
 "nbformat": 4,
 "nbformat_minor": 5
}
