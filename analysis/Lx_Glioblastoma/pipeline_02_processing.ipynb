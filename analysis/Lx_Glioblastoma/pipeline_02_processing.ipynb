{
 "cells": [
  {
   "cell_type": "markdown",
   "id": "946de544",
   "metadata": {
    "papermill": {
     "duration": 0.00694,
     "end_time": "2022-11-16T17:40:49.997720",
     "exception": false,
     "start_time": "2022-11-16T17:40:49.990780",
     "status": "completed"
    },
    "tags": []
   },
   "source": [
    "# Processing corrected samples\n",
    "\n",
    "Datasets typically consist of several wells on a microscopy slide. In this notebook, the wells are integrated to one annotated data matrix."
   ]
  },
  {
   "cell_type": "code",
   "execution_count": 1,
   "id": "30189336",
   "metadata": {
    "execution": {
     "iopub.execute_input": "2022-11-16T17:40:50.013301Z",
     "iopub.status.busy": "2022-11-16T17:40:50.012257Z",
     "iopub.status.idle": "2022-11-16T17:40:54.194059Z",
     "shell.execute_reply": "2022-11-16T17:40:54.192942Z"
    },
    "papermill": {
     "duration": 4.192965,
     "end_time": "2022-11-16T17:40:54.197505",
     "exception": false,
     "start_time": "2022-11-16T17:40:50.004540",
     "status": "completed"
    },
    "tags": []
   },
   "outputs": [],
   "source": [
    "import os\n",
    "import platform\n",
    "import scanpy as sc\n",
    "import pandas as pd\n",
    "import numpy as np\n",
    "import anndata as ad\n",
    "import multiprocessing\n",
    "from joblib import Parallel, delayed\n",
    "from importlib import reload\n",
    "from tqdm import tqdm\n",
    "import statsmodels.formula.api as smf\n",
    "import seaborn as sns\n",
    "import sys\n",
    "sys.path.append('/home/mklein/spacem')\n",
    "sys.path.append('/home/mklein/FDA_project')\n",
    "from src.correction import get_matrices_from_dfs, normalize_proportion_ratios\n",
    "from src import const\n",
    "from src.evaluation import plot_all_ion_slopes"
   ]
  },
  {
   "cell_type": "code",
   "execution_count": 2,
   "id": "e5f3dbf4",
   "metadata": {
    "execution": {
     "iopub.execute_input": "2022-11-16T17:40:54.211823Z",
     "iopub.status.busy": "2022-11-16T17:40:54.211272Z",
     "iopub.status.idle": "2022-11-16T17:40:54.216294Z",
     "shell.execute_reply": "2022-11-16T17:40:54.215498Z"
    },
    "papermill": {
     "duration": 0.015076,
     "end_time": "2022-11-16T17:40:54.218930",
     "exception": false,
     "start_time": "2022-11-16T17:40:54.203854",
     "status": "completed"
    },
    "tags": [
     "parameters"
    ]
   },
   "outputs": [],
   "source": [
    "if platform.system() == \"Darwin\":\n",
    "    target_path = '/Volumes/mklein/FDA_project/data/Lx_Glioblastoma'\n",
    "else:\n",
    "    target_path = '/home/mklein/FDA_project/data/Lx_Glioblastoma'\n",
    "    \n",
    "# this is the column of the annotated data matrix, that discriminates between conditions\n",
    "condition_name = 'dataset_3'"
   ]
  },
  {
   "cell_type": "code",
   "execution_count": 3,
   "id": "d33c74e7",
   "metadata": {
    "execution": {
     "iopub.execute_input": "2022-11-16T17:40:54.231109Z",
     "iopub.status.busy": "2022-11-16T17:40:54.230858Z",
     "iopub.status.idle": "2022-11-16T17:40:54.234868Z",
     "shell.execute_reply": "2022-11-16T17:40:54.234077Z"
    },
    "papermill": {
     "duration": 0.012836,
     "end_time": "2022-11-16T17:40:54.237307",
     "exception": false,
     "start_time": "2022-11-16T17:40:54.224471",
     "status": "completed"
    },
    "tags": [
     "injected-parameters"
    ]
   },
   "outputs": [],
   "source": [
    "# Parameters\n",
    "source_path = \"/g/alexandr/smenon/2022-07-13_Glioblastoma/processed_files\"\n",
    "target_path = \"/home/mklein/FDA_project/data/Lx_Glioblastoma\"\n",
    "condition_name = \"condition\"\n",
    "well_name = \"rowcol\"\n"
   ]
  },
  {
   "cell_type": "code",
   "execution_count": 4,
   "id": "2d72a6a7",
   "metadata": {
    "execution": {
     "iopub.execute_input": "2022-11-16T17:40:54.249710Z",
     "iopub.status.busy": "2022-11-16T17:40:54.249442Z",
     "iopub.status.idle": "2022-11-16T17:40:54.254550Z",
     "shell.execute_reply": "2022-11-16T17:40:54.253786Z"
    },
    "papermill": {
     "duration": 0.013893,
     "end_time": "2022-11-16T17:40:54.256968",
     "exception": false,
     "start_time": "2022-11-16T17:40:54.243075",
     "status": "completed"
    },
    "tags": []
   },
   "outputs": [],
   "source": [
    "samples = [dir.name for dir in os.scandir(target_path) if dir.is_dir() and dir.name[0] != \".\"]\n",
    "\n",
    "files = {\n",
    "        'am_sm_matrix': 'am_spatiomolecular_adata.h5ad',\n",
    "        'corr_am_sm_matrix': 'am_spatiomolecular_adata_corrected.h5ad',\n",
    "        'cell_sm_matrix': 'cells_spatiomolecular_adata_spacem.h5ad',\n",
    "        'gen_cell_sm_matrix': 'cells_spatiomolecular_adata.h5ad',\n",
    "        'corr_cell_sm_matrix': 'cells_spatiomolecular_adata_corrected.h5ad',\n",
    "    }"
   ]
  },
  {
   "cell_type": "markdown",
   "id": "c14bc6ea",
   "metadata": {
    "papermill": {
     "duration": 0.005074,
     "end_time": "2022-11-16T17:40:54.266902",
     "exception": false,
     "start_time": "2022-11-16T17:40:54.261828",
     "status": "completed"
    },
    "tags": []
   },
   "source": [
    "After loading all individual wells, they are concatenated into one data matrix. Cell identifiers are kept unique by adding a well-specific suffix "
   ]
  },
  {
   "cell_type": "code",
   "execution_count": 5,
   "id": "e4faa631",
   "metadata": {
    "execution": {
     "iopub.execute_input": "2022-11-16T17:40:54.277916Z",
     "iopub.status.busy": "2022-11-16T17:40:54.277597Z",
     "iopub.status.idle": "2022-11-16T17:41:16.237498Z",
     "shell.execute_reply": "2022-11-16T17:41:16.235898Z"
    },
    "papermill": {
     "duration": 21.968971,
     "end_time": "2022-11-16T17:41:16.240701",
     "exception": false,
     "start_time": "2022-11-16T17:40:54.271730",
     "status": "completed"
    },
    "tags": []
   },
   "outputs": [
    {
     "name": "stderr",
     "output_type": "stream",
     "text": [
      "\r",
      "  0%|                                                                                                                                     | 0/35 [00:00<?, ?it/s]"
     ]
    },
    {
     "name": "stderr",
     "output_type": "stream",
     "text": [
      "\r",
      "  3%|███▌                                                                                                                         | 1/35 [00:00<00:22,  1.53it/s]"
     ]
    },
    {
     "name": "stderr",
     "output_type": "stream",
     "text": [
      "\r",
      "  6%|███████▏                                                                                                                     | 2/35 [00:01<00:23,  1.43it/s]"
     ]
    },
    {
     "name": "stderr",
     "output_type": "stream",
     "text": [
      "\r",
      "  9%|██████████▋                                                                                                                  | 3/35 [00:02<00:22,  1.45it/s]"
     ]
    },
    {
     "name": "stderr",
     "output_type": "stream",
     "text": [
      "\r",
      " 11%|██████████████▎                                                                                                              | 4/35 [00:02<00:20,  1.53it/s]"
     ]
    },
    {
     "name": "stderr",
     "output_type": "stream",
     "text": [
      "\r",
      " 14%|█████████████████▊                                                                                                           | 5/35 [00:03<00:19,  1.55it/s]"
     ]
    },
    {
     "name": "stderr",
     "output_type": "stream",
     "text": [
      "\r",
      " 17%|█████████████████████▍                                                                                                       | 6/35 [00:03<00:19,  1.52it/s]"
     ]
    },
    {
     "name": "stderr",
     "output_type": "stream",
     "text": [
      "\r",
      " 20%|█████████████████████████                                                                                                    | 7/35 [00:04<00:18,  1.56it/s]"
     ]
    },
    {
     "name": "stderr",
     "output_type": "stream",
     "text": [
      "\r",
      " 23%|████████████████████████████▌                                                                                                | 8/35 [00:05<00:17,  1.55it/s]"
     ]
    },
    {
     "name": "stderr",
     "output_type": "stream",
     "text": [
      "\r",
      " 26%|████████████████████████████████▏                                                                                            | 9/35 [00:05<00:16,  1.59it/s]"
     ]
    },
    {
     "name": "stderr",
     "output_type": "stream",
     "text": [
      "\r",
      " 29%|███████████████████████████████████▍                                                                                        | 10/35 [00:06<00:15,  1.63it/s]"
     ]
    },
    {
     "name": "stderr",
     "output_type": "stream",
     "text": [
      "\r",
      " 31%|██████████████████████████████████████▉                                                                                     | 11/35 [00:07<00:15,  1.53it/s]"
     ]
    },
    {
     "name": "stderr",
     "output_type": "stream",
     "text": [
      "\r",
      " 34%|██████████████████████████████████████████▌                                                                                 | 12/35 [00:07<00:14,  1.56it/s]"
     ]
    },
    {
     "name": "stderr",
     "output_type": "stream",
     "text": [
      "\r",
      " 37%|██████████████████████████████████████████████                                                                              | 13/35 [00:08<00:14,  1.55it/s]"
     ]
    },
    {
     "name": "stderr",
     "output_type": "stream",
     "text": [
      "\r",
      " 40%|█████████████████████████████████████████████████▌                                                                          | 14/35 [00:09<00:13,  1.54it/s]"
     ]
    },
    {
     "name": "stderr",
     "output_type": "stream",
     "text": [
      "\r",
      " 43%|█████████████████████████████████████████████████████▏                                                                      | 15/35 [00:09<00:13,  1.51it/s]"
     ]
    },
    {
     "name": "stderr",
     "output_type": "stream",
     "text": [
      "\r",
      " 46%|████████████████████████████████████████████████████████▋                                                                   | 16/35 [00:10<00:12,  1.55it/s]"
     ]
    },
    {
     "name": "stderr",
     "output_type": "stream",
     "text": [
      "\r",
      " 49%|████████████████████████████████████████████████████████████▏                                                               | 17/35 [00:11<00:11,  1.55it/s]"
     ]
    },
    {
     "name": "stderr",
     "output_type": "stream",
     "text": [
      "\r",
      " 51%|███████████████████████████████████████████████████████████████▊                                                            | 18/35 [00:11<00:11,  1.49it/s]"
     ]
    },
    {
     "name": "stderr",
     "output_type": "stream",
     "text": [
      "\r",
      " 54%|███████████████████████████████████████████████████████████████████▎                                                        | 19/35 [00:12<00:10,  1.53it/s]"
     ]
    },
    {
     "name": "stderr",
     "output_type": "stream",
     "text": [
      "\r",
      " 57%|██████████████████████████████████████████████████████████████████████▊                                                     | 20/35 [00:12<00:09,  1.58it/s]"
     ]
    },
    {
     "name": "stderr",
     "output_type": "stream",
     "text": [
      "\r",
      " 60%|██████████████████████████████████████████████████████████████████████████▍                                                 | 21/35 [00:13<00:08,  1.58it/s]"
     ]
    },
    {
     "name": "stderr",
     "output_type": "stream",
     "text": [
      "\r",
      " 63%|█████████████████████████████████████████████████████████████████████████████▉                                              | 22/35 [00:14<00:08,  1.60it/s]"
     ]
    },
    {
     "name": "stderr",
     "output_type": "stream",
     "text": [
      "\r",
      " 66%|█████████████████████████████████████████████████████████████████████████████████▍                                          | 23/35 [00:14<00:07,  1.61it/s]"
     ]
    },
    {
     "name": "stderr",
     "output_type": "stream",
     "text": [
      "\r",
      " 69%|█████████████████████████████████████████████████████████████████████████████████████                                       | 24/35 [00:15<00:06,  1.65it/s]"
     ]
    },
    {
     "name": "stderr",
     "output_type": "stream",
     "text": [
      "\r",
      " 71%|████████████████████████████████████████████████████████████████████████████████████████▌                                   | 25/35 [00:15<00:06,  1.64it/s]"
     ]
    },
    {
     "name": "stderr",
     "output_type": "stream",
     "text": [
      "\r",
      " 74%|████████████████████████████████████████████████████████████████████████████████████████████                                | 26/35 [00:16<00:05,  1.62it/s]"
     ]
    },
    {
     "name": "stderr",
     "output_type": "stream",
     "text": [
      "\r",
      " 77%|███████████████████████████████████████████████████████████████████████████████████████████████▋                            | 27/35 [00:17<00:05,  1.58it/s]"
     ]
    },
    {
     "name": "stderr",
     "output_type": "stream",
     "text": [
      "\r",
      " 80%|███████████████████████████████████████████████████████████████████████████████████████████████████▏                        | 28/35 [00:17<00:04,  1.58it/s]"
     ]
    },
    {
     "name": "stderr",
     "output_type": "stream",
     "text": [
      "\r",
      " 83%|██████████████████████████████████████████████████████████████████████████████████████████████████████▋                     | 29/35 [00:18<00:03,  1.67it/s]"
     ]
    },
    {
     "name": "stderr",
     "output_type": "stream",
     "text": [
      "\r",
      " 86%|██████████████████████████████████████████████████████████████████████████████████████████████████████████▎                 | 30/35 [00:19<00:03,  1.60it/s]"
     ]
    },
    {
     "name": "stderr",
     "output_type": "stream",
     "text": [
      "\r",
      " 89%|█████████████████████████████████████████████████████████████████████████████████████████████████████████████▊              | 31/35 [00:19<00:02,  1.61it/s]"
     ]
    },
    {
     "name": "stderr",
     "output_type": "stream",
     "text": [
      "\r",
      " 91%|█████████████████████████████████████████████████████████████████████████████████████████████████████████████████▎          | 32/35 [00:20<00:01,  1.63it/s]"
     ]
    },
    {
     "name": "stderr",
     "output_type": "stream",
     "text": [
      "\r",
      " 94%|████████████████████████████████████████████████████████████████████████████████████████████████████████████████████▉       | 33/35 [00:20<00:01,  1.72it/s]"
     ]
    },
    {
     "name": "stderr",
     "output_type": "stream",
     "text": [
      "\r",
      " 97%|████████████████████████████████████████████████████████████████████████████████████████████████████████████████████████▍   | 34/35 [00:21<00:00,  1.77it/s]"
     ]
    },
    {
     "name": "stderr",
     "output_type": "stream",
     "text": [
      "\r",
      "100%|████████████████████████████████████████████████████████████████████████████████████████████████████████████████████████████| 35/35 [00:21<00:00,  1.76it/s]"
     ]
    },
    {
     "name": "stderr",
     "output_type": "stream",
     "text": [
      "\r",
      "100%|████████████████████████████████████████████████████████████████████████████████████████████████████████████████████████████| 35/35 [00:21<00:00,  1.59it/s]"
     ]
    },
    {
     "name": "stderr",
     "output_type": "stream",
     "text": [
      "\n"
     ]
    }
   ],
   "source": [
    "am_adata_dict = {}\n",
    "am_adata_cor_dict = {}\n",
    "adata_dict = {}\n",
    "gen_adata_dict = {}\n",
    "adata_cor_dict = {}\n",
    "\n",
    "for sample in tqdm(samples):\n",
    "    sample_path = os.path.join(target_path, sample)\n",
    "\n",
    "    project_files = {k: os.path.join(sample_path, v) for k, v in files.items()}\n",
    "\n",
    "    # am_adata_dict[sample] = sc.read(project_files['am_sm_matrix'])\n",
    "    # am_adata_cor_dict[sample] = sc.read(project_files['corr_am_sm_matrix'])\n",
    "    adata_dict[sample] = sc.read(project_files['cell_sm_matrix'])\n",
    "    gen_adata_dict[sample] = sc.read(project_files['gen_cell_sm_matrix'])\n",
    "    adata_cor_dict[sample] = sc.read(project_files['corr_cell_sm_matrix'])\n"
   ]
  },
  {
   "cell_type": "code",
   "execution_count": 6,
   "id": "f8537d92",
   "metadata": {
    "execution": {
     "iopub.execute_input": "2022-11-16T17:41:16.262698Z",
     "iopub.status.busy": "2022-11-16T17:41:16.262368Z",
     "iopub.status.idle": "2022-11-16T17:41:16.269911Z",
     "shell.execute_reply": "2022-11-16T17:41:16.268666Z"
    },
    "papermill": {
     "duration": 0.021153,
     "end_time": "2022-11-16T17:41:16.272559",
     "exception": false,
     "start_time": "2022-11-16T17:41:16.251406",
     "status": "completed"
    },
    "tags": []
   },
   "outputs": [],
   "source": [
    "def split_dataset_info(adata):\n",
    "    split = adata.obs['dataset'].str.split(\"_\", expand=True)\n",
    "    adata.obs[['dataset_' + str(col) for col in split.columns]] = split"
   ]
  },
  {
   "cell_type": "code",
   "execution_count": 7,
   "id": "aa134ef7",
   "metadata": {
    "execution": {
     "iopub.execute_input": "2022-11-16T17:41:16.291321Z",
     "iopub.status.busy": "2022-11-16T17:41:16.290995Z",
     "iopub.status.idle": "2022-11-16T17:41:18.313250Z",
     "shell.execute_reply": "2022-11-16T17:41:18.312441Z"
    },
    "papermill": {
     "duration": 2.034991,
     "end_time": "2022-11-16T17:41:18.316176",
     "exception": false,
     "start_time": "2022-11-16T17:41:16.281185",
     "status": "completed"
    },
    "tags": []
   },
   "outputs": [],
   "source": [
    "import functools\n",
    "def concat_wells(adata_dict):\n",
    "    adata = ad.concat(adata_dict, label='well', index_unique=\"_\", merge=\"first\", join='inner', fill_value=0)\n",
    "    \n",
    "    conca_var_df = pd.concat({k: v.var for k, v in adata_dict.items()}).select_dtypes(include=[float])\n",
    "    if 'correction_quantreg_slope' in conca_var_df.columns:\n",
    "\n",
    "        mean_var_df = conca_var_df.reset_index(names = ['well', 'ion']).groupby('ion').mean(numeric_only = True)\n",
    "        mean_var_df.columns = ['mean_'+col for col in mean_var_df.columns]\n",
    "        \n",
    "        std_var_df = conca_var_df.reset_index(names = ['well', 'ion']).groupby('ion').std(numeric_only = True)\n",
    "        std_var_df.columns = ['sd_'+col for col in std_var_df.columns]\n",
    "        \n",
    "        dfs = [adata.var, \n",
    "            mean_var_df[['mean_correction_full_pixel_avg_intensities', 'mean_correction_quantreg_slope', 'mean_correction_quantreg_intersect']], \n",
    "            std_var_df[['sd_correction_full_pixel_avg_intensities', 'sd_correction_quantreg_slope', 'sd_correction_quantreg_intersect']] ]\n",
    "        \n",
    "        adata.var = functools.reduce(lambda left,right: pd.merge(left, right, how='left', left_index=True, right_index=True), dfs)\n",
    "    \n",
    "    #sc.tl.pca(adata)\n",
    "    #sc.external.pp.bbknn(adata, batch_key='well')\n",
    "    split_dataset_info(adata)\n",
    "    return adata\n",
    "\n",
    "# am_adata = concat_wells(am_adata_dict)\n",
    "# am_adata_cor = concat_wells(am_adata_cor_dict)\n",
    "adata = concat_wells(adata_dict)\n",
    "gen_adata = concat_wells(gen_adata_dict)\n",
    "adata_cor = concat_wells(adata_cor_dict)"
   ]
  },
  {
   "cell_type": "markdown",
   "id": "c69f5830",
   "metadata": {
    "papermill": {
     "duration": 0.008748,
     "end_time": "2022-11-16T17:41:18.334565",
     "exception": false,
     "start_time": "2022-11-16T17:41:18.325817",
     "status": "completed"
    },
    "tags": []
   },
   "source": [
    "The combined data matrix contains cells of the following conditions:"
   ]
  },
  {
   "cell_type": "code",
   "execution_count": 8,
   "id": "b3e64910",
   "metadata": {
    "execution": {
     "iopub.execute_input": "2022-11-16T17:41:18.354877Z",
     "iopub.status.busy": "2022-11-16T17:41:18.354637Z",
     "iopub.status.idle": "2022-11-16T17:41:20.150046Z",
     "shell.execute_reply": "2022-11-16T17:41:20.148549Z"
    },
    "papermill": {
     "duration": 1.810535,
     "end_time": "2022-11-16T17:41:20.153269",
     "exception": false,
     "start_time": "2022-11-16T17:41:18.342734",
     "status": "completed"
    },
    "tags": []
   },
   "outputs": [],
   "source": [
    "adata.write(os.path.join(target_path, \"batch_sm_matrix.h5ad\"))\n",
    "gen_adata.write(os.path.join(target_path, \"gen_batch_sm_matrix.h5ad\"))\n",
    "adata_cor.write(os.path.join(target_path, \"corrected_batch_sm_matrix.h5ad\"))"
   ]
  },
  {
   "cell_type": "markdown",
   "id": "23058855",
   "metadata": {
    "papermill": {
     "duration": 0.01016,
     "end_time": "2022-11-16T17:41:20.174991",
     "exception": false,
     "start_time": "2022-11-16T17:41:20.164831",
     "status": "completed"
    },
    "tags": []
   },
   "source": [
    "Across conditions and wells, the ion suppression correction should not have varying influences on the ion intensities. Using the included positional and size information of the cell-based data matrices, one can observe potential dependencies in the data."
   ]
  },
  {
   "cell_type": "code",
   "execution_count": 9,
   "id": "d8f8fc0a",
   "metadata": {
    "execution": {
     "iopub.execute_input": "2022-11-16T17:41:20.197369Z",
     "iopub.status.busy": "2022-11-16T17:41:20.196820Z",
     "iopub.status.idle": "2022-11-16T17:41:37.897566Z",
     "shell.execute_reply": "2022-11-16T17:41:37.896429Z"
    },
    "papermill": {
     "duration": 17.715628,
     "end_time": "2022-11-16T17:41:37.901075",
     "exception": false,
     "start_time": "2022-11-16T17:41:20.185447",
     "status": "completed"
    },
    "tags": []
   },
   "outputs": [],
   "source": [
    "import warnings\n",
    "warnings.filterwarnings('ignore')\n",
    "\n",
    "def plot_by(adata, ion = 'C24H48NO6P+H', col = \"dataset_3\", x = 'cell_area', color = 'well'):\n",
    "    plot_df = sc.get.obs_df(adata, keys=[col, ion, x, color])\n",
    "    #plot_df = plot_df[plot_df[ion] > 0]\n",
    "    graph = sns.FacetGrid(plot_df, col=col, col_wrap=4)\n",
    "    graph.map(sns.scatterplot, x, ion, hue=plot_df[color]).add_legend().set(yscale='log')\n",
    "                                         \n",
    "plot_by(adata)\n",
    "plot_by(gen_adata)\n",
    "plot_by(adata_cor)"
   ]
  },
  {
   "cell_type": "code",
   "execution_count": 10,
   "id": "0d53fa20",
   "metadata": {
    "execution": {
     "iopub.execute_input": "2022-11-16T17:41:37.923004Z",
     "iopub.status.busy": "2022-11-16T17:41:37.922763Z",
     "iopub.status.idle": "2022-11-16T17:41:49.819599Z",
     "shell.execute_reply": "2022-11-16T17:41:49.818279Z"
    },
    "papermill": {
     "duration": 11.909549,
     "end_time": "2022-11-16T17:41:49.821696",
     "exception": false,
     "start_time": "2022-11-16T17:41:37.912147",
     "status": "completed"
    },
    "tags": []
   },
   "outputs": [],
   "source": [
    "plot_by(adata, x = 'cell_sampling_ratio')\n",
    "plot_by(adata_cor, x = 'cell_sampling_ratio')"
   ]
  }
 ],
 "metadata": {
  "kernelspec": {
   "display_name": "Python 3 (ipykernel)",
   "language": "python",
   "name": "python3"
  },
  "language_info": {
   "codemirror_mode": {
    "name": "ipython",
    "version": 3
   },
   "file_extension": ".py",
   "mimetype": "text/x-python",
   "name": "python",
   "nbconvert_exporter": "python",
   "pygments_lexer": "ipython3",
   "version": "3.10.6"
  },
  "papermill": {
   "default_parameters": {},
   "duration": 63.153892,
   "end_time": "2022-11-16T17:41:51.450366",
   "environment_variables": {},
   "exception": null,
   "input_path": "/home/mklein/FDA_project/pipeline_02_processing.ipynb",
   "output_path": "/home/mklein/FDA_project/analysis/Lx_Glioblastoma/pipeline_02_processing.ipynb",
   "parameters": {
    "condition_name": "condition",
    "source_path": "/g/alexandr/smenon/2022-07-13_Glioblastoma/processed_files",
    "target_path": "/home/mklein/FDA_project/data/Lx_Glioblastoma",
    "well_name": "rowcol"
   },
   "start_time": "2022-11-16T17:40:48.296474",
   "version": "2.3.4"
  },
  "vscode": {
   "interpreter": {
    "hash": "89b4449ee30f46b148fb6825d70934bcbb1ebdb6d5b2015fe3835362773c7289"
   }
  }
 },
 "nbformat": 4,
 "nbformat_minor": 5
}