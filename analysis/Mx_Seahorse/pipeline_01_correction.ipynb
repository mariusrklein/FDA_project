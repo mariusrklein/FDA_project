{
 "cells": [
  {
   "cell_type": "markdown",
   "id": "41b377a3",
   "metadata": {
    "papermill": {
     "duration": 0.007419,
     "end_time": "2022-12-01T11:16:38.041406",
     "exception": false,
     "start_time": "2022-12-01T11:16:38.033987",
     "status": "completed"
    },
    "tags": []
   },
   "source": [
    "# Mx_Seahorse: Correction\n",
    "\n",
    "SpaceM datasets are usually stored as annotated data-matrices, separately for individual wells. With this notebooks, these individual files are corrected for ion suppression on the pixel-level and then deconvoluted to cell-level. All resulting files are saved separately by well to the target_path and the impact of the correction briefly shown for visual inspection."
   ]
  },
  {
   "cell_type": "code",
   "execution_count": null,
   "id": "5116d622",
   "metadata": {
    "papermill": {
     "duration": 4.163486,
     "end_time": "2022-12-01T11:16:42.212025",
     "exception": false,
     "start_time": "2022-12-01T11:16:38.048539",
     "status": "completed"
    },
    "tags": []
   },
   "outputs": [],
   "source": [
    "import os\n",
    "import platform\n",
    "import scanpy as sc\n",
    "import pandas as pd\n",
    "import numpy as np\n",
    "import anndata as ad\n",
    "import statistics as st\n",
    "import multiprocessing\n",
    "from joblib import Parallel, delayed\n",
    "from tqdm import tqdm\n",
    "import statsmodels.formula.api as smf\n",
    "import seaborn as sns\n",
    "import re\n",
    "from importlib import reload\n",
    "import json\n",
    "import sys\n",
    "sys.path.append('/home/mklein/spacem')\n",
    "sys.path.append('/home/mklein/FDA_project')\n",
    "\n",
    "from src.correction import (add_normalization_factors, \n",
    "                            correct_quantile_inplace,\n",
    "                            deconvolution_spacem,\n",
    "                            get_overlap_data,\n",
    "                            add_overlap_matrix_spacem\n",
    "                           )\n",
    "from src import const \n",
    "from SpaceM.lib.modules import (\n",
    "    overlap_analysis,\n",
    "    single_cell_analysis_normalization\n",
    ")\n",
    "\n",
    "%matplotlib inline"
   ]
  },
  {
   "cell_type": "markdown",
   "id": "bdb54d29",
   "metadata": {
    "papermill": {
     "duration": 0.006257,
     "end_time": "2022-12-01T11:16:42.225865",
     "exception": false,
     "start_time": "2022-12-01T11:16:42.219608",
     "status": "completed"
    },
    "tags": []
   },
   "source": [
    "The original data lies on the groups shared data storage. Corrected files will be saved in a separate location, preserving the well-specific folder structure."
   ]
  },
  {
   "cell_type": "code",
   "execution_count": null,
   "id": "bdb2cdfe",
   "metadata": {
    "papermill": {
     "duration": 0.015026,
     "end_time": "2022-12-01T11:16:42.247011",
     "exception": false,
     "start_time": "2022-12-01T11:16:42.231985",
     "status": "completed"
    },
    "tags": [
     "parameters"
    ]
   },
   "outputs": [],
   "source": [
    "if platform.system() == \"Darwin\":\n",
    "    source_path = '/Volumes/alexandr/smenon/2022-07-13_Glioblastoma/processed_files'\n",
    "    target_path = '/Volumes/mklein/FDA_project/data/Lx_Glioblastoma'\n",
    "else:\n",
    "    source_path = '/g/alexandr/smenon/2022-07-13_Glioblastoma/processed_files'\n",
    "    target_path = '/home/mklein/FDA_project/data/Lx_Glioblastoma'\n",
    "    \n",
    "# TODO: implement topX reference ion pool.\n",
    "reference_pool = {'top': 10}\n",
    "deconv_default_min_overlap = 0.0"
   ]
  },
  {
   "cell_type": "code",
   "execution_count": null,
   "id": "5cd0e384",
   "metadata": {
    "papermill": {
     "duration": 0.013672,
     "end_time": "2022-12-01T11:16:42.266876",
     "exception": false,
     "start_time": "2022-12-01T11:16:42.253204",
     "status": "completed"
    },
    "tags": [
     "injected-parameters"
    ]
   },
   "outputs": [],
   "source": [
    "# Parameters\n",
    "source_path = \"/home/mklein/Raw Data/220412_Luisa_ScSeahorse_SpaceM\"\n",
    "target_path = \"/home/mklein/FDA_project/data/Mx_Seahorse\"\n",
    "condition_name = \"treatment\"\n",
    "well_name = \"rowcol\"\n",
    "analysis_path = \"/home/mklein/FDA_project/analysis/Mx_Seahorse\"\n",
    "notebooks = [\n",
    "    \"pipeline_01_correction.ipynb\",\n",
    "    \"pipeline_02_processing.ipynb\",\n",
    "    \"pipeline_03_evaluation.ipynb\",\n",
    "]\n",
    "project = \"Mx_Seahorse\"\n"
   ]
  },
  {
   "cell_type": "code",
   "execution_count": null,
   "id": "cb2a145c",
   "metadata": {
    "papermill": {
     "duration": 0.196785,
     "end_time": "2022-12-01T11:16:42.469912",
     "exception": false,
     "start_time": "2022-12-01T11:16:42.273127",
     "status": "completed"
    },
    "tags": []
   },
   "outputs": [],
   "source": [
    "samples = []\n",
    "for dirpath, dirnames, filenames in os.walk(source_path):\n",
    "        if 'analysis' in dirnames:\n",
    "            samples.append(re.sub(source_path+'/?', '', dirpath))\n",
    "samples"
   ]
  },
  {
   "cell_type": "code",
   "execution_count": null,
   "id": "9560c901",
   "metadata": {
    "papermill": {
     "duration": 0.01461,
     "end_time": "2022-12-01T11:16:42.492236",
     "exception": false,
     "start_time": "2022-12-01T11:16:42.477626",
     "status": "completed"
    },
    "tags": []
   },
   "outputs": [],
   "source": [
    "files = {\n",
    "        'config': '../config.json',\n",
    "        'sm_matrix': 'ablation_mark_analysis/spatiomolecular_adata.h5ad',\n",
    "        'overlap_regions': 'overlap_analysis2/overlap.regions.csv',\n",
    "        'mark_regions': 'overlap_analysis2/ablation_mark.regions.csv',\n",
    "        'cell_regions': 'overlap_analysis2/cell.regions.csv',\n",
    "        'cell_sm_matrix': 'single_cell_analysis/spatiomolecular_adata.h5ad',\n",
    "    }"
   ]
  },
  {
   "cell_type": "code",
   "execution_count": null,
   "id": "d8ebf5bc",
   "metadata": {
    "papermill": {
     "duration": 0.015722,
     "end_time": "2022-12-01T11:16:42.514949",
     "exception": false,
     "start_time": "2022-12-01T11:16:42.499227",
     "status": "completed"
    },
    "tags": []
   },
   "outputs": [],
   "source": [
    "def assign_average_tpo(am_adata, overlap_data, min_overlap, method=np.mean):\n",
    "    if min_overlap is None:\n",
    "        min_overlap = 0\n",
    "    \n",
    "    overlap = overlap_data.overlap_regions\n",
    "    overlap['am_id'] = overlap['am_id'].astype(str)\n",
    "    overlap['cell_id'] = overlap['cell_id'].astype(str)\n",
    "    merged_df = pd.merge(overlap[['am_id', 'cell_id']], am_adata.obs[const.TPO], left_on='am_id', right_index=True)\n",
    "    merged_df = merged_df[merged_df[const.TPO] >= min_overlap]\n",
    "    \n",
    "    mean_df = merged_df[['cell_id', 'correction_total_pixel_overlap']].groupby('cell_id', group_keys=False).agg(method)\n",
    "#     mean_df = merged_df[['cell_id', 'correction_total_pixel_overlap']].groupby('cell_id', group_keys=False).agg(lambda x: method(x))\n",
    "    return mean_df[const.TPO]"
   ]
  },
  {
   "cell_type": "code",
   "execution_count": null,
   "id": "4e8bd986",
   "metadata": {
    "papermill": {
     "duration": 0.031175,
     "end_time": "2022-12-01T11:16:42.553115",
     "exception": false,
     "start_time": "2022-12-01T11:16:42.521940",
     "status": "completed"
    },
    "tags": []
   },
   "outputs": [],
   "source": [
    "def correct_sample_spacem(sample):\n",
    "    \n",
    "    sample_path = os.path.join(source_path, sample, \"analysis\")\n",
    "    sample = re.sub('/', '_', sample)\n",
    "    \n",
    "    if not os.path.exists(os.path.join(target_path, sample)):\n",
    "        os.makedirs(os.path.join(target_path, sample))\n",
    "\n",
    "    # get appropriate file paths for the processed well\n",
    "    project_files = {k: os.path.join(sample_path, v) for k, v in files.items()}\n",
    "\n",
    "    if os.path.exists(project_files['config']):\n",
    "        with open(project_files['config']) as json_file:\n",
    "            data = json.load(json_file)\n",
    "        deconv_info = data['single_cell_analysis']\n",
    "        if deconv_info['ablation_marks_min_overlap_ratio'] is None:\n",
    "            deconv_info['ablation_marks_min_overlap_ratio'] = deconv_default_min_overlap\n",
    "    else:\n",
    "        deconv_info = None\n",
    "        print('No well config file found. Using default deconvolution parameters.')\n",
    "    # load required files\n",
    "    cell_regions = pd.read_csv(project_files['cell_regions'])\n",
    "    mark_regions = pd.read_csv(project_files['mark_regions'])\n",
    "    overlap_regions = pd.read_csv(project_files['overlap_regions'])\n",
    "    \n",
    "    sm_matrix = sc.read(os.path.join(sample_path, files['sm_matrix']))\n",
    "    cell_sm_matrix = sc.read(os.path.join(sample_path, files['cell_sm_matrix']))\n",
    "       \n",
    "    add_overlap_matrix_spacem(sm_matrix, cell_regions, mark_regions, overlap_regions)\n",
    "    \n",
    "    add_normalization_factors(adata=sm_matrix, method=st.median)\n",
    "\n",
    "    # perform the actual quantile regression\n",
    "    corr_sm_matrix = correct_quantile_inplace(adata=sm_matrix, \n",
    "        reference_ions=sm_matrix.var_names, \n",
    "        correct_intersect = True,\n",
    "        n_jobs=5)\n",
    "    \n",
    "    # perform pixel-cell-deconvolution\n",
    "    overlap_data = get_overlap_data(cell_regions, mark_regions, overlap_regions)\n",
    "    corr_cell_sm_matrix = deconvolution_spacem(adata=corr_sm_matrix, \n",
    "        overlap_data=overlap_data,\n",
    "        raw_adata=cell_sm_matrix,\n",
    "        deconvolution_params=deconv_info)\n",
    "    gen_cell_sm_matrix = deconvolution_spacem(adata=sm_matrix,\n",
    "        overlap_data=overlap_data,\n",
    "        raw_adata=cell_sm_matrix,\n",
    "        deconvolution_params=deconv_info)\n",
    "    \n",
    "    # hand over TPOs to spatiomolecular matrix for downstream analysis\n",
    "    min_overlap = deconv_info['ablation_marks_min_overlap_ratio']\n",
    "    corr_cell_sm_matrix.obs['list_TPO'] = assign_average_tpo(sm_matrix, overlap_data, min_overlap, method=lambda x: \";\".join(x.astype(str)))\n",
    "    gen_cell_sm_matrix.obs['list_TPO'] = assign_average_tpo(sm_matrix, overlap_data, min_overlap, method=lambda x: \";\".join(x.astype(str)))\n",
    "    \n",
    "    # write the generated files to the dedicated project location.\n",
    "    # corr_sm_matrix.write(os.path.join(target_path, sample, 'am_spatiomolecular_adata_corrected.h5ad'))\n",
    "    # sm_matrix.write(os.path.join(target_path, sample, 'am_spatiomolecular_adata.h5ad'))\n",
    "    corr_cell_sm_matrix.write(os.path.join(target_path, sample, 'cells_spatiomolecular_adata_corrected.h5ad'))\n",
    "    cell_sm_matrix.write(os.path.join(target_path, sample, 'cells_spatiomolecular_adata_spacem.h5ad'))\n",
    "    gen_cell_sm_matrix.write(os.path.join(target_path, sample, 'cells_spatiomolecular_adata.h5ad'))\n",
    "    \n",
    "    return (sample, cell_sm_matrix, corr_cell_sm_matrix, sm_matrix, corr_sm_matrix, deconv_info)"
   ]
  },
  {
   "cell_type": "markdown",
   "id": "46c4b970",
   "metadata": {
    "papermill": {
     "duration": 0.006122,
     "end_time": "2022-12-01T11:16:42.565289",
     "exception": false,
     "start_time": "2022-12-01T11:16:42.559167",
     "status": "completed"
    },
    "tags": []
   },
   "source": [
    "This is the actual correction pipeline."
   ]
  },
  {
   "cell_type": "code",
   "execution_count": null,
   "id": "7150fbf0",
   "metadata": {
    "papermill": {
     "duration": 168.678977,
     "end_time": "2022-12-01T11:19:31.249962",
     "exception": false,
     "start_time": "2022-12-01T11:16:42.570985",
     "status": "completed"
    },
    "tags": []
   },
   "outputs": [],
   "source": [
    "adata_list = Parallel(n_jobs=7)(delayed(correct_sample_spacem)(sample) for sample in tqdm(samples))\n",
    "# adata_list = [correct_sample_spacem(sample) for sample in tqdm(['I4'])]"
   ]
  },
  {
   "cell_type": "code",
   "execution_count": null,
   "id": "dc4be0bb",
   "metadata": {
    "papermill": {
     "duration": 5.898859,
     "end_time": "2022-12-01T11:19:37.161072",
     "exception": false,
     "start_time": "2022-12-01T11:19:31.262213",
     "status": "completed"
    },
    "tags": []
   },
   "outputs": [],
   "source": [
    "# reshape data for immediate analysis\n",
    "am_adata_dict = {item[0]: item[3] for item in adata_list}\n",
    "am_adata_cor_dict = {item[0]: item[4] for item in adata_list}\n",
    "adata_dict = {item[0]: item[1] for item in adata_list}\n",
    "adata_cor_dict = {item[0]: item[2] for item in adata_list}\n",
    "\n",
    "am_adata = ad.concat(am_adata_dict, label='well', index_unique=\"_\", merge=\"first\")\n",
    "am_adata_cor = ad.concat(am_adata_cor_dict, label='well', index_unique=\"_\", merge='first')\n",
    "adata = ad.concat(adata_dict, label='well', index_unique=\"_\", merge=\"first\")\n",
    "adata_cor = ad.concat(adata_cor_dict, label='well', index_unique=\"_\", merge=\"first\")\n",
    "\n",
    "deconv_dict = {item[0]: item[5] for item in adata_list}\n",
    "deconv_table = pd.DataFrame(deconv_dict).T\n",
    "deconv_table"
   ]
  },
  {
   "cell_type": "markdown",
   "id": "40ba38c8",
   "metadata": {
    "papermill": {
     "duration": 0.010594,
     "end_time": "2022-12-01T11:19:37.183905",
     "exception": false,
     "start_time": "2022-12-01T11:19:37.173311",
     "status": "completed"
    },
    "tags": []
   },
   "source": [
    "Every analysed pixel is characterized by its total overlap with cellular regions. The raw data shows no clear association between this overlap and acquired ion intensities. However, after the ion suppression correction, pixels with smaller overlap clearly have lower corresponding intensities (only shown for one metabolite). "
   ]
  },
  {
   "cell_type": "code",
   "execution_count": null,
   "id": "a8bc9f87",
   "metadata": {
    "papermill": {
     "duration": 0.024926,
     "end_time": "2022-12-01T11:19:37.218904",
     "exception": false,
     "start_time": "2022-12-01T11:19:37.193978",
     "status": "completed"
    },
    "tags": []
   },
   "outputs": [],
   "source": [
    "import warnings\n",
    "warnings.filterwarnings('ignore')\n",
    "from src.correction import normalize_proportion_ratios\n",
    "       \n",
    "\n",
    "def plot_all_wells(adata, ions=None, row='well', x=const.TPO, ratio=True):\n",
    "    \n",
    "    top_wells = list(set(adata.obs[row]))[:5]\n",
    "    adata = adata[adata.obs[row].isin(top_wells)]\n",
    "    \n",
    "    if ions is None and not ratio:\n",
    "        ions = list(adata.var_names[:5])\n",
    "    elif ions is None and ratio:\n",
    "        ions = list(normalize_proportion_ratios(intensities_ad=adata).to_df().sum().sort_values().tail().index)\n",
    "        \n",
    "    yscale = 'intensity'\n",
    "    if ratio:\n",
    "        adata = normalize_proportion_ratios(intensities_ad=adata)\n",
    "        yscale = 'intensity_proportion_ratio'\n",
    "\n",
    "    plot_df = sc.get.obs_df(adata, keys=[row, x] + ions).melt(id_vars=[row, x], var_name='ion', value_name=yscale)\n",
    "    plot_df= plot_df[plot_df[yscale] > 0]\n",
    "    \n",
    "    if ratio:\n",
    "        plot_df[yscale] = np.log10(plot_df[yscale])\n",
    "        plot_df[x] = np.log10(plot_df[x])\n",
    "       \n",
    "    graph = sns.FacetGrid(plot_df, row=row, col='ion', sharey=False, margin_titles=True)\n",
    "    graph.map(sns.histplot, x, yscale, bins=50, stat='proportion').add_legend()\n",
    "        \n",
    "    params = []\n",
    "\n",
    "    for well in list(set(plot_df[row])):\n",
    "        for i in ions:\n",
    "            q_df = plot_df[(plot_df['ion'] == i) & (plot_df[row] == well)]\n",
    "            if len(q_df) == 0:\n",
    "                params[i] = {'Intercept': np.nan, x: np.nan}\n",
    "                continue\n",
    "            model = smf.quantreg(yscale+' ~ '+x, q_df)\n",
    "            qrmodel = model.fit(q=0.5)\n",
    "            params.append({'ion': i, row: well, 'Intercept': qrmodel.params[0], x: qrmodel.params[1]})\n",
    "    \n",
    "        \n",
    "    return pd.DataFrame(params).sort_values(['ion', row]).set_index(['ion', row])\n",
    "    \n",
    "def compare_pre_post_correction(adata, adata_cor, ions=None, ratio=True):\n",
    "    if ions is None and not ratio:\n",
    "        ions = list(adata.var_names[:5])\n",
    "    elif ions is None and ratio:\n",
    "        ions = list(normalize_proportion_ratios(intensities_ad=adata).to_df().sum().sort_values().tail().index)\n",
    "        \n",
    "    df1 = plot_all_wells(adata, ions=ions, ratio=ratio)\n",
    "    df2 = plot_all_wells(adata_cor, ions=ions, ratio=ratio)\n",
    "    return pd.merge(df1, df2, right_index=True, left_index=True, suffixes=('_uncorrected', '_ISM_correction'))"
   ]
  },
  {
   "cell_type": "code",
   "execution_count": null,
   "id": "b4db43d3",
   "metadata": {
    "papermill": {
     "duration": 0.035926,
     "end_time": "2022-12-01T11:19:37.263706",
     "exception": false,
     "start_time": "2022-12-01T11:19:37.227780",
     "status": "completed"
    },
    "tags": []
   },
   "outputs": [],
   "source": [
    "am_adata.obs[const.TPO] = am_adata_cor.obs[const.TPO]"
   ]
  },
  {
   "cell_type": "code",
   "execution_count": null,
   "id": "d8d86109",
   "metadata": {
    "papermill": {
     "duration": 26.636545,
     "end_time": "2022-12-01T11:20:03.908507",
     "exception": false,
     "start_time": "2022-12-01T11:19:37.271962",
     "status": "completed"
    },
    "tags": []
   },
   "outputs": [],
   "source": [
    "compare_pre_post_correction(am_adata, am_adata_cor)"
   ]
  }
 ],
 "metadata": {
  "kernelspec": {
   "display_name": "Python 3 (ipykernel)",
   "language": "python",
   "name": "python3"
  },
  "language_info": {
   "codemirror_mode": {
    "name": "ipython",
    "version": 3
   },
   "file_extension": ".py",
   "mimetype": "text/x-python",
   "name": "python",
   "nbconvert_exporter": "python",
   "pygments_lexer": "ipython3",
   "version": "3.10.6"
  },
  "papermill": {
   "default_parameters": {},
   "duration": 211.138401,
   "end_time": "2022-12-01T11:20:07.269730",
   "environment_variables": {},
   "exception": null,
   "input_path": "/home/mklein/FDA_project/pipeline_01_correction.ipynb",
   "output_path": "/home/mklein/FDA_project/analysis/Mx_Seahorse/pipeline_01_correction.ipynb",
   "parameters": {
    "analysis_path": "/home/mklein/FDA_project/analysis/Mx_Seahorse",
    "condition_name": "treatment",
    "notebooks": [
     "pipeline_01_correction.ipynb",
     "pipeline_02_processing.ipynb",
     "pipeline_03_evaluation.ipynb"
    ],
    "project": "Mx_Seahorse",
    "source_path": "/home/mklein/Raw Data/220412_Luisa_ScSeahorse_SpaceM",
    "target_path": "/home/mklein/FDA_project/data/Mx_Seahorse",
    "well_name": "rowcol"
   },
   "start_time": "2022-12-01T11:16:36.131329",
   "version": "2.3.4"
  },
  "vscode": {
   "interpreter": {
    "hash": "89b4449ee30f46b148fb6825d70934bcbb1ebdb6d5b2015fe3835362773c7289"
   }
  }
 },
 "nbformat": 4,
 "nbformat_minor": 5
}
