{
 "cells": [
  {
   "cell_type": "markdown",
   "id": "3dab55c6",
   "metadata": {
    "papermill": {
     "duration": 0.012889,
     "end_time": "2022-12-01T11:20:38.792095",
     "exception": false,
     "start_time": "2022-12-01T11:20:38.779206",
     "status": "completed"
    },
    "tags": []
   },
   "source": [
    "# Evaluation of ion suppression correction\n",
    "\n",
    "In this notebook, different measures are investigated to quantify the effect of correcting SpaceM ion intensity data for partial pixel-cell overlap.\n",
    "Moreover, The effects of the correction on different metabolites is visualized.\n",
    " "
   ]
  },
  {
   "cell_type": "code",
   "execution_count": null,
   "id": "b5221548",
   "metadata": {
    "execution": {
     "iopub.execute_input": "2022-12-01T11:20:38.815991Z",
     "iopub.status.busy": "2022-12-01T11:20:38.815538Z",
     "iopub.status.idle": "2022-12-01T11:20:42.248799Z",
     "shell.execute_reply": "2022-12-01T11:20:42.247506Z"
    },
    "papermill": {
     "duration": 3.448792,
     "end_time": "2022-12-01T11:20:42.252382",
     "exception": false,
     "start_time": "2022-12-01T11:20:38.803590",
     "status": "completed"
    },
    "tags": []
   },
   "outputs": [],
   "source": [
    "import platform\n",
    "import os\n",
    "import multiprocessing\n",
    "import numpy as np\n",
    "import pandas as pd\n",
    "import anndata as ad\n",
    "import scanpy as sc\n",
    "import seaborn as sns\n",
    "from sklearn.cluster import KMeans\n",
    "import re\n",
    "import outer_spacem as osm\n",
    "import sys\n",
    "sys.path.append('/home/mklein/spacem')\n",
    "sys.path.append('/Volumes/mklein/spacem')\n",
    "sys.path.append('/home/mklein/FDA_project')\n",
    "from src.correction import *\n",
    "from src.evaluation import intermixing, MetaboliteAnalysis\n",
    "\n",
    "%matplotlib inline\n",
    "%config InlineBackend.figure_formats = ['retina']"
   ]
  },
  {
   "cell_type": "code",
   "execution_count": null,
   "id": "9d03c6b9",
   "metadata": {
    "execution": {
     "iopub.execute_input": "2022-12-01T11:20:42.278682Z",
     "iopub.status.busy": "2022-12-01T11:20:42.278185Z",
     "iopub.status.idle": "2022-12-01T11:20:42.283754Z",
     "shell.execute_reply": "2022-12-01T11:20:42.282853Z"
    },
    "papermill": {
     "duration": 0.02108,
     "end_time": "2022-12-01T11:20:42.286518",
     "exception": false,
     "start_time": "2022-12-01T11:20:42.265438",
     "status": "completed"
    },
    "tags": [
     "parameters"
    ]
   },
   "outputs": [],
   "source": [
    "if platform.system() == \"Darwin\":\n",
    "    target_path = '/Volumes/mklein/FDA_project/data/Lx_Glioblastoma'\n",
    "    if True:\n",
    "        target_path = '/Users/mariusklein/Local_Project_Files/FDA_project/data/Lx_Glioblastoma'\n",
    "\n",
    "else:\n",
    "    target_path = '/home/mklein/FDA_project/data/Lx_Glioblastoma'\n",
    "\n",
    "condition_name = 'condition'\n",
    "well_name = 'rowcol'\n",
    "project = 'Lx_Glioblastoma'\n",
    "analysis_path = target_path"
   ]
  },
  {
   "cell_type": "code",
   "execution_count": null,
   "id": "c6afb38d",
   "metadata": {
    "execution": {
     "iopub.execute_input": "2022-12-01T11:20:42.309916Z",
     "iopub.status.busy": "2022-12-01T11:20:42.309463Z",
     "iopub.status.idle": "2022-12-01T11:20:42.315875Z",
     "shell.execute_reply": "2022-12-01T11:20:42.314755Z"
    },
    "papermill": {
     "duration": 0.020864,
     "end_time": "2022-12-01T11:20:42.318583",
     "exception": false,
     "start_time": "2022-12-01T11:20:42.297719",
     "status": "completed"
    },
    "tags": [
     "injected-parameters"
    ]
   },
   "outputs": [],
   "source": [
    "# Parameters\n",
    "source_path = \"/home/mklein/Raw Data/220412_Luisa_ScSeahorse_SpaceM\"\n",
    "target_path = \"/home/mklein/FDA_project/data/Mx_Seahorse\"\n",
    "condition_name = \"treatment\"\n",
    "well_name = \"rowcol\"\n",
    "analysis_path = \"/home/mklein/FDA_project/analysis/Mx_Seahorse\"\n",
    "notebooks = [\n",
    "    \"pipeline_01_correction.ipynb\",\n",
    "    \"pipeline_02_processing.ipynb\",\n",
    "    \"pipeline_03_evaluation.ipynb\",\n",
    "]\n",
    "project = \"Mx_Seahorse\"\n"
   ]
  },
  {
   "cell_type": "markdown",
   "id": "774e39e3",
   "metadata": {
    "papermill": {
     "duration": 0.009692,
     "end_time": "2022-12-01T11:20:42.338380",
     "exception": false,
     "start_time": "2022-12-01T11:20:42.328688",
     "status": "completed"
    },
    "tags": []
   },
   "source": [
    "Loading the uncorrected and ISM-corrected dataset from file. Additionally, loading the metadata CSV file to filter out excluded wells."
   ]
  },
  {
   "cell_type": "code",
   "execution_count": null,
   "id": "f0ab61c7",
   "metadata": {
    "execution": {
     "iopub.execute_input": "2022-12-01T11:20:42.359149Z",
     "iopub.status.busy": "2022-12-01T11:20:42.358691Z",
     "iopub.status.idle": "2022-12-01T11:20:43.107736Z",
     "shell.execute_reply": "2022-12-01T11:20:43.106350Z"
    },
    "papermill": {
     "duration": 0.763042,
     "end_time": "2022-12-01T11:20:43.111316",
     "exception": false,
     "start_time": "2022-12-01T11:20:42.348274",
     "status": "completed"
    },
    "tags": []
   },
   "outputs": [],
   "source": [
    "adata = ad.read(os.path.join(target_path, \"gen_batch_sm_matrix.h5ad\"))\n",
    "adata_cor = ad.read(os.path.join(target_path, \"corrected_batch_sm_matrix.h5ad\"))"
   ]
  },
  {
   "cell_type": "code",
   "execution_count": null,
   "id": "0b3c92ea",
   "metadata": {
    "execution": {
     "iopub.execute_input": "2022-12-01T11:20:43.138839Z",
     "iopub.status.busy": "2022-12-01T11:20:43.138242Z",
     "iopub.status.idle": "2022-12-01T11:20:43.818595Z",
     "shell.execute_reply": "2022-12-01T11:20:43.817637Z"
    },
    "papermill": {
     "duration": 0.697098,
     "end_time": "2022-12-01T11:20:43.821629",
     "exception": false,
     "start_time": "2022-12-01T11:20:43.124531",
     "status": "completed"
    },
    "tags": []
   },
   "outputs": [],
   "source": [
    "metadata_path = os.path.join(target_path, 'metadata.csv')\n",
    "samples = list(set(adata.obs['well']))\n",
    "\n",
    "if os.path.exists(metadata_path):\n",
    "    metadata = pd.read_csv(metadata_path)\n",
    "    if well_name not in metadata.columns:\n",
    "        metadata[well_name] = metadata['row'].astype(str) + metadata['col'].astype(str)\n",
    "    samples = list(metadata[well_name])\n",
    "\n",
    "def assign_conditions(adata):\n",
    "    index = adata.obs.index.name\n",
    "    new_obs = adata.obs.reset_index()\n",
    "    \n",
    "    new_obs = pd.merge(new_obs, metadata[[well_name, condition_name]], \n",
    "                       how='inner', left_on='well', right_on=well_name).set_index(index)\n",
    "    \n",
    "    adata = adata[new_obs.index, :].copy()\n",
    "    adata.obs = new_obs\n",
    "    if 'keep_conditions' in globals():\n",
    "        adata = adata[adata.obs[condition_name].isin(keep_conditions), :].copy()\n",
    "    return adata\n",
    "\n",
    "adata = assign_conditions(adata)\n",
    "adata_cor = assign_conditions(adata_cor)\n",
    "\n",
    "adata.obs[condition_name].value_counts()"
   ]
  },
  {
   "cell_type": "markdown",
   "id": "e79bc9e2",
   "metadata": {
    "papermill": {
     "duration": 0.011525,
     "end_time": "2022-12-01T11:20:43.847333",
     "exception": false,
     "start_time": "2022-12-01T11:20:43.835808",
     "status": "completed"
    },
    "tags": []
   },
   "source": [
    "The loaded datasets are preprocessed in the same way:\n",
    "\n",
    "- cells need non-zero intensities for at least 10 ions.\n",
    "- ions need non-zero intensities for at least 200 cells.\n",
    "- intensties are normalized to TIC and log-transformed (log(x+1))\n",
    "\n",
    "After that, both datasets are subset to contain the same ions and cells (intersection)."
   ]
  },
  {
   "cell_type": "code",
   "execution_count": null,
   "id": "331d83ef",
   "metadata": {
    "execution": {
     "iopub.execute_input": "2022-12-01T11:20:43.870614Z",
     "iopub.status.busy": "2022-12-01T11:20:43.870154Z",
     "iopub.status.idle": "2022-12-01T11:20:45.613822Z",
     "shell.execute_reply": "2022-12-01T11:20:45.612172Z"
    },
    "papermill": {
     "duration": 1.758661,
     "end_time": "2022-12-01T11:20:45.617051",
     "exception": false,
     "start_time": "2022-12-01T11:20:43.858390",
     "status": "completed"
    },
    "tags": []
   },
   "outputs": [],
   "source": [
    "def preprocess(adata):\n",
    "    \n",
    "    sc.pp.filter_cells(adata, min_genes=10)\n",
    "    sc.pp.filter_genes(adata, min_cells=200)\n",
    "    adata.raw = adata\n",
    "    # sc.pp.scale(adata)\n",
    "    sc.pp.normalize_total(adata, target_sum=None)\n",
    "    # sc.pp.log1p(adata)\n",
    "    \n",
    "    adata.var['median_intensity'] = np.median(adata.X, axis=0)\n",
    "    adata.var['mean_intensity'] = np.mean(adata.X, axis=0)\n",
    "    # adata_x = adata.X.copy()\n",
    "    # adata_x[adata_x == 0] = np.nan\n",
    "    # adata.var['median_intensity_nonzero'] = np.nanmedian(adata_x, axis=0)\n",
    "    \n",
    "    \n",
    "    \n",
    "preprocess(adata)\n",
    "preprocess(adata_cor)\n",
    "\n",
    "print(adata.shape)\n",
    "print(adata_cor.shape)\n"
   ]
  },
  {
   "cell_type": "code",
   "execution_count": null,
   "id": "57170cc2",
   "metadata": {
    "execution": {
     "iopub.execute_input": "2022-12-01T11:20:45.646990Z",
     "iopub.status.busy": "2022-12-01T11:20:45.645699Z",
     "iopub.status.idle": "2022-12-01T11:20:46.208373Z",
     "shell.execute_reply": "2022-12-01T11:20:46.206871Z"
    },
    "papermill": {
     "duration": 0.58095,
     "end_time": "2022-12-01T11:20:46.211709",
     "exception": false,
     "start_time": "2022-12-01T11:20:45.630759",
     "status": "completed"
    },
    "tags": []
   },
   "outputs": [],
   "source": [
    "included_molecules = adata.var_names.intersection(adata_cor.var_names)\n",
    "included_cells = adata.obs_names.intersection(adata_cor.obs_names)\n",
    "\n",
    "def subset_molecules(adata):\n",
    "    \n",
    "    return adata[included_cells, included_molecules].copy()\n",
    "\n",
    "adata = subset_molecules(adata)\n",
    "adata_cor = subset_molecules(adata_cor)\n",
    "\n",
    "print(adata.shape)\n",
    "print(adata_cor.shape)"
   ]
  },
  {
   "cell_type": "markdown",
   "id": "331d66f2",
   "metadata": {
    "papermill": {
     "duration": 0.013059,
     "end_time": "2022-12-01T11:20:46.238569",
     "exception": false,
     "start_time": "2022-12-01T11:20:46.225510",
     "status": "completed"
    },
    "tags": []
   },
   "source": [
    "Before analysis, asserting that the two data files were deconvoluted in the same way. Specifically, the corrected dataframe cannot have non-zero values at positions where the uncorrected dataframe has zero values."
   ]
  },
  {
   "cell_type": "code",
   "execution_count": null,
   "id": "fa006a4c",
   "metadata": {
    "execution": {
     "iopub.execute_input": "2022-12-01T11:20:46.264849Z",
     "iopub.status.busy": "2022-12-01T11:20:46.264348Z",
     "iopub.status.idle": "2022-12-01T11:20:46.946536Z",
     "shell.execute_reply": "2022-12-01T11:20:46.945264Z"
    },
    "papermill": {
     "duration": 0.698216,
     "end_time": "2022-12-01T11:20:46.949903",
     "exception": false,
     "start_time": "2022-12-01T11:20:46.251687",
     "status": "completed"
    },
    "tags": []
   },
   "outputs": [],
   "source": [
    "assert not any(pd.Series(np.array((adata.to_df() == 0) & (adata_cor.to_df()!= 0)).flatten()))"
   ]
  },
  {
   "cell_type": "code",
   "execution_count": null,
   "id": "60bcaeb3",
   "metadata": {
    "execution": {
     "iopub.execute_input": "2022-12-01T11:20:47.061011Z",
     "iopub.status.busy": "2022-12-01T11:20:47.060494Z",
     "iopub.status.idle": "2022-12-01T11:20:47.068942Z",
     "shell.execute_reply": "2022-12-01T11:20:47.067731Z"
    },
    "papermill": {
     "duration": 0.108286,
     "end_time": "2022-12-01T11:20:47.071069",
     "exception": false,
     "start_time": "2022-12-01T11:20:46.962783",
     "status": "completed"
    },
    "tags": []
   },
   "outputs": [],
   "source": [
    "adata.obs['correction'] = 'uncorrected'\n",
    "adata_cor.obs['correction'] = 'ISM correction'"
   ]
  },
  {
   "cell_type": "markdown",
   "id": "f046d047",
   "metadata": {
    "papermill": {
     "duration": 0.007507,
     "end_time": "2022-12-01T11:20:47.086343",
     "exception": false,
     "start_time": "2022-12-01T11:20:47.078836",
     "status": "completed"
    },
    "tags": []
   },
   "source": [
    "## Effects of the correction on different molecules\n",
    "\n",
    "The ISM correction is performed per ion on the logarithmized intensity / sampling proportion ratio. The underlying quantile regression can only be computed with a minimum number of datapoints. If an ion has less than 10 datapoints, the quantile regression is instead computed based on a reference pool of ions.\n",
    "In the following, the resulting slopes by which all ions have been corrected are visualized. Ions that were corrected using the reference pool are shown separately.\n"
   ]
  },
  {
   "cell_type": "code",
   "execution_count": null,
   "id": "a73b7c68",
   "metadata": {
    "execution": {
     "iopub.execute_input": "2022-12-01T11:20:47.103504Z",
     "iopub.status.busy": "2022-12-01T11:20:47.103027Z",
     "iopub.status.idle": "2022-12-01T11:20:47.891381Z",
     "shell.execute_reply": "2022-12-01T11:20:47.890092Z"
    },
    "papermill": {
     "duration": 0.800514,
     "end_time": "2022-12-01T11:20:47.894399",
     "exception": false,
     "start_time": "2022-12-01T11:20:47.093885",
     "status": "completed"
    },
    "tags": []
   },
   "outputs": [],
   "source": [
    "grid = sns.FacetGrid(adata_cor.var[['mean_correction_quantreg_slope', 'corrected_only_using_pool']], col='corrected_only_using_pool', hue='corrected_only_using_pool', sharey=False)\n",
    "grid.map(sns.kdeplot, 'mean_correction_quantreg_slope')\n",
    "cor_pool = list(adata_cor.var[adata_cor.var['corrected_only_using_pool'] == True].index)"
   ]
  },
  {
   "cell_type": "markdown",
   "id": "32ba9de3",
   "metadata": {
    "papermill": {
     "duration": 0.013842,
     "end_time": "2022-12-01T11:20:47.923269",
     "exception": false,
     "start_time": "2022-12-01T11:20:47.909427",
     "status": "completed"
    },
    "tags": []
   },
   "source": [
    "Based on the slopes of the correction but also the logfoldchanges between corrected and uncorrected cells, one can infer the extent of alteration of different metabolites in the correction. These measures not necessarily correlate, thus the degree of correction of ions has to be evaluated on individual datasets."
   ]
  },
  {
   "cell_type": "code",
   "execution_count": null,
   "id": "0bfac9d0",
   "metadata": {
    "execution": {
     "iopub.execute_input": "2022-12-01T11:20:47.950578Z",
     "iopub.status.busy": "2022-12-01T11:20:47.950358Z",
     "iopub.status.idle": "2022-12-01T11:20:47.957256Z",
     "shell.execute_reply": "2022-12-01T11:20:47.956029Z"
    },
    "papermill": {
     "duration": 0.024002,
     "end_time": "2022-12-01T11:20:47.960137",
     "exception": false,
     "start_time": "2022-12-01T11:20:47.936135",
     "status": "completed"
    },
    "tags": []
   },
   "outputs": [],
   "source": [
    "import src.evaluation\n",
    "from importlib import reload\n",
    "reload(src.evaluation)\n",
    "from src.evaluation import MetaboliteAnalysis"
   ]
  },
  {
   "cell_type": "code",
   "execution_count": null,
   "id": "fda398cb",
   "metadata": {
    "execution": {
     "iopub.execute_input": "2022-12-01T11:20:47.988944Z",
     "iopub.status.busy": "2022-12-01T11:20:47.988462Z",
     "iopub.status.idle": "2022-12-01T11:21:23.724682Z",
     "shell.execute_reply": "2022-12-01T11:21:23.723091Z"
    },
    "papermill": {
     "duration": 35.75388,
     "end_time": "2022-12-01T11:21:23.728399",
     "exception": false,
     "start_time": "2022-12-01T11:20:47.974519",
     "status": "completed"
    },
    "tags": []
   },
   "outputs": [],
   "source": [
    "ma_raw = MetaboliteAnalysis(adata=adata, adata_cor=adata_cor, condition_name = condition_name, \n",
    "                        obs_columns = ['list_TPO'],\n",
    "                        var_columns = ['corrected_only_using_pool', 'mean_correction_quantreg_slope', \n",
    "                                       'n_cells','median_intensity', 'mean_intensity', 'sum_correction_using_ion_pool'],\n",
    "                       use_raw = True)"
   ]
  },
  {
   "cell_type": "code",
   "execution_count": null,
   "id": "1e49ec7e",
   "metadata": {
    "execution": {
     "iopub.execute_input": "2022-12-01T11:21:23.759702Z",
     "iopub.status.busy": "2022-12-01T11:21:23.759447Z",
     "iopub.status.idle": "2022-12-01T11:21:31.193172Z",
     "shell.execute_reply": "2022-12-01T11:21:31.192148Z"
    },
    "papermill": {
     "duration": 7.467922,
     "end_time": "2022-12-01T11:21:31.212849",
     "exception": false,
     "start_time": "2022-12-01T11:21:23.744927",
     "status": "completed"
    },
    "tags": []
   },
   "outputs": [],
   "source": [
    "ma_raw.pair_plot(exclude_ref_corrected = False)"
   ]
  },
  {
   "cell_type": "code",
   "execution_count": null,
   "id": "8c5924f1",
   "metadata": {
    "execution": {
     "iopub.execute_input": "2022-12-01T11:21:31.278223Z",
     "iopub.status.busy": "2022-12-01T11:21:31.278003Z",
     "iopub.status.idle": "2022-12-01T11:21:31.862830Z",
     "shell.execute_reply": "2022-12-01T11:21:31.861635Z"
    },
    "papermill": {
     "duration": 0.622165,
     "end_time": "2022-12-01T11:21:31.868943",
     "exception": false,
     "start_time": "2022-12-01T11:21:31.246778",
     "status": "completed"
    },
    "tags": []
   },
   "outputs": [],
   "source": [
    "ma_raw.volcano_plot(exclude_ref_corrected = False)"
   ]
  },
  {
   "cell_type": "code",
   "execution_count": null,
   "id": "d6d1643b",
   "metadata": {
    "execution": {
     "iopub.execute_input": "2022-12-01T11:21:31.944615Z",
     "iopub.status.busy": "2022-12-01T11:21:31.944368Z",
     "iopub.status.idle": "2022-12-01T11:21:34.611758Z",
     "shell.execute_reply": "2022-12-01T11:21:34.610635Z"
    },
    "papermill": {
     "duration": 2.71297,
     "end_time": "2022-12-01T11:21:34.622963",
     "exception": false,
     "start_time": "2022-12-01T11:21:31.909993",
     "status": "completed"
    },
    "tags": []
   },
   "outputs": [],
   "source": [
    "sc.pl.rank_genes_groups_tracksplot(ma_raw.conc_adata, groupby='correction', dendrogram=False)"
   ]
  },
  {
   "cell_type": "code",
   "execution_count": null,
   "id": "89f99dcf",
   "metadata": {
    "execution": {
     "iopub.execute_input": "2022-12-01T11:21:34.714712Z",
     "iopub.status.busy": "2022-12-01T11:21:34.714468Z",
     "iopub.status.idle": "2022-12-01T11:22:27.629246Z",
     "shell.execute_reply": "2022-12-01T11:22:27.628065Z"
    },
    "papermill": {
     "duration": 52.963988,
     "end_time": "2022-12-01T11:22:27.636709",
     "exception": false,
     "start_time": "2022-12-01T11:21:34.672721",
     "status": "completed"
    },
    "tags": []
   },
   "outputs": [],
   "source": [
    "ma_raw.quotient_plot()"
   ]
  },
  {
   "cell_type": "code",
   "execution_count": null,
   "id": "2aff6ed6",
   "metadata": {
    "execution": {
     "iopub.execute_input": "2022-12-01T11:22:27.773922Z",
     "iopub.status.busy": "2022-12-01T11:22:27.773554Z",
     "iopub.status.idle": "2022-12-01T11:27:48.295646Z",
     "shell.execute_reply": "2022-12-01T11:27:48.294475Z"
    },
    "papermill": {
     "duration": 320.681014,
     "end_time": "2022-12-01T11:27:48.390755",
     "exception": false,
     "start_time": "2022-12-01T11:22:27.709741",
     "status": "completed"
    },
    "tags": []
   },
   "outputs": [],
   "source": [
    "ma_raw.top_ion_plot()"
   ]
  },
  {
   "cell_type": "code",
   "execution_count": null,
   "id": "273e3f18",
   "metadata": {
    "execution": {
     "iopub.execute_input": "2022-12-01T11:27:48.537007Z",
     "iopub.status.busy": "2022-12-01T11:27:48.536736Z",
     "iopub.status.idle": "2022-12-01T11:28:26.627131Z",
     "shell.execute_reply": "2022-12-01T11:28:26.625442Z"
    },
    "papermill": {
     "duration": 38.163545,
     "end_time": "2022-12-01T11:28:26.630746",
     "exception": false,
     "start_time": "2022-12-01T11:27:48.467201",
     "status": "completed"
    },
    "tags": []
   },
   "outputs": [],
   "source": [
    "_ = ma_raw.save_matrix(save_to_path = analysis_path, safe_to_name = project)"
   ]
  },
  {
   "cell_type": "markdown",
   "id": "8016a400",
   "metadata": {
    "papermill": {
     "duration": 0.073301,
     "end_time": "2022-12-01T11:28:26.800984",
     "exception": false,
     "start_time": "2022-12-01T11:28:26.727683",
     "status": "completed"
    },
    "tags": []
   },
   "source": [
    "The same analysis is then carried out for the TIC-corrected and log-transformed data: Here, the differences between uncorrected and ISM-corrected data are much more subtle. This corresponds better with the UMAPs further down, as they also show very little noticebly differences between uncorrected and ISM-corrected datasets."
   ]
  },
  {
   "cell_type": "code",
   "execution_count": null,
   "id": "24218fbd",
   "metadata": {
    "execution": {
     "iopub.execute_input": "2022-12-01T11:28:26.935110Z",
     "iopub.status.busy": "2022-12-01T11:28:26.934418Z",
     "iopub.status.idle": "2022-12-01T11:29:01.587838Z",
     "shell.execute_reply": "2022-12-01T11:29:01.586369Z"
    },
    "papermill": {
     "duration": 34.722333,
     "end_time": "2022-12-01T11:29:01.591360",
     "exception": false,
     "start_time": "2022-12-01T11:28:26.869027",
     "status": "completed"
    },
    "tags": []
   },
   "outputs": [],
   "source": [
    "ma = MetaboliteAnalysis(adata=adata, adata_cor=adata_cor, condition_name = condition_name, \n",
    "                        obs_columns = ['list_TPO'],\n",
    "                        var_columns = ['corrected_only_using_pool', 'mean_correction_quantreg_slope', \n",
    "                                       'n_cells','median_intensity', 'mean_intensity', 'sum_correction_using_ion_pool'],\n",
    "                       use_raw = False)"
   ]
  },
  {
   "cell_type": "code",
   "execution_count": null,
   "id": "67afef5f",
   "metadata": {
    "execution": {
     "iopub.execute_input": "2022-12-01T11:29:01.752858Z",
     "iopub.status.busy": "2022-12-01T11:29:01.752630Z",
     "iopub.status.idle": "2022-12-01T11:29:04.281829Z",
     "shell.execute_reply": "2022-12-01T11:29:04.280748Z"
    },
    "papermill": {
     "duration": 2.616152,
     "end_time": "2022-12-01T11:29:04.291901",
     "exception": false,
     "start_time": "2022-12-01T11:29:01.675749",
     "status": "completed"
    },
    "tags": []
   },
   "outputs": [],
   "source": [
    "sc.pl.rank_genes_groups_tracksplot(ma.conc_adata, groupby='correction', dendrogram=False)"
   ]
  },
  {
   "cell_type": "code",
   "execution_count": null,
   "id": "6f7237dc",
   "metadata": {
    "execution": {
     "iopub.execute_input": "2022-12-01T11:29:04.469729Z",
     "iopub.status.busy": "2022-12-01T11:29:04.469530Z",
     "iopub.status.idle": "2022-12-01T11:29:58.430168Z",
     "shell.execute_reply": "2022-12-01T11:29:58.428912Z"
    },
    "papermill": {
     "duration": 54.048326,
     "end_time": "2022-12-01T11:29:58.437551",
     "exception": false,
     "start_time": "2022-12-01T11:29:04.389225",
     "status": "completed"
    },
    "tags": []
   },
   "outputs": [],
   "source": [
    "ma.quotient_plot()"
   ]
  },
  {
   "cell_type": "code",
   "execution_count": null,
   "id": "cbd05d67",
   "metadata": {
    "execution": {
     "iopub.execute_input": "2022-12-01T11:29:58.658311Z",
     "iopub.status.busy": "2022-12-01T11:29:58.657722Z",
     "iopub.status.idle": "2022-12-01T11:30:19.435244Z",
     "shell.execute_reply": "2022-12-01T11:30:19.434071Z"
    },
    "papermill": {
     "duration": 20.884869,
     "end_time": "2022-12-01T11:30:19.440977",
     "exception": false,
     "start_time": "2022-12-01T11:29:58.556108",
     "status": "completed"
    },
    "tags": []
   },
   "outputs": [],
   "source": [
    "ma.top_ion_plot()"
   ]
  },
  {
   "cell_type": "markdown",
   "id": "cb3e51ab",
   "metadata": {
    "papermill": {
     "duration": 0.105195,
     "end_time": "2022-12-01T11:30:19.677968",
     "exception": false,
     "start_time": "2022-12-01T11:30:19.572773",
     "status": "completed"
    },
    "tags": []
   },
   "source": [
    "## Comparison of the datasets\n",
    "\n",
    "In the following, the uncorrected and ISM-corrected datasets are compared using methods of a typical single-cell analysis."
   ]
  },
  {
   "cell_type": "code",
   "execution_count": null,
   "id": "c5e80faa",
   "metadata": {
    "execution": {
     "iopub.execute_input": "2022-12-01T11:30:19.894742Z",
     "iopub.status.busy": "2022-12-01T11:30:19.894345Z",
     "iopub.status.idle": "2022-12-01T11:30:45.081548Z",
     "shell.execute_reply": "2022-12-01T11:30:45.080281Z"
    },
    "papermill": {
     "duration": 25.296982,
     "end_time": "2022-12-01T11:30:45.083748",
     "exception": false,
     "start_time": "2022-12-01T11:30:19.786766",
     "status": "completed"
    },
    "tags": []
   },
   "outputs": [],
   "source": [
    "def dimred_pca(adata):\n",
    "    sc.pp.pca(adata)\n",
    "    sc.pl.pca_overview(adata, color=['well', condition_name], palette='cividis')\n",
    "\n",
    "dimred_pca(adata)\n",
    "dimred_pca(adata_cor)"
   ]
  },
  {
   "cell_type": "code",
   "execution_count": null,
   "id": "ce077d19",
   "metadata": {
    "execution": {
     "iopub.execute_input": "2022-12-01T11:30:45.385938Z",
     "iopub.status.busy": "2022-12-01T11:30:45.385303Z",
     "iopub.status.idle": "2022-12-01T11:32:46.169100Z",
     "shell.execute_reply": "2022-12-01T11:32:46.167901Z"
    },
    "papermill": {
     "duration": 120.971995,
     "end_time": "2022-12-01T11:32:46.203388",
     "exception": false,
     "start_time": "2022-12-01T11:30:45.231393",
     "status": "completed"
    },
    "tags": []
   },
   "outputs": [],
   "source": [
    "def dimred_umap(adata, min_dist = 0.5):\n",
    "    sc.pp.neighbors(adata, n_neighbors=50, metric='cosine')\n",
    "    sc.tl.umap(adata, min_dist=min_dist, spread=1.0, random_state=1, n_components=2)\n",
    "    sc.pl.umap(adata, color=['well', condition_name], palette='cividis')\n",
    "    f = osm.pl.highlight_scatterplot(\n",
    "        data = adata,\n",
    "        obsm_key = \"X_umap\",\n",
    "        hue = condition_name,\n",
    "        col = condition_name,\n",
    "        palette = \"cividis\",\n",
    "        trim_axes=True,\n",
    "        height = 5,\n",
    "        scatter_kwargs = dict(s=5)\n",
    "    )\n",
    "\n",
    "    f.add_legend(markerscale=3)\n",
    "\n",
    "\n",
    "dimred_umap(adata)\n",
    "dimred_umap(adata_cor)\n"
   ]
  },
  {
   "cell_type": "code",
   "execution_count": null,
   "id": "b43117af",
   "metadata": {
    "execution": {
     "iopub.execute_input": "2022-12-01T11:32:46.815552Z",
     "iopub.status.busy": "2022-12-01T11:32:46.815057Z",
     "iopub.status.idle": "2022-12-01T11:32:46.822697Z",
     "shell.execute_reply": "2022-12-01T11:32:46.821429Z"
    },
    "papermill": {
     "duration": 0.306676,
     "end_time": "2022-12-01T11:32:46.824913",
     "exception": false,
     "start_time": "2022-12-01T11:32:46.518237",
     "status": "completed"
    },
    "tags": []
   },
   "outputs": [],
   "source": [
    "# from sklearn.metrics.cluster import completeness_score\n",
    "# from sklearn.metrics import accuracy_score, silhouette_score\n",
    "# \n",
    "# def kmeans_clust(adata):\n",
    "#     n_clusters = len(adata.obs[condition_name].value_counts())\n",
    "#     kmeans = KMeans(n_clusters=n_clusters, random_state=0).fit(adata.X)\n",
    "#     adata.obs['kmeans'] = kmeans.labels_.astype(str)\n",
    "# \n",
    "#     sc.tl.leiden(adata, resolution=2)\n",
    "# \n",
    "#     leiden = np.array(adata.obs['leiden'].values)\n",
    "#     leiden_curated = np.copy(leiden)\n",
    "#     fc = np.array(adata.obs[condition_name].values)\n",
    "#     for cluster in np.unique(leiden):\n",
    "#         labels, counts = np.unique(fc[leiden == cluster], return_counts=True)\n",
    "#         leiden_curated[leiden == cluster] = str(labels[counts == np.max(counts)][0])\n",
    "#     adata.obs['leiden_curated'] = leiden_curated\n",
    "# \n",
    "#     sc.pl.umap(adata, color=['kmeans', 'leiden', 'leiden_curated', condition_name], palette='cividis')\n",
    "#     # print('Leiden acccuracy score: %1.4f' % accuracy_score(y_true = adata.obs[condition_name].replace(['HeLa', 'NIH3T3'], ['0', '1']), y_pred = adata.obs['leiden']))\n",
    "#     print('Curated leiden acccuracy score: %1.4f' % accuracy_score(y_true = adata.obs[condition_name], y_pred = adata.obs['leiden_curated']))\n",
    "#     print('KMeans completeness score: %1.4f' % completeness_score(adata.obs[condition_name], adata.obs['kmeans']))\n",
    "#     print('KMeans silhouette coefficient: %1.4f' % silhouette_score(adata.X, adata.obs['kmeans']))\n",
    "# \n",
    "# kmeans_clust(adata)\n",
    "# kmeans_clust(adata_cor)\n",
    "# "
   ]
  },
  {
   "cell_type": "code",
   "execution_count": null,
   "id": "adcb815e",
   "metadata": {
    "execution": {
     "iopub.execute_input": "2022-12-01T11:32:47.365523Z",
     "iopub.status.busy": "2022-12-01T11:32:47.364932Z",
     "iopub.status.idle": "2022-12-01T11:36:26.032169Z",
     "shell.execute_reply": "2022-12-01T11:36:26.031098Z"
    },
    "papermill": {
     "duration": 219.067299,
     "end_time": "2022-12-01T11:36:26.178839",
     "exception": false,
     "start_time": "2022-12-01T11:32:47.111540",
     "status": "completed"
    },
    "tags": []
   },
   "outputs": [],
   "source": [
    "summaries = intermixing({'uncorrected': adata, 'ISM correction': adata_cor}, condition_name = condition_name, measures = ['X_pca', 'X_umap'])"
   ]
  },
  {
   "cell_type": "code",
   "execution_count": null,
   "id": "87765314",
   "metadata": {
    "execution": {
     "iopub.execute_input": "2022-12-01T11:36:26.761590Z",
     "iopub.status.busy": "2022-12-01T11:36:26.761044Z",
     "iopub.status.idle": "2022-12-01T11:38:07.636814Z",
     "shell.execute_reply": "2022-12-01T11:38:07.635478Z"
    },
    "papermill": {
     "duration": 101.176555,
     "end_time": "2022-12-01T11:38:07.641266",
     "exception": false,
     "start_time": "2022-12-01T11:36:26.464711",
     "status": "completed"
    },
    "tags": []
   },
   "outputs": [],
   "source": [
    "s = intermixing(\n",
    "    adata_dict = {'uncorrected': adata, 'ISM correction': adata_cor},\n",
    "    condition_name = condition_name,\n",
    "    sample_frac=0.1,\n",
    "    measures =['X_umap', 'X_pca'],\n",
    "    n_datapoints = 50,\n",
    "    sample_log = True,\n",
    "    neighborhood_size = None,\n",
    "    normalized = False,\n",
    "    show_table = [],\n",
    "    n_jobs = multiprocessing.cpu_count()\n",
    ")"
   ]
  },
  {
   "cell_type": "code",
   "execution_count": null,
   "id": "a2751cd5",
   "metadata": {
    "execution": {
     "iopub.execute_input": "2022-12-01T11:38:08.272186Z",
     "iopub.status.busy": "2022-12-01T11:38:08.271596Z",
     "iopub.status.idle": "2022-12-01T11:38:08.283448Z",
     "shell.execute_reply": "2022-12-01T11:38:08.282234Z"
    },
    "papermill": {
     "duration": 0.317572,
     "end_time": "2022-12-01T11:38:08.285664",
     "exception": false,
     "start_time": "2022-12-01T11:38:07.968092",
     "status": "completed"
    },
    "tags": []
   },
   "outputs": [],
   "source": [
    "from scipy.integrate import trapz, simps\n",
    "\n",
    "def auc_intermixing(summary_dict):\n",
    "    for name, data in summary_dict.items():\n",
    "        print('Area under the curve for %s: %1.4f'%(name, trapz(data['mean'], data.index) / max(data.index)))\n",
    "\n",
    "\n",
    "auc_intermixing(s[1])"
   ]
  },
  {
   "cell_type": "code",
   "execution_count": null,
   "id": "6e2b7bcc",
   "metadata": {
    "execution": {
     "iopub.execute_input": "2022-12-01T11:38:08.883440Z",
     "iopub.status.busy": "2022-12-01T11:38:08.882975Z",
     "iopub.status.idle": "2022-12-01T11:38:55.803572Z",
     "shell.execute_reply": "2022-12-01T11:38:55.802232Z"
    },
    "papermill": {
     "duration": 47.215311,
     "end_time": "2022-12-01T11:38:55.807233",
     "exception": false,
     "start_time": "2022-12-01T11:38:08.591922",
     "status": "completed"
    },
    "tags": []
   },
   "outputs": [],
   "source": [
    "from sklearn.svm import LinearSVC\n",
    "\n",
    "def get_svm_margin(adata, size_factor = 1):\n",
    "    predictors = adata.X * size_factor\n",
    "    result = adata.obs[condition_name]\n",
    "    clf = LinearSVC(random_state=0, dual=False)\n",
    "    clf.fit(predictors, result)  \n",
    "    margin_df = pd.DataFrame({'condition': clf.classes_, 'margin': 1 / np.sqrt(np.sum(clf.coef_**2, axis=1))})\n",
    "    #print(margin_df)\n",
    "    return margin_df\n",
    "\n",
    "df = pd.merge(get_svm_margin(adata), get_svm_margin(adata_cor, size_factor = np.sum(adata.X) / np.sum(adata_cor.X)), on='condition', suffixes=['_uncorrected', '_ISM_corrected'])"
   ]
  },
  {
   "cell_type": "code",
   "execution_count": null,
   "id": "d4de4a68",
   "metadata": {
    "execution": {
     "iopub.execute_input": "2022-12-01T11:38:56.466173Z",
     "iopub.status.busy": "2022-12-01T11:38:56.465602Z",
     "iopub.status.idle": "2022-12-01T11:38:56.896448Z",
     "shell.execute_reply": "2022-12-01T11:38:56.895525Z"
    },
    "papermill": {
     "duration": 0.767975,
     "end_time": "2022-12-01T11:38:56.900592",
     "exception": false,
     "start_time": "2022-12-01T11:38:56.132617",
     "status": "completed"
    },
    "tags": []
   },
   "outputs": [],
   "source": [
    "sns.set(rc={\"figure.figsize\":(12, 5)})\n",
    "sns.barplot(df.melt(id_vars='condition', var_name='correction', value_name='margin'), x='condition', y='margin', hue='correction')"
   ]
  }
 ],
 "metadata": {
  "kernelspec": {
   "display_name": "Python 3 (ipykernel)",
   "language": "python",
   "name": "python3"
  },
  "language_info": {
   "codemirror_mode": {
    "name": "ipython",
    "version": 3
   },
   "file_extension": ".py",
   "mimetype": "text/x-python",
   "name": "python",
   "nbconvert_exporter": "python",
   "pygments_lexer": "ipython3",
   "version": "3.10.6"
  },
  "papermill": {
   "default_parameters": {},
   "duration": 1188.107535,
   "end_time": "2022-12-01T11:40:25.442968",
   "environment_variables": {},
   "exception": true,
   "input_path": "/home/mklein/FDA_project/pipeline_03_evaluation.ipynb",
   "output_path": "/home/mklein/FDA_project/analysis/Mx_Seahorse/pipeline_03_evaluation.ipynb",
   "parameters": {
    "analysis_path": "/home/mklein/FDA_project/analysis/Mx_Seahorse",
    "condition_name": "treatment",
    "notebooks": [
     "pipeline_01_correction.ipynb",
     "pipeline_02_processing.ipynb",
     "pipeline_03_evaluation.ipynb"
    ],
    "project": "Mx_Seahorse",
    "source_path": "/home/mklein/Raw Data/220412_Luisa_ScSeahorse_SpaceM",
    "target_path": "/home/mklein/FDA_project/data/Mx_Seahorse",
    "well_name": "rowcol"
   },
   "start_time": "2022-12-01T11:20:37.335433",
   "version": "2.3.4"
  },
  "vscode": {
   "interpreter": {
    "hash": "89b4449ee30f46b148fb6825d70934bcbb1ebdb6d5b2015fe3835362773c7289"
   }
  }
 },
 "nbformat": 4,
 "nbformat_minor": 5
}
