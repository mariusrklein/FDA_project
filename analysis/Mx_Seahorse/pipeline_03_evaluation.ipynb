{
 "cells": [
  {
   "cell_type": "markdown",
   "id": "3dab55c6",
   "metadata": {
    "papermill": {
     "duration": 0.014566,
     "end_time": "2023-01-12T15:38:44.988666",
     "exception": false,
     "start_time": "2023-01-12T15:38:44.974100",
     "status": "completed"
    },
    "tags": []
   },
   "source": [
    "# Mx_Seahorse: Evaluation\n",
    "\n",
    "In this notebook, different measures are investigated to quantify the effect of correcting SpaceM ion intensity data for partial pixel-cell overlap.\n",
    "Moreover, The effects of the correction on different metabolites is visualized.\n",
    " "
   ]
  },
  {
   "cell_type": "code",
   "execution_count": null,
   "id": "b5221548",
   "metadata": {
    "execution": {
     "iopub.execute_input": "2023-01-12T15:38:45.017515Z",
     "iopub.status.busy": "2023-01-12T15:38:45.017054Z",
     "iopub.status.idle": "2023-01-12T15:38:51.441793Z",
     "shell.execute_reply": "2023-01-12T15:38:51.440785Z"
    },
    "papermill": {
     "duration": 6.441802,
     "end_time": "2023-01-12T15:38:51.444272",
     "exception": false,
     "start_time": "2023-01-12T15:38:45.002470",
     "status": "completed"
    },
    "tags": []
   },
   "outputs": [],
   "source": [
    "import platform\n",
    "import os\n",
    "import multiprocessing\n",
    "import numpy as np\n",
    "import pandas as pd\n",
    "import anndata as ad\n",
    "import scanpy as sc\n",
    "import seaborn as sns\n",
    "from sklearn.cluster import KMeans\n",
    "import re\n",
    "import outer_spacem as osm\n",
    "import sys\n",
    "sys.path.append('/home/mklein/spacem')\n",
    "sys.path.append('/Volumes/mklein/spacem')\n",
    "sys.path.append('/home/mklein/FDA_project')\n",
    "from src.correction import *\n",
    "from src.evaluation import intermixing, MetaboliteAnalysis\n",
    "\n",
    "%matplotlib inline"
   ]
  },
  {
   "cell_type": "code",
   "execution_count": null,
   "id": "c6afb38d",
   "metadata": {
    "execution": {
     "iopub.execute_input": "2023-01-12T15:38:51.475992Z",
     "iopub.status.busy": "2023-01-12T15:38:51.475161Z",
     "iopub.status.idle": "2023-01-12T15:38:51.480920Z",
     "shell.execute_reply": "2023-01-12T15:38:51.479953Z"
    },
    "papermill": {
     "duration": 0.023742,
     "end_time": "2023-01-12T15:38:51.482969",
     "exception": false,
     "start_time": "2023-01-12T15:38:51.459227",
     "status": "completed"
    },
    "tags": [
     "injected-parameters"
    ]
   },
   "outputs": [],
   "source": [
    "# Parameters\n",
    "source_path = \"/home/mklein/Raw Data/220412_Luisa_ScSeahorse_SpaceM\"\n",
    "target_path = \"/home/mklein/FDA_project/data/Mx_Seahorse\"\n",
    "condition_name = \"treatment\"\n",
    "well_name = \"rowcol\"\n",
    "analysis_path = \"/home/mklein/FDA_project/analysis/Mx_Seahorse\"\n",
    "notebooks = [\n",
    "    \"pipeline_01_correction.ipynb\",\n",
    "    \"pipeline_02_processing.ipynb\",\n",
    "    \"pipeline_03_evaluation.ipynb\",\n",
    "]\n",
    "project = \"Mx_Seahorse\"\n"
   ]
  },
  {
   "cell_type": "markdown",
   "id": "774e39e3",
   "metadata": {
    "papermill": {
     "duration": 0.013368,
     "end_time": "2023-01-12T15:38:51.510200",
     "exception": false,
     "start_time": "2023-01-12T15:38:51.496832",
     "status": "completed"
    },
    "tags": []
   },
   "source": [
    "Loading the uncorrected and ISM-corrected dataset from file. Additionally, loading the metadata CSV file to filter out excluded wells."
   ]
  },
  {
   "cell_type": "code",
   "execution_count": null,
   "id": "f0ab61c7",
   "metadata": {
    "execution": {
     "iopub.execute_input": "2023-01-12T15:38:51.538132Z",
     "iopub.status.busy": "2023-01-12T15:38:51.537634Z",
     "iopub.status.idle": "2023-01-12T15:38:52.865590Z",
     "shell.execute_reply": "2023-01-12T15:38:52.864451Z"
    },
    "papermill": {
     "duration": 1.344523,
     "end_time": "2023-01-12T15:38:52.868240",
     "exception": false,
     "start_time": "2023-01-12T15:38:51.523717",
     "status": "completed"
    },
    "tags": []
   },
   "outputs": [],
   "source": [
    "adata = ad.read(os.path.join(target_path, \"gen_batch_sm_matrix.h5ad\"))\n",
    "adata_cor = ad.read(os.path.join(target_path, \"corrected_batch_sm_matrix.h5ad\"))"
   ]
  },
  {
   "cell_type": "code",
   "execution_count": null,
   "id": "65c6dfb3-29d8-4066-a43c-45c05370a3a4",
   "metadata": {
    "execution": {
     "iopub.execute_input": "2023-01-12T15:38:52.898351Z",
     "iopub.status.busy": "2023-01-12T15:38:52.897369Z",
     "iopub.status.idle": "2023-01-12T15:38:53.103838Z",
     "shell.execute_reply": "2023-01-12T15:38:53.102785Z"
    },
    "papermill": {
     "duration": 0.223365,
     "end_time": "2023-01-12T15:38:53.106346",
     "exception": false,
     "start_time": "2023-01-12T15:38:52.882981",
     "status": "completed"
    },
    "tags": []
   },
   "outputs": [],
   "source": [
    "metadata_path = os.path.join(target_path, 'metadata.csv')\n",
    "samples = list(set(adata.obs['well']))\n",
    "\n",
    "if os.path.exists(metadata_path):\n",
    "    metadata = pd.read_csv(metadata_path)\n",
    "    if well_name not in metadata.columns:\n",
    "        metadata[well_name] = metadata['row'].astype(str) + metadata['col'].astype(str)\n",
    "    samples = list(metadata[well_name])\n",
    "\n",
    "def assign_conditions(adata):\n",
    "    index = adata.obs.index.name\n",
    "    new_obs = adata.obs.reset_index()\n",
    "    \n",
    "    new_obs = pd.merge(new_obs, metadata[[well_name, condition_name]], \n",
    "                       how='inner', left_on='well', right_on=well_name).set_index(index)\n",
    "    \n",
    "    adata = adata[new_obs.index, :].copy()\n",
    "    adata.obs = new_obs\n",
    "    if 'keep_conditions' in globals():\n",
    "        adata = adata[adata.obs[condition_name].isin(keep_conditions), :].copy()\n",
    "    return adata\n",
    "\n",
    "adata = assign_conditions(adata)\n",
    "adata_cor = assign_conditions(adata_cor)"
   ]
  },
  {
   "cell_type": "markdown",
   "id": "ba3da3e8-8cc7-44f4-9c57-6ffe10c540e9",
   "metadata": {
    "papermill": {
     "duration": 0.013475,
     "end_time": "2023-01-12T15:38:53.134181",
     "exception": false,
     "start_time": "2023-01-12T15:38:53.120706",
     "status": "completed"
    },
    "tags": []
   },
   "source": [
    "Some wells are excluded from the analysis for different reasons. The wells A3, G1 and J2 were excluded before as the exhibited batch effects. The wells E2, E3 and E4 have inconsistencies in the pixel-cell deconvolution."
   ]
  },
  {
   "cell_type": "code",
   "execution_count": null,
   "id": "175daf3d-e649-4f68-9384-62a9678d4548",
   "metadata": {
    "execution": {
     "iopub.execute_input": "2023-01-12T15:38:53.162723Z",
     "iopub.status.busy": "2023-01-12T15:38:53.161928Z",
     "iopub.status.idle": "2023-01-12T15:38:53.212332Z",
     "shell.execute_reply": "2023-01-12T15:38:53.211167Z"
    },
    "papermill": {
     "duration": 0.067123,
     "end_time": "2023-01-12T15:38:53.214724",
     "exception": false,
     "start_time": "2023-01-12T15:38:53.147601",
     "status": "completed"
    },
    "tags": []
   },
   "outputs": [],
   "source": [
    "# remove wells where deconvolution could not be reproduced.\n",
    "# adata = adata[~adata.obs['well'].isin(['E2', 'E3', 'E4'])]\n",
    "# adata_cor = adata_cor[~adata_cor.obs['well'].isin(['E2', 'E3', 'E4'])]\n",
    "adata = adata[~adata.obs['well'].isin(['A3', 'G1', 'J2', 'E2', 'E3', 'E4'])]\n",
    "adata_cor = adata_cor[~adata_cor.obs['well'].isin(['A3', 'G1', 'J2', 'E2', 'E3', 'E4'])]"
   ]
  },
  {
   "cell_type": "code",
   "execution_count": null,
   "id": "a2870c8b-83d3-4118-b441-bf2a5ced87ea",
   "metadata": {
    "execution": {
     "iopub.execute_input": "2023-01-12T15:38:53.244767Z",
     "iopub.status.busy": "2023-01-12T15:38:53.244119Z",
     "iopub.status.idle": "2023-01-12T15:38:53.308155Z",
     "shell.execute_reply": "2023-01-12T15:38:53.307089Z"
    },
    "papermill": {
     "duration": 0.080811,
     "end_time": "2023-01-12T15:38:53.310372",
     "exception": false,
     "start_time": "2023-01-12T15:38:53.229561",
     "status": "completed"
    },
    "tags": []
   },
   "outputs": [],
   "source": [
    "pd.crosstab(adata.obs['well'], adata.obs[condition_name], margins=True)"
   ]
  },
  {
   "cell_type": "code",
   "execution_count": null,
   "id": "f03b2187-b482-4638-a1ee-70caccff13af",
   "metadata": {
    "execution": {
     "iopub.execute_input": "2023-01-12T15:38:53.340065Z",
     "iopub.status.busy": "2023-01-12T15:38:53.338958Z",
     "iopub.status.idle": "2023-01-12T15:38:53.544598Z",
     "shell.execute_reply": "2023-01-12T15:38:53.543412Z"
    },
    "papermill": {
     "duration": 0.222483,
     "end_time": "2023-01-12T15:38:53.546874",
     "exception": false,
     "start_time": "2023-01-12T15:38:53.324391",
     "status": "completed"
    },
    "tags": []
   },
   "outputs": [],
   "source": [
    "included_molecules = adata.var_names.intersection(adata_cor.var_names)\n",
    "included_cells = adata.obs_names.intersection(adata_cor.obs_names)\n",
    "\n",
    "def subset_molecules(adata):\n",
    "    \n",
    "    return adata[included_cells, included_molecules].copy()\n",
    "\n",
    "adata = subset_molecules(adata)\n",
    "adata_cor = subset_molecules(adata_cor)\n",
    "\n",
    "print(adata.shape)\n",
    "print(adata_cor.shape)"
   ]
  },
  {
   "cell_type": "markdown",
   "id": "e79bc9e2",
   "metadata": {
    "papermill": {
     "duration": 0.013689,
     "end_time": "2023-01-12T15:38:53.575293",
     "exception": false,
     "start_time": "2023-01-12T15:38:53.561604",
     "status": "completed"
    },
    "tags": []
   },
   "source": [
    "First of all, the loaded datasets are filtered:\n",
    "\n",
    "- cells need non-zero intensities for at least 10 ions.\n",
    "- ions need non-zero intensities for at least 200 cells.\n",
    "\n",
    "After that, the sets are preprocessed in different ways:\n",
    "\n",
    "- intensties are normalized to TIC and/or log-transformed (log(x+1))\n",
    "\n",
    "After that, both datasets are subset to contain the same ions and cells (intersection)."
   ]
  },
  {
   "cell_type": "code",
   "execution_count": null,
   "id": "331d83ef",
   "metadata": {
    "execution": {
     "iopub.execute_input": "2023-01-12T15:38:53.605183Z",
     "iopub.status.busy": "2023-01-12T15:38:53.604383Z",
     "iopub.status.idle": "2023-01-12T15:38:55.041308Z",
     "shell.execute_reply": "2023-01-12T15:38:55.040254Z"
    },
    "papermill": {
     "duration": 1.454375,
     "end_time": "2023-01-12T15:38:55.043481",
     "exception": false,
     "start_time": "2023-01-12T15:38:53.589106",
     "status": "completed"
    },
    "tags": []
   },
   "outputs": [],
   "source": [
    "def preprocess(adata):\n",
    "    \n",
    "    sc.pp.filter_cells(adata, min_genes=10)\n",
    "    sc.pp.filter_genes(adata, min_cells=200)\n",
    "    adata.raw = adata\n",
    "    adata.layers[\"raw_counts\"] = adata.X.copy()\n",
    "    # sc.pp.scale(adata)\n",
    "    adata.layers[\"norm_counts\"] = sc.pp.normalize_total(adata, layer='raw_counts', target_sum=None, inplace=False)['X']\n",
    "    adata.layers[\"1e4_norm_counts\"] = sc.pp.normalize_total(adata, layer='raw_counts', target_sum=1e4, inplace=False)['X']\n",
    "    \n",
    "    adata.layers[\"log_raw_counts\"] = sc.pp.log1p(adata.layers[\"raw_counts\"], copy=True)\n",
    "    adata.layers[\"log_norm_counts\"] = sc.pp.log1p(adata.layers[\"norm_counts\"], copy=True)\n",
    "    adata.layers[\"1e4_log_norm_counts\"] = sc.pp.log1p(adata.layers[\"1e4_norm_counts\"], copy=True)\n",
    "    adata.X = adata.layers[\"log_norm_counts\"]\n",
    "    \n",
    "    adata.var['median_intensity'] = np.median(adata.X, axis=0)\n",
    "    adata.var['mean_intensity'] = np.mean(adata.X, axis=0)\n",
    "    # adata_x = adata.X.copy()\n",
    "    # adata_x[adata_x == 0] = np.nan\n",
    "    # adata.var['median_intensity_nonzero'] = np.nanmedian(adata_x, axis=0)\n",
    "    \n",
    "print(adata.shape)\n",
    "print(adata_cor.shape)\n",
    "\n",
    "preprocess(adata)\n",
    "preprocess(adata_cor)\n",
    "\n",
    "print(adata.shape)\n",
    "print(adata_cor.shape)\n"
   ]
  },
  {
   "cell_type": "code",
   "execution_count": null,
   "id": "de92eda2-4b90-4c2f-a48e-0b94f70eeebb",
   "metadata": {
    "execution": {
     "iopub.execute_input": "2023-01-12T15:38:55.074178Z",
     "iopub.status.busy": "2023-01-12T15:38:55.073509Z",
     "iopub.status.idle": "2023-01-12T15:38:55.081685Z",
     "shell.execute_reply": "2023-01-12T15:38:55.080670Z"
    },
    "papermill": {
     "duration": 0.025359,
     "end_time": "2023-01-12T15:38:55.083840",
     "exception": false,
     "start_time": "2023-01-12T15:38:55.058481",
     "status": "completed"
    },
    "tags": []
   },
   "outputs": [],
   "source": [
    "def dimred_umap(adata, layer=None, min_dist=0.5):\n",
    "    if layer is not None:\n",
    "        adata.layers['default_X'] = adata.X\n",
    "        adata.X = adata.layers[layer]\n",
    "    \n",
    "    sc.pp.pca(adata)\n",
    "    sc.pp.neighbors(adata, n_neighbors=50, metric='cosine')\n",
    "    sc.tl.umap(adata, min_dist=min_dist, spread=1.0, random_state=1, n_components=2)\n",
    "    # sc.pp.neighbors(adata, random_state=12345)\n",
    "    # sc.tl.umap(adata, random_state=12345)\n",
    "    #sc.pl.umap(adata, color=['well', condition_name], palette='cividis')\n",
    "    f = osm.pl.highlight_scatterplot(\n",
    "        data = adata,\n",
    "        obsm_key = \"X_umap\",\n",
    "        hue = condition_name,\n",
    "        col = condition_name,\n",
    "        palette = \"cividis\",\n",
    "        trim_axes=True,\n",
    "        height = 5,\n",
    "        scatter_kwargs = dict(s=5)\n",
    "    )\n",
    "\n",
    "    f.add_legend(markerscale=3)\n",
    "    \n",
    "    if layer is not None:\n",
    "        adata.X = adata.layers['default_X']"
   ]
  },
  {
   "cell_type": "code",
   "execution_count": null,
   "id": "dd7ffd30-dd25-4619-b736-dcbf37b6f32a",
   "metadata": {
    "execution": {
     "iopub.execute_input": "2023-01-12T15:38:55.113132Z",
     "iopub.status.busy": "2023-01-12T15:38:55.112470Z",
     "iopub.status.idle": "2023-01-12T15:38:55.119506Z",
     "shell.execute_reply": "2023-01-12T15:38:55.118483Z"
    },
    "papermill": {
     "duration": 0.024002,
     "end_time": "2023-01-12T15:38:55.121573",
     "exception": false,
     "start_time": "2023-01-12T15:38:55.097571",
     "status": "completed"
    },
    "tags": []
   },
   "outputs": [],
   "source": [
    "def intermixing_layer(adata, adata_cor, condition_name, measures = ['X_pca', 'X_umap'], layer=None):\n",
    "    if layer is not None:\n",
    "        adata.layers['default_X'] = adata.X\n",
    "        adata.X = adata.layers[layer]\n",
    "        adata_cor.layers['default_X'] = adata_cor.X\n",
    "        adata_cor.X = adata_cor.layers[layer]\n",
    "    \n",
    "    summaries = intermixing({'uncorrected': adata, 'ISM correction': adata_cor}, condition_name = condition_name, measures = measures)\n",
    "    \n",
    "    if layer is not None:\n",
    "        adata.X = adata.layers['default_X']\n",
    "        adata_cor.X = adata_cor.layers['default_X']\n",
    "    \n",
    "    return\n",
    "    "
   ]
  },
  {
   "cell_type": "markdown",
   "id": "edbc6132-691a-47d0-ba30-9f5167785a5a",
   "metadata": {
    "papermill": {
     "duration": 0.013829,
     "end_time": "2023-01-12T15:38:55.149872",
     "exception": false,
     "start_time": "2023-01-12T15:38:55.136043",
     "status": "completed"
    },
    "tags": []
   },
   "source": [
    "The different options for scaling and transforming the data are shown in the following:\n",
    "\n",
    "1. raw values\n",
    "2. log transformation\n",
    "3. TIC normalization\n",
    "4. TIC normalization and log transformation\n",
    "5. normalization to a fixed count (10^4)\n",
    "6. normalization to a fixed count (10^4) and log transformation\n",
    "\n",
    "The normalization to a fixed count has a slightly different effect than TIC normalization. The former normalizes all counts per cell to the given target sum so that all cells from the uncorrected and the corrected set are scaled to this count. In contrast, the latter retains the differences between the datasets by normalizing to the median count across cells in a dataset. Across modes of normalization, the corrected dataset has better separation than the uncorrected one. The overall separation in the uncorrected set is much better after log transformation but the effect of the correction is large for all assessed proprocessing combinations."
   ]
  },
  {
   "cell_type": "code",
   "execution_count": null,
   "id": "be998c5c-9dd9-4cef-82a4-c4c60b6e1d1f",
   "metadata": {
    "execution": {
     "iopub.execute_input": "2023-01-12T15:38:55.179314Z",
     "iopub.status.busy": "2023-01-12T15:38:55.178726Z",
     "iopub.status.idle": "2023-01-12T15:47:52.469312Z",
     "shell.execute_reply": "2023-01-12T15:47:52.468310Z"
    },
    "papermill": {
     "duration": 537.307735,
     "end_time": "2023-01-12T15:47:52.471773",
     "exception": false,
     "start_time": "2023-01-12T15:38:55.164038",
     "status": "completed"
    },
    "tags": []
   },
   "outputs": [],
   "source": [
    "dimred_umap(adata, layer='raw_counts')\n",
    "dimred_umap(adata_cor, layer='raw_counts')\n",
    "intermixing_layer(adata, adata_cor, condition_name, measures = ['X_pca', 'X_umap'], layer='raw_counts')"
   ]
  },
  {
   "cell_type": "code",
   "execution_count": null,
   "id": "89364f9e-ef5a-4baf-8544-1af50dc71535",
   "metadata": {
    "execution": {
     "iopub.execute_input": "2023-01-12T15:47:52.551571Z",
     "iopub.status.busy": "2023-01-12T15:47:52.551128Z",
     "iopub.status.idle": "2023-01-12T15:54:29.288216Z",
     "shell.execute_reply": "2023-01-12T15:54:29.286973Z"
    },
    "papermill": {
     "duration": 396.779394,
     "end_time": "2023-01-12T15:54:29.290402",
     "exception": false,
     "start_time": "2023-01-12T15:47:52.511008",
     "status": "completed"
    },
    "tags": []
   },
   "outputs": [],
   "source": [
    "dimred_umap(adata, layer='log_raw_counts')\n",
    "dimred_umap(adata_cor, layer='log_raw_counts')\n",
    "intermixing_layer(adata, adata_cor, condition_name, measures = ['X_pca', 'X_umap'], layer='log_raw_counts')"
   ]
  },
  {
   "cell_type": "code",
   "execution_count": null,
   "id": "5ed32d32-7aeb-4961-83b1-0c75efaf3d2b",
   "metadata": {
    "execution": {
     "iopub.execute_input": "2023-01-12T15:54:29.408131Z",
     "iopub.status.busy": "2023-01-12T15:54:29.406993Z",
     "iopub.status.idle": "2023-01-12T16:01:04.802385Z",
     "shell.execute_reply": "2023-01-12T16:01:04.801381Z"
    },
    "papermill": {
     "duration": 395.455797,
     "end_time": "2023-01-12T16:01:04.804604",
     "exception": false,
     "start_time": "2023-01-12T15:54:29.348807",
     "status": "completed"
    },
    "tags": []
   },
   "outputs": [],
   "source": [
    "dimred_umap(adata, layer='norm_counts')\n",
    "dimred_umap(adata_cor, layer='norm_counts')\n",
    "intermixing_layer(adata, adata_cor, condition_name, measures = ['X_pca', 'X_umap'], layer='norm_counts')"
   ]
  },
  {
   "cell_type": "code",
   "execution_count": null,
   "id": "600d223c-8b5f-4afa-bc2d-baa63d6d0a33",
   "metadata": {
    "execution": {
     "iopub.execute_input": "2023-01-12T16:01:04.965919Z",
     "iopub.status.busy": "2023-01-12T16:01:04.964924Z",
     "iopub.status.idle": "2023-01-12T16:07:32.134137Z",
     "shell.execute_reply": "2023-01-12T16:07:32.133032Z"
    },
    "papermill": {
     "duration": 387.251356,
     "end_time": "2023-01-12T16:07:32.136351",
     "exception": false,
     "start_time": "2023-01-12T16:01:04.884995",
     "status": "completed"
    },
    "tags": []
   },
   "outputs": [],
   "source": [
    "dimred_umap(adata, layer='log_norm_counts')\n",
    "dimred_umap(adata_cor, layer='log_norm_counts')\n",
    "intermixing_layer(adata, adata_cor, condition_name, measures = ['X_pca', 'X_umap'], layer='log_norm_counts')"
   ]
  },
  {
   "cell_type": "code",
   "execution_count": null,
   "id": "3f05f118-3f19-40d1-a99a-ce341c59ea4f",
   "metadata": {
    "execution": {
     "iopub.execute_input": "2023-01-12T16:07:32.332954Z",
     "iopub.status.busy": "2023-01-12T16:07:32.332415Z",
     "iopub.status.idle": "2023-01-12T16:14:01.881175Z",
     "shell.execute_reply": "2023-01-12T16:14:01.880137Z"
    },
    "papermill": {
     "duration": 389.64875,
     "end_time": "2023-01-12T16:14:01.883633",
     "exception": false,
     "start_time": "2023-01-12T16:07:32.234883",
     "status": "completed"
    },
    "tags": []
   },
   "outputs": [],
   "source": [
    "dimred_umap(adata, layer='1e4_norm_counts')\n",
    "dimred_umap(adata_cor, layer='1e4_norm_counts')\n",
    "intermixing_layer(adata, adata_cor, condition_name, measures = ['X_pca', 'X_umap'], layer='1e4_norm_counts')"
   ]
  },
  {
   "cell_type": "code",
   "execution_count": null,
   "id": "dac16865-a838-421d-85a9-8b179b4c9dd4",
   "metadata": {
    "execution": {
     "iopub.execute_input": "2023-01-12T16:14:02.116640Z",
     "iopub.status.busy": "2023-01-12T16:14:02.115380Z",
     "iopub.status.idle": "2023-01-12T16:20:31.056589Z",
     "shell.execute_reply": "2023-01-12T16:20:31.055571Z"
    },
    "papermill": {
     "duration": 389.059166,
     "end_time": "2023-01-12T16:20:31.058940",
     "exception": false,
     "start_time": "2023-01-12T16:14:01.999774",
     "status": "completed"
    },
    "tags": []
   },
   "outputs": [],
   "source": [
    "dimred_umap(adata, layer='1e4_log_norm_counts')\n",
    "dimred_umap(adata_cor, layer='1e4_log_norm_counts')\n",
    "intermixing_layer(adata, adata_cor, condition_name, measures = ['X_pca', 'X_umap'], layer='1e4_log_norm_counts')"
   ]
  },
  {
   "cell_type": "markdown",
   "id": "331d66f2",
   "metadata": {
    "papermill": {
     "duration": 0.132994,
     "end_time": "2023-01-12T16:20:31.325845",
     "exception": false,
     "start_time": "2023-01-12T16:20:31.192851",
     "status": "completed"
    },
    "tags": []
   },
   "source": [
    "Before analysis, I am asserting that the two data files were deconvoluted in the same way. Specifically, the corrected dataframe cannot have non-zero values at positions where the uncorrected dataframe has zero values."
   ]
  },
  {
   "cell_type": "code",
   "execution_count": null,
   "id": "fa006a4c",
   "metadata": {
    "execution": {
     "iopub.execute_input": "2023-01-12T16:20:31.593274Z",
     "iopub.status.busy": "2023-01-12T16:20:31.592735Z",
     "iopub.status.idle": "2023-01-12T16:20:32.103567Z",
     "shell.execute_reply": "2023-01-12T16:20:32.102633Z"
    },
    "papermill": {
     "duration": 0.646899,
     "end_time": "2023-01-12T16:20:32.105990",
     "exception": false,
     "start_time": "2023-01-12T16:20:31.459091",
     "status": "completed"
    },
    "tags": []
   },
   "outputs": [],
   "source": [
    "assert not any(pd.Series(np.array((adata.to_df() == 0) & (adata_cor.to_df()!= 0)).flatten()))"
   ]
  },
  {
   "cell_type": "code",
   "execution_count": null,
   "id": "60bcaeb3",
   "metadata": {
    "execution": {
     "iopub.execute_input": "2023-01-12T16:20:32.371733Z",
     "iopub.status.busy": "2023-01-12T16:20:32.371217Z",
     "iopub.status.idle": "2023-01-12T16:20:32.377672Z",
     "shell.execute_reply": "2023-01-12T16:20:32.376725Z"
    },
    "papermill": {
     "duration": 0.14191,
     "end_time": "2023-01-12T16:20:32.379842",
     "exception": false,
     "start_time": "2023-01-12T16:20:32.237932",
     "status": "completed"
    },
    "tags": []
   },
   "outputs": [],
   "source": [
    "adata.obs['correction'] = 'uncorrected'\n",
    "adata_cor.obs['correction'] = 'ISM correction'"
   ]
  },
  {
   "cell_type": "markdown",
   "id": "f046d047",
   "metadata": {
    "papermill": {
     "duration": 0.131802,
     "end_time": "2023-01-12T16:20:32.644864",
     "exception": false,
     "start_time": "2023-01-12T16:20:32.513062",
     "status": "completed"
    },
    "tags": []
   },
   "source": [
    "## Effects of the correction on different molecules\n",
    "\n",
    "The ISM correction is performed per ion on the logarithmized intensity / sampling proportion ratio. The underlying quantile regression can only be computed with a minimum number of datapoints. If an ion has less than 10 datapoints, the quantile regression is instead computed based on a reference pool of ions.\n",
    "In the following, the resulting slopes by which all ions have been corrected are visualized. Ions that were corrected using the reference pool are shown separately.\n",
    "\n",
    "**For simplicity, not all modes of preprocessing are investigated in theis step. Only the non-transformed raw counts and the TIC-normalized and log-transformed counts are included here.**\n"
   ]
  },
  {
   "cell_type": "code",
   "execution_count": null,
   "id": "a73b7c68",
   "metadata": {
    "execution": {
     "iopub.execute_input": "2023-01-12T16:20:32.912163Z",
     "iopub.status.busy": "2023-01-12T16:20:32.911658Z",
     "iopub.status.idle": "2023-01-12T16:20:34.003703Z",
     "shell.execute_reply": "2023-01-12T16:20:34.002788Z"
    },
    "papermill": {
     "duration": 1.227526,
     "end_time": "2023-01-12T16:20:34.005934",
     "exception": false,
     "start_time": "2023-01-12T16:20:32.778408",
     "status": "completed"
    },
    "tags": []
   },
   "outputs": [],
   "source": [
    "grid = sns.FacetGrid(adata_cor.var[['mean_correction_quantreg_slope', 'corrected_only_using_pool']], col='corrected_only_using_pool', hue='corrected_only_using_pool', sharey=False)\n",
    "grid.map(sns.histplot, 'mean_correction_quantreg_slope', bins=30)\n",
    "cor_pool = list(adata_cor.var[adata_cor.var['corrected_only_using_pool'] == True].index)\n",
    "adata_cor.var['corrected_only_using_pool'].value_counts()"
   ]
  },
  {
   "cell_type": "markdown",
   "id": "32ba9de3",
   "metadata": {
    "papermill": {
     "duration": 0.131796,
     "end_time": "2023-01-12T16:20:34.271685",
     "exception": false,
     "start_time": "2023-01-12T16:20:34.139889",
     "status": "completed"
    },
    "tags": []
   },
   "source": [
    "Based on the slopes of the correction but also the logfoldchanges between corrected and uncorrected cells, one can infer the extent of alteration of different metabolites in the correction. These measures not necessarily correlate, thus the degree of correction of ions has to be evaluated on individual datasets."
   ]
  },
  {
   "cell_type": "code",
   "execution_count": null,
   "id": "0bfac9d0",
   "metadata": {
    "execution": {
     "iopub.execute_input": "2023-01-12T16:20:34.536761Z",
     "iopub.status.busy": "2023-01-12T16:20:34.535790Z",
     "iopub.status.idle": "2023-01-12T16:20:34.543304Z",
     "shell.execute_reply": "2023-01-12T16:20:34.542379Z"
    },
    "papermill": {
     "duration": 0.142151,
     "end_time": "2023-01-12T16:20:34.545557",
     "exception": false,
     "start_time": "2023-01-12T16:20:34.403406",
     "status": "completed"
    },
    "tags": []
   },
   "outputs": [],
   "source": [
    "import src.evaluation\n",
    "from importlib import reload\n",
    "reload(src.evaluation)\n",
    "from src.evaluation import MetaboliteAnalysis"
   ]
  },
  {
   "cell_type": "code",
   "execution_count": null,
   "id": "fda398cb",
   "metadata": {
    "execution": {
     "iopub.execute_input": "2023-01-12T16:20:34.812300Z",
     "iopub.status.busy": "2023-01-12T16:20:34.811509Z",
     "iopub.status.idle": "2023-01-12T16:20:50.948436Z",
     "shell.execute_reply": "2023-01-12T16:20:50.947404Z"
    },
    "papermill": {
     "duration": 16.273799,
     "end_time": "2023-01-12T16:20:50.951107",
     "exception": false,
     "start_time": "2023-01-12T16:20:34.677308",
     "status": "completed"
    },
    "tags": []
   },
   "outputs": [],
   "source": [
    "ma_raw = MetaboliteAnalysis(adata=adata, adata_cor=adata_cor, condition_name = condition_name, \n",
    "                        obs_columns = ['list_TPO'],\n",
    "                        var_columns = ['corrected_only_using_pool', 'mean_correction_quantreg_slope', \n",
    "                                       'n_cells','median_intensity', 'mean_intensity', 'sum_correction_using_ion_pool'],\n",
    "                       use_raw = True)"
   ]
  },
  {
   "cell_type": "code",
   "execution_count": null,
   "id": "1e49ec7e",
   "metadata": {
    "execution": {
     "iopub.execute_input": "2023-01-12T16:20:51.218037Z",
     "iopub.status.busy": "2023-01-12T16:20:51.216943Z",
     "iopub.status.idle": "2023-01-12T16:21:01.374098Z",
     "shell.execute_reply": "2023-01-12T16:21:01.372856Z"
    },
    "papermill": {
     "duration": 10.296675,
     "end_time": "2023-01-12T16:21:01.381004",
     "exception": false,
     "start_time": "2023-01-12T16:20:51.084329",
     "status": "completed"
    },
    "tags": []
   },
   "outputs": [],
   "source": [
    "ma_raw.pair_plot(exclude_ref_corrected = False)"
   ]
  },
  {
   "cell_type": "code",
   "execution_count": null,
   "id": "8c5924f1",
   "metadata": {
    "execution": {
     "iopub.execute_input": "2023-01-12T16:21:01.667005Z",
     "iopub.status.busy": "2023-01-12T16:21:01.666564Z",
     "iopub.status.idle": "2023-01-12T16:21:02.435849Z",
     "shell.execute_reply": "2023-01-12T16:21:02.434802Z"
    },
    "papermill": {
     "duration": 0.914252,
     "end_time": "2023-01-12T16:21:02.438771",
     "exception": false,
     "start_time": "2023-01-12T16:21:01.524519",
     "status": "completed"
    },
    "tags": []
   },
   "outputs": [],
   "source": [
    "ma_raw.volcano_plot(exclude_ref_corrected = False)"
   ]
  },
  {
   "cell_type": "code",
   "execution_count": null,
   "id": "d6d1643b",
   "metadata": {
    "execution": {
     "iopub.execute_input": "2023-01-12T16:21:02.725880Z",
     "iopub.status.busy": "2023-01-12T16:21:02.725445Z",
     "iopub.status.idle": "2023-01-12T16:21:04.736376Z",
     "shell.execute_reply": "2023-01-12T16:21:04.735167Z"
    },
    "papermill": {
     "duration": 2.157852,
     "end_time": "2023-01-12T16:21:04.738769",
     "exception": false,
     "start_time": "2023-01-12T16:21:02.580917",
     "status": "completed"
    },
    "tags": []
   },
   "outputs": [],
   "source": [
    "sc.pl.rank_genes_groups_tracksplot(ma_raw.conc_adata, groupby='correction', dendrogram=False)"
   ]
  },
  {
   "cell_type": "code",
   "execution_count": null,
   "id": "fe32b44e-33a3-4f66-aef9-4f81dca07352",
   "metadata": {
    "execution": {
     "iopub.execute_input": "2023-01-12T16:21:05.027656Z",
     "iopub.status.busy": "2023-01-12T16:21:05.026664Z",
     "iopub.status.idle": "2023-01-12T16:21:05.053410Z",
     "shell.execute_reply": "2023-01-12T16:21:05.052343Z"
    },
    "papermill": {
     "duration": 0.173051,
     "end_time": "2023-01-12T16:21:05.055710",
     "exception": false,
     "start_time": "2023-01-12T16:21:04.882659",
     "status": "completed"
    },
    "tags": []
   },
   "outputs": [],
   "source": [
    "adata.obs['n_pixels'] = [i.count(';')+1 for i in adata.obs['list_TPO']]\n",
    "strat_cell_list = list(adata.obs.groupby('n_pixels', group_keys=False).apply(lambda x: x.sample(2)).index)[:6]"
   ]
  },
  {
   "cell_type": "code",
   "execution_count": null,
   "id": "89f99dcf",
   "metadata": {
    "execution": {
     "iopub.execute_input": "2023-01-12T16:21:05.344663Z",
     "iopub.status.busy": "2023-01-12T16:21:05.343835Z",
     "iopub.status.idle": "2023-01-12T16:22:08.065858Z",
     "shell.execute_reply": "2023-01-12T16:22:08.064725Z"
    },
    "papermill": {
     "duration": 62.868328,
     "end_time": "2023-01-12T16:22:08.068539",
     "exception": false,
     "start_time": "2023-01-12T16:21:05.200211",
     "status": "completed"
    },
    "tags": []
   },
   "outputs": [],
   "source": [
    "ma_raw.quotient_plot(show_cells=strat_cell_list)"
   ]
  },
  {
   "cell_type": "code",
   "execution_count": null,
   "id": "2aff6ed6",
   "metadata": {
    "execution": {
     "iopub.execute_input": "2023-01-12T16:22:08.375398Z",
     "iopub.status.busy": "2023-01-12T16:22:08.374253Z",
     "iopub.status.idle": "2023-01-12T16:22:29.457026Z",
     "shell.execute_reply": "2023-01-12T16:22:29.455901Z"
    },
    "papermill": {
     "duration": 21.238862,
     "end_time": "2023-01-12T16:22:29.460478",
     "exception": false,
     "start_time": "2023-01-12T16:22:08.221616",
     "status": "completed"
    },
    "tags": []
   },
   "outputs": [],
   "source": [
    "ma_raw.top_ion_plot(plot_method=sns.scatterplot, log=True)"
   ]
  },
  {
   "cell_type": "code",
   "execution_count": null,
   "id": "273e3f18",
   "metadata": {
    "execution": {
     "iopub.execute_input": "2023-01-12T16:22:29.798854Z",
     "iopub.status.busy": "2023-01-12T16:22:29.797880Z",
     "iopub.status.idle": "2023-01-12T16:23:15.862709Z",
     "shell.execute_reply": "2023-01-12T16:23:15.861652Z"
    },
    "papermill": {
     "duration": 46.240302,
     "end_time": "2023-01-12T16:23:15.865280",
     "exception": false,
     "start_time": "2023-01-12T16:22:29.624978",
     "status": "completed"
    },
    "tags": []
   },
   "outputs": [],
   "source": [
    "_ = ma_raw.save_matrix(save_to_path = analysis_path, safe_to_name = project, save_figures=6)"
   ]
  },
  {
   "cell_type": "markdown",
   "id": "8016a400",
   "metadata": {
    "papermill": {
     "duration": 0.171779,
     "end_time": "2023-01-12T16:23:16.210396",
     "exception": false,
     "start_time": "2023-01-12T16:23:16.038617",
     "status": "completed"
    },
    "tags": []
   },
   "source": [
    "The same analysis is then carried out for the normalized and log-transformed data: Here, the differences between uncorrected and ISM-corrected data are much more subtle. This corresponds better with the UMAPs further down, as they also show very little noticebly differences between uncorrected and ISM-corrected datasets."
   ]
  },
  {
   "cell_type": "code",
   "execution_count": null,
   "id": "b3e15b0a-b8b8-49ed-b9ca-1225c326fc48",
   "metadata": {
    "execution": {
     "iopub.execute_input": "2023-01-12T16:23:16.590265Z",
     "iopub.status.busy": "2023-01-12T16:23:16.589531Z",
     "iopub.status.idle": "2023-01-12T16:23:16.594731Z",
     "shell.execute_reply": "2023-01-12T16:23:16.593767Z"
    },
    "papermill": {
     "duration": 0.180525,
     "end_time": "2023-01-12T16:23:16.596884",
     "exception": false,
     "start_time": "2023-01-12T16:23:16.416359",
     "status": "completed"
    },
    "tags": []
   },
   "outputs": [],
   "source": [
    "adata.X = adata.layers['log_norm_counts']\n",
    "adata_cor.X = adata_cor.layers['log_norm_counts']"
   ]
  },
  {
   "cell_type": "code",
   "execution_count": null,
   "id": "24218fbd",
   "metadata": {
    "execution": {
     "iopub.execute_input": "2023-01-12T16:23:16.941974Z",
     "iopub.status.busy": "2023-01-12T16:23:16.940968Z",
     "iopub.status.idle": "2023-01-12T16:23:33.399254Z",
     "shell.execute_reply": "2023-01-12T16:23:33.398189Z"
    },
    "papermill": {
     "duration": 16.634321,
     "end_time": "2023-01-12T16:23:33.401991",
     "exception": false,
     "start_time": "2023-01-12T16:23:16.767670",
     "status": "completed"
    },
    "tags": []
   },
   "outputs": [],
   "source": [
    "ma = MetaboliteAnalysis(adata=adata, adata_cor=adata_cor, condition_name = condition_name, \n",
    "                        obs_columns = ['list_TPO'],\n",
    "                        var_columns = ['corrected_only_using_pool', 'mean_correction_quantreg_slope', \n",
    "                                       'n_cells','median_intensity', 'mean_intensity', 'sum_correction_using_ion_pool'],\n",
    "                       use_raw = False)"
   ]
  },
  {
   "cell_type": "code",
   "execution_count": null,
   "id": "67afef5f",
   "metadata": {
    "execution": {
     "iopub.execute_input": "2023-01-12T16:23:33.754374Z",
     "iopub.status.busy": "2023-01-12T16:23:33.753570Z",
     "iopub.status.idle": "2023-01-12T16:23:35.465851Z",
     "shell.execute_reply": "2023-01-12T16:23:35.464759Z"
    },
    "papermill": {
     "duration": 1.887661,
     "end_time": "2023-01-12T16:23:35.468097",
     "exception": false,
     "start_time": "2023-01-12T16:23:33.580436",
     "status": "completed"
    },
    "tags": []
   },
   "outputs": [],
   "source": [
    "sc.pl.rank_genes_groups_tracksplot(ma.conc_adata, groupby='correction', dendrogram=False)"
   ]
  },
  {
   "cell_type": "code",
   "execution_count": null,
   "id": "6f7237dc",
   "metadata": {
    "execution": {
     "iopub.execute_input": "2023-01-12T16:23:35.816619Z",
     "iopub.status.busy": "2023-01-12T16:23:35.816127Z",
     "iopub.status.idle": "2023-01-12T16:24:39.135948Z",
     "shell.execute_reply": "2023-01-12T16:24:39.134927Z"
    },
    "papermill": {
     "duration": 63.496047,
     "end_time": "2023-01-12T16:24:39.138160",
     "exception": false,
     "start_time": "2023-01-12T16:23:35.642113",
     "status": "completed"
    },
    "tags": []
   },
   "outputs": [],
   "source": [
    "ma.quotient_plot(show_cells=strat_cell_list)"
   ]
  },
  {
   "cell_type": "code",
   "execution_count": null,
   "id": "cbd05d67",
   "metadata": {
    "execution": {
     "iopub.execute_input": "2023-01-12T16:24:39.507785Z",
     "iopub.status.busy": "2023-01-12T16:24:39.507342Z",
     "iopub.status.idle": "2023-01-12T16:24:59.260719Z",
     "shell.execute_reply": "2023-01-12T16:24:59.259630Z"
    },
    "papermill": {
     "duration": 19.940323,
     "end_time": "2023-01-12T16:24:59.262966",
     "exception": false,
     "start_time": "2023-01-12T16:24:39.322643",
     "status": "completed"
    },
    "tags": []
   },
   "outputs": [],
   "source": [
    "ma.top_ion_plot()"
   ]
  },
  {
   "cell_type": "markdown",
   "id": "4d5e9efd-12a4-4462-86f7-ab4e7571dcd4",
   "metadata": {
    "papermill": {
     "duration": 0.189154,
     "end_time": "2023-01-12T16:24:59.642041",
     "exception": false,
     "start_time": "2023-01-12T16:24:59.452887",
     "status": "completed"
    },
    "tags": []
   },
   "source": [
    "The different degree of correction of metabolites could be reflected in the spatial distribution on the corresponding ion images. To this end, the ion images of each two metabolites with the highest (center column) and lowest (right column) correction slopes are shown in the following figure (from well G1, condition NStim). The corresponding dataset is available on [metaspace](https://metaspace2020.eu/annotations?ds=2022-01-27_17h48m39s&fdr=0.5&q=C7H5NO%20%7C%20C5H5N5O%20%7C%20C9H7NO%20%7C%20H5O7P2%20%7C%20C13H10N2%20%7C%20C9H7NO%20%7C%20C10H10N2O%20%7C%20C6H6O4&row=5).\n",
    "\n",
    "<p align=\"center\">\n",
    "  <img \n",
    "    style=\"display: block; \n",
    "           margin-left: auto;\n",
    "           margin-right: auto;\n",
    "           width: 70%;\" align=\"center\" width=\"800\" src=\"ion_images_seahorse.png\">\n",
    "</p>\n"
   ]
  },
  {
   "cell_type": "markdown",
   "id": "cb3e51ab",
   "metadata": {
    "papermill": {
     "duration": 0.189902,
     "end_time": "2023-01-12T16:25:00.023286",
     "exception": false,
     "start_time": "2023-01-12T16:24:59.833384",
     "status": "completed"
    },
    "tags": []
   },
   "source": [
    "## Comparison of the datasets\n",
    "\n",
    "In the following, the uncorrected and ISM-corrected datasets are compared using methods of a typical single-cell analysis."
   ]
  },
  {
   "cell_type": "code",
   "execution_count": null,
   "id": "c5e80faa",
   "metadata": {
    "execution": {
     "iopub.execute_input": "2023-01-12T16:25:00.403478Z",
     "iopub.status.busy": "2023-01-12T16:25:00.402844Z",
     "iopub.status.idle": "2023-01-12T16:25:07.489761Z",
     "shell.execute_reply": "2023-01-12T16:25:07.488698Z"
    },
    "papermill": {
     "duration": 7.279594,
     "end_time": "2023-01-12T16:25:07.492025",
     "exception": false,
     "start_time": "2023-01-12T16:25:00.212431",
     "status": "completed"
    },
    "tags": []
   },
   "outputs": [],
   "source": [
    "def dimred_pca(adata):\n",
    "    sc.pp.pca(adata)\n",
    "    sc.pl.pca_overview(adata, color=['well', condition_name], palette='cividis')\n",
    "\n",
    "dimred_pca(adata)\n",
    "dimred_pca(adata_cor)"
   ]
  },
  {
   "cell_type": "code",
   "execution_count": null,
   "id": "3299b320-6385-4b8d-a98c-3c0f87cfb795",
   "metadata": {
    "execution": {
     "iopub.execute_input": "2023-01-12T16:25:07.927411Z",
     "iopub.status.busy": "2023-01-12T16:25:07.926973Z",
     "iopub.status.idle": "2023-01-12T16:27:18.723837Z",
     "shell.execute_reply": "2023-01-12T16:27:18.722739Z"
    },
    "papermill": {
     "duration": 131.021835,
     "end_time": "2023-01-12T16:27:18.730788",
     "exception": false,
     "start_time": "2023-01-12T16:25:07.708953",
     "status": "completed"
    },
    "tags": []
   },
   "outputs": [],
   "source": [
    "dimred_umap(adata)\n",
    "dimred_umap(adata_cor)"
   ]
  },
  {
   "cell_type": "code",
   "execution_count": null,
   "id": "b43117af",
   "metadata": {
    "execution": {
     "iopub.execute_input": "2023-01-12T16:27:19.186968Z",
     "iopub.status.busy": "2023-01-12T16:27:19.186536Z",
     "iopub.status.idle": "2023-01-12T16:27:19.192298Z",
     "shell.execute_reply": "2023-01-12T16:27:19.191310Z"
    },
    "papermill": {
     "duration": 0.235788,
     "end_time": "2023-01-12T16:27:19.194416",
     "exception": false,
     "start_time": "2023-01-12T16:27:18.958628",
     "status": "completed"
    },
    "tags": []
   },
   "outputs": [],
   "source": [
    "# from sklearn.metrics.cluster import completeness_score\n",
    "# from sklearn.metrics import accuracy_score, silhouette_score\n",
    "# \n",
    "# def kmeans_clust(adata):\n",
    "#     n_clusters = len(adata.obs[condition_name].value_counts())\n",
    "#     kmeans = KMeans(n_clusters=n_clusters, random_state=0).fit(adata.X)\n",
    "#     adata.obs['kmeans'] = kmeans.labels_.astype(str)\n",
    "# \n",
    "#     sc.tl.leiden(adata, resolution=2)\n",
    "# \n",
    "#     leiden = np.array(adata.obs['leiden'].values)\n",
    "#     leiden_curated = np.copy(leiden)\n",
    "#     fc = np.array(adata.obs[condition_name].values)\n",
    "#     for cluster in np.unique(leiden):\n",
    "#         labels, counts = np.unique(fc[leiden == cluster], return_counts=True)\n",
    "#         leiden_curated[leiden == cluster] = str(labels[counts == np.max(counts)][0])\n",
    "#     adata.obs['leiden_curated'] = leiden_curated\n",
    "# \n",
    "#     sc.pl.umap(adata, color=['kmeans', 'leiden', 'leiden_curated', condition_name], palette='cividis')\n",
    "#     # print('Leiden acccuracy score: %1.4f' % accuracy_score(y_true = adata.obs[condition_name].replace(['HeLa', 'NIH3T3'], ['0', '1']), y_pred = adata.obs['leiden']))\n",
    "#     print('Curated leiden acccuracy score: %1.4f' % accuracy_score(y_true = adata.obs[condition_name], y_pred = adata.obs['leiden_curated']))\n",
    "#     print('KMeans completeness score: %1.4f' % completeness_score(adata.obs[condition_name], adata.obs['kmeans']))\n",
    "#     print('KMeans silhouette coefficient: %1.4f' % silhouette_score(adata.X, adata.obs['kmeans']))\n",
    "# \n",
    "# kmeans_clust(adata)\n",
    "# kmeans_clust(adata_cor)\n",
    "# "
   ]
  },
  {
   "cell_type": "code",
   "execution_count": null,
   "id": "adcb815e",
   "metadata": {
    "execution": {
     "iopub.execute_input": "2023-01-12T16:27:19.651219Z",
     "iopub.status.busy": "2023-01-12T16:27:19.650231Z",
     "iopub.status.idle": "2023-01-12T16:34:19.996572Z",
     "shell.execute_reply": "2023-01-12T16:34:19.995220Z"
    },
    "papermill": {
     "duration": 420.711207,
     "end_time": "2023-01-12T16:34:20.131970",
     "exception": false,
     "start_time": "2023-01-12T16:27:19.420763",
     "status": "completed"
    },
    "tags": []
   },
   "outputs": [],
   "source": [
    "summaries = intermixing({'uncorrected': adata, 'ISM correction': adata_cor}, condition_name = condition_name, measures = ['X_pca', 'X_umap'])"
   ]
  },
  {
   "cell_type": "code",
   "execution_count": null,
   "id": "87765314",
   "metadata": {
    "execution": {
     "iopub.execute_input": "2023-01-12T16:34:20.593143Z",
     "iopub.status.busy": "2023-01-12T16:34:20.591996Z",
     "iopub.status.idle": "2023-01-12T16:36:04.466213Z",
     "shell.execute_reply": "2023-01-12T16:36:04.465036Z"
    },
    "papermill": {
     "duration": 104.109086,
     "end_time": "2023-01-12T16:36:04.468538",
     "exception": false,
     "start_time": "2023-01-12T16:34:20.359452",
     "status": "completed"
    },
    "tags": []
   },
   "outputs": [],
   "source": [
    "s = intermixing(\n",
    "    adata_dict = {'uncorrected': adata, 'ISM correction': adata_cor},\n",
    "    condition_name = condition_name,\n",
    "    sample_frac=0.1,\n",
    "    measures =['X_umap', 'X_pca'],\n",
    "    n_datapoints = 50,\n",
    "    sample_log = True,\n",
    "    neighborhood_size = None,\n",
    "    normalized = False,\n",
    "    show_table = [],\n",
    "    n_jobs = multiprocessing.cpu_count()\n",
    ")"
   ]
  },
  {
   "cell_type": "code",
   "execution_count": null,
   "id": "a2751cd5",
   "metadata": {
    "execution": {
     "iopub.execute_input": "2023-01-12T16:36:04.923758Z",
     "iopub.status.busy": "2023-01-12T16:36:04.923292Z",
     "iopub.status.idle": "2023-01-12T16:36:04.931008Z",
     "shell.execute_reply": "2023-01-12T16:36:04.929964Z"
    },
    "papermill": {
     "duration": 0.23635,
     "end_time": "2023-01-12T16:36:04.933336",
     "exception": false,
     "start_time": "2023-01-12T16:36:04.696986",
     "status": "completed"
    },
    "tags": []
   },
   "outputs": [],
   "source": [
    "from scipy.integrate import trapz, simps\n",
    "\n",
    "def auc_intermixing(summary_dict):\n",
    "    for name, data in summary_dict.items():\n",
    "        print('Area under the curve for %s: %1.4f'%(name, trapz(data['mean'], data.index) / max(data.index)))\n",
    "\n",
    "\n",
    "auc_intermixing(s[1])"
   ]
  },
  {
   "cell_type": "code",
   "execution_count": null,
   "id": "6312ac2f-4b59-4276-b008-ca26be085067",
   "metadata": {
    "execution": {
     "iopub.execute_input": "2023-01-12T16:36:05.389987Z",
     "iopub.status.busy": "2023-01-12T16:36:05.389325Z",
     "iopub.status.idle": "2023-01-12T16:36:05.401549Z",
     "shell.execute_reply": "2023-01-12T16:36:05.400710Z"
    },
    "papermill": {
     "duration": 0.242108,
     "end_time": "2023-01-12T16:36:05.403733",
     "exception": false,
     "start_time": "2023-01-12T16:36:05.161625",
     "status": "completed"
    },
    "tags": []
   },
   "outputs": [],
   "source": [
    "from sklearn.svm import LinearSVC\n",
    "\n",
    "def analyse_svm_margin(adata, adata_cor, condition_name, layer=None):\n",
    "    print(layer)\n",
    "    if layer is not None:\n",
    "        adata.layers['default_X'] = adata.X\n",
    "        adata.X = adata.layers[layer]\n",
    "        adata_cor.layers['default_X'] = adata_cor.X\n",
    "        adata_cor.X = adata_cor.layers[layer]\n",
    "    \n",
    "    def get_svm_margin(adata, condition_name, size_factor = 1):\n",
    "        predictors = adata.X * size_factor\n",
    "        result = adata.obs[condition_name]\n",
    "        clf = LinearSVC(random_state=0, dual=False)\n",
    "        clf.fit(predictors, result)  \n",
    "        margin_df = pd.DataFrame({'condition': clf.classes_, 'margin': 1 / np.sqrt(np.sum(clf.coef_**2, axis=1))})\n",
    "\n",
    "        #print(margin_df)\n",
    "        return margin_df\n",
    "    \n",
    "    size_factor = np.sum(adata.X) / np.sum(adata_cor.X)\n",
    "\n",
    "    df = pd.merge(get_svm_margin(adata, condition_name), \n",
    "                  get_svm_margin(adata_cor, condition_name, size_factor = size_factor), \n",
    "                  on='condition', suffixes=['_uncorrected', '_ISM_corrected'])\n",
    "    sns.set(rc={\"figure.figsize\":(12, 5)})\n",
    "    sns.barplot(df.melt(id_vars='condition', var_name='correction', value_name='margin'), \n",
    "                x='condition', y='margin', hue='correction').set_title('Comparison of SVM margins for layer %s'%layer)\n",
    "    \n",
    "    \n",
    "    \n",
    "    if layer is not None:\n",
    "        adata.X = adata.layers['default_X']\n",
    "        adata_cor.X = adata_cor.layers['default_X']\n",
    "   "
   ]
  },
  {
   "cell_type": "code",
   "execution_count": null,
   "id": "c47b63a1-a480-45f7-a5aa-38e3766ab653",
   "metadata": {
    "execution": {
     "iopub.execute_input": "2023-01-12T16:36:05.862146Z",
     "iopub.status.busy": "2023-01-12T16:36:05.860948Z",
     "iopub.status.idle": "2023-01-12T16:36:20.827319Z",
     "shell.execute_reply": "2023-01-12T16:36:20.826220Z"
    },
    "papermill": {
     "duration": 15.198382,
     "end_time": "2023-01-12T16:36:20.829550",
     "exception": false,
     "start_time": "2023-01-12T16:36:05.631168",
     "status": "completed"
    },
    "tags": []
   },
   "outputs": [],
   "source": [
    "analyse_svm_margin(adata, adata_cor, condition_name, layer='log_norm_counts')"
   ]
  },
  {
   "cell_type": "code",
   "execution_count": null,
   "id": "64ba9f85-d381-4fe5-935f-d183dc865b1e",
   "metadata": {
    "execution": {
     "iopub.execute_input": "2023-01-12T16:36:21.291675Z",
     "iopub.status.busy": "2023-01-12T16:36:21.290939Z",
     "iopub.status.idle": "2023-01-12T16:36:26.150208Z",
     "shell.execute_reply": "2023-01-12T16:36:26.149104Z"
    },
    "papermill": {
     "duration": 5.090893,
     "end_time": "2023-01-12T16:36:26.152379",
     "exception": false,
     "start_time": "2023-01-12T16:36:21.061486",
     "status": "completed"
    },
    "tags": []
   },
   "outputs": [],
   "source": [
    "analyse_svm_margin(adata, adata_cor, condition_name, layer='1e4_log_norm_counts')"
   ]
  }
 ],
 "metadata": {
  "kernelspec": {
   "display_name": "“ion_suppression_new”",
   "language": "python",
   "name": "ion_suppression"
  },
  "language_info": {
   "codemirror_mode": {
    "name": "ipython",
    "version": 3
   },
   "file_extension": ".py",
   "mimetype": "text/x-python",
   "name": "python",
   "nbconvert_exporter": "python",
   "pygments_lexer": "ipython3",
   "version": "3.10.8"
  },
  "papermill": {
   "default_parameters": {},
   "duration": 3468.42446,
   "end_time": "2023-01-12T16:36:30.026599",
   "environment_variables": {},
   "exception": null,
   "input_path": "analysis/Mx_Seahorse/pipeline_03_evaluation.ipynb",
   "output_path": "analysis/Mx_Seahorse/pipeline_03_evaluation.ipynb",
   "parameters": {
    "analysis_path": "/home/mklein/FDA_project/analysis/Mx_Seahorse",
    "condition_name": "treatment",
    "notebooks": [
     "pipeline_01_correction.ipynb",
     "pipeline_02_processing.ipynb",
     "pipeline_03_evaluation.ipynb"
    ],
    "project": "Mx_Seahorse",
    "source_path": "/home/mklein/Raw Data/220412_Luisa_ScSeahorse_SpaceM",
    "target_path": "/home/mklein/FDA_project/data/Mx_Seahorse",
    "well_name": "rowcol"
   },
   "start_time": "2023-01-12T15:38:41.602139",
   "version": "2.3.4"
  },
  "vscode": {
   "interpreter": {
    "hash": "89b4449ee30f46b148fb6825d70934bcbb1ebdb6d5b2015fe3835362773c7289"
   }
  }
 },
 "nbformat": 4,
 "nbformat_minor": 5
}
