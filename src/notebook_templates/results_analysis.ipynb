{
 "cells": [
  {
   "cell_type": "markdown",
   "id": "2845e95f-4028-43f7-bdd2-80bb78726600",
   "metadata": {},
   "source": [
    "# Results analysis"
   ]
  },
  {
   "cell_type": "code",
   "execution_count": null,
   "id": "5c8ae00d-ae50-44b3-b3aa-f05b08ff107e",
   "metadata": {
    "papermill": {
     "duration": 3.607276,
     "end_time": "2023-01-14T14:40:12.943565",
     "exception": false,
     "start_time": "2023-01-14T14:40:09.336289",
     "status": "completed"
    },
    "tags": [
     "parameters"
    ]
   },
   "outputs": [],
   "source": [
    "import os\n",
    "import json\n",
    "import scanpy as sc\n",
    "import pandas as pd\n",
    "import numpy as np\n",
    "import anndata as ad\n",
    "import outer_spacem as osm\n",
    "import sys\n",
    "sys.path.append('/home/mklein/FDA_project')\n",
    "from src.ion_suppression import ISC\n",
    "from src import const\n",
    "from src import evaluation as ev\n",
    "\n",
    "\n",
    "%matplotlib inline\n",
    "# Default parameters"
   ]
  },
  {
   "cell_type": "code",
   "execution_count": null,
   "id": "b843ee52-8568-452b-ab3c-7267edbde6fe",
   "metadata": {},
   "outputs": [],
   "source": [
    "isc = ISC(config['runtime']['spacem_dataset_path'], config)"
   ]
  },
  {
   "cell_type": "markdown",
   "id": "f071ea9a-18b7-4509-b3d5-d611ba858a29",
   "metadata": {
    "papermill": {
     "duration": 0.215275,
     "end_time": "2023-01-14T14:40:13.207603",
     "exception": true,
     "start_time": "2023-01-14T14:40:12.992328",
     "status": "failed"
    },
    "tags": []
   },
   "source": [
    "## Dimensionality reduction"
   ]
  },
  {
   "cell_type": "code",
   "execution_count": null,
   "id": "e266f704-13c2-4975-bece-92545e382276",
   "metadata": {
    "papermill": {
     "duration": 2.108501,
     "end_time": "2023-01-14T01:45:10.370761",
     "exception": false,
     "start_time": "2023-01-14T01:45:08.262260",
     "status": "completed"
    },
    "tags": []
   },
   "outputs": [],
   "source": [
    "adata = ad.read(os.path.join(config['runtime']['out_folder'], config['output']['file_names']['generated_adata']))\n",
    "adata_cor = ad.read(os.path.join(config['runtime']['out_folder'], config['output']['file_names']['corrected_adata']))\n",
    "\n",
    "metadata = isc.get_spacem_metadata()\n",
    "\n",
    "def assign_conditions(adata):\n",
    "    index = adata.obs.index.name\n",
    "    \n",
    "    new_obs = adata.obs.reset_index()\n",
    "\n",
    "    new_obs = pd.merge(new_obs, metadata[[const.SAMPLE_COL, const.POPULATION_COL]],\n",
    "                       how='inner').set_index(index)\n",
    "\n",
    "    adata = adata[new_obs.index, :].copy()\n",
    "    adata.obs = new_obs\n",
    "    return adata\n",
    "\n",
    "adata = assign_conditions(adata)\n",
    "adata_cor = assign_conditions(adata_cor)"
   ]
  },
  {
   "cell_type": "code",
   "execution_count": null,
   "id": "c5b226bb-719c-48c7-9b54-8baa60b3330d",
   "metadata": {},
   "outputs": [],
   "source": [
    "pd.crosstab(adata.obs[const.SAMPLE_COL], adata.obs[const.POPULATION_COL], margins=True)"
   ]
  },
  {
   "cell_type": "code",
   "execution_count": null,
   "id": "220abc54-6764-4854-bc17-fb0fd622c64a",
   "metadata": {},
   "outputs": [],
   "source": [
    "included_molecules = adata.var_names.intersection(adata_cor.var_names)\n",
    "included_cells = adata.obs_names.intersection(adata_cor.obs_names)\n",
    "\n",
    "def subset_molecules(adata):\n",
    "\n",
    "    return adata[included_cells, included_molecules].copy()\n",
    "\n",
    "adata_shape = adata.shape\n",
    "adata_cor_shape = adata_cor.shape\n",
    "\n",
    "adata = subset_molecules(adata)\n",
    "adata_cor = subset_molecules(adata_cor)\n",
    "\n",
    "print('uncorrected set: %s -> %s'% (adata_shape, adata.shape))\n",
    "print('corrected set: %s -> %s'% (adata_cor_shape, adata_cor.shape))"
   ]
  },
  {
   "cell_type": "markdown",
   "id": "c83fb7c4-b7b7-40bd-8e24-8b93319a78c8",
   "metadata": {
    "papermill": {
     "duration": 0.014564,
     "end_time": "2023-01-14T01:45:11.163581",
     "exception": false,
     "start_time": "2023-01-14T01:45:11.149017",
     "status": "completed"
    },
    "tags": []
   },
   "source": [
    "First of all, the loaded datasets are filtered:\n",
    "\n",
    "- cells need non-zero intensities for at least 10 ions.\n",
    "- ions need non-zero intensities for at least 200 cells.\n",
    "\n",
    "After that, the sets are preprocessed in different ways:\n",
    "\n",
    "- intensties are normalized to TIC and/or log-transformed (log(x+1))\n",
    "\n",
    "After that, both datasets are subset to contain the same ions and cells (intersection)."
   ]
  },
  {
   "cell_type": "code",
   "execution_count": null,
   "id": "395bf612-b872-4692-87ee-9ba1b01d1c5c",
   "metadata": {
    "papermill": {
     "duration": 2.39483,
     "end_time": "2023-01-14T01:45:13.573252",
     "exception": false,
     "start_time": "2023-01-14T01:45:11.178422",
     "status": "completed"
    },
    "tags": []
   },
   "outputs": [],
   "source": [
    "def preprocess(adata):\n",
    "    \n",
    "    sc.pp.filter_cells(adata, min_genes=10)\n",
    "    sc.pp.filter_genes(adata, min_cells=200)\n",
    "    adata.raw = adata\n",
    "    adata.layers[\"raw_counts\"] = adata.X.copy()\n",
    "    # sc.pp.scale(adata)\n",
    "    adata.layers[\"norm_counts\"] = sc.pp.normalize_total(adata, layer='raw_counts', target_sum=None, inplace=False)['X']\n",
    "    adata.layers[\"1e4_norm_counts\"] = sc.pp.normalize_total(adata, layer='raw_counts', target_sum=1e4, inplace=False)['X']\n",
    "    adata.layers[\"log_norm_counts\"] = sc.pp.log1p(adata.layers[\"norm_counts\"], copy=True)\n",
    "    adata.layers[\"1e4_log_norm_counts\"] = sc.pp.log1p(adata.layers[\"1e4_norm_counts\"], copy=True)\n",
    "    adata.X = adata.layers[\"1e4_log_norm_counts\"]\n",
    "    \n",
    "    adata.var['median_intensity'] = np.median(adata.X, axis=0)\n",
    "    adata.var['mean_intensity'] = np.mean(adata.X, axis=0)\n",
    "    # adata_x = adata.X.copy()\n",
    "    # adata_x[adata_x == 0] = np.nan\n",
    "    # adata.var['median_intensity_nonzero'] = np.nanmedian(adata_x, axis=0)\n",
    "    \n",
    "    \n",
    "preprocess(adata)\n",
    "preprocess(adata_cor)\n",
    "\n",
    "print(adata.shape)\n",
    "print(adata_cor.shape)\n"
   ]
  },
  {
   "cell_type": "code",
   "execution_count": null,
   "id": "56a53c8d-ce55-47fc-89c2-7ad089213710",
   "metadata": {
    "papermill": {
     "duration": 0.02699,
     "end_time": "2023-01-14T01:45:13.616282",
     "exception": false,
     "start_time": "2023-01-14T01:45:13.589292",
     "status": "completed"
    },
    "tags": []
   },
   "outputs": [],
   "source": [
    "def dimred_umap(adata, layer=None, min_dist=0.5):\n",
    "    if layer is not None:\n",
    "        adata.layers['default_X'] = adata.X\n",
    "        adata.X = adata.layers[layer]\n",
    "    \n",
    "    sc.pp.pca(adata)\n",
    "    sc.pp.neighbors(adata, n_neighbors=50, metric='cosine')\n",
    "    sc.tl.umap(adata, min_dist=min_dist, spread=1.0, random_state=1, n_components=2)\n",
    "    sc.pl.umap(adata, color=[const.SAMPLE_COL, const.POPULATION_COL], palette='cividis')\n",
    "    f = osm.pl.highlight_scatterplot(\n",
    "        data = adata,\n",
    "        obsm_key = \"X_umap\",\n",
    "        hue = const.POPULATION_COL,\n",
    "        col = const.POPULATION_COL,\n",
    "        palette = \"cividis\",\n",
    "        trim_axes=True,\n",
    "        height = 5,\n",
    "        scatter_kwargs = dict(s=5)\n",
    "    )\n",
    "\n",
    "    f.add_legend(markerscale=3)\n",
    "    \n",
    "    if layer is not None:\n",
    "        adata.X = adata.layers['default_X']"
   ]
  },
  {
   "cell_type": "code",
   "execution_count": null,
   "id": "93b662d0-8e37-4cf6-9685-025bfada00b3",
   "metadata": {
    "papermill": {
     "duration": 0.025626,
     "end_time": "2023-01-14T01:45:13.656393",
     "exception": false,
     "start_time": "2023-01-14T01:45:13.630767",
     "status": "completed"
    },
    "tags": []
   },
   "outputs": [],
   "source": [
    "def intermixing_layer(adata, adata_cor, condition_name, measures = ['X_pca', 'X_umap'], layer=None):\n",
    "    if layer is not None:\n",
    "        adata.layers['default_X'] = adata.X\n",
    "        adata.X = adata.layers[layer]\n",
    "        adata_cor.layers['default_X'] = adata_cor.X\n",
    "        adata_cor.X = adata_cor.layers[layer]\n",
    "    \n",
    "    summaries = ev.intermixing({'uncorrected': adata, 'ISM correction': adata_cor}, condition_name = const.POPULATION_COL, measures = measures)\n",
    "    \n",
    "    if layer is not None:\n",
    "        adata.X = adata.layers['default_X']\n",
    "        adata_cor.X = adata_cor.layers['default_X']\n",
    "    \n",
    "    return\n",
    "    "
   ]
  },
  {
   "cell_type": "markdown",
   "id": "5a1b69c0-6b2c-42c2-bede-b5995027ec03",
   "metadata": {
    "papermill": {
     "duration": 0.015787,
     "end_time": "2023-01-14T01:45:13.688108",
     "exception": false,
     "start_time": "2023-01-14T01:45:13.672321",
     "status": "completed"
    },
    "tags": []
   },
   "source": [
    "The different options for scaling and transforming the data are shown in the following:\n",
    "\n",
    "1. TIC normalization and log transformation\n",
    "2. normalization to a fixed count (10^4) and log transformation\n",
    "\n",
    "The normalization to a fixed count has a slightly different effect than TIC normalization. The former normalizes all counts per cell to the given target sum so that all cells from the uncorrected and the corrected set are scaled to this count. In contrast, the latter retains the differences between the datasets by normalizing to the median count across cells in a dataset. Across modes of normalization, the corrected dataset shows a better separation visually and using the intermixing metric. However, this effect is very subtle after the data was log-transformed."
   ]
  },
  {
   "cell_type": "markdown",
   "id": "45ea128c-9792-44ae-ba68-7630b844ce7a",
   "metadata": {},
   "source": [
    "### Uncorrected dataset, normalized to TIC"
   ]
  },
  {
   "cell_type": "code",
   "execution_count": null,
   "id": "ab9ec8c5-6168-4897-bf14-aa72b6514bb9",
   "metadata": {
    "papermill": {
     "duration": 387.379685,
     "end_time": "2023-01-14T02:00:52.419144",
     "exception": false,
     "start_time": "2023-01-14T01:54:25.039459",
     "status": "completed"
    },
    "tags": []
   },
   "outputs": [],
   "source": [
    "dimred_umap(adata, layer='log_norm_counts')"
   ]
  },
  {
   "cell_type": "markdown",
   "id": "18620761-a2c4-437a-9860-b1fcf906e317",
   "metadata": {},
   "source": [
    "### Corrected dataset, normalized to TIC"
   ]
  },
  {
   "cell_type": "code",
   "execution_count": null,
   "id": "6fcc8c64-2cb7-4b8d-b32a-11d4457983fd",
   "metadata": {
    "papermill": {
     "duration": 387.379685,
     "end_time": "2023-01-14T02:00:52.419144",
     "exception": false,
     "start_time": "2023-01-14T01:54:25.039459",
     "status": "completed"
    },
    "tags": []
   },
   "outputs": [],
   "source": [
    "dimred_umap(adata_cor, layer='log_norm_counts')"
   ]
  },
  {
   "cell_type": "markdown",
   "id": "4a36cb9f-17e6-4c63-8027-f1511434f6e0",
   "metadata": {},
   "source": [
    "### Performance metrics, normalized to TIC"
   ]
  },
  {
   "cell_type": "code",
   "execution_count": null,
   "id": "a9d84c64-d038-4567-b2e2-f23c355221b5",
   "metadata": {
    "papermill": {
     "duration": 387.379685,
     "end_time": "2023-01-14T02:00:52.419144",
     "exception": false,
     "start_time": "2023-01-14T01:54:25.039459",
     "status": "completed"
    },
    "tags": []
   },
   "outputs": [],
   "source": [
    "intermixing_layer(adata, adata_cor, const.POPULATION_COL, measures = ['X_pca', 'X_umap'], layer='log_norm_counts')\n",
    "ev.analyse_svm_margin(adata, adata_cor, condition_name, layer='log_norm_counts')"
   ]
  },
  {
   "cell_type": "markdown",
   "id": "b381d4c0-dde3-498f-9227-a1d59e105b04",
   "metadata": {},
   "source": [
    "### Uncorrected dataset, normalized to a fixed count"
   ]
  },
  {
   "cell_type": "code",
   "execution_count": null,
   "id": "8ca208b5-19de-49b4-bc93-e3f6303262a4",
   "metadata": {
    "papermill": {
     "duration": 395.934565,
     "end_time": "2023-01-14T02:13:58.814270",
     "exception": false,
     "start_time": "2023-01-14T02:07:22.879705",
     "status": "completed"
    },
    "tags": []
   },
   "outputs": [],
   "source": [
    "dimred_umap(adata, layer='1e4_log_norm_counts')"
   ]
  },
  {
   "cell_type": "markdown",
   "id": "9c0d72fc-1b1f-4313-bd3d-9fa90bdec7b2",
   "metadata": {},
   "source": [
    "### Corrected dataset, normalized to a fixed count"
   ]
  },
  {
   "cell_type": "code",
   "execution_count": null,
   "id": "d822f082-596e-4733-b953-d458809876d8",
   "metadata": {
    "papermill": {
     "duration": 395.934565,
     "end_time": "2023-01-14T02:13:58.814270",
     "exception": false,
     "start_time": "2023-01-14T02:07:22.879705",
     "status": "completed"
    },
    "tags": []
   },
   "outputs": [],
   "source": [
    "dimred_umap(adata_cor, layer='1e4_log_norm_counts')"
   ]
  },
  {
   "cell_type": "markdown",
   "id": "d17dab2d-5a76-42ba-90a3-66ee99fe976b",
   "metadata": {},
   "source": [
    "### Performance metrics, normalized to a fixed count"
   ]
  },
  {
   "cell_type": "code",
   "execution_count": null,
   "id": "132aced0-fb87-4ba1-a10a-138d1d3d0a67",
   "metadata": {
    "papermill": {
     "duration": 395.934565,
     "end_time": "2023-01-14T02:13:58.814270",
     "exception": false,
     "start_time": "2023-01-14T02:07:22.879705",
     "status": "completed"
    },
    "tags": []
   },
   "outputs": [],
   "source": [
    "intermixing_layer(adata, adata_cor, const.POPULATION_COL, measures = ['X_pca', 'X_umap'], layer='1e4_log_norm_counts')\n",
    "analyse_svm_margin(adata, adata_cor, condition_name, layer='1e4_log_norm_counts')"
   ]
  }
 ],
 "metadata": {
  "kernelspec": {
   "display_name": "“ion_suppression_new”",
   "language": "python",
   "name": "ion_suppression"
  },
  "language_info": {
   "codemirror_mode": {
    "name": "ipython",
    "version": 3
   },
   "file_extension": ".py",
   "mimetype": "text/x-python",
   "name": "python",
   "nbconvert_exporter": "python",
   "pygments_lexer": "ipython3",
   "version": "3.10.8"
  }
 },
 "nbformat": 4,
 "nbformat_minor": 5
}
