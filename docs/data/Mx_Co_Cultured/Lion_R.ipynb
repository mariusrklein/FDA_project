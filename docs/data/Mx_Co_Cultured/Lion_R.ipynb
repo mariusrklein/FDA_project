{
 "cells": [
  {
   "cell_type": "code",
   "execution_count": null,
   "id": "096838c0-1f23-481e-8299-8253cd77a610",
   "metadata": {},
   "outputs": [],
   "source": [
    "library(tidyverse)\n",
    "library(bmetenrichr, lib.loc='/home/mklein/.conda/envs/ion_suppression/lib/R/library')\n",
    "library(pbapply, lib.loc='/home/mklein/.conda/envs/ion_suppression/lib/R/library')"
   ]
  },
  {
   "cell_type": "code",
   "execution_count": null,
   "id": "352ff517-7d4e-4c1b-a6bb-ceb27664ffc7",
   "metadata": {},
   "outputs": [],
   "source": [
    "scm = read_csv('/home/mklein/FDA_project/data/Mx_Co_Cultured/lion_table.csv')\n",
    "scm = column_to_rownames(scm, 'X1')\n",
    "cond = str_replace(colnames(scm), \"_.*\", \"\")\n",
    "annot = rownames(scm)"
   ]
  },
  {
   "cell_type": "code",
   "execution_count": null,
   "id": "8aebb675-8d9a-4904-9285-76305ac998ee",
   "metadata": {},
   "outputs": [],
   "source": [
    "scm"
   ]
  },
  {
   "cell_type": "code",
   "execution_count": null,
   "id": "4ede43cd-f293-4626-a105-637c56c98382",
   "metadata": {},
   "outputs": [],
   "source": [
    "myTestRun <-\n",
    "  initEnrichment(scmatrix = scm,\n",
    "                 annotations = annot,\n",
    "                 conditions = cond,\n",
    "                 condition.x = \"uncorrected\",\n",
    "                 condition.y = \"ISM correction\")\n",
    "myTestRun <- rankScore(myTestRun, ranking.by = 't.test')\n",
    "myTestRun <- calcEnrichment(myTestRun, n = 100)"
   ]
  },
  {
   "cell_type": "code",
   "execution_count": null,
   "id": "6e76067e-c03d-4596-9ead-b60acc47e257",
   "metadata": {},
   "outputs": [],
   "source": [
    "plotEnrichment(myTestRun, min.annotations = 5, q.value.cutoff = .05, by.statistic = \"ES\")"
   ]
  }
 ],
 "metadata": {
  "kernelspec": {
   "display_name": "R",
   "language": "R",
   "name": "ir"
  },
  "language_info": {
   "codemirror_mode": "r",
   "file_extension": ".r",
   "mimetype": "text/x-r-source",
   "name": "R",
   "pygments_lexer": "r",
   "version": "4.1.0"
  }
 },
 "nbformat": 4,
 "nbformat_minor": 5
}
