{
 "cells": [
  {
   "cell_type": "markdown",
   "id": "d37149d3",
   "metadata": {
    "papermill": {
     "duration": 0.014421,
     "end_time": "2023-01-16T10:36:17.018078",
     "exception": false,
     "start_time": "2023-01-16T10:36:17.003657",
     "status": "completed"
    },
    "tags": []
   },
   "source": [
    "# Lx_Glioblastoma: Evaluation\n",
    "\n",
    "In this notebook, different measures are investigated to quantify the effect of correcting SpaceM ion intensity data for partial pixel-cell overlap.\n",
    "Moreover, The effects of the correction on different metabolites is visualized.\n",
    " "
   ]
  },
  {
   "cell_type": "code",
   "execution_count": null,
   "id": "f382d294",
   "metadata": {
    "papermill": {
     "duration": 6.637092,
     "end_time": "2023-01-16T10:36:23.669192",
     "exception": false,
     "start_time": "2023-01-16T10:36:17.032100",
     "status": "completed"
    },
    "tags": []
   },
   "outputs": [],
   "source": [
    "import platform\n",
    "import os\n",
    "import multiprocessing\n",
    "import numpy as np\n",
    "import pandas as pd\n",
    "import anndata as ad\n",
    "import scanpy as sc\n",
    "import seaborn as sns\n",
    "from sklearn.cluster import KMeans\n",
    "import re\n",
    "import outer_spacem as osm\n",
    "import sys\n",
    "sys.path.append('/home/mklein/spacem')\n",
    "sys.path.append('/Volumes/mklein/spacem')\n",
    "sys.path.append('/home/mklein/FDA_project')\n",
    "sys.path.append('/Volumes/mklein/FDA_project')\n",
    "from src.correction import *\n",
    "from src.evaluation import intermixing, MetaboliteAnalysis\n",
    "\n",
    "%matplotlib inline"
   ]
  },
  {
   "cell_type": "code",
   "execution_count": null,
   "id": "fb5b3d7c",
   "metadata": {
    "papermill": {
     "duration": 0.025544,
     "end_time": "2023-01-16T10:36:23.708668",
     "exception": false,
     "start_time": "2023-01-16T10:36:23.683124",
     "status": "completed"
    },
    "tags": [
     "injected-parameters"
    ]
   },
   "outputs": [],
   "source": [
    "# Parameters\n",
    "source_path = \"/g/alexandr/smenon/2022-07-13_Glioblastoma/processed_files\"\n",
    "target_path = \"/home/mklein/FDA_project/data/Lx_Glioblastoma\"\n",
    "condition_name = \"condition\"\n",
    "well_name = \"rowcol\"\n",
    "deconv_default_min_overlap = 0.3\n",
    "analysis_path = \"/home/mklein/FDA_project/analysis/Lx_Glioblastoma\"\n",
    "project = \"Lx_Glioblastoma\"\n"
   ]
  },
  {
   "cell_type": "markdown",
   "id": "2daeb48c",
   "metadata": {
    "papermill": {
     "duration": 0.016795,
     "end_time": "2023-01-16T10:36:23.739765",
     "exception": false,
     "start_time": "2023-01-16T10:36:23.722970",
     "status": "completed"
    },
    "tags": []
   },
   "source": [
    "Loading the uncorrected and ISM-corrected dataset from file. Additionally, loading the metadata CSV file to filter out excluded wells."
   ]
  },
  {
   "cell_type": "code",
   "execution_count": null,
   "id": "b1c0fdf4",
   "metadata": {
    "papermill": {
     "duration": 1.601659,
     "end_time": "2023-01-16T10:36:25.355643",
     "exception": false,
     "start_time": "2023-01-16T10:36:23.753984",
     "status": "completed"
    },
    "tags": []
   },
   "outputs": [],
   "source": [
    "adata = ad.read(os.path.join(target_path, \"gen_batch_sm_matrix.h5ad\"))\n",
    "adata_cor = ad.read(os.path.join(target_path, \"corrected_batch_sm_matrix.h5ad\"))"
   ]
  },
  {
   "cell_type": "code",
   "execution_count": null,
   "id": "5ca1d896",
   "metadata": {
    "papermill": {
     "duration": 0.234721,
     "end_time": "2023-01-16T10:36:25.604986",
     "exception": false,
     "start_time": "2023-01-16T10:36:25.370265",
     "status": "completed"
    },
    "tags": []
   },
   "outputs": [],
   "source": [
    "metadata_path = os.path.join(target_path, 'metadata.csv')\n",
    "samples = list(set(adata.obs['well']))\n",
    "\n",
    "if os.path.exists(metadata_path):\n",
    "    metadata = pd.read_csv(metadata_path)\n",
    "    if well_name not in metadata.columns:\n",
    "        metadata[well_name] = metadata['row'].astype(str) + metadata['col'].astype(str)\n",
    "    samples = list(metadata[well_name])\n",
    "\n",
    "def assign_conditions(adata):\n",
    "    index = adata.obs.index.name\n",
    "    new_obs = adata.obs.reset_index()\n",
    "    \n",
    "    new_obs = pd.merge(new_obs, metadata[[well_name, condition_name]], \n",
    "                       how='inner', left_on='well', right_on=well_name).set_index(index)\n",
    "    \n",
    "    adata = adata[new_obs.index, :].copy()\n",
    "    adata.obs = new_obs\n",
    "    if 'keep_conditions' in globals():\n",
    "        adata = adata[adata.obs[condition_name].isin(keep_conditions), :].copy()\n",
    "    return adata\n",
    "\n",
    "adata = assign_conditions(adata)\n",
    "adata_cor = assign_conditions(adata_cor)"
   ]
  },
  {
   "cell_type": "code",
   "execution_count": null,
   "id": "45f5c76a-64df-4142-a6a2-ed630f5e3d5d",
   "metadata": {
    "papermill": {
     "duration": 0.093517,
     "end_time": "2023-01-16T10:36:25.713269",
     "exception": false,
     "start_time": "2023-01-16T10:36:25.619752",
     "status": "completed"
    },
    "tags": []
   },
   "outputs": [],
   "source": [
    "pd.crosstab(adata.obs['well'], adata.obs[condition_name], margins=True)"
   ]
  },
  {
   "cell_type": "code",
   "execution_count": null,
   "id": "e7472baa-0ea9-42bf-a03c-23157f9b2565",
   "metadata": {
    "papermill": {
     "duration": 0.380743,
     "end_time": "2023-01-16T10:36:26.109144",
     "exception": false,
     "start_time": "2023-01-16T10:36:25.728401",
     "status": "completed"
    },
    "tags": []
   },
   "outputs": [],
   "source": [
    "included_molecules = adata.var_names.intersection(adata_cor.var_names)\n",
    "included_cells = adata.obs_names.intersection(adata_cor.obs_names)\n",
    "\n",
    "def subset_molecules(adata):\n",
    "    \n",
    "    return adata[included_cells, included_molecules].copy()\n",
    "\n",
    "adata = subset_molecules(adata)\n",
    "adata_cor = subset_molecules(adata_cor)\n",
    "\n",
    "print(adata.shape)\n",
    "print(adata_cor.shape)"
   ]
  },
  {
   "cell_type": "markdown",
   "id": "92d96c1c-5a08-4a40-b254-2f908704c07f",
   "metadata": {
    "papermill": {
     "duration": 0.014981,
     "end_time": "2023-01-16T10:36:26.139213",
     "exception": false,
     "start_time": "2023-01-16T10:36:26.124232",
     "status": "completed"
    },
    "tags": []
   },
   "source": [
    "First of all, the loaded datasets are filtered:\n",
    "\n",
    "- cells need non-zero intensities for at least 10 ions.\n",
    "- ions need non-zero intensities for at least 200 cells.\n",
    "\n",
    "After that, the sets are preprocessed in different ways:\n",
    "\n",
    "- intensties are normalized to TIC and/or log-transformed (log(x+1))\n",
    "\n",
    "After that, both datasets are subset to contain the same ions and cells (intersection)."
   ]
  },
  {
   "cell_type": "code",
   "execution_count": null,
   "id": "bc387599",
   "metadata": {
    "papermill": {
     "duration": 2.343997,
     "end_time": "2023-01-16T10:36:28.497229",
     "exception": false,
     "start_time": "2023-01-16T10:36:26.153232",
     "status": "completed"
    },
    "tags": []
   },
   "outputs": [],
   "source": [
    "def preprocess(adata):\n",
    "    \n",
    "    sc.pp.filter_cells(adata, min_genes=10)\n",
    "    sc.pp.filter_genes(adata, min_cells=200)\n",
    "    adata.raw = adata\n",
    "    adata.layers[\"raw_counts\"] = adata.X.copy()\n",
    "    # sc.pp.scale(adata)\n",
    "    adata.layers[\"norm_counts\"] = sc.pp.normalize_total(adata, layer='raw_counts', target_sum=None, inplace=False)['X']\n",
    "    adata.layers[\"1e4_norm_counts\"] = sc.pp.normalize_total(adata, layer='raw_counts', target_sum=1e4, inplace=False)['X']\n",
    "    \n",
    "    adata.layers[\"log_raw_counts\"] = sc.pp.log1p(adata.layers[\"raw_counts\"], copy=True)\n",
    "    adata.layers[\"log_norm_counts\"] = sc.pp.log1p(adata.layers[\"norm_counts\"], copy=True)\n",
    "    adata.layers[\"1e4_log_norm_counts\"] = sc.pp.log1p(adata.layers[\"1e4_norm_counts\"], copy=True)\n",
    "    adata.X = adata.layers[\"log_norm_counts\"]\n",
    "    \n",
    "    adata.var['median_intensity'] = np.median(adata.X, axis=0)\n",
    "    adata.var['mean_intensity'] = np.mean(adata.X, axis=0)\n",
    "    # adata_x = adata.X.copy()\n",
    "    # adata_x[adata_x == 0] = np.nan\n",
    "    # adata.var['median_intensity_nonzero'] = np.nanmedian(adata_x, axis=0)\n",
    "    \n",
    "    \n",
    "preprocess(adata)\n",
    "preprocess(adata_cor)\n",
    "\n",
    "print(adata.shape)\n",
    "print(adata_cor.shape)\n"
   ]
  },
  {
   "cell_type": "code",
   "execution_count": null,
   "id": "4f547432-c8b3-46fd-a2b9-0fc596e15542",
   "metadata": {
    "papermill": {
     "duration": 0.029572,
     "end_time": "2023-01-16T10:36:28.542214",
     "exception": false,
     "start_time": "2023-01-16T10:36:28.512642",
     "status": "completed"
    },
    "tags": []
   },
   "outputs": [],
   "source": [
    "def dimred_umap(adata, layer=None, min_dist=0.5, label=\"\"):\n",
    "    if layer is not None:\n",
    "        adata.layers['default_X'] = adata.X\n",
    "        adata.X = adata.layers[layer]\n",
    "    \n",
    "    sc.pp.pca(adata)\n",
    "    sc.pp.neighbors(adata, n_neighbors=50, metric='cosine')\n",
    "    sc.tl.umap(adata, min_dist=min_dist, spread=1.0, random_state=1, n_components=2)\n",
    "    # sc.pp.neighbors(adata, random_state=12345)\n",
    "    # sc.tl.umap(adata, random_state=12345)\n",
    "    sc.pl.umap(adata, color=['well', condition_name], palette='cividis', title=['well', label])\n",
    "    f = osm.pl.highlight_scatterplot(\n",
    "        data = adata,\n",
    "        obsm_key = \"X_umap\",\n",
    "        hue = condition_name,\n",
    "        col = condition_name,\n",
    "        palette = \"cividis\",\n",
    "        trim_axes=True,\n",
    "        height = 2.5,\n",
    "        scatter_kwargs = dict(s=5)\n",
    "    )\n",
    "\n",
    "    f.add_legend(markerscale=3)\n",
    "    \n",
    "    if layer is not None:\n",
    "        adata.X = adata.layers['default_X']"
   ]
  },
  {
   "cell_type": "code",
   "execution_count": null,
   "id": "09136aca-16d7-4304-bb27-0222bb4ff191",
   "metadata": {
    "papermill": {
     "duration": 0.027268,
     "end_time": "2023-01-16T10:36:28.584064",
     "exception": false,
     "start_time": "2023-01-16T10:36:28.556796",
     "status": "completed"
    },
    "tags": []
   },
   "outputs": [],
   "source": [
    "def intermixing_layer(adata, adata_cor, condition_name, measures = ['X_pca', 'X_umap'], layer=None):\n",
    "    if layer is not None:\n",
    "        adata.layers['default_X'] = adata.X\n",
    "        adata.X = adata.layers[layer]\n",
    "        adata_cor.layers['default_X'] = adata_cor.X\n",
    "        adata_cor.X = adata_cor.layers[layer]\n",
    "    \n",
    "    summaries = intermixing({'uncorrected': adata, 'ISM correction': adata_cor}, condition_name = condition_name, measures = measures)\n",
    "    \n",
    "    if layer is not None:\n",
    "        adata.X = adata.layers['default_X']\n",
    "        adata_cor.X = adata_cor.layers['default_X']\n",
    "    \n",
    "    return\n",
    "    "
   ]
  },
  {
   "cell_type": "markdown",
   "id": "f29e19fc-3c20-4a32-8a6c-e2e9ff03ee4f",
   "metadata": {
    "papermill": {
     "duration": 0.014709,
     "end_time": "2023-01-16T10:36:28.614494",
     "exception": false,
     "start_time": "2023-01-16T10:36:28.599785",
     "status": "completed"
    },
    "tags": []
   },
   "source": [
    "The different options for scaling and transforming the data are shown in the following:\n",
    "\n",
    "1. raw values\n",
    "2. log transformation\n",
    "3. TIC normalization\n",
    "4. TIC normalization and log transformation\n",
    "5. normalization to a fixed count (10^4)\n",
    "6. normalization to a fixed count (10^4) and log transformation\n",
    "\n",
    "The normalization to a fixed count has a slightly different effect than TIC normalization. The former normalizes all counts per cell to the given target sum so that all cells from the uncorrected and the corrected set are scaled to this count. In contrast, the latter retains the differences between the datasets by normalizing to the median count across cells in a dataset. Across modes of normalization, the corrected dataset shows a better separation visually and using the intermixing metric. However, this effect is very subtle after the data was log-transformed."
   ]
  },
  {
   "cell_type": "code",
   "execution_count": null,
   "id": "11cab416-3f63-48d1-b450-60ff01ce6408",
   "metadata": {
    "execution": {
     "iopub.execute_input": "2023-01-16T10:36:28.646228Z",
     "iopub.status.busy": "2023-01-16T10:36:28.645053Z",
     "iopub.status.idle": "2023-01-16T10:36:28.650807Z",
     "shell.execute_reply": "2023-01-16T10:36:28.649716Z"
    },
    "papermill": {
     "duration": 0.024654,
     "end_time": "2023-01-16T10:36:28.653225",
     "exception": false,
     "start_time": "2023-01-16T10:36:28.628571",
     "status": "completed"
    },
    "tags": []
   },
   "outputs": [],
   "source": [
    "# dimred_umap(adata, layer='raw_counts')\n",
    "# dimred_umap(adata_cor, layer='raw_counts')\n",
    "# intermixing_layer(adata, adata_cor, condition_name, measures = ['X_pca', 'X_umap'], layer='raw_counts')"
   ]
  },
  {
   "cell_type": "code",
   "execution_count": null,
   "id": "84360321-5121-4fe9-85de-caf779fd7da6",
   "metadata": {
    "execution": {
     "iopub.execute_input": "2023-01-16T10:36:28.684727Z",
     "iopub.status.busy": "2023-01-16T10:36:28.683763Z",
     "iopub.status.idle": "2023-01-16T10:36:28.689501Z",
     "shell.execute_reply": "2023-01-16T10:36:28.688364Z"
    },
    "papermill": {
     "duration": 0.024226,
     "end_time": "2023-01-16T10:36:28.692139",
     "exception": false,
     "start_time": "2023-01-16T10:36:28.667913",
     "status": "completed"
    },
    "tags": []
   },
   "outputs": [],
   "source": [
    "# dimred_umap(adata, layer='log_raw_counts')\n",
    "# dimred_umap(adata_cor, layer='log_raw_counts')\n",
    "# intermixing_layer(adata, adata_cor, condition_name, measures = ['X_pca', 'X_umap'], layer='log_raw_counts')"
   ]
  },
  {
   "cell_type": "code",
   "execution_count": null,
   "id": "922fd925-04d7-4b04-baf9-2680713b3656",
   "metadata": {
    "execution": {
     "iopub.execute_input": "2023-01-16T10:36:28.725163Z",
     "iopub.status.busy": "2023-01-16T10:36:28.724528Z",
     "iopub.status.idle": "2023-01-16T10:36:28.729621Z",
     "shell.execute_reply": "2023-01-16T10:36:28.728284Z"
    },
    "papermill": {
     "duration": 0.02318,
     "end_time": "2023-01-16T10:36:28.732188",
     "exception": false,
     "start_time": "2023-01-16T10:36:28.709008",
     "status": "completed"
    },
    "tags": []
   },
   "outputs": [],
   "source": [
    "# dimred_umap(adata, layer='norm_counts')\n",
    "# dimred_umap(adata_cor, layer='norm_counts')\n",
    "# intermixing_layer(adata, adata_cor, condition_name, measures = ['X_pca', 'X_umap'], layer='norm_counts')"
   ]
  },
  {
   "cell_type": "code",
   "execution_count": null,
   "id": "1195eae7-27f8-486f-a8c5-41cb41c6395e",
   "metadata": {
    "papermill": {
     "duration": 993.931458,
     "end_time": "2023-01-16T10:53:02.678731",
     "exception": false,
     "start_time": "2023-01-16T10:36:28.747273",
     "status": "completed"
    },
    "tags": []
   },
   "outputs": [],
   "source": [
    "dimred_umap(adata, layer='log_norm_counts', label=\"uncorrected\")\n",
    "dimred_umap(adata_cor, layer='log_norm_counts', label=\"ISM correction\")\n",
    "intermixing_layer(adata, adata_cor, condition_name, measures = ['X_pca', 'X_umap'], layer='log_norm_counts')"
   ]
  },
  {
   "cell_type": "code",
   "execution_count": null,
   "id": "9b037880-fc82-47f4-a577-1f3457c3a8d5",
   "metadata": {
    "execution": {
     "iopub.execute_input": "2023-01-16T10:53:02.779298Z",
     "iopub.status.busy": "2023-01-16T10:53:02.778876Z",
     "iopub.status.idle": "2023-01-16T10:53:02.784048Z",
     "shell.execute_reply": "2023-01-16T10:53:02.782820Z"
    },
    "papermill": {
     "duration": 0.057768,
     "end_time": "2023-01-16T10:53:02.786367",
     "exception": false,
     "start_time": "2023-01-16T10:53:02.728599",
     "status": "completed"
    },
    "tags": []
   },
   "outputs": [],
   "source": [
    "# dimred_umap(adata, layer='1e4_norm_counts')\n",
    "# dimred_umap(adata_cor, layer='1e4_norm_counts')\n",
    "# intermixing_layer(adata, adata_cor, condition_name, measures = ['X_pca', 'X_umap'], layer='1e4_norm_counts')"
   ]
  },
  {
   "cell_type": "code",
   "execution_count": null,
   "id": "c7512900-cb76-4690-9dd8-c23c20904766",
   "metadata": {
    "papermill": {
     "duration": 757.312012,
     "end_time": "2023-01-16T11:05:40.149192",
     "exception": false,
     "start_time": "2023-01-16T10:53:02.837180",
     "status": "completed"
    },
    "tags": []
   },
   "outputs": [],
   "source": [
    "dimred_umap(adata, layer='1e4_log_norm_counts', label=\"uncorrected\")\n",
    "dimred_umap(adata_cor, layer='1e4_log_norm_counts', label=\"ISM correction\")\n",
    "intermixing_layer(adata, adata_cor, condition_name, measures = ['X_pca', 'X_umap'], layer='1e4_log_norm_counts')"
   ]
  },
  {
   "cell_type": "markdown",
   "id": "52394704",
   "metadata": {
    "papermill": {
     "duration": 0.083759,
     "end_time": "2023-01-16T11:05:40.316891",
     "exception": false,
     "start_time": "2023-01-16T11:05:40.233132",
     "status": "completed"
    },
    "tags": []
   },
   "source": [
    "Before analysis, asserting that the two data files were deconvoluted in the same way. Specifically, the corrected dataframe cannot have non-zero values at positions where the uncorrected dataframe has zero values."
   ]
  },
  {
   "cell_type": "code",
   "execution_count": null,
   "id": "791b3a13",
   "metadata": {
    "execution": {
     "iopub.execute_input": "2023-01-16T11:05:40.486019Z",
     "iopub.status.busy": "2023-01-16T11:05:40.485493Z",
     "iopub.status.idle": "2023-01-16T11:05:41.476206Z",
     "shell.execute_reply": "2023-01-16T11:05:41.474930Z"
    },
    "papermill": {
     "duration": 1.077653,
     "end_time": "2023-01-16T11:05:41.479205",
     "exception": false,
     "start_time": "2023-01-16T11:05:40.401552",
     "status": "completed"
    },
    "tags": []
   },
   "outputs": [],
   "source": [
    "assert not any(pd.Series(np.array((adata.to_df() == 0) & (adata_cor.to_df()!= 0)).flatten()))"
   ]
  },
  {
   "cell_type": "code",
   "execution_count": null,
   "id": "0dcf4fc2",
   "metadata": {
    "execution": {
     "iopub.execute_input": "2023-01-16T11:05:41.648089Z",
     "iopub.status.busy": "2023-01-16T11:05:41.646992Z",
     "iopub.status.idle": "2023-01-16T11:05:41.654501Z",
     "shell.execute_reply": "2023-01-16T11:05:41.653436Z"
    },
    "papermill": {
     "duration": 0.094159,
     "end_time": "2023-01-16T11:05:41.657037",
     "exception": false,
     "start_time": "2023-01-16T11:05:41.562878",
     "status": "completed"
    },
    "tags": []
   },
   "outputs": [],
   "source": [
    "adata.obs['correction'] = 'uncorrected'\n",
    "adata_cor.obs['correction'] = 'ISM correction'"
   ]
  },
  {
   "cell_type": "markdown",
   "id": "430f23f9",
   "metadata": {
    "papermill": {
     "duration": 0.079997,
     "end_time": "2023-01-16T11:05:41.818757",
     "exception": false,
     "start_time": "2023-01-16T11:05:41.738760",
     "status": "completed"
    },
    "tags": []
   },
   "source": [
    "## Effects of the correction on different molecules\n",
    "\n",
    "The ISM correction is performed per ion on the logarithmized intensity / sampling proportion ratio. The underlying quantile regression can only be computed with a minimum number of datapoints. If an ion has less than 10 datapoints, the quantile regression is instead computed based on a reference pool of ions.\n",
    "In the following, the resulting slopes by which all ions have been corrected are visualized. Ions that were corrected using the reference pool are shown separately.\n",
    "\n",
    "**For simplicity, not all modes of preprocessing are investigated in theis step. Only the non-transformed raw counts and the TIC-normalized and log-transformed counts are included here.**\n"
   ]
  },
  {
   "cell_type": "code",
   "execution_count": null,
   "id": "b8fd32d4-d63b-474e-8ee4-d54a3bf60385",
   "metadata": {
    "papermill": {
     "duration": 0.869563,
     "end_time": "2023-01-16T11:05:42.771473",
     "exception": false,
     "start_time": "2023-01-16T11:05:41.901910",
     "status": "completed"
    },
    "tags": []
   },
   "outputs": [],
   "source": [
    "grid = sns.FacetGrid(adata_cor.var[['mean_correction_quantreg_slope', 'corrected_only_using_pool']], col='corrected_only_using_pool', hue='corrected_only_using_pool', sharey=False)\n",
    "grid.map(sns.histplot, 'mean_correction_quantreg_slope', bins=30)\n",
    "cor_pool = list(adata_cor.var[adata_cor.var['corrected_only_using_pool'] == True].index)\n",
    "adata_cor.var['corrected_only_using_pool'].value_counts()"
   ]
  },
  {
   "cell_type": "code",
   "execution_count": null,
   "id": "39e796d3-568c-40d7-8ed4-c2adfc0f53a7",
   "metadata": {
    "papermill": {
     "duration": 0.869563,
     "end_time": "2023-01-16T11:05:42.771473",
     "exception": false,
     "start_time": "2023-01-16T11:05:41.901910",
     "status": "completed"
    },
    "tags": []
   },
   "outputs": [],
   "source": [
    "def median_iqr(data):\n",
    "    median = np.median(data)\n",
    "    # First quartile (Q1)\n",
    "    Q1 = np.percentile(data, 25, interpolation = 'midpoint')\n",
    "\n",
    "    # Third quartile (Q3)\n",
    "    Q3 = np.percentile(data, 75, interpolation = 'midpoint')\n",
    "\n",
    "    # Interquaritle range (IQR)\n",
    "    iqr = Q3 - Q1\n",
    "    \n",
    "    print(\"Median: %1.3f, (%1.4f)\"%(median, iqr))\n",
    "    \n",
    "    return median, iqr\n",
    "\n",
    "median_iqr(adata_cor.var['mean_correction_quantreg_slope'])"
   ]
  },
  {
   "cell_type": "markdown",
   "id": "8a25b9ae",
   "metadata": {
    "papermill": {
     "duration": 0.08195,
     "end_time": "2023-01-16T11:05:42.936464",
     "exception": false,
     "start_time": "2023-01-16T11:05:42.854514",
     "status": "completed"
    },
    "tags": []
   },
   "source": [
    "Based on the slopes of the correction but also the logfoldchanges between corrected and uncorrected cells, one can infer the extent of alteration of different metabolites in the correction. These measures not necessarily correlate, thus the degree of correction of ions has to be evaluated on individual datasets."
   ]
  },
  {
   "cell_type": "code",
   "execution_count": null,
   "id": "5a947dff",
   "metadata": {
    "execution": {
     "iopub.execute_input": "2023-01-16T11:05:43.103061Z",
     "iopub.status.busy": "2023-01-16T11:05:43.102206Z",
     "iopub.status.idle": "2023-01-16T11:05:43.112742Z",
     "shell.execute_reply": "2023-01-16T11:05:43.111689Z"
    },
    "papermill": {
     "duration": 0.095802,
     "end_time": "2023-01-16T11:05:43.115283",
     "exception": false,
     "start_time": "2023-01-16T11:05:43.019481",
     "status": "completed"
    },
    "tags": []
   },
   "outputs": [],
   "source": [
    "import src.evaluation\n",
    "from importlib import reload\n",
    "reload(src.evaluation)\n",
    "from src.evaluation import MetaboliteAnalysis"
   ]
  },
  {
   "cell_type": "code",
   "execution_count": null,
   "id": "fcf1f2b0",
   "metadata": {
    "execution": {
     "iopub.execute_input": "2023-01-16T11:05:43.281952Z",
     "iopub.status.busy": "2023-01-16T11:05:43.281473Z",
     "iopub.status.idle": "2023-01-16T11:06:15.799257Z",
     "shell.execute_reply": "2023-01-16T11:06:15.798208Z"
    },
    "papermill": {
     "duration": 32.603063,
     "end_time": "2023-01-16T11:06:15.802025",
     "exception": false,
     "start_time": "2023-01-16T11:05:43.198962",
     "status": "completed"
    },
    "tags": []
   },
   "outputs": [],
   "source": [
    "ma_raw = MetaboliteAnalysis(adata=adata, adata_cor=adata_cor, condition_name = condition_name, \n",
    "                        obs_columns = ['list_TPO'],\n",
    "                        var_columns = ['corrected_only_using_pool', 'mean_correction_quantreg_slope', \n",
    "                                       'n_cells','median_intensity', 'mean_intensity', 'sum_correction_using_ion_pool'],\n",
    "                       use_raw = True)"
   ]
  },
  {
   "cell_type": "code",
   "execution_count": null,
   "id": "37bbda08",
   "metadata": {
    "execution": {
     "iopub.execute_input": "2023-01-16T11:06:15.967940Z",
     "iopub.status.busy": "2023-01-16T11:06:15.967141Z",
     "iopub.status.idle": "2023-01-16T11:06:23.335421Z",
     "shell.execute_reply": "2023-01-16T11:06:23.334250Z"
    },
    "papermill": {
     "duration": 7.456756,
     "end_time": "2023-01-16T11:06:23.341653",
     "exception": false,
     "start_time": "2023-01-16T11:06:15.884897",
     "status": "completed"
    },
    "tags": []
   },
   "outputs": [],
   "source": [
    "ma_raw.pair_plot(exclude_ref_corrected = False)"
   ]
  },
  {
   "cell_type": "code",
   "execution_count": null,
   "id": "51ed6ab4-6832-477a-947b-6b6162c3b4fc",
   "metadata": {
    "execution": {
     "iopub.execute_input": "2023-01-16T11:06:23.521685Z",
     "iopub.status.busy": "2023-01-16T11:06:23.521043Z",
     "iopub.status.idle": "2023-01-16T11:06:27.606472Z",
     "shell.execute_reply": "2023-01-16T11:06:27.605401Z"
    },
    "papermill": {
     "duration": 4.178589,
     "end_time": "2023-01-16T11:06:27.610575",
     "exception": false,
     "start_time": "2023-01-16T11:06:23.431986",
     "status": "completed"
    },
    "tags": []
   },
   "outputs": [],
   "source": [
    "sns.pairplot(ma_raw.impact_ions_filtered[['scores', 'mean_correction_quantreg_slope', 'n_cells']], \n",
    "                         hue='mean_correction_quantreg_slope',\n",
    "                         vars=['scores', 'mean_correction_quantreg_slope', 'n_cells'],\n",
    "                         height=2, diag_kind=\"kde\", diag_kws={'hue': None, 'color':\"grey\"} \n",
    "                        )"
   ]
  },
  {
   "cell_type": "code",
   "execution_count": null,
   "id": "a8151c82",
   "metadata": {
    "execution": {
     "iopub.execute_input": "2023-01-16T11:06:27.799523Z",
     "iopub.status.busy": "2023-01-16T11:06:27.798302Z",
     "iopub.status.idle": "2023-01-16T11:06:28.641477Z",
     "shell.execute_reply": "2023-01-16T11:06:28.640373Z"
    },
    "papermill": {
     "duration": 0.940381,
     "end_time": "2023-01-16T11:06:28.644947",
     "exception": false,
     "start_time": "2023-01-16T11:06:27.704566",
     "status": "completed"
    },
    "tags": []
   },
   "outputs": [],
   "source": [
    "ma_raw.volcano_plot(exclude_ref_corrected = False)"
   ]
  },
  {
   "cell_type": "code",
   "execution_count": null,
   "id": "e684c390",
   "metadata": {
    "execution": {
     "iopub.execute_input": "2023-01-16T11:06:28.838762Z",
     "iopub.status.busy": "2023-01-16T11:06:28.837649Z",
     "iopub.status.idle": "2023-01-16T11:06:30.682149Z",
     "shell.execute_reply": "2023-01-16T11:06:30.681031Z"
    },
    "papermill": {
     "duration": 1.944418,
     "end_time": "2023-01-16T11:06:30.685599",
     "exception": false,
     "start_time": "2023-01-16T11:06:28.741181",
     "status": "completed"
    },
    "tags": []
   },
   "outputs": [],
   "source": [
    "sc.pl.rank_genes_groups_tracksplot(ma_raw.conc_adata, groupby='correction', dendrogram=False)"
   ]
  },
  {
   "cell_type": "code",
   "execution_count": null,
   "id": "e6d75f79-59d7-4db3-9cfb-45a879c76a7b",
   "metadata": {
    "execution": {
     "iopub.execute_input": "2023-01-16T11:06:30.883453Z",
     "iopub.status.busy": "2023-01-16T11:06:30.882319Z",
     "iopub.status.idle": "2023-01-16T11:06:30.929020Z",
     "shell.execute_reply": "2023-01-16T11:06:30.927822Z"
    },
    "papermill": {
     "duration": 0.146637,
     "end_time": "2023-01-16T11:06:30.931420",
     "exception": false,
     "start_time": "2023-01-16T11:06:30.784783",
     "status": "completed"
    },
    "tags": []
   },
   "outputs": [],
   "source": [
    "adata_cor.obs['n_pixels'] = [i.count(';')+1 for i in adata_cor.obs['list_TPO']]\n",
    "strat_cell_list = list(adata_cor.obs.groupby('n_pixels', group_keys=False).apply(lambda x: x.sample(1)).index)[:4]\n",
    "strat_cell_list"
   ]
  },
  {
   "cell_type": "markdown",
   "id": "e91352d2",
   "metadata": {
    "papermill": {
     "duration": 0.095322,
     "end_time": "2023-01-16T11:06:31.122318",
     "exception": false,
     "start_time": "2023-01-16T11:06:31.026996",
     "status": "completed"
    },
    "tags": []
   },
   "source": [
    "The following plot shows the metabolic profiles of sampled cell generated from 1 and increasing numbers of ablation marks. The first row has the uncorrected raw ion intensities, the second row the corrected raw ion intensities and the third row the correction ratio/quotient between the two ( $correction\\_ratio = \\frac{I_{corrected}}{I_{uncorrected}}$ ). Most ions have the same correction ratio in a given cells, some have a higher ratio (smaller slope, less ISM correction) and some have a lower ratio (steeper slope, stronger ISM correction). The distribution of ion-specific correction ratios in the same cells is shown, separately for self-corrected and pool-corrected ions, in density plots underneath the metabolic profiles. Black horizontal and vertical lines show the sampling proportion of all ablation marks that were combined to the respective cell. Especially from the density plots, it becomes obvious that the majority of ions have correction ratios that colocalize with the pixels' sampling ratios. This can be explained by the fact that most ions had a correction slope of ~-1, the pool-corrected ions had all the same slope close to -1. Thus, these ions are down-corrected by multiplying with ~1 times their sampling proportion. Since many ions seem to occur only in one of the underlying ablation marks, the distribution of correction ratios has prominent peaks and few values between them."
   ]
  },
  {
   "cell_type": "code",
   "execution_count": null,
   "id": "f5d978f2",
   "metadata": {
    "execution": {
     "iopub.execute_input": "2023-01-16T11:06:31.318319Z",
     "iopub.status.busy": "2023-01-16T11:06:31.317858Z",
     "iopub.status.idle": "2023-01-16T11:07:56.442598Z",
     "shell.execute_reply": "2023-01-16T11:07:56.441460Z"
    },
    "papermill": {
     "duration": 85.224839,
     "end_time": "2023-01-16T11:07:56.445177",
     "exception": false,
     "start_time": "2023-01-16T11:06:31.220338",
     "status": "completed"
    },
    "tags": []
   },
   "outputs": [],
   "source": [
    "ma_raw.quotient_plot(show_cells=strat_cell_list)"
   ]
  },
  {
   "cell_type": "code",
   "execution_count": null,
   "id": "924fcc71",
   "metadata": {
    "execution": {
     "iopub.execute_input": "2023-01-16T11:07:56.648579Z",
     "iopub.status.busy": "2023-01-16T11:07:56.647188Z",
     "iopub.status.idle": "2023-01-16T11:08:18.880383Z",
     "shell.execute_reply": "2023-01-16T11:08:18.879260Z"
    },
    "papermill": {
     "duration": 22.337965,
     "end_time": "2023-01-16T11:08:18.883611",
     "exception": false,
     "start_time": "2023-01-16T11:07:56.545646",
     "status": "completed"
    },
    "tags": []
   },
   "outputs": [],
   "source": [
    "ma_raw.top_ion_plot()"
   ]
  },
  {
   "cell_type": "code",
   "execution_count": null,
   "id": "9ab2a6a6",
   "metadata": {
    "execution": {
     "iopub.execute_input": "2023-01-16T11:08:19.105875Z",
     "iopub.status.busy": "2023-01-16T11:08:19.104944Z",
     "iopub.status.idle": "2023-01-16T11:09:24.691166Z",
     "shell.execute_reply": "2023-01-16T11:09:24.690065Z"
    },
    "papermill": {
     "duration": 65.701885,
     "end_time": "2023-01-16T11:09:24.693943",
     "exception": false,
     "start_time": "2023-01-16T11:08:18.992058",
     "status": "completed"
    },
    "tags": []
   },
   "outputs": [],
   "source": [
    "_ = ma_raw.save_matrix(save_to_path = analysis_path, safe_to_name = project, save_figures=6)"
   ]
  },
  {
   "cell_type": "markdown",
   "id": "6f57690a-8eea-4c15-8167-f7dc0e1847f5",
   "metadata": {
    "papermill": {
     "duration": 0.106824,
     "end_time": "2023-01-16T11:09:24.910002",
     "exception": false,
     "start_time": "2023-01-16T11:09:24.803178",
     "status": "completed"
    },
    "tags": []
   },
   "source": [
    "Analogous to the differential expression analysis in this notebook, the raw ion intensities of the uncorrected and corrected dataset can be loaded into Metenrichr, an R package by Martijn Molenaar (corresponding shiny app by Bishoy Wadie), to perform DEA and subsequent enrichment analysis for lipid ontology terms.\n",
    "\n",
    "For that, the following settings were used:\n",
    "\n",
    "- Polarization mode: Negative\n",
    "- DEA with wilcoxon test\n",
    "- Number of bootstraps: 100\n",
    "- Minimum number of annotations: 3\n",
    "- adjusted p-value cutoff: 0.05\n",
    "\n",
    "As the corrected dataset is compared to the uncorrected on, a positive enrichment corresponds to metabolites that have been increased/not changed in the correction and a negative enrichment to metabolites that have been decreased by ion suppression correction.\n",
    "\n",
    "<p align=\"center\">\n",
    "  <img \n",
    "    style=\"display: block; \n",
    "           margin-left: auto;\n",
    "           margin-right: auto;\n",
    "           width: 70%;\" align=\"center\" width=\"800\" src=\"metenrichr_LION_neg_wilcox_B100_A3_q0.05.png\">\n",
    "</p>"
   ]
  },
  {
   "cell_type": "markdown",
   "id": "3fc3f349",
   "metadata": {
    "papermill": {
     "duration": 0.108525,
     "end_time": "2023-01-16T11:09:25.128591",
     "exception": false,
     "start_time": "2023-01-16T11:09:25.020066",
     "status": "completed"
    },
    "tags": []
   },
   "source": [
    "The same analysis is then carried out for the TIC-corrected and log-transformed data: Here, the differences between uncorrected and ISM-corrected data are much more subtle. This corresponds better with the UMAPs further down, as they also show very little noticebly differences between uncorrected and ISM-corrected datasets."
   ]
  },
  {
   "cell_type": "code",
   "execution_count": null,
   "id": "278283c1-d1ca-45ad-9edd-147e5c251098",
   "metadata": {
    "execution": {
     "iopub.execute_input": "2023-01-16T11:09:25.347648Z",
     "iopub.status.busy": "2023-01-16T11:09:25.346852Z",
     "iopub.status.idle": "2023-01-16T11:09:25.353651Z",
     "shell.execute_reply": "2023-01-16T11:09:25.352132Z"
    },
    "papermill": {
     "duration": 0.11975,
     "end_time": "2023-01-16T11:09:25.356293",
     "exception": false,
     "start_time": "2023-01-16T11:09:25.236543",
     "status": "completed"
    },
    "tags": []
   },
   "outputs": [],
   "source": [
    "adata.X = adata.layers['log_norm_counts']\n",
    "adata_cor.X = adata_cor.layers['log_norm_counts']"
   ]
  },
  {
   "cell_type": "code",
   "execution_count": null,
   "id": "01e15ae3-c8fa-4f27-8cb7-1a5ba824f3ca",
   "metadata": {
    "execution": {
     "iopub.execute_input": "2023-01-16T11:09:25.581306Z",
     "iopub.status.busy": "2023-01-16T11:09:25.580740Z",
     "iopub.status.idle": "2023-01-16T11:09:57.525324Z",
     "shell.execute_reply": "2023-01-16T11:09:57.523477Z"
    },
    "papermill": {
     "duration": 32.058552,
     "end_time": "2023-01-16T11:09:57.528021",
     "exception": false,
     "start_time": "2023-01-16T11:09:25.469469",
     "status": "completed"
    },
    "tags": []
   },
   "outputs": [],
   "source": [
    "ma = MetaboliteAnalysis(adata=adata, adata_cor=adata_cor, condition_name = condition_name, \n",
    "                        obs_columns = ['list_TPO'],\n",
    "                        var_columns = ['corrected_only_using_pool', 'mean_correction_quantreg_slope', \n",
    "                                       'n_cells','median_intensity', 'mean_intensity', 'sum_correction_using_ion_pool'],\n",
    "                       use_raw = False)"
   ]
  },
  {
   "cell_type": "code",
   "execution_count": null,
   "id": "b869a0ee",
   "metadata": {
    "execution": {
     "iopub.execute_input": "2023-01-16T11:09:57.750515Z",
     "iopub.status.busy": "2023-01-16T11:09:57.750035Z",
     "iopub.status.idle": "2023-01-16T11:09:59.574677Z",
     "shell.execute_reply": "2023-01-16T11:09:59.573602Z"
    },
    "papermill": {
     "duration": 1.939018,
     "end_time": "2023-01-16T11:09:59.578050",
     "exception": false,
     "start_time": "2023-01-16T11:09:57.639032",
     "status": "completed"
    },
    "tags": []
   },
   "outputs": [],
   "source": [
    "sc.pl.rank_genes_groups_tracksplot(ma.conc_adata, groupby='correction', dendrogram=False)"
   ]
  },
  {
   "cell_type": "markdown",
   "id": "f4233e98",
   "metadata": {
    "papermill": {
     "duration": 0.111394,
     "end_time": "2023-01-16T11:09:59.801627",
     "exception": false,
     "start_time": "2023-01-16T11:09:59.690233",
     "status": "completed"
    },
    "tags": []
   },
   "source": [
    "After TIC normalization and log transformation, the distributions of correction ratios is moved and scaled down. Thus they do not co-localize with the pixels' sampling proportions anymore and differences between datasets are smaller than for the raw data."
   ]
  },
  {
   "cell_type": "code",
   "execution_count": null,
   "id": "371fd210",
   "metadata": {
    "execution": {
     "iopub.execute_input": "2023-01-16T11:10:00.025656Z",
     "iopub.status.busy": "2023-01-16T11:10:00.024811Z",
     "iopub.status.idle": "2023-01-16T11:11:40.862512Z",
     "shell.execute_reply": "2023-01-16T11:11:40.861393Z"
    },
    "papermill": {
     "duration": 100.953904,
     "end_time": "2023-01-16T11:11:40.865974",
     "exception": false,
     "start_time": "2023-01-16T11:09:59.912070",
     "status": "completed"
    },
    "tags": []
   },
   "outputs": [],
   "source": [
    "ma.quotient_plot(show_cells=strat_cell_list)"
   ]
  },
  {
   "cell_type": "code",
   "execution_count": null,
   "id": "dbd32d0c",
   "metadata": {
    "execution": {
     "iopub.execute_input": "2023-01-16T11:11:41.100302Z",
     "iopub.status.busy": "2023-01-16T11:11:41.099173Z",
     "iopub.status.idle": "2023-01-16T11:12:03.468823Z",
     "shell.execute_reply": "2023-01-16T11:12:03.467490Z"
    },
    "papermill": {
     "duration": 22.4861,
     "end_time": "2023-01-16T11:12:03.471501",
     "exception": false,
     "start_time": "2023-01-16T11:11:40.985401",
     "status": "completed"
    },
    "tags": []
   },
   "outputs": [],
   "source": [
    "ma.top_ion_plot()"
   ]
  },
  {
   "cell_type": "markdown",
   "id": "e0e0b37e-1d8f-4e4e-ab7d-7ee7761b245d",
   "metadata": {
    "papermill": {
     "duration": 0.117459,
     "end_time": "2023-01-16T11:12:03.711192",
     "exception": false,
     "start_time": "2023-01-16T11:12:03.593733",
     "status": "completed"
    },
    "tags": []
   },
   "source": [
    "The different degree of correction of metabolites could be reflected in the spatial distribution on the corresponding ion images. To this end, the ion images of each two metabolites with the highest (center column) and lowest (right column) correction slopes are shown in the following figure (from well H3, condition Naive_WT)). The corresponding dataset is available on [metaspace](https://metaspace2020.eu/annotations?db_id=658&grp=5727e852-e1dd-11e8-9d75-5fefa7059e48&ds=2022-07-16_08h56m51s&fdr=0.5&q=C24H48NO6P%20%7C%20C37H71O8P%20%7C%20C42H82NO8P%20%7C%20C41H80NO8P&row=4).\n",
    "\n",
    "<p align=\"center\">\n",
    "  <img \n",
    "    style=\"display: block; \n",
    "           margin-left: auto;\n",
    "           margin-right: auto;\n",
    "           width: 70%;\" align=\"center\" width=\"800\" src=\"ion_images_glioblastoma.png\">\n",
    "</p>\n"
   ]
  },
  {
   "cell_type": "markdown",
   "id": "02fb470e",
   "metadata": {
    "papermill": {
     "duration": 0.125361,
     "end_time": "2023-01-16T11:12:03.955138",
     "exception": false,
     "start_time": "2023-01-16T11:12:03.829777",
     "status": "completed"
    },
    "tags": []
   },
   "source": [
    "## Comparison of the datasets\n",
    "\n",
    "In the following, the uncorrected and ISM-corrected datasets are compared using methods of a typical single-cell analysis. Unless specified otherwise, the data was preprocessed using TOC normalization and log transformation."
   ]
  },
  {
   "cell_type": "code",
   "execution_count": null,
   "id": "dd8ac987",
   "metadata": {
    "execution": {
     "iopub.execute_input": "2023-01-16T11:12:04.201210Z",
     "iopub.status.busy": "2023-01-16T11:12:04.199999Z",
     "iopub.status.idle": "2023-01-16T11:12:12.391920Z",
     "shell.execute_reply": "2023-01-16T11:12:12.390776Z"
    },
    "papermill": {
     "duration": 8.318696,
     "end_time": "2023-01-16T11:12:12.394388",
     "exception": false,
     "start_time": "2023-01-16T11:12:04.075692",
     "status": "completed"
    },
    "tags": []
   },
   "outputs": [],
   "source": [
    "def dimred_pca(adata):\n",
    "    sc.pp.pca(adata)\n",
    "    sc.pl.pca_overview(adata, color=['well', condition_name], palette='cividis')\n",
    "\n",
    "dimred_pca(adata)\n",
    "dimred_pca(adata_cor)"
   ]
  },
  {
   "cell_type": "code",
   "execution_count": null,
   "id": "3e820a1f-e219-4b22-8e01-1d0182144673",
   "metadata": {
    "execution": {
     "iopub.execute_input": "2023-01-16T11:12:12.693039Z",
     "iopub.status.busy": "2023-01-16T11:12:12.691976Z",
     "iopub.status.idle": "2023-01-16T11:13:31.840195Z",
     "shell.execute_reply": "2023-01-16T11:13:31.839125Z"
    },
    "papermill": {
     "duration": 79.303029,
     "end_time": "2023-01-16T11:13:31.844648",
     "exception": false,
     "start_time": "2023-01-16T11:12:12.541619",
     "status": "completed"
    },
    "tags": []
   },
   "outputs": [],
   "source": [
    "dimred_umap(adata)\n",
    "dimred_umap(adata_cor)"
   ]
  },
  {
   "cell_type": "code",
   "execution_count": null,
   "id": "ca21cb71",
   "metadata": {
    "execution": {
     "iopub.execute_input": "2023-01-16T11:13:32.207555Z",
     "iopub.status.busy": "2023-01-16T11:13:32.206678Z",
     "iopub.status.idle": "2023-01-16T11:13:32.213904Z",
     "shell.execute_reply": "2023-01-16T11:13:32.212368Z"
    },
    "papermill": {
     "duration": 0.189254,
     "end_time": "2023-01-16T11:13:32.216261",
     "exception": false,
     "start_time": "2023-01-16T11:13:32.027007",
     "status": "completed"
    },
    "tags": []
   },
   "outputs": [],
   "source": [
    "# from sklearn.metrics.cluster import completeness_score\n",
    "# from sklearn.metrics import accuracy_score, silhouette_score\n",
    "# \n",
    "# def kmeans_clust(adata):\n",
    "#     n_clusters = len(adata.obs[condition_name].value_counts())\n",
    "#     kmeans = KMeans(n_clusters=n_clusters, random_state=0).fit(adata.X)\n",
    "#     adata.obs['kmeans'] = kmeans.labels_.astype(str)\n",
    "# \n",
    "#     sc.tl.leiden(adata, resolution=2)\n",
    "# \n",
    "#     leiden = np.array(adata.obs['leiden'].values)\n",
    "#     leiden_curated = np.copy(leiden)\n",
    "#     fc = np.array(adata.obs[condition_name].values)\n",
    "#     for cluster in np.unique(leiden):\n",
    "#         labels, counts = np.unique(fc[leiden == cluster], return_counts=True)\n",
    "#         leiden_curated[leiden == cluster] = str(labels[counts == np.max(counts)][0])\n",
    "#     adata.obs['leiden_curated'] = leiden_curated\n",
    "# \n",
    "#     sc.pl.umap(adata, color=['kmeans', 'leiden', 'leiden_curated', condition_name], palette='cividis')\n",
    "#     # print('Leiden acccuracy score: %1.4f' % accuracy_score(y_true = adata.obs[condition_name].replace(['HeLa', 'NIH3T3'], ['0', '1']), y_pred = adata.obs['leiden']))\n",
    "#     print('Curated leiden acccuracy score: %1.4f' % accuracy_score(y_true = adata.obs[condition_name], y_pred = adata.obs['leiden_curated']))\n",
    "#     print('KMeans completeness score: %1.4f' % completeness_score(adata.obs[condition_name], adata.obs['kmeans']))\n",
    "#     print('KMeans silhouette coefficient: %1.4f' % silhouette_score(adata.X, adata.obs['kmeans']))\n",
    "# \n",
    "# kmeans_clust(adata)\n",
    "# kmeans_clust(adata_cor)\n",
    "# "
   ]
  },
  {
   "cell_type": "code",
   "execution_count": null,
   "id": "0556e834",
   "metadata": {
    "execution": {
     "iopub.execute_input": "2023-01-16T11:13:32.571229Z",
     "iopub.status.busy": "2023-01-16T11:13:32.570419Z",
     "iopub.status.idle": "2023-01-16T11:28:15.494427Z",
     "shell.execute_reply": "2023-01-16T11:28:15.493378Z"
    },
    "papermill": {
     "duration": 883.17922,
     "end_time": "2023-01-16T11:28:15.573344",
     "exception": false,
     "start_time": "2023-01-16T11:13:32.394124",
     "status": "completed"
    },
    "tags": []
   },
   "outputs": [],
   "source": [
    "summaries = intermixing({'uncorrected': adata, 'ISM correction': adata_cor}, condition_name = condition_name, measures = ['X_pca', 'X_umap'])"
   ]
  },
  {
   "cell_type": "code",
   "execution_count": null,
   "id": "e95774c2",
   "metadata": {
    "execution": {
     "iopub.execute_input": "2023-01-16T11:28:15.947004Z",
     "iopub.status.busy": "2023-01-16T11:28:15.945908Z",
     "iopub.status.idle": "2023-01-16T11:32:02.319617Z",
     "shell.execute_reply": "2023-01-16T11:32:02.318456Z"
    },
    "papermill": {
     "duration": 226.559585,
     "end_time": "2023-01-16T11:32:02.322181",
     "exception": false,
     "start_time": "2023-01-16T11:28:15.762596",
     "status": "completed"
    },
    "tags": []
   },
   "outputs": [],
   "source": [
    "s = intermixing(\n",
    "    adata_dict = {'uncorrected': adata, 'ISM correction': adata_cor},\n",
    "    condition_name = condition_name,\n",
    "    sample_frac=0.1,\n",
    "    measures =['X_umap', 'X_pca'],\n",
    "    n_datapoints = 50,\n",
    "    sample_log = True,\n",
    "    neighborhood_size = None,\n",
    "    normalized = False,\n",
    "    show_table = [],\n",
    "    n_jobs = multiprocessing.cpu_count()\n",
    ")"
   ]
  },
  {
   "cell_type": "code",
   "execution_count": null,
   "id": "7a5f4d6b",
   "metadata": {
    "execution": {
     "iopub.execute_input": "2023-01-16T11:32:02.691028Z",
     "iopub.status.busy": "2023-01-16T11:32:02.689935Z",
     "iopub.status.idle": "2023-01-16T11:32:02.699434Z",
     "shell.execute_reply": "2023-01-16T11:32:02.698288Z"
    },
    "papermill": {
     "duration": 0.192125,
     "end_time": "2023-01-16T11:32:02.701798",
     "exception": false,
     "start_time": "2023-01-16T11:32:02.509673",
     "status": "completed"
    },
    "tags": []
   },
   "outputs": [],
   "source": [
    "from scipy.integrate import trapz, simps\n",
    "\n",
    "def auc_intermixing(summary_dict):\n",
    "    for name, data in summary_dict.items():\n",
    "        print('Area under the curve for %s: %1.4f'%(name, trapz(data['mean'], data.index) / max(data.index)))\n",
    "\n",
    "\n",
    "auc_intermixing(s[1])"
   ]
  },
  {
   "cell_type": "code",
   "execution_count": null,
   "id": "458acbc7",
   "metadata": {
    "papermill": {
     "duration": 0.196511,
     "end_time": "2023-01-16T11:32:03.081083",
     "exception": false,
     "start_time": "2023-01-16T11:32:02.884572",
     "status": "completed"
    },
    "tags": []
   },
   "outputs": [],
   "source": [
    "from sklearn.svm import LinearSVC\n",
    "\n",
    "def analyse_svm_margin(adata, adata_cor, condition_name, layer=None):\n",
    "    print(layer)\n",
    "    if layer is not None:\n",
    "        adata.layers['default_X'] = adata.X\n",
    "        adata.X = adata.layers[layer]\n",
    "        adata_cor.layers['default_X'] = adata_cor.X\n",
    "        adata_cor.X = adata_cor.layers[layer]\n",
    "    \n",
    "    def get_svm_margin(adata, condition_name, size_factor = 1):\n",
    "        predictors = adata.X * size_factor\n",
    "        result = adata.obs[condition_name]\n",
    "        clf = LinearSVC(random_state=0, dual=False)\n",
    "        clf.fit(predictors, result)  \n",
    "        margin_df = pd.DataFrame({'condition': clf.classes_, 'margin': 1 / np.sqrt(np.sum(clf.coef_**2, axis=1))})\n",
    "\n",
    "        #print(margin_df)\n",
    "        return margin_df\n",
    "    \n",
    "    size_factor = np.sum(adata.X) / np.sum(adata_cor.X)\n",
    "\n",
    "    df = pd.merge(get_svm_margin(adata, condition_name), \n",
    "                  get_svm_margin(adata_cor, condition_name, size_factor = size_factor), \n",
    "                  on='condition', suffixes=['_uncorrected', '_ISM_correction'])\n",
    "    sns.set(rc={\"figure.figsize\":(5, 5)})\n",
    "    sns.set_style(\"white\")\n",
    "    plt = sns.barplot(df.melt(id_vars='condition', var_name='correction', value_name='margin'), \n",
    "                x='condition', y='margin', hue='correction', \n",
    "               )\n",
    "    #plt.set_title('Comparison of SVM margins')\n",
    "    plt.set_xticklabels(labels = plt.get_xticklabels(), rotation=45, horizontalalignment='right')\n",
    "    \n",
    "    \n",
    "    if layer is not None:\n",
    "        adata.X = adata.layers['default_X']\n",
    "        adata_cor.X = adata_cor.layers['default_X']\n",
    "\n",
    "    return plt\n",
    "   "
   ]
  },
  {
   "cell_type": "code",
   "execution_count": null,
   "id": "1a71cc89-e9e0-4a25-ac6b-523538002a66",
   "metadata": {
    "papermill": {
     "duration": 127.182988,
     "end_time": "2023-01-16T11:34:10.443852",
     "exception": false,
     "start_time": "2023-01-16T11:32:03.260864",
     "status": "completed"
    },
    "tags": []
   },
   "outputs": [],
   "source": [
    "analyse_svm_margin(adata, adata_cor, condition_name, layer='1e4_log_norm_counts')"
   ]
  },
  {
   "cell_type": "code",
   "execution_count": null,
   "id": "3c231c87-2ca4-4e68-b03e-a422d6a60ee2",
   "metadata": {
    "papermill": {
     "duration": 44.601083,
     "end_time": "2023-01-16T11:34:55.234732",
     "exception": false,
     "start_time": "2023-01-16T11:34:10.633649",
     "status": "completed"
    },
    "tags": []
   },
   "outputs": [],
   "source": [
    "analyse_svm_margin(adata, adata_cor, condition_name, layer='log_norm_counts')"
   ]
  }
 ],
 "metadata": {
  "kernelspec": {
   "display_name": "“ion_suppression_new”",
   "language": "python",
   "name": "ion_suppression"
  },
  "language_info": {
   "codemirror_mode": {
    "name": "ipython",
    "version": 3
   },
   "file_extension": ".py",
   "mimetype": "text/x-python",
   "name": "python",
   "nbconvert_exporter": "python",
   "pygments_lexer": "ipython3",
   "version": "3.10.8"
  },
  "papermill": {
   "default_parameters": {},
   "duration": 3551.900409,
   "end_time": "2023-01-16T11:35:25.732883",
   "environment_variables": {},
   "exception": null,
   "input_path": "analysis/Lx_Glioblastoma/pipeline_03_evaluation.ipynb",
   "output_path": "analysis/Lx_Glioblastoma/pipeline_03_evaluation.ipynb",
   "parameters": {
    "analysis_path": "/home/mklein/FDA_project/analysis/Lx_Glioblastoma",
    "condition_name": "condition",
    "deconv_default_min_overlap": 0.3,
    "notebooks": [
     "pipeline_02_processing.ipynb",
     "pipeline_03_evaluation.ipynb"
    ],
    "project": "Lx_Glioblastoma",
    "source_path": "/g/alexandr/smenon/2022-07-13_Glioblastoma/processed_files",
    "target_path": "/home/mklein/FDA_project/data/Lx_Glioblastoma",
    "well_name": "rowcol"
   },
   "start_time": "2023-01-16T10:36:13.832474",
   "version": "2.3.4"
  },
  "vscode": {
   "interpreter": {
    "hash": "89b4449ee30f46b148fb6825d70934bcbb1ebdb6d5b2015fe3835362773c7289"
   }
  }
 },
 "nbformat": 4,
 "nbformat_minor": 5
}
