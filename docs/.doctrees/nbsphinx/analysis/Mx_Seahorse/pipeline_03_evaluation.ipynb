{
 "cells": [
  {
   "cell_type": "markdown",
   "id": "3dab55c6",
   "metadata": {
    "papermill": {
     "duration": 0.014157,
     "end_time": "2023-01-16T10:00:06.658929",
     "exception": false,
     "start_time": "2023-01-16T10:00:06.644772",
     "status": "completed"
    },
    "tags": []
   },
   "source": [
    "# Mx_Seahorse: Evaluation\n",
    "\n",
    "In this notebook, different measures are investigated to quantify the effect of correcting SpaceM ion intensity data for partial pixel-cell overlap.\n",
    "Moreover, The effects of the correction on different metabolites is visualized.\n",
    " "
   ]
  },
  {
   "cell_type": "code",
   "execution_count": null,
   "id": "b5221548",
   "metadata": {
    "papermill": {
     "duration": 11.523558,
     "end_time": "2023-01-16T10:00:18.195832",
     "exception": false,
     "start_time": "2023-01-16T10:00:06.672274",
     "status": "completed"
    },
    "tags": []
   },
   "outputs": [],
   "source": [
    "import platform\n",
    "import os\n",
    "import multiprocessing\n",
    "import numpy as np\n",
    "import pandas as pd\n",
    "import anndata as ad\n",
    "import scanpy as sc\n",
    "import seaborn as sns\n",
    "from sklearn.cluster import KMeans\n",
    "import re\n",
    "import outer_spacem as osm\n",
    "import sys\n",
    "sys.path.append('/home/mklein/spacem')\n",
    "sys.path.append('/Volumes/mklein/spacem')\n",
    "sys.path.append('/home/mklein/FDA_project')\n",
    "from src.correction import *\n",
    "from src.evaluation import intermixing, MetaboliteAnalysis\n",
    "\n",
    "%matplotlib inline"
   ]
  },
  {
   "cell_type": "code",
   "execution_count": null,
   "id": "c6afb38d",
   "metadata": {
    "papermill": {
     "duration": 0.024558,
     "end_time": "2023-01-16T10:00:18.233824",
     "exception": false,
     "start_time": "2023-01-16T10:00:18.209266",
     "status": "completed"
    },
    "tags": [
     "injected-parameters"
    ]
   },
   "outputs": [],
   "source": [
    "# Parameters\n",
    "source_path = \"/home/mklein/Raw Data/220412_Luisa_ScSeahorse_SpaceM\"\n",
    "target_path = \"/home/mklein/FDA_project/data/Mx_Seahorse\"\n",
    "condition_name = \"treatment\"\n",
    "well_name = \"rowcol\"\n",
    "analysis_path = \"/home/mklein/FDA_project/analysis/Mx_Seahorse\"\n",
    "notebooks = [\n",
    "    \"pipeline_01_correction.ipynb\",\n",
    "    \"pipeline_02_processing.ipynb\",\n",
    "    \"pipeline_03_evaluation.ipynb\",\n",
    "]\n",
    "project = \"Mx_Seahorse\"\n"
   ]
  },
  {
   "cell_type": "markdown",
   "id": "774e39e3",
   "metadata": {
    "papermill": {
     "duration": 0.01227,
     "end_time": "2023-01-16T10:00:18.259972",
     "exception": false,
     "start_time": "2023-01-16T10:00:18.247702",
     "status": "completed"
    },
    "tags": []
   },
   "source": [
    "Loading the uncorrected and ISM-corrected dataset from file. Additionally, loading the metadata CSV file to filter out excluded wells."
   ]
  },
  {
   "cell_type": "code",
   "execution_count": null,
   "id": "f0ab61c7",
   "metadata": {
    "papermill": {
     "duration": 1.773165,
     "end_time": "2023-01-16T10:00:20.045841",
     "exception": false,
     "start_time": "2023-01-16T10:00:18.272676",
     "status": "completed"
    },
    "tags": []
   },
   "outputs": [],
   "source": [
    "adata = ad.read(os.path.join(target_path, \"gen_batch_sm_matrix.h5ad\"))\n",
    "adata_cor = ad.read(os.path.join(target_path, \"corrected_batch_sm_matrix.h5ad\"))"
   ]
  },
  {
   "cell_type": "code",
   "execution_count": null,
   "id": "65c6dfb3-29d8-4066-a43c-45c05370a3a4",
   "metadata": {
    "papermill": {
     "duration": 0.254649,
     "end_time": "2023-01-16T10:00:20.315876",
     "exception": false,
     "start_time": "2023-01-16T10:00:20.061227",
     "status": "completed"
    },
    "tags": []
   },
   "outputs": [],
   "source": [
    "metadata_path = os.path.join(target_path, 'metadata.csv')\n",
    "samples = list(set(adata.obs['well']))\n",
    "\n",
    "if os.path.exists(metadata_path):\n",
    "    metadata = pd.read_csv(metadata_path)\n",
    "    if well_name not in metadata.columns:\n",
    "        metadata[well_name] = metadata['row'].astype(str) + metadata['col'].astype(str)\n",
    "    samples = list(metadata[well_name])\n",
    "\n",
    "def assign_conditions(adata):\n",
    "    index = adata.obs.index.name\n",
    "    new_obs = adata.obs.reset_index()\n",
    "    \n",
    "    new_obs = pd.merge(new_obs, metadata[[well_name, condition_name]], \n",
    "                       how='inner', left_on='well', right_on=well_name).set_index(index)\n",
    "    \n",
    "    adata = adata[new_obs.index, :].copy()\n",
    "    adata.obs = new_obs\n",
    "    if 'keep_conditions' in globals():\n",
    "        adata = adata[adata.obs[condition_name].isin(keep_conditions), :].copy()\n",
    "    return adata\n",
    "\n",
    "adata = assign_conditions(adata)\n",
    "adata_cor = assign_conditions(adata_cor)"
   ]
  },
  {
   "cell_type": "markdown",
   "id": "ba3da3e8-8cc7-44f4-9c57-6ffe10c540e9",
   "metadata": {
    "papermill": {
     "duration": 0.012702,
     "end_time": "2023-01-16T10:00:20.342334",
     "exception": false,
     "start_time": "2023-01-16T10:00:20.329632",
     "status": "completed"
    },
    "tags": []
   },
   "source": [
    "Some wells are excluded from the analysis for different reasons. The wells A3, G1 and J2 were excluded before as the exhibited batch effects. The wells E2, E3 and E4 have inconsistencies in the pixel-cell deconvolution."
   ]
  },
  {
   "cell_type": "code",
   "execution_count": null,
   "id": "175daf3d-e649-4f68-9384-62a9678d4548",
   "metadata": {
    "papermill": {
     "duration": 0.069595,
     "end_time": "2023-01-16T10:00:20.424640",
     "exception": false,
     "start_time": "2023-01-16T10:00:20.355045",
     "status": "completed"
    },
    "tags": []
   },
   "outputs": [],
   "source": [
    "# remove wells where deconvolution could not be reproduced.\n",
    "# adata = adata[~adata.obs['well'].isin(['E2', 'E3', 'E4'])]\n",
    "# adata_cor = adata_cor[~adata_cor.obs['well'].isin(['E2', 'E3', 'E4'])]\n",
    "adata = adata[~adata.obs['well'].isin(['A3', 'G1', 'J2', 'E2', 'E3', 'E4'])]\n",
    "adata_cor = adata_cor[~adata_cor.obs['well'].isin(['A3', 'G1', 'J2', 'E2', 'E3', 'E4'])]"
   ]
  },
  {
   "cell_type": "code",
   "execution_count": null,
   "id": "a2870c8b-83d3-4118-b441-bf2a5ced87ea",
   "metadata": {
    "papermill": {
     "duration": 0.085836,
     "end_time": "2023-01-16T10:00:20.524192",
     "exception": false,
     "start_time": "2023-01-16T10:00:20.438356",
     "status": "completed"
    },
    "tags": []
   },
   "outputs": [],
   "source": [
    "pd.crosstab(adata.obs['well'], adata.obs[condition_name], margins=True)"
   ]
  },
  {
   "cell_type": "code",
   "execution_count": null,
   "id": "f03b2187-b482-4638-a1ee-70caccff13af",
   "metadata": {
    "papermill": {
     "duration": 0.236615,
     "end_time": "2023-01-16T10:00:20.773982",
     "exception": false,
     "start_time": "2023-01-16T10:00:20.537367",
     "status": "completed"
    },
    "tags": []
   },
   "outputs": [],
   "source": [
    "included_molecules = adata.var_names.intersection(adata_cor.var_names)\n",
    "included_cells = adata.obs_names.intersection(adata_cor.obs_names)\n",
    "\n",
    "def subset_molecules(adata):\n",
    "    \n",
    "    return adata[included_cells, included_molecules].copy()\n",
    "\n",
    "adata = subset_molecules(adata)\n",
    "adata_cor = subset_molecules(adata_cor)\n",
    "\n",
    "print(adata.shape)\n",
    "print(adata_cor.shape)"
   ]
  },
  {
   "cell_type": "markdown",
   "id": "e79bc9e2",
   "metadata": {
    "papermill": {
     "duration": 0.013086,
     "end_time": "2023-01-16T10:00:20.800970",
     "exception": false,
     "start_time": "2023-01-16T10:00:20.787884",
     "status": "completed"
    },
    "tags": []
   },
   "source": [
    "First of all, the loaded datasets are filtered:\n",
    "\n",
    "- cells need non-zero intensities for at least 10 ions.\n",
    "- ions need non-zero intensities for at least 200 cells.\n",
    "\n",
    "After that, the sets are preprocessed in different ways:\n",
    "\n",
    "- intensties are normalized to TIC and/or log-transformed (log(x+1))\n",
    "\n",
    "After that, both datasets are subset to contain the same ions and cells (intersection)."
   ]
  },
  {
   "cell_type": "code",
   "execution_count": null,
   "id": "331d83ef",
   "metadata": {
    "papermill": {
     "duration": 1.456007,
     "end_time": "2023-01-16T10:00:22.270227",
     "exception": false,
     "start_time": "2023-01-16T10:00:20.814220",
     "status": "completed"
    },
    "tags": []
   },
   "outputs": [],
   "source": [
    "def preprocess(adata):\n",
    "    \n",
    "    sc.pp.filter_cells(adata, min_genes=10)\n",
    "    sc.pp.filter_genes(adata, min_cells=200)\n",
    "    adata.raw = adata\n",
    "    adata.layers[\"raw_counts\"] = adata.X.copy()\n",
    "    # sc.pp.scale(adata)\n",
    "    adata.layers[\"norm_counts\"] = sc.pp.normalize_total(adata, layer='raw_counts', target_sum=None, inplace=False)['X']\n",
    "    adata.layers[\"1e4_norm_counts\"] = sc.pp.normalize_total(adata, layer='raw_counts', target_sum=1e4, inplace=False)['X']\n",
    "    \n",
    "    adata.layers[\"log_raw_counts\"] = sc.pp.log1p(adata.layers[\"raw_counts\"], copy=True)\n",
    "    adata.layers[\"log_norm_counts\"] = sc.pp.log1p(adata.layers[\"norm_counts\"], copy=True)\n",
    "    adata.layers[\"1e4_log_norm_counts\"] = sc.pp.log1p(adata.layers[\"1e4_norm_counts\"], copy=True)\n",
    "    adata.X = adata.layers[\"log_norm_counts\"]\n",
    "    \n",
    "    adata.var['median_intensity'] = np.median(adata.X, axis=0)\n",
    "    adata.var['mean_intensity'] = np.mean(adata.X, axis=0)\n",
    "    # adata_x = adata.X.copy()\n",
    "    # adata_x[adata_x == 0] = np.nan\n",
    "    # adata.var['median_intensity_nonzero'] = np.nanmedian(adata_x, axis=0)\n",
    "    \n",
    "print(adata.shape)\n",
    "print(adata_cor.shape)\n",
    "\n",
    "preprocess(adata)\n",
    "preprocess(adata_cor)\n",
    "\n",
    "print(adata.shape)\n",
    "print(adata_cor.shape)\n"
   ]
  },
  {
   "cell_type": "code",
   "execution_count": null,
   "id": "de92eda2-4b90-4c2f-a48e-0b94f70eeebb",
   "metadata": {
    "papermill": {
     "duration": 0.02834,
     "end_time": "2023-01-16T10:00:22.313144",
     "exception": false,
     "start_time": "2023-01-16T10:00:22.284804",
     "status": "completed"
    },
    "tags": []
   },
   "outputs": [],
   "source": [
    "def dimred_umap(adata, layer=None, min_dist=0.5, label=\"\"):\n",
    "    if layer is not None:\n",
    "        adata.layers['default_X'] = adata.X\n",
    "        adata.X = adata.layers[layer]\n",
    "    \n",
    "    sc.pp.pca(adata)\n",
    "    sc.pp.neighbors(adata, n_neighbors=50, metric='cosine')\n",
    "    sc.tl.umap(adata, min_dist=min_dist, spread=1.0, random_state=1, n_components=2)\n",
    "    # sc.pp.neighbors(adata, random_state=12345)\n",
    "    # sc.tl.umap(adata, random_state=12345)\n",
    "    sc.pl.umap(adata, color=['well', condition_name], palette='cividis', title=['well', label])\n",
    "    f = osm.pl.highlight_scatterplot(\n",
    "        data = adata,\n",
    "        obsm_key = \"X_umap\",\n",
    "        hue = condition_name,\n",
    "        col = condition_name,\n",
    "        palette = \"cividis\",\n",
    "        trim_axes=True,\n",
    "        height = 3,\n",
    "        scatter_kwargs = dict(s=5)\n",
    "    )\n",
    "\n",
    "    f.add_legend(markerscale=3)\n",
    "    \n",
    "    if layer is not None:\n",
    "        adata.X = adata.layers['default_X']"
   ]
  },
  {
   "cell_type": "code",
   "execution_count": null,
   "id": "dd7ffd30-dd25-4619-b736-dcbf37b6f32a",
   "metadata": {
    "execution": {
     "iopub.execute_input": "2023-01-16T10:00:22.342050Z",
     "iopub.status.busy": "2023-01-16T10:00:22.340994Z",
     "iopub.status.idle": "2023-01-16T10:00:22.349816Z",
     "shell.execute_reply": "2023-01-16T10:00:22.347703Z"
    },
    "papermill": {
     "duration": 0.02596,
     "end_time": "2023-01-16T10:00:22.352334",
     "exception": false,
     "start_time": "2023-01-16T10:00:22.326374",
     "status": "completed"
    },
    "tags": []
   },
   "outputs": [],
   "source": [
    "def intermixing_layer(adata, adata_cor, condition_name, measures = ['X_pca', 'X_umap'], layer=None):\n",
    "    if layer is not None:\n",
    "        adata.layers['default_X'] = adata.X\n",
    "        adata.X = adata.layers[layer]\n",
    "        adata_cor.layers['default_X'] = adata_cor.X\n",
    "        adata_cor.X = adata_cor.layers[layer]\n",
    "    \n",
    "    summaries = intermixing({'uncorrected': adata, 'ISM correction': adata_cor}, condition_name = condition_name, measures = measures)\n",
    "    \n",
    "    if layer is not None:\n",
    "        adata.X = adata.layers['default_X']\n",
    "        adata_cor.X = adata_cor.layers['default_X']\n",
    "    \n",
    "    return\n",
    "    "
   ]
  },
  {
   "cell_type": "markdown",
   "id": "edbc6132-691a-47d0-ba30-9f5167785a5a",
   "metadata": {
    "papermill": {
     "duration": 0.013668,
     "end_time": "2023-01-16T10:00:22.379876",
     "exception": false,
     "start_time": "2023-01-16T10:00:22.366208",
     "status": "completed"
    },
    "tags": []
   },
   "source": [
    "The different options for scaling and transforming the data are shown in the following:\n",
    "\n",
    "1. raw values\n",
    "2. log transformation\n",
    "3. TIC normalization\n",
    "4. TIC normalization and log transformation\n",
    "5. normalization to a fixed count (10^4)\n",
    "6. normalization to a fixed count (10^4) and log transformation\n",
    "\n",
    "The normalization to a fixed count has a slightly different effect than TIC normalization. The former normalizes all counts per cell to the given target sum so that all cells from the uncorrected and the corrected set are scaled to this count. In contrast, the latter retains the differences between the datasets by normalizing to the median count across cells in a dataset. Across modes of normalization, the corrected dataset has better separation than the uncorrected one. The overall separation in the uncorrected set is much better after log transformation but the effect of the correction is large for all assessed proprocessing combinations."
   ]
  },
  {
   "cell_type": "code",
   "execution_count": null,
   "id": "89364f9e-ef5a-4baf-8544-1af50dc71535",
   "metadata": {
    "execution": {
     "iopub.execute_input": "2023-01-16T10:00:22.411068Z",
     "iopub.status.busy": "2023-01-16T10:00:22.409435Z",
     "iopub.status.idle": "2023-01-16T10:00:22.415924Z",
     "shell.execute_reply": "2023-01-16T10:00:22.414855Z"
    },
    "papermill": {
     "duration": 0.024328,
     "end_time": "2023-01-16T10:00:22.418612",
     "exception": false,
     "start_time": "2023-01-16T10:00:22.394284",
     "status": "completed"
    },
    "tags": []
   },
   "outputs": [],
   "source": [
    "# dimred_umap(adata, layer='log_raw_counts')\n",
    "# dimred_umap(adata_cor, layer='log_raw_counts')\n",
    "# intermixing_layer(adata, adata_cor, condition_name, measures = ['X_pca', 'X_umap'], layer='log_raw_counts')"
   ]
  },
  {
   "cell_type": "code",
   "execution_count": null,
   "id": "5ed32d32-7aeb-4961-83b1-0c75efaf3d2b",
   "metadata": {
    "execution": {
     "iopub.execute_input": "2023-01-16T10:00:22.449313Z",
     "iopub.status.busy": "2023-01-16T10:00:22.448017Z",
     "iopub.status.idle": "2023-01-16T10:00:22.453822Z",
     "shell.execute_reply": "2023-01-16T10:00:22.452788Z"
    },
    "papermill": {
     "duration": 0.022992,
     "end_time": "2023-01-16T10:00:22.456460",
     "exception": false,
     "start_time": "2023-01-16T10:00:22.433468",
     "status": "completed"
    },
    "tags": []
   },
   "outputs": [],
   "source": [
    "# dimred_umap(adata, layer='norm_counts')\n",
    "# dimred_umap(adata_cor, layer='norm_counts')\n",
    "# intermixing_layer(adata, adata_cor, condition_name, measures = ['X_pca', 'X_umap'], layer='norm_counts')"
   ]
  },
  {
   "cell_type": "code",
   "execution_count": null,
   "id": "600d223c-8b5f-4afa-bc2d-baa63d6d0a33",
   "metadata": {
    "execution": {
     "iopub.execute_input": "2023-01-16T10:00:22.485207Z",
     "iopub.status.busy": "2023-01-16T10:00:22.484781Z",
     "iopub.status.idle": "2023-01-16T10:16:08.752999Z",
     "shell.execute_reply": "2023-01-16T10:16:08.751876Z"
    },
    "papermill": {
     "duration": 946.286105,
     "end_time": "2023-01-16T10:16:08.756247",
     "exception": false,
     "start_time": "2023-01-16T10:00:22.470142",
     "status": "completed"
    },
    "tags": []
   },
   "outputs": [],
   "source": [
    "dimred_umap(adata, layer='log_norm_counts', label=\"uncorrected\")\n",
    "dimred_umap(adata_cor, layer='log_norm_counts', label='ISM correction')\n",
    "intermixing_layer(adata, adata_cor, condition_name, measures = ['X_pca', 'X_umap'], layer='log_norm_counts')"
   ]
  },
  {
   "cell_type": "code",
   "execution_count": null,
   "id": "3f05f118-3f19-40d1-a99a-ce341c59ea4f",
   "metadata": {
    "execution": {
     "iopub.execute_input": "2023-01-16T10:16:08.855778Z",
     "iopub.status.busy": "2023-01-16T10:16:08.855334Z",
     "iopub.status.idle": "2023-01-16T10:16:08.860515Z",
     "shell.execute_reply": "2023-01-16T10:16:08.859279Z"
    },
    "papermill": {
     "duration": 0.057067,
     "end_time": "2023-01-16T10:16:08.862922",
     "exception": false,
     "start_time": "2023-01-16T10:16:08.805855",
     "status": "completed"
    },
    "tags": []
   },
   "outputs": [],
   "source": [
    "# dimred_umap(adata, layer='1e4_norm_counts')\n",
    "# dimred_umap(adata_cor, layer='1e4_norm_counts')\n",
    "# intermixing_layer(adata, adata_cor, condition_name, measures = ['X_pca', 'X_umap'], layer='1e4_norm_counts')"
   ]
  },
  {
   "cell_type": "code",
   "execution_count": null,
   "id": "dac16865-a838-421d-85a9-8b179b4c9dd4",
   "metadata": {
    "execution": {
     "iopub.execute_input": "2023-01-16T10:16:08.964432Z",
     "iopub.status.busy": "2023-01-16T10:16:08.962800Z",
     "iopub.status.idle": "2023-01-16T10:27:53.925215Z",
     "shell.execute_reply": "2023-01-16T10:27:53.924065Z"
    },
    "papermill": {
     "duration": 705.015399,
     "end_time": "2023-01-16T10:27:53.928688",
     "exception": false,
     "start_time": "2023-01-16T10:16:08.913289",
     "status": "completed"
    },
    "tags": []
   },
   "outputs": [],
   "source": [
    "dimred_umap(adata, layer='1e4_log_norm_counts', label=\"uncorrected\")\n",
    "dimred_umap(adata_cor, layer='1e4_log_norm_counts', label=\"ISM correction\")\n",
    "intermixing_layer(adata, adata_cor, condition_name, measures = ['X_pca', 'X_umap'], layer='1e4_log_norm_counts')"
   ]
  },
  {
   "cell_type": "markdown",
   "id": "331d66f2",
   "metadata": {
    "papermill": {
     "duration": 0.079916,
     "end_time": "2023-01-16T10:27:54.089139",
     "exception": false,
     "start_time": "2023-01-16T10:27:54.009223",
     "status": "completed"
    },
    "tags": []
   },
   "source": [
    "Before analysis, I am asserting that the two data files were deconvoluted in the same way. Specifically, the corrected dataframe cannot have non-zero values at positions where the uncorrected dataframe has zero values."
   ]
  },
  {
   "cell_type": "code",
   "execution_count": null,
   "id": "fa006a4c",
   "metadata": {
    "execution": {
     "iopub.execute_input": "2023-01-16T10:27:54.251300Z",
     "iopub.status.busy": "2023-01-16T10:27:54.250513Z",
     "iopub.status.idle": "2023-01-16T10:27:54.762070Z",
     "shell.execute_reply": "2023-01-16T10:27:54.760984Z"
    },
    "papermill": {
     "duration": 0.595216,
     "end_time": "2023-01-16T10:27:54.764933",
     "exception": false,
     "start_time": "2023-01-16T10:27:54.169717",
     "status": "completed"
    },
    "tags": []
   },
   "outputs": [],
   "source": [
    "assert not any(pd.Series(np.array((adata.to_df() == 0) & (adata_cor.to_df()!= 0)).flatten()))"
   ]
  },
  {
   "cell_type": "code",
   "execution_count": null,
   "id": "60bcaeb3",
   "metadata": {
    "execution": {
     "iopub.execute_input": "2023-01-16T10:27:54.927004Z",
     "iopub.status.busy": "2023-01-16T10:27:54.926153Z",
     "iopub.status.idle": "2023-01-16T10:27:54.934330Z",
     "shell.execute_reply": "2023-01-16T10:27:54.933001Z"
    },
    "papermill": {
     "duration": 0.091377,
     "end_time": "2023-01-16T10:27:54.936989",
     "exception": false,
     "start_time": "2023-01-16T10:27:54.845612",
     "status": "completed"
    },
    "tags": []
   },
   "outputs": [],
   "source": [
    "adata.obs['correction'] = 'uncorrected'\n",
    "adata_cor.obs['correction'] = 'ISM correction'"
   ]
  },
  {
   "cell_type": "markdown",
   "id": "f046d047",
   "metadata": {
    "papermill": {
     "duration": 0.078905,
     "end_time": "2023-01-16T10:27:55.096036",
     "exception": false,
     "start_time": "2023-01-16T10:27:55.017131",
     "status": "completed"
    },
    "tags": []
   },
   "source": [
    "## Effects of the correction on different molecules\n",
    "\n",
    "The ISM correction is performed per ion on the logarithmized intensity / sampling proportion ratio. The underlying quantile regression can only be computed with a minimum number of datapoints. If an ion has less than 10 datapoints, the quantile regression is instead computed based on a reference pool of ions.\n",
    "In the following, the resulting slopes by which all ions have been corrected are visualized. Ions that were corrected using the reference pool are shown separately.\n",
    "\n",
    "**For simplicity, not all modes of preprocessing are investigated in theis step. Only the non-transformed raw counts and the TIC-normalized and log-transformed counts are included here.**\n"
   ]
  },
  {
   "cell_type": "code",
   "execution_count": null,
   "id": "a73b7c68",
   "metadata": {
    "execution": {
     "iopub.execute_input": "2023-01-16T10:27:55.256372Z",
     "iopub.status.busy": "2023-01-16T10:27:55.254967Z",
     "iopub.status.idle": "2023-01-16T10:27:56.412960Z",
     "shell.execute_reply": "2023-01-16T10:27:56.411544Z"
    },
    "papermill": {
     "duration": 1.239387,
     "end_time": "2023-01-16T10:27:56.415391",
     "exception": false,
     "start_time": "2023-01-16T10:27:55.176004",
     "status": "completed"
    },
    "tags": []
   },
   "outputs": [],
   "source": [
    "grid = sns.FacetGrid(adata_cor.var[['mean_correction_quantreg_slope', 'corrected_only_using_pool']], col='corrected_only_using_pool', hue='corrected_only_using_pool', sharey=False)\n",
    "grid.map(sns.histplot, 'mean_correction_quantreg_slope', bins=30)\n",
    "cor_pool = list(adata_cor.var[adata_cor.var['corrected_only_using_pool'] == True].index)\n",
    "adata_cor.var['corrected_only_using_pool'].value_counts()"
   ]
  },
  {
   "cell_type": "code",
   "execution_count": null,
   "id": "c919acea-9724-4fa9-9356-839669a32790",
   "metadata": {
    "papermill": {
     "duration": 0.869563,
     "end_time": "2023-01-16T11:05:42.771473",
     "exception": false,
     "start_time": "2023-01-16T11:05:41.901910",
     "status": "completed"
    },
    "tags": []
   },
   "outputs": [],
   "source": [
    "def median_iqr(data):\n",
    "    median = np.median(data)\n",
    "    # First quartile (Q1)\n",
    "    Q1 = np.percentile(data, 25, interpolation = 'midpoint')\n",
    "\n",
    "    # Third quartile (Q3)\n",
    "    Q3 = np.percentile(data, 75, interpolation = 'midpoint')\n",
    "\n",
    "    # Interquaritle range (IQR)\n",
    "    iqr = Q3 - Q1\n",
    "    \n",
    "    print(\"Median: %1.3f, (%1.4f)\"%(median, iqr))\n",
    "    \n",
    "    return median, iqr\n",
    "\n",
    "median_iqr(adata_cor.var['mean_correction_quantreg_slope'])"
   ]
  },
  {
   "cell_type": "markdown",
   "id": "32ba9de3",
   "metadata": {
    "papermill": {
     "duration": 0.079741,
     "end_time": "2023-01-16T10:27:56.574878",
     "exception": false,
     "start_time": "2023-01-16T10:27:56.495137",
     "status": "completed"
    },
    "tags": []
   },
   "source": [
    "Based on the slopes of the correction but also the logfoldchanges between corrected and uncorrected cells, one can infer the extent of alteration of different metabolites in the correction. These measures not necessarily correlate, thus the degree of correction of ions has to be evaluated on individual datasets."
   ]
  },
  {
   "cell_type": "code",
   "execution_count": null,
   "id": "0bfac9d0",
   "metadata": {
    "execution": {
     "iopub.execute_input": "2023-01-16T10:27:56.735417Z",
     "iopub.status.busy": "2023-01-16T10:27:56.734986Z",
     "iopub.status.idle": "2023-01-16T10:27:56.829276Z",
     "shell.execute_reply": "2023-01-16T10:27:56.827454Z"
    },
    "papermill": {
     "duration": 0.176598,
     "end_time": "2023-01-16T10:27:56.832023",
     "exception": false,
     "start_time": "2023-01-16T10:27:56.655425",
     "status": "completed"
    },
    "tags": []
   },
   "outputs": [],
   "source": [
    "import src.evaluation\n",
    "from importlib import reload\n",
    "reload(src.evaluation)\n",
    "from src.evaluation import MetaboliteAnalysis"
   ]
  },
  {
   "cell_type": "code",
   "execution_count": null,
   "id": "fda398cb",
   "metadata": {
    "execution": {
     "iopub.execute_input": "2023-01-16T10:27:56.993999Z",
     "iopub.status.busy": "2023-01-16T10:27:56.993426Z",
     "iopub.status.idle": "2023-01-16T10:28:13.066153Z",
     "shell.execute_reply": "2023-01-16T10:28:13.064493Z"
    },
    "papermill": {
     "duration": 16.157188,
     "end_time": "2023-01-16T10:28:13.069102",
     "exception": false,
     "start_time": "2023-01-16T10:27:56.911914",
     "status": "completed"
    },
    "tags": []
   },
   "outputs": [],
   "source": [
    "ma_raw = MetaboliteAnalysis(adata=adata, adata_cor=adata_cor, condition_name = condition_name, \n",
    "                        obs_columns = ['list_TPO'],\n",
    "                        var_columns = ['corrected_only_using_pool', 'mean_correction_quantreg_slope', \n",
    "                                       'n_cells','median_intensity', 'mean_intensity', 'sum_correction_using_ion_pool'],\n",
    "                       use_raw = True)"
   ]
  },
  {
   "cell_type": "code",
   "execution_count": null,
   "id": "1e49ec7e",
   "metadata": {
    "execution": {
     "iopub.execute_input": "2023-01-16T10:28:13.230116Z",
     "iopub.status.busy": "2023-01-16T10:28:13.229052Z",
     "iopub.status.idle": "2023-01-16T10:28:19.844871Z",
     "shell.execute_reply": "2023-01-16T10:28:19.843688Z"
    },
    "papermill": {
     "duration": 6.702012,
     "end_time": "2023-01-16T10:28:19.850904",
     "exception": false,
     "start_time": "2023-01-16T10:28:13.148892",
     "status": "completed"
    },
    "tags": []
   },
   "outputs": [],
   "source": [
    "ma_raw.pair_plot(exclude_ref_corrected = False)"
   ]
  },
  {
   "cell_type": "code",
   "execution_count": null,
   "id": "8c5924f1",
   "metadata": {
    "execution": {
     "iopub.execute_input": "2023-01-16T10:28:20.024080Z",
     "iopub.status.busy": "2023-01-16T10:28:20.023200Z",
     "iopub.status.idle": "2023-01-16T10:28:20.822604Z",
     "shell.execute_reply": "2023-01-16T10:28:20.821493Z"
    },
    "papermill": {
     "duration": 0.888112,
     "end_time": "2023-01-16T10:28:20.825784",
     "exception": false,
     "start_time": "2023-01-16T10:28:19.937672",
     "status": "completed"
    },
    "tags": []
   },
   "outputs": [],
   "source": [
    "ma_raw.volcano_plot(exclude_ref_corrected = False)"
   ]
  },
  {
   "cell_type": "code",
   "execution_count": null,
   "id": "d6d1643b",
   "metadata": {
    "execution": {
     "iopub.execute_input": "2023-01-16T10:28:21.003738Z",
     "iopub.status.busy": "2023-01-16T10:28:21.003249Z",
     "iopub.status.idle": "2023-01-16T10:28:22.784435Z",
     "shell.execute_reply": "2023-01-16T10:28:22.783207Z"
    },
    "papermill": {
     "duration": 1.872549,
     "end_time": "2023-01-16T10:28:22.787307",
     "exception": false,
     "start_time": "2023-01-16T10:28:20.914758",
     "status": "completed"
    },
    "tags": []
   },
   "outputs": [],
   "source": [
    "sc.pl.rank_genes_groups_tracksplot(ma_raw.conc_adata, groupby='correction', dendrogram=False)"
   ]
  },
  {
   "cell_type": "code",
   "execution_count": null,
   "id": "fe32b44e-33a3-4f66-aef9-4f81dca07352",
   "metadata": {
    "execution": {
     "iopub.execute_input": "2023-01-16T10:28:22.983632Z",
     "iopub.status.busy": "2023-01-16T10:28:22.983185Z",
     "iopub.status.idle": "2023-01-16T10:28:23.014118Z",
     "shell.execute_reply": "2023-01-16T10:28:23.013084Z"
    },
    "papermill": {
     "duration": 0.126566,
     "end_time": "2023-01-16T10:28:23.016681",
     "exception": false,
     "start_time": "2023-01-16T10:28:22.890115",
     "status": "completed"
    },
    "tags": []
   },
   "outputs": [],
   "source": [
    "adata.obs['n_pixels'] = [i.count(';')+1 for i in adata.obs['list_TPO']]\n",
    "strat_cell_list = list(adata.obs.groupby('n_pixels', group_keys=False).apply(lambda x: x.sample(2)).index)[:6]"
   ]
  },
  {
   "cell_type": "code",
   "execution_count": null,
   "id": "89f99dcf",
   "metadata": {
    "execution": {
     "iopub.execute_input": "2023-01-16T10:28:23.199798Z",
     "iopub.status.busy": "2023-01-16T10:28:23.199344Z",
     "iopub.status.idle": "2023-01-16T10:29:32.380507Z",
     "shell.execute_reply": "2023-01-16T10:29:32.379421Z"
    },
    "papermill": {
     "duration": 69.277109,
     "end_time": "2023-01-16T10:29:32.384029",
     "exception": false,
     "start_time": "2023-01-16T10:28:23.106920",
     "status": "completed"
    },
    "tags": []
   },
   "outputs": [],
   "source": [
    "ma_raw.quotient_plot(show_cells=strat_cell_list)"
   ]
  },
  {
   "cell_type": "code",
   "execution_count": null,
   "id": "2aff6ed6",
   "metadata": {
    "execution": {
     "iopub.execute_input": "2023-01-16T10:29:32.576207Z",
     "iopub.status.busy": "2023-01-16T10:29:32.575351Z",
     "iopub.status.idle": "2023-01-16T10:29:54.499487Z",
     "shell.execute_reply": "2023-01-16T10:29:54.498405Z"
    },
    "papermill": {
     "duration": 22.024624,
     "end_time": "2023-01-16T10:29:54.503240",
     "exception": false,
     "start_time": "2023-01-16T10:29:32.478616",
     "status": "completed"
    },
    "tags": []
   },
   "outputs": [],
   "source": [
    "ma_raw.top_ion_plot(plot_method=sns.scatterplot, log=True)"
   ]
  },
  {
   "cell_type": "code",
   "execution_count": null,
   "id": "273e3f18",
   "metadata": {
    "execution": {
     "iopub.execute_input": "2023-01-16T10:29:54.723790Z",
     "iopub.status.busy": "2023-01-16T10:29:54.722638Z",
     "iopub.status.idle": "2023-01-16T10:30:40.068280Z",
     "shell.execute_reply": "2023-01-16T10:30:40.066728Z"
    },
    "papermill": {
     "duration": 45.459632,
     "end_time": "2023-01-16T10:30:40.071339",
     "exception": false,
     "start_time": "2023-01-16T10:29:54.611707",
     "status": "completed"
    },
    "tags": []
   },
   "outputs": [],
   "source": [
    "_ = ma_raw.save_matrix(save_to_path = analysis_path, safe_to_name = project, save_figures=6)"
   ]
  },
  {
   "cell_type": "markdown",
   "id": "8016a400",
   "metadata": {
    "papermill": {
     "duration": 0.105704,
     "end_time": "2023-01-16T10:30:40.284562",
     "exception": false,
     "start_time": "2023-01-16T10:30:40.178858",
     "status": "completed"
    },
    "tags": []
   },
   "source": [
    "The same analysis is then carried out for the normalized and log-transformed data: Here, the differences between uncorrected and ISM-corrected data are much more subtle. This corresponds better with the UMAPs further down, as they also show very little noticebly differences between uncorrected and ISM-corrected datasets."
   ]
  },
  {
   "cell_type": "code",
   "execution_count": null,
   "id": "b3e15b0a-b8b8-49ed-b9ca-1225c326fc48",
   "metadata": {
    "execution": {
     "iopub.execute_input": "2023-01-16T10:30:40.502735Z",
     "iopub.status.busy": "2023-01-16T10:30:40.501905Z",
     "iopub.status.idle": "2023-01-16T10:30:40.508074Z",
     "shell.execute_reply": "2023-01-16T10:30:40.506614Z"
    },
    "papermill": {
     "duration": 0.11874,
     "end_time": "2023-01-16T10:30:40.510860",
     "exception": false,
     "start_time": "2023-01-16T10:30:40.392120",
     "status": "completed"
    },
    "tags": []
   },
   "outputs": [],
   "source": [
    "adata.X = adata.layers['log_norm_counts']\n",
    "adata_cor.X = adata_cor.layers['log_norm_counts']"
   ]
  },
  {
   "cell_type": "code",
   "execution_count": null,
   "id": "24218fbd",
   "metadata": {
    "execution": {
     "iopub.execute_input": "2023-01-16T10:30:40.733660Z",
     "iopub.status.busy": "2023-01-16T10:30:40.733142Z",
     "iopub.status.idle": "2023-01-16T10:30:56.119833Z",
     "shell.execute_reply": "2023-01-16T10:30:56.117880Z"
    },
    "papermill": {
     "duration": 15.502536,
     "end_time": "2023-01-16T10:30:56.122652",
     "exception": false,
     "start_time": "2023-01-16T10:30:40.620116",
     "status": "completed"
    },
    "tags": []
   },
   "outputs": [],
   "source": [
    "ma = MetaboliteAnalysis(adata=adata, adata_cor=adata_cor, condition_name = condition_name, \n",
    "                        obs_columns = ['list_TPO'],\n",
    "                        var_columns = ['corrected_only_using_pool', 'mean_correction_quantreg_slope', \n",
    "                                       'n_cells','median_intensity', 'mean_intensity', 'sum_correction_using_ion_pool'],\n",
    "                       use_raw = False)"
   ]
  },
  {
   "cell_type": "code",
   "execution_count": null,
   "id": "67afef5f",
   "metadata": {
    "execution": {
     "iopub.execute_input": "2023-01-16T10:30:56.344911Z",
     "iopub.status.busy": "2023-01-16T10:30:56.344431Z",
     "iopub.status.idle": "2023-01-16T10:30:58.060411Z",
     "shell.execute_reply": "2023-01-16T10:30:58.059224Z"
    },
    "papermill": {
     "duration": 1.82874,
     "end_time": "2023-01-16T10:30:58.063125",
     "exception": false,
     "start_time": "2023-01-16T10:30:56.234385",
     "status": "completed"
    },
    "tags": []
   },
   "outputs": [],
   "source": [
    "sc.pl.rank_genes_groups_tracksplot(ma.conc_adata, groupby='correction', dendrogram=False)"
   ]
  },
  {
   "cell_type": "code",
   "execution_count": null,
   "id": "6f7237dc",
   "metadata": {
    "execution": {
     "iopub.execute_input": "2023-01-16T10:30:58.283436Z",
     "iopub.status.busy": "2023-01-16T10:30:58.282634Z",
     "iopub.status.idle": "2023-01-16T10:32:08.511616Z",
     "shell.execute_reply": "2023-01-16T10:32:08.510430Z"
    },
    "papermill": {
     "duration": 70.341135,
     "end_time": "2023-01-16T10:32:08.514509",
     "exception": false,
     "start_time": "2023-01-16T10:30:58.173374",
     "status": "completed"
    },
    "tags": []
   },
   "outputs": [],
   "source": [
    "ma.quotient_plot(show_cells=strat_cell_list)"
   ]
  },
  {
   "cell_type": "code",
   "execution_count": null,
   "id": "cbd05d67",
   "metadata": {
    "execution": {
     "iopub.execute_input": "2023-01-16T10:32:08.745245Z",
     "iopub.status.busy": "2023-01-16T10:32:08.744432Z",
     "iopub.status.idle": "2023-01-16T10:32:29.573540Z",
     "shell.execute_reply": "2023-01-16T10:32:29.572429Z"
    },
    "papermill": {
     "duration": 20.946982,
     "end_time": "2023-01-16T10:32:29.576118",
     "exception": false,
     "start_time": "2023-01-16T10:32:08.629136",
     "status": "completed"
    },
    "tags": []
   },
   "outputs": [],
   "source": [
    "ma.top_ion_plot()"
   ]
  },
  {
   "cell_type": "markdown",
   "id": "4d5e9efd-12a4-4462-86f7-ab4e7571dcd4",
   "metadata": {
    "papermill": {
     "duration": 0.118873,
     "end_time": "2023-01-16T10:32:29.817266",
     "exception": false,
     "start_time": "2023-01-16T10:32:29.698393",
     "status": "completed"
    },
    "tags": []
   },
   "source": [
    "The different degree of correction of metabolites could be reflected in the spatial distribution on the corresponding ion images. To this end, the ion images of each two metabolites with the highest (center column) and lowest (right column) correction slopes are shown in the following figure (from well G1, condition NStim). The corresponding dataset is available on [metaspace](https://metaspace2020.eu/annotations?ds=2022-01-27_17h48m39s&fdr=0.5&q=C7H5NO%20%7C%20C5H5N5O%20%7C%20C9H7NO%20%7C%20H5O7P2%20%7C%20C13H10N2%20%7C%20C9H7NO%20%7C%20C10H10N2O%20%7C%20C6H6O4&row=5).\n",
    "\n",
    "<p align=\"center\">\n",
    "  <img \n",
    "    style=\"display: block; \n",
    "           margin-left: auto;\n",
    "           margin-right: auto;\n",
    "           width: 70%;\" align=\"center\" width=\"800\" src=\"ion_images_seahorse.png\">\n",
    "</p>\n"
   ]
  },
  {
   "cell_type": "markdown",
   "id": "cb3e51ab",
   "metadata": {
    "papermill": {
     "duration": 0.11874,
     "end_time": "2023-01-16T10:32:30.055205",
     "exception": false,
     "start_time": "2023-01-16T10:32:29.936465",
     "status": "completed"
    },
    "tags": []
   },
   "source": [
    "## Comparison of the datasets\n",
    "\n",
    "In the following, the uncorrected and ISM-corrected datasets are compared using methods of a typical single-cell analysis."
   ]
  },
  {
   "cell_type": "code",
   "execution_count": null,
   "id": "c5e80faa",
   "metadata": {
    "execution": {
     "iopub.execute_input": "2023-01-16T10:32:30.295700Z",
     "iopub.status.busy": "2023-01-16T10:32:30.294555Z",
     "iopub.status.idle": "2023-01-16T10:32:36.389519Z",
     "shell.execute_reply": "2023-01-16T10:32:36.388358Z"
    },
    "papermill": {
     "duration": 6.217912,
     "end_time": "2023-01-16T10:32:36.392023",
     "exception": false,
     "start_time": "2023-01-16T10:32:30.174111",
     "status": "completed"
    },
    "tags": []
   },
   "outputs": [],
   "source": [
    "def dimred_pca(adata):\n",
    "    sc.pp.pca(adata)\n",
    "    sc.pl.pca_overview(adata, color=['well', condition_name], palette='cividis')\n",
    "\n",
    "dimred_pca(adata)\n",
    "dimred_pca(adata_cor)"
   ]
  },
  {
   "cell_type": "code",
   "execution_count": null,
   "id": "b43117af",
   "metadata": {
    "execution": {
     "iopub.execute_input": "2023-01-16T10:32:36.691791Z",
     "iopub.status.busy": "2023-01-16T10:32:36.691298Z",
     "iopub.status.idle": "2023-01-16T10:32:36.697725Z",
     "shell.execute_reply": "2023-01-16T10:32:36.696397Z"
    },
    "papermill": {
     "duration": 0.158958,
     "end_time": "2023-01-16T10:32:36.700483",
     "exception": false,
     "start_time": "2023-01-16T10:32:36.541525",
     "status": "completed"
    },
    "tags": []
   },
   "outputs": [],
   "source": [
    "# from sklearn.metrics.cluster import completeness_score\n",
    "# from sklearn.metrics import accuracy_score, silhouette_score\n",
    "# \n",
    "# def kmeans_clust(adata):\n",
    "#     n_clusters = len(adata.obs[condition_name].value_counts())\n",
    "#     kmeans = KMeans(n_clusters=n_clusters, random_state=0).fit(adata.X)\n",
    "#     adata.obs['kmeans'] = kmeans.labels_.astype(str)\n",
    "# \n",
    "#     sc.tl.leiden(adata, resolution=2)\n",
    "# \n",
    "#     leiden = np.array(adata.obs['leiden'].values)\n",
    "#     leiden_curated = np.copy(leiden)\n",
    "#     fc = np.array(adata.obs[condition_name].values)\n",
    "#     for cluster in np.unique(leiden):\n",
    "#         labels, counts = np.unique(fc[leiden == cluster], return_counts=True)\n",
    "#         leiden_curated[leiden == cluster] = str(labels[counts == np.max(counts)][0])\n",
    "#     adata.obs['leiden_curated'] = leiden_curated\n",
    "# \n",
    "#     sc.pl.umap(adata, color=['kmeans', 'leiden', 'leiden_curated', condition_name], palette='cividis')\n",
    "#     # print('Leiden acccuracy score: %1.4f' % accuracy_score(y_true = adata.obs[condition_name].replace(['HeLa', 'NIH3T3'], ['0', '1']), y_pred = adata.obs['leiden']))\n",
    "#     print('Curated leiden acccuracy score: %1.4f' % accuracy_score(y_true = adata.obs[condition_name], y_pred = adata.obs['leiden_curated']))\n",
    "#     print('KMeans completeness score: %1.4f' % completeness_score(adata.obs[condition_name], adata.obs['kmeans']))\n",
    "#     print('KMeans silhouette coefficient: %1.4f' % silhouette_score(adata.X, adata.obs['kmeans']))\n",
    "# \n",
    "# kmeans_clust(adata)\n",
    "# kmeans_clust(adata_cor)\n",
    "# "
   ]
  },
  {
   "cell_type": "code",
   "execution_count": null,
   "id": "87765314",
   "metadata": {
    "execution": {
     "iopub.execute_input": "2023-01-16T10:32:37.002291Z",
     "iopub.status.busy": "2023-01-16T10:32:37.000999Z",
     "iopub.status.idle": "2023-01-16T10:35:45.292081Z",
     "shell.execute_reply": "2023-01-16T10:35:45.290926Z"
    },
    "papermill": {
     "duration": 188.44405,
     "end_time": "2023-01-16T10:35:45.295645",
     "exception": false,
     "start_time": "2023-01-16T10:32:36.851595",
     "status": "completed"
    },
    "tags": []
   },
   "outputs": [],
   "source": [
    "s = intermixing(\n",
    "    adata_dict = {'uncorrected': adata, 'ISM correction': adata_cor},\n",
    "    condition_name = condition_name,\n",
    "    sample_frac=0.1,\n",
    "    measures =['X_umap', 'X_pca'],\n",
    "    n_datapoints = 50,\n",
    "    sample_log = True,\n",
    "    neighborhood_size = None,\n",
    "    normalized = False,\n",
    "    show_table = [],\n",
    "    n_jobs = multiprocessing.cpu_count()\n",
    ")"
   ]
  },
  {
   "cell_type": "code",
   "execution_count": null,
   "id": "a2751cd5",
   "metadata": {
    "execution": {
     "iopub.execute_input": "2023-01-16T10:35:45.600188Z",
     "iopub.status.busy": "2023-01-16T10:35:45.599011Z",
     "iopub.status.idle": "2023-01-16T10:35:45.608400Z",
     "shell.execute_reply": "2023-01-16T10:35:45.606786Z"
    },
    "papermill": {
     "duration": 0.161986,
     "end_time": "2023-01-16T10:35:45.610954",
     "exception": false,
     "start_time": "2023-01-16T10:35:45.448968",
     "status": "completed"
    },
    "tags": []
   },
   "outputs": [],
   "source": [
    "from scipy.integrate import trapz, simps\n",
    "\n",
    "def auc_intermixing(summary_dict):\n",
    "    for name, data in summary_dict.items():\n",
    "        print('Area under the curve for %s: %1.4f'%(name, trapz(data['mean'], data.index) / max(data.index)))\n",
    "\n",
    "\n",
    "auc_intermixing(s[1])"
   ]
  },
  {
   "cell_type": "code",
   "execution_count": null,
   "id": "6312ac2f-4b59-4276-b008-ca26be085067",
   "metadata": {
    "papermill": {
     "duration": 0.166668,
     "end_time": "2023-01-16T10:35:45.933830",
     "exception": false,
     "start_time": "2023-01-16T10:35:45.767162",
     "status": "completed"
    },
    "tags": []
   },
   "outputs": [],
   "source": [
    "from sklearn.svm import LinearSVC\n",
    "\n",
    "def analyse_svm_margin(adata, adata_cor, condition_name, layer=None):\n",
    "    print(layer)\n",
    "    if layer is not None:\n",
    "        adata.layers['default_X'] = adata.X\n",
    "        adata.X = adata.layers[layer]\n",
    "        adata_cor.layers['default_X'] = adata_cor.X\n",
    "        adata_cor.X = adata_cor.layers[layer]\n",
    "    \n",
    "    def get_svm_margin(adata, condition_name, size_factor = 1):\n",
    "        predictors = adata.X * size_factor\n",
    "        result = adata.obs[condition_name]\n",
    "        clf = LinearSVC(random_state=0, dual=False)\n",
    "        clf.fit(predictors, result)  \n",
    "        margin_df = pd.DataFrame({'condition': clf.classes_, 'margin': 1 / np.sqrt(np.sum(clf.coef_**2, axis=1))})\n",
    "\n",
    "        #print(margin_df)\n",
    "        return margin_df\n",
    "    \n",
    "    size_factor = np.sum(adata.X) / np.sum(adata_cor.X)\n",
    "\n",
    "    df = pd.merge(get_svm_margin(adata, condition_name), \n",
    "                  get_svm_margin(adata_cor, condition_name, size_factor = size_factor), \n",
    "                  on='condition', suffixes=['_uncorrected', '_ISM_correction'])\n",
    "    sns.set(rc={\"figure.figsize\":(5, 5)})\n",
    "    sns.set_style(\"white\")\n",
    "    plt = sns.barplot(df.melt(id_vars='condition', var_name='correction', value_name='margin'), \n",
    "                x='condition', y='margin', hue='correction', \n",
    "               )\n",
    "    #plt.set_title('Comparison of SVM margins')\n",
    "    plt.set_xticklabels(labels = plt.get_xticklabels(), rotation=45, horizontalalignment='right')\n",
    "    \n",
    "    \n",
    "    if layer is not None:\n",
    "        adata.X = adata.layers['default_X']\n",
    "        adata_cor.X = adata_cor.layers['default_X']\n",
    "   "
   ]
  },
  {
   "cell_type": "code",
   "execution_count": null,
   "id": "c47b63a1-a480-45f7-a5aa-38e3766ab653",
   "metadata": {
    "papermill": {
     "duration": 15.534066,
     "end_time": "2023-01-16T10:36:01.617947",
     "exception": false,
     "start_time": "2023-01-16T10:35:46.083881",
     "status": "completed"
    },
    "tags": []
   },
   "outputs": [],
   "source": [
    "analyse_svm_margin(adata, adata_cor, condition_name, layer='log_norm_counts')"
   ]
  },
  {
   "cell_type": "code",
   "execution_count": null,
   "id": "64ba9f85-d381-4fe5-935f-d183dc865b1e",
   "metadata": {
    "papermill": {
     "duration": 5.123296,
     "end_time": "2023-01-16T10:36:06.891686",
     "exception": false,
     "start_time": "2023-01-16T10:36:01.768390",
     "status": "completed"
    },
    "tags": []
   },
   "outputs": [],
   "source": [
    "analyse_svm_margin(adata, adata_cor, condition_name, layer='1e4_log_norm_counts')"
   ]
  }
 ],
 "metadata": {
  "kernelspec": {
   "display_name": "“ion_suppression_new”",
   "language": "python",
   "name": "ion_suppression"
  },
  "language_info": {
   "codemirror_mode": {
    "name": "ipython",
    "version": 3
   },
   "file_extension": ".py",
   "mimetype": "text/x-python",
   "name": "python",
   "nbconvert_exporter": "python",
   "pygments_lexer": "ipython3",
   "version": "3.10.8"
  },
  "papermill": {
   "default_parameters": {},
   "duration": 2167.736783,
   "end_time": "2023-01-16T10:36:11.504210",
   "environment_variables": {},
   "exception": null,
   "input_path": "analysis/Mx_Seahorse/pipeline_03_evaluation.ipynb",
   "output_path": "analysis/Mx_Seahorse/pipeline_03_evaluation.ipynb",
   "parameters": {
    "analysis_path": "/home/mklein/FDA_project/analysis/Mx_Seahorse",
    "condition_name": "treatment",
    "notebooks": [
     "pipeline_01_correction.ipynb",
     "pipeline_02_processing.ipynb",
     "pipeline_03_evaluation.ipynb"
    ],
    "project": "Mx_Seahorse",
    "source_path": "/home/mklein/Raw Data/220412_Luisa_ScSeahorse_SpaceM",
    "target_path": "/home/mklein/FDA_project/data/Mx_Seahorse",
    "well_name": "rowcol"
   },
   "start_time": "2023-01-16T10:00:03.767427",
   "version": "2.3.4"
  },
  "vscode": {
   "interpreter": {
    "hash": "89b4449ee30f46b148fb6825d70934bcbb1ebdb6d5b2015fe3835362773c7289"
   }
  }
 },
 "nbformat": 4,
 "nbformat_minor": 5
}
