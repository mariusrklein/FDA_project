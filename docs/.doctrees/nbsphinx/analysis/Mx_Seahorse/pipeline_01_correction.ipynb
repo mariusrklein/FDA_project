{
 "cells": [
  {
   "cell_type": "markdown",
   "id": "41b377a3",
   "metadata": {
    "papermill": {
     "duration": 0.00703,
     "end_time": "2023-01-12T15:29:37.823922",
     "exception": false,
     "start_time": "2023-01-12T15:29:37.816892",
     "status": "completed"
    },
    "tags": []
   },
   "source": [
    "# Mx_Seahorse: Correction\n",
    "\n",
    "SpaceM datasets are usually stored as annotated data-matrices, separately for individual wells. With this notebooks, these individual files are corrected for ion suppression on the pixel-level and then deconvoluted to cell-level. All resulting files are saved separately by well to the target_path and the impact of the correction briefly shown for visual inspection."
   ]
  },
  {
   "cell_type": "code",
   "execution_count": null,
   "id": "5116d622",
   "metadata": {
    "execution": {
     "iopub.execute_input": "2023-01-12T15:29:37.840043Z",
     "iopub.status.busy": "2023-01-12T15:29:37.839303Z",
     "iopub.status.idle": "2023-01-12T15:29:54.858992Z",
     "shell.execute_reply": "2023-01-12T15:29:54.857934Z"
    },
    "papermill": {
     "duration": 17.029836,
     "end_time": "2023-01-12T15:29:54.861648",
     "exception": false,
     "start_time": "2023-01-12T15:29:37.831812",
     "status": "completed"
    },
    "tags": []
   },
   "outputs": [],
   "source": [
    "import os\n",
    "import platform\n",
    "import scanpy as sc\n",
    "import pandas as pd\n",
    "import numpy as np\n",
    "import anndata as ad\n",
    "import statistics as st\n",
    "import multiprocessing\n",
    "from joblib import Parallel, delayed\n",
    "from tqdm import tqdm\n",
    "import statsmodels.formula.api as smf\n",
    "import seaborn as sns\n",
    "import re\n",
    "from importlib import reload\n",
    "import json\n",
    "import sys\n",
    "sys.path.append('/home/mklein/spacem')\n",
    "sys.path.append('/home/mklein/FDA_project')\n",
    "\n",
    "from src.correction import (add_normalization_factors, \n",
    "                            correct_quantile_inplace,\n",
    "                            deconvolution_spacem,\n",
    "                            get_overlap_data,\n",
    "                            add_overlap_matrix_spacem,\n",
    "                            get_reference_pool\n",
    "                           )\n",
    "from src import const \n",
    "from SpaceM.lib.modules import (\n",
    "    overlap_analysis,\n",
    "    single_cell_analysis_normalization\n",
    ")\n",
    "\n",
    "%matplotlib inline"
   ]
  },
  {
   "cell_type": "markdown",
   "id": "bdb54d29",
   "metadata": {
    "papermill": {
     "duration": 0.006224,
     "end_time": "2023-01-12T15:29:54.875130",
     "exception": false,
     "start_time": "2023-01-12T15:29:54.868906",
     "status": "completed"
    },
    "tags": []
   },
   "source": [
    "The original data lies on the groups shared data storage. Corrected files will be saved in a separate location, preserving the well-specific folder structure."
   ]
  },
  {
   "cell_type": "code",
   "execution_count": null,
   "id": "bdb2cdfe",
   "metadata": {
    "execution": {
     "iopub.execute_input": "2023-01-12T15:29:54.892676Z",
     "iopub.status.busy": "2023-01-12T15:29:54.891731Z",
     "iopub.status.idle": "2023-01-12T15:29:54.897986Z",
     "shell.execute_reply": "2023-01-12T15:29:54.896856Z"
    },
    "papermill": {
     "duration": 0.016102,
     "end_time": "2023-01-12T15:29:54.900193",
     "exception": false,
     "start_time": "2023-01-12T15:29:54.884091",
     "status": "completed"
    },
    "tags": [
     "parameters"
    ]
   },
   "outputs": [],
   "source": [
    "if platform.system() == \"Darwin\":\n",
    "    source_path = '/Volumes/alexandr/smenon/2022-07-13_Glioblastoma/processed_files'\n",
    "    target_path = '/Volumes/mklein/FDA_project/data/Lx_Glioblastoma'\n",
    "else:\n",
    "    source_path = '/g/alexandr/smenon/2022-07-13_Glioblastoma/processed_files'\n",
    "    target_path = '/home/mklein/FDA_project/data/Lx_Glioblastoma'\n",
    "    \n",
    "\n",
    "deconv_default_min_overlap = 0.0"
   ]
  },
  {
   "cell_type": "code",
   "execution_count": null,
   "id": "5cd0e384",
   "metadata": {
    "execution": {
     "iopub.execute_input": "2023-01-12T15:29:54.915945Z",
     "iopub.status.busy": "2023-01-12T15:29:54.915591Z",
     "iopub.status.idle": "2023-01-12T15:29:54.921247Z",
     "shell.execute_reply": "2023-01-12T15:29:54.920263Z"
    },
    "papermill": {
     "duration": 0.015257,
     "end_time": "2023-01-12T15:29:54.923580",
     "exception": false,
     "start_time": "2023-01-12T15:29:54.908323",
     "status": "completed"
    },
    "tags": [
     "injected-parameters"
    ]
   },
   "outputs": [],
   "source": [
    "# Parameters\n",
    "source_path = \"/home/mklein/Raw Data/220412_Luisa_ScSeahorse_SpaceM\"\n",
    "target_path = \"/home/mklein/FDA_project/data/Mx_Seahorse\"\n",
    "condition_name = \"treatment\"\n",
    "well_name = \"rowcol\"\n",
    "analysis_path = \"/home/mklein/FDA_project/analysis/Mx_Seahorse\"\n",
    "notebooks = [\n",
    "    \"pipeline_01_correction.ipynb\",\n",
    "    \"pipeline_02_processing.ipynb\",\n",
    "    \"pipeline_03_evaluation.ipynb\",\n",
    "]\n",
    "project = \"Mx_Seahorse\"\n",
    "correction_proportion_threshold = 0.01"
   ]
  },
  {
   "cell_type": "code",
   "execution_count": null,
   "id": "cb2a145c",
   "metadata": {
    "execution": {
     "iopub.execute_input": "2023-01-12T15:29:54.944262Z",
     "iopub.status.busy": "2023-01-12T15:29:54.943435Z",
     "iopub.status.idle": "2023-01-12T15:29:55.490638Z",
     "shell.execute_reply": "2023-01-12T15:29:55.489366Z"
    },
    "papermill": {
     "duration": 0.561597,
     "end_time": "2023-01-12T15:29:55.493005",
     "exception": false,
     "start_time": "2023-01-12T15:29:54.931408",
     "status": "completed"
    },
    "tags": []
   },
   "outputs": [],
   "source": [
    "samples = []\n",
    "for dirpath, dirnames, filenames in os.walk(source_path):\n",
    "        if 'analysis' in dirnames:\n",
    "            samples.append(re.sub(source_path+'/?', '', dirpath))\n",
    "\", \".join(samples)"
   ]
  },
  {
   "cell_type": "code",
   "execution_count": null,
   "id": "9560c901",
   "metadata": {
    "execution": {
     "iopub.execute_input": "2023-01-12T15:29:55.510855Z",
     "iopub.status.busy": "2023-01-12T15:29:55.510123Z",
     "iopub.status.idle": "2023-01-12T15:29:55.515582Z",
     "shell.execute_reply": "2023-01-12T15:29:55.514467Z"
    },
    "papermill": {
     "duration": 0.017324,
     "end_time": "2023-01-12T15:29:55.517678",
     "exception": false,
     "start_time": "2023-01-12T15:29:55.500354",
     "status": "completed"
    },
    "tags": []
   },
   "outputs": [],
   "source": [
    "files = {\n",
    "        'config': '../config.json',\n",
    "        'sm_matrix': 'ablation_mark_analysis/spatiomolecular_adata.h5ad',\n",
    "        'overlap_regions': 'overlap_analysis2/overlap.regions.csv',\n",
    "        'mark_regions': 'overlap_analysis2/ablation_mark.regions.csv',\n",
    "        'cell_regions': 'overlap_analysis2/cell.regions.csv',\n",
    "        'cell_sm_matrix': 'single_cell_analysis/spatiomolecular_adata.h5ad',\n",
    "    }"
   ]
  },
  {
   "cell_type": "code",
   "execution_count": null,
   "id": "d8ebf5bc",
   "metadata": {
    "execution": {
     "iopub.execute_input": "2023-01-12T15:29:55.532899Z",
     "iopub.status.busy": "2023-01-12T15:29:55.532090Z",
     "iopub.status.idle": "2023-01-12T15:29:55.540568Z",
     "shell.execute_reply": "2023-01-12T15:29:55.539394Z"
    },
    "papermill": {
     "duration": 0.018348,
     "end_time": "2023-01-12T15:29:55.543153",
     "exception": false,
     "start_time": "2023-01-12T15:29:55.524805",
     "status": "completed"
    },
    "tags": []
   },
   "outputs": [],
   "source": [
    "def assign_average_tpo(am_adata, overlap_data, min_overlap, method=np.mean):\n",
    "    if min_overlap is None:\n",
    "        min_overlap = 0\n",
    "    \n",
    "    overlap = overlap_data.overlap_regions\n",
    "    overlap['am_id'] = overlap['am_id'].astype(str)\n",
    "    overlap['cell_id'] = overlap['cell_id'].astype(str)\n",
    "    merged_df = pd.merge(overlap[['am_id', 'cell_id']], am_adata.obs[const.TPO], left_on='am_id', right_index=True)\n",
    "    merged_df = merged_df[merged_df[const.TPO] >= min_overlap]\n",
    "    \n",
    "    mean_df = merged_df[['cell_id', 'correction_total_pixel_overlap']].groupby('cell_id', group_keys=False).agg(method)\n",
    "#     mean_df = merged_df[['cell_id', 'correction_total_pixel_overlap']].groupby('cell_id', group_keys=False).agg(lambda x: method(x))\n",
    "    return mean_df[const.TPO]"
   ]
  },
  {
   "cell_type": "code",
   "execution_count": null,
   "id": "4e8bd986",
   "metadata": {
    "execution": {
     "iopub.execute_input": "2023-01-12T15:29:55.559494Z",
     "iopub.status.busy": "2023-01-12T15:29:55.558442Z",
     "iopub.status.idle": "2023-01-12T15:29:55.675900Z",
     "shell.execute_reply": "2023-01-12T15:29:55.674491Z"
    },
    "papermill": {
     "duration": 0.127842,
     "end_time": "2023-01-12T15:29:55.678719",
     "exception": false,
     "start_time": "2023-01-12T15:29:55.550877",
     "status": "completed"
    },
    "tags": []
   },
   "outputs": [],
   "source": [
    "def correct_sample_spacem(sample):\n",
    "    \n",
    "    sample_path = os.path.join(source_path, sample, \"analysis\")\n",
    "    sample = re.sub('/', '_', sample)\n",
    "    \n",
    "    if not os.path.exists(os.path.join(target_path, sample)):\n",
    "        os.makedirs(os.path.join(target_path, sample))\n",
    "\n",
    "    # get appropriate file paths for the processed well\n",
    "    project_files = {k: os.path.join(sample_path, v) for k, v in files.items()}\n",
    "\n",
    "    if os.path.exists(project_files['config']):\n",
    "        with open(project_files['config']) as json_file:\n",
    "            data = json.load(json_file)\n",
    "        deconv_info = data['single_cell_analysis']\n",
    "        if deconv_info['ablation_marks_min_overlap_ratio'] is None:\n",
    "            deconv_info['ablation_marks_min_overlap_ratio'] = deconv_default_min_overlap\n",
    "    else:\n",
    "        deconv_info = None\n",
    "        print('No well config file found. Using default deconvolution parameters.')\n",
    "    # load required files\n",
    "    cell_regions = pd.read_csv(project_files['cell_regions'])\n",
    "    mark_regions = pd.read_csv(project_files['mark_regions'])\n",
    "    overlap_regions = pd.read_csv(project_files['overlap_regions'])\n",
    "    \n",
    "    sm_matrix = sc.read(os.path.join(sample_path, files['sm_matrix']))\n",
    "    cell_sm_matrix = sc.read(os.path.join(sample_path, files['cell_sm_matrix']))\n",
    "       \n",
    "    add_overlap_matrix_spacem(sm_matrix, cell_regions, mark_regions, overlap_regions)\n",
    "    \n",
    "    add_normalization_factors(adata=sm_matrix, method=st.median)\n",
    "\n",
    "    # perform the actual quantile regression\n",
    "    corr_sm_matrix = correct_quantile_inplace(adata=sm_matrix, \n",
    "        reference_ions = get_reference_pool(sm_matrix), \n",
    "        correct_intersect = True,\n",
    "        proportion_threshold = correction_proportion_threshold,\n",
    "        n_jobs=5)\n",
    "    \n",
    "    # perform pixel-cell-deconvolution\n",
    "    overlap_data = get_overlap_data(cell_regions, mark_regions, overlap_regions)\n",
    "    corr_cell_sm_matrix = deconvolution_spacem(adata=corr_sm_matrix, \n",
    "        overlap_data=overlap_data,\n",
    "        raw_adata=cell_sm_matrix,\n",
    "        deconvolution_params=deconv_info)\n",
    "    gen_cell_sm_matrix = deconvolution_spacem(adata=sm_matrix,\n",
    "        overlap_data=overlap_data,\n",
    "        raw_adata=cell_sm_matrix,\n",
    "        deconvolution_params=deconv_info)\n",
    "    \n",
    "    # hand over TPOs to spatiomolecular matrix for downstream analysis\n",
    "    min_overlap = deconv_info['ablation_marks_min_overlap_ratio']\n",
    "    corr_cell_sm_matrix.obs['list_TPO'] = assign_average_tpo(sm_matrix, overlap_data, min_overlap, method=lambda x: \";\".join(x.astype(str)))\n",
    "    gen_cell_sm_matrix.obs['list_TPO'] = assign_average_tpo(sm_matrix, overlap_data, min_overlap, method=lambda x: \";\".join(x.astype(str)))\n",
    "    \n",
    "    # write the generated files to the dedicated project location.\n",
    "    # corr_sm_matrix.write(os.path.join(target_path, sample, 'am_spatiomolecular_adata_corrected.h5ad'))\n",
    "    # sm_matrix.write(os.path.join(target_path, sample, 'am_spatiomolecular_adata.h5ad'))\n",
    "    corr_cell_sm_matrix.write(os.path.join(target_path, sample, 'cells_spatiomolecular_adata_corrected.h5ad'))\n",
    "    cell_sm_matrix.write(os.path.join(target_path, sample, 'cells_spatiomolecular_adata_spacem.h5ad'))\n",
    "    gen_cell_sm_matrix.write(os.path.join(target_path, sample, 'cells_spatiomolecular_adata.h5ad'))\n",
    "    \n",
    "    return (sample, cell_sm_matrix, corr_cell_sm_matrix, sm_matrix, corr_sm_matrix, deconv_info)"
   ]
  },
  {
   "cell_type": "markdown",
   "id": "46c4b970",
   "metadata": {
    "papermill": {
     "duration": 0.006569,
     "end_time": "2023-01-12T15:29:55.692844",
     "exception": false,
     "start_time": "2023-01-12T15:29:55.686275",
     "status": "completed"
    },
    "tags": []
   },
   "source": [
    "This is the actual correction pipeline."
   ]
  },
  {
   "cell_type": "code",
   "execution_count": null,
   "id": "7150fbf0",
   "metadata": {
    "execution": {
     "iopub.execute_input": "2023-01-12T15:29:55.708003Z",
     "iopub.status.busy": "2023-01-12T15:29:55.707520Z",
     "iopub.status.idle": "2023-01-12T15:37:48.453402Z",
     "shell.execute_reply": "2023-01-12T15:37:48.452213Z"
    },
    "papermill": {
     "duration": 472.756798,
     "end_time": "2023-01-12T15:37:48.456020",
     "exception": false,
     "start_time": "2023-01-12T15:29:55.699222",
     "status": "completed"
    },
    "tags": []
   },
   "outputs": [],
   "source": [
    "adata_list = Parallel(n_jobs=7)(delayed(correct_sample_spacem)(sample) for sample in tqdm(samples))\n",
    "# adata_list = [correct_sample_spacem(sample) for sample in tqdm(['I4'])]"
   ]
  },
  {
   "cell_type": "code",
   "execution_count": null,
   "id": "dc4be0bb",
   "metadata": {
    "execution": {
     "iopub.execute_input": "2023-01-12T15:37:48.476961Z",
     "iopub.status.busy": "2023-01-12T15:37:48.476093Z",
     "iopub.status.idle": "2023-01-12T15:37:49.983947Z",
     "shell.execute_reply": "2023-01-12T15:37:49.982737Z"
    },
    "papermill": {
     "duration": 1.520262,
     "end_time": "2023-01-12T15:37:49.986159",
     "exception": false,
     "start_time": "2023-01-12T15:37:48.465897",
     "status": "completed"
    },
    "tags": []
   },
   "outputs": [],
   "source": [
    "# reshape data for immediate analysis\n",
    "am_adata_dict = {item[0]: item[3] for item in adata_list}\n",
    "am_adata_cor_dict = {item[0]: item[4] for item in adata_list}\n",
    "adata_dict = {item[0]: item[1] for item in adata_list}\n",
    "adata_cor_dict = {item[0]: item[2] for item in adata_list}\n",
    "\n",
    "am_adata = ad.concat(am_adata_dict, label='well', index_unique=\"_\", merge=\"first\")\n",
    "am_adata_cor = ad.concat(am_adata_cor_dict, label='well', index_unique=\"_\", merge='first')\n",
    "adata = ad.concat(adata_dict, label='well', index_unique=\"_\", merge=\"first\")\n",
    "adata_cor = ad.concat(adata_cor_dict, label='well', index_unique=\"_\", merge=\"first\")\n",
    "\n",
    "deconv_dict = {item[0]: item[5] for item in adata_list}\n",
    "deconv_table = pd.DataFrame(deconv_dict).T\n",
    "deconv_table"
   ]
  },
  {
   "cell_type": "markdown",
   "id": "047d123e-1b44-425f-b938-ee16217785f4",
   "metadata": {
    "papermill": {
     "duration": 0.009206,
     "end_time": "2023-01-12T15:37:50.005333",
     "exception": false,
     "start_time": "2023-01-12T15:37:49.996127",
     "status": "completed"
    },
    "tags": []
   },
   "source": [
    "The ion suppression correction takes a parameter proportion_threshold to filter the pixels used to compute quantile regression. In particular, pixels with a sampling proportion lower than the threshold are excluded for this step. In contrast, the actual correction is then performed on all pixels in the dataset. As a consequence, for the majority of the dataset, the dependence of the data on the factor \"sampling_proportion\" is not completely removed by the correction. Instead, depending on the difference in slope between the complete and thresholded set of pixels, the corrected set of pixels has a positive or negative dependence on the factor \"sampling_proportion\". The larger the proportion_threshold, the stronger this deviation can get.\n",
    "\n",
    "In the following figure, these differences are visualized for a subset of ions (with very low/high correction slope) and wells. The top panel shows the logarithmic ion intensity/proportion ratio plotted against the log proportion ratio of the respective pixels. As this is the relationship used to compute the quantile regression, the resulting regression lines can also be shown. The black lines show the quantile regression of the total set of pixels in a well, the red lines for the thresholded set (shown as orange squares). In turn, the blue squares are disregarded in calculating the correction slope. The bottom panel shows the corresponding corrected sets of pixels with black lines again representing the quantile regression on the complete set of pixels."
   ]
  },
  {
   "cell_type": "code",
   "execution_count": null,
   "id": "a8bc9f87",
   "metadata": {
    "execution": {
     "iopub.execute_input": "2023-01-12T15:37:50.026101Z",
     "iopub.status.busy": "2023-01-12T15:37:50.025470Z",
     "iopub.status.idle": "2023-01-12T15:37:50.030889Z",
     "shell.execute_reply": "2023-01-12T15:37:50.029798Z"
    },
    "papermill": {
     "duration": 0.018168,
     "end_time": "2023-01-12T15:37:50.033179",
     "exception": false,
     "start_time": "2023-01-12T15:37:50.015011",
     "status": "completed"
    },
    "tags": []
   },
   "outputs": [],
   "source": [
    "import warnings\n",
    "warnings.filterwarnings('ignore')"
   ]
  },
  {
   "cell_type": "code",
   "execution_count": null,
   "id": "b4db43d3",
   "metadata": {
    "execution": {
     "iopub.execute_input": "2023-01-12T15:37:50.053228Z",
     "iopub.status.busy": "2023-01-12T15:37:50.052617Z",
     "iopub.status.idle": "2023-01-12T15:37:50.067449Z",
     "shell.execute_reply": "2023-01-12T15:37:50.066447Z"
    },
    "papermill": {
     "duration": 0.027013,
     "end_time": "2023-01-12T15:37:50.069558",
     "exception": false,
     "start_time": "2023-01-12T15:37:50.042545",
     "status": "completed"
    },
    "tags": []
   },
   "outputs": [],
   "source": [
    "am_adata.obs[const.TPO] = am_adata_cor.obs[const.TPO]"
   ]
  },
  {
   "cell_type": "code",
   "execution_count": null,
   "id": "d8d86109",
   "metadata": {
    "execution": {
     "iopub.execute_input": "2023-01-12T15:37:50.090985Z",
     "iopub.status.busy": "2023-01-12T15:37:50.089320Z",
     "iopub.status.idle": "2023-01-12T15:38:02.520951Z",
     "shell.execute_reply": "2023-01-12T15:38:02.519801Z"
    },
    "papermill": {
     "duration": 12.444467,
     "end_time": "2023-01-12T15:38:02.523575",
     "exception": false,
     "start_time": "2023-01-12T15:37:50.079108",
     "status": "completed"
    },
    "tags": []
   },
   "outputs": [],
   "source": [
    "from src.evaluation import compare_pre_post_correction\n",
    "compare_pre_post_correction(am_adata, am_adata_cor, proportion_threshold=correction_proportion_threshold, wells = ['B1', 'E3', 'H3'])"
   ]
  }
 ],
 "metadata": {
  "kernelspec": {
   "display_name": "“ion_suppression_new”",
   "language": "python",
   "name": "ion_suppression"
  },
  "language_info": {
   "codemirror_mode": {
    "name": "ipython",
    "version": 3
   },
   "file_extension": ".py",
   "mimetype": "text/x-python",
   "name": "python",
   "nbconvert_exporter": "python",
   "pygments_lexer": "ipython3",
   "version": "3.10.8"
  },
  "papermill": {
   "default_parameters": {},
   "duration": 512.912339,
   "end_time": "2023-01-12T15:38:05.363144",
   "environment_variables": {},
   "exception": null,
   "input_path": "analysis/Mx_Seahorse/pipeline_01_correction.ipynb",
   "output_path": "analysis/Mx_Seahorse/pipeline_01_correction.ipynb",
   "parameters": {
    "analysis_path": "/home/mklein/FDA_project/analysis/Mx_Seahorse",
    "condition_name": "treatment",
    "notebooks": [
     "pipeline_01_correction.ipynb",
     "pipeline_02_processing.ipynb",
     "pipeline_03_evaluation.ipynb"
    ],
    "project": "Mx_Seahorse",
    "source_path": "/home/mklein/Raw Data/220412_Luisa_ScSeahorse_SpaceM",
    "target_path": "/home/mklein/FDA_project/data/Mx_Seahorse",
    "well_name": "rowcol"
   },
   "start_time": "2023-01-12T15:29:32.450805",
   "version": "2.3.4"
  },
  "vscode": {
   "interpreter": {
    "hash": "89b4449ee30f46b148fb6825d70934bcbb1ebdb6d5b2015fe3835362773c7289"
   }
  }
 },
 "nbformat": 4,
 "nbformat_minor": 5
}
