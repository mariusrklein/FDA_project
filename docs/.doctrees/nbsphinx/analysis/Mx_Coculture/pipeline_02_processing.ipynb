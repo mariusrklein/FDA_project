{
 "cells": [
  {
   "cell_type": "markdown",
   "id": "74625243",
   "metadata": {
    "papermill": {
     "duration": 0.008734,
     "end_time": "2022-12-07T12:33:17.643589",
     "exception": false,
     "start_time": "2022-12-07T12:33:17.634855",
     "status": "completed"
    },
    "tags": []
   },
   "source": [
    "# Mx_Coculture: Processing\n",
    "\n",
    "Datasets typically consist of several wells on a microscopy slide. In this notebook, the wells are integrated to one annotated data matrix."
   ]
  },
  {
   "cell_type": "code",
   "execution_count": null,
   "id": "44e776c2",
   "metadata": {
    "execution": {
     "iopub.execute_input": "2023-01-10T11:02:07.759753Z",
     "iopub.status.busy": "2023-01-10T11:02:07.759207Z",
     "iopub.status.idle": "2023-01-10T11:02:12.992736Z",
     "shell.execute_reply": "2023-01-10T11:02:12.991605Z"
    },
    "papermill": {
     "duration": 3.815299,
     "end_time": "2022-12-07T12:33:21.466285",
     "exception": false,
     "start_time": "2022-12-07T12:33:17.650986",
     "status": "completed"
    },
    "tags": []
   },
   "outputs": [],
   "source": [
    "import os\n",
    "import platform\n",
    "import scanpy as sc\n",
    "import pandas as pd\n",
    "import numpy as np\n",
    "import anndata as ad\n",
    "import multiprocessing\n",
    "from joblib import Parallel, delayed\n",
    "from importlib import reload\n",
    "from tqdm import tqdm\n",
    "import statsmodels.formula.api as smf\n",
    "import matplotlib.pyplot as plt\n",
    "import seaborn as sns\n",
    "import functools\n",
    "import sys\n",
    "sys.path.append('/home/mklein/spacem')\n",
    "sys.path.append('/Volumes/mklein/spacem')\n",
    "sys.path.append('/home/mklein/FDA_project')\n",
    "from src.correction import get_matrices_from_dfs, normalize_proportion_ratios\n",
    "from src import const\n",
    "from src.evaluation import plot_all_ion_slopes\n",
    "\n",
    "%matplotlib inline"
   ]
  },
  {
   "cell_type": "code",
   "execution_count": null,
   "id": "3166076f",
   "metadata": {
    "execution": {
     "iopub.execute_input": "2023-01-10T11:02:12.998106Z",
     "iopub.status.busy": "2023-01-10T11:02:12.997534Z",
     "iopub.status.idle": "2023-01-10T11:02:13.003150Z",
     "shell.execute_reply": "2023-01-10T11:02:13.001940Z"
    },
    "papermill": {
     "duration": 0.014969,
     "end_time": "2022-12-07T12:33:21.489224",
     "exception": false,
     "start_time": "2022-12-07T12:33:21.474255",
     "status": "completed"
    },
    "tags": [
     "parameters"
    ]
   },
   "outputs": [],
   "source": [
    "if platform.system() == \"Darwin\":\n",
    "    target_path = '/Volumes/mklein/FDA_project/data/Lx_Glioblastoma'\n",
    "else:\n",
    "    target_path = '/home/mklein/FDA_project/data/Lx_Glioblastoma'\n",
    "    \n",
    "# this is the column of the annotated data matrix, that discriminates between conditions\n",
    "condition_name = 'dataset_3'"
   ]
  },
  {
   "cell_type": "code",
   "execution_count": null,
   "id": "4f2f1325",
   "metadata": {
    "execution": {
     "iopub.execute_input": "2023-01-10T11:02:13.007807Z",
     "iopub.status.busy": "2023-01-10T11:02:13.007462Z",
     "iopub.status.idle": "2023-01-10T11:02:13.012992Z",
     "shell.execute_reply": "2023-01-10T11:02:13.011799Z"
    },
    "papermill": {
     "duration": 0.013076,
     "end_time": "2022-12-07T12:33:21.508293",
     "exception": false,
     "start_time": "2022-12-07T12:33:21.495217",
     "status": "completed"
    },
    "tags": [
     "injected-parameters"
    ]
   },
   "outputs": [],
   "source": [
    "# Parameters\n",
    "source_path = \"/home/mklein/Raw Data/Coculture\"\n",
    "target_path = \"/home/mklein/FDA_project/data/Mx_Co_Cultured\"\n",
    "condition_name = \"condition\"\n",
    "well_name = \"rowcol\"\n",
    "deconv_default_min_overlap = 0.3\n",
    "analysis_path = \"/home/mklein/FDA_project/analysis/Mx_Coculture\"\n",
    "notebooks = [\n",
    "    \"pipeline_01_correction.ipynb\",\n",
    "    \"pipeline_02_processing.ipynb\",\n",
    "    \"pipeline_03_evaluation.ipynb\",\n",
    "]\n",
    "project = \"Mx_Coculture\"\n"
   ]
  },
  {
   "cell_type": "code",
   "execution_count": null,
   "id": "7bb97ff4",
   "metadata": {
    "execution": {
     "iopub.execute_input": "2023-01-10T11:02:13.017563Z",
     "iopub.status.busy": "2023-01-10T11:02:13.017226Z",
     "iopub.status.idle": "2023-01-10T11:02:13.023259Z",
     "shell.execute_reply": "2023-01-10T11:02:13.022214Z"
    },
    "papermill": {
     "duration": 0.014191,
     "end_time": "2022-12-07T12:33:21.527620",
     "exception": false,
     "start_time": "2022-12-07T12:33:21.513429",
     "status": "completed"
    },
    "tags": []
   },
   "outputs": [],
   "source": [
    "samples = ['dataset']\n",
    "\n",
    "files = {\n",
    "        'am_sm_matrix': 'am_spatiomolecular_adata.h5ad',\n",
    "        'corr_am_sm_matrix': 'am_spatiomolecular_adata_corrected.h5ad',\n",
    "        'cell_sm_matrix': 'cells_spatiomolecular_adata_spacem.h5ad',\n",
    "        'gen_cell_sm_matrix': 'cells_spatiomolecular_adata.h5ad',\n",
    "        'corr_cell_sm_matrix': 'cells_spatiomolecular_adata_corrected.h5ad',\n",
    "    }\n"
   ]
  },
  {
   "cell_type": "markdown",
   "id": "58f590e8",
   "metadata": {
    "papermill": {
     "duration": 0.004925,
     "end_time": "2022-12-07T12:33:21.537354",
     "exception": false,
     "start_time": "2022-12-07T12:33:21.532429",
     "status": "completed"
    },
    "tags": []
   },
   "source": [
    "After loading all individual wells, they are concatenated into one data matrix. Cell identifiers are kept unique by adding a well-specific suffix "
   ]
  },
  {
   "cell_type": "code",
   "execution_count": null,
   "id": "00f53aa1",
   "metadata": {
    "execution": {
     "iopub.execute_input": "2023-01-10T11:02:13.028429Z",
     "iopub.status.busy": "2023-01-10T11:02:13.027731Z",
     "iopub.status.idle": "2023-01-10T11:02:13.182809Z",
     "shell.execute_reply": "2023-01-10T11:02:13.181528Z"
    },
    "papermill": {
     "duration": 0.606919,
     "end_time": "2022-12-07T12:33:22.149058",
     "exception": true,
     "start_time": "2022-12-07T12:33:21.542139",
     "status": "failed"
    },
    "tags": []
   },
   "outputs": [],
   "source": [
    "am_adata_dict = {}\n",
    "am_adata_cor_dict = {}\n",
    "adata_dict = {}\n",
    "gen_adata_dict = {}\n",
    "adata_cor_dict = {}\n",
    "\n",
    "for sample in tqdm(samples):\n",
    "    sample_path = os.path.join(target_path, sample)\n",
    "\n",
    "    project_files = {k: os.path.join(sample_path, v) for k, v in files.items()}\n",
    "\n",
    "    # am_adata_dict[sample] = sc.read(project_files['am_sm_matrix'])\n",
    "    # am_adata_cor_dict[sample] = sc.read(project_files['corr_am_sm_matrix'])\n",
    "    adata_dict[sample] = sc.read(project_files['cell_sm_matrix'])\n",
    "    gen_adata_dict[sample] = sc.read(project_files['gen_cell_sm_matrix'])\n",
    "    adata_cor_dict[sample] = sc.read(project_files['corr_cell_sm_matrix'])\n"
   ]
  },
  {
   "cell_type": "code",
   "execution_count": null,
   "id": "e19df133",
   "metadata": {
    "execution": {
     "iopub.execute_input": "2023-01-10T11:02:13.187878Z",
     "iopub.status.busy": "2023-01-10T11:02:13.187333Z",
     "iopub.status.idle": "2023-01-10T11:02:13.193429Z",
     "shell.execute_reply": "2023-01-10T11:02:13.192231Z"
    },
    "papermill": {
     "duration": null,
     "end_time": null,
     "exception": null,
     "start_time": null,
     "status": "pending"
    },
    "tags": []
   },
   "outputs": [],
   "source": [
    "def split_dataset_info(adata):\n",
    "    split = adata.obs['dataset'].str.split(\"_\", expand=True)\n",
    "    adata.obs[['dataset_' + str(col) for col in split.columns]] = split"
   ]
  },
  {
   "cell_type": "markdown",
   "id": "54576632",
   "metadata": {
    "papermill": {
     "duration": null,
     "end_time": null,
     "exception": null,
     "start_time": null,
     "status": "pending"
    },
    "tags": []
   },
   "source": [
    "The combination of wells is not restricted to concatenation of the corresponding data matrices. Some of the ion-related metadata, like the slopes used in ISM correction, are specific to the individual wells. Thus, they are summarised and mean values saved in the combined data matrices."
   ]
  },
  {
   "cell_type": "code",
   "execution_count": null,
   "id": "ea9f8649",
   "metadata": {
    "execution": {
     "iopub.execute_input": "2023-01-10T11:02:13.198386Z",
     "iopub.status.busy": "2023-01-10T11:02:13.197999Z",
     "iopub.status.idle": "2023-01-10T11:02:13.215122Z",
     "shell.execute_reply": "2023-01-10T11:02:13.214151Z"
    },
    "papermill": {
     "duration": null,
     "end_time": null,
     "exception": null,
     "start_time": null,
     "status": "pending"
    },
    "tags": []
   },
   "outputs": [],
   "source": [
    "def plot_range_slopes(adata_dict):\n",
    "    adata = ad.concat(adata_dict, label='well', index_unique=\"_\", merge=\"first\", join='inner', fill_value=0)\n",
    "    conca_var_df = pd.concat({k: v.var for k, v in adata_dict.items()}).select_dtypes(include=[float])\n",
    "    \n",
    "    dfs = [conca_var_df.reset_index(names = ['well', 'ion']).groupby('ion').mean(numeric_only = True).reset_index().melt(id_vars=['ion'], value_name='mean'),\n",
    "              conca_var_df.reset_index(names = ['well', 'ion']).groupby('ion').min(numeric_only = True).reset_index().melt(id_vars=['ion'], value_name='min'),\n",
    "              conca_var_df.reset_index(names = ['well', 'ion']).groupby('ion').max(numeric_only = True).reset_index().melt(id_vars=['ion'], value_name='max')]\n",
    "\n",
    "    sum_df = pd.merge(functools.reduce(lambda left,right: pd.merge(left, right, how='left', on=['ion', 'variable']), dfs), \n",
    "                      pd.concat({k: v.var for k, v in adata_cor_dict.items()})[['correction_using_ion_pool']].reset_index(names = ['well', 'ion']).groupby('ion').sum(numeric_only = True), \n",
    "                      left_on='ion', right_index=True)\n",
    "\n",
    "    def my_bin(i):\n",
    "        if i == len(adata_dict):\n",
    "            return '4_all by pool'\n",
    "        elif i == 0:\n",
    "            return '0_none by pool'\n",
    "        elif i >0.9*len(adata_dict):\n",
    "            return '3_>90% by pool'\n",
    "        elif i >0.5*len(adata_dict):\n",
    "            return '2_>50% by pool'\n",
    "        else:\n",
    "            return '1_<50% by pool'\n",
    "        \n",
    "    sum_df['corr_pool_bins'] = [my_bin(i) for i in sum_df['correction_using_ion_pool']]\n",
    "    #pd.cut(sum_df['correction_using_ion_pool'], bins=4)#, q=[0, .2, .4, .6, .8, 1], labels=['<20%', '<40%', '<60%', '<80%', '>80%'])\n",
    "    \n",
    "    sum_df = sum_df.sort_values(['correction_using_ion_pool'])\n",
    "    \n",
    "    fig, ax = plt.subplots(figsize=(16, 4))\n",
    "    m = sns.lineplot(sum_df[sum_df.variable == 'correction_quantreg_slope'], x = 'ion', y='mean', hue='corr_pool_bins', ax=ax)\n",
    "    sns.lineplot(sum_df[sum_df.variable == 'correction_quantreg_slope'], x = 'ion', y='min', hue='corr_pool_bins', ax=ax, linewidth=0.4)\n",
    "    sns.lineplot(sum_df[sum_df.variable == 'correction_quantreg_slope'], x = 'ion', y='max', hue='corr_pool_bins', ax=ax, linewidth=0.4)\n",
    "    ax.set_xticks([])\n",
    "    ax.set_ylabel('mean, max and min slope')\n",
    "    handles, labels = ax.get_legend_handles_labels()\n",
    "    ax.legend(handles[:5], labels[:5], title='correction_using_ion_pool')\n",
    "    ax.axhline(0)\n",
    "    ax.axhline(-1)\n",
    "    ax.set_title('Range of ISM correction slopes across wells')\n",
    "    fig.tight_layout()"
   ]
  },
  {
   "cell_type": "code",
   "execution_count": null,
   "id": "618be55d",
   "metadata": {
    "execution": {
     "iopub.execute_input": "2023-01-10T11:02:13.221356Z",
     "iopub.status.busy": "2023-01-10T11:02:13.219547Z",
     "iopub.status.idle": "2023-01-10T11:02:13.272117Z",
     "shell.execute_reply": "2023-01-10T11:02:13.271008Z"
    },
    "papermill": {
     "duration": null,
     "end_time": null,
     "exception": null,
     "start_time": null,
     "status": "pending"
    },
    "tags": []
   },
   "outputs": [],
   "source": [
    "import functools\n",
    "def concat_wells(adata_dict):\n",
    "    adata = ad.concat(adata_dict, label='well', index_unique=\"_\", merge=\"first\", join='inner', fill_value=0)\n",
    "    \n",
    "    conca_var_df = pd.concat({k: v.var for k, v in adata_dict.items()}).select_dtypes(include=[float, bool])\n",
    "    if 'correction_quantreg_slope' in conca_var_df.columns:\n",
    "\n",
    "        mean_var_df = conca_var_df.reset_index(names = ['well', 'ion']).groupby('ion').mean(numeric_only = True)\n",
    "        mean_var_df.columns = ['mean_'+col for col in mean_var_df.columns]\n",
    "        \n",
    "        std_var_df = conca_var_df.reset_index(names = ['well', 'ion']).groupby('ion').std(numeric_only = True)\n",
    "        std_var_df.columns = ['sd_'+col for col in std_var_df.columns]\n",
    "        \n",
    "        count_var_df = conca_var_df.reset_index(names = ['well', 'ion']).groupby('ion').sum(numeric_only = True)\n",
    "        count_var_df.columns = ['sum_'+col for col in count_var_df.columns]\n",
    "        \n",
    "        dfs = [adata.var, \n",
    "            mean_var_df[['mean_correction_full_pixel_avg_intensities', 'mean_correction_quantreg_slope', 'mean_correction_quantreg_intersect']], \n",
    "            std_var_df[['sd_correction_full_pixel_avg_intensities', 'sd_correction_quantreg_slope', 'sd_correction_quantreg_intersect']],\n",
    "            count_var_df[['sum_correction_using_ion_pool']] ]\n",
    "        \n",
    "        adata.var = functools.reduce(lambda left,right: pd.merge(left, right, how='left', left_index=True, right_index=True), dfs)\n",
    "        adata.var['corrected_only_using_pool'] = adata.var['sum_correction_using_ion_pool'] == len(adata_dict)\n",
    "        \n",
    "    #sc.tl.pca(adata)\n",
    "    #sc.external.pp.bbknn(adata, batch_key='well')\n",
    "    # split_dataset_info(adata)\n",
    "    return adata\n",
    "\n",
    "# am_adata = concat_wells(am_adata_dict)\n",
    "# am_adata_cor = concat_wells(am_adata_cor_dict)\n",
    "adata = concat_wells(adata_dict)\n",
    "gen_adata = concat_wells(gen_adata_dict)\n",
    "adata_cor = concat_wells(adata_cor_dict)"
   ]
  },
  {
   "cell_type": "markdown",
   "id": "0ff21257",
   "metadata": {
    "papermill": {
     "duration": null,
     "end_time": null,
     "exception": null,
     "start_time": null,
     "status": "pending"
    },
    "tags": []
   },
   "source": [
    "Especially for the underlying slopes of the ISM correction, taking the mean removes a lot of information. In reality, the different wells exhibit a large variety of slopes, which is visualized in the following figure. All ions are shown by increasing fraction of pool-corrected wells. Clearly, the lower this fraction, the more variable the distribution."
   ]
  },
  {
   "cell_type": "code",
   "execution_count": null,
   "id": "1c3a221e",
   "metadata": {
    "execution": {
     "iopub.execute_input": "2023-01-10T11:02:13.277506Z",
     "iopub.status.busy": "2023-01-10T11:02:13.277120Z",
     "iopub.status.idle": "2023-01-10T11:02:14.013397Z",
     "shell.execute_reply": "2023-01-10T11:02:14.012243Z"
    },
    "papermill": {
     "duration": null,
     "end_time": null,
     "exception": null,
     "start_time": null,
     "status": "pending"
    },
    "tags": []
   },
   "outputs": [],
   "source": [
    "plot_range_slopes(adata_cor_dict)"
   ]
  },
  {
   "cell_type": "code",
   "execution_count": null,
   "id": "c782279d-1c17-4149-91f5-d4b8332fa799",
   "metadata": {
    "execution": {
     "iopub.execute_input": "2023-01-10T11:02:14.019248Z",
     "iopub.status.busy": "2023-01-10T11:02:14.018844Z",
     "iopub.status.idle": "2023-01-10T11:02:14.024522Z",
     "shell.execute_reply": "2023-01-10T11:02:14.023225Z"
    }
   },
   "outputs": [],
   "source": [
    "adata.obs.index.name = 'cell_id'\n",
    "gen_adata.obs.index.name = 'cell_id'\n",
    "adata_cor.obs.index.name = 'cell_id'"
   ]
  },
  {
   "cell_type": "markdown",
   "id": "866e5368",
   "metadata": {
    "papermill": {
     "duration": null,
     "end_time": null,
     "exception": null,
     "start_time": null,
     "status": "pending"
    },
    "tags": []
   },
   "source": [
    "The concatenated annotated data matrices are individually saved to file."
   ]
  },
  {
   "cell_type": "code",
   "execution_count": null,
   "id": "29612f18",
   "metadata": {
    "execution": {
     "iopub.execute_input": "2023-01-10T11:02:14.029455Z",
     "iopub.status.busy": "2023-01-10T11:02:14.029061Z",
     "iopub.status.idle": "2023-01-10T11:02:14.159381Z",
     "shell.execute_reply": "2023-01-10T11:02:14.158221Z"
    },
    "papermill": {
     "duration": null,
     "end_time": null,
     "exception": null,
     "start_time": null,
     "status": "pending"
    },
    "tags": []
   },
   "outputs": [],
   "source": [
    "adata.write(os.path.join(target_path, \"batch_sm_matrix.h5ad\"))\n",
    "gen_adata.write(os.path.join(target_path, \"gen_batch_sm_matrix.h5ad\"))\n",
    "adata_cor.write(os.path.join(target_path, \"corrected_batch_sm_matrix.h5ad\"))"
   ]
  },
  {
   "cell_type": "markdown",
   "id": "ad1d80f3",
   "metadata": {
    "papermill": {
     "duration": null,
     "end_time": null,
     "exception": null,
     "start_time": null,
     "status": "pending"
    },
    "tags": []
   },
   "source": [
    "In order to ensure that especially the pixel-cell deconvolution was successful across samples, the summed absolute deviations between different annotated datasets are visualized in the following plot. On one hand, the uncorected but manually deconvoluted (generated) dataset is compared to the dataset directly output by SpaceM. If the same parameters were used for deconvolution, these dataset should not exhibit any differences. On the other hand, the corrected dataset is compared to the generated dataset. These dataset should exhibit differences on a comparable level across samples. If one of the samples shows much greater differences than the others, there might be a sample-specific problem with the parameters used for deconvolution."
   ]
  },
  {
   "cell_type": "code",
   "execution_count": null,
   "id": "c72b6b62",
   "metadata": {
    "execution": {
     "iopub.execute_input": "2023-01-10T11:02:14.165007Z",
     "iopub.status.busy": "2023-01-10T11:02:14.164459Z",
     "iopub.status.idle": "2023-01-10T11:02:14.584931Z",
     "shell.execute_reply": "2023-01-10T11:02:14.583762Z"
    },
    "papermill": {
     "duration": null,
     "end_time": null,
     "exception": null,
     "start_time": null,
     "status": "pending"
    },
    "tags": []
   },
   "outputs": [],
   "source": [
    "def plot_deviations(adata1, adata2, label=\"\"):\n",
    "    df = np.abs(adata1.to_df() - adata2.to_df()).sum(axis=1)\n",
    "    df = df / (adata1.to_df().shape[0] * adata1.to_df().shape[1])\n",
    "    df = pd.concat({'summed deviation': df, 'well': adata1.obs['well']}, axis=1)\n",
    "    sns.lineplot(df, x='well', y=\"summed deviation\", label=label, marker='o').set(title = 'Summed absolute deviations across wells')\n",
    "    print(label)\n",
    "    print(df.mean())\n",
    "    \n",
    "plot_deviations(adata, gen_adata, 'gen. data vs. Martijns data')\n",
    "plot_deviations(gen_adata, adata_cor, 'corr. data vs. gen. data')"
   ]
  }
 ],
 "metadata": {
  "kernelspec": {
   "display_name": "Python 3 (ipykernel)",
   "language": "python",
   "name": "python3"
  },
  "language_info": {
   "codemirror_mode": {
    "name": "ipython",
    "version": 3
   },
   "file_extension": ".py",
   "mimetype": "text/x-python",
   "name": "python",
   "nbconvert_exporter": "python",
   "pygments_lexer": "ipython3",
   "version": "3.10.6"
  },
  "papermill": {
   "default_parameters": {},
   "duration": 7.878498,
   "end_time": "2022-12-07T12:33:23.183130",
   "environment_variables": {},
   "exception": true,
   "input_path": "/home/mklein/FDA_project/pipeline_02_processing.ipynb",
   "output_path": "/home/mklein/FDA_project/analysis/Mx_Coculture/pipeline_02_processing.ipynb",
   "parameters": {
    "analysis_path": "/home/mklein/FDA_project/analysis/Mx_Coculture",
    "condition_name": "condition",
    "deconv_default_min_overlap": 0.3,
    "notebooks": [
     "pipeline_01_correction.ipynb",
     "pipeline_02_processing.ipynb",
     "pipeline_03_evaluation.ipynb"
    ],
    "project": "Mx_Coculture",
    "source_path": "/home/mklein/Raw Data/Coculture",
    "target_path": "/home/mklein/FDA_project/data/Mx_Co_Cultured",
    "well_name": "rowcol"
   },
   "start_time": "2022-12-07T12:33:15.304632",
   "version": "2.3.4"
  },
  "vscode": {
   "interpreter": {
    "hash": "89b4449ee30f46b148fb6825d70934bcbb1ebdb6d5b2015fe3835362773c7289"
   }
  }
 },
 "nbformat": 4,
 "nbformat_minor": 5
}
