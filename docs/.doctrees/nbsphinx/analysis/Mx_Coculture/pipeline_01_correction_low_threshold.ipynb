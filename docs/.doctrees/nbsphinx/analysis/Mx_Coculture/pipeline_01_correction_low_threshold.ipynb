{
 "cells": [
  {
   "cell_type": "markdown",
   "id": "967e2409",
   "metadata": {
    "papermill": {
     "duration": 0.007362,
     "end_time": "2022-12-06T15:35:55.380791",
     "exception": false,
     "start_time": "2022-12-06T15:35:55.373429",
     "status": "completed"
    },
    "tags": []
   },
   "source": [
    "# Mx_Coculture: Correction\n",
    "\n",
    "SpaceM datasets are usually stored as annotated data-matrices, separately for individual wells. With this notebooks, these individual files are corrected for ion suppression on the pixel-level and then deconvoluted to cell-level. All resulting files are saved separately by well to the target_path and the impact of the correction briefly shown for visual inspection."
   ]
  },
  {
   "cell_type": "code",
   "execution_count": null,
   "id": "b08a1b84",
   "metadata": {
    "execution": {
     "iopub.execute_input": "2023-01-16T22:47:15.693814Z",
     "iopub.status.busy": "2023-01-16T22:47:15.693252Z",
     "iopub.status.idle": "2023-01-16T22:47:21.385928Z",
     "shell.execute_reply": "2023-01-16T22:47:21.384073Z"
    },
    "papermill": {
     "duration": 4.316287,
     "end_time": "2022-12-06T15:35:59.702814",
     "exception": false,
     "start_time": "2022-12-06T15:35:55.386527",
     "status": "completed"
    },
    "tags": []
   },
   "outputs": [],
   "source": [
    "import os\n",
    "import platform\n",
    "import scanpy as sc\n",
    "import pandas as pd\n",
    "import numpy as np\n",
    "import anndata as ad\n",
    "import statistics as st\n",
    "import multiprocessing\n",
    "from joblib import Parallel, delayed\n",
    "from tqdm import tqdm\n",
    "import statsmodels.formula.api as smf\n",
    "import seaborn as sns\n",
    "import re\n",
    "from importlib import reload\n",
    "import json\n",
    "import sys\n",
    "sys.path.append('/home/mklein/spacem')\n",
    "sys.path.append('/home/mklein/FDA_project')\n",
    "\n",
    "from src.correction import (add_normalization_factors, \n",
    "                            correct_quantile_inplace,\n",
    "                            deconvolution_spacem,\n",
    "                            get_overlap_data,\n",
    "                            add_overlap_matrix_spacem, \n",
    "                            get_reference_pool\n",
    "                           )\n",
    "from src import const \n",
    "from SpaceM.lib.modules import (\n",
    "    overlap_analysis,\n",
    "    single_cell_analysis_normalization\n",
    ")\n",
    "\n",
    "%matplotlib inline"
   ]
  },
  {
   "cell_type": "markdown",
   "id": "f2be86b0",
   "metadata": {
    "papermill": {
     "duration": 0.006872,
     "end_time": "2022-12-06T15:35:59.718067",
     "exception": false,
     "start_time": "2022-12-06T15:35:59.711195",
     "status": "completed"
    },
    "tags": []
   },
   "source": [
    "The original data lies on the groups shared data storage. Corrected files will be saved in a separate location, preserving the well-specific folder structure."
   ]
  },
  {
   "cell_type": "code",
   "execution_count": null,
   "id": "95750978",
   "metadata": {
    "execution": {
     "iopub.execute_input": "2023-01-16T22:47:21.393595Z",
     "iopub.status.busy": "2023-01-16T22:47:21.392517Z",
     "iopub.status.idle": "2023-01-16T22:47:21.399467Z",
     "shell.execute_reply": "2023-01-16T22:47:21.398512Z"
    },
    "papermill": {
     "duration": 0.019014,
     "end_time": "2022-12-06T15:35:59.743412",
     "exception": false,
     "start_time": "2022-12-06T15:35:59.724398",
     "status": "completed"
    },
    "tags": [
     "parameters"
    ]
   },
   "outputs": [],
   "source": [
    "if platform.system() == \"Darwin\":\n",
    "    source_path = '/Volumes/alexandr/smenon/2022-07-13_Glioblastoma/processed_files'\n",
    "    target_path = '/Volumes/mklein/FDA_project/data/Lx_Glioblastoma'\n",
    "else:\n",
    "    source_path = '/g/alexandr/smenon/2022-07-13_Glioblastoma/processed_files'\n",
    "    target_path = '/home/mklein/FDA_project/data/Lx_Glioblastoma'\n",
    "    \n",
    "deconv_default_min_overlap = 0.0"
   ]
  },
  {
   "cell_type": "code",
   "execution_count": null,
   "id": "d3cdc205",
   "metadata": {
    "execution": {
     "iopub.execute_input": "2023-01-16T22:47:21.403357Z",
     "iopub.status.busy": "2023-01-16T22:47:21.403046Z",
     "iopub.status.idle": "2023-01-16T22:47:21.408651Z",
     "shell.execute_reply": "2023-01-16T22:47:21.407629Z"
    },
    "papermill": {
     "duration": 0.017111,
     "end_time": "2022-12-06T15:35:59.766973",
     "exception": false,
     "start_time": "2022-12-06T15:35:59.749862",
     "status": "completed"
    },
    "tags": [
     "injected-parameters"
    ]
   },
   "outputs": [],
   "source": [
    "# Parameters\n",
    "source_path = \"/home/mklein/Raw Data/Coculture\"\n",
    "target_path = \"/home/mklein/FDA_project/data/Mx_Co_Cultured\"\n",
    "condition_name = \"condition\"\n",
    "well_name = \"rowcol\"\n",
    "deconv_default_min_overlap = 0.3\n",
    "analysis_path = \"/home/mklein/FDA_project/analysis/Mx_Coculture\"\n",
    "notebooks = [\n",
    "    \"pipeline_01_correction.ipynb\",\n",
    "    \"pipeline_02_processing.ipynb\",\n",
    "    \"pipeline_03_evaluation.ipynb\",\n",
    "]\n",
    "project = \"Mx_Coculture\"\n",
    "correction_proportion_threshold = 1e-3"
   ]
  },
  {
   "cell_type": "code",
   "execution_count": null,
   "id": "e0d9a5db",
   "metadata": {
    "execution": {
     "iopub.execute_input": "2023-01-16T22:47:21.412279Z",
     "iopub.status.busy": "2023-01-16T22:47:21.411985Z",
     "iopub.status.idle": "2023-01-16T22:47:21.440261Z",
     "shell.execute_reply": "2023-01-16T22:47:21.439254Z"
    },
    "papermill": {
     "duration": 0.023525,
     "end_time": "2022-12-06T15:35:59.796878",
     "exception": false,
     "start_time": "2022-12-06T15:35:59.773353",
     "status": "completed"
    },
    "tags": []
   },
   "outputs": [],
   "source": [
    "samples = []\n",
    "for dirpath, dirnames, filenames in os.walk(source_path):\n",
    "        if 'analysis' in dirnames:\n",
    "            samples.append(re.sub(source_path+'/?', '', dirpath))\n",
    "samples"
   ]
  },
  {
   "cell_type": "code",
   "execution_count": null,
   "id": "375d06df",
   "metadata": {
    "execution": {
     "iopub.execute_input": "2023-01-16T22:47:21.444333Z",
     "iopub.status.busy": "2023-01-16T22:47:21.443899Z",
     "iopub.status.idle": "2023-01-16T22:47:21.449076Z",
     "shell.execute_reply": "2023-01-16T22:47:21.448137Z"
    },
    "papermill": {
     "duration": 0.015021,
     "end_time": "2022-12-06T15:35:59.817985",
     "exception": false,
     "start_time": "2022-12-06T15:35:59.802964",
     "status": "completed"
    },
    "tags": []
   },
   "outputs": [],
   "source": [
    "files = {\n",
    "        'config': '../config.json',\n",
    "        'sm_matrix': 'ablation_mark_analysis/spatiomolecular_adata.h5ad',\n",
    "        'overlap_regions': 'overlap_analysis2/overlap.regions.csv',\n",
    "        'mark_regions': 'overlap_analysis2/ablation_mark.regions.csv',\n",
    "        'cell_regions': 'overlap_analysis2/cell.regions.csv',\n",
    "        'cell_sm_matrix': 'single_cell_analysis/spatiomolecular_adata.h5ad',\n",
    "    }"
   ]
  },
  {
   "cell_type": "code",
   "execution_count": null,
   "id": "19c81ab5",
   "metadata": {
    "execution": {
     "iopub.execute_input": "2023-01-16T22:47:21.452642Z",
     "iopub.status.busy": "2023-01-16T22:47:21.452327Z",
     "iopub.status.idle": "2023-01-16T22:47:21.638731Z",
     "shell.execute_reply": "2023-01-16T22:47:21.637601Z"
    },
    "papermill": {
     "duration": 0.018799,
     "end_time": "2022-12-06T15:35:59.842699",
     "exception": false,
     "start_time": "2022-12-06T15:35:59.823900",
     "status": "completed"
    },
    "tags": []
   },
   "outputs": [],
   "source": [
    "def assign_average_tpo(am_adata, overlap_data, min_overlap, method=np.mean):\n",
    "    if min_overlap is None:\n",
    "        min_overlap = 0\n",
    "    \n",
    "    overlap = overlap_data.overlap_regions\n",
    "    overlap['am_id'] = overlap['am_id'].astype(str)\n",
    "    overlap['cell_id'] = overlap['cell_id'].astype(str)\n",
    "    merged_df = pd.merge(overlap[['am_id', 'cell_id']], am_adata.obs[const.TPO], left_on='am_id', right_index=True)\n",
    "    merged_df = merged_df[merged_df[const.TPO] >= min_overlap]\n",
    "    \n",
    "    mean_df = merged_df[['cell_id', 'correction_total_pixel_overlap']].groupby('cell_id', group_keys=False).agg(method)\n",
    "#     mean_df = merged_df[['cell_id', 'correction_total_pixel_overlap']].groupby('cell_id', group_keys=False).agg(lambda x: method(x))\n",
    "    return mean_df[const.TPO]"
   ]
  },
  {
   "cell_type": "code",
   "execution_count": null,
   "id": "b1b3db67",
   "metadata": {
    "execution": {
     "iopub.execute_input": "2023-01-16T22:47:21.643782Z",
     "iopub.status.busy": "2023-01-16T22:47:21.643471Z",
     "iopub.status.idle": "2023-01-16T22:47:21.656249Z",
     "shell.execute_reply": "2023-01-16T22:47:21.655387Z"
    },
    "papermill": {
     "duration": 0.025348,
     "end_time": "2022-12-06T15:35:59.873847",
     "exception": false,
     "start_time": "2022-12-06T15:35:59.848499",
     "status": "completed"
    },
    "tags": []
   },
   "outputs": [],
   "source": [
    "def correct_sample_spacem(sample):\n",
    "    \n",
    "    sample_path = os.path.join(source_path, sample, \"analysis\")\n",
    "    sample = re.sub('/', '_', sample)\n",
    "    \n",
    "    if not os.path.exists(os.path.join(target_path, sample)):\n",
    "        os.makedirs(os.path.join(target_path, sample))\n",
    "\n",
    "    # get appropriate file paths for the processed well\n",
    "    project_files = {k: os.path.join(sample_path, v) for k, v in files.items()}\n",
    "\n",
    "    if os.path.exists(project_files['config']):\n",
    "        with open(project_files['config']) as json_file:\n",
    "            data = json.load(json_file)\n",
    "        deconv_info = data['single_cell_analysis']\n",
    "        if deconv_info['ablation_marks_min_overlap_ratio'] is None:\n",
    "            deconv_info['ablation_marks_min_overlap_ratio'] = deconv_default_min_overlap\n",
    "    else:\n",
    "        deconv_info = {'cell_normalization_method': 'weighted_by_overlap_and_sampling_area', \n",
    "                       'ablation_marks_min_overlap_ratio': 0\n",
    "        }\n",
    "        print('No well config file found. Using default deconvolution parameters.')\n",
    "    # load required files\n",
    "    cell_regions = pd.read_csv(project_files['cell_regions'])\n",
    "    mark_regions = pd.read_csv(project_files['mark_regions'])\n",
    "    overlap_regions = pd.read_csv(project_files['overlap_regions'])\n",
    "    \n",
    "    sm_matrix = sc.read(os.path.join(sample_path, files['sm_matrix']))\n",
    "    cell_sm_matrix = sc.read(os.path.join(sample_path, files['cell_sm_matrix']))\n",
    "       \n",
    "    \n",
    "    add_overlap_matrix_spacem(sm_matrix, cell_regions, mark_regions, overlap_regions)\n",
    "    add_normalization_factors(adata=sm_matrix, method=st.median)\n",
    "        \n",
    "    # perform the actual quantile regression\n",
    "    corr_sm_matrix = correct_quantile_inplace(adata=sm_matrix, \n",
    "        reference_ions= get_reference_pool(sm_matrix), \n",
    "        correct_intersect = True,\n",
    "        proportion_threshold = correction_proportion_threshold,\n",
    "        n_jobs=5)\n",
    "    \n",
    "    # perform pixel-cell-deconvolution\n",
    "    overlap_data = get_overlap_data(cell_regions, mark_regions, overlap_regions)\n",
    "    # corr_cell_sm_matrix = deconvolution_spacem(adata=corr_sm_matrix, \n",
    "    #     overlap_data=overlap_data,\n",
    "    #     raw_adata=cell_sm_matrix,\n",
    "    #     deconvolution_params=deconv_info)\n",
    "    # gen_cell_sm_matrix = deconvolution_spacem(adata=sm_matrix,\n",
    "    #     overlap_data=overlap_data,\n",
    "    #     raw_adata=cell_sm_matrix,\n",
    "    #     deconvolution_params=deconv_info)\n",
    "    \n",
    "    from src.correction import deconvolution_rappez, get_matrices_from_dfs, add_matrices\n",
    "    overlap_matrix, sampling_spec_matrix = get_matrices_from_dfs(mark_area=mark_regions, cell_area=cell_regions, marks_cell_overlap=overlap_regions)\n",
    "    add_matrices(adata = sm_matrix, overlap_matrix = overlap_matrix, sampling_spec_matrix = sampling_spec_matrix)\n",
    "    add_matrices(adata = corr_sm_matrix, overlap_matrix = overlap_matrix, sampling_spec_matrix = sampling_spec_matrix)\n",
    "    \n",
    "    gen_cell_sm_matrix = deconvolution_rappez(sm_matrix, raw_adata=cell_sm_matrix)\n",
    "    corr_cell_sm_matrix = deconvolution_rappez(corr_sm_matrix, raw_adata=cell_sm_matrix)\n",
    "\n",
    "    # hand over TPOs to spatiomolecular matrix for downstream analysis\n",
    "    min_overlap = deconv_info['ablation_marks_min_overlap_ratio']\n",
    "    corr_cell_sm_matrix.obs['list_TPO'] = assign_average_tpo(sm_matrix, overlap_data, min_overlap, method=lambda x: \";\".join(x.astype(str)))\n",
    "    gen_cell_sm_matrix.obs['list_TPO'] = assign_average_tpo(sm_matrix, overlap_data, min_overlap, method=lambda x: \";\".join(x.astype(str)))\n",
    "    \n",
    "    # write the generated files to the dedicated project location.\n",
    "    # corr_sm_matrix.write(os.path.join(target_path, sample, 'am_spatiomolecular_adata_corrected.h5ad'))\n",
    "    # sm_matrix.write(os.path.join(target_path, sample, 'am_spatiomolecular_adata.h5ad'))\n",
    "    # corr_cell_sm_matrix.write(os.path.join(target_path, sample, 'cells_spatiomolecular_adata_corrected.h5ad'))\n",
    "    # cell_sm_matrix.write(os.path.join(target_path, sample, 'cells_spatiomolecular_adata_spacem.h5ad'))\n",
    "    # gen_cell_sm_matrix.write(os.path.join(target_path, sample, 'cells_spatiomolecular_adata.h5ad'))\n",
    "    #               deconv using own implementation                                                  deconv by Martijn\n",
    "    return (sample, gen_cell_sm_matrix, corr_cell_sm_matrix, sm_matrix, corr_sm_matrix, deconv_info, cell_sm_matrix)"
   ]
  },
  {
   "cell_type": "markdown",
   "id": "0d7433e1",
   "metadata": {
    "papermill": {
     "duration": 0.005724,
     "end_time": "2022-12-06T15:35:59.885105",
     "exception": false,
     "start_time": "2022-12-06T15:35:59.879381",
     "status": "completed"
    },
    "tags": []
   },
   "source": [
    "This is the actual correction pipeline."
   ]
  },
  {
   "cell_type": "code",
   "execution_count": null,
   "id": "9c9d76fc",
   "metadata": {
    "execution": {
     "iopub.execute_input": "2023-01-16T22:47:21.660918Z",
     "iopub.status.busy": "2023-01-16T22:47:21.660659Z",
     "iopub.status.idle": "2023-01-16T22:47:52.809432Z",
     "shell.execute_reply": "2023-01-16T22:47:52.807344Z"
    },
    "papermill": {
     "duration": 5.863652,
     "end_time": "2022-12-06T15:36:05.754419",
     "exception": true,
     "start_time": "2022-12-06T15:35:59.890767",
     "status": "failed"
    },
    "tags": []
   },
   "outputs": [],
   "source": [
    "# adata_list = Parallel(n_jobs=7)(delayed(correct_sample_spacem)(sample) for sample in tqdm(samples))\n",
    "adata_list = [correct_sample_spacem(sample) for sample in tqdm(['dataset'])]"
   ]
  },
  {
   "cell_type": "code",
   "execution_count": null,
   "id": "a46b6863",
   "metadata": {
    "execution": {
     "iopub.execute_input": "2023-01-16T22:47:52.816004Z",
     "iopub.status.busy": "2023-01-16T22:47:52.815515Z",
     "iopub.status.idle": "2023-01-16T22:47:53.048894Z",
     "shell.execute_reply": "2023-01-16T22:47:53.047700Z"
    },
    "papermill": {
     "duration": null,
     "end_time": null,
     "exception": null,
     "start_time": null,
     "status": "pending"
    },
    "tags": []
   },
   "outputs": [],
   "source": [
    "# reshape data for immediate analysis\n",
    "gen_adata_dict = {item[0]: item[1] for item in adata_list}\n",
    "adata_cor_dict = {item[0]: item[2] for item in adata_list}\n",
    "am_adata_dict = {item[0]: item[3] for item in adata_list}\n",
    "am_adata_cor_dict = {item[0]: item[4] for item in adata_list}\n",
    "adata_dict = {item[0]: item[6] for item in adata_list}\n",
    "\n",
    "am_adata = ad.concat(am_adata_dict, label='well', index_unique=\"_\", merge=\"first\")\n",
    "am_adata_cor = ad.concat(am_adata_cor_dict, label='well', index_unique=\"_\", merge='first')\n",
    "gen_adata = ad.concat(gen_adata_dict, label='well', index_unique=\"_\", merge=\"first\")\n",
    "adata = ad.concat(adata_dict, label='well', index_unique=\"_\", merge=\"first\")\n",
    "adata_cor = ad.concat(adata_cor_dict, label='well', index_unique=\"_\", merge=\"first\")\n",
    "\n",
    "deconv_dict = {item[0]: item[5] for item in adata_list}\n",
    "deconv_table = pd.DataFrame(deconv_dict).T\n",
    "deconv_table"
   ]
  },
  {
   "cell_type": "markdown",
   "id": "9df492cd-1020-4da0-a5e4-93eaba8cb8e2",
   "metadata": {},
   "source": [
    "The ion suppression correction takes a parameter proportion_threshold to filter the pixels used to compute quantile regression. In particular, pixels with a sampling proportion lower than the threshold are excluded for this step. In contrast, the actual correction is then performed on all pixels in the dataset. As a consequence, for the majority of the dataset, the dependence of the data on the factor \"sampling_proportion\" is not completely removed by the correction. Instead, depending on the difference in slope between the complete and thresholded set of pixels, the corrected set of pixels has a positive or negative dependence on the factor \"sampling_proportion\". The larger the proportion_threshold, the stronger this deviation can get.\n",
    "\n",
    "In the following figure, these differences are visualized for a subset of ions (with very low/high correction slope) and wells. The top panel shows the logarithmic ion intensity/proportion ratio plotted against the log proportion ratio of the respective pixels. As this is the relationship used to compute the quantile regression, the resulting regression lines can also be shown. The black lines show the quantile regression of the total set of pixels in a well, the red lines for the thresholded set (shown as orange squares). In turn, the blue squares are disregarded in calculating the correction slope. The bottom panel shows the corresponding corrected sets of pixels with black lines again representing the quantile regression on the complete set of pixels."
   ]
  },
  {
   "cell_type": "code",
   "execution_count": null,
   "id": "20afa161",
   "metadata": {
    "execution": {
     "iopub.execute_input": "2023-01-16T22:47:53.052652Z",
     "iopub.status.busy": "2023-01-16T22:47:53.052381Z",
     "iopub.status.idle": "2023-01-16T22:47:53.057238Z",
     "shell.execute_reply": "2023-01-16T22:47:53.056320Z"
    },
    "papermill": {
     "duration": null,
     "end_time": null,
     "exception": null,
     "start_time": null,
     "status": "pending"
    },
    "tags": []
   },
   "outputs": [],
   "source": [
    "import warnings\n",
    "warnings.filterwarnings('ignore')"
   ]
  },
  {
   "cell_type": "code",
   "execution_count": null,
   "id": "bbb1ef44",
   "metadata": {
    "execution": {
     "iopub.execute_input": "2023-01-16T22:47:53.060644Z",
     "iopub.status.busy": "2023-01-16T22:47:53.060295Z",
     "iopub.status.idle": "2023-01-16T22:47:53.065573Z",
     "shell.execute_reply": "2023-01-16T22:47:53.064656Z"
    },
    "papermill": {
     "duration": null,
     "end_time": null,
     "exception": null,
     "start_time": null,
     "status": "pending"
    },
    "tags": []
   },
   "outputs": [],
   "source": [
    "am_adata.obs[const.TPO] = am_adata_cor.obs[const.TPO]"
   ]
  },
  {
   "cell_type": "code",
   "execution_count": null,
   "id": "10879803-1d7f-456e-8a22-fb75cd4bdfc9",
   "metadata": {
    "execution": {
     "iopub.execute_input": "2023-01-16T22:47:53.068918Z",
     "iopub.status.busy": "2023-01-16T22:47:53.068577Z",
     "iopub.status.idle": "2023-01-16T22:48:02.027707Z",
     "shell.execute_reply": "2023-01-16T22:48:02.026424Z"
    },
    "papermill": {
     "duration": null,
     "end_time": null,
     "exception": null,
     "start_time": null,
     "status": "pending"
    },
    "tags": []
   },
   "outputs": [],
   "source": [
    "from src.evaluation import compare_pre_post_correction\n",
    "compare_pre_post_correction(am_adata, am_adata_cor, proportion_threshold=correction_proportion_threshold)"
   ]
  },
  {
   "cell_type": "code",
   "execution_count": null,
   "id": "3ee0a18e-8234-4d63-9a98-fa8c30622e4c",
   "metadata": {
    "execution": {
     "iopub.execute_input": "2023-01-16T22:48:02.038632Z",
     "iopub.status.busy": "2023-01-16T22:48:02.038351Z",
     "iopub.status.idle": "2023-01-16T22:48:03.948632Z",
     "shell.execute_reply": "2023-01-16T22:48:03.947752Z"
    }
   },
   "outputs": [],
   "source": [
    "import src.evaluation\n",
    "reload(src.evaluation)\n",
    "import src.const\n",
    "reload(src.const)\n",
    "from src.evaluation import compare_pre_post_correction\n",
    "compare_pre_post_correction(am_adata, am_adata_cor, proportion_threshold=correction_proportion_threshold, ions=['C20H32O2', 'C35H69O8P'])"
   ]
  }
 ],
 "metadata": {
  "kernelspec": {
   "display_name": "Python 3 (ipykernel)",
   "language": "python",
   "name": "python3"
  },
  "language_info": {
   "codemirror_mode": {
    "name": "ipython",
    "version": 3
   },
   "file_extension": ".py",
   "mimetype": "text/x-python",
   "name": "python",
   "nbconvert_exporter": "python",
   "pygments_lexer": "ipython3",
   "version": "3.10.8"
  },
  "papermill": {
   "default_parameters": {},
   "duration": 15.641174,
   "end_time": "2022-12-06T15:36:08.395635",
   "environment_variables": {},
   "exception": true,
   "input_path": "/home/mklein/FDA_project/pipeline_01_correction.ipynb",
   "output_path": "/home/mklein/FDA_project/analysis/Mx_Coculture/pipeline_01_correction.ipynb",
   "parameters": {
    "analysis_path": "/home/mklein/FDA_project/analysis/Mx_Coculture",
    "condition_name": "condition",
    "deconv_default_min_overlap": 0.3,
    "notebooks": [
     "pipeline_01_correction.ipynb",
     "pipeline_02_processing.ipynb",
     "pipeline_03_evaluation.ipynb"
    ],
    "project": "Mx_Coculture",
    "source_path": "/home/mklein/Raw Data/Coculture",
    "target_path": "/home/mklein/FDA_project/data/Mx_Co_Cultured",
    "well_name": "rowcol"
   },
   "start_time": "2022-12-06T15:35:52.754461",
   "version": "2.3.4"
  },
  "vscode": {
   "interpreter": {
    "hash": "89b4449ee30f46b148fb6825d70934bcbb1ebdb6d5b2015fe3835362773c7289"
   }
  }
 },
 "nbformat": 4,
 "nbformat_minor": 5
}
