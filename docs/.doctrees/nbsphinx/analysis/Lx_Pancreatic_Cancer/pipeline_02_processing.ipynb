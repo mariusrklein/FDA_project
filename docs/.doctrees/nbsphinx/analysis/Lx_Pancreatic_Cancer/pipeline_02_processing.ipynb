{
 "cells": [
  {
   "cell_type": "markdown",
   "id": "62aa2d79",
   "metadata": {
    "papermill": {
     "duration": 0.007452,
     "end_time": "2022-12-01T11:44:27.237141",
     "exception": false,
     "start_time": "2022-12-01T11:44:27.229689",
     "status": "completed"
    },
    "tags": []
   },
   "source": [
    "# Processing corrected samples\n",
    "\n",
    "Datasets typically consist of several wells on a microscopy slide. In this notebook, the wells are integrated to one annotated data matrix."
   ]
  },
  {
   "cell_type": "code",
   "execution_count": null,
   "id": "577179e1",
   "metadata": {
    "execution": {
     "iopub.execute_input": "2022-12-01T11:44:27.252858Z",
     "iopub.status.busy": "2022-12-01T11:44:27.252328Z",
     "iopub.status.idle": "2022-12-01T11:44:31.208016Z",
     "shell.execute_reply": "2022-12-01T11:44:31.206790Z"
    },
    "papermill": {
     "duration": 3.967536,
     "end_time": "2022-12-01T11:44:31.211703",
     "exception": false,
     "start_time": "2022-12-01T11:44:27.244167",
     "status": "completed"
    },
    "tags": []
   },
   "outputs": [],
   "source": [
    "import os\n",
    "import platform\n",
    "import scanpy as sc\n",
    "import pandas as pd\n",
    "import numpy as np\n",
    "import anndata as ad\n",
    "import multiprocessing\n",
    "from joblib import Parallel, delayed\n",
    "from importlib import reload\n",
    "from tqdm import tqdm\n",
    "import statsmodels.formula.api as smf\n",
    "import matplotlib.pyplot as plt\n",
    "import seaborn as sns\n",
    "import functools\n",
    "import sys\n",
    "sys.path.append('/home/mklein/spacem')\n",
    "sys.path.append('/Volumes/mklein/spacem')\n",
    "sys.path.append('/home/mklein/FDA_project')\n",
    "from src.correction import get_matrices_from_dfs, normalize_proportion_ratios\n",
    "from src import const\n",
    "from src.evaluation import plot_all_ion_slopes\n",
    "\n",
    "%matplotlib inline\n",
    "%config InlineBackend.figure_formats = ['retina']"
   ]
  },
  {
   "cell_type": "code",
   "execution_count": null,
   "id": "b9a54fd7",
   "metadata": {
    "execution": {
     "iopub.execute_input": "2022-12-01T11:44:31.230210Z",
     "iopub.status.busy": "2022-12-01T11:44:31.229727Z",
     "iopub.status.idle": "2022-12-01T11:44:31.234953Z",
     "shell.execute_reply": "2022-12-01T11:44:31.233949Z"
    },
    "papermill": {
     "duration": 0.016147,
     "end_time": "2022-12-01T11:44:31.237603",
     "exception": false,
     "start_time": "2022-12-01T11:44:31.221456",
     "status": "completed"
    },
    "tags": [
     "parameters"
    ]
   },
   "outputs": [],
   "source": [
    "if platform.system() == \"Darwin\":\n",
    "    target_path = '/Volumes/mklein/FDA_project/data/Lx_Glioblastoma'\n",
    "else:\n",
    "    target_path = '/home/mklein/FDA_project/data/Lx_Glioblastoma'\n",
    "    \n",
    "# this is the column of the annotated data matrix, that discriminates between conditions\n",
    "condition_name = 'dataset_3'"
   ]
  },
  {
   "cell_type": "code",
   "execution_count": null,
   "id": "77f92019",
   "metadata": {
    "execution": {
     "iopub.execute_input": "2022-12-01T11:44:31.252190Z",
     "iopub.status.busy": "2022-12-01T11:44:31.251869Z",
     "iopub.status.idle": "2022-12-01T11:44:31.256509Z",
     "shell.execute_reply": "2022-12-01T11:44:31.255696Z"
    },
    "papermill": {
     "duration": 0.014464,
     "end_time": "2022-12-01T11:44:31.258843",
     "exception": false,
     "start_time": "2022-12-01T11:44:31.244379",
     "status": "completed"
    },
    "tags": [
     "injected-parameters"
    ]
   },
   "outputs": [],
   "source": [
    "# Parameters\n",
    "source_path = \"/home/mklein/Raw Data/2022-01-31_PancreaticCancer\"\n",
    "target_path = \"/home/mklein/FDA_project/data/Lx_Pancreatic_Cancer\"\n",
    "condition_name = \"condition\"\n",
    "well_name = \"rowcol\"\n",
    "analysis_path = \"/home/mklein/FDA_project/analysis/Lx_Pancreatic_Cancer\"\n",
    "notebooks = [\n",
    "    \"pipeline_01_correction.ipynb\",\n",
    "    \"pipeline_02_processing.ipynb\",\n",
    "    \"pipeline_03_evaluation.ipynb\",\n",
    "]\n",
    "project = \"Lx_Pancreatic_Cancer\"\n"
   ]
  },
  {
   "cell_type": "code",
   "execution_count": null,
   "id": "3ff44b62",
   "metadata": {
    "execution": {
     "iopub.execute_input": "2022-12-01T11:44:31.272183Z",
     "iopub.status.busy": "2022-12-01T11:44:31.271950Z",
     "iopub.status.idle": "2022-12-01T11:44:31.277732Z",
     "shell.execute_reply": "2022-12-01T11:44:31.276833Z"
    },
    "papermill": {
     "duration": 0.015397,
     "end_time": "2022-12-01T11:44:31.280230",
     "exception": false,
     "start_time": "2022-12-01T11:44:31.264833",
     "status": "completed"
    },
    "tags": []
   },
   "outputs": [],
   "source": [
    "samples = [dir.name for dir in os.scandir(target_path) if dir.is_dir() and dir.name[0] != \".\"]\n",
    "\n",
    "files = {\n",
    "        'am_sm_matrix': 'am_spatiomolecular_adata.h5ad',\n",
    "        'corr_am_sm_matrix': 'am_spatiomolecular_adata_corrected.h5ad',\n",
    "        'cell_sm_matrix': 'cells_spatiomolecular_adata_spacem.h5ad',\n",
    "        'gen_cell_sm_matrix': 'cells_spatiomolecular_adata.h5ad',\n",
    "        'corr_cell_sm_matrix': 'cells_spatiomolecular_adata_corrected.h5ad',\n",
    "    }\n"
   ]
  },
  {
   "cell_type": "markdown",
   "id": "8a70d36e",
   "metadata": {
    "papermill": {
     "duration": 0.006214,
     "end_time": "2022-12-01T11:44:31.292865",
     "exception": false,
     "start_time": "2022-12-01T11:44:31.286651",
     "status": "completed"
    },
    "tags": []
   },
   "source": [
    "After loading all individual wells, they are concatenated into one data matrix. Cell identifiers are kept unique by adding a well-specific suffix "
   ]
  },
  {
   "cell_type": "code",
   "execution_count": null,
   "id": "8f0e0f66",
   "metadata": {
    "execution": {
     "iopub.execute_input": "2022-12-01T11:44:31.306425Z",
     "iopub.status.busy": "2022-12-01T11:44:31.306058Z",
     "iopub.status.idle": "2022-12-01T11:44:40.782074Z",
     "shell.execute_reply": "2022-12-01T11:44:40.780758Z"
    },
    "papermill": {
     "duration": 9.486134,
     "end_time": "2022-12-01T11:44:40.785274",
     "exception": false,
     "start_time": "2022-12-01T11:44:31.299140",
     "status": "completed"
    },
    "tags": []
   },
   "outputs": [],
   "source": [
    "am_adata_dict = {}\n",
    "am_adata_cor_dict = {}\n",
    "adata_dict = {}\n",
    "gen_adata_dict = {}\n",
    "adata_cor_dict = {}\n",
    "\n",
    "for sample in tqdm(samples):\n",
    "    sample_path = os.path.join(target_path, sample)\n",
    "\n",
    "    project_files = {k: os.path.join(sample_path, v) for k, v in files.items()}\n",
    "\n",
    "    # am_adata_dict[sample] = sc.read(project_files['am_sm_matrix'])\n",
    "    # am_adata_cor_dict[sample] = sc.read(project_files['corr_am_sm_matrix'])\n",
    "    adata_dict[sample] = sc.read(project_files['cell_sm_matrix'])\n",
    "    gen_adata_dict[sample] = sc.read(project_files['gen_cell_sm_matrix'])\n",
    "    adata_cor_dict[sample] = sc.read(project_files['corr_cell_sm_matrix'])\n"
   ]
  },
  {
   "cell_type": "code",
   "execution_count": null,
   "id": "0aa55c6b",
   "metadata": {
    "execution": {
     "iopub.execute_input": "2022-12-01T11:44:40.807014Z",
     "iopub.status.busy": "2022-12-01T11:44:40.806595Z",
     "iopub.status.idle": "2022-12-01T11:44:40.812857Z",
     "shell.execute_reply": "2022-12-01T11:44:40.812205Z"
    },
    "papermill": {
     "duration": 0.020172,
     "end_time": "2022-12-01T11:44:40.815721",
     "exception": false,
     "start_time": "2022-12-01T11:44:40.795549",
     "status": "completed"
    },
    "tags": []
   },
   "outputs": [],
   "source": [
    "def split_dataset_info(adata):\n",
    "    split = adata.obs['dataset'].str.split(\"_\", expand=True)\n",
    "    adata.obs[['dataset_' + str(col) for col in split.columns]] = split"
   ]
  },
  {
   "cell_type": "markdown",
   "id": "1d29bda7",
   "metadata": {
    "papermill": {
     "duration": 0.008063,
     "end_time": "2022-12-01T11:44:40.832358",
     "exception": false,
     "start_time": "2022-12-01T11:44:40.824295",
     "status": "completed"
    },
    "tags": []
   },
   "source": [
    "The combination of wells is not restricted to concatenation of the corresponding data matrices. Some of the ion-related metadata, like the slopes used in ISM correction, are specific to the individual wells. Thus, they are summarised and mean values saved in the combined data matrices."
   ]
  },
  {
   "cell_type": "code",
   "execution_count": null,
   "id": "31e6c2fb",
   "metadata": {
    "execution": {
     "iopub.execute_input": "2022-12-01T11:44:40.849842Z",
     "iopub.status.busy": "2022-12-01T11:44:40.849365Z",
     "iopub.status.idle": "2022-12-01T11:44:40.869064Z",
     "shell.execute_reply": "2022-12-01T11:44:40.868009Z"
    },
    "papermill": {
     "duration": 0.031424,
     "end_time": "2022-12-01T11:44:40.871424",
     "exception": false,
     "start_time": "2022-12-01T11:44:40.840000",
     "status": "completed"
    },
    "tags": []
   },
   "outputs": [],
   "source": [
    "def plot_range_slopes(adata_dict):\n",
    "    adata = ad.concat(adata_dict, label='well', index_unique=\"_\", merge=\"first\", join='inner', fill_value=0)\n",
    "    conca_var_df = pd.concat({k: v.var for k, v in adata_dict.items()}).select_dtypes(include=[float])\n",
    "    \n",
    "    dfs = [conca_var_df.reset_index(names = ['well', 'ion']).groupby('ion').mean(numeric_only = True).reset_index().melt(id_vars=['ion'], value_name='mean'),\n",
    "              conca_var_df.reset_index(names = ['well', 'ion']).groupby('ion').min(numeric_only = True).reset_index().melt(id_vars=['ion'], value_name='min'),\n",
    "              conca_var_df.reset_index(names = ['well', 'ion']).groupby('ion').max(numeric_only = True).reset_index().melt(id_vars=['ion'], value_name='max')]\n",
    "\n",
    "    sum_df = pd.merge(functools.reduce(lambda left,right: pd.merge(left, right, how='left', on=['ion', 'variable']), dfs), \n",
    "                      pd.concat({k: v.var for k, v in adata_cor_dict.items()})[['correction_using_ion_pool']].reset_index(names = ['well', 'ion']).groupby('ion').sum(numeric_only = True), \n",
    "                      left_on='ion', right_index=True)\n",
    "\n",
    "    def my_bin(i):\n",
    "        if i == len(adata_dict):\n",
    "            return '4_all by pool'\n",
    "        elif i == 0:\n",
    "            return '0_none by pool'\n",
    "        elif i >0.9*len(adata_dict):\n",
    "            return '3_>90% by pool'\n",
    "        elif i >0.5*len(adata_dict):\n",
    "            return '2_>50% by pool'\n",
    "        else:\n",
    "            return '1_<50% by pool'\n",
    "        \n",
    "    sum_df['corr_pool_bins'] = [my_bin(i) for i in sum_df['correction_using_ion_pool']]\n",
    "    #pd.cut(sum_df['correction_using_ion_pool'], bins=4)#, q=[0, .2, .4, .6, .8, 1], labels=['<20%', '<40%', '<60%', '<80%', '>80%'])\n",
    "    \n",
    "    sum_df = sum_df.sort_values(['correction_using_ion_pool'])\n",
    "    \n",
    "    fig, ax = plt.subplots(figsize=(16, 4))\n",
    "    m = sns.lineplot(sum_df[sum_df.variable == 'correction_quantreg_slope'], x = 'ion', y='mean', hue='corr_pool_bins', ax=ax)\n",
    "    sns.lineplot(sum_df[sum_df.variable == 'correction_quantreg_slope'], x = 'ion', y='min', hue='corr_pool_bins', ax=ax, linewidth=0.4)\n",
    "    sns.lineplot(sum_df[sum_df.variable == 'correction_quantreg_slope'], x = 'ion', y='max', hue='corr_pool_bins', ax=ax, linewidth=0.4)\n",
    "    ax.set_xticks([])\n",
    "    ax.set_ylabel('mean, max and min slope')\n",
    "    handles, labels = ax.get_legend_handles_labels()\n",
    "    ax.legend(handles[:5], labels[:5], title='correction_using_ion_pool')\n",
    "    ax.axhline(0)\n",
    "    ax.axhline(-1)\n",
    "    ax.set_title('Range of ISM correction slopes across wells')\n",
    "    fig.tight_layout()"
   ]
  },
  {
   "cell_type": "code",
   "execution_count": null,
   "id": "e9bbf5f3",
   "metadata": {
    "execution": {
     "iopub.execute_input": "2022-12-01T11:44:40.887244Z",
     "iopub.status.busy": "2022-12-01T11:44:40.886833Z",
     "iopub.status.idle": "2022-12-01T11:44:42.537984Z",
     "shell.execute_reply": "2022-12-01T11:44:42.537133Z"
    },
    "papermill": {
     "duration": 1.662452,
     "end_time": "2022-12-01T11:44:42.541093",
     "exception": false,
     "start_time": "2022-12-01T11:44:40.878641",
     "status": "completed"
    },
    "tags": []
   },
   "outputs": [],
   "source": [
    "import functools\n",
    "def concat_wells(adata_dict):\n",
    "    adata = ad.concat(adata_dict, label='well', index_unique=\"_\", merge=\"first\", join='inner', fill_value=0)\n",
    "    \n",
    "    conca_var_df = pd.concat({k: v.var for k, v in adata_dict.items()}).select_dtypes(include=[float, bool])\n",
    "    if 'correction_quantreg_slope' in conca_var_df.columns:\n",
    "\n",
    "        mean_var_df = conca_var_df.reset_index(names = ['well', 'ion']).groupby('ion').mean(numeric_only = True)\n",
    "        mean_var_df.columns = ['mean_'+col for col in mean_var_df.columns]\n",
    "        \n",
    "        std_var_df = conca_var_df.reset_index(names = ['well', 'ion']).groupby('ion').std(numeric_only = True)\n",
    "        std_var_df.columns = ['sd_'+col for col in std_var_df.columns]\n",
    "        \n",
    "        count_var_df = conca_var_df.reset_index(names = ['well', 'ion']).groupby('ion').sum(numeric_only = True)\n",
    "        count_var_df.columns = ['sum_'+col for col in count_var_df.columns]\n",
    "        \n",
    "        dfs = [adata.var, \n",
    "            mean_var_df[['mean_correction_full_pixel_avg_intensities', 'mean_correction_quantreg_slope', 'mean_correction_quantreg_intersect']], \n",
    "            std_var_df[['sd_correction_full_pixel_avg_intensities', 'sd_correction_quantreg_slope', 'sd_correction_quantreg_intersect']],\n",
    "            count_var_df[['sum_correction_using_ion_pool']] ]\n",
    "        \n",
    "        adata.var = functools.reduce(lambda left,right: pd.merge(left, right, how='left', left_index=True, right_index=True), dfs)\n",
    "        adata.var['corrected_only_using_pool'] = adata.var['sum_correction_using_ion_pool'] == len(adata_dict)\n",
    "        \n",
    "    #sc.tl.pca(adata)\n",
    "    #sc.external.pp.bbknn(adata, batch_key='well')\n",
    "    split_dataset_info(adata)\n",
    "    return adata\n",
    "\n",
    "# am_adata = concat_wells(am_adata_dict)\n",
    "# am_adata_cor = concat_wells(am_adata_cor_dict)\n",
    "adata = concat_wells(adata_dict)\n",
    "gen_adata = concat_wells(gen_adata_dict)\n",
    "adata_cor = concat_wells(adata_cor_dict)"
   ]
  },
  {
   "cell_type": "markdown",
   "id": "ea808301",
   "metadata": {
    "papermill": {
     "duration": 0.008813,
     "end_time": "2022-12-01T11:44:42.560114",
     "exception": false,
     "start_time": "2022-12-01T11:44:42.551301",
     "status": "completed"
    },
    "tags": []
   },
   "source": [
    "Especially for the underlying slopes of the ISM correction, taking the mean removes a lot of information. In reality, the different wells exhibit a large variety of slopes, which is visualized in the following figure. All ions are shown by increasing fraction of pool-corrected wells. Clearly, the lower this fraction, the more variable the distribution."
   ]
  },
  {
   "cell_type": "code",
   "execution_count": null,
   "id": "70ddf2a7",
   "metadata": {
    "execution": {
     "iopub.execute_input": "2022-12-01T11:44:42.578464Z",
     "iopub.status.busy": "2022-12-01T11:44:42.578038Z",
     "iopub.status.idle": "2022-12-01T11:44:46.497544Z",
     "shell.execute_reply": "2022-12-01T11:44:46.496068Z"
    },
    "papermill": {
     "duration": 3.934733,
     "end_time": "2022-12-01T11:44:46.503446",
     "exception": false,
     "start_time": "2022-12-01T11:44:42.568713",
     "status": "completed"
    },
    "tags": []
   },
   "outputs": [],
   "source": [
    "plot_range_slopes(adata_cor_dict)"
   ]
  },
  {
   "cell_type": "markdown",
   "id": "d1cefbe4",
   "metadata": {
    "papermill": {
     "duration": 0.01415,
     "end_time": "2022-12-01T11:44:46.533201",
     "exception": false,
     "start_time": "2022-12-01T11:44:46.519051",
     "status": "completed"
    },
    "tags": []
   },
   "source": [
    "The concatenated annotated data matrices are individually saved to file."
   ]
  },
  {
   "cell_type": "code",
   "execution_count": null,
   "id": "c1f9e125",
   "metadata": {
    "execution": {
     "iopub.execute_input": "2022-12-01T11:44:46.560272Z",
     "iopub.status.busy": "2022-12-01T11:44:46.559944Z",
     "iopub.status.idle": "2022-12-01T11:44:50.048479Z",
     "shell.execute_reply": "2022-12-01T11:44:50.047490Z"
    },
    "papermill": {
     "duration": 3.505435,
     "end_time": "2022-12-01T11:44:50.051706",
     "exception": false,
     "start_time": "2022-12-01T11:44:46.546271",
     "status": "completed"
    },
    "tags": []
   },
   "outputs": [],
   "source": [
    "adata.write(os.path.join(target_path, \"batch_sm_matrix.h5ad\"))\n",
    "gen_adata.write(os.path.join(target_path, \"gen_batch_sm_matrix.h5ad\"))\n",
    "adata_cor.write(os.path.join(target_path, \"corrected_batch_sm_matrix.h5ad\"))"
   ]
  },
  {
   "cell_type": "markdown",
   "id": "db6eb73f",
   "metadata": {
    "papermill": {
     "duration": 0.014561,
     "end_time": "2022-12-01T11:44:50.082349",
     "exception": false,
     "start_time": "2022-12-01T11:44:50.067788",
     "status": "completed"
    },
    "tags": []
   },
   "source": [
    "In order to ensure that especially the pixel-cell deconvolution was successful across samples, the summed absolute deviations between different annotated datasets are visualized in the following plot. On one hand, the uncorected but manually deconvoluted (generated) dataset is compared to the dataset directly output by SpaceM. If the same parameters were used for deconvolution, these dataset should not exhibit any differences. On the other hand, the corrected dataset is compared to the generated dataset. These dataset should exhibit differences on a comparable level across samples. If one of the samples shows much greater differences than the others, there might be a sample-specific problem with the parameters used for deconvolution."
   ]
  },
  {
   "cell_type": "code",
   "execution_count": null,
   "id": "f3bbca9a",
   "metadata": {
    "execution": {
     "iopub.execute_input": "2022-12-01T11:44:50.108600Z",
     "iopub.status.busy": "2022-12-01T11:44:50.107996Z",
     "iopub.status.idle": "2022-12-01T11:44:52.466205Z",
     "shell.execute_reply": "2022-12-01T11:44:52.465438Z"
    },
    "papermill": {
     "duration": 2.375327,
     "end_time": "2022-12-01T11:44:52.470267",
     "exception": false,
     "start_time": "2022-12-01T11:44:50.094940",
     "status": "completed"
    },
    "tags": []
   },
   "outputs": [],
   "source": [
    "def plot_deviations(adata1, adata2, label=\"\"):\n",
    "    df = np.abs(adata1.to_df() - adata2.to_df()).sum(axis=1)\n",
    "    df = df / (adata1.to_df().shape[0] * adata1.to_df().shape[1])\n",
    "    df = df.reset_index()\n",
    "    df['well'] = df['cell_id'].str.replace('[0-9]+_', '')\n",
    "    df.columns = ['cell_id', 'summed deviation', 'well']\n",
    "    sns.lineplot(df, x='well', y=\"summed deviation\", label=label).set(title = 'Summed absolute deviations across wells')\n",
    "    \n",
    "plot_deviations(adata, gen_adata, 'gen. data vs. spacem')\n",
    "plot_deviations(gen_adata, adata_cor, 'corr. data vs. gen. data')"
   ]
  }
 ],
 "metadata": {
  "kernelspec": {
   "display_name": "Python 3 (ipykernel)",
   "language": "python",
   "name": "python3"
  },
  "language_info": {
   "codemirror_mode": {
    "name": "ipython",
    "version": 3
   },
   "file_extension": ".py",
   "mimetype": "text/x-python",
   "name": "python",
   "nbconvert_exporter": "python",
   "pygments_lexer": "ipython3",
   "version": "3.10.6"
  },
  "papermill": {
   "default_parameters": {},
   "duration": 28.613458,
   "end_time": "2022-12-01T11:44:54.010703",
   "environment_variables": {},
   "exception": null,
   "input_path": "/home/mklein/FDA_project/pipeline_02_processing.ipynb",
   "output_path": "/home/mklein/FDA_project/analysis/Lx_Pancreatic_Cancer/pipeline_02_processing.ipynb",
   "parameters": {
    "analysis_path": "/home/mklein/FDA_project/analysis/Lx_Pancreatic_Cancer",
    "condition_name": "condition",
    "notebooks": [
     "pipeline_01_correction.ipynb",
     "pipeline_02_processing.ipynb",
     "pipeline_03_evaluation.ipynb"
    ],
    "project": "Lx_Pancreatic_Cancer",
    "source_path": "/home/mklein/Raw Data/2022-01-31_PancreaticCancer",
    "target_path": "/home/mklein/FDA_project/data/Lx_Pancreatic_Cancer",
    "well_name": "rowcol"
   },
   "start_time": "2022-12-01T11:44:25.397245",
   "version": "2.3.4"
  },
  "vscode": {
   "interpreter": {
    "hash": "89b4449ee30f46b148fb6825d70934bcbb1ebdb6d5b2015fe3835362773c7289"
   }
  }
 },
 "nbformat": 4,
 "nbformat_minor": 5
}
