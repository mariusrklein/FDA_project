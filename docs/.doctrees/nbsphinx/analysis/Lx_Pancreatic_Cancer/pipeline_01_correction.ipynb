{
 "cells": [
  {
   "cell_type": "markdown",
   "id": "fef4f2ba",
   "metadata": {
    "papermill": {
     "duration": 0.007014,
     "end_time": "2022-12-01T11:40:27.768911",
     "exception": false,
     "start_time": "2022-12-01T11:40:27.761897",
     "status": "completed"
    },
    "tags": []
   },
   "source": [
    "# High-throughput ion suppression correction\n",
    "\n",
    "SpaceM datasets are usually stored as annotated data-matrices, separately for individual wells. With this notebooks, these individual files are corrected for ion suppression on the pixel-level and then deconvoluted to cell-level. All resulting files are saved separately by well to the target_path and the impact of the correction briefly shown for visual inspection."
   ]
  },
  {
   "cell_type": "code",
   "execution_count": null,
   "id": "51118137",
   "metadata": {
    "execution": {
     "iopub.execute_input": "2022-12-01T11:40:27.784199Z",
     "iopub.status.busy": "2022-12-01T11:40:27.783666Z",
     "iopub.status.idle": "2022-12-01T11:40:31.748562Z",
     "shell.execute_reply": "2022-12-01T11:40:31.747528Z"
    },
    "papermill": {
     "duration": 3.976442,
     "end_time": "2022-12-01T11:40:31.752092",
     "exception": false,
     "start_time": "2022-12-01T11:40:27.775650",
     "status": "completed"
    },
    "tags": []
   },
   "outputs": [],
   "source": [
    "import os\n",
    "import platform\n",
    "import scanpy as sc\n",
    "import pandas as pd\n",
    "import numpy as np\n",
    "import anndata as ad\n",
    "import statistics as st\n",
    "import multiprocessing\n",
    "from joblib import Parallel, delayed\n",
    "from tqdm import tqdm\n",
    "import statsmodels.formula.api as smf\n",
    "import seaborn as sns\n",
    "import re\n",
    "from importlib import reload\n",
    "import json\n",
    "import sys\n",
    "sys.path.append('/home/mklein/spacem')\n",
    "sys.path.append('/home/mklein/FDA_project')\n",
    "\n",
    "from src.correction import (add_normalization_factors, \n",
    "                            correct_quantile_inplace,\n",
    "                            deconvolution_spacem,\n",
    "                            get_overlap_data,\n",
    "                            add_overlap_matrix_spacem\n",
    "                           )\n",
    "from src import const \n",
    "from SpaceM.lib.modules import (\n",
    "    overlap_analysis,\n",
    "    single_cell_analysis_normalization\n",
    ")\n",
    "\n",
    "%matplotlib inline\n",
    "%config InlineBackend.figure_formats = ['retina']"
   ]
  },
  {
   "cell_type": "markdown",
   "id": "46e4293b",
   "metadata": {
    "papermill": {
     "duration": 0.006829,
     "end_time": "2022-12-01T11:40:31.767165",
     "exception": false,
     "start_time": "2022-12-01T11:40:31.760336",
     "status": "completed"
    },
    "tags": []
   },
   "source": [
    "The original data lies on the groups shared data storage. Corrected files will be saved in a separate location, preserving the well-specific folder structure."
   ]
  },
  {
   "cell_type": "code",
   "execution_count": null,
   "id": "9ec86f19",
   "metadata": {
    "execution": {
     "iopub.execute_input": "2022-12-01T11:40:31.781883Z",
     "iopub.status.busy": "2022-12-01T11:40:31.781275Z",
     "iopub.status.idle": "2022-12-01T11:40:31.788882Z",
     "shell.execute_reply": "2022-12-01T11:40:31.787685Z"
    },
    "papermill": {
     "duration": 0.018168,
     "end_time": "2022-12-01T11:40:31.791820",
     "exception": false,
     "start_time": "2022-12-01T11:40:31.773652",
     "status": "completed"
    },
    "tags": [
     "parameters"
    ]
   },
   "outputs": [],
   "source": [
    "if platform.system() == \"Darwin\":\n",
    "    source_path = '/Volumes/alexandr/smenon/2022-07-13_Glioblastoma/processed_files'\n",
    "    target_path = '/Volumes/mklein/FDA_project/data/Lx_Glioblastoma'\n",
    "else:\n",
    "    source_path = '/g/alexandr/smenon/2022-07-13_Glioblastoma/processed_files'\n",
    "    target_path = '/home/mklein/FDA_project/data/Lx_Glioblastoma'\n",
    "    \n",
    "# TODO: implement topX reference ion pool.\n",
    "reference_pool = {'top': 10}\n",
    "deconv_default_min_overlap = 0.0"
   ]
  },
  {
   "cell_type": "code",
   "execution_count": null,
   "id": "aa6f891a",
   "metadata": {
    "execution": {
     "iopub.execute_input": "2022-12-01T11:40:31.806375Z",
     "iopub.status.busy": "2022-12-01T11:40:31.805928Z",
     "iopub.status.idle": "2022-12-01T11:40:31.812550Z",
     "shell.execute_reply": "2022-12-01T11:40:31.811476Z"
    },
    "papermill": {
     "duration": 0.017093,
     "end_time": "2022-12-01T11:40:31.815292",
     "exception": false,
     "start_time": "2022-12-01T11:40:31.798199",
     "status": "completed"
    },
    "tags": [
     "injected-parameters"
    ]
   },
   "outputs": [],
   "source": [
    "# Parameters\n",
    "source_path = \"/home/mklein/Raw Data/2022-01-31_PancreaticCancer\"\n",
    "target_path = \"/home/mklein/FDA_project/data/Lx_Pancreatic_Cancer\"\n",
    "condition_name = \"condition\"\n",
    "well_name = \"rowcol\"\n",
    "analysis_path = \"/home/mklein/FDA_project/analysis/Lx_Pancreatic_Cancer\"\n",
    "notebooks = [\n",
    "    \"pipeline_01_correction.ipynb\",\n",
    "    \"pipeline_02_processing.ipynb\",\n",
    "    \"pipeline_03_evaluation.ipynb\",\n",
    "]\n",
    "project = \"Lx_Pancreatic_Cancer\"\n"
   ]
  },
  {
   "cell_type": "code",
   "execution_count": null,
   "id": "180f98e1",
   "metadata": {
    "execution": {
     "iopub.execute_input": "2022-12-01T11:40:31.829438Z",
     "iopub.status.busy": "2022-12-01T11:40:31.828876Z",
     "iopub.status.idle": "2022-12-01T11:40:32.083083Z",
     "shell.execute_reply": "2022-12-01T11:40:32.081902Z"
    },
    "papermill": {
     "duration": 0.264686,
     "end_time": "2022-12-01T11:40:32.086245",
     "exception": false,
     "start_time": "2022-12-01T11:40:31.821559",
     "status": "completed"
    },
    "tags": []
   },
   "outputs": [],
   "source": [
    "samples = []\n",
    "for dirpath, dirnames, filenames in os.walk(source_path):\n",
    "        if 'analysis' in dirnames:\n",
    "            samples.append(re.sub(source_path+'/?', '', dirpath))\n",
    "samples"
   ]
  },
  {
   "cell_type": "code",
   "execution_count": null,
   "id": "69f4653e",
   "metadata": {
    "execution": {
     "iopub.execute_input": "2022-12-01T11:40:32.103180Z",
     "iopub.status.busy": "2022-12-01T11:40:32.102797Z",
     "iopub.status.idle": "2022-12-01T11:40:32.110162Z",
     "shell.execute_reply": "2022-12-01T11:40:32.109016Z"
    },
    "papermill": {
     "duration": 0.018957,
     "end_time": "2022-12-01T11:40:32.113148",
     "exception": false,
     "start_time": "2022-12-01T11:40:32.094191",
     "status": "completed"
    },
    "tags": []
   },
   "outputs": [],
   "source": [
    "files = {\n",
    "        'config': '../config.json',\n",
    "        'sm_matrix': 'ablation_mark_analysis/spatiomolecular_adata.h5ad',\n",
    "        'overlap_regions': 'overlap_analysis2/overlap.regions.csv',\n",
    "        'mark_regions': 'overlap_analysis2/ablation_mark.regions.csv',\n",
    "        'cell_regions': 'overlap_analysis2/cell.regions.csv',\n",
    "        'cell_sm_matrix': 'single_cell_analysis/spatiomolecular_adata.h5ad',\n",
    "    }"
   ]
  },
  {
   "cell_type": "code",
   "execution_count": null,
   "id": "c11d2cdf",
   "metadata": {
    "execution": {
     "iopub.execute_input": "2022-12-01T11:40:32.128695Z",
     "iopub.status.busy": "2022-12-01T11:40:32.128225Z",
     "iopub.status.idle": "2022-12-01T11:40:32.136352Z",
     "shell.execute_reply": "2022-12-01T11:40:32.135300Z"
    },
    "papermill": {
     "duration": 0.018868,
     "end_time": "2022-12-01T11:40:32.138994",
     "exception": false,
     "start_time": "2022-12-01T11:40:32.120126",
     "status": "completed"
    },
    "tags": []
   },
   "outputs": [],
   "source": [
    "def assign_average_tpo(am_adata, overlap_data, min_overlap, method=np.mean):\n",
    "    if min_overlap is None:\n",
    "        min_overlap = 0\n",
    "    \n",
    "    overlap = overlap_data.overlap_regions\n",
    "    overlap['am_id'] = overlap['am_id'].astype(str)\n",
    "    overlap['cell_id'] = overlap['cell_id'].astype(str)\n",
    "    merged_df = pd.merge(overlap[['am_id', 'cell_id']], am_adata.obs[const.TPO], left_on='am_id', right_index=True)\n",
    "    merged_df = merged_df[merged_df[const.TPO] >= min_overlap]\n",
    "    \n",
    "    mean_df = merged_df[['cell_id', 'correction_total_pixel_overlap']].groupby('cell_id', group_keys=False).agg(method)\n",
    "#     mean_df = merged_df[['cell_id', 'correction_total_pixel_overlap']].groupby('cell_id', group_keys=False).agg(lambda x: method(x))\n",
    "    return mean_df[const.TPO]"
   ]
  },
  {
   "cell_type": "code",
   "execution_count": null,
   "id": "f36b6084",
   "metadata": {
    "execution": {
     "iopub.execute_input": "2022-12-01T11:40:32.153684Z",
     "iopub.status.busy": "2022-12-01T11:40:32.153294Z",
     "iopub.status.idle": "2022-12-01T11:40:32.170876Z",
     "shell.execute_reply": "2022-12-01T11:40:32.169801Z"
    },
    "papermill": {
     "duration": 0.027689,
     "end_time": "2022-12-01T11:40:32.173409",
     "exception": false,
     "start_time": "2022-12-01T11:40:32.145720",
     "status": "completed"
    },
    "tags": []
   },
   "outputs": [],
   "source": [
    "def correct_sample_spacem(sample):\n",
    "    \n",
    "    sample_path = os.path.join(source_path, sample, \"analysis\")\n",
    "    sample = re.sub('/', '_', sample)\n",
    "    \n",
    "    if not os.path.exists(os.path.join(target_path, sample)):\n",
    "        os.makedirs(os.path.join(target_path, sample))\n",
    "\n",
    "    # get appropriate file paths for the processed well\n",
    "    project_files = {k: os.path.join(sample_path, v) for k, v in files.items()}\n",
    "\n",
    "    if os.path.exists(project_files['config']):\n",
    "        with open(project_files['config']) as json_file:\n",
    "            data = json.load(json_file)\n",
    "        deconv_info = data['single_cell_analysis']\n",
    "        if deconv_info['ablation_marks_min_overlap_ratio'] is None:\n",
    "            deconv_info['ablation_marks_min_overlap_ratio'] = deconv_default_min_overlap\n",
    "    else:\n",
    "        deconv_info = None\n",
    "        print('No well config file found. Using default deconvolution parameters.')\n",
    "    # load required files\n",
    "    cell_regions = pd.read_csv(project_files['cell_regions'])\n",
    "    mark_regions = pd.read_csv(project_files['mark_regions'])\n",
    "    overlap_regions = pd.read_csv(project_files['overlap_regions'])\n",
    "    \n",
    "    sm_matrix = sc.read(os.path.join(sample_path, files['sm_matrix']))\n",
    "    cell_sm_matrix = sc.read(os.path.join(sample_path, files['cell_sm_matrix']))\n",
    "       \n",
    "    add_overlap_matrix_spacem(sm_matrix, cell_regions, mark_regions, overlap_regions)\n",
    "    \n",
    "    add_normalization_factors(adata=sm_matrix, method=st.median)\n",
    "\n",
    "    # perform the actual quantile regression\n",
    "    corr_sm_matrix = correct_quantile_inplace(adata=sm_matrix, \n",
    "        reference_ions=sm_matrix.var_names, \n",
    "        correct_intersect = True,\n",
    "        n_jobs=5)\n",
    "    \n",
    "    # perform pixel-cell-deconvolution\n",
    "    overlap_data = get_overlap_data(cell_regions, mark_regions, overlap_regions)\n",
    "    corr_cell_sm_matrix = deconvolution_spacem(adata=corr_sm_matrix, \n",
    "        overlap_data=overlap_data,\n",
    "        raw_adata=cell_sm_matrix,\n",
    "        deconvolution_params=deconv_info)\n",
    "    gen_cell_sm_matrix = deconvolution_spacem(adata=sm_matrix,\n",
    "        overlap_data=overlap_data,\n",
    "        raw_adata=cell_sm_matrix,\n",
    "        deconvolution_params=deconv_info)\n",
    "    \n",
    "    # hand over TPOs to spatiomolecular matrix for downstream analysis\n",
    "    min_overlap = deconv_info['ablation_marks_min_overlap_ratio']\n",
    "    corr_cell_sm_matrix.obs['list_TPO'] = assign_average_tpo(sm_matrix, overlap_data, min_overlap, method=lambda x: \";\".join(x.astype(str)))\n",
    "    gen_cell_sm_matrix.obs['list_TPO'] = assign_average_tpo(sm_matrix, overlap_data, min_overlap, method=lambda x: \";\".join(x.astype(str)))\n",
    "    \n",
    "    # write the generated files to the dedicated project location.\n",
    "    corr_sm_matrix.write(os.path.join(target_path, sample, 'am_spatiomolecular_adata_corrected.h5ad'))\n",
    "    sm_matrix.write(os.path.join(target_path, sample, 'am_spatiomolecular_adata.h5ad'))\n",
    "    corr_cell_sm_matrix.write(os.path.join(target_path, sample, 'cells_spatiomolecular_adata_corrected.h5ad'))\n",
    "    cell_sm_matrix.write(os.path.join(target_path, sample, 'cells_spatiomolecular_adata_spacem.h5ad'))\n",
    "    gen_cell_sm_matrix.write(os.path.join(target_path, sample, 'cells_spatiomolecular_adata.h5ad'))\n",
    "    \n",
    "    return (sample, cell_sm_matrix, corr_cell_sm_matrix, sm_matrix, corr_sm_matrix, deconv_info)"
   ]
  },
  {
   "cell_type": "markdown",
   "id": "b6adf403",
   "metadata": {
    "papermill": {
     "duration": 0.006096,
     "end_time": "2022-12-01T11:40:32.185626",
     "exception": false,
     "start_time": "2022-12-01T11:40:32.179530",
     "status": "completed"
    },
    "tags": []
   },
   "source": [
    "This is the actual correction pipeline."
   ]
  },
  {
   "cell_type": "code",
   "execution_count": null,
   "id": "6779a4fb",
   "metadata": {
    "execution": {
     "iopub.execute_input": "2022-12-01T11:40:32.198952Z",
     "iopub.status.busy": "2022-12-01T11:40:32.198550Z",
     "iopub.status.idle": "2022-12-01T11:43:32.422018Z",
     "shell.execute_reply": "2022-12-01T11:43:32.419258Z"
    },
    "papermill": {
     "duration": 180.234467,
     "end_time": "2022-12-01T11:43:32.425890",
     "exception": false,
     "start_time": "2022-12-01T11:40:32.191423",
     "status": "completed"
    },
    "tags": []
   },
   "outputs": [],
   "source": [
    "adata_list = Parallel(n_jobs=7)(delayed(correct_sample_spacem)(sample) for sample in tqdm(samples))\n",
    "# adata_list = [correct_sample_spacem(sample) for sample in tqdm(['I4'])]"
   ]
  },
  {
   "cell_type": "code",
   "execution_count": null,
   "id": "42e5e70b",
   "metadata": {
    "execution": {
     "iopub.execute_input": "2022-12-01T11:43:32.447444Z",
     "iopub.status.busy": "2022-12-01T11:43:32.446752Z",
     "iopub.status.idle": "2022-12-01T11:43:40.200367Z",
     "shell.execute_reply": "2022-12-01T11:43:40.198998Z"
    },
    "papermill": {
     "duration": 7.768426,
     "end_time": "2022-12-01T11:43:40.203607",
     "exception": false,
     "start_time": "2022-12-01T11:43:32.435181",
     "status": "completed"
    },
    "tags": []
   },
   "outputs": [],
   "source": [
    "# reshape data for immediate analysis\n",
    "am_adata_dict = {item[0]: item[3] for item in adata_list}\n",
    "am_adata_cor_dict = {item[0]: item[4] for item in adata_list}\n",
    "adata_dict = {item[0]: item[1] for item in adata_list}\n",
    "adata_cor_dict = {item[0]: item[2] for item in adata_list}\n",
    "\n",
    "am_adata = ad.concat(am_adata_dict, label='well', index_unique=\"_\", merge=\"first\")\n",
    "am_adata_cor = ad.concat(am_adata_cor_dict, label='well', index_unique=\"_\", merge='first')\n",
    "adata = ad.concat(adata_dict, label='well', index_unique=\"_\", merge=\"first\")\n",
    "adata_cor = ad.concat(adata_cor_dict, label='well', index_unique=\"_\", merge=\"first\")\n",
    "\n",
    "deconv_dict = {item[0]: item[5] for item in adata_list}\n",
    "deconv_table = pd.DataFrame(deconv_dict).T\n",
    "deconv_table"
   ]
  },
  {
   "cell_type": "markdown",
   "id": "e912b709",
   "metadata": {
    "papermill": {
     "duration": 0.008509,
     "end_time": "2022-12-01T11:43:40.222660",
     "exception": false,
     "start_time": "2022-12-01T11:43:40.214151",
     "status": "completed"
    },
    "tags": []
   },
   "source": [
    "Every analysed pixel is characterized by its total overlap with cellular regions. The raw data shows no clear association between this overlap and acquired ion intensities. However, after the ion suppression correction, pixels with smaller overlap clearly have lower corresponding intensities (only shown for one metabolite). "
   ]
  },
  {
   "cell_type": "code",
   "execution_count": null,
   "id": "600dd7a0",
   "metadata": {
    "execution": {
     "iopub.execute_input": "2022-12-01T11:43:40.240889Z",
     "iopub.status.busy": "2022-12-01T11:43:40.240255Z",
     "iopub.status.idle": "2022-12-01T11:43:40.495819Z",
     "shell.execute_reply": "2022-12-01T11:43:40.494714Z"
    },
    "papermill": {
     "duration": 0.267671,
     "end_time": "2022-12-01T11:43:40.498347",
     "exception": false,
     "start_time": "2022-12-01T11:43:40.230676",
     "status": "completed"
    },
    "tags": []
   },
   "outputs": [],
   "source": [
    "import warnings\n",
    "warnings.filterwarnings('ignore')\n",
    "from src.correction import normalize_proportion_ratios\n",
    "       \n",
    "\n",
    "def plot_all_wells(adata, ions=None, row='well', x=const.TPO, ratio=True):\n",
    "    \n",
    "    top_wells = list(set(adata.obs[row]))[:5]\n",
    "    adata = adata[adata.obs[row].isin(top_wells)]\n",
    "    \n",
    "    if ions is None and not ratio:\n",
    "        ions = list(adata.var_names[:5])\n",
    "    elif ions is None and ratio:\n",
    "        ions = list(normalize_proportion_ratios(intensities_ad=adata).to_df().sum().sort_values().tail().index)\n",
    "        \n",
    "    yscale = 'intensity'\n",
    "    if ratio:\n",
    "        adata = normalize_proportion_ratios(intensities_ad=adata)\n",
    "        yscale = 'intensity_proportion_ratio'\n",
    "\n",
    "    plot_df = sc.get.obs_df(adata, keys=[row, x] + ions).melt(id_vars=[row, x], var_name='ion', value_name=yscale)\n",
    "    plot_df= plot_df[plot_df[yscale] > 0]\n",
    "    \n",
    "    if ratio:\n",
    "        plot_df[yscale] = np.log10(plot_df[yscale])\n",
    "        plot_df[x] = np.log10(plot_df[x])\n",
    "       \n",
    "    graph = sns.FacetGrid(plot_df, row=row, col='ion', sharey=False, margin_titles=True)\n",
    "    graph.map(sns.histplot, x, yscale, bins=50, stat='proportion').add_legend()\n",
    "        \n",
    "    params = []\n",
    "\n",
    "    for well in list(set(plot_df[row])):\n",
    "        for i in ions:\n",
    "            q_df = plot_df[(plot_df['ion'] == i) & (plot_df[row] == well)]\n",
    "            if len(q_df) == 0:\n",
    "                params[i] = {'Intercept': np.nan, x: np.nan}\n",
    "                continue\n",
    "            model = smf.quantreg(yscale+' ~ '+x, q_df)\n",
    "            qrmodel = model.fit(q=0.5)\n",
    "            params.append({'ion': i, row: well, 'Intercept': qrmodel.params[0], x: qrmodel.params[1]})\n",
    "    \n",
    "        \n",
    "    return pd.DataFrame(params).sort_values(['ion', row]).set_index(['ion', row])\n",
    "    \n",
    "def compare_pre_post_correction(adata, adata_cor, ions=None, ratio=True):\n",
    "    if ions is None and not ratio:\n",
    "        ions = list(adata.var_names[:5])\n",
    "    elif ions is None and ratio:\n",
    "        ions = list(normalize_proportion_ratios(intensities_ad=adata).to_df().sum().sort_values().tail().index)\n",
    "        \n",
    "    df1 = plot_all_wells(adata, ions=ions, ratio=ratio)\n",
    "    df2 = plot_all_wells(adata_cor, ions=ions, ratio=ratio)\n",
    "    return pd.merge(df1, df2, right_index=True, left_index=True, suffixes=('_uncorrected', '_ISM_correction'))"
   ]
  },
  {
   "cell_type": "code",
   "execution_count": null,
   "id": "15c8e609",
   "metadata": {
    "execution": {
     "iopub.execute_input": "2022-12-01T11:43:40.515358Z",
     "iopub.status.busy": "2022-12-01T11:43:40.515071Z",
     "iopub.status.idle": "2022-12-01T11:43:40.530343Z",
     "shell.execute_reply": "2022-12-01T11:43:40.529335Z"
    },
    "papermill": {
     "duration": 0.026103,
     "end_time": "2022-12-01T11:43:40.532615",
     "exception": false,
     "start_time": "2022-12-01T11:43:40.506512",
     "status": "completed"
    },
    "tags": []
   },
   "outputs": [],
   "source": [
    "am_adata.obs[const.TPO] = am_adata_cor.obs[const.TPO]"
   ]
  },
  {
   "cell_type": "code",
   "execution_count": null,
   "id": "c6e5fd81",
   "metadata": {
    "execution": {
     "iopub.execute_input": "2022-12-01T11:43:40.548524Z",
     "iopub.status.busy": "2022-12-01T11:43:40.548237Z",
     "iopub.status.idle": "2022-12-01T11:44:21.332387Z",
     "shell.execute_reply": "2022-12-01T11:44:21.331056Z"
    },
    "papermill": {
     "duration": 40.8049,
     "end_time": "2022-12-01T11:44:21.344827",
     "exception": false,
     "start_time": "2022-12-01T11:43:40.539927",
     "status": "completed"
    },
    "tags": []
   },
   "outputs": [],
   "source": [
    "compare_pre_post_correction(am_adata, am_adata_cor)"
   ]
  }
 ],
 "metadata": {
  "kernelspec": {
   "display_name": "Python 3 (ipykernel)",
   "language": "python",
   "name": "python3"
  },
  "language_info": {
   "codemirror_mode": {
    "name": "ipython",
    "version": 3
   },
   "file_extension": ".py",
   "mimetype": "text/x-python",
   "name": "python",
   "nbconvert_exporter": "python",
   "pygments_lexer": "ipython3",
   "version": "3.10.6"
  },
  "papermill": {
   "default_parameters": {},
   "duration": 239.248498,
   "end_time": "2022-12-01T11:44:25.306882",
   "environment_variables": {},
   "exception": null,
   "input_path": "/home/mklein/FDA_project/pipeline_01_correction.ipynb",
   "output_path": "/home/mklein/FDA_project/analysis/Lx_Pancreatic_Cancer/pipeline_01_correction.ipynb",
   "parameters": {
    "analysis_path": "/home/mklein/FDA_project/analysis/Lx_Pancreatic_Cancer",
    "condition_name": "condition",
    "notebooks": [
     "pipeline_01_correction.ipynb",
     "pipeline_02_processing.ipynb",
     "pipeline_03_evaluation.ipynb"
    ],
    "project": "Lx_Pancreatic_Cancer",
    "source_path": "/home/mklein/Raw Data/2022-01-31_PancreaticCancer",
    "target_path": "/home/mklein/FDA_project/data/Lx_Pancreatic_Cancer",
    "well_name": "rowcol"
   },
   "start_time": "2022-12-01T11:40:26.058384",
   "version": "2.3.4"
  },
  "vscode": {
   "interpreter": {
    "hash": "89b4449ee30f46b148fb6825d70934bcbb1ebdb6d5b2015fe3835362773c7289"
   }
  }
 },
 "nbformat": 4,
 "nbformat_minor": 5
}
