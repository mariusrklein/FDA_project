{
 "cells": [
  {
   "cell_type": "markdown",
   "id": "50f4774b",
   "metadata": {
    "papermill": {
     "duration": 0.007662,
     "end_time": "2022-12-01T11:20:09.071090",
     "exception": false,
     "start_time": "2022-12-01T11:20:09.063428",
     "status": "completed"
    },
    "tags": []
   },
   "source": [
    "# Mx_Seahorse: Processing\n",
    "\n",
    "Datasets typically consist of several wells on a microscopy slide. In this notebook, the wells are integrated to one annotated data matrix."
   ]
  },
  {
   "cell_type": "code",
   "execution_count": null,
   "id": "abfc0acd",
   "metadata": {
    "execution": {
     "iopub.execute_input": "2022-12-14T21:54:12.602813Z",
     "iopub.status.busy": "2022-12-14T21:54:12.602337Z",
     "iopub.status.idle": "2022-12-14T21:54:17.049824Z",
     "shell.execute_reply": "2022-12-14T21:54:17.048551Z"
    },
    "papermill": {
     "duration": 4.182048,
     "end_time": "2022-12-01T11:20:13.260380",
     "exception": false,
     "start_time": "2022-12-01T11:20:09.078332",
     "status": "completed"
    },
    "tags": []
   },
   "outputs": [],
   "source": [
    "import os\n",
    "import platform\n",
    "import scanpy as sc\n",
    "import pandas as pd\n",
    "import numpy as np\n",
    "import anndata as ad\n",
    "import multiprocessing\n",
    "from joblib import Parallel, delayed\n",
    "from importlib import reload\n",
    "from tqdm import tqdm\n",
    "import statsmodels.formula.api as smf\n",
    "import matplotlib.pyplot as plt\n",
    "import seaborn as sns\n",
    "import functools\n",
    "import sys\n",
    "sys.path.append('/home/mklein/spacem')\n",
    "sys.path.append('/Volumes/mklein/spacem')\n",
    "sys.path.append('/home/mklein/FDA_project')\n",
    "from src.correction import get_matrices_from_dfs, normalize_proportion_ratios\n",
    "from src import const\n",
    "from src.evaluation import plot_all_ion_slopes\n",
    "\n",
    "%matplotlib inline"
   ]
  },
  {
   "cell_type": "code",
   "execution_count": null,
   "id": "852a7028",
   "metadata": {
    "execution": {
     "iopub.execute_input": "2022-12-14T21:54:17.056046Z",
     "iopub.status.busy": "2022-12-14T21:54:17.055532Z",
     "iopub.status.idle": "2022-12-14T21:54:17.060706Z",
     "shell.execute_reply": "2022-12-14T21:54:17.059836Z"
    },
    "papermill": {
     "duration": 0.015464,
     "end_time": "2022-12-01T11:20:13.283612",
     "exception": false,
     "start_time": "2022-12-01T11:20:13.268148",
     "status": "completed"
    },
    "tags": [
     "parameters"
    ]
   },
   "outputs": [],
   "source": [
    "if platform.system() == \"Darwin\":\n",
    "    target_path = '/Volumes/mklein/FDA_project/data/Lx_Glioblastoma'\n",
    "else:\n",
    "    target_path = '/home/mklein/FDA_project/data/Lx_Glioblastoma'\n",
    "    \n",
    "# this is the column of the annotated data matrix, that discriminates between conditions\n",
    "condition_name = 'dataset_3'"
   ]
  },
  {
   "cell_type": "code",
   "execution_count": null,
   "id": "196886d7",
   "metadata": {
    "execution": {
     "iopub.execute_input": "2022-12-14T21:54:17.065368Z",
     "iopub.status.busy": "2022-12-14T21:54:17.065132Z",
     "iopub.status.idle": "2022-12-14T21:54:17.069772Z",
     "shell.execute_reply": "2022-12-14T21:54:17.068897Z"
    },
    "papermill": {
     "duration": 0.013996,
     "end_time": "2022-12-01T11:20:13.303824",
     "exception": false,
     "start_time": "2022-12-01T11:20:13.289828",
     "status": "completed"
    },
    "tags": [
     "injected-parameters"
    ]
   },
   "outputs": [],
   "source": [
    "# Parameters\n",
    "source_path = \"/home/mklein/Raw Data/220412_Luisa_ScSeahorse_SpaceM\"\n",
    "target_path = \"/home/mklein/FDA_project/data/Mx_Seahorse_low_thrs\"\n",
    "condition_name = \"treatment\"\n",
    "well_name = \"rowcol\"\n",
    "analysis_path = \"/home/mklein/FDA_project/analysis/Mx_Seahorse_low_thrs\"\n",
    "notebooks = [\n",
    "    \"pipeline_01_correction.ipynb\",\n",
    "    \"pipeline_02_processing.ipynb\",\n",
    "    \"pipeline_03_evaluation.ipynb\",\n",
    "]\n",
    "project = \"Mx_Seahorse\"\n"
   ]
  },
  {
   "cell_type": "code",
   "execution_count": null,
   "id": "2aece217",
   "metadata": {
    "execution": {
     "iopub.execute_input": "2022-12-14T21:54:17.074241Z",
     "iopub.status.busy": "2022-12-14T21:54:17.073909Z",
     "iopub.status.idle": "2022-12-14T21:54:17.100512Z",
     "shell.execute_reply": "2022-12-14T21:54:17.099722Z"
    },
    "papermill": {
     "duration": 0.014799,
     "end_time": "2022-12-01T11:20:13.324408",
     "exception": false,
     "start_time": "2022-12-01T11:20:13.309609",
     "status": "completed"
    },
    "tags": []
   },
   "outputs": [],
   "source": [
    "samples = [dir.name for dir in os.scandir(target_path) if dir.is_dir() and dir.name[0] != \".\"]\n",
    "\n",
    "files = {\n",
    "        'am_sm_matrix': 'am_spatiomolecular_adata.h5ad',\n",
    "        'corr_am_sm_matrix': 'am_spatiomolecular_adata_corrected.h5ad',\n",
    "        'cell_sm_matrix': 'cells_spatiomolecular_adata_spacem.h5ad',\n",
    "        'gen_cell_sm_matrix': 'cells_spatiomolecular_adata.h5ad',\n",
    "        'corr_cell_sm_matrix': 'cells_spatiomolecular_adata_corrected.h5ad',\n",
    "    }\n"
   ]
  },
  {
   "cell_type": "markdown",
   "id": "20d3fbb9",
   "metadata": {
    "papermill": {
     "duration": 0.006587,
     "end_time": "2022-12-01T11:20:13.337835",
     "exception": false,
     "start_time": "2022-12-01T11:20:13.331248",
     "status": "completed"
    },
    "tags": []
   },
   "source": [
    "After loading all individual wells, they are concatenated into one data matrix. Cell identifiers are kept unique by adding a well-specific suffix "
   ]
  },
  {
   "cell_type": "code",
   "execution_count": null,
   "id": "d754590d",
   "metadata": {
    "execution": {
     "iopub.execute_input": "2022-12-14T21:54:17.105700Z",
     "iopub.status.busy": "2022-12-14T21:54:17.105450Z",
     "iopub.status.idle": "2022-12-14T21:54:30.133500Z",
     "shell.execute_reply": "2022-12-14T21:54:30.130955Z"
    },
    "papermill": {
     "duration": 13.119054,
     "end_time": "2022-12-01T11:20:26.463377",
     "exception": false,
     "start_time": "2022-12-01T11:20:13.344323",
     "status": "completed"
    },
    "tags": []
   },
   "outputs": [],
   "source": [
    "am_adata_dict = {}\n",
    "am_adata_cor_dict = {}\n",
    "adata_dict = {}\n",
    "gen_adata_dict = {}\n",
    "adata_cor_dict = {}\n",
    "\n",
    "for sample in tqdm(samples):\n",
    "    sample_path = os.path.join(target_path, sample)\n",
    "\n",
    "    project_files = {k: os.path.join(sample_path, v) for k, v in files.items()}\n",
    "\n",
    "    # am_adata_dict[sample] = sc.read(project_files['am_sm_matrix'])\n",
    "    # am_adata_cor_dict[sample] = sc.read(project_files['corr_am_sm_matrix'])\n",
    "    adata_dict[sample] = sc.read(project_files['cell_sm_matrix'])\n",
    "    gen_adata_dict[sample] = sc.read(project_files['gen_cell_sm_matrix'])\n",
    "    adata_cor_dict[sample] = sc.read(project_files['corr_cell_sm_matrix'])\n"
   ]
  },
  {
   "cell_type": "code",
   "execution_count": null,
   "id": "42b78756",
   "metadata": {
    "execution": {
     "iopub.execute_input": "2022-12-14T21:54:30.141191Z",
     "iopub.status.busy": "2022-12-14T21:54:30.140621Z",
     "iopub.status.idle": "2022-12-14T21:54:30.150585Z",
     "shell.execute_reply": "2022-12-14T21:54:30.149424Z"
    },
    "papermill": {
     "duration": 0.024736,
     "end_time": "2022-12-01T11:20:26.498857",
     "exception": false,
     "start_time": "2022-12-01T11:20:26.474121",
     "status": "completed"
    },
    "tags": []
   },
   "outputs": [],
   "source": [
    "def split_dataset_info(adata):\n",
    "    split = adata.obs['dataset'].str.split(\"_\", expand=True)\n",
    "    adata.obs[['dataset_' + str(col) for col in split.columns]] = split"
   ]
  },
  {
   "cell_type": "markdown",
   "id": "b7313ac3",
   "metadata": {
    "papermill": {
     "duration": 0.008134,
     "end_time": "2022-12-01T11:20:26.516838",
     "exception": false,
     "start_time": "2022-12-01T11:20:26.508704",
     "status": "completed"
    },
    "tags": []
   },
   "source": [
    "The combination of wells is not restricted to concatenation of the corresponding data matrices. Some of the ion-related metadata, like the slopes used in ISM correction, are specific to the individual wells. Thus, they are summarised and mean values saved in the combined data matrices."
   ]
  },
  {
   "cell_type": "code",
   "execution_count": null,
   "id": "4ef8c0b8",
   "metadata": {
    "execution": {
     "iopub.execute_input": "2022-12-14T21:54:30.156669Z",
     "iopub.status.busy": "2022-12-14T21:54:30.155835Z",
     "iopub.status.idle": "2022-12-14T21:54:30.175469Z",
     "shell.execute_reply": "2022-12-14T21:54:30.174363Z"
    },
    "papermill": {
     "duration": 0.033617,
     "end_time": "2022-12-01T11:20:26.558019",
     "exception": false,
     "start_time": "2022-12-01T11:20:26.524402",
     "status": "completed"
    },
    "tags": []
   },
   "outputs": [],
   "source": [
    "def plot_range_slopes(adata_dict):\n",
    "    adata = ad.concat(adata_dict, label='well', index_unique=\"_\", merge=\"first\", join='inner', fill_value=0)\n",
    "    conca_var_df = pd.concat({k: v.var for k, v in adata_dict.items()}).select_dtypes(include=[float])\n",
    "    \n",
    "    dfs = [conca_var_df.reset_index(names = ['well', 'ion']).groupby('ion').mean(numeric_only = True).reset_index().melt(id_vars=['ion'], value_name='mean'),\n",
    "              conca_var_df.reset_index(names = ['well', 'ion']).groupby('ion').min(numeric_only = True).reset_index().melt(id_vars=['ion'], value_name='min'),\n",
    "              conca_var_df.reset_index(names = ['well', 'ion']).groupby('ion').max(numeric_only = True).reset_index().melt(id_vars=['ion'], value_name='max')]\n",
    "\n",
    "    sum_df = pd.merge(functools.reduce(lambda left,right: pd.merge(left, right, how='left', on=['ion', 'variable']), dfs), \n",
    "                      pd.concat({k: v.var for k, v in adata_cor_dict.items()})[['correction_using_ion_pool']].reset_index(names = ['well', 'ion']).groupby('ion').sum(numeric_only = True), \n",
    "                      left_on='ion', right_index=True)\n",
    "\n",
    "    def my_bin(i):\n",
    "        if i == len(adata_dict):\n",
    "            return '4_all by pool'\n",
    "        elif i == 0:\n",
    "            return '0_none by pool'\n",
    "        elif i >0.9*len(adata_dict):\n",
    "            return '3_>90% by pool'\n",
    "        elif i >0.5*len(adata_dict):\n",
    "            return '2_>50% by pool'\n",
    "        else:\n",
    "            return '1_<50% by pool'\n",
    "        \n",
    "    sum_df['corr_pool_bins'] = [my_bin(i) for i in sum_df['correction_using_ion_pool']]\n",
    "    #pd.cut(sum_df['correction_using_ion_pool'], bins=4)#, q=[0, .2, .4, .6, .8, 1], labels=['<20%', '<40%', '<60%', '<80%', '>80%'])\n",
    "    \n",
    "    sum_df = sum_df.sort_values(['correction_using_ion_pool'])\n",
    "    \n",
    "    fig, ax = plt.subplots(figsize=(16, 4))\n",
    "    m = sns.lineplot(sum_df[sum_df.variable == 'correction_quantreg_slope'], x = 'ion', y='mean', hue='corr_pool_bins', ax=ax)\n",
    "    sns.lineplot(sum_df[sum_df.variable == 'correction_quantreg_slope'], x = 'ion', y='min', hue='corr_pool_bins', ax=ax, linewidth=0.4)\n",
    "    sns.lineplot(sum_df[sum_df.variable == 'correction_quantreg_slope'], x = 'ion', y='max', hue='corr_pool_bins', ax=ax, linewidth=0.4)\n",
    "    ax.set_xticks([])\n",
    "    ax.set_ylabel('mean, max and min slope')\n",
    "    handles, labels = ax.get_legend_handles_labels()\n",
    "    ax.legend(handles[:5], labels[:5], title='correction_using_ion_pool')\n",
    "    ax.axhline(0)\n",
    "    ax.axhline(-1)\n",
    "    ax.set_title('Range of ISM correction slopes across wells')\n",
    "    fig.tight_layout()"
   ]
  },
  {
   "cell_type": "code",
   "execution_count": null,
   "id": "7145bcd6",
   "metadata": {
    "execution": {
     "iopub.execute_input": "2022-12-14T21:54:30.180500Z",
     "iopub.status.busy": "2022-12-14T21:54:30.180126Z",
     "iopub.status.idle": "2022-12-14T21:54:32.001274Z",
     "shell.execute_reply": "2022-12-14T21:54:31.999819Z"
    },
    "papermill": {
     "duration": 1.297396,
     "end_time": "2022-12-01T11:20:27.863111",
     "exception": false,
     "start_time": "2022-12-01T11:20:26.565715",
     "status": "completed"
    },
    "tags": []
   },
   "outputs": [],
   "source": [
    "import functools\n",
    "def concat_wells(adata_dict):\n",
    "    adata = ad.concat(adata_dict, label='well', index_unique=\"_\", merge=\"first\", join='inner', fill_value=0)\n",
    "    \n",
    "    conca_var_df = pd.concat({k: v.var for k, v in adata_dict.items()}).select_dtypes(include=[float, bool])\n",
    "    if 'correction_quantreg_slope' in conca_var_df.columns:\n",
    "\n",
    "        mean_var_df = conca_var_df.reset_index(names = ['well', 'ion']).groupby('ion').mean(numeric_only = True)\n",
    "        mean_var_df.columns = ['mean_'+col for col in mean_var_df.columns]\n",
    "        \n",
    "        std_var_df = conca_var_df.reset_index(names = ['well', 'ion']).groupby('ion').std(numeric_only = True)\n",
    "        std_var_df.columns = ['sd_'+col for col in std_var_df.columns]\n",
    "        \n",
    "        count_var_df = conca_var_df.reset_index(names = ['well', 'ion']).groupby('ion').sum(numeric_only = True)\n",
    "        count_var_df.columns = ['sum_'+col for col in count_var_df.columns]\n",
    "        \n",
    "        dfs = [adata.var, \n",
    "            mean_var_df[['mean_correction_full_pixel_avg_intensities', 'mean_correction_quantreg_slope', 'mean_correction_quantreg_intersect']], \n",
    "            std_var_df[['sd_correction_full_pixel_avg_intensities', 'sd_correction_quantreg_slope', 'sd_correction_quantreg_intersect']],\n",
    "            count_var_df[['sum_correction_using_ion_pool']] ]\n",
    "        \n",
    "        adata.var = functools.reduce(lambda left,right: pd.merge(left, right, how='left', left_index=True, right_index=True), dfs)\n",
    "        adata.var['corrected_only_using_pool'] = adata.var['sum_correction_using_ion_pool'] == len(adata_dict)\n",
    "        \n",
    "    #sc.tl.pca(adata)\n",
    "    #sc.external.pp.bbknn(adata, batch_key='well')\n",
    "    split_dataset_info(adata)\n",
    "    return adata\n",
    "\n",
    "# am_adata = concat_wells(am_adata_dict)\n",
    "# am_adata_cor = concat_wells(am_adata_cor_dict)\n",
    "adata = concat_wells(adata_dict)\n",
    "gen_adata = concat_wells(gen_adata_dict)\n",
    "adata_cor = concat_wells(adata_cor_dict)"
   ]
  },
  {
   "cell_type": "markdown",
   "id": "1e61a131",
   "metadata": {
    "papermill": {
     "duration": 0.009449,
     "end_time": "2022-12-01T11:20:27.883462",
     "exception": false,
     "start_time": "2022-12-01T11:20:27.874013",
     "status": "completed"
    },
    "tags": []
   },
   "source": [
    "Especially for the underlying slopes of the ISM correction, taking the mean removes a lot of information. In reality, the different wells exhibit a large variety of slopes, which is visualized in the following figure. All ions are shown by increasing fraction of pool-corrected wells. Clearly, the lower this fraction, the more variable the distribution."
   ]
  },
  {
   "cell_type": "markdown",
   "id": "80e59f66-cbc7-4685-9115-ab0d81abc417",
   "metadata": {},
   "source": [
    "In this case, most of the ions had enough data to be corrected on their own and only about 20% were corrected solely based on pool data."
   ]
  },
  {
   "cell_type": "code",
   "execution_count": null,
   "id": "4f8c94d9",
   "metadata": {
    "execution": {
     "iopub.execute_input": "2022-12-14T21:54:32.008722Z",
     "iopub.status.busy": "2022-12-14T21:54:32.008304Z",
     "iopub.status.idle": "2022-12-14T21:54:36.967778Z",
     "shell.execute_reply": "2022-12-14T21:54:36.967023Z"
    },
    "papermill": {
     "duration": 4.364113,
     "end_time": "2022-12-01T11:20:32.256422",
     "exception": false,
     "start_time": "2022-12-01T11:20:27.892309",
     "status": "completed"
    },
    "tags": []
   },
   "outputs": [],
   "source": [
    "plot_range_slopes(adata_cor_dict)"
   ]
  },
  {
   "cell_type": "markdown",
   "id": "47243b8e",
   "metadata": {
    "papermill": {
     "duration": 0.017234,
     "end_time": "2022-12-01T11:20:32.293746",
     "exception": false,
     "start_time": "2022-12-01T11:20:32.276512",
     "status": "completed"
    },
    "tags": []
   },
   "source": [
    "The concatenated annotated data matrices are individually saved to file."
   ]
  },
  {
   "cell_type": "code",
   "execution_count": null,
   "id": "112bd357",
   "metadata": {
    "execution": {
     "iopub.execute_input": "2022-12-14T21:54:36.976475Z",
     "iopub.status.busy": "2022-12-14T21:54:36.976244Z",
     "iopub.status.idle": "2022-12-14T21:54:38.883312Z",
     "shell.execute_reply": "2022-12-14T21:54:38.881921Z"
    },
    "papermill": {
     "duration": 1.666994,
     "end_time": "2022-12-01T11:20:33.976373",
     "exception": false,
     "start_time": "2022-12-01T11:20:32.309379",
     "status": "completed"
    },
    "tags": []
   },
   "outputs": [],
   "source": [
    "adata.write(os.path.join(target_path, \"batch_sm_matrix.h5ad\"))\n",
    "gen_adata.write(os.path.join(target_path, \"gen_batch_sm_matrix.h5ad\"))\n",
    "adata_cor.write(os.path.join(target_path, \"corrected_batch_sm_matrix.h5ad\"))"
   ]
  },
  {
   "cell_type": "markdown",
   "id": "316d899b",
   "metadata": {
    "papermill": {
     "duration": 0.017435,
     "end_time": "2022-12-01T11:20:34.012729",
     "exception": false,
     "start_time": "2022-12-01T11:20:33.995294",
     "status": "completed"
    },
    "tags": []
   },
   "source": [
    "In order to ensure that especially the pixel-cell deconvolution was successful across samples, the summed absolute deviations between different annotated datasets are visualized in the following plot. On one hand, the uncorected but manually deconvoluted (generated) dataset is compared to the dataset directly output by SpaceM. If the same parameters were used for deconvolution, these dataset should not exhibit any differences. On the other hand, the corrected dataset is compared to the generated dataset. These dataset should exhibit differences on a comparable level across samples. If one of the samples shows much greater differences than the others, there might be a sample-specific problem with the parameters used for deconvolution."
   ]
  },
  {
   "cell_type": "markdown",
   "id": "d9cd30c7-8170-4271-92b4-01eb31b6f01d",
   "metadata": {},
   "source": [
    "In this case, the wells E2, E3 and E4 have a larger difference between the original SpaceM-derived and generated data than the other wells. This remains although I double-checked that all the correct parameters are used. Thus, some other step of the process seems to deviate from the original process, that I currently cannot pinpoint."
   ]
  },
  {
   "cell_type": "code",
   "execution_count": null,
   "id": "088d3629",
   "metadata": {
    "execution": {
     "iopub.execute_input": "2022-12-14T21:54:38.889111Z",
     "iopub.status.busy": "2022-12-14T21:54:38.888496Z",
     "iopub.status.idle": "2022-12-14T21:54:40.840161Z",
     "shell.execute_reply": "2022-12-14T21:54:40.839357Z"
    },
    "papermill": {
     "duration": 2.123311,
     "end_time": "2022-12-01T11:20:36.152435",
     "exception": false,
     "start_time": "2022-12-01T11:20:34.029124",
     "status": "completed"
    },
    "tags": []
   },
   "outputs": [],
   "source": [
    "def plot_deviations(adata1, adata2, label=\"\"):\n",
    "    df = np.abs(adata1.to_df() - adata2.to_df()).sum(axis=1)\n",
    "    # df = df / (adata1.to_df().shape[0] * adata1.to_df().shape[1])\n",
    "    df = df / (adata1.to_df().sum().sum())\n",
    "    df = pd.concat({'summed deviation': df, 'well': adata1.obs['well']}, axis=1)\n",
    "    sns.lineplot(df, x='well', y=\"summed deviation\", label=label, marker='o').set(title = 'Summed absolute deviations across wells')\n",
    "    \n",
    "plot_deviations(adata, gen_adata, 'gen. data vs. spacem')\n",
    "plot_deviations(gen_adata, adata_cor, 'corr. data vs. gen. data')"
   ]
  }
 ],
 "metadata": {
  "kernelspec": {
   "display_name": "Python 3 (ipykernel)",
   "language": "python",
   "name": "python3"
  },
  "language_info": {
   "codemirror_mode": {
    "name": "ipython",
    "version": 3
   },
   "file_extension": ".py",
   "mimetype": "text/x-python",
   "name": "python",
   "nbconvert_exporter": "python",
   "pygments_lexer": "ipython3",
   "version": "3.10.6"
  },
  "papermill": {
   "default_parameters": {},
   "duration": 29.736049,
   "end_time": "2022-12-01T11:20:37.100069",
   "environment_variables": {},
   "exception": null,
   "input_path": "/home/mklein/FDA_project/pipeline_02_processing.ipynb",
   "output_path": "/home/mklein/FDA_project/analysis/Mx_Seahorse/pipeline_02_processing.ipynb",
   "parameters": {
    "analysis_path": "/home/mklein/FDA_project/analysis/Mx_Seahorse",
    "condition_name": "treatment",
    "notebooks": [
     "pipeline_01_correction.ipynb",
     "pipeline_02_processing.ipynb",
     "pipeline_03_evaluation.ipynb"
    ],
    "project": "Mx_Seahorse",
    "source_path": "/home/mklein/Raw Data/220412_Luisa_ScSeahorse_SpaceM",
    "target_path": "/home/mklein/FDA_project/data/Mx_Seahorse",
    "well_name": "rowcol"
   },
   "start_time": "2022-12-01T11:20:07.364020",
   "version": "2.3.4"
  },
  "vscode": {
   "interpreter": {
    "hash": "89b4449ee30f46b148fb6825d70934bcbb1ebdb6d5b2015fe3835362773c7289"
   }
  }
 },
 "nbformat": 4,
 "nbformat_minor": 5
}
