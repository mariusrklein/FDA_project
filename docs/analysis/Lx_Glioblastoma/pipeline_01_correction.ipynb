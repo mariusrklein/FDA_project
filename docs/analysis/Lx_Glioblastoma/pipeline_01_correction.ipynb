{
 "cells": [
  {
   "cell_type": "markdown",
   "id": "20d299eb",
   "metadata": {
    "papermill": {
     "duration": 0.007728,
     "end_time": "2023-01-12T16:36:35.333864",
     "exception": false,
     "start_time": "2023-01-12T16:36:35.326136",
     "status": "completed"
    },
    "tags": []
   },
   "source": [
    "# Lx_Glioblastoma: Correction\n",
    "\n",
    "SpaceM datasets are usually stored as annotated data-matrices, separately for individual wells. With this notebooks, these individual files are corrected for ion suppression on the pixel-level and then deconvoluted to cell-level. All resulting files are saved separately by well to the target_path and the impact of the correction briefly shown for visual inspection."
   ]
  },
  {
   "cell_type": "code",
   "execution_count": null,
   "id": "2c1c2695",
   "metadata": {
    "execution": {
     "iopub.execute_input": "2023-01-12T16:36:35.348236Z",
     "iopub.status.busy": "2023-01-12T16:36:35.347762Z",
     "iopub.status.idle": "2023-01-12T16:36:41.973228Z",
     "shell.execute_reply": "2023-01-12T16:36:41.972290Z"
    },
    "papermill": {
     "duration": 6.635046,
     "end_time": "2023-01-12T16:36:41.975508",
     "exception": false,
     "start_time": "2023-01-12T16:36:35.340462",
     "status": "completed"
    },
    "tags": []
   },
   "outputs": [],
   "source": [
    "import os\n",
    "import platform\n",
    "import scanpy as sc\n",
    "import pandas as pd\n",
    "import numpy as np\n",
    "import anndata as ad\n",
    "import statistics as st\n",
    "import multiprocessing\n",
    "from joblib import Parallel, delayed\n",
    "from tqdm import tqdm\n",
    "import statsmodels.formula.api as smf\n",
    "import seaborn as sns\n",
    "import re\n",
    "from importlib import reload\n",
    "import json\n",
    "import sys\n",
    "sys.path.append('/home/mklein/spacem')\n",
    "sys.path.append('/home/mklein/FDA_project')\n",
    "\n",
    "from src.correction import (add_normalization_factors, \n",
    "                            correct_quantile_inplace,\n",
    "                            deconvolution_spacem,\n",
    "                            get_overlap_data,\n",
    "                            add_overlap_matrix_spacem,\n",
    "                            get_reference_pool\n",
    "                           )\n",
    "from src import const \n",
    "from SpaceM.lib.modules import (\n",
    "    overlap_analysis,\n",
    "    single_cell_analysis_normalization\n",
    ")\n",
    "\n",
    "%matplotlib inline"
   ]
  },
  {
   "cell_type": "markdown",
   "id": "0464d9f6",
   "metadata": {
    "papermill": {
     "duration": 0.006164,
     "end_time": "2023-01-12T16:36:41.988651",
     "exception": false,
     "start_time": "2023-01-12T16:36:41.982487",
     "status": "completed"
    },
    "tags": []
   },
   "source": [
    "The original data lies on the groups shared data storage. Corrected files will be saved in a separate location, preserving the well-specific folder structure."
   ]
  },
  {
   "cell_type": "code",
   "execution_count": null,
   "id": "b55e97a5",
   "metadata": {
    "execution": {
     "iopub.execute_input": "2023-01-12T16:36:42.003190Z",
     "iopub.status.busy": "2023-01-12T16:36:42.002128Z",
     "iopub.status.idle": "2023-01-12T16:36:42.007979Z",
     "shell.execute_reply": "2023-01-12T16:36:42.007005Z"
    },
    "papermill": {
     "duration": 0.015409,
     "end_time": "2023-01-12T16:36:42.010369",
     "exception": false,
     "start_time": "2023-01-12T16:36:41.994960",
     "status": "completed"
    },
    "tags": [
     "parameters"
    ]
   },
   "outputs": [],
   "source": [
    "if platform.system() == \"Darwin\":\n",
    "    source_path = '/Volumes/alexandr/smenon/2022-07-13_Glioblastoma/processed_files'\n",
    "    target_path = '/Volumes/mklein/FDA_project/data/Lx_Glioblastoma'\n",
    "else:\n",
    "    source_path = '/g/alexandr/smenon/2022-07-13_Glioblastoma/processed_files'\n",
    "    target_path = '/home/mklein/FDA_project/data/Lx_Glioblastoma'\n",
    "    \n",
    "deconv_default_min_overlap = 0.0"
   ]
  },
  {
   "cell_type": "code",
   "execution_count": null,
   "id": "c59bd8df",
   "metadata": {
    "execution": {
     "iopub.execute_input": "2023-01-12T16:36:42.025220Z",
     "iopub.status.busy": "2023-01-12T16:36:42.024620Z",
     "iopub.status.idle": "2023-01-12T16:36:42.030571Z",
     "shell.execute_reply": "2023-01-12T16:36:42.029529Z"
    },
    "papermill": {
     "duration": 0.015608,
     "end_time": "2023-01-12T16:36:42.032847",
     "exception": false,
     "start_time": "2023-01-12T16:36:42.017239",
     "status": "completed"
    },
    "tags": [
     "injected-parameters"
    ]
   },
   "outputs": [],
   "source": [
    "# Parameters\n",
    "source_path = \"/g/alexandr/smenon/2022-07-13_Glioblastoma/processed_files\"\n",
    "target_path = \"/home/mklein/FDA_project/data/Lx_Glioblastoma\"\n",
    "condition_name = \"condition\"\n",
    "well_name = \"rowcol\"\n",
    "deconv_default_min_overlap = 0.3\n",
    "analysis_path = \"/home/mklein/FDA_project/analysis/Lx_Glioblastoma\"\n",
    "notebooks = [\n",
    "    \"pipeline_01_correction.ipynb\",\n",
    "    \"pipeline_02_processing.ipynb\",\n",
    "    \"pipeline_03_evaluation.ipynb\",\n",
    "]\n",
    "project = \"Lx_Glioblastoma\"\n",
    "correction_proportion_threshold = 0.01"
   ]
  },
  {
   "cell_type": "code",
   "execution_count": null,
   "id": "0af65dcf",
   "metadata": {
    "execution": {
     "iopub.execute_input": "2023-01-12T16:36:42.048047Z",
     "iopub.status.busy": "2023-01-12T16:36:42.047188Z",
     "iopub.status.idle": "2023-01-12T16:37:00.391319Z",
     "shell.execute_reply": "2023-01-12T16:37:00.390182Z"
    },
    "papermill": {
     "duration": 18.354051,
     "end_time": "2023-01-12T16:37:00.393505",
     "exception": false,
     "start_time": "2023-01-12T16:36:42.039454",
     "status": "completed"
    },
    "tags": []
   },
   "outputs": [],
   "source": [
    "samples = []\n",
    "for dirpath, dirnames, filenames in os.walk(source_path):\n",
    "        if 'analysis' in dirnames:\n",
    "            samples.append(re.sub(source_path+'/?', '', dirpath))\n",
    "\", \".join(samples)"
   ]
  },
  {
   "cell_type": "code",
   "execution_count": null,
   "id": "abf69d2b",
   "metadata": {
    "execution": {
     "iopub.execute_input": "2023-01-12T16:37:00.408379Z",
     "iopub.status.busy": "2023-01-12T16:37:00.407792Z",
     "iopub.status.idle": "2023-01-12T16:37:00.413230Z",
     "shell.execute_reply": "2023-01-12T16:37:00.412182Z"
    },
    "papermill": {
     "duration": 0.014827,
     "end_time": "2023-01-12T16:37:00.415482",
     "exception": false,
     "start_time": "2023-01-12T16:37:00.400655",
     "status": "completed"
    },
    "tags": []
   },
   "outputs": [],
   "source": [
    "files = {\n",
    "        'config': '../config.json',\n",
    "        'sm_matrix': 'ablation_mark_analysis/spatiomolecular_adata.h5ad',\n",
    "        'overlap_regions': 'overlap_analysis2/overlap.regions.csv',\n",
    "        'mark_regions': 'overlap_analysis2/ablation_mark.regions.csv',\n",
    "        'cell_regions': 'overlap_analysis2/cell.regions.csv',\n",
    "        'cell_sm_matrix': 'single_cell_analysis/spatiomolecular_adata.h5ad',\n",
    "    }"
   ]
  },
  {
   "cell_type": "code",
   "execution_count": null,
   "id": "4a9892b2",
   "metadata": {
    "execution": {
     "iopub.execute_input": "2023-01-12T16:37:00.430401Z",
     "iopub.status.busy": "2023-01-12T16:37:00.429839Z",
     "iopub.status.idle": "2023-01-12T16:37:00.437565Z",
     "shell.execute_reply": "2023-01-12T16:37:00.436380Z"
    },
    "papermill": {
     "duration": 0.017545,
     "end_time": "2023-01-12T16:37:00.439833",
     "exception": false,
     "start_time": "2023-01-12T16:37:00.422288",
     "status": "completed"
    },
    "tags": []
   },
   "outputs": [],
   "source": [
    "def assign_average_tpo(am_adata, overlap_data, min_overlap, method=np.mean):\n",
    "    if min_overlap is None:\n",
    "        min_overlap = 0\n",
    "    \n",
    "    overlap = overlap_data.overlap_regions\n",
    "    overlap['am_id'] = overlap['am_id'].astype(str)\n",
    "    overlap['cell_id'] = overlap['cell_id'].astype(str)\n",
    "    merged_df = pd.merge(overlap[['am_id', 'cell_id']], am_adata.obs[const.TPO], left_on='am_id', right_index=True)\n",
    "    merged_df = merged_df[merged_df[const.TPO] >= min_overlap]\n",
    "    \n",
    "    mean_df = merged_df[['cell_id', 'correction_total_pixel_overlap']].groupby('cell_id', group_keys=False).agg(method)\n",
    "#     mean_df = merged_df[['cell_id', 'correction_total_pixel_overlap']].groupby('cell_id', group_keys=False).agg(lambda x: method(x))\n",
    "    return mean_df[const.TPO]"
   ]
  },
  {
   "cell_type": "code",
   "execution_count": null,
   "id": "7651654f",
   "metadata": {
    "execution": {
     "iopub.execute_input": "2023-01-12T16:37:00.454927Z",
     "iopub.status.busy": "2023-01-12T16:37:00.454265Z",
     "iopub.status.idle": "2023-01-12T16:37:00.578895Z",
     "shell.execute_reply": "2023-01-12T16:37:00.577791Z"
    },
    "papermill": {
     "duration": 0.134981,
     "end_time": "2023-01-12T16:37:00.581495",
     "exception": false,
     "start_time": "2023-01-12T16:37:00.446514",
     "status": "completed"
    },
    "tags": []
   },
   "outputs": [],
   "source": [
    "def correct_sample_spacem(sample):\n",
    "    \n",
    "    sample_path = os.path.join(source_path, sample, \"analysis\")\n",
    "    sample = re.sub('/', '_', sample)\n",
    "    \n",
    "    if not os.path.exists(os.path.join(target_path, sample)):\n",
    "        os.makedirs(os.path.join(target_path, sample))\n",
    "\n",
    "    # get appropriate file paths for the processed well\n",
    "    project_files = {k: os.path.join(sample_path, v) for k, v in files.items()}\n",
    "\n",
    "    if os.path.exists(project_files['config']):\n",
    "        with open(project_files['config']) as json_file:\n",
    "            data = json.load(json_file)\n",
    "        deconv_info = data['single_cell_analysis']\n",
    "        if deconv_info['ablation_marks_min_overlap_ratio'] is None:\n",
    "            deconv_info['ablation_marks_min_overlap_ratio'] = deconv_default_min_overlap\n",
    "    else:\n",
    "        deconv_info = None\n",
    "        print('No well config file found. Using default deconvolution parameters.')\n",
    "    # load required files\n",
    "    cell_regions = pd.read_csv(project_files['cell_regions'])\n",
    "    mark_regions = pd.read_csv(project_files['mark_regions'])\n",
    "    overlap_regions = pd.read_csv(project_files['overlap_regions'])\n",
    "    \n",
    "    sm_matrix = sc.read(os.path.join(sample_path, files['sm_matrix']))\n",
    "    cell_sm_matrix = sc.read(os.path.join(sample_path, files['cell_sm_matrix']))\n",
    "       \n",
    "    add_overlap_matrix_spacem(sm_matrix, cell_regions, mark_regions, overlap_regions)\n",
    "    \n",
    "    add_normalization_factors(adata=sm_matrix, method=st.median)\n",
    "\n",
    "    # perform the actual quantile regression\n",
    "    corr_sm_matrix = correct_quantile_inplace(adata=sm_matrix, \n",
    "        reference_ions= get_reference_pool(sm_matrix), \n",
    "        correct_intersect = True,\n",
    "        proportion_threshold=correction_proportion_threshold,\n",
    "        n_jobs=5)\n",
    "    \n",
    "    # perform pixel-cell-deconvolution\n",
    "    overlap_data = get_overlap_data(cell_regions, mark_regions, overlap_regions)\n",
    "    corr_cell_sm_matrix = deconvolution_spacem(adata=corr_sm_matrix, \n",
    "        overlap_data=overlap_data,\n",
    "        raw_adata=cell_sm_matrix,\n",
    "        deconvolution_params=deconv_info)\n",
    "    gen_cell_sm_matrix = deconvolution_spacem(adata=sm_matrix,\n",
    "        overlap_data=overlap_data,\n",
    "        raw_adata=cell_sm_matrix,\n",
    "        deconvolution_params=deconv_info)\n",
    "    \n",
    "    # hand over TPOs to spatiomolecular matrix for downstream analysis\n",
    "    min_overlap = deconv_info['ablation_marks_min_overlap_ratio']\n",
    "    corr_cell_sm_matrix.obs['list_TPO'] = assign_average_tpo(sm_matrix, overlap_data, min_overlap, method=lambda x: \";\".join(x.astype(str)))\n",
    "    gen_cell_sm_matrix.obs['list_TPO'] = assign_average_tpo(sm_matrix, overlap_data, min_overlap, method=lambda x: \";\".join(x.astype(str)))\n",
    "    \n",
    "    # write the generated files to the dedicated project location.\n",
    "    # corr_sm_matrix.write(os.path.join(target_path, sample, 'am_spatiomolecular_adata_corrected.h5ad'))\n",
    "    # sm_matrix.write(os.path.join(target_path, sample, 'am_spatiomolecular_adata.h5ad'))\n",
    "    corr_cell_sm_matrix.write(os.path.join(target_path, sample, 'cells_spatiomolecular_adata_corrected.h5ad'))\n",
    "    cell_sm_matrix.write(os.path.join(target_path, sample, 'cells_spatiomolecular_adata_spacem.h5ad'))\n",
    "    gen_cell_sm_matrix.write(os.path.join(target_path, sample, 'cells_spatiomolecular_adata.h5ad'))\n",
    "    \n",
    "    return (sample, cell_sm_matrix, corr_cell_sm_matrix, sm_matrix, corr_sm_matrix, deconv_info)"
   ]
  },
  {
   "cell_type": "markdown",
   "id": "05809e89",
   "metadata": {
    "papermill": {
     "duration": 0.006742,
     "end_time": "2023-01-12T16:37:00.595911",
     "exception": false,
     "start_time": "2023-01-12T16:37:00.589169",
     "status": "completed"
    },
    "tags": []
   },
   "source": [
    "This is the actual correction pipeline."
   ]
  },
  {
   "cell_type": "code",
   "execution_count": null,
   "id": "b2515c5f",
   "metadata": {
    "execution": {
     "iopub.execute_input": "2023-01-12T16:37:00.610586Z",
     "iopub.status.busy": "2023-01-12T16:37:00.609997Z",
     "iopub.status.idle": "2023-01-12T16:53:32.630728Z",
     "shell.execute_reply": "2023-01-12T16:53:32.629724Z"
    },
    "papermill": {
     "duration": 992.030974,
     "end_time": "2023-01-12T16:53:32.633289",
     "exception": false,
     "start_time": "2023-01-12T16:37:00.602315",
     "status": "completed"
    },
    "tags": []
   },
   "outputs": [],
   "source": [
    "adata_list = Parallel(n_jobs=7)(delayed(correct_sample_spacem)(sample) for sample in tqdm(samples))\n",
    "# adata_list = [correct_sample_spacem(sample) for sample in tqdm(['I4'])]"
   ]
  },
  {
   "cell_type": "code",
   "execution_count": null,
   "id": "80785614",
   "metadata": {
    "execution": {
     "iopub.execute_input": "2023-01-12T16:53:32.653483Z",
     "iopub.status.busy": "2023-01-12T16:53:32.652858Z",
     "iopub.status.idle": "2023-01-12T16:53:36.559873Z",
     "shell.execute_reply": "2023-01-12T16:53:36.558759Z"
    },
    "papermill": {
     "duration": 3.919202,
     "end_time": "2023-01-12T16:53:36.562179",
     "exception": false,
     "start_time": "2023-01-12T16:53:32.642977",
     "status": "completed"
    },
    "tags": []
   },
   "outputs": [],
   "source": [
    "# reshape data for immediate analysis\n",
    "am_adata_dict = {item[0]: item[3] for item in adata_list}\n",
    "am_adata_cor_dict = {item[0]: item[4] for item in adata_list}\n",
    "adata_dict = {item[0]: item[1] for item in adata_list}\n",
    "adata_cor_dict = {item[0]: item[2] for item in adata_list}\n",
    "\n",
    "am_adata = ad.concat(am_adata_dict, label='well', index_unique=\"_\", merge=\"first\")\n",
    "am_adata_cor = ad.concat(am_adata_cor_dict, label='well', index_unique=\"_\", merge='first')\n",
    "adata = ad.concat(adata_dict, label='well', index_unique=\"_\", merge=\"first\")\n",
    "adata_cor = ad.concat(adata_cor_dict, label='well', index_unique=\"_\", merge=\"first\")\n",
    "\n",
    "deconv_dict = {item[0]: item[5] for item in adata_list}\n",
    "deconv_table = pd.DataFrame(deconv_dict).T\n",
    "deconv_table"
   ]
  },
  {
   "cell_type": "markdown",
   "id": "8decc6f0-e087-4c8c-b916-240aa4400235",
   "metadata": {
    "papermill": {
     "duration": 0.009128,
     "end_time": "2023-01-12T16:53:36.581107",
     "exception": false,
     "start_time": "2023-01-12T16:53:36.571979",
     "status": "completed"
    },
    "tags": []
   },
   "source": [
    "The ion suppression correction takes a parameter proportion_threshold to filter the pixels used to compute quantile regression. In particular, pixels with a sampling proportion lower than the threshold are excluded for this step. In contrast, the actual correction is then performed on all pixels in the dataset. As a consequence, for the majority of the dataset, the dependence of the data on the factor \"sampling_proportion\" is not completely removed by the correction. Instead, depending on the difference in slope between the complete and thresholded set of pixels, the corrected set of pixels has a positive or negative dependence on the factor \"sampling_proportion\". The larger the proportion_threshold, the stronger this deviation can get.\n",
    "\n",
    "In the following figure, these differences are visualized for a subset of ions (with very low/high correction slope) and wells. The top panel shows the logarithmic ion intensity/proportion ratio plotted against the log proportion ratio of the respective pixels. As this is the relationship used to compute the quantile regression, the resulting regression lines can also be shown. The black lines show the quantile regression of the total set of pixels in a well, the red lines for the thresholded set (shown as orange squares). In turn, the blue squares are disregarded in calculating the correction slope. The bottom panel shows the corresponding corrected sets of pixels with black lines again representing the quantile regression on the complete set of pixels."
   ]
  },
  {
   "cell_type": "code",
   "execution_count": null,
   "id": "265fc62c-1574-48d8-ad01-706d4195024d",
   "metadata": {
    "execution": {
     "iopub.execute_input": "2023-01-12T16:53:36.600910Z",
     "iopub.status.busy": "2023-01-12T16:53:36.599948Z",
     "iopub.status.idle": "2023-01-12T16:53:36.605156Z",
     "shell.execute_reply": "2023-01-12T16:53:36.604138Z"
    },
    "papermill": {
     "duration": 0.017489,
     "end_time": "2023-01-12T16:53:36.607444",
     "exception": false,
     "start_time": "2023-01-12T16:53:36.589955",
     "status": "completed"
    },
    "tags": []
   },
   "outputs": [],
   "source": [
    "import warnings\n",
    "warnings.filterwarnings('ignore')"
   ]
  },
  {
   "cell_type": "code",
   "execution_count": null,
   "id": "afaf5db4-8a5d-48ea-ae9e-9b6e18e429da",
   "metadata": {
    "execution": {
     "iopub.execute_input": "2023-01-12T16:53:36.627009Z",
     "iopub.status.busy": "2023-01-12T16:53:36.626409Z",
     "iopub.status.idle": "2023-01-12T16:53:36.653575Z",
     "shell.execute_reply": "2023-01-12T16:53:36.652637Z"
    },
    "papermill": {
     "duration": 0.039573,
     "end_time": "2023-01-12T16:53:36.655948",
     "exception": false,
     "start_time": "2023-01-12T16:53:36.616375",
     "status": "completed"
    },
    "tags": []
   },
   "outputs": [],
   "source": [
    "am_adata.obs[const.TPO] = am_adata_cor.obs[const.TPO]"
   ]
  },
  {
   "cell_type": "code",
   "execution_count": null,
   "id": "e41dde30-6f71-4086-930d-7458d0a90f85",
   "metadata": {
    "execution": {
     "iopub.execute_input": "2023-01-12T16:53:36.676381Z",
     "iopub.status.busy": "2023-01-12T16:53:36.675462Z",
     "iopub.status.idle": "2023-01-12T16:53:50.225835Z",
     "shell.execute_reply": "2023-01-12T16:53:50.224696Z"
    },
    "papermill": {
     "duration": 13.563751,
     "end_time": "2023-01-12T16:53:50.228930",
     "exception": false,
     "start_time": "2023-01-12T16:53:36.665179",
     "status": "completed"
    },
    "tags": []
   },
   "outputs": [],
   "source": [
    "from src.evaluation import compare_pre_post_correction\n",
    "compare_pre_post_correction(am_adata, am_adata_cor, proportion_threshold=correction_proportion_threshold)"
   ]
  }
 ],
 "metadata": {
  "kernelspec": {
   "display_name": "“ion_suppression_new”",
   "language": "python",
   "name": "ion_suppression"
  },
  "language_info": {
   "codemirror_mode": {
    "name": "ipython",
    "version": 3
   },
   "file_extension": ".py",
   "mimetype": "text/x-python",
   "name": "python",
   "nbconvert_exporter": "python",
   "pygments_lexer": "ipython3",
   "version": "3.10.8"
  },
  "papermill": {
   "default_parameters": {},
   "duration": 1041.295757,
   "end_time": "2023-01-12T16:53:53.473166",
   "environment_variables": {},
   "exception": null,
   "input_path": "analysis/Lx_Glioblastoma/pipeline_01_correction.ipynb",
   "output_path": "analysis/Lx_Glioblastoma/pipeline_01_correction.ipynb",
   "parameters": {
    "analysis_path": "/home/mklein/FDA_project/analysis/Lx_Glioblastoma",
    "condition_name": "condition",
    "deconv_default_min_overlap": 0.3,
    "notebooks": [
     "pipeline_01_correction.ipynb",
     "pipeline_02_processing.ipynb",
     "pipeline_03_evaluation.ipynb"
    ],
    "project": "Lx_Glioblastoma",
    "source_path": "/g/alexandr/smenon/2022-07-13_Glioblastoma/processed_files",
    "target_path": "/home/mklein/FDA_project/data/Lx_Glioblastoma",
    "well_name": "rowcol"
   },
   "start_time": "2023-01-12T16:36:32.177409",
   "version": "2.3.4"
  },
  "vscode": {
   "interpreter": {
    "hash": "89b4449ee30f46b148fb6825d70934bcbb1ebdb6d5b2015fe3835362773c7289"
   }
  }
 },
 "nbformat": 4,
 "nbformat_minor": 5
}
