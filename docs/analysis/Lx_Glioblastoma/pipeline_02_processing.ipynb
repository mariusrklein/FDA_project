{
 "cells": [
  {
   "cell_type": "markdown",
   "id": "3bed3413",
   "metadata": {
    "papermill": {
     "duration": 0.007671,
     "end_time": "2023-01-15T19:43:44.274644",
     "exception": false,
     "start_time": "2023-01-15T19:43:44.266973",
     "status": "completed"
    },
    "tags": []
   },
   "source": [
    "# Lx_Glioblastoma: Processing\n",
    "\n",
    "Datasets typically consist of several wells on a microscopy slide. In this notebook, the wells are integrated to one annotated data matrix."
   ]
  },
  {
   "cell_type": "code",
   "execution_count": null,
   "id": "437ac4f1",
   "metadata": {
    "execution": {
     "iopub.execute_input": "2023-01-15T19:43:44.289396Z",
     "iopub.status.busy": "2023-01-15T19:43:44.289009Z",
     "iopub.status.idle": "2023-01-15T19:43:49.246223Z",
     "shell.execute_reply": "2023-01-15T19:43:49.245300Z"
    },
    "papermill": {
     "duration": 4.967218,
     "end_time": "2023-01-15T19:43:49.248692",
     "exception": false,
     "start_time": "2023-01-15T19:43:44.281474",
     "status": "completed"
    },
    "tags": []
   },
   "outputs": [],
   "source": [
    "import os\n",
    "import platform\n",
    "import scanpy as sc\n",
    "import pandas as pd\n",
    "import numpy as np\n",
    "import anndata as ad\n",
    "import multiprocessing\n",
    "from joblib import Parallel, delayed\n",
    "from importlib import reload\n",
    "from tqdm import tqdm\n",
    "import statsmodels.formula.api as smf\n",
    "import matplotlib.pyplot as plt\n",
    "import seaborn as sns\n",
    "import functools\n",
    "import sys\n",
    "sys.path.append('/home/mklein/spacem')\n",
    "sys.path.append('/Volumes/mklein/spacem')\n",
    "sys.path.append('/home/mklein/FDA_project')\n",
    "from src.correction import get_matrices_from_dfs, normalize_proportion_ratios\n",
    "from src import const\n",
    "from src.evaluation import plot_all_ion_slopes\n",
    "\n",
    "%matplotlib inline"
   ]
  },
  {
   "cell_type": "code",
   "execution_count": null,
   "id": "61f6fd35",
   "metadata": {
    "execution": {
     "iopub.execute_input": "2023-01-15T19:43:49.264577Z",
     "iopub.status.busy": "2023-01-15T19:43:49.263740Z",
     "iopub.status.idle": "2023-01-15T19:43:49.270007Z",
     "shell.execute_reply": "2023-01-15T19:43:49.269099Z"
    },
    "papermill": {
     "duration": 0.016168,
     "end_time": "2023-01-15T19:43:49.272201",
     "exception": false,
     "start_time": "2023-01-15T19:43:49.256033",
     "status": "completed"
    },
    "tags": [
     "parameters"
    ]
   },
   "outputs": [],
   "source": [
    "if platform.system() == \"Darwin\":\n",
    "    target_path = '/Volumes/mklein/FDA_project/data/Lx_Glioblastoma'\n",
    "else:\n",
    "    target_path = '/home/mklein/FDA_project/data/Lx_Glioblastoma'\n",
    "    \n",
    "# this is the column of the annotated data matrix, that discriminates between conditions\n",
    "condition_name = 'dataset_3'"
   ]
  },
  {
   "cell_type": "code",
   "execution_count": null,
   "id": "2662640d",
   "metadata": {
    "execution": {
     "iopub.execute_input": "2023-01-15T19:43:49.287348Z",
     "iopub.status.busy": "2023-01-15T19:43:49.286626Z",
     "iopub.status.idle": "2023-01-15T19:43:49.292375Z",
     "shell.execute_reply": "2023-01-15T19:43:49.291476Z"
    },
    "papermill": {
     "duration": 0.0157,
     "end_time": "2023-01-15T19:43:49.294607",
     "exception": false,
     "start_time": "2023-01-15T19:43:49.278907",
     "status": "completed"
    },
    "tags": [
     "injected-parameters"
    ]
   },
   "outputs": [],
   "source": [
    "# Parameters\n",
    "source_path = \"/g/alexandr/smenon/2022-07-13_Glioblastoma/processed_files\"\n",
    "target_path = \"/home/mklein/FDA_project/data/Lx_Glioblastoma\"\n",
    "condition_name = \"condition\"\n",
    "notebooks = [\"pipeline_02_processing.ipynb\", \"pipeline_03_evaluation.ipynb\"]\n",
    "well_name = \"rowcol\"\n",
    "deconv_default_min_overlap = 0.3\n",
    "analysis_path = \"/home/mklein/FDA_project/analysis/Lx_Glioblastoma\"\n",
    "project = \"Lx_Glioblastoma\"\n"
   ]
  },
  {
   "cell_type": "code",
   "execution_count": null,
   "id": "7accddec",
   "metadata": {
    "execution": {
     "iopub.execute_input": "2023-01-15T19:43:49.309340Z",
     "iopub.status.busy": "2023-01-15T19:43:49.308592Z",
     "iopub.status.idle": "2023-01-15T19:43:49.315675Z",
     "shell.execute_reply": "2023-01-15T19:43:49.314749Z"
    },
    "papermill": {
     "duration": 0.016733,
     "end_time": "2023-01-15T19:43:49.317962",
     "exception": false,
     "start_time": "2023-01-15T19:43:49.301229",
     "status": "completed"
    },
    "tags": []
   },
   "outputs": [],
   "source": [
    "samples = [dir.name for dir in os.scandir(target_path) if dir.is_dir() and dir.name[0] != \".\"]\n",
    "\n",
    "files = {\n",
    "        'am_sm_matrix': 'am_spatiomolecular_adata.h5ad',\n",
    "        'corr_am_sm_matrix': 'am_spatiomolecular_adata_corrected.h5ad',\n",
    "        'cell_sm_matrix': 'cells_spatiomolecular_adata_spacem.h5ad',\n",
    "        'gen_cell_sm_matrix': 'cells_spatiomolecular_adata.h5ad',\n",
    "        'corr_cell_sm_matrix': 'cells_spatiomolecular_adata_corrected.h5ad',\n",
    "    }\n"
   ]
  },
  {
   "cell_type": "markdown",
   "id": "f1dd6298",
   "metadata": {
    "papermill": {
     "duration": 0.005961,
     "end_time": "2023-01-15T19:43:49.330405",
     "exception": false,
     "start_time": "2023-01-15T19:43:49.324444",
     "status": "completed"
    },
    "tags": []
   },
   "source": [
    "After loading all individual wells, they are concatenated into one data matrix. Cell identifiers are kept unique by adding a well-specific suffix "
   ]
  },
  {
   "cell_type": "code",
   "execution_count": null,
   "id": "ca72775e",
   "metadata": {
    "execution": {
     "iopub.execute_input": "2023-01-15T19:43:49.345050Z",
     "iopub.status.busy": "2023-01-15T19:43:49.344158Z",
     "iopub.status.idle": "2023-01-15T19:44:05.976700Z",
     "shell.execute_reply": "2023-01-15T19:44:05.975747Z"
    },
    "papermill": {
     "duration": 16.642135,
     "end_time": "2023-01-15T19:44:05.978976",
     "exception": false,
     "start_time": "2023-01-15T19:43:49.336841",
     "status": "completed"
    },
    "tags": []
   },
   "outputs": [],
   "source": [
    "am_adata_dict = {}\n",
    "am_adata_cor_dict = {}\n",
    "adata_dict = {}\n",
    "gen_adata_dict = {}\n",
    "adata_cor_dict = {}\n",
    "\n",
    "for sample in tqdm(samples):\n",
    "    sample_path = os.path.join(target_path, sample)\n",
    "\n",
    "    project_files = {k: os.path.join(sample_path, v) for k, v in files.items()}\n",
    "\n",
    "    # am_adata_dict[sample] = sc.read(project_files['am_sm_matrix'])\n",
    "    # am_adata_cor_dict[sample] = sc.read(project_files['corr_am_sm_matrix'])\n",
    "    adata_dict[sample] = sc.read(project_files['cell_sm_matrix'])\n",
    "    gen_adata_dict[sample] = sc.read(project_files['gen_cell_sm_matrix'])\n",
    "    adata_cor_dict[sample] = sc.read(project_files['corr_cell_sm_matrix'])\n"
   ]
  },
  {
   "cell_type": "code",
   "execution_count": null,
   "id": "8db226ee",
   "metadata": {
    "execution": {
     "iopub.execute_input": "2023-01-15T19:44:05.999507Z",
     "iopub.status.busy": "2023-01-15T19:44:05.998472Z",
     "iopub.status.idle": "2023-01-15T19:44:06.005387Z",
     "shell.execute_reply": "2023-01-15T19:44:06.004463Z"
    },
    "papermill": {
     "duration": 0.018573,
     "end_time": "2023-01-15T19:44:06.007394",
     "exception": false,
     "start_time": "2023-01-15T19:44:05.988821",
     "status": "completed"
    },
    "tags": []
   },
   "outputs": [],
   "source": [
    "def split_dataset_info(adata):\n",
    "    split = adata.obs['dataset'].str.split(\"_\", expand=True)\n",
    "    adata.obs[['dataset_' + str(col) for col in split.columns]] = split"
   ]
  },
  {
   "cell_type": "markdown",
   "id": "860d25cd",
   "metadata": {
    "papermill": {
     "duration": 0.009075,
     "end_time": "2023-01-15T19:44:06.025923",
     "exception": false,
     "start_time": "2023-01-15T19:44:06.016848",
     "status": "completed"
    },
    "tags": []
   },
   "source": [
    "The combination of wells is not restricted to concatenation of the corresponding data matrices. Some of the ion-related metadata, like the slopes used in ISM correction, are specific to the individual wells. Thus, they are summarised and mean values saved in the combined data matrices."
   ]
  },
  {
   "cell_type": "code",
   "execution_count": null,
   "id": "b6097156",
   "metadata": {
    "execution": {
     "iopub.execute_input": "2023-01-15T19:44:06.046037Z",
     "iopub.status.busy": "2023-01-15T19:44:06.045440Z",
     "iopub.status.idle": "2023-01-15T19:44:06.062919Z",
     "shell.execute_reply": "2023-01-15T19:44:06.061810Z"
    },
    "papermill": {
     "duration": 0.030178,
     "end_time": "2023-01-15T19:44:06.065315",
     "exception": false,
     "start_time": "2023-01-15T19:44:06.035137",
     "status": "completed"
    },
    "tags": []
   },
   "outputs": [],
   "source": [
    "def plot_range_slopes(adata_dict):\n",
    "    adata = ad.concat(adata_dict, label='well', index_unique=\"_\", merge=\"first\", join='inner', fill_value=0)\n",
    "    conca_var_df = pd.concat({k: v.var for k, v in adata_dict.items()}).select_dtypes(include=[float])\n",
    "    \n",
    "    dfs = [conca_var_df.reset_index(names = ['well', 'ion']).groupby('ion').mean(numeric_only = True).reset_index().melt(id_vars=['ion'], value_name='mean'),\n",
    "              conca_var_df.reset_index(names = ['well', 'ion']).groupby('ion').min(numeric_only = True).reset_index().melt(id_vars=['ion'], value_name='min'),\n",
    "              conca_var_df.reset_index(names = ['well', 'ion']).groupby('ion').max(numeric_only = True).reset_index().melt(id_vars=['ion'], value_name='max')]\n",
    "\n",
    "    sum_df = pd.merge(functools.reduce(lambda left,right: pd.merge(left, right, how='left', on=['ion', 'variable']), dfs), \n",
    "                      pd.concat({k: v.var for k, v in adata_cor_dict.items()})[['correction_using_ion_pool']].reset_index(names = ['well', 'ion']).groupby('ion').sum(numeric_only = True), \n",
    "                      left_on='ion', right_index=True)\n",
    "\n",
    "    def my_bin(i):\n",
    "        if i == len(adata_dict):\n",
    "            return '4_all by pool'\n",
    "        elif i == 0:\n",
    "            return '0_none by pool'\n",
    "        elif i >0.9*len(adata_dict):\n",
    "            return '3_>90% by pool'\n",
    "        elif i >0.5*len(adata_dict):\n",
    "            return '2_>50% by pool'\n",
    "        else:\n",
    "            return '1_<50% by pool'\n",
    "        \n",
    "    sum_df['corr_pool_bins'] = [my_bin(i) for i in sum_df['correction_using_ion_pool']]\n",
    "    #pd.cut(sum_df['correction_using_ion_pool'], bins=4)#, q=[0, .2, .4, .6, .8, 1], labels=['<20%', '<40%', '<60%', '<80%', '>80%'])\n",
    "    \n",
    "    sum_df = sum_df.sort_values(['correction_using_ion_pool'])\n",
    "    \n",
    "    fig, ax = plt.subplots(figsize=(16, 4))\n",
    "    m = sns.lineplot(sum_df[sum_df.variable == 'correction_quantreg_slope'], x = 'ion', y='mean', hue='corr_pool_bins', ax=ax)\n",
    "    sns.lineplot(sum_df[sum_df.variable == 'correction_quantreg_slope'], x = 'ion', y='min', hue='corr_pool_bins', ax=ax, linewidth=0.4)\n",
    "    sns.lineplot(sum_df[sum_df.variable == 'correction_quantreg_slope'], x = 'ion', y='max', hue='corr_pool_bins', ax=ax, linewidth=0.4)\n",
    "    ax.set_xticks([])\n",
    "    ax.set_ylabel('mean, max and min slope')\n",
    "    handles, labels = ax.get_legend_handles_labels()\n",
    "    ax.legend(handles[:5], labels[:5], title='correction_using_ion_pool')\n",
    "    ax.axhline(0)\n",
    "    ax.axhline(-1)\n",
    "    ax.set_title('Range of ISM correction slopes across wells')\n",
    "    fig.tight_layout()"
   ]
  },
  {
   "cell_type": "code",
   "execution_count": null,
   "id": "36efcc82",
   "metadata": {
    "execution": {
     "iopub.execute_input": "2023-01-15T19:44:06.085379Z",
     "iopub.status.busy": "2023-01-15T19:44:06.084787Z",
     "iopub.status.idle": "2023-01-15T19:44:07.596942Z",
     "shell.execute_reply": "2023-01-15T19:44:07.595907Z"
    },
    "papermill": {
     "duration": 1.524816,
     "end_time": "2023-01-15T19:44:07.599410",
     "exception": false,
     "start_time": "2023-01-15T19:44:06.074594",
     "status": "completed"
    },
    "tags": []
   },
   "outputs": [],
   "source": [
    "import functools\n",
    "def concat_wells(adata_dict):\n",
    "    adata = ad.concat(adata_dict, label='well', index_unique=\"_\", merge=\"first\", join='inner', fill_value=0)\n",
    "    \n",
    "    conca_var_df = pd.concat({k: v.var for k, v in adata_dict.items()}).select_dtypes(include=[float, bool])\n",
    "    if 'correction_quantreg_slope' in conca_var_df.columns:\n",
    "\n",
    "        mean_var_df = conca_var_df.reset_index(names = ['well', 'ion']).groupby('ion').mean(numeric_only = True)\n",
    "        mean_var_df.columns = ['mean_'+col for col in mean_var_df.columns]\n",
    "        \n",
    "        std_var_df = conca_var_df.reset_index(names = ['well', 'ion']).groupby('ion').std(numeric_only = True)\n",
    "        std_var_df.columns = ['sd_'+col for col in std_var_df.columns]\n",
    "        \n",
    "        count_var_df = conca_var_df.reset_index(names = ['well', 'ion']).groupby('ion').sum(numeric_only = True)\n",
    "        count_var_df.columns = ['sum_'+col for col in count_var_df.columns]\n",
    "        \n",
    "        dfs = [adata.var, \n",
    "            mean_var_df[['mean_correction_full_pixel_avg_intensities', 'mean_correction_quantreg_slope', 'mean_correction_quantreg_intersect']], \n",
    "            std_var_df[['sd_correction_full_pixel_avg_intensities', 'sd_correction_quantreg_slope', 'sd_correction_quantreg_intersect']],\n",
    "            count_var_df[['sum_correction_using_ion_pool']] ]\n",
    "        \n",
    "        adata.var = functools.reduce(lambda left,right: pd.merge(left, right, how='left', left_index=True, right_index=True), dfs)\n",
    "        adata.var['corrected_only_using_pool'] = adata.var['sum_correction_using_ion_pool'] == len(adata_dict)\n",
    "        \n",
    "    #sc.tl.pca(adata)\n",
    "    #sc.external.pp.bbknn(adata, batch_key='well')\n",
    "    split_dataset_info(adata)\n",
    "    return adata\n",
    "\n",
    "# am_adata = concat_wells(am_adata_dict)\n",
    "# am_adata_cor = concat_wells(am_adata_cor_dict)\n",
    "adata = concat_wells(adata_dict)\n",
    "gen_adata = concat_wells(gen_adata_dict)\n",
    "adata_cor = concat_wells(adata_cor_dict)"
   ]
  },
  {
   "cell_type": "markdown",
   "id": "4e9f9c8f",
   "metadata": {
    "papermill": {
     "duration": 0.010017,
     "end_time": "2023-01-15T19:44:07.619459",
     "exception": false,
     "start_time": "2023-01-15T19:44:07.609442",
     "status": "completed"
    },
    "tags": []
   },
   "source": [
    "Especially for the underlying slopes of the ISM correction, taking the mean removes a lot of information. In reality, the different wells exhibit a large variety of slopes, which is visualized in the following figure. All ions are shown by increasing fraction of pool-corrected wells. Clearly, the lower this fraction, the more variable the distribution."
   ]
  },
  {
   "cell_type": "code",
   "execution_count": null,
   "id": "861c9f94",
   "metadata": {
    "execution": {
     "iopub.execute_input": "2023-01-15T19:44:07.640204Z",
     "iopub.status.busy": "2023-01-15T19:44:07.639598Z",
     "iopub.status.idle": "2023-01-15T19:44:12.708484Z",
     "shell.execute_reply": "2023-01-15T19:44:12.707288Z"
    },
    "papermill": {
     "duration": 5.081719,
     "end_time": "2023-01-15T19:44:12.710867",
     "exception": false,
     "start_time": "2023-01-15T19:44:07.629148",
     "status": "completed"
    },
    "tags": []
   },
   "outputs": [],
   "source": [
    "plot_range_slopes(adata_cor_dict)"
   ]
  },
  {
   "cell_type": "markdown",
   "id": "78068bfd",
   "metadata": {
    "papermill": {
     "duration": 0.010803,
     "end_time": "2023-01-15T19:44:12.733522",
     "exception": false,
     "start_time": "2023-01-15T19:44:12.722719",
     "status": "completed"
    },
    "tags": []
   },
   "source": [
    "The concatenated annotated data matrices are individually saved to file."
   ]
  },
  {
   "cell_type": "code",
   "execution_count": null,
   "id": "e37ad34d",
   "metadata": {
    "execution": {
     "iopub.execute_input": "2023-01-15T19:44:12.757534Z",
     "iopub.status.busy": "2023-01-15T19:44:12.756304Z",
     "iopub.status.idle": "2023-01-15T19:44:14.802616Z",
     "shell.execute_reply": "2023-01-15T19:44:14.801495Z"
    },
    "papermill": {
     "duration": 2.060589,
     "end_time": "2023-01-15T19:44:14.805103",
     "exception": false,
     "start_time": "2023-01-15T19:44:12.744514",
     "status": "completed"
    },
    "tags": []
   },
   "outputs": [],
   "source": [
    "adata.write(os.path.join(target_path, \"batch_sm_matrix.h5ad\"))\n",
    "gen_adata.write(os.path.join(target_path, \"gen_batch_sm_matrix.h5ad\"))\n",
    "adata_cor.write(os.path.join(target_path, \"corrected_batch_sm_matrix.h5ad\"))"
   ]
  },
  {
   "cell_type": "markdown",
   "id": "e9ac9a75",
   "metadata": {
    "papermill": {
     "duration": 0.011115,
     "end_time": "2023-01-15T19:44:14.828014",
     "exception": false,
     "start_time": "2023-01-15T19:44:14.816899",
     "status": "completed"
    },
    "tags": []
   },
   "source": [
    "In order to ensure that especially the pixel-cell deconvolution was successful across samples, the summed absolute deviations between different annotated datasets are visualized in the following plot. On one hand, the uncorected but manually deconvoluted (generated) dataset is compared to the dataset directly output by SpaceM. If the same parameters were used for deconvolution, these dataset should not exhibit any differences. On the other hand, the corrected dataset is compared to the generated dataset. These dataset should exhibit differences on a comparable level across samples. If one of the samples shows much greater differences than the others, there might be a sample-specific problem with the parameters used for deconvolution."
   ]
  },
  {
   "cell_type": "code",
   "execution_count": null,
   "id": "af6f9cbb",
   "metadata": {
    "execution": {
     "iopub.execute_input": "2023-01-15T19:44:14.852568Z",
     "iopub.status.busy": "2023-01-15T19:44:14.851095Z",
     "iopub.status.idle": "2023-01-15T19:44:17.989837Z",
     "shell.execute_reply": "2023-01-15T19:44:17.988856Z"
    },
    "papermill": {
     "duration": 3.153075,
     "end_time": "2023-01-15T19:44:17.991859",
     "exception": false,
     "start_time": "2023-01-15T19:44:14.838784",
     "status": "completed"
    },
    "tags": []
   },
   "outputs": [],
   "source": [
    "def plot_deviations(adata1, adata2, label=\"\"):\n",
    "    df = np.abs(adata1.to_df() - adata2.to_df()).sum(axis=1)\n",
    "    # df = df / (adata1.to_df().shape[0] * adata1.to_df().shape[1])\n",
    "    df = df / (adata1.to_df().sum().sum())\n",
    "    df = pd.concat({'summed deviation': df, 'well': adata1.obs['well']}, axis=1)\n",
    "    sns.lineplot(df, x='well', y=\"summed deviation\", label=label, marker='o').set(title = 'Summed absolute deviations across wells')\n",
    "    \n",
    "plot_deviations(adata, gen_adata, 'gen. data vs. spacem')\n",
    "plot_deviations(gen_adata, adata_cor, 'corr. data vs. gen. data')"
   ]
  },
  {
   "cell_type": "code",
   "execution_count": null,
   "id": "268ee633-1276-487d-ba7e-ee8b93c55390",
   "metadata": {
    "execution": {
     "iopub.execute_input": "2023-01-15T19:44:18.019006Z",
     "iopub.status.busy": "2023-01-15T19:44:18.018214Z",
     "iopub.status.idle": "2023-01-15T19:44:38.868847Z",
     "shell.execute_reply": "2023-01-15T19:44:38.867855Z"
    },
    "papermill": {
     "duration": 20.866453,
     "end_time": "2023-01-15T19:44:38.871415",
     "exception": false,
     "start_time": "2023-01-15T19:44:18.004962",
     "status": "completed"
    },
    "tags": []
   },
   "outputs": [],
   "source": [
    "from src.evaluation import plot_deviations_between_adatas\n",
    "plot_deviations_between_adatas(adata, gen_adata, adata_cor)"
   ]
  }
 ],
 "metadata": {
  "kernelspec": {
   "display_name": "“ion_suppression_new”",
   "language": "python",
   "name": "ion_suppression"
  },
  "language_info": {
   "codemirror_mode": {
    "name": "ipython",
    "version": 3
   },
   "file_extension": ".py",
   "mimetype": "text/x-python",
   "name": "python",
   "nbconvert_exporter": "python",
   "pygments_lexer": "ipython3",
   "version": "3.10.8"
  },
  "papermill": {
   "default_parameters": {},
   "duration": 58.423804,
   "end_time": "2023-01-15T19:44:40.009661",
   "environment_variables": {},
   "exception": null,
   "input_path": "analysis/Lx_Glioblastoma/pipeline_02_processing.ipynb",
   "output_path": "analysis/Lx_Glioblastoma/pipeline_02_processing.ipynb",
   "parameters": {
    "analysis_path": "/home/mklein/FDA_project/analysis/Lx_Glioblastoma",
    "condition_name": "condition",
    "deconv_default_min_overlap": 0.3,
    "notebooks": [
     "pipeline_02_processing.ipynb",
     "pipeline_03_evaluation.ipynb"
    ],
    "project": "Lx_Glioblastoma",
    "source_path": "/g/alexandr/smenon/2022-07-13_Glioblastoma/processed_files",
    "target_path": "/home/mklein/FDA_project/data/Lx_Glioblastoma",
    "well_name": "rowcol"
   },
   "start_time": "2023-01-15T19:43:41.585857",
   "version": "2.3.4"
  },
  "vscode": {
   "interpreter": {
    "hash": "89b4449ee30f46b148fb6825d70934bcbb1ebdb6d5b2015fe3835362773c7289"
   }
  }
 },
 "nbformat": 4,
 "nbformat_minor": 5
}
