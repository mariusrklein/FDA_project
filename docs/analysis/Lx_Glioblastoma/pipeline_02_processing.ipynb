{
 "cells": [
  {
   "cell_type": "markdown",
   "id": "3bed3413",
   "metadata": {
    "papermill": {
     "duration": 0.00871,
     "end_time": "2022-12-01T13:09:39.410103",
     "exception": false,
     "start_time": "2022-12-01T13:09:39.401393",
     "status": "completed"
    },
    "tags": []
   },
   "source": [
    "# Lx_Glioblastoma: Processing\n",
    "\n",
    "Datasets typically consist of several wells on a microscopy slide. In this notebook, the wells are integrated to one annotated data matrix."
   ]
  },
  {
   "cell_type": "code",
   "execution_count": null,
   "id": "437ac4f1",
   "metadata": {
    "papermill": {
     "duration": 4.271465,
     "end_time": "2022-12-01T13:09:43.689051",
     "exception": false,
     "start_time": "2022-12-01T13:09:39.417586",
     "status": "completed"
    },
    "tags": []
   },
   "outputs": [],
   "source": [
    "import os\n",
    "import platform\n",
    "import scanpy as sc\n",
    "import pandas as pd\n",
    "import numpy as np\n",
    "import anndata as ad\n",
    "import multiprocessing\n",
    "from joblib import Parallel, delayed\n",
    "from importlib import reload\n",
    "from tqdm import tqdm\n",
    "import statsmodels.formula.api as smf\n",
    "import matplotlib.pyplot as plt\n",
    "import seaborn as sns\n",
    "import functools\n",
    "import sys\n",
    "sys.path.append('/home/mklein/spacem')\n",
    "sys.path.append('/Volumes/mklein/spacem')\n",
    "sys.path.append('/home/mklein/FDA_project')\n",
    "from src.correction import get_matrices_from_dfs, normalize_proportion_ratios\n",
    "from src import const\n",
    "from src.evaluation import plot_all_ion_slopes\n",
    "\n",
    "%matplotlib inline"
   ]
  },
  {
   "cell_type": "code",
   "execution_count": null,
   "id": "61f6fd35",
   "metadata": {
    "papermill": {
     "duration": 0.018965,
     "end_time": "2022-12-01T13:09:43.716404",
     "exception": false,
     "start_time": "2022-12-01T13:09:43.697439",
     "status": "completed"
    },
    "tags": [
     "parameters"
    ]
   },
   "outputs": [],
   "source": [
    "if platform.system() == \"Darwin\":\n",
    "    target_path = '/Volumes/mklein/FDA_project/data/Lx_Glioblastoma'\n",
    "else:\n",
    "    target_path = '/home/mklein/FDA_project/data/Lx_Glioblastoma'\n",
    "    \n",
    "# this is the column of the annotated data matrix, that discriminates between conditions\n",
    "condition_name = 'dataset_3'"
   ]
  },
  {
   "cell_type": "code",
   "execution_count": null,
   "id": "2662640d",
   "metadata": {
    "papermill": {
     "duration": 0.017762,
     "end_time": "2022-12-01T13:09:43.740604",
     "exception": false,
     "start_time": "2022-12-01T13:09:43.722842",
     "status": "completed"
    },
    "tags": [
     "injected-parameters"
    ]
   },
   "outputs": [],
   "source": [
    "# Parameters\n",
    "source_path = \"/g/alexandr/smenon/2022-07-13_Glioblastoma/processed_files\"\n",
    "target_path = \"/home/mklein/FDA_project/data/Lx_Glioblastoma\"\n",
    "condition_name = \"condition\"\n",
    "notebooks = [\"pipeline_02_processing.ipynb\", \"pipeline_03_evaluation.ipynb\"]\n",
    "well_name = \"rowcol\"\n",
    "deconv_default_min_overlap = 0.3\n",
    "analysis_path = \"/home/mklein/FDA_project/analysis/Lx_Glioblastoma\"\n",
    "project = \"Lx_Glioblastoma\"\n"
   ]
  },
  {
   "cell_type": "code",
   "execution_count": null,
   "id": "7accddec",
   "metadata": {
    "papermill": {
     "duration": 0.018615,
     "end_time": "2022-12-01T13:09:43.766295",
     "exception": false,
     "start_time": "2022-12-01T13:09:43.747680",
     "status": "completed"
    },
    "tags": []
   },
   "outputs": [],
   "source": [
    "samples = [dir.name for dir in os.scandir(target_path) if dir.is_dir() and dir.name[0] != \".\"]\n",
    "\n",
    "files = {\n",
    "        'am_sm_matrix': 'am_spatiomolecular_adata.h5ad',\n",
    "        'corr_am_sm_matrix': 'am_spatiomolecular_adata_corrected.h5ad',\n",
    "        'cell_sm_matrix': 'cells_spatiomolecular_adata_spacem.h5ad',\n",
    "        'gen_cell_sm_matrix': 'cells_spatiomolecular_adata.h5ad',\n",
    "        'corr_cell_sm_matrix': 'cells_spatiomolecular_adata_corrected.h5ad',\n",
    "    }\n"
   ]
  },
  {
   "cell_type": "markdown",
   "id": "f1dd6298",
   "metadata": {
    "papermill": {
     "duration": 0.006664,
     "end_time": "2022-12-01T13:09:43.779026",
     "exception": false,
     "start_time": "2022-12-01T13:09:43.772362",
     "status": "completed"
    },
    "tags": []
   },
   "source": [
    "After loading all individual wells, they are concatenated into one data matrix. Cell identifiers are kept unique by adding a well-specific suffix "
   ]
  },
  {
   "cell_type": "code",
   "execution_count": null,
   "id": "ca72775e",
   "metadata": {
    "papermill": {
     "duration": 15.765424,
     "end_time": "2022-12-01T13:09:59.550947",
     "exception": false,
     "start_time": "2022-12-01T13:09:43.785523",
     "status": "completed"
    },
    "tags": []
   },
   "outputs": [],
   "source": [
    "am_adata_dict = {}\n",
    "am_adata_cor_dict = {}\n",
    "adata_dict = {}\n",
    "gen_adata_dict = {}\n",
    "adata_cor_dict = {}\n",
    "\n",
    "for sample in tqdm(samples):\n",
    "    sample_path = os.path.join(target_path, sample)\n",
    "\n",
    "    project_files = {k: os.path.join(sample_path, v) for k, v in files.items()}\n",
    "\n",
    "    # am_adata_dict[sample] = sc.read(project_files['am_sm_matrix'])\n",
    "    # am_adata_cor_dict[sample] = sc.read(project_files['corr_am_sm_matrix'])\n",
    "    adata_dict[sample] = sc.read(project_files['cell_sm_matrix'])\n",
    "    gen_adata_dict[sample] = sc.read(project_files['gen_cell_sm_matrix'])\n",
    "    adata_cor_dict[sample] = sc.read(project_files['corr_cell_sm_matrix'])\n"
   ]
  },
  {
   "cell_type": "code",
   "execution_count": null,
   "id": "8db226ee",
   "metadata": {
    "papermill": {
     "duration": 0.023815,
     "end_time": "2022-12-01T13:09:59.586755",
     "exception": false,
     "start_time": "2022-12-01T13:09:59.562940",
     "status": "completed"
    },
    "tags": []
   },
   "outputs": [],
   "source": [
    "def split_dataset_info(adata):\n",
    "    split = adata.obs['dataset'].str.split(\"_\", expand=True)\n",
    "    adata.obs[['dataset_' + str(col) for col in split.columns]] = split"
   ]
  },
  {
   "cell_type": "markdown",
   "id": "860d25cd",
   "metadata": {
    "papermill": {
     "duration": 0.009324,
     "end_time": "2022-12-01T13:09:59.606074",
     "exception": false,
     "start_time": "2022-12-01T13:09:59.596750",
     "status": "completed"
    },
    "tags": []
   },
   "source": [
    "The combination of wells is not restricted to concatenation of the corresponding data matrices. Some of the ion-related metadata, like the slopes used in ISM correction, are specific to the individual wells. Thus, they are summarised and mean values saved in the combined data matrices."
   ]
  },
  {
   "cell_type": "code",
   "execution_count": null,
   "id": "b6097156",
   "metadata": {
    "papermill": {
     "duration": 0.03388,
     "end_time": "2022-12-01T13:09:59.648396",
     "exception": false,
     "start_time": "2022-12-01T13:09:59.614516",
     "status": "completed"
    },
    "tags": []
   },
   "outputs": [],
   "source": [
    "def plot_range_slopes(adata_dict):\n",
    "    adata = ad.concat(adata_dict, label='well', index_unique=\"_\", merge=\"first\", join='inner', fill_value=0)\n",
    "    conca_var_df = pd.concat({k: v.var for k, v in adata_dict.items()}).select_dtypes(include=[float])\n",
    "    \n",
    "    dfs = [conca_var_df.reset_index(names = ['well', 'ion']).groupby('ion').mean(numeric_only = True).reset_index().melt(id_vars=['ion'], value_name='mean'),\n",
    "              conca_var_df.reset_index(names = ['well', 'ion']).groupby('ion').min(numeric_only = True).reset_index().melt(id_vars=['ion'], value_name='min'),\n",
    "              conca_var_df.reset_index(names = ['well', 'ion']).groupby('ion').max(numeric_only = True).reset_index().melt(id_vars=['ion'], value_name='max')]\n",
    "\n",
    "    sum_df = pd.merge(functools.reduce(lambda left,right: pd.merge(left, right, how='left', on=['ion', 'variable']), dfs), \n",
    "                      pd.concat({k: v.var for k, v in adata_cor_dict.items()})[['correction_using_ion_pool']].reset_index(names = ['well', 'ion']).groupby('ion').sum(numeric_only = True), \n",
    "                      left_on='ion', right_index=True)\n",
    "\n",
    "    def my_bin(i):\n",
    "        if i == len(adata_dict):\n",
    "            return '4_all by pool'\n",
    "        elif i == 0:\n",
    "            return '0_none by pool'\n",
    "        elif i >0.9*len(adata_dict):\n",
    "            return '3_>90% by pool'\n",
    "        elif i >0.5*len(adata_dict):\n",
    "            return '2_>50% by pool'\n",
    "        else:\n",
    "            return '1_<50% by pool'\n",
    "        \n",
    "    sum_df['corr_pool_bins'] = [my_bin(i) for i in sum_df['correction_using_ion_pool']]\n",
    "    #pd.cut(sum_df['correction_using_ion_pool'], bins=4)#, q=[0, .2, .4, .6, .8, 1], labels=['<20%', '<40%', '<60%', '<80%', '>80%'])\n",
    "    \n",
    "    sum_df = sum_df.sort_values(['correction_using_ion_pool'])\n",
    "    \n",
    "    fig, ax = plt.subplots(figsize=(16, 4))\n",
    "    m = sns.lineplot(sum_df[sum_df.variable == 'correction_quantreg_slope'], x = 'ion', y='mean', hue='corr_pool_bins', ax=ax)\n",
    "    sns.lineplot(sum_df[sum_df.variable == 'correction_quantreg_slope'], x = 'ion', y='min', hue='corr_pool_bins', ax=ax, linewidth=0.4)\n",
    "    sns.lineplot(sum_df[sum_df.variable == 'correction_quantreg_slope'], x = 'ion', y='max', hue='corr_pool_bins', ax=ax, linewidth=0.4)\n",
    "    ax.set_xticks([])\n",
    "    ax.set_ylabel('mean, max and min slope')\n",
    "    handles, labels = ax.get_legend_handles_labels()\n",
    "    ax.legend(handles[:5], labels[:5], title='correction_using_ion_pool')\n",
    "    ax.axhline(0)\n",
    "    ax.axhline(-1)\n",
    "    ax.set_title('Range of ISM correction slopes across wells')\n",
    "    fig.tight_layout()"
   ]
  },
  {
   "cell_type": "code",
   "execution_count": null,
   "id": "36efcc82",
   "metadata": {
    "papermill": {
     "duration": 2.235339,
     "end_time": "2022-12-01T13:10:01.892618",
     "exception": false,
     "start_time": "2022-12-01T13:09:59.657279",
     "status": "completed"
    },
    "tags": []
   },
   "outputs": [],
   "source": [
    "import functools\n",
    "def concat_wells(adata_dict):\n",
    "    adata = ad.concat(adata_dict, label='well', index_unique=\"_\", merge=\"first\", join='inner', fill_value=0)\n",
    "    \n",
    "    conca_var_df = pd.concat({k: v.var for k, v in adata_dict.items()}).select_dtypes(include=[float, bool])\n",
    "    if 'correction_quantreg_slope' in conca_var_df.columns:\n",
    "\n",
    "        mean_var_df = conca_var_df.reset_index(names = ['well', 'ion']).groupby('ion').mean(numeric_only = True)\n",
    "        mean_var_df.columns = ['mean_'+col for col in mean_var_df.columns]\n",
    "        \n",
    "        std_var_df = conca_var_df.reset_index(names = ['well', 'ion']).groupby('ion').std(numeric_only = True)\n",
    "        std_var_df.columns = ['sd_'+col for col in std_var_df.columns]\n",
    "        \n",
    "        count_var_df = conca_var_df.reset_index(names = ['well', 'ion']).groupby('ion').sum(numeric_only = True)\n",
    "        count_var_df.columns = ['sum_'+col for col in count_var_df.columns]\n",
    "        \n",
    "        dfs = [adata.var, \n",
    "            mean_var_df[['mean_correction_full_pixel_avg_intensities', 'mean_correction_quantreg_slope', 'mean_correction_quantreg_intersect']], \n",
    "            std_var_df[['sd_correction_full_pixel_avg_intensities', 'sd_correction_quantreg_slope', 'sd_correction_quantreg_intersect']],\n",
    "            count_var_df[['sum_correction_using_ion_pool']] ]\n",
    "        \n",
    "        adata.var = functools.reduce(lambda left,right: pd.merge(left, right, how='left', left_index=True, right_index=True), dfs)\n",
    "        adata.var['corrected_only_using_pool'] = adata.var['sum_correction_using_ion_pool'] == len(adata_dict)\n",
    "        \n",
    "    #sc.tl.pca(adata)\n",
    "    #sc.external.pp.bbknn(adata, batch_key='well')\n",
    "    split_dataset_info(adata)\n",
    "    return adata\n",
    "\n",
    "# am_adata = concat_wells(am_adata_dict)\n",
    "# am_adata_cor = concat_wells(am_adata_cor_dict)\n",
    "adata = concat_wells(adata_dict)\n",
    "gen_adata = concat_wells(gen_adata_dict)\n",
    "adata_cor = concat_wells(adata_cor_dict)"
   ]
  },
  {
   "cell_type": "markdown",
   "id": "4e9f9c8f",
   "metadata": {
    "papermill": {
     "duration": 0.010247,
     "end_time": "2022-12-01T13:10:01.923406",
     "exception": false,
     "start_time": "2022-12-01T13:10:01.913159",
     "status": "completed"
    },
    "tags": []
   },
   "source": [
    "Especially for the underlying slopes of the ISM correction, taking the mean removes a lot of information. In reality, the different wells exhibit a large variety of slopes, which is visualized in the following figure. All ions are shown by increasing fraction of pool-corrected wells. Clearly, the lower this fraction, the more variable the distribution."
   ]
  },
  {
   "cell_type": "code",
   "execution_count": null,
   "id": "861c9f94",
   "metadata": {
    "papermill": {
     "duration": 4.449519,
     "end_time": "2022-12-01T13:10:06.381992",
     "exception": false,
     "start_time": "2022-12-01T13:10:01.932473",
     "status": "completed"
    },
    "tags": []
   },
   "outputs": [],
   "source": [
    "plot_range_slopes(adata_cor_dict)"
   ]
  },
  {
   "cell_type": "markdown",
   "id": "78068bfd",
   "metadata": {
    "papermill": {
     "duration": 0.01604,
     "end_time": "2022-12-01T13:10:06.417295",
     "exception": false,
     "start_time": "2022-12-01T13:10:06.401255",
     "status": "completed"
    },
    "tags": []
   },
   "source": [
    "The concatenated annotated data matrices are individually saved to file."
   ]
  },
  {
   "cell_type": "code",
   "execution_count": null,
   "id": "e37ad34d",
   "metadata": {
    "papermill": {
     "duration": 2.647232,
     "end_time": "2022-12-01T13:10:09.079509",
     "exception": false,
     "start_time": "2022-12-01T13:10:06.432277",
     "status": "completed"
    },
    "tags": []
   },
   "outputs": [],
   "source": [
    "adata.write(os.path.join(target_path, \"batch_sm_matrix.h5ad\"))\n",
    "gen_adata.write(os.path.join(target_path, \"gen_batch_sm_matrix.h5ad\"))\n",
    "adata_cor.write(os.path.join(target_path, \"corrected_batch_sm_matrix.h5ad\"))"
   ]
  },
  {
   "cell_type": "markdown",
   "id": "e9ac9a75",
   "metadata": {
    "papermill": {
     "duration": 0.022325,
     "end_time": "2022-12-01T13:10:09.312962",
     "exception": false,
     "start_time": "2022-12-01T13:10:09.290637",
     "status": "completed"
    },
    "tags": []
   },
   "source": [
    "In order to ensure that especially the pixel-cell deconvolution was successful across samples, the summed absolute deviations between different annotated datasets are visualized in the following plot. On one hand, the uncorected but manually deconvoluted (generated) dataset is compared to the dataset directly output by SpaceM. If the same parameters were used for deconvolution, these dataset should not exhibit any differences. On the other hand, the corrected dataset is compared to the generated dataset. These dataset should exhibit differences on a comparable level across samples. If one of the samples shows much greater differences than the others, there might be a sample-specific problem with the parameters used for deconvolution."
   ]
  },
  {
   "cell_type": "code",
   "execution_count": null,
   "id": "af6f9cbb",
   "metadata": {
    "papermill": {
     "duration": 3.274869,
     "end_time": "2022-12-01T13:10:12.607477",
     "exception": false,
     "start_time": "2022-12-01T13:10:09.332608",
     "status": "completed"
    },
    "tags": []
   },
   "outputs": [],
   "source": [
    "def plot_deviations(adata1, adata2, label=\"\"):\n",
    "    df = np.abs(adata1.to_df() - adata2.to_df()).sum(axis=1)\n",
    "    df = df / (adata1.to_df().shape[0] * adata1.to_df().shape[1])\n",
    "    df = df.reset_index()\n",
    "    df['well'] = df['cell_id'].str.replace('[0-9]+_', '')\n",
    "    df.columns = ['cell_id', 'summed deviation', 'well']\n",
    "    sns.lineplot(df, x='well', y=\"summed deviation\", label=label).set(title = 'Summed absolute deviations across wells')\n",
    "    \n",
    "plot_deviations(adata, gen_adata, 'gen. data vs. spacem')\n",
    "plot_deviations(gen_adata, adata_cor, 'corr. data vs. gen. data')"
   ]
  }
 ],
 "metadata": {
  "kernelspec": {
   "display_name": "Python 3 (ipykernel)",
   "language": "python",
   "name": "python3"
  },
  "language_info": {
   "codemirror_mode": {
    "name": "ipython",
    "version": 3
   },
   "file_extension": ".py",
   "mimetype": "text/x-python",
   "name": "python",
   "nbconvert_exporter": "python",
   "pygments_lexer": "ipython3",
   "version": "3.10.6"
  },
  "papermill": {
   "default_parameters": {},
   "duration": 37.281936,
   "end_time": "2022-12-01T13:10:14.268502",
   "environment_variables": {},
   "exception": null,
   "input_path": "/home/mklein/FDA_project/pipeline_02_processing.ipynb",
   "output_path": "/home/mklein/FDA_project/analysis/Lx_Glioblastoma/pipeline_02_processing.ipynb",
   "parameters": {
    "analysis_path": "/home/mklein/FDA_project/analysis/Lx_Glioblastoma",
    "condition_name": "condition",
    "deconv_default_min_overlap": 0.3,
    "notebooks": [
     "pipeline_02_processing.ipynb",
     "pipeline_03_evaluation.ipynb"
    ],
    "project": "Lx_Glioblastoma",
    "source_path": "/g/alexandr/smenon/2022-07-13_Glioblastoma/processed_files",
    "target_path": "/home/mklein/FDA_project/data/Lx_Glioblastoma",
    "well_name": "rowcol"
   },
   "start_time": "2022-12-01T13:09:36.986566",
   "version": "2.3.4"
  },
  "vscode": {
   "interpreter": {
    "hash": "89b4449ee30f46b148fb6825d70934bcbb1ebdb6d5b2015fe3835362773c7289"
   }
  }
 },
 "nbformat": 4,
 "nbformat_minor": 5
}
