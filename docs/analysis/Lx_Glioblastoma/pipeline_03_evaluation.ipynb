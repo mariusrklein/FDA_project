{
 "cells": [
  {
   "cell_type": "markdown",
   "id": "d37149d3",
   "metadata": {
    "papermill": {
     "duration": 0.014817,
     "end_time": "2023-01-12T19:05:30.355071",
     "exception": false,
     "start_time": "2023-01-12T19:05:30.340254",
     "status": "completed"
    },
    "tags": []
   },
   "source": [
    "# Lx_Glioblastoma: Evaluation\n",
    "\n",
    "In this notebook, different measures are investigated to quantify the effect of correcting SpaceM ion intensity data for partial pixel-cell overlap.\n",
    "Moreover, The effects of the correction on different metabolites is visualized.\n",
    " "
   ]
  },
  {
   "cell_type": "code",
   "execution_count": null,
   "id": "f382d294",
   "metadata": {
    "execution": {
     "iopub.execute_input": "2023-01-12T19:05:30.384521Z",
     "iopub.status.busy": "2023-01-12T19:05:30.384179Z",
     "iopub.status.idle": "2023-01-12T19:05:37.804090Z",
     "shell.execute_reply": "2023-01-12T19:05:37.803084Z"
    },
    "papermill": {
     "duration": 7.437291,
     "end_time": "2023-01-12T19:05:37.806485",
     "exception": false,
     "start_time": "2023-01-12T19:05:30.369194",
     "status": "completed"
    },
    "tags": []
   },
   "outputs": [],
   "source": [
    "import platform\n",
    "import os\n",
    "import multiprocessing\n",
    "import numpy as np\n",
    "import pandas as pd\n",
    "import anndata as ad\n",
    "import scanpy as sc\n",
    "import seaborn as sns\n",
    "from sklearn.cluster import KMeans\n",
    "import re\n",
    "import outer_spacem as osm\n",
    "import sys\n",
    "sys.path.append('/home/mklein/spacem')\n",
    "sys.path.append('/Volumes/mklein/spacem')\n",
    "sys.path.append('/home/mklein/FDA_project')\n",
    "sys.path.append('/Volumes/mklein/FDA_project')\n",
    "from src.correction import *\n",
    "from src.evaluation import intermixing, MetaboliteAnalysis\n",
    "\n",
    "%matplotlib inline"
   ]
  },
  {
   "cell_type": "code",
   "execution_count": null,
   "id": "fb5b3d7c",
   "metadata": {
    "execution": {
     "iopub.execute_input": "2023-01-12T19:05:37.839155Z",
     "iopub.status.busy": "2023-01-12T19:05:37.838306Z",
     "iopub.status.idle": "2023-01-12T19:05:37.843845Z",
     "shell.execute_reply": "2023-01-12T19:05:37.842905Z"
    },
    "papermill": {
     "duration": 0.023043,
     "end_time": "2023-01-12T19:05:37.846137",
     "exception": false,
     "start_time": "2023-01-12T19:05:37.823094",
     "status": "completed"
    },
    "tags": [
     "injected-parameters"
    ]
   },
   "outputs": [],
   "source": [
    "# Parameters\n",
    "source_path = \"/g/alexandr/smenon/2022-07-13_Glioblastoma/processed_files\"\n",
    "target_path = \"/home/mklein/FDA_project/data/Lx_Glioblastoma\"\n",
    "condition_name = \"condition\"\n",
    "well_name = \"rowcol\"\n",
    "deconv_default_min_overlap = 0.3\n",
    "analysis_path = \"/home/mklein/FDA_project/analysis/Lx_Glioblastoma\"\n",
    "project = \"Lx_Glioblastoma\"\n"
   ]
  },
  {
   "cell_type": "markdown",
   "id": "2daeb48c",
   "metadata": {
    "papermill": {
     "duration": 0.014492,
     "end_time": "2023-01-12T19:05:37.875813",
     "exception": false,
     "start_time": "2023-01-12T19:05:37.861321",
     "status": "completed"
    },
    "tags": []
   },
   "source": [
    "Loading the uncorrected and ISM-corrected dataset from file. Additionally, loading the metadata CSV file to filter out excluded wells."
   ]
  },
  {
   "cell_type": "code",
   "execution_count": null,
   "id": "b1c0fdf4",
   "metadata": {
    "execution": {
     "iopub.execute_input": "2023-01-12T19:05:37.905764Z",
     "iopub.status.busy": "2023-01-12T19:05:37.904826Z",
     "iopub.status.idle": "2023-01-12T19:05:39.731990Z",
     "shell.execute_reply": "2023-01-12T19:05:39.731010Z"
    },
    "papermill": {
     "duration": 1.844903,
     "end_time": "2023-01-12T19:05:39.734552",
     "exception": false,
     "start_time": "2023-01-12T19:05:37.889649",
     "status": "completed"
    },
    "tags": []
   },
   "outputs": [],
   "source": [
    "adata = ad.read(os.path.join(target_path, \"gen_batch_sm_matrix.h5ad\"))\n",
    "adata_cor = ad.read(os.path.join(target_path, \"corrected_batch_sm_matrix.h5ad\"))"
   ]
  },
  {
   "cell_type": "code",
   "execution_count": null,
   "id": "5ca1d896",
   "metadata": {
    "execution": {
     "iopub.execute_input": "2023-01-12T19:05:39.765418Z",
     "iopub.status.busy": "2023-01-12T19:05:39.764856Z",
     "iopub.status.idle": "2023-01-12T19:05:39.968115Z",
     "shell.execute_reply": "2023-01-12T19:05:39.967207Z"
    },
    "papermill": {
     "duration": 0.221491,
     "end_time": "2023-01-12T19:05:39.970589",
     "exception": false,
     "start_time": "2023-01-12T19:05:39.749098",
     "status": "completed"
    },
    "tags": []
   },
   "outputs": [],
   "source": [
    "metadata_path = os.path.join(target_path, 'metadata.csv')\n",
    "samples = list(set(adata.obs['well']))\n",
    "\n",
    "if os.path.exists(metadata_path):\n",
    "    metadata = pd.read_csv(metadata_path)\n",
    "    if well_name not in metadata.columns:\n",
    "        metadata[well_name] = metadata['row'].astype(str) + metadata['col'].astype(str)\n",
    "    samples = list(metadata[well_name])\n",
    "\n",
    "def assign_conditions(adata):\n",
    "    index = adata.obs.index.name\n",
    "    new_obs = adata.obs.reset_index()\n",
    "    \n",
    "    new_obs = pd.merge(new_obs, metadata[[well_name, condition_name]], \n",
    "                       how='inner', left_on='well', right_on=well_name).set_index(index)\n",
    "    \n",
    "    adata = adata[new_obs.index, :].copy()\n",
    "    adata.obs = new_obs\n",
    "    if 'keep_conditions' in globals():\n",
    "        adata = adata[adata.obs[condition_name].isin(keep_conditions), :].copy()\n",
    "    return adata\n",
    "\n",
    "adata = assign_conditions(adata)\n",
    "adata_cor = assign_conditions(adata_cor)"
   ]
  },
  {
   "cell_type": "code",
   "execution_count": null,
   "id": "45f5c76a-64df-4142-a6a2-ed630f5e3d5d",
   "metadata": {
    "execution": {
     "iopub.execute_input": "2023-01-12T19:05:40.002069Z",
     "iopub.status.busy": "2023-01-12T19:05:40.001603Z",
     "iopub.status.idle": "2023-01-12T19:05:40.071730Z",
     "shell.execute_reply": "2023-01-12T19:05:40.070719Z"
    },
    "papermill": {
     "duration": 0.087859,
     "end_time": "2023-01-12T19:05:40.073802",
     "exception": false,
     "start_time": "2023-01-12T19:05:39.985943",
     "status": "completed"
    },
    "tags": []
   },
   "outputs": [],
   "source": [
    "pd.crosstab(adata.obs['well'], adata.obs[condition_name], margins=True)"
   ]
  },
  {
   "cell_type": "code",
   "execution_count": null,
   "id": "e7472baa-0ea9-42bf-a03c-23157f9b2565",
   "metadata": {
    "execution": {
     "iopub.execute_input": "2023-01-12T19:05:40.105444Z",
     "iopub.status.busy": "2023-01-12T19:05:40.104440Z",
     "iopub.status.idle": "2023-01-12T19:05:40.462111Z",
     "shell.execute_reply": "2023-01-12T19:05:40.460869Z"
    },
    "papermill": {
     "duration": 0.375557,
     "end_time": "2023-01-12T19:05:40.464279",
     "exception": false,
     "start_time": "2023-01-12T19:05:40.088722",
     "status": "completed"
    },
    "tags": []
   },
   "outputs": [],
   "source": [
    "included_molecules = adata.var_names.intersection(adata_cor.var_names)\n",
    "included_cells = adata.obs_names.intersection(adata_cor.obs_names)\n",
    "\n",
    "def subset_molecules(adata):\n",
    "    \n",
    "    return adata[included_cells, included_molecules].copy()\n",
    "\n",
    "adata = subset_molecules(adata)\n",
    "adata_cor = subset_molecules(adata_cor)\n",
    "\n",
    "print(adata.shape)\n",
    "print(adata_cor.shape)"
   ]
  },
  {
   "cell_type": "markdown",
   "id": "92d96c1c-5a08-4a40-b254-2f908704c07f",
   "metadata": {
    "papermill": {
     "duration": 0.014518,
     "end_time": "2023-01-12T19:05:40.494272",
     "exception": false,
     "start_time": "2023-01-12T19:05:40.479754",
     "status": "completed"
    },
    "tags": []
   },
   "source": [
    "First of all, the loaded datasets are filtered:\n",
    "\n",
    "- cells need non-zero intensities for at least 10 ions.\n",
    "- ions need non-zero intensities for at least 200 cells.\n",
    "\n",
    "After that, the sets are preprocessed in different ways:\n",
    "\n",
    "- intensties are normalized to TIC and/or log-transformed (log(x+1))\n",
    "\n",
    "After that, both datasets are subset to contain the same ions and cells (intersection)."
   ]
  },
  {
   "cell_type": "code",
   "execution_count": null,
   "id": "bc387599",
   "metadata": {
    "execution": {
     "iopub.execute_input": "2023-01-12T19:05:40.525706Z",
     "iopub.status.busy": "2023-01-12T19:05:40.524588Z",
     "iopub.status.idle": "2023-01-12T19:05:42.868175Z",
     "shell.execute_reply": "2023-01-12T19:05:42.867094Z"
    },
    "papermill": {
     "duration": 2.36167,
     "end_time": "2023-01-12T19:05:42.870479",
     "exception": false,
     "start_time": "2023-01-12T19:05:40.508809",
     "status": "completed"
    },
    "tags": []
   },
   "outputs": [],
   "source": [
    "def preprocess(adata):\n",
    "    \n",
    "    sc.pp.filter_cells(adata, min_genes=10)\n",
    "    sc.pp.filter_genes(adata, min_cells=200)\n",
    "    adata.raw = adata\n",
    "    adata.layers[\"raw_counts\"] = adata.X.copy()\n",
    "    # sc.pp.scale(adata)\n",
    "    adata.layers[\"norm_counts\"] = sc.pp.normalize_total(adata, layer='raw_counts', target_sum=None, inplace=False)['X']\n",
    "    adata.layers[\"1e4_norm_counts\"] = sc.pp.normalize_total(adata, layer='raw_counts', target_sum=1e4, inplace=False)['X']\n",
    "    \n",
    "    adata.layers[\"log_raw_counts\"] = sc.pp.log1p(adata.layers[\"raw_counts\"], copy=True)\n",
    "    adata.layers[\"log_norm_counts\"] = sc.pp.log1p(adata.layers[\"norm_counts\"], copy=True)\n",
    "    adata.layers[\"1e4_log_norm_counts\"] = sc.pp.log1p(adata.layers[\"1e4_norm_counts\"], copy=True)\n",
    "    adata.X = adata.layers[\"log_norm_counts\"]\n",
    "    \n",
    "    adata.var['median_intensity'] = np.median(adata.X, axis=0)\n",
    "    adata.var['mean_intensity'] = np.mean(adata.X, axis=0)\n",
    "    # adata_x = adata.X.copy()\n",
    "    # adata_x[adata_x == 0] = np.nan\n",
    "    # adata.var['median_intensity_nonzero'] = np.nanmedian(adata_x, axis=0)\n",
    "    \n",
    "    \n",
    "preprocess(adata)\n",
    "preprocess(adata_cor)\n",
    "\n",
    "print(adata.shape)\n",
    "print(adata_cor.shape)\n"
   ]
  },
  {
   "cell_type": "code",
   "execution_count": null,
   "id": "4f547432-c8b3-46fd-a2b9-0fc596e15542",
   "metadata": {
    "execution": {
     "iopub.execute_input": "2023-01-12T19:05:42.904159Z",
     "iopub.status.busy": "2023-01-12T19:05:42.903796Z",
     "iopub.status.idle": "2023-01-12T19:05:42.912773Z",
     "shell.execute_reply": "2023-01-12T19:05:42.911580Z"
    },
    "papermill": {
     "duration": 0.028707,
     "end_time": "2023-01-12T19:05:42.915203",
     "exception": false,
     "start_time": "2023-01-12T19:05:42.886496",
     "status": "completed"
    },
    "tags": []
   },
   "outputs": [],
   "source": [
    "def dimred_umap(adata, layer=None, min_dist=0.5):\n",
    "    if layer is not None:\n",
    "        adata.layers['default_X'] = adata.X\n",
    "        adata.X = adata.layers[layer]\n",
    "    \n",
    "    sc.pp.pca(adata)\n",
    "    sc.pp.neighbors(adata, n_neighbors=50, metric='cosine')\n",
    "    sc.tl.umap(adata, min_dist=min_dist, spread=1.0, random_state=1, n_components=2)\n",
    "    #sc.pl.umap(adata, color=['well', condition_name], palette='cividis')\n",
    "    f = osm.pl.highlight_scatterplot(\n",
    "        data = adata,\n",
    "        obsm_key = \"X_umap\",\n",
    "        hue = condition_name,\n",
    "        col = condition_name,\n",
    "        palette = \"cividis\",\n",
    "        trim_axes=True,\n",
    "        height = 5,\n",
    "        scatter_kwargs = dict(s=5)\n",
    "    )\n",
    "\n",
    "    f.add_legend(markerscale=3)\n",
    "    \n",
    "    if layer is not None:\n",
    "        adata.X = adata.layers['default_X']"
   ]
  },
  {
   "cell_type": "code",
   "execution_count": null,
   "id": "09136aca-16d7-4304-bb27-0222bb4ff191",
   "metadata": {
    "execution": {
     "iopub.execute_input": "2023-01-12T19:05:42.948026Z",
     "iopub.status.busy": "2023-01-12T19:05:42.947380Z",
     "iopub.status.idle": "2023-01-12T19:05:42.955115Z",
     "shell.execute_reply": "2023-01-12T19:05:42.954211Z"
    },
    "papermill": {
     "duration": 0.025903,
     "end_time": "2023-01-12T19:05:42.957285",
     "exception": false,
     "start_time": "2023-01-12T19:05:42.931382",
     "status": "completed"
    },
    "tags": []
   },
   "outputs": [],
   "source": [
    "def intermixing_layer(adata, adata_cor, condition_name, measures = ['X_pca', 'X_umap'], layer=None):\n",
    "    if layer is not None:\n",
    "        adata.layers['default_X'] = adata.X\n",
    "        adata.X = adata.layers[layer]\n",
    "        adata_cor.layers['default_X'] = adata_cor.X\n",
    "        adata_cor.X = adata_cor.layers[layer]\n",
    "    \n",
    "    summaries = intermixing({'uncorrected': adata, 'ISM correction': adata_cor}, condition_name = condition_name, measures = measures)\n",
    "    \n",
    "    if layer is not None:\n",
    "        adata.X = adata.layers['default_X']\n",
    "        adata_cor.X = adata_cor.layers['default_X']\n",
    "    \n",
    "    return\n",
    "    "
   ]
  },
  {
   "cell_type": "markdown",
   "id": "f29e19fc-3c20-4a32-8a6c-e2e9ff03ee4f",
   "metadata": {
    "papermill": {
     "duration": 0.014647,
     "end_time": "2023-01-12T19:05:42.986845",
     "exception": false,
     "start_time": "2023-01-12T19:05:42.972198",
     "status": "completed"
    },
    "tags": []
   },
   "source": [
    "The different options for scaling and transforming the data are shown in the following:\n",
    "\n",
    "1. raw values\n",
    "2. log transformation\n",
    "3. TIC normalization\n",
    "4. TIC normalization and log transformation\n",
    "5. normalization to a fixed count (10^4)\n",
    "6. normalization to a fixed count (10^4) and log transformation\n",
    "\n",
    "The normalization to a fixed count has a slightly different effect than TIC normalization. The former normalizes all counts per cell to the given target sum so that all cells from the uncorrected and the corrected set are scaled to this count. In contrast, the latter retains the differences between the datasets by normalizing to the median count across cells in a dataset. Across modes of normalization, the corrected dataset shows a better separation visually and using the intermixing metric. However, this effect is very subtle after the data was log-transformed."
   ]
  },
  {
   "cell_type": "code",
   "execution_count": null,
   "id": "11cab416-3f63-48d1-b450-60ff01ce6408",
   "metadata": {
    "execution": {
     "iopub.execute_input": "2023-01-12T19:05:43.018411Z",
     "iopub.status.busy": "2023-01-12T19:05:43.017824Z",
     "iopub.status.idle": "2023-01-12T19:05:43.022929Z",
     "shell.execute_reply": "2023-01-12T19:05:43.021761Z"
    },
    "papermill": {
     "duration": 0.023541,
     "end_time": "2023-01-12T19:05:43.025344",
     "exception": false,
     "start_time": "2023-01-12T19:05:43.001803",
     "status": "completed"
    },
    "tags": []
   },
   "outputs": [],
   "source": [
    "# dimred_umap(adata, layer='raw_counts')\n",
    "# dimred_umap(adata_cor, layer='raw_counts')\n",
    "# intermixing_layer(adata, adata_cor, condition_name, measures = ['X_pca', 'X_umap'], layer='raw_counts')"
   ]
  },
  {
   "cell_type": "code",
   "execution_count": null,
   "id": "84360321-5121-4fe9-85de-caf779fd7da6",
   "metadata": {
    "execution": {
     "iopub.execute_input": "2023-01-12T19:05:43.060259Z",
     "iopub.status.busy": "2023-01-12T19:05:43.058945Z",
     "iopub.status.idle": "2023-01-12T19:05:43.064139Z",
     "shell.execute_reply": "2023-01-12T19:05:43.063182Z"
    },
    "papermill": {
     "duration": 0.025566,
     "end_time": "2023-01-12T19:05:43.066378",
     "exception": false,
     "start_time": "2023-01-12T19:05:43.040812",
     "status": "completed"
    },
    "tags": []
   },
   "outputs": [],
   "source": [
    "# dimred_umap(adata, layer='log_raw_counts')\n",
    "# dimred_umap(adata_cor, layer='log_raw_counts')\n",
    "# intermixing_layer(adata, adata_cor, condition_name, measures = ['X_pca', 'X_umap'], layer='log_raw_counts')"
   ]
  },
  {
   "cell_type": "code",
   "execution_count": null,
   "id": "922fd925-04d7-4b04-baf9-2680713b3656",
   "metadata": {
    "execution": {
     "iopub.execute_input": "2023-01-12T19:05:43.097276Z",
     "iopub.status.busy": "2023-01-12T19:05:43.096669Z",
     "iopub.status.idle": "2023-01-12T19:05:43.100976Z",
     "shell.execute_reply": "2023-01-12T19:05:43.100007Z"
    },
    "papermill": {
     "duration": 0.021973,
     "end_time": "2023-01-12T19:05:43.103160",
     "exception": false,
     "start_time": "2023-01-12T19:05:43.081187",
     "status": "completed"
    },
    "tags": []
   },
   "outputs": [],
   "source": [
    "# dimred_umap(adata, layer='norm_counts')\n",
    "# dimred_umap(adata_cor, layer='norm_counts')\n",
    "# intermixing_layer(adata, adata_cor, condition_name, measures = ['X_pca', 'X_umap'], layer='norm_counts')"
   ]
  },
  {
   "cell_type": "code",
   "execution_count": null,
   "id": "1195eae7-27f8-486f-a8c5-41cb41c6395e",
   "metadata": {
    "execution": {
     "iopub.execute_input": "2023-01-12T19:05:43.134939Z",
     "iopub.status.busy": "2023-01-12T19:05:43.134219Z",
     "iopub.status.idle": "2023-01-12T19:05:43.138446Z",
     "shell.execute_reply": "2023-01-12T19:05:43.137537Z"
    },
    "papermill": {
     "duration": 0.022644,
     "end_time": "2023-01-12T19:05:43.140762",
     "exception": false,
     "start_time": "2023-01-12T19:05:43.118118",
     "status": "completed"
    },
    "tags": []
   },
   "outputs": [],
   "source": [
    "# dimred_umap(adata, layer='log_norm_counts')\n",
    "# dimred_umap(adata_cor, layer='log_norm_counts')\n",
    "# intermixing_layer(adata, adata_cor, condition_name, measures = ['X_pca', 'X_umap'], layer='log_norm_counts')"
   ]
  },
  {
   "cell_type": "code",
   "execution_count": null,
   "id": "9b037880-fc82-47f4-a577-1f3457c3a8d5",
   "metadata": {
    "execution": {
     "iopub.execute_input": "2023-01-12T19:05:43.171523Z",
     "iopub.status.busy": "2023-01-12T19:05:43.170940Z",
     "iopub.status.idle": "2023-01-12T19:14:34.076117Z",
     "shell.execute_reply": "2023-01-12T19:14:34.074857Z"
    },
    "papermill": {
     "duration": 530.922747,
     "end_time": "2023-01-12T19:14:34.078355",
     "exception": false,
     "start_time": "2023-01-12T19:05:43.155608",
     "status": "completed"
    },
    "tags": []
   },
   "outputs": [],
   "source": [
    "dimred_umap(adata, layer='1e4_norm_counts')\n",
    "dimred_umap(adata_cor, layer='1e4_norm_counts')\n",
    "intermixing_layer(adata, adata_cor, condition_name, measures = ['X_pca', 'X_umap'], layer='1e4_norm_counts')"
   ]
  },
  {
   "cell_type": "code",
   "execution_count": null,
   "id": "c7512900-cb76-4690-9dd8-c23c20904766",
   "metadata": {
    "execution": {
     "iopub.execute_input": "2023-01-12T19:14:34.170910Z",
     "iopub.status.busy": "2023-01-12T19:14:34.169802Z",
     "iopub.status.idle": "2023-01-12T19:20:54.877892Z",
     "shell.execute_reply": "2023-01-12T19:20:54.876925Z"
    },
    "papermill": {
     "duration": 380.755796,
     "end_time": "2023-01-12T19:20:54.880119",
     "exception": false,
     "start_time": "2023-01-12T19:14:34.124323",
     "status": "completed"
    },
    "tags": []
   },
   "outputs": [],
   "source": [
    "dimred_umap(adata, layer='1e4_log_norm_counts')\n",
    "dimred_umap(adata_cor, layer='1e4_log_norm_counts')\n",
    "intermixing_layer(adata, adata_cor, condition_name, measures = ['X_pca', 'X_umap'], layer='1e4_log_norm_counts')"
   ]
  },
  {
   "cell_type": "markdown",
   "id": "52394704",
   "metadata": {
    "papermill": {
     "duration": 0.067889,
     "end_time": "2023-01-12T19:20:55.020423",
     "exception": false,
     "start_time": "2023-01-12T19:20:54.952534",
     "status": "completed"
    },
    "tags": []
   },
   "source": [
    "Before analysis, asserting that the two data files were deconvoluted in the same way. Specifically, the corrected dataframe cannot have non-zero values at positions where the uncorrected dataframe has zero values."
   ]
  },
  {
   "cell_type": "code",
   "execution_count": null,
   "id": "791b3a13",
   "metadata": {
    "execution": {
     "iopub.execute_input": "2023-01-12T19:20:55.159100Z",
     "iopub.status.busy": "2023-01-12T19:20:55.158186Z",
     "iopub.status.idle": "2023-01-12T19:20:56.171349Z",
     "shell.execute_reply": "2023-01-12T19:20:56.170368Z"
    },
    "papermill": {
     "duration": 1.084655,
     "end_time": "2023-01-12T19:20:56.173817",
     "exception": false,
     "start_time": "2023-01-12T19:20:55.089162",
     "status": "completed"
    },
    "tags": []
   },
   "outputs": [],
   "source": [
    "assert not any(pd.Series(np.array((adata.to_df() == 0) & (adata_cor.to_df()!= 0)).flatten()))"
   ]
  },
  {
   "cell_type": "code",
   "execution_count": null,
   "id": "0dcf4fc2",
   "metadata": {
    "execution": {
     "iopub.execute_input": "2023-01-12T19:20:56.313718Z",
     "iopub.status.busy": "2023-01-12T19:20:56.313141Z",
     "iopub.status.idle": "2023-01-12T19:20:56.319705Z",
     "shell.execute_reply": "2023-01-12T19:20:56.318785Z"
    },
    "papermill": {
     "duration": 0.078375,
     "end_time": "2023-01-12T19:20:56.322269",
     "exception": false,
     "start_time": "2023-01-12T19:20:56.243894",
     "status": "completed"
    },
    "tags": []
   },
   "outputs": [],
   "source": [
    "adata.obs['correction'] = 'uncorrected'\n",
    "adata_cor.obs['correction'] = 'ISM correction'"
   ]
  },
  {
   "cell_type": "markdown",
   "id": "430f23f9",
   "metadata": {
    "papermill": {
     "duration": 0.067038,
     "end_time": "2023-01-12T19:20:56.458015",
     "exception": false,
     "start_time": "2023-01-12T19:20:56.390977",
     "status": "completed"
    },
    "tags": []
   },
   "source": [
    "## Effects of the correction on different molecules\n",
    "\n",
    "The ISM correction is performed per ion on the logarithmized intensity / sampling proportion ratio. The underlying quantile regression can only be computed with a minimum number of datapoints. If an ion has less than 10 datapoints, the quantile regression is instead computed based on a reference pool of ions.\n",
    "In the following, the resulting slopes by which all ions have been corrected are visualized. Ions that were corrected using the reference pool are shown separately.\n",
    "\n",
    "**For simplicity, not all modes of preprocessing are investigated in theis step. Only the non-transformed raw counts and the TIC-normalized and log-transformed counts are included here.**\n"
   ]
  },
  {
   "cell_type": "code",
   "execution_count": null,
   "id": "bb20be59",
   "metadata": {
    "execution": {
     "iopub.execute_input": "2023-01-12T19:20:56.594827Z",
     "iopub.status.busy": "2023-01-12T19:20:56.594382Z",
     "iopub.status.idle": "2023-01-12T19:20:57.335763Z",
     "shell.execute_reply": "2023-01-12T19:20:57.334782Z"
    },
    "papermill": {
     "duration": 0.812537,
     "end_time": "2023-01-12T19:20:57.338108",
     "exception": false,
     "start_time": "2023-01-12T19:20:56.525571",
     "status": "completed"
    },
    "tags": []
   },
   "outputs": [],
   "source": [
    "grid = sns.FacetGrid(adata_cor.var[['mean_correction_quantreg_slope', 'corrected_only_using_pool']], col='corrected_only_using_pool', hue='corrected_only_using_pool', sharey=False)\n",
    "grid.map(sns.histplot, 'mean_correction_quantreg_slope', bins=30)\n",
    "cor_pool = list(adata_cor.var[adata_cor.var['corrected_only_using_pool'] == True].index)\n",
    "adata_cor.var['corrected_only_using_pool'].value_counts()"
   ]
  },
  {
   "cell_type": "markdown",
   "id": "8a25b9ae",
   "metadata": {
    "papermill": {
     "duration": 0.068487,
     "end_time": "2023-01-12T19:20:57.477975",
     "exception": false,
     "start_time": "2023-01-12T19:20:57.409488",
     "status": "completed"
    },
    "tags": []
   },
   "source": [
    "Based on the slopes of the correction but also the logfoldchanges between corrected and uncorrected cells, one can infer the extent of alteration of different metabolites in the correction. These measures not necessarily correlate, thus the degree of correction of ions has to be evaluated on individual datasets."
   ]
  },
  {
   "cell_type": "code",
   "execution_count": null,
   "id": "5a947dff",
   "metadata": {
    "execution": {
     "iopub.execute_input": "2023-01-12T19:20:57.616485Z",
     "iopub.status.busy": "2023-01-12T19:20:57.616018Z",
     "iopub.status.idle": "2023-01-12T19:20:57.623800Z",
     "shell.execute_reply": "2023-01-12T19:20:57.622918Z"
    },
    "papermill": {
     "duration": 0.079474,
     "end_time": "2023-01-12T19:20:57.626020",
     "exception": false,
     "start_time": "2023-01-12T19:20:57.546546",
     "status": "completed"
    },
    "tags": []
   },
   "outputs": [],
   "source": [
    "import src.evaluation\n",
    "from importlib import reload\n",
    "reload(src.evaluation)\n",
    "from src.evaluation import MetaboliteAnalysis"
   ]
  },
  {
   "cell_type": "code",
   "execution_count": null,
   "id": "fcf1f2b0",
   "metadata": {
    "execution": {
     "iopub.execute_input": "2023-01-12T19:20:57.764525Z",
     "iopub.status.busy": "2023-01-12T19:20:57.764089Z",
     "iopub.status.idle": "2023-01-12T19:21:33.126964Z",
     "shell.execute_reply": "2023-01-12T19:21:33.125868Z"
    },
    "papermill": {
     "duration": 35.434796,
     "end_time": "2023-01-12T19:21:33.129609",
     "exception": false,
     "start_time": "2023-01-12T19:20:57.694813",
     "status": "completed"
    },
    "tags": []
   },
   "outputs": [],
   "source": [
    "ma_raw = MetaboliteAnalysis(adata=adata, adata_cor=adata_cor, condition_name = condition_name, \n",
    "                        obs_columns = ['list_TPO'],\n",
    "                        var_columns = ['corrected_only_using_pool', 'mean_correction_quantreg_slope', \n",
    "                                       'n_cells','median_intensity', 'mean_intensity', 'sum_correction_using_ion_pool'],\n",
    "                       use_raw = True)"
   ]
  },
  {
   "cell_type": "code",
   "execution_count": null,
   "id": "37bbda08",
   "metadata": {
    "execution": {
     "iopub.execute_input": "2023-01-12T19:21:33.270127Z",
     "iopub.status.busy": "2023-01-12T19:21:33.268966Z",
     "iopub.status.idle": "2023-01-12T19:21:44.350921Z",
     "shell.execute_reply": "2023-01-12T19:21:44.349789Z"
    },
    "papermill": {
     "duration": 11.158318,
     "end_time": "2023-01-12T19:21:44.358392",
     "exception": false,
     "start_time": "2023-01-12T19:21:33.200074",
     "status": "completed"
    },
    "tags": []
   },
   "outputs": [],
   "source": [
    "ma_raw.pair_plot(exclude_ref_corrected = False)"
   ]
  },
  {
   "cell_type": "code",
   "execution_count": null,
   "id": "a8151c82",
   "metadata": {
    "execution": {
     "iopub.execute_input": "2023-01-12T19:21:44.519030Z",
     "iopub.status.busy": "2023-01-12T19:21:44.518329Z",
     "iopub.status.idle": "2023-01-12T19:21:45.338854Z",
     "shell.execute_reply": "2023-01-12T19:21:45.337846Z"
    },
    "papermill": {
     "duration": 0.902324,
     "end_time": "2023-01-12T19:21:45.341233",
     "exception": false,
     "start_time": "2023-01-12T19:21:44.438909",
     "status": "completed"
    },
    "tags": []
   },
   "outputs": [],
   "source": [
    "ma_raw.volcano_plot(exclude_ref_corrected = False)"
   ]
  },
  {
   "cell_type": "code",
   "execution_count": null,
   "id": "e684c390",
   "metadata": {
    "execution": {
     "iopub.execute_input": "2023-01-12T19:21:45.504566Z",
     "iopub.status.busy": "2023-01-12T19:21:45.504100Z",
     "iopub.status.idle": "2023-01-12T19:21:47.290770Z",
     "shell.execute_reply": "2023-01-12T19:21:47.289762Z"
    },
    "papermill": {
     "duration": 1.870032,
     "end_time": "2023-01-12T19:21:47.293070",
     "exception": false,
     "start_time": "2023-01-12T19:21:45.423038",
     "status": "completed"
    },
    "tags": []
   },
   "outputs": [],
   "source": [
    "sc.pl.rank_genes_groups_tracksplot(ma_raw.conc_adata, groupby='correction', dendrogram=False)"
   ]
  },
  {
   "cell_type": "code",
   "execution_count": null,
   "id": "e6d75f79-59d7-4db3-9cfb-45a879c76a7b",
   "metadata": {
    "execution": {
     "iopub.execute_input": "2023-01-12T19:21:47.462725Z",
     "iopub.status.busy": "2023-01-12T19:21:47.462093Z",
     "iopub.status.idle": "2023-01-12T19:21:47.502726Z",
     "shell.execute_reply": "2023-01-12T19:21:47.501783Z"
    },
    "papermill": {
     "duration": 0.126888,
     "end_time": "2023-01-12T19:21:47.505029",
     "exception": false,
     "start_time": "2023-01-12T19:21:47.378141",
     "status": "completed"
    },
    "tags": []
   },
   "outputs": [],
   "source": [
    "adata_cor.obs['n_pixels'] = [i.count(';')+1 for i in adata_cor.obs['list_TPO']]\n",
    "strat_cell_list = list(adata_cor.obs.groupby('n_pixels', group_keys=False).apply(lambda x: x.sample(1)).index)[:6]\n",
    "strat_cell_list"
   ]
  },
  {
   "cell_type": "markdown",
   "id": "e91352d2",
   "metadata": {
    "papermill": {
     "duration": 0.083215,
     "end_time": "2023-01-12T19:21:47.671982",
     "exception": false,
     "start_time": "2023-01-12T19:21:47.588767",
     "status": "completed"
    },
    "tags": []
   },
   "source": [
    "The following plot shows the metabolic profiles of sampled cell generated from 1 and increasing numbers of ablation marks. The first row has the uncorrected raw ion intensities, the second row the corrected raw ion intensities and the third row the correction ratio/quotient between the two ( $correction\\_ratio = \\frac{I_{corrected}}{I_{uncorrected}}$ ). Most ions have the same correction ratio in a given cells, some have a higher ratio (smaller slope, less ISM correction) and some have a lower ratio (steeper slope, stronger ISM correction). The distribution of ion-specific correction ratios in the same cells is shown, separately for self-corrected and pool-corrected ions, in density plots underneath the metabolic profiles. Black horizontal and vertical lines show the sampling proportion of all ablation marks that were combined to the respective cell. Especially from the density plots, it becomes obvious that the majority of ions have correction ratios that colocalize with the pixels' sampling ratios. This can be explained by the fact that most ions had a correction slope of ~-1, the pool-corrected ions had all the same slope close to -1. Thus, these ions are down-corrected by multiplying with ~1 times their sampling proportion. Since many ions seem to occur only in one of the underlying ablation marks, the distribution of correction ratios has prominent peaks and few values between them."
   ]
  },
  {
   "cell_type": "code",
   "execution_count": null,
   "id": "f5d978f2",
   "metadata": {
    "execution": {
     "iopub.execute_input": "2023-01-12T19:21:47.839702Z",
     "iopub.status.busy": "2023-01-12T19:21:47.838613Z",
     "iopub.status.idle": "2023-01-12T19:23:36.321290Z",
     "shell.execute_reply": "2023-01-12T19:23:36.320122Z"
    },
    "papermill": {
     "duration": 108.569268,
     "end_time": "2023-01-12T19:23:36.324116",
     "exception": false,
     "start_time": "2023-01-12T19:21:47.754848",
     "status": "completed"
    },
    "tags": []
   },
   "outputs": [],
   "source": [
    "ma_raw.quotient_plot(show_cells=strat_cell_list)"
   ]
  },
  {
   "cell_type": "code",
   "execution_count": null,
   "id": "924fcc71",
   "metadata": {
    "execution": {
     "iopub.execute_input": "2023-01-12T19:23:36.510534Z",
     "iopub.status.busy": "2023-01-12T19:23:36.509679Z",
     "iopub.status.idle": "2023-01-12T19:23:59.151925Z",
     "shell.execute_reply": "2023-01-12T19:23:59.150923Z"
    },
    "papermill": {
     "duration": 22.736852,
     "end_time": "2023-01-12T19:23:59.154080",
     "exception": false,
     "start_time": "2023-01-12T19:23:36.417228",
     "status": "completed"
    },
    "tags": []
   },
   "outputs": [],
   "source": [
    "ma_raw.top_ion_plot()"
   ]
  },
  {
   "cell_type": "code",
   "execution_count": null,
   "id": "9ab2a6a6",
   "metadata": {
    "execution": {
     "iopub.execute_input": "2023-01-12T19:23:59.357055Z",
     "iopub.status.busy": "2023-01-12T19:23:59.356552Z",
     "iopub.status.idle": "2023-01-12T19:25:04.053159Z",
     "shell.execute_reply": "2023-01-12T19:25:04.052166Z"
    },
    "papermill": {
     "duration": 64.799293,
     "end_time": "2023-01-12T19:25:04.055819",
     "exception": false,
     "start_time": "2023-01-12T19:23:59.256526",
     "status": "completed"
    },
    "tags": []
   },
   "outputs": [],
   "source": [
    "_ = ma_raw.save_matrix(save_to_path = analysis_path, safe_to_name = project, save_figures=6)"
   ]
  },
  {
   "cell_type": "markdown",
   "id": "6f57690a-8eea-4c15-8167-f7dc0e1847f5",
   "metadata": {
    "papermill": {
     "duration": 0.097293,
     "end_time": "2023-01-12T19:25:04.253786",
     "exception": false,
     "start_time": "2023-01-12T19:25:04.156493",
     "status": "completed"
    },
    "tags": []
   },
   "source": [
    "Analogous to the differential expression analysis in this notebook, the raw ion intensities of the uncorrected and corrected dataset can be loaded into Metenrichr, an R package by Martijn Molenaar (corresponding shiny app by Bishoy Wadie), to perform DEA and subsequent enrichment analysis for lipid ontology terms.\n",
    "\n",
    "For that, the following settings were used:\n",
    "\n",
    "- Polarization mode: Negative\n",
    "- DEA with wilcoxon test\n",
    "- Number of bootstraps: 100\n",
    "- Minimum number of annotations: 3\n",
    "- adjusted p-value cutoff: 0.05\n",
    "\n",
    "As the corrected dataset is compared to the uncorrected on, a positive enrichment corresponds to metabolites that have been increased/not changed in the correction and a negative enrichment to metabolites that have been decreased by ion suppression correction.\n",
    "\n",
    "<p align=\"center\">\n",
    "  <img \n",
    "    style=\"display: block; \n",
    "           margin-left: auto;\n",
    "           margin-right: auto;\n",
    "           width: 70%;\" align=\"center\" width=\"800\" src=\"metenrichr_LION_neg_wilcox_B100_A3_q0.05.png\">\n",
    "</p>"
   ]
  },
  {
   "cell_type": "markdown",
   "id": "3fc3f349",
   "metadata": {
    "papermill": {
     "duration": 0.097946,
     "end_time": "2023-01-12T19:25:04.451591",
     "exception": false,
     "start_time": "2023-01-12T19:25:04.353645",
     "status": "completed"
    },
    "tags": []
   },
   "source": [
    "The same analysis is then carried out for the TIC-corrected and log-transformed data: Here, the differences between uncorrected and ISM-corrected data are much more subtle. This corresponds better with the UMAPs further down, as they also show very little noticebly differences between uncorrected and ISM-corrected datasets."
   ]
  },
  {
   "cell_type": "code",
   "execution_count": null,
   "id": "278283c1-d1ca-45ad-9edd-147e5c251098",
   "metadata": {
    "execution": {
     "iopub.execute_input": "2023-01-12T19:25:04.648951Z",
     "iopub.status.busy": "2023-01-12T19:25:04.648490Z",
     "iopub.status.idle": "2023-01-12T19:25:04.654414Z",
     "shell.execute_reply": "2023-01-12T19:25:04.653468Z"
    },
    "papermill": {
     "duration": 0.106462,
     "end_time": "2023-01-12T19:25:04.656628",
     "exception": false,
     "start_time": "2023-01-12T19:25:04.550166",
     "status": "completed"
    },
    "tags": []
   },
   "outputs": [],
   "source": [
    "adata.X = adata.layers['log_norm_counts']\n",
    "adata_cor.X = adata_cor.layers['log_norm_counts']"
   ]
  },
  {
   "cell_type": "code",
   "execution_count": null,
   "id": "01e15ae3-c8fa-4f27-8cb7-1a5ba824f3ca",
   "metadata": {
    "execution": {
     "iopub.execute_input": "2023-01-12T19:25:04.857521Z",
     "iopub.status.busy": "2023-01-12T19:25:04.856817Z",
     "iopub.status.idle": "2023-01-12T19:25:39.955350Z",
     "shell.execute_reply": "2023-01-12T19:25:39.954350Z"
    },
    "papermill": {
     "duration": 35.199667,
     "end_time": "2023-01-12T19:25:39.957819",
     "exception": false,
     "start_time": "2023-01-12T19:25:04.758152",
     "status": "completed"
    },
    "tags": []
   },
   "outputs": [],
   "source": [
    "ma = MetaboliteAnalysis(adata=adata, adata_cor=adata_cor, condition_name = condition_name, \n",
    "                        obs_columns = ['list_TPO'],\n",
    "                        var_columns = ['corrected_only_using_pool', 'mean_correction_quantreg_slope', \n",
    "                                       'n_cells','median_intensity', 'mean_intensity', 'sum_correction_using_ion_pool'],\n",
    "                       use_raw = False)"
   ]
  },
  {
   "cell_type": "code",
   "execution_count": null,
   "id": "b869a0ee",
   "metadata": {
    "execution": {
     "iopub.execute_input": "2023-01-12T19:25:40.161093Z",
     "iopub.status.busy": "2023-01-12T19:25:40.160362Z",
     "iopub.status.idle": "2023-01-12T19:25:41.922648Z",
     "shell.execute_reply": "2023-01-12T19:25:41.921679Z"
    },
    "papermill": {
     "duration": 1.865432,
     "end_time": "2023-01-12T19:25:41.925604",
     "exception": false,
     "start_time": "2023-01-12T19:25:40.060172",
     "status": "completed"
    },
    "tags": []
   },
   "outputs": [],
   "source": [
    "sc.pl.rank_genes_groups_tracksplot(ma.conc_adata, groupby='correction', dendrogram=False)"
   ]
  },
  {
   "cell_type": "markdown",
   "id": "f4233e98",
   "metadata": {
    "papermill": {
     "duration": 0.099765,
     "end_time": "2023-01-12T19:25:42.129582",
     "exception": false,
     "start_time": "2023-01-12T19:25:42.029817",
     "status": "completed"
    },
    "tags": []
   },
   "source": [
    "After TIC normalization and log transformation, the distributions of correction ratios is moved and scaled down. Thus they do not co-localize with the pixels' sampling proportions anymore and differences between datasets are smaller than for the raw data."
   ]
  },
  {
   "cell_type": "code",
   "execution_count": null,
   "id": "371fd210",
   "metadata": {
    "execution": {
     "iopub.execute_input": "2023-01-12T19:25:42.332383Z",
     "iopub.status.busy": "2023-01-12T19:25:42.331341Z",
     "iopub.status.idle": "2023-01-12T19:27:38.995428Z",
     "shell.execute_reply": "2023-01-12T19:27:38.994455Z"
    },
    "papermill": {
     "duration": 116.768778,
     "end_time": "2023-01-12T19:27:38.998800",
     "exception": false,
     "start_time": "2023-01-12T19:25:42.230022",
     "status": "completed"
    },
    "tags": []
   },
   "outputs": [],
   "source": [
    "ma.quotient_plot(show_cells=strat_cell_list)"
   ]
  },
  {
   "cell_type": "code",
   "execution_count": null,
   "id": "dbd32d0c",
   "metadata": {
    "execution": {
     "iopub.execute_input": "2023-01-12T19:27:39.219996Z",
     "iopub.status.busy": "2023-01-12T19:27:39.219176Z",
     "iopub.status.idle": "2023-01-12T19:28:03.403477Z",
     "shell.execute_reply": "2023-01-12T19:28:03.402445Z"
    },
    "papermill": {
     "duration": 24.295625,
     "end_time": "2023-01-12T19:28:03.405723",
     "exception": false,
     "start_time": "2023-01-12T19:27:39.110098",
     "status": "completed"
    },
    "tags": []
   },
   "outputs": [],
   "source": [
    "ma.top_ion_plot()"
   ]
  },
  {
   "cell_type": "markdown",
   "id": "e0e0b37e-1d8f-4e4e-ab7d-7ee7761b245d",
   "metadata": {
    "papermill": {
     "duration": 0.113684,
     "end_time": "2023-01-12T19:28:03.636376",
     "exception": false,
     "start_time": "2023-01-12T19:28:03.522692",
     "status": "completed"
    },
    "tags": []
   },
   "source": [
    "The different degree of correction of metabolites could be reflected in the spatial distribution on the corresponding ion images. To this end, the ion images of each two metabolites with the highest (center column) and lowest (right column) correction slopes are shown in the following figure (from well H3, condition Naive_WT)). The corresponding dataset is available on [metaspace](https://metaspace2020.eu/annotations?db_id=658&grp=5727e852-e1dd-11e8-9d75-5fefa7059e48&ds=2022-07-16_08h56m51s&fdr=0.5&q=C24H48NO6P%20%7C%20C37H71O8P%20%7C%20C42H82NO8P%20%7C%20C41H80NO8P&row=4).\n",
    "\n",
    "<p align=\"center\">\n",
    "  <img \n",
    "    style=\"display: block; \n",
    "           margin-left: auto;\n",
    "           margin-right: auto;\n",
    "           width: 70%;\" align=\"center\" width=\"800\" src=\"ion_images_glioblastoma.png\">\n",
    "</p>\n"
   ]
  },
  {
   "cell_type": "markdown",
   "id": "02fb470e",
   "metadata": {
    "papermill": {
     "duration": 0.113611,
     "end_time": "2023-01-12T19:28:03.864411",
     "exception": false,
     "start_time": "2023-01-12T19:28:03.750800",
     "status": "completed"
    },
    "tags": []
   },
   "source": [
    "## Comparison of the datasets\n",
    "\n",
    "In the following, the uncorrected and ISM-corrected datasets are compared using methods of a typical single-cell analysis. Unless specified otherwise, the data was preprocessed using TOC normalization and log transformation."
   ]
  },
  {
   "cell_type": "code",
   "execution_count": null,
   "id": "dd8ac987",
   "metadata": {
    "execution": {
     "iopub.execute_input": "2023-01-12T19:28:04.095540Z",
     "iopub.status.busy": "2023-01-12T19:28:04.094352Z",
     "iopub.status.idle": "2023-01-12T19:28:12.168819Z",
     "shell.execute_reply": "2023-01-12T19:28:12.167858Z"
    },
    "papermill": {
     "duration": 8.19305,
     "end_time": "2023-01-12T19:28:12.171057",
     "exception": false,
     "start_time": "2023-01-12T19:28:03.978007",
     "status": "completed"
    },
    "tags": []
   },
   "outputs": [],
   "source": [
    "def dimred_pca(adata):\n",
    "    sc.pp.pca(adata)\n",
    "    sc.pl.pca_overview(adata, color=['well', condition_name], palette='cividis')\n",
    "\n",
    "dimred_pca(adata)\n",
    "dimred_pca(adata_cor)"
   ]
  },
  {
   "cell_type": "code",
   "execution_count": null,
   "id": "3e820a1f-e219-4b22-8e01-1d0182144673",
   "metadata": {
    "execution": {
     "iopub.execute_input": "2023-01-12T19:28:12.458259Z",
     "iopub.status.busy": "2023-01-12T19:28:12.457390Z",
     "iopub.status.idle": "2023-01-12T19:29:23.508426Z",
     "shell.execute_reply": "2023-01-12T19:29:23.507145Z"
    },
    "papermill": {
     "duration": 71.202809,
     "end_time": "2023-01-12T19:29:23.517385",
     "exception": false,
     "start_time": "2023-01-12T19:28:12.314576",
     "status": "completed"
    },
    "tags": []
   },
   "outputs": [],
   "source": [
    "dimred_umap(adata)\n",
    "dimred_umap(adata_cor)"
   ]
  },
  {
   "cell_type": "code",
   "execution_count": null,
   "id": "ca21cb71",
   "metadata": {
    "execution": {
     "iopub.execute_input": "2023-01-12T19:29:23.853294Z",
     "iopub.status.busy": "2023-01-12T19:29:23.852859Z",
     "iopub.status.idle": "2023-01-12T19:29:23.858838Z",
     "shell.execute_reply": "2023-01-12T19:29:23.857796Z"
    },
    "papermill": {
     "duration": 0.176827,
     "end_time": "2023-01-12T19:29:23.861139",
     "exception": false,
     "start_time": "2023-01-12T19:29:23.684312",
     "status": "completed"
    },
    "tags": []
   },
   "outputs": [],
   "source": [
    "# from sklearn.metrics.cluster import completeness_score\n",
    "# from sklearn.metrics import accuracy_score, silhouette_score\n",
    "# \n",
    "# def kmeans_clust(adata):\n",
    "#     n_clusters = len(adata.obs[condition_name].value_counts())\n",
    "#     kmeans = KMeans(n_clusters=n_clusters, random_state=0).fit(adata.X)\n",
    "#     adata.obs['kmeans'] = kmeans.labels_.astype(str)\n",
    "# \n",
    "#     sc.tl.leiden(adata, resolution=2)\n",
    "# \n",
    "#     leiden = np.array(adata.obs['leiden'].values)\n",
    "#     leiden_curated = np.copy(leiden)\n",
    "#     fc = np.array(adata.obs[condition_name].values)\n",
    "#     for cluster in np.unique(leiden):\n",
    "#         labels, counts = np.unique(fc[leiden == cluster], return_counts=True)\n",
    "#         leiden_curated[leiden == cluster] = str(labels[counts == np.max(counts)][0])\n",
    "#     adata.obs['leiden_curated'] = leiden_curated\n",
    "# \n",
    "#     sc.pl.umap(adata, color=['kmeans', 'leiden', 'leiden_curated', condition_name], palette='cividis')\n",
    "#     # print('Leiden acccuracy score: %1.4f' % accuracy_score(y_true = adata.obs[condition_name].replace(['HeLa', 'NIH3T3'], ['0', '1']), y_pred = adata.obs['leiden']))\n",
    "#     print('Curated leiden acccuracy score: %1.4f' % accuracy_score(y_true = adata.obs[condition_name], y_pred = adata.obs['leiden_curated']))\n",
    "#     print('KMeans completeness score: %1.4f' % completeness_score(adata.obs[condition_name], adata.obs['kmeans']))\n",
    "#     print('KMeans silhouette coefficient: %1.4f' % silhouette_score(adata.X, adata.obs['kmeans']))\n",
    "# \n",
    "# kmeans_clust(adata)\n",
    "# kmeans_clust(adata_cor)\n",
    "# "
   ]
  },
  {
   "cell_type": "code",
   "execution_count": null,
   "id": "0556e834",
   "metadata": {
    "execution": {
     "iopub.execute_input": "2023-01-12T19:29:24.196535Z",
     "iopub.status.busy": "2023-01-12T19:29:24.195501Z",
     "iopub.status.idle": "2023-01-12T19:37:15.439686Z",
     "shell.execute_reply": "2023-01-12T19:37:15.438466Z"
    },
    "papermill": {
     "duration": 471.488472,
     "end_time": "2023-01-12T19:37:15.516231",
     "exception": false,
     "start_time": "2023-01-12T19:29:24.027759",
     "status": "completed"
    },
    "tags": []
   },
   "outputs": [],
   "source": [
    "summaries = intermixing({'uncorrected': adata, 'ISM correction': adata_cor}, condition_name = condition_name, measures = ['X_pca', 'X_umap'])"
   ]
  },
  {
   "cell_type": "code",
   "execution_count": null,
   "id": "e95774c2",
   "metadata": {
    "execution": {
     "iopub.execute_input": "2023-01-12T19:37:15.861913Z",
     "iopub.status.busy": "2023-01-12T19:37:15.861193Z",
     "iopub.status.idle": "2023-01-12T19:39:22.772240Z",
     "shell.execute_reply": "2023-01-12T19:39:22.771177Z"
    },
    "papermill": {
     "duration": 127.086438,
     "end_time": "2023-01-12T19:39:22.774689",
     "exception": false,
     "start_time": "2023-01-12T19:37:15.688251",
     "status": "completed"
    },
    "tags": []
   },
   "outputs": [],
   "source": [
    "s = intermixing(\n",
    "    adata_dict = {'uncorrected': adata, 'ISM correction': adata_cor},\n",
    "    condition_name = condition_name,\n",
    "    sample_frac=0.1,\n",
    "    measures =['X_umap', 'X_pca'],\n",
    "    n_datapoints = 50,\n",
    "    sample_log = True,\n",
    "    neighborhood_size = None,\n",
    "    normalized = False,\n",
    "    show_table = [],\n",
    "    n_jobs = multiprocessing.cpu_count()\n",
    ")"
   ]
  },
  {
   "cell_type": "code",
   "execution_count": null,
   "id": "7a5f4d6b",
   "metadata": {
    "execution": {
     "iopub.execute_input": "2023-01-12T19:39:23.124253Z",
     "iopub.status.busy": "2023-01-12T19:39:23.123817Z",
     "iopub.status.idle": "2023-01-12T19:39:23.131926Z",
     "shell.execute_reply": "2023-01-12T19:39:23.130968Z"
    },
    "papermill": {
     "duration": 0.185851,
     "end_time": "2023-01-12T19:39:23.134062",
     "exception": false,
     "start_time": "2023-01-12T19:39:22.948211",
     "status": "completed"
    },
    "tags": []
   },
   "outputs": [],
   "source": [
    "from scipy.integrate import trapz, simps\n",
    "\n",
    "def auc_intermixing(summary_dict):\n",
    "    for name, data in summary_dict.items():\n",
    "        print('Area under the curve for %s: %1.4f'%(name, trapz(data['mean'], data.index) / max(data.index)))\n",
    "\n",
    "\n",
    "auc_intermixing(s[1])"
   ]
  },
  {
   "cell_type": "code",
   "execution_count": null,
   "id": "458acbc7",
   "metadata": {
    "execution": {
     "iopub.execute_input": "2023-01-12T19:39:23.483357Z",
     "iopub.status.busy": "2023-01-12T19:39:23.482271Z",
     "iopub.status.idle": "2023-01-12T19:39:23.494260Z",
     "shell.execute_reply": "2023-01-12T19:39:23.493199Z"
    },
    "papermill": {
     "duration": 0.188505,
     "end_time": "2023-01-12T19:39:23.496680",
     "exception": false,
     "start_time": "2023-01-12T19:39:23.308175",
     "status": "completed"
    },
    "tags": []
   },
   "outputs": [],
   "source": [
    "from sklearn.svm import LinearSVC\n",
    "\n",
    "def analyse_svm_margin(adata, adata_cor, condition_name, layer=None):\n",
    "    print(layer)\n",
    "    if layer is not None:\n",
    "        adata.layers['default_X'] = adata.X\n",
    "        adata.X = adata.layers[layer]\n",
    "        adata_cor.layers['default_X'] = adata_cor.X\n",
    "        adata_cor.X = adata_cor.layers[layer]\n",
    "    \n",
    "    def get_svm_margin(adata, condition_name, size_factor = 1):\n",
    "        predictors = adata.X * size_factor\n",
    "        result = adata.obs[condition_name]\n",
    "        clf = LinearSVC(random_state=0, dual=False)\n",
    "        clf.fit(predictors, result)  \n",
    "        margin_df = pd.DataFrame({'condition': clf.classes_, 'margin': 1 / np.sqrt(np.sum(clf.coef_**2, axis=1))})\n",
    "\n",
    "        #print(margin_df)\n",
    "        return margin_df\n",
    "    \n",
    "    size_factor = np.sum(adata.X) / np.sum(adata_cor.X)\n",
    "\n",
    "    df = pd.merge(get_svm_margin(adata, condition_name), \n",
    "                  get_svm_margin(adata_cor, condition_name, size_factor = size_factor), \n",
    "                  on='condition', suffixes=['_uncorrected', '_ISM_corrected'])\n",
    "    sns.set(rc={\"figure.figsize\":(12, 5)})\n",
    "    sns.barplot(df.melt(id_vars='condition', var_name='correction', value_name='margin'), \n",
    "                x='condition', y='margin', hue='correction').set_title('Comparison of SVM margins for layer %s'%layer)\n",
    "    \n",
    "    \n",
    "    \n",
    "    if layer is not None:\n",
    "        adata.X = adata.layers['default_X']\n",
    "        adata_cor.X = adata_cor.layers['default_X']\n",
    "   "
   ]
  },
  {
   "cell_type": "code",
   "execution_count": null,
   "id": "1a71cc89-e9e0-4a25-ac6b-523538002a66",
   "metadata": {
    "execution": {
     "iopub.execute_input": "2023-01-12T19:39:23.844014Z",
     "iopub.status.busy": "2023-01-12T19:39:23.843055Z",
     "iopub.status.idle": "2023-01-12T19:41:29.424066Z",
     "shell.execute_reply": "2023-01-12T19:41:29.423036Z"
    },
    "papermill": {
     "duration": 125.756313,
     "end_time": "2023-01-12T19:41:29.426613",
     "exception": false,
     "start_time": "2023-01-12T19:39:23.670300",
     "status": "completed"
    },
    "tags": []
   },
   "outputs": [],
   "source": [
    "analyse_svm_margin(adata, adata_cor, condition_name, layer='norm_counts')"
   ]
  },
  {
   "cell_type": "code",
   "execution_count": null,
   "id": "3c231c87-2ca4-4e68-b03e-a422d6a60ee2",
   "metadata": {
    "execution": {
     "iopub.execute_input": "2023-01-12T19:41:29.777785Z",
     "iopub.status.busy": "2023-01-12T19:41:29.777324Z",
     "iopub.status.idle": "2023-01-12T19:42:13.200841Z",
     "shell.execute_reply": "2023-01-12T19:42:13.199798Z"
    },
    "papermill": {
     "duration": 43.77745,
     "end_time": "2023-01-12T19:42:13.378921",
     "exception": false,
     "start_time": "2023-01-12T19:41:29.601471",
     "status": "completed"
    },
    "tags": []
   },
   "outputs": [],
   "source": [
    "analyse_svm_margin(adata, adata_cor, condition_name, layer='log_norm_counts')"
   ]
  },
  {
   "cell_type": "code",
   "execution_count": null,
   "id": "7bc67c1e-d1aa-4126-85e9-3257dfe98ce3",
   "metadata": {
    "execution": {
     "iopub.execute_input": "2023-01-12T19:42:13.730917Z",
     "iopub.status.busy": "2023-01-12T19:42:13.730132Z",
     "iopub.status.idle": "2023-01-12T19:42:39.032570Z",
     "shell.execute_reply": "2023-01-12T19:42:39.031106Z"
    },
    "papermill": {
     "duration": 25.48049,
     "end_time": "2023-01-12T19:42:39.035218",
     "exception": false,
     "start_time": "2023-01-12T19:42:13.554728",
     "status": "completed"
    },
    "tags": []
   },
   "outputs": [],
   "source": [
    "analyse_svm_margin(adata, adata_cor, condition_name, layer='1e4_log_norm_counts')"
   ]
  }
 ],
 "metadata": {
  "kernelspec": {
   "display_name": "“ion_suppression_new”",
   "language": "python",
   "name": "ion_suppression"
  },
  "language_info": {
   "codemirror_mode": {
    "name": "ipython",
    "version": 3
   },
   "file_extension": ".py",
   "mimetype": "text/x-python",
   "name": "python",
   "nbconvert_exporter": "python",
   "pygments_lexer": "ipython3",
   "version": "3.10.8"
  },
  "papermill": {
   "default_parameters": {},
   "duration": 2235.636445,
   "end_time": "2023-01-12T19:42:43.161348",
   "environment_variables": {},
   "exception": null,
   "input_path": "analysis/Lx_Glioblastoma/pipeline_03_evaluation.ipynb",
   "output_path": "analysis/Lx_Glioblastoma/pipeline_03_evaluation.ipynb",
   "parameters": {
    "analysis_path": "/home/mklein/FDA_project/analysis/Lx_Glioblastoma",
    "condition_name": "condition",
    "deconv_default_min_overlap": 0.3,
    "notebooks": [
     "pipeline_02_processing.ipynb",
     "pipeline_03_evaluation.ipynb"
    ],
    "project": "Lx_Glioblastoma",
    "source_path": "/g/alexandr/smenon/2022-07-13_Glioblastoma/processed_files",
    "target_path": "/home/mklein/FDA_project/data/Lx_Glioblastoma",
    "well_name": "rowcol"
   },
   "start_time": "2023-01-12T19:05:27.524903",
   "version": "2.3.4"
  },
  "vscode": {
   "interpreter": {
    "hash": "89b4449ee30f46b148fb6825d70934bcbb1ebdb6d5b2015fe3835362773c7289"
   }
  }
 },
 "nbformat": 4,
 "nbformat_minor": 5
}
