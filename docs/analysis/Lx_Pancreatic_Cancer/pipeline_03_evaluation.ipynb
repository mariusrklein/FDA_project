{
 "cells": [
  {
   "cell_type": "markdown",
   "id": "0925a47b",
   "metadata": {
    "papermill": {
     "duration": 0.014127,
     "end_time": "2023-01-12T17:42:00.624941",
     "exception": false,
     "start_time": "2023-01-12T17:42:00.610814",
     "status": "completed"
    },
    "tags": []
   },
   "source": [
    "# Lx_Pancreatic_Cancer: Evaluation\n",
    "\n",
    "In this notebook, different measures are investigated to quantify the effect of correcting SpaceM ion intensity data for partial pixel-cell overlap.\n",
    "Moreover, The effects of the correction on different metabolites is visualized.\n",
    " "
   ]
  },
  {
   "cell_type": "code",
   "execution_count": null,
   "id": "6c3e0897",
   "metadata": {
    "execution": {
     "iopub.execute_input": "2023-01-12T17:42:00.655199Z",
     "iopub.status.busy": "2023-01-12T17:42:00.654156Z",
     "iopub.status.idle": "2023-01-12T17:42:06.655184Z",
     "shell.execute_reply": "2023-01-12T17:42:06.654279Z"
    },
    "papermill": {
     "duration": 6.019174,
     "end_time": "2023-01-12T17:42:06.657552",
     "exception": false,
     "start_time": "2023-01-12T17:42:00.638378",
     "status": "completed"
    },
    "tags": []
   },
   "outputs": [],
   "source": [
    "import platform\n",
    "import os\n",
    "import multiprocessing\n",
    "import numpy as np\n",
    "import pandas as pd\n",
    "import anndata as ad\n",
    "import scanpy as sc\n",
    "import seaborn as sns\n",
    "from sklearn.cluster import KMeans\n",
    "import re\n",
    "import outer_spacem as osm\n",
    "import sys\n",
    "sys.path.append('/home/mklein/spacem')\n",
    "sys.path.append('/Volumes/mklein/spacem')\n",
    "sys.path.append('/home/mklein/FDA_project')\n",
    "from src.correction import *\n",
    "from src.evaluation import intermixing, MetaboliteAnalysis\n",
    "\n",
    "%matplotlib inline\n",
    "%config InlineBackend.figure_formats = ['retina']"
   ]
  },
  {
   "cell_type": "code",
   "execution_count": null,
   "id": "4940b9fe",
   "metadata": {
    "execution": {
     "iopub.execute_input": "2023-01-12T17:42:06.686583Z",
     "iopub.status.busy": "2023-01-12T17:42:06.685724Z",
     "iopub.status.idle": "2023-01-12T17:42:06.691446Z",
     "shell.execute_reply": "2023-01-12T17:42:06.690484Z"
    },
    "papermill": {
     "duration": 0.022121,
     "end_time": "2023-01-12T17:42:06.693713",
     "exception": false,
     "start_time": "2023-01-12T17:42:06.671592",
     "status": "completed"
    },
    "tags": [
     "parameters"
    ]
   },
   "outputs": [],
   "source": [
    "if platform.system() == \"Darwin\":\n",
    "    target_path = '/Volumes/mklein/FDA_project/data/Lx_Glioblastoma'\n",
    "    if True:\n",
    "        target_path = '/Users/mariusklein/Local_Project_Files/FDA_project/data/Lx_Glioblastoma'\n",
    "\n",
    "else:\n",
    "    target_path = '/home/mklein/FDA_project/data/Lx_Glioblastoma'\n",
    "\n",
    "condition_name = 'condition'\n",
    "well_name = 'rowcol'\n",
    "project = 'Lx_Glioblastoma'\n",
    "analysis_path = target_path"
   ]
  },
  {
   "cell_type": "code",
   "execution_count": null,
   "id": "d2c31904",
   "metadata": {
    "execution": {
     "iopub.execute_input": "2023-01-12T17:42:06.721932Z",
     "iopub.status.busy": "2023-01-12T17:42:06.721502Z",
     "iopub.status.idle": "2023-01-12T17:42:06.726728Z",
     "shell.execute_reply": "2023-01-12T17:42:06.725785Z"
    },
    "papermill": {
     "duration": 0.021785,
     "end_time": "2023-01-12T17:42:06.728929",
     "exception": false,
     "start_time": "2023-01-12T17:42:06.707144",
     "status": "completed"
    },
    "tags": [
     "injected-parameters"
    ]
   },
   "outputs": [],
   "source": [
    "# Parameters\n",
    "source_path = \"/home/mklein/Raw Data/2022-01-31_PancreaticCancer\"\n",
    "target_path = \"/home/mklein/FDA_project/data/Lx_Pancreatic_Cancer\"\n",
    "condition_name = \"condition\"\n",
    "well_name = \"slide_well\"\n",
    "analysis_path = \"/home/mklein/FDA_project/analysis/Lx_Pancreatic_Cancer\"\n",
    "notebooks = [\n",
    "    \"pipeline_01_correction.ipynb\",\n",
    "    \"pipeline_02_processing.ipynb\",\n",
    "    \"pipeline_03_evaluation.ipynb\",\n",
    "]\n",
    "project = \"Lx_Pancreatic_Cancer\"\n"
   ]
  },
  {
   "cell_type": "markdown",
   "id": "082dec30",
   "metadata": {
    "papermill": {
     "duration": 0.013018,
     "end_time": "2023-01-12T17:42:06.755573",
     "exception": false,
     "start_time": "2023-01-12T17:42:06.742555",
     "status": "completed"
    },
    "tags": []
   },
   "source": [
    "Loading the uncorrected and ISM-corrected dataset from file. Additionally, loading the metadata CSV file to filter out excluded wells."
   ]
  },
  {
   "cell_type": "code",
   "execution_count": null,
   "id": "05a8c269",
   "metadata": {
    "execution": {
     "iopub.execute_input": "2023-01-12T17:42:06.783983Z",
     "iopub.status.busy": "2023-01-12T17:42:06.783048Z",
     "iopub.status.idle": "2023-01-12T17:42:09.753730Z",
     "shell.execute_reply": "2023-01-12T17:42:09.752787Z"
    },
    "papermill": {
     "duration": 2.987543,
     "end_time": "2023-01-12T17:42:09.756270",
     "exception": false,
     "start_time": "2023-01-12T17:42:06.768727",
     "status": "completed"
    },
    "tags": []
   },
   "outputs": [],
   "source": [
    "adata = ad.read(os.path.join(target_path, \"gen_batch_sm_matrix.h5ad\"))\n",
    "adata_cor = ad.read(os.path.join(target_path, \"corrected_batch_sm_matrix.h5ad\"))"
   ]
  },
  {
   "cell_type": "code",
   "execution_count": null,
   "id": "53d49c7a",
   "metadata": {
    "execution": {
     "iopub.execute_input": "2023-01-12T17:42:09.787894Z",
     "iopub.status.busy": "2023-01-12T17:42:09.786977Z",
     "iopub.status.idle": "2023-01-12T17:42:10.242247Z",
     "shell.execute_reply": "2023-01-12T17:42:10.241159Z"
    },
    "papermill": {
     "duration": 0.472219,
     "end_time": "2023-01-12T17:42:10.244875",
     "exception": false,
     "start_time": "2023-01-12T17:42:09.772656",
     "status": "completed"
    },
    "tags": []
   },
   "outputs": [],
   "source": [
    "metadata_path = os.path.join(target_path, 'metadata.csv')\n",
    "samples = list(set(adata.obs['well']))\n",
    "\n",
    "if os.path.exists(metadata_path):\n",
    "    metadata = pd.read_csv(metadata_path)\n",
    "    if well_name not in metadata.columns:\n",
    "        if \"row\" in metadata.columns and \"col\" in metadata.columns:\n",
    "            metadata[well_name] = metadata['row'].astype(str) + metadata['col'].astype(str)\n",
    "        elif \"slide\" in metadata.columns and \"well\" in metadata.columns:\n",
    "            metadata[well_name] = \"S\" + metadata['slide'].astype(str) + \"_W\" + metadata['well'].astype(str)\n",
    "        else:\n",
    "            raise Exception(\"Could not find condition column in metadata file and no default composition worked.\")\n",
    "    samples = list(metadata[well_name])\n",
    "\n",
    "def assign_conditions(adata):\n",
    "    index = adata.obs.index.name\n",
    "    new_obs = adata.obs.reset_index()\n",
    "    \n",
    "    new_obs = pd.merge(new_obs, metadata[[well_name, condition_name]], \n",
    "                       how='inner', left_on='well', right_on=well_name).set_index(index)\n",
    "    \n",
    "    adata = adata[new_obs.index, :].copy()\n",
    "    adata.obs = new_obs\n",
    "    if 'keep_conditions' in globals():\n",
    "        adata = adata[adata.obs[condition_name].isin(keep_conditions), :].copy()\n",
    "    return adata\n",
    "\n",
    "adata = assign_conditions(adata)\n",
    "adata_cor = assign_conditions(adata_cor)"
   ]
  },
  {
   "cell_type": "code",
   "execution_count": null,
   "id": "1cd4a253",
   "metadata": {
    "execution": {
     "iopub.execute_input": "2023-01-12T17:42:10.275842Z",
     "iopub.status.busy": "2023-01-12T17:42:10.274795Z",
     "iopub.status.idle": "2023-01-12T17:42:10.354948Z",
     "shell.execute_reply": "2023-01-12T17:42:10.353907Z"
    },
    "papermill": {
     "duration": 0.097651,
     "end_time": "2023-01-12T17:42:10.357163",
     "exception": false,
     "start_time": "2023-01-12T17:42:10.259512",
     "status": "completed"
    },
    "tags": []
   },
   "outputs": [],
   "source": [
    "pd.crosstab(adata.obs['well'], adata.obs[condition_name], margins=True)"
   ]
  },
  {
   "cell_type": "code",
   "execution_count": null,
   "id": "e44ccf24",
   "metadata": {
    "execution": {
     "iopub.execute_input": "2023-01-12T17:42:10.387939Z",
     "iopub.status.busy": "2023-01-12T17:42:10.387486Z",
     "iopub.status.idle": "2023-01-12T17:42:11.333219Z",
     "shell.execute_reply": "2023-01-12T17:42:11.332144Z"
    },
    "papermill": {
     "duration": 0.963472,
     "end_time": "2023-01-12T17:42:11.335467",
     "exception": false,
     "start_time": "2023-01-12T17:42:10.371995",
     "status": "completed"
    },
    "tags": []
   },
   "outputs": [],
   "source": [
    "included_molecules = adata.var_names.intersection(adata_cor.var_names)\n",
    "included_cells = adata.obs_names.intersection(adata_cor.obs_names)\n",
    "\n",
    "def subset_molecules(adata):\n",
    "    \n",
    "    return adata[included_cells, included_molecules].copy()\n",
    "\n",
    "adata = subset_molecules(adata)\n",
    "adata_cor = subset_molecules(adata_cor)\n",
    "\n",
    "print(adata.shape)\n",
    "print(adata_cor.shape)"
   ]
  },
  {
   "cell_type": "markdown",
   "id": "f5a4cf21",
   "metadata": {
    "papermill": {
     "duration": 0.013954,
     "end_time": "2023-01-12T17:42:11.364116",
     "exception": false,
     "start_time": "2023-01-12T17:42:11.350162",
     "status": "completed"
    },
    "tags": []
   },
   "source": [
    "First of all, the loaded datasets are filtered:\n",
    "\n",
    "- cells need non-zero intensities for at least 10 ions.\n",
    "- ions need non-zero intensities for at least 200 cells.\n",
    "\n",
    "After that, the sets are preprocessed in different ways:\n",
    "\n",
    "- intensties are normalized to TIC and/or log-transformed (log(x+1))\n",
    "\n",
    "After that, both datasets are subset to contain the same ions and cells (intersection)."
   ]
  },
  {
   "cell_type": "code",
   "execution_count": null,
   "id": "50fa3086",
   "metadata": {
    "execution": {
     "iopub.execute_input": "2023-01-12T17:42:11.394442Z",
     "iopub.status.busy": "2023-01-12T17:42:11.393543Z",
     "iopub.status.idle": "2023-01-12T17:42:14.427377Z",
     "shell.execute_reply": "2023-01-12T17:42:14.426185Z"
    },
    "papermill": {
     "duration": 3.051354,
     "end_time": "2023-01-12T17:42:14.429574",
     "exception": false,
     "start_time": "2023-01-12T17:42:11.378220",
     "status": "completed"
    },
    "tags": []
   },
   "outputs": [],
   "source": [
    "def preprocess(adata):\n",
    "    \n",
    "    sc.pp.filter_cells(adata, min_genes=10)\n",
    "    sc.pp.filter_genes(adata, min_cells=200)\n",
    "    adata.raw = adata\n",
    "    adata.layers[\"raw_counts\"] = adata.X.copy()\n",
    "    # sc.pp.scale(adata)\n",
    "    adata.layers[\"norm_counts\"] = sc.pp.normalize_total(adata, layer='raw_counts', target_sum=None, inplace=False)['X']\n",
    "    adata.layers[\"1e4_norm_counts\"] = sc.pp.normalize_total(adata, layer='raw_counts', target_sum=1e4, inplace=False)['X']\n",
    "    \n",
    "    adata.layers[\"log_raw_counts\"] = sc.pp.log1p(adata.layers[\"raw_counts\"], copy=True)\n",
    "    adata.layers[\"log_norm_counts\"] = sc.pp.log1p(adata.layers[\"norm_counts\"], copy=True)\n",
    "    adata.layers[\"1e4_log_norm_counts\"] = sc.pp.log1p(adata.layers[\"1e4_norm_counts\"], copy=True)\n",
    "    adata.X = adata.layers[\"log_norm_counts\"]\n",
    "    \n",
    "    adata.var['median_intensity'] = np.median(adata.X, axis=0)\n",
    "    adata.var['mean_intensity'] = np.mean(adata.X, axis=0)\n",
    "    # adata_x = adata.X.copy()\n",
    "    # adata_x[adata_x == 0] = np.nan\n",
    "    # adata.var['median_intensity_nonzero'] = np.nanmedian(adata_x, axis=0)\n",
    "    \n",
    "    \n",
    "preprocess(adata)\n",
    "preprocess(adata_cor)\n",
    "\n",
    "print(adata.shape)\n",
    "print(adata_cor.shape)"
   ]
  },
  {
   "cell_type": "code",
   "execution_count": null,
   "id": "239bf7f1",
   "metadata": {
    "execution": {
     "iopub.execute_input": "2023-01-12T17:42:14.460077Z",
     "iopub.status.busy": "2023-01-12T17:42:14.459207Z",
     "iopub.status.idle": "2023-01-12T17:42:14.467410Z",
     "shell.execute_reply": "2023-01-12T17:42:14.466487Z"
    },
    "papermill": {
     "duration": 0.025089,
     "end_time": "2023-01-12T17:42:14.469485",
     "exception": false,
     "start_time": "2023-01-12T17:42:14.444396",
     "status": "completed"
    },
    "tags": []
   },
   "outputs": [],
   "source": [
    "def dimred_umap(adata, layer=None, min_dist=0.5):\n",
    "    if layer is not None:\n",
    "        adata.layers['default_X'] = adata.X\n",
    "        adata.X = adata.layers[layer]\n",
    "    \n",
    "    sc.pp.pca(adata)\n",
    "    sc.pp.neighbors(adata, n_neighbors=50, metric='cosine')\n",
    "    sc.tl.umap(adata, min_dist=min_dist, spread=1.0, random_state=1, n_components=2)\n",
    "    #sc.pl.umap(adata, color=['well', condition_name], palette='cividis')\n",
    "    f = osm.pl.highlight_scatterplot(\n",
    "        data = adata,\n",
    "        obsm_key = \"X_umap\",\n",
    "        hue = condition_name,\n",
    "        col = condition_name,\n",
    "        palette = \"cividis\",\n",
    "        trim_axes=True,\n",
    "        height = 5,\n",
    "        scatter_kwargs = dict(s=5)\n",
    "    )\n",
    "\n",
    "    f.add_legend(markerscale=3)\n",
    "    \n",
    "    if layer is not None:\n",
    "        adata.X = adata.layers['default_X']"
   ]
  },
  {
   "cell_type": "code",
   "execution_count": null,
   "id": "93c1ec9a",
   "metadata": {
    "execution": {
     "iopub.execute_input": "2023-01-12T17:42:14.498539Z",
     "iopub.status.busy": "2023-01-12T17:42:14.497850Z",
     "iopub.status.idle": "2023-01-12T17:42:14.504871Z",
     "shell.execute_reply": "2023-01-12T17:42:14.503900Z"
    },
    "papermill": {
     "duration": 0.023769,
     "end_time": "2023-01-12T17:42:14.506935",
     "exception": false,
     "start_time": "2023-01-12T17:42:14.483166",
     "status": "completed"
    },
    "tags": []
   },
   "outputs": [],
   "source": [
    "def intermixing_layer(adata, adata_cor, condition_name, measures = ['X_pca', 'X_umap'], layer=None):\n",
    "    if layer is not None:\n",
    "        adata.layers['default_X'] = adata.X\n",
    "        adata.X = adata.layers[layer]\n",
    "        adata_cor.layers['default_X'] = adata_cor.X\n",
    "        adata_cor.X = adata_cor.layers[layer]\n",
    "    \n",
    "    summaries = intermixing({'uncorrected': adata, 'ISM correction': adata_cor}, condition_name = condition_name, measures = measures)\n",
    "    \n",
    "    if layer is not None:\n",
    "        adata.X = adata.layers['default_X']\n",
    "        adata_cor.X = adata_cor.layers['default_X']\n",
    "    \n",
    "    return\n",
    "    "
   ]
  },
  {
   "cell_type": "markdown",
   "id": "93dd3430",
   "metadata": {
    "papermill": {
     "duration": 0.014032,
     "end_time": "2023-01-12T17:42:14.534946",
     "exception": false,
     "start_time": "2023-01-12T17:42:14.520914",
     "status": "completed"
    },
    "tags": []
   },
   "source": [
    "The different options for scaling and transforming the data are shown in the following:\n",
    "\n",
    "1. raw values\n",
    "2. log transformation\n",
    "3. TIC normalization\n",
    "4. TIC normalization and log transformation\n",
    "5. normalization to a fixed count (10^4)\n",
    "6. normalization to a fixed count (10^4) and log transformation\n",
    "\n",
    "The normalization to a fixed count has a slightly different effect than TIC normalization. The former normalizes all counts per cell to the given target sum so that all cells from the uncorrected and the corrected set are scaled to this count. In contrast, the latter retains the differences between the datasets by normalizing to the median count across cells in a dataset."
   ]
  },
  {
   "cell_type": "code",
   "execution_count": null,
   "id": "e96a62cc",
   "metadata": {
    "execution": {
     "iopub.execute_input": "2023-01-12T17:42:14.564581Z",
     "iopub.status.busy": "2023-01-12T17:42:14.563905Z",
     "iopub.status.idle": "2023-01-12T17:54:18.962907Z",
     "shell.execute_reply": "2023-01-12T17:54:18.961782Z"
    },
    "papermill": {
     "duration": 724.417586,
     "end_time": "2023-01-12T17:54:18.966409",
     "exception": false,
     "start_time": "2023-01-12T17:42:14.548823",
     "status": "completed"
    },
    "tags": []
   },
   "outputs": [],
   "source": [
    "dimred_umap(adata, layer='raw_counts')\n",
    "dimred_umap(adata_cor, layer='raw_counts')\n",
    "intermixing_layer(adata, adata_cor, condition_name, measures = ['X_pca', 'X_umap'], layer='raw_counts')"
   ]
  },
  {
   "cell_type": "code",
   "execution_count": null,
   "id": "eebfdd8a",
   "metadata": {
    "execution": {
     "iopub.execute_input": "2023-01-12T17:54:19.096805Z",
     "iopub.status.busy": "2023-01-12T17:54:19.096054Z",
     "iopub.status.idle": "2023-01-12T18:03:39.335453Z",
     "shell.execute_reply": "2023-01-12T18:03:39.334240Z"
    },
    "papermill": {
     "duration": 560.305071,
     "end_time": "2023-01-12T18:03:39.337611",
     "exception": false,
     "start_time": "2023-01-12T17:54:19.032540",
     "status": "completed"
    },
    "tags": []
   },
   "outputs": [],
   "source": [
    "dimred_umap(adata, layer='log_raw_counts')\n",
    "dimred_umap(adata_cor, layer='log_raw_counts')\n",
    "intermixing_layer(adata, adata_cor, condition_name, measures = ['X_pca', 'X_umap'], layer='log_raw_counts')"
   ]
  },
  {
   "cell_type": "code",
   "execution_count": null,
   "id": "6db4dc16",
   "metadata": {
    "execution": {
     "iopub.execute_input": "2023-01-12T18:03:39.495925Z",
     "iopub.status.busy": "2023-01-12T18:03:39.494572Z",
     "iopub.status.idle": "2023-01-12T18:13:15.599897Z",
     "shell.execute_reply": "2023-01-12T18:13:15.598783Z"
    },
    "papermill": {
     "duration": 576.186858,
     "end_time": "2023-01-12T18:13:15.602643",
     "exception": false,
     "start_time": "2023-01-12T18:03:39.415785",
     "status": "completed"
    },
    "tags": []
   },
   "outputs": [],
   "source": [
    "dimred_umap(adata, layer='norm_counts')\n",
    "dimred_umap(adata_cor, layer='norm_counts')\n",
    "intermixing_layer(adata, adata_cor, condition_name, measures = ['X_pca', 'X_umap'], layer='norm_counts')"
   ]
  },
  {
   "cell_type": "code",
   "execution_count": null,
   "id": "77415a35",
   "metadata": {
    "execution": {
     "iopub.execute_input": "2023-01-12T18:13:15.811389Z",
     "iopub.status.busy": "2023-01-12T18:13:15.810206Z",
     "iopub.status.idle": "2023-01-12T18:22:39.090673Z",
     "shell.execute_reply": "2023-01-12T18:22:39.089517Z"
    },
    "papermill": {
     "duration": 563.386467,
     "end_time": "2023-01-12T18:22:39.093249",
     "exception": false,
     "start_time": "2023-01-12T18:13:15.706782",
     "status": "completed"
    },
    "tags": []
   },
   "outputs": [],
   "source": [
    "dimred_umap(adata, layer='log_norm_counts')\n",
    "dimred_umap(adata_cor, layer='log_norm_counts')\n",
    "intermixing_layer(adata, adata_cor, condition_name, measures = ['X_pca', 'X_umap'], layer='log_norm_counts')"
   ]
  },
  {
   "cell_type": "code",
   "execution_count": null,
   "id": "c87726d6",
   "metadata": {
    "execution": {
     "iopub.execute_input": "2023-01-12T18:22:39.323487Z",
     "iopub.status.busy": "2023-01-12T18:22:39.322382Z",
     "iopub.status.idle": "2023-01-12T18:31:57.748148Z",
     "shell.execute_reply": "2023-01-12T18:31:57.746962Z"
    },
    "papermill": {
     "duration": 558.542014,
     "end_time": "2023-01-12T18:31:57.750801",
     "exception": false,
     "start_time": "2023-01-12T18:22:39.208787",
     "status": "completed"
    },
    "tags": []
   },
   "outputs": [],
   "source": [
    "dimred_umap(adata, layer='1e4_norm_counts')\n",
    "dimred_umap(adata_cor, layer='1e4_norm_counts')\n",
    "intermixing_layer(adata, adata_cor, condition_name, measures = ['X_pca', 'X_umap'], layer='1e4_norm_counts')"
   ]
  },
  {
   "cell_type": "code",
   "execution_count": null,
   "id": "823fc858",
   "metadata": {
    "execution": {
     "iopub.execute_input": "2023-01-12T18:31:58.032421Z",
     "iopub.status.busy": "2023-01-12T18:31:58.031766Z",
     "iopub.status.idle": "2023-01-12T18:41:30.140486Z",
     "shell.execute_reply": "2023-01-12T18:41:30.139425Z"
    },
    "papermill": {
     "duration": 572.251252,
     "end_time": "2023-01-12T18:41:30.143056",
     "exception": false,
     "start_time": "2023-01-12T18:31:57.891804",
     "status": "completed"
    },
    "tags": []
   },
   "outputs": [],
   "source": [
    "dimred_umap(adata, layer='1e4_log_norm_counts')\n",
    "dimred_umap(adata_cor, layer='1e4_log_norm_counts')\n",
    "intermixing_layer(adata, adata_cor, condition_name, measures = ['X_pca', 'X_umap'], layer='1e4_log_norm_counts')"
   ]
  },
  {
   "cell_type": "markdown",
   "id": "d38383a6",
   "metadata": {
    "papermill": {
     "duration": 0.151899,
     "end_time": "2023-01-12T18:41:30.449173",
     "exception": false,
     "start_time": "2023-01-12T18:41:30.297274",
     "status": "completed"
    },
    "tags": []
   },
   "source": [
    "Before analysis, asserting that the two data files were deconvoluted in the same way. Specifically, the corrected dataframe cannot have non-zero values at positions where the uncorrected dataframe has zero values."
   ]
  },
  {
   "cell_type": "code",
   "execution_count": null,
   "id": "f47b5d15",
   "metadata": {
    "execution": {
     "iopub.execute_input": "2023-01-12T18:41:30.754499Z",
     "iopub.status.busy": "2023-01-12T18:41:30.753502Z",
     "iopub.status.idle": "2023-01-12T18:41:32.188244Z",
     "shell.execute_reply": "2023-01-12T18:41:32.187153Z"
    },
    "papermill": {
     "duration": 1.589948,
     "end_time": "2023-01-12T18:41:32.190813",
     "exception": false,
     "start_time": "2023-01-12T18:41:30.600865",
     "status": "completed"
    },
    "tags": []
   },
   "outputs": [],
   "source": [
    "assert not any(pd.Series(np.array((adata.to_df() == 0) & (adata_cor.to_df()!= 0)).flatten()))"
   ]
  },
  {
   "cell_type": "code",
   "execution_count": null,
   "id": "0479943c",
   "metadata": {
    "execution": {
     "iopub.execute_input": "2023-01-12T18:41:32.493195Z",
     "iopub.status.busy": "2023-01-12T18:41:32.492770Z",
     "iopub.status.idle": "2023-01-12T18:41:32.499296Z",
     "shell.execute_reply": "2023-01-12T18:41:32.498485Z"
    },
    "papermill": {
     "duration": 0.160226,
     "end_time": "2023-01-12T18:41:32.501486",
     "exception": false,
     "start_time": "2023-01-12T18:41:32.341260",
     "status": "completed"
    },
    "tags": []
   },
   "outputs": [],
   "source": [
    "adata.obs['correction'] = 'uncorrected'\n",
    "adata_cor.obs['correction'] = 'ISM correction'"
   ]
  },
  {
   "cell_type": "markdown",
   "id": "168e7300",
   "metadata": {
    "papermill": {
     "duration": 0.151689,
     "end_time": "2023-01-12T18:41:32.804701",
     "exception": false,
     "start_time": "2023-01-12T18:41:32.653012",
     "status": "completed"
    },
    "tags": []
   },
   "source": [
    "## Effects of the correction on different molecules\n",
    "\n",
    "The ISM correction is performed per ion on the logarithmized intensity / sampling proportion ratio. The underlying quantile regression can only be computed with a minimum number of datapoints. If an ion has less than 10 datapoints, the quantile regression is instead computed based on a reference pool of ions.\n",
    "In the following, the resulting slopes by which all ions have been corrected are visualized. Ions that were corrected using the reference pool are shown separately.\n"
   ]
  },
  {
   "cell_type": "code",
   "execution_count": null,
   "id": "0c16695f",
   "metadata": {
    "execution": {
     "iopub.execute_input": "2023-01-12T18:41:33.112647Z",
     "iopub.status.busy": "2023-01-12T18:41:33.111637Z",
     "iopub.status.idle": "2023-01-12T18:41:33.955244Z",
     "shell.execute_reply": "2023-01-12T18:41:33.954090Z"
    },
    "papermill": {
     "duration": 1.000816,
     "end_time": "2023-01-12T18:41:33.957831",
     "exception": false,
     "start_time": "2023-01-12T18:41:32.957015",
     "status": "completed"
    },
    "tags": []
   },
   "outputs": [],
   "source": [
    "grid = sns.FacetGrid(adata_cor.var[['mean_correction_quantreg_slope', 'corrected_only_using_pool']], col='corrected_only_using_pool', hue='corrected_only_using_pool', sharey=False)\n",
    "grid.map(sns.histplot, 'mean_correction_quantreg_slope', bins=30)\n",
    "cor_pool = list(adata_cor.var[adata_cor.var['corrected_only_using_pool'] == True].index)\n",
    "adata_cor.var['corrected_only_using_pool'].value_counts()"
   ]
  },
  {
   "cell_type": "markdown",
   "id": "8172fdae",
   "metadata": {
    "papermill": {
     "duration": 0.153304,
     "end_time": "2023-01-12T18:41:34.264856",
     "exception": false,
     "start_time": "2023-01-12T18:41:34.111552",
     "status": "completed"
    },
    "tags": []
   },
   "source": [
    "Based on the slopes of the correction but also the logfoldchanges between corrected and uncorrected cells, one can infer the extent of alteration of different metabolites in the correction. These measures not necessarily correlate, thus the degree of correction of ions has to be evaluated on individual datasets."
   ]
  },
  {
   "cell_type": "code",
   "execution_count": null,
   "id": "4020f6dd",
   "metadata": {
    "execution": {
     "iopub.execute_input": "2023-01-12T18:41:34.571920Z",
     "iopub.status.busy": "2023-01-12T18:41:34.570815Z",
     "iopub.status.idle": "2023-01-12T18:41:34.580639Z",
     "shell.execute_reply": "2023-01-12T18:41:34.579845Z"
    },
    "papermill": {
     "duration": 0.164352,
     "end_time": "2023-01-12T18:41:34.582833",
     "exception": false,
     "start_time": "2023-01-12T18:41:34.418481",
     "status": "completed"
    },
    "tags": []
   },
   "outputs": [],
   "source": [
    "import src.evaluation\n",
    "from importlib import reload\n",
    "reload(src.evaluation)\n",
    "from src.evaluation import MetaboliteAnalysis"
   ]
  },
  {
   "cell_type": "code",
   "execution_count": null,
   "id": "86d8608e",
   "metadata": {
    "execution": {
     "iopub.execute_input": "2023-01-12T18:41:34.890628Z",
     "iopub.status.busy": "2023-01-12T18:41:34.890216Z",
     "iopub.status.idle": "2023-01-12T18:42:24.641530Z",
     "shell.execute_reply": "2023-01-12T18:42:24.640625Z"
    },
    "papermill": {
     "duration": 49.908329,
     "end_time": "2023-01-12T18:42:24.644155",
     "exception": false,
     "start_time": "2023-01-12T18:41:34.735826",
     "status": "completed"
    },
    "tags": []
   },
   "outputs": [],
   "source": [
    "ma_raw = MetaboliteAnalysis(adata=adata, adata_cor=adata_cor, condition_name = condition_name, \n",
    "                        obs_columns = ['list_TPO'],\n",
    "                        var_columns = ['corrected_only_using_pool', 'mean_correction_quantreg_slope', \n",
    "                                       'n_cells','median_intensity', 'mean_intensity', 'sum_correction_using_ion_pool'],\n",
    "                       use_raw = True)"
   ]
  },
  {
   "cell_type": "code",
   "execution_count": null,
   "id": "1bdb9042",
   "metadata": {
    "execution": {
     "iopub.execute_input": "2023-01-12T18:42:24.952490Z",
     "iopub.status.busy": "2023-01-12T18:42:24.951530Z",
     "iopub.status.idle": "2023-01-12T18:42:36.821221Z",
     "shell.execute_reply": "2023-01-12T18:42:36.819986Z"
    },
    "papermill": {
     "duration": 12.039222,
     "end_time": "2023-01-12T18:42:36.836381",
     "exception": false,
     "start_time": "2023-01-12T18:42:24.797159",
     "status": "completed"
    },
    "tags": []
   },
   "outputs": [],
   "source": [
    "ma_raw.pair_plot(exclude_ref_corrected = False)"
   ]
  },
  {
   "cell_type": "code",
   "execution_count": null,
   "id": "802496f6",
   "metadata": {
    "execution": {
     "iopub.execute_input": "2023-01-12T18:42:37.189474Z",
     "iopub.status.busy": "2023-01-12T18:42:37.188507Z",
     "iopub.status.idle": "2023-01-12T18:42:38.248377Z",
     "shell.execute_reply": "2023-01-12T18:42:38.247229Z"
    },
    "papermill": {
     "duration": 1.238042,
     "end_time": "2023-01-12T18:42:38.252536",
     "exception": false,
     "start_time": "2023-01-12T18:42:37.014494",
     "status": "completed"
    },
    "tags": []
   },
   "outputs": [],
   "source": [
    "ma_raw.volcano_plot(exclude_ref_corrected = False)"
   ]
  },
  {
   "cell_type": "code",
   "execution_count": null,
   "id": "d41e48d2",
   "metadata": {
    "execution": {
     "iopub.execute_input": "2023-01-12T18:42:38.612232Z",
     "iopub.status.busy": "2023-01-12T18:42:38.611141Z",
     "iopub.status.idle": "2023-01-12T18:42:41.017213Z",
     "shell.execute_reply": "2023-01-12T18:42:41.016068Z"
    },
    "papermill": {
     "duration": 2.589751,
     "end_time": "2023-01-12T18:42:41.020992",
     "exception": false,
     "start_time": "2023-01-12T18:42:38.431241",
     "status": "completed"
    },
    "tags": []
   },
   "outputs": [],
   "source": [
    "sc.pl.rank_genes_groups_tracksplot(ma_raw.conc_adata, groupby='correction', dendrogram=False)"
   ]
  },
  {
   "cell_type": "code",
   "execution_count": null,
   "id": "0e0721d1",
   "metadata": {
    "execution": {
     "iopub.execute_input": "2023-01-12T18:42:41.387773Z",
     "iopub.status.busy": "2023-01-12T18:42:41.387345Z",
     "iopub.status.idle": "2023-01-12T18:42:41.427951Z",
     "shell.execute_reply": "2023-01-12T18:42:41.426729Z"
    },
    "papermill": {
     "duration": 0.227374,
     "end_time": "2023-01-12T18:42:41.430160",
     "exception": false,
     "start_time": "2023-01-12T18:42:41.202786",
     "status": "completed"
    },
    "tags": []
   },
   "outputs": [],
   "source": [
    "adata_cor.obs['n_pixels'] = [i.count(';')+1 for i in adata_cor.obs['list_TPO']]\n",
    "strat_cell_list = list(adata_cor.obs.groupby('n_pixels', group_keys=False).apply(lambda x: x.sample(1)).index)[:6]\n",
    "strat_cell_list"
   ]
  },
  {
   "cell_type": "markdown",
   "id": "7e50bfdb",
   "metadata": {
    "papermill": {
     "duration": 0.182103,
     "end_time": "2023-01-12T18:42:41.830691",
     "exception": false,
     "start_time": "2023-01-12T18:42:41.648588",
     "status": "completed"
    },
    "tags": []
   },
   "source": [
    "The following plot shows the metabolic profiles of sampled cell generated from 1 and increasing numbers of ablation marks. The first row has the uncorrected raw ion intensities, the second row the corrected raw ion intensities and the third row the correction ratio/quotient between the two ( $correction\\_ratio = \\frac{I_{corrected}}{I_{uncorrected}}$ ). Most ions have the same correction ratio in a given cells, some have a higher ratio (smaller slope, less ISM correction) and some have a lower ratio (steeper slope, stronger ISM correction). The distribution of ion-specific correction ratios in the same cells is shown, separately for self-corrected and pool-corrected ions, in density plots underneath the metabolic profiles. Black horizontal and vertical lines show the sampling proportion of all ablation marks that were combined to the respective cell. Especially from the density plots, it becomes obvious that the majority of ions have correction ratios that colocalize with the pixels' sampling ratios. This can be explained by the fact that most ions had a correction slope of ~-1, the pool-corrected ions had all the same slope close to -1. Thus, these ions are down-corrected by multiplying with ~1 times their sampling proportion. Since many ions seem to occur only in one of the underlying ablation marks, the distribution of correction ratios has prominent peaks and few values between them."
   ]
  },
  {
   "cell_type": "code",
   "execution_count": null,
   "id": "f0dc23e5",
   "metadata": {
    "execution": {
     "iopub.execute_input": "2023-01-12T18:42:42.196960Z",
     "iopub.status.busy": "2023-01-12T18:42:42.196194Z",
     "iopub.status.idle": "2023-01-12T18:44:38.774510Z",
     "shell.execute_reply": "2023-01-12T18:44:38.773424Z"
    },
    "papermill": {
     "duration": 116.76557,
     "end_time": "2023-01-12T18:44:38.778853",
     "exception": false,
     "start_time": "2023-01-12T18:42:42.013283",
     "status": "completed"
    },
    "tags": []
   },
   "outputs": [],
   "source": [
    "ma_raw.quotient_plot(show_cells=strat_cell_list)"
   ]
  },
  {
   "cell_type": "code",
   "execution_count": null,
   "id": "18160871",
   "metadata": {
    "execution": {
     "iopub.execute_input": "2023-01-12T18:44:39.180508Z",
     "iopub.status.busy": "2023-01-12T18:44:39.179391Z",
     "iopub.status.idle": "2023-01-12T18:45:02.686263Z",
     "shell.execute_reply": "2023-01-12T18:45:02.685237Z"
    },
    "papermill": {
     "duration": 23.711852,
     "end_time": "2023-01-12T18:45:02.689671",
     "exception": false,
     "start_time": "2023-01-12T18:44:38.977819",
     "status": "completed"
    },
    "tags": []
   },
   "outputs": [],
   "source": [
    "ma_raw.top_ion_plot()"
   ]
  },
  {
   "cell_type": "code",
   "execution_count": null,
   "id": "7e16191d",
   "metadata": {
    "execution": {
     "iopub.execute_input": "2023-01-12T18:45:03.116429Z",
     "iopub.status.busy": "2023-01-12T18:45:03.115426Z",
     "iopub.status.idle": "2023-01-12T18:46:21.980705Z",
     "shell.execute_reply": "2023-01-12T18:46:21.979421Z"
    },
    "papermill": {
     "duration": 79.081041,
     "end_time": "2023-01-12T18:46:21.983323",
     "exception": false,
     "start_time": "2023-01-12T18:45:02.902282",
     "status": "completed"
    },
    "tags": []
   },
   "outputs": [],
   "source": [
    "_ = ma_raw.save_matrix(save_to_path = analysis_path, safe_to_name = project, save_figures=6)"
   ]
  },
  {
   "cell_type": "markdown",
   "id": "f382110a",
   "metadata": {
    "papermill": {
     "duration": 0.314311,
     "end_time": "2023-01-12T18:46:22.561027",
     "exception": false,
     "start_time": "2023-01-12T18:46:22.246716",
     "status": "completed"
    },
    "tags": []
   },
   "source": [
    "The same analysis is then carried out for the TIC-corrected and log-transformed data: Here, the differences between uncorrected and ISM-corrected data are much more subtle. This corresponds better with the UMAPs further down, as they also show very little noticebly differences between uncorrected and ISM-corrected datasets."
   ]
  },
  {
   "cell_type": "code",
   "execution_count": null,
   "id": "f6414008",
   "metadata": {
    "execution": {
     "iopub.execute_input": "2023-01-12T18:46:23.065302Z",
     "iopub.status.busy": "2023-01-12T18:46:23.064771Z",
     "iopub.status.idle": "2023-01-12T18:47:16.622847Z",
     "shell.execute_reply": "2023-01-12T18:47:16.621702Z"
    },
    "papermill": {
     "duration": 53.841069,
     "end_time": "2023-01-12T18:47:16.625580",
     "exception": false,
     "start_time": "2023-01-12T18:46:22.784511",
     "status": "completed"
    },
    "tags": []
   },
   "outputs": [],
   "source": [
    "ma = MetaboliteAnalysis(adata=adata, adata_cor=adata_cor, condition_name = condition_name, \n",
    "                        obs_columns = ['list_TPO'],\n",
    "                        var_columns = ['corrected_only_using_pool', 'mean_correction_quantreg_slope', \n",
    "                                       'n_cells','median_intensity', 'mean_intensity', 'sum_correction_using_ion_pool'],\n",
    "                       use_raw = False)"
   ]
  },
  {
   "cell_type": "code",
   "execution_count": null,
   "id": "b8ba3bf5",
   "metadata": {
    "execution": {
     "iopub.execute_input": "2023-01-12T18:47:17.055660Z",
     "iopub.status.busy": "2023-01-12T18:47:17.055234Z",
     "iopub.status.idle": "2023-01-12T18:47:19.165096Z",
     "shell.execute_reply": "2023-01-12T18:47:19.164006Z"
    },
    "papermill": {
     "duration": 2.326752,
     "end_time": "2023-01-12T18:47:19.168521",
     "exception": false,
     "start_time": "2023-01-12T18:47:16.841769",
     "status": "completed"
    },
    "tags": []
   },
   "outputs": [],
   "source": [
    "sc.pl.rank_genes_groups_tracksplot(ma.conc_adata, groupby='correction', dendrogram=False)"
   ]
  },
  {
   "cell_type": "code",
   "execution_count": null,
   "id": "c1b5b560",
   "metadata": {
    "execution": {
     "iopub.execute_input": "2023-01-12T18:47:19.606336Z",
     "iopub.status.busy": "2023-01-12T18:47:19.605366Z",
     "iopub.status.idle": "2023-01-12T18:49:14.780157Z",
     "shell.execute_reply": "2023-01-12T18:49:14.779094Z"
    },
    "papermill": {
     "duration": 115.397668,
     "end_time": "2023-01-12T18:49:14.785706",
     "exception": false,
     "start_time": "2023-01-12T18:47:19.388038",
     "status": "completed"
    },
    "tags": []
   },
   "outputs": [],
   "source": [
    "ma.quotient_plot(show_cells=strat_cell_list)"
   ]
  },
  {
   "cell_type": "code",
   "execution_count": null,
   "id": "61b8e401",
   "metadata": {
    "execution": {
     "iopub.execute_input": "2023-01-12T18:49:15.251106Z",
     "iopub.status.busy": "2023-01-12T18:49:15.250674Z",
     "iopub.status.idle": "2023-01-12T18:49:38.346542Z",
     "shell.execute_reply": "2023-01-12T18:49:38.345512Z"
    },
    "papermill": {
     "duration": 23.3303,
     "end_time": "2023-01-12T18:49:38.350179",
     "exception": false,
     "start_time": "2023-01-12T18:49:15.019879",
     "status": "completed"
    },
    "tags": []
   },
   "outputs": [],
   "source": [
    "ma.top_ion_plot()"
   ]
  },
  {
   "cell_type": "markdown",
   "id": "b7b6e691",
   "metadata": {
    "papermill": {
     "duration": 0.26268,
     "end_time": "2023-01-12T18:49:38.862110",
     "exception": false,
     "start_time": "2023-01-12T18:49:38.599430",
     "status": "completed"
    },
    "tags": []
   },
   "source": [
    "## Comparison of the datasets\n",
    "\n",
    "In the following, the uncorrected and ISM-corrected datasets are compared using methods of a typical single-cell analysis. Unless specified otherwise, the data was preprocessed using TOC normalization and log transformation."
   ]
  },
  {
   "cell_type": "code",
   "execution_count": null,
   "id": "779d9ae4",
   "metadata": {
    "execution": {
     "iopub.execute_input": "2023-01-12T18:49:39.395553Z",
     "iopub.status.busy": "2023-01-12T18:49:39.394399Z",
     "iopub.status.idle": "2023-01-12T18:49:49.569521Z",
     "shell.execute_reply": "2023-01-12T18:49:49.568444Z"
    },
    "papermill": {
     "duration": 10.446689,
     "end_time": "2023-01-12T18:49:49.571853",
     "exception": false,
     "start_time": "2023-01-12T18:49:39.125164",
     "status": "completed"
    },
    "tags": []
   },
   "outputs": [],
   "source": [
    "def dimred_pca(adata):\n",
    "    sc.pp.pca(adata)\n",
    "    sc.pl.pca_overview(adata, color=['well', condition_name], palette='cividis')\n",
    "\n",
    "dimred_pca(adata)\n",
    "dimred_pca(adata_cor)"
   ]
  },
  {
   "cell_type": "code",
   "execution_count": null,
   "id": "31fda607",
   "metadata": {
    "execution": {
     "iopub.execute_input": "2023-01-12T18:49:50.265195Z",
     "iopub.status.busy": "2023-01-12T18:49:50.264454Z",
     "iopub.status.idle": "2023-01-12T18:51:30.362332Z",
     "shell.execute_reply": "2023-01-12T18:51:30.361232Z"
    },
    "papermill": {
     "duration": 100.449855,
     "end_time": "2023-01-12T18:51:30.367908",
     "exception": false,
     "start_time": "2023-01-12T18:49:49.918053",
     "status": "completed"
    },
    "tags": []
   },
   "outputs": [],
   "source": [
    "dimred_umap(adata)\n",
    "dimred_umap(adata_cor)"
   ]
  },
  {
   "cell_type": "code",
   "execution_count": null,
   "id": "dc126845",
   "metadata": {
    "execution": {
     "iopub.execute_input": "2023-01-12T18:51:31.082100Z",
     "iopub.status.busy": "2023-01-12T18:51:31.081583Z",
     "iopub.status.idle": "2023-01-12T18:51:31.087233Z",
     "shell.execute_reply": "2023-01-12T18:51:31.086203Z"
    },
    "papermill": {
     "duration": 0.366382,
     "end_time": "2023-01-12T18:51:31.089368",
     "exception": false,
     "start_time": "2023-01-12T18:51:30.722986",
     "status": "completed"
    },
    "tags": []
   },
   "outputs": [],
   "source": [
    "# from sklearn.metrics.cluster import completeness_score\n",
    "# from sklearn.metrics import accuracy_score, silhouette_score\n",
    "# \n",
    "# def kmeans_clust(adata):\n",
    "#     n_clusters = len(adata.obs[condition_name].value_counts())\n",
    "#     kmeans = KMeans(n_clusters=n_clusters, random_state=0).fit(adata.X)\n",
    "#     adata.obs['kmeans'] = kmeans.labels_.astype(str)\n",
    "# \n",
    "#     sc.tl.leiden(adata, resolution=2)\n",
    "# \n",
    "#     leiden = np.array(adata.obs['leiden'].values)\n",
    "#     leiden_curated = np.copy(leiden)\n",
    "#     fc = np.array(adata.obs[condition_name].values)\n",
    "#     for cluster in np.unique(leiden):\n",
    "#         labels, counts = np.unique(fc[leiden == cluster], return_counts=True)\n",
    "#         leiden_curated[leiden == cluster] = str(labels[counts == np.max(counts)][0])\n",
    "#     adata.obs['leiden_curated'] = leiden_curated\n",
    "# \n",
    "#     sc.pl.umap(adata, color=['kmeans', 'leiden', 'leiden_curated', condition_name], palette='cividis')\n",
    "#     # print('Leiden acccuracy score: %1.4f' % accuracy_score(y_true = adata.obs[condition_name].replace(['HeLa', 'NIH3T3'], ['0', '1']), y_pred = adata.obs['leiden']))\n",
    "#     print('Curated leiden acccuracy score: %1.4f' % accuracy_score(y_true = adata.obs[condition_name], y_pred = adata.obs['leiden_curated']))\n",
    "#     print('KMeans completeness score: %1.4f' % completeness_score(adata.obs[condition_name], adata.obs['kmeans']))\n",
    "#     print('KMeans silhouette coefficient: %1.4f' % silhouette_score(adata.X, adata.obs['kmeans']))\n",
    "# \n",
    "# kmeans_clust(adata)\n",
    "# kmeans_clust(adata_cor)\n",
    "# "
   ]
  },
  {
   "cell_type": "code",
   "execution_count": null,
   "id": "e0a4f3e7",
   "metadata": {
    "execution": {
     "iopub.execute_input": "2023-01-12T18:51:31.806453Z",
     "iopub.status.busy": "2023-01-12T18:51:31.805643Z",
     "iopub.status.idle": "2023-01-12T19:02:13.677410Z",
     "shell.execute_reply": "2023-01-12T19:02:13.676406Z"
    },
    "papermill": {
     "duration": 642.388535,
     "end_time": "2023-01-12T19:02:13.834848",
     "exception": false,
     "start_time": "2023-01-12T18:51:31.446313",
     "status": "completed"
    },
    "tags": []
   },
   "outputs": [],
   "source": [
    "summaries = intermixing({'uncorrected': adata, 'ISM correction': adata_cor}, condition_name = condition_name, measures = ['X_pca', 'X_umap'])"
   ]
  },
  {
   "cell_type": "code",
   "execution_count": null,
   "id": "15a6f5f5",
   "metadata": {
    "execution": {
     "iopub.execute_input": "2023-01-12T19:02:14.610041Z",
     "iopub.status.busy": "2023-01-12T19:02:14.608969Z",
     "iopub.status.idle": "2023-01-12T19:05:12.202531Z",
     "shell.execute_reply": "2023-01-12T19:05:12.201535Z"
    },
    "papermill": {
     "duration": 177.977091,
     "end_time": "2023-01-12T19:05:12.205956",
     "exception": false,
     "start_time": "2023-01-12T19:02:14.228865",
     "status": "completed"
    },
    "tags": []
   },
   "outputs": [],
   "source": [
    "s = intermixing(\n",
    "    adata_dict = {'uncorrected': adata, 'ISM correction': adata_cor},\n",
    "    condition_name = condition_name,\n",
    "    sample_frac=0.1,\n",
    "    measures =['X_umap', 'X_pca'],\n",
    "    n_datapoints = 50,\n",
    "    sample_log = True,\n",
    "    neighborhood_size = None,\n",
    "    normalized = False,\n",
    "    show_table = [],\n",
    "    n_jobs = multiprocessing.cpu_count()\n",
    ")"
   ]
  },
  {
   "cell_type": "code",
   "execution_count": null,
   "id": "f353f3bb",
   "metadata": {
    "execution": {
     "iopub.execute_input": "2023-01-12T19:05:12.940498Z",
     "iopub.status.busy": "2023-01-12T19:05:12.939220Z",
     "iopub.status.idle": "2023-01-12T19:05:12.948197Z",
     "shell.execute_reply": "2023-01-12T19:05:12.947167Z"
    },
    "papermill": {
     "duration": 0.383364,
     "end_time": "2023-01-12T19:05:12.950354",
     "exception": false,
     "start_time": "2023-01-12T19:05:12.566990",
     "status": "completed"
    },
    "tags": []
   },
   "outputs": [],
   "source": [
    "from scipy.integrate import trapz, simps\n",
    "\n",
    "def auc_intermixing(summary_dict):\n",
    "    for name, data in summary_dict.items():\n",
    "        print('Area under the curve for %s: %1.4f'%(name, trapz(data['mean'], data.index) / max(data.index)))\n",
    "\n",
    "\n",
    "auc_intermixing(s[1])"
   ]
  },
  {
   "cell_type": "code",
   "execution_count": null,
   "id": "fb6dab61",
   "metadata": {
    "execution": {
     "iopub.execute_input": "2023-01-12T19:05:13.704058Z",
     "iopub.status.busy": "2023-01-12T19:05:13.703081Z",
     "iopub.status.idle": "2023-01-12T19:05:13.716163Z",
     "shell.execute_reply": "2023-01-12T19:05:13.715253Z"
    },
    "papermill": {
     "duration": 0.388381,
     "end_time": "2023-01-12T19:05:13.718373",
     "exception": false,
     "start_time": "2023-01-12T19:05:13.329992",
     "status": "completed"
    },
    "tags": []
   },
   "outputs": [],
   "source": [
    "from sklearn.svm import LinearSVC\n",
    "\n",
    "def analyse_svm_margin(adata, adata_cor, condition_name, layer=None):\n",
    "    print(layer)\n",
    "    if layer is not None:\n",
    "        adata.layers['default_X'] = adata.X\n",
    "        adata.X = adata.layers[layer]\n",
    "        adata_cor.layers['default_X'] = adata_cor.X\n",
    "        adata_cor.X = adata_cor.layers[layer]\n",
    "    \n",
    "    def get_svm_margin(adata, condition_name, size_factor = 1):\n",
    "        predictors = adata.X * size_factor\n",
    "        result = adata.obs[condition_name]\n",
    "        clf = LinearSVC(random_state=0, dual=False)\n",
    "        clf.fit(predictors, result)  \n",
    "        margin_df = pd.DataFrame({'condition': clf.classes_, 'margin': 1 / np.sqrt(np.sum(clf.coef_**2, axis=1))})\n",
    "\n",
    "        #print(margin_df)\n",
    "        return margin_df\n",
    "    \n",
    "    size_factor = np.sum(adata.X) / np.sum(adata_cor.X)\n",
    "\n",
    "    df = pd.merge(get_svm_margin(adata, condition_name), \n",
    "                  get_svm_margin(adata_cor, condition_name, size_factor = size_factor), \n",
    "                  on='condition', suffixes=['_uncorrected', '_ISM_corrected'])\n",
    "    sns.set(rc={\"figure.figsize\":(12, 5)})\n",
    "    sns.barplot(df.melt(id_vars='condition', var_name='correction', value_name='margin'), \n",
    "                x='condition', y='margin', hue='correction').set_title('Comparison of SVM margins for layer %s'%layer)\n",
    "    \n",
    "    \n",
    "    \n",
    "    if layer is not None:\n",
    "        adata.X = adata.layers['default_X']\n",
    "        adata_cor.X = adata_cor.layers['default_X']\n",
    "   "
   ]
  },
  {
   "cell_type": "code",
   "execution_count": null,
   "id": "d152a0ef",
   "metadata": {
    "execution": {
     "iopub.execute_input": "2023-01-12T19:05:14.445869Z",
     "iopub.status.busy": "2023-01-12T19:05:14.444894Z",
     "iopub.status.idle": "2023-01-12T19:05:17.291447Z",
     "shell.execute_reply": "2023-01-12T19:05:17.290248Z"
    },
    "papermill": {
     "duration": 3.209566,
     "end_time": "2023-01-12T19:05:17.293850",
     "exception": false,
     "start_time": "2023-01-12T19:05:14.084284",
     "status": "completed"
    },
    "tags": []
   },
   "outputs": [],
   "source": [
    "analyse_svm_margin(adata, adata_cor, condition_name, layer='log_norm_counts')"
   ]
  },
  {
   "cell_type": "code",
   "execution_count": null,
   "id": "9db20d71",
   "metadata": {
    "execution": {
     "iopub.execute_input": "2023-01-12T19:05:18.024367Z",
     "iopub.status.busy": "2023-01-12T19:05:18.023624Z",
     "iopub.status.idle": "2023-01-12T19:05:20.843194Z",
     "shell.execute_reply": "2023-01-12T19:05:20.841790Z"
    },
    "papermill": {
     "duration": 3.186561,
     "end_time": "2023-01-12T19:05:20.845506",
     "exception": false,
     "start_time": "2023-01-12T19:05:17.658945",
     "status": "completed"
    },
    "tags": []
   },
   "outputs": [],
   "source": [
    "analyse_svm_margin(adata, adata_cor, condition_name, layer='log_norm_counts')"
   ]
  }
 ],
 "metadata": {
  "kernelspec": {
   "display_name": "Python 3 (ipykernel)",
   "language": "python",
   "name": "python3"
  },
  "language_info": {
   "codemirror_mode": {
    "name": "ipython",
    "version": 3
   },
   "file_extension": ".py",
   "mimetype": "text/x-python",
   "name": "python",
   "nbconvert_exporter": "python",
   "pygments_lexer": "ipython3",
   "version": "3.10.8"
  },
  "papermill": {
   "default_parameters": {},
   "duration": 5008.047484,
   "end_time": "2023-01-12T19:05:25.120970",
   "environment_variables": {},
   "exception": null,
   "input_path": "analysis/Lx_Pancreatic_Cancer/pipeline_03_evaluation.ipynb",
   "output_path": "analysis/Lx_Pancreatic_Cancer/pipeline_03_evaluation.ipynb",
   "parameters": {
    "analysis_path": "/home/mklein/FDA_project/analysis/Lx_Pancreatic_Cancer",
    "condition_name": "condition",
    "notebooks": [
     "pipeline_01_correction.ipynb",
     "pipeline_02_processing.ipynb",
     "pipeline_03_evaluation.ipynb"
    ],
    "project": "Lx_Pancreatic_Cancer",
    "source_path": "/home/mklein/Raw Data/2022-01-31_PancreaticCancer",
    "target_path": "/home/mklein/FDA_project/data/Lx_Pancreatic_Cancer",
    "well_name": "slide_well"
   },
   "start_time": "2023-01-12T17:41:57.073486",
   "version": "2.3.4"
  },
  "vscode": {
   "interpreter": {
    "hash": "89b4449ee30f46b148fb6825d70934bcbb1ebdb6d5b2015fe3835362773c7289"
   }
  }
 },
 "nbformat": 4,
 "nbformat_minor": 5
}
