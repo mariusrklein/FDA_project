{
 "cells": [
  {
   "cell_type": "markdown",
   "id": "0925a47b",
   "metadata": {
    "papermill": {
     "duration": 0.013989,
     "end_time": "2023-01-16T11:35:31.068566",
     "exception": false,
     "start_time": "2023-01-16T11:35:31.054577",
     "status": "completed"
    },
    "tags": []
   },
   "source": [
    "# Lx_Pancreatic_Cancer: Evaluation\n",
    "\n",
    "In this notebook, different measures are investigated to quantify the effect of correcting SpaceM ion intensity data for partial pixel-cell overlap.\n",
    "Moreover, The effects of the correction on different metabolites is visualized.\n",
    " "
   ]
  },
  {
   "cell_type": "code",
   "execution_count": null,
   "id": "6c3e0897",
   "metadata": {
    "papermill": {
     "duration": 8.360605,
     "end_time": "2023-01-16T11:35:39.442975",
     "exception": false,
     "start_time": "2023-01-16T11:35:31.082370",
     "status": "completed"
    },
    "tags": []
   },
   "outputs": [],
   "source": [
    "import platform\n",
    "import os\n",
    "import multiprocessing\n",
    "import numpy as np\n",
    "import pandas as pd\n",
    "import anndata as ad\n",
    "import scanpy as sc\n",
    "import seaborn as sns\n",
    "from sklearn.cluster import KMeans\n",
    "import re\n",
    "import outer_spacem as osm\n",
    "import sys\n",
    "sys.path.append('/home/mklein/spacem')\n",
    "sys.path.append('/Volumes/mklein/spacem')\n",
    "sys.path.append('/home/mklein/FDA_project')\n",
    "from src.correction import *\n",
    "from src.evaluation import intermixing, MetaboliteAnalysis\n",
    "\n",
    "%matplotlib inline\n",
    "%config InlineBackend.figure_formats = ['retina']"
   ]
  },
  {
   "cell_type": "code",
   "execution_count": null,
   "id": "4940b9fe",
   "metadata": {
    "papermill": {
     "duration": 0.02524,
     "end_time": "2023-01-16T11:35:39.482133",
     "exception": false,
     "start_time": "2023-01-16T11:35:39.456893",
     "status": "completed"
    },
    "tags": [
     "parameters"
    ]
   },
   "outputs": [],
   "source": [
    "if platform.system() == \"Darwin\":\n",
    "    target_path = '/Volumes/mklein/FDA_project/data/Lx_Glioblastoma'\n",
    "    if True:\n",
    "        target_path = '/Users/mariusklein/Local_Project_Files/FDA_project/data/Lx_Glioblastoma'\n",
    "\n",
    "else:\n",
    "    target_path = '/home/mklein/FDA_project/data/Lx_Glioblastoma'\n",
    "\n",
    "condition_name = 'condition'\n",
    "well_name = 'rowcol'\n",
    "project = 'Lx_Glioblastoma'\n",
    "analysis_path = target_path"
   ]
  },
  {
   "cell_type": "code",
   "execution_count": null,
   "id": "d2c31904",
   "metadata": {
    "papermill": {
     "duration": 0.024384,
     "end_time": "2023-01-16T11:35:39.519708",
     "exception": false,
     "start_time": "2023-01-16T11:35:39.495324",
     "status": "completed"
    },
    "tags": [
     "injected-parameters"
    ]
   },
   "outputs": [],
   "source": [
    "# Parameters\n",
    "source_path = \"/home/mklein/Raw Data/2022-01-31_PancreaticCancer\"\n",
    "target_path = \"/home/mklein/FDA_project/data/Lx_Pancreatic_Cancer\"\n",
    "condition_name = \"condition\"\n",
    "well_name = \"slide_well\"\n",
    "analysis_path = \"/home/mklein/FDA_project/analysis/Lx_Pancreatic_Cancer\"\n",
    "notebooks = [\n",
    "    \"pipeline_01_correction.ipynb\",\n",
    "    \"pipeline_02_processing.ipynb\",\n",
    "    \"pipeline_03_evaluation.ipynb\",\n",
    "]\n",
    "project = \"Lx_Pancreatic_Cancer\"\n"
   ]
  },
  {
   "cell_type": "markdown",
   "id": "082dec30",
   "metadata": {
    "papermill": {
     "duration": 0.013363,
     "end_time": "2023-01-16T11:35:39.547093",
     "exception": false,
     "start_time": "2023-01-16T11:35:39.533730",
     "status": "completed"
    },
    "tags": []
   },
   "source": [
    "Loading the uncorrected and ISM-corrected dataset from file. Additionally, loading the metadata CSV file to filter out excluded wells."
   ]
  },
  {
   "cell_type": "code",
   "execution_count": null,
   "id": "05a8c269",
   "metadata": {
    "papermill": {
     "duration": 3.482734,
     "end_time": "2023-01-16T11:35:43.043024",
     "exception": false,
     "start_time": "2023-01-16T11:35:39.560290",
     "status": "completed"
    },
    "tags": []
   },
   "outputs": [],
   "source": [
    "adata = ad.read(os.path.join(target_path, \"gen_batch_sm_matrix.h5ad\"))\n",
    "adata_cor = ad.read(os.path.join(target_path, \"corrected_batch_sm_matrix.h5ad\"))"
   ]
  },
  {
   "cell_type": "code",
   "execution_count": null,
   "id": "53d49c7a",
   "metadata": {
    "papermill": {
     "duration": 0.502841,
     "end_time": "2023-01-16T11:35:43.560087",
     "exception": false,
     "start_time": "2023-01-16T11:35:43.057246",
     "status": "completed"
    },
    "tags": []
   },
   "outputs": [],
   "source": [
    "metadata_path = os.path.join(target_path, 'metadata.csv')\n",
    "samples = list(set(adata.obs['well']))\n",
    "\n",
    "if os.path.exists(metadata_path):\n",
    "    metadata = pd.read_csv(metadata_path)\n",
    "    if well_name not in metadata.columns:\n",
    "        if \"row\" in metadata.columns and \"col\" in metadata.columns:\n",
    "            metadata[well_name] = metadata['row'].astype(str) + metadata['col'].astype(str)\n",
    "        elif \"slide\" in metadata.columns and \"well\" in metadata.columns:\n",
    "            metadata[well_name] = \"S\" + metadata['slide'].astype(str) + \"_W\" + metadata['well'].astype(str)\n",
    "        else:\n",
    "            raise Exception(\"Could not find condition column in metadata file and no default composition worked.\")\n",
    "    samples = list(metadata[well_name])\n",
    "\n",
    "def assign_conditions(adata):\n",
    "    index = adata.obs.index.name\n",
    "    new_obs = adata.obs.reset_index()\n",
    "    \n",
    "    new_obs = pd.merge(new_obs, metadata[[well_name, condition_name]], \n",
    "                       how='inner', left_on='well', right_on=well_name).set_index(index)\n",
    "    \n",
    "    adata = adata[new_obs.index, :].copy()\n",
    "    adata.obs = new_obs\n",
    "    if 'keep_conditions' in globals():\n",
    "        adata = adata[adata.obs[condition_name].isin(keep_conditions), :].copy()\n",
    "    return adata\n",
    "\n",
    "adata = assign_conditions(adata)\n",
    "adata_cor = assign_conditions(adata_cor)"
   ]
  },
  {
   "cell_type": "code",
   "execution_count": null,
   "id": "1cd4a253",
   "metadata": {
    "papermill": {
     "duration": 0.099449,
     "end_time": "2023-01-16T11:35:43.673706",
     "exception": false,
     "start_time": "2023-01-16T11:35:43.574257",
     "status": "completed"
    },
    "tags": []
   },
   "outputs": [],
   "source": [
    "pd.crosstab(adata.obs['well'], adata.obs[condition_name], margins=True)"
   ]
  },
  {
   "cell_type": "code",
   "execution_count": null,
   "id": "e44ccf24",
   "metadata": {
    "papermill": {
     "duration": 0.972364,
     "end_time": "2023-01-16T11:35:44.660981",
     "exception": false,
     "start_time": "2023-01-16T11:35:43.688617",
     "status": "completed"
    },
    "tags": []
   },
   "outputs": [],
   "source": [
    "included_molecules = adata.var_names.intersection(adata_cor.var_names)\n",
    "included_cells = adata.obs_names.intersection(adata_cor.obs_names)\n",
    "\n",
    "def subset_molecules(adata):\n",
    "    \n",
    "    return adata[included_cells, included_molecules].copy()\n",
    "\n",
    "adata = subset_molecules(adata)\n",
    "adata_cor = subset_molecules(adata_cor)\n",
    "\n",
    "print(adata.shape)\n",
    "print(adata_cor.shape)"
   ]
  },
  {
   "cell_type": "markdown",
   "id": "f5a4cf21",
   "metadata": {
    "papermill": {
     "duration": 0.014067,
     "end_time": "2023-01-16T11:35:44.692438",
     "exception": false,
     "start_time": "2023-01-16T11:35:44.678371",
     "status": "completed"
    },
    "tags": []
   },
   "source": [
    "First of all, the loaded datasets are filtered:\n",
    "\n",
    "- cells need non-zero intensities for at least 10 ions.\n",
    "- ions need non-zero intensities for at least 200 cells.\n",
    "\n",
    "After that, the sets are preprocessed in different ways:\n",
    "\n",
    "- intensties are normalized to TIC and/or log-transformed (log(x+1))\n",
    "\n",
    "After that, both datasets are subset to contain the same ions and cells (intersection)."
   ]
  },
  {
   "cell_type": "code",
   "execution_count": null,
   "id": "50fa3086",
   "metadata": {
    "papermill": {
     "duration": 3.051869,
     "end_time": "2023-01-16T11:35:47.758192",
     "exception": false,
     "start_time": "2023-01-16T11:35:44.706323",
     "status": "completed"
    },
    "tags": []
   },
   "outputs": [],
   "source": [
    "def preprocess(adata):\n",
    "    \n",
    "    sc.pp.filter_cells(adata, min_genes=10)\n",
    "    sc.pp.filter_genes(adata, min_cells=200)\n",
    "    adata.raw = adata\n",
    "    adata.layers[\"raw_counts\"] = adata.X.copy()\n",
    "    # sc.pp.scale(adata)\n",
    "    adata.layers[\"norm_counts\"] = sc.pp.normalize_total(adata, layer='raw_counts', target_sum=None, inplace=False)['X']\n",
    "    adata.layers[\"1e4_norm_counts\"] = sc.pp.normalize_total(adata, layer='raw_counts', target_sum=1e4, inplace=False)['X']\n",
    "    \n",
    "    adata.layers[\"log_raw_counts\"] = sc.pp.log1p(adata.layers[\"raw_counts\"], copy=True)\n",
    "    adata.layers[\"log_norm_counts\"] = sc.pp.log1p(adata.layers[\"norm_counts\"], copy=True)\n",
    "    adata.layers[\"1e4_log_norm_counts\"] = sc.pp.log1p(adata.layers[\"1e4_norm_counts\"], copy=True)\n",
    "    adata.X = adata.layers[\"log_norm_counts\"]\n",
    "    \n",
    "    adata.var['median_intensity'] = np.median(adata.X, axis=0)\n",
    "    adata.var['mean_intensity'] = np.mean(adata.X, axis=0)\n",
    "    # adata_x = adata.X.copy()\n",
    "    # adata_x[adata_x == 0] = np.nan\n",
    "    # adata.var['median_intensity_nonzero'] = np.nanmedian(adata_x, axis=0)\n",
    "    \n",
    "    \n",
    "preprocess(adata)\n",
    "preprocess(adata_cor)\n",
    "\n",
    "print(adata.shape)\n",
    "print(adata_cor.shape)"
   ]
  },
  {
   "cell_type": "code",
   "execution_count": null,
   "id": "239bf7f1",
   "metadata": {
    "papermill": {
     "duration": 0.029074,
     "end_time": "2023-01-16T11:35:47.803251",
     "exception": false,
     "start_time": "2023-01-16T11:35:47.774177",
     "status": "completed"
    },
    "tags": []
   },
   "outputs": [],
   "source": [
    "def dimred_umap(adata, layer=None, min_dist=0.5, label=\"\"):\n",
    "    if layer is not None:\n",
    "        adata.layers['default_X'] = adata.X\n",
    "        adata.X = adata.layers[layer]\n",
    "    \n",
    "    sc.pp.pca(adata)\n",
    "    # sc.pp.neighbors(adata, n_neighbors=50, metric='cosine')\n",
    "    sc.external.pp.bbknn(adata, batch_key = 'dataset_2')\n",
    "    sc.tl.umap(adata, min_dist=min_dist, spread=1.0, random_state=1, n_components=2)\n",
    "    # sc.pp.neighbors(adata, random_state=12345)\n",
    "    # sc.tl.umap(adata, random_state=12345)\n",
    "    sc.pl.umap(adata, color=['well', condition_name], palette='cividis', title=['well', label])\n",
    "    f = osm.pl.highlight_scatterplot(\n",
    "        data = adata,\n",
    "        obsm_key = \"X_umap\",\n",
    "        hue = condition_name,\n",
    "        col = condition_name,\n",
    "        palette = \"cividis\",\n",
    "        trim_axes=True,\n",
    "        height = 3,\n",
    "        scatter_kwargs = dict(s=5)\n",
    "    )\n",
    "\n",
    "    f.add_legend(markerscale=3)\n",
    "    \n",
    "    if layer is not None:\n",
    "        adata.X = adata.layers['default_X']"
   ]
  },
  {
   "cell_type": "code",
   "execution_count": null,
   "id": "93c1ec9a",
   "metadata": {
    "papermill": {
     "duration": 0.027222,
     "end_time": "2023-01-16T11:35:47.845059",
     "exception": false,
     "start_time": "2023-01-16T11:35:47.817837",
     "status": "completed"
    },
    "tags": []
   },
   "outputs": [],
   "source": [
    "def intermixing_layer(adata, adata_cor, condition_name, measures = ['X_pca', 'X_umap'], layer=None):\n",
    "    if layer is not None:\n",
    "        adata.layers['default_X'] = adata.X\n",
    "        adata.X = adata.layers[layer]\n",
    "        adata_cor.layers['default_X'] = adata_cor.X\n",
    "        adata_cor.X = adata_cor.layers[layer]\n",
    "    \n",
    "    summaries = intermixing({'uncorrected': adata, 'ISM correction': adata_cor}, condition_name = condition_name, measures = measures)\n",
    "    \n",
    "    if layer is not None:\n",
    "        adata.X = adata.layers['default_X']\n",
    "        adata_cor.X = adata_cor.layers['default_X']\n",
    "    \n",
    "    return\n",
    "    "
   ]
  },
  {
   "cell_type": "markdown",
   "id": "93dd3430",
   "metadata": {
    "papermill": {
     "duration": 0.013972,
     "end_time": "2023-01-16T11:35:47.873148",
     "exception": false,
     "start_time": "2023-01-16T11:35:47.859176",
     "status": "completed"
    },
    "tags": []
   },
   "source": [
    "The different options for scaling and transforming the data are shown in the following:\n",
    "\n",
    "1. raw values\n",
    "2. log transformation\n",
    "3. TIC normalization\n",
    "4. TIC normalization and log transformation\n",
    "5. normalization to a fixed count (10^4)\n",
    "6. normalization to a fixed count (10^4) and log transformation\n",
    "\n",
    "The normalization to a fixed count has a slightly different effect than TIC normalization. The former normalizes all counts per cell to the given target sum so that all cells from the uncorrected and the corrected set are scaled to this count. In contrast, the latter retains the differences between the datasets by normalizing to the median count across cells in a dataset."
   ]
  },
  {
   "cell_type": "code",
   "execution_count": null,
   "id": "e96a62cc",
   "metadata": {
    "execution": {
     "iopub.execute_input": "2023-01-16T11:35:47.903625Z",
     "iopub.status.busy": "2023-01-16T11:35:47.902814Z",
     "iopub.status.idle": "2023-01-16T11:35:47.908885Z",
     "shell.execute_reply": "2023-01-16T11:35:47.907064Z"
    },
    "papermill": {
     "duration": 0.024323,
     "end_time": "2023-01-16T11:35:47.911548",
     "exception": false,
     "start_time": "2023-01-16T11:35:47.887225",
     "status": "completed"
    },
    "tags": []
   },
   "outputs": [],
   "source": [
    "# dimred_umap(adata, layer='raw_counts')\n",
    "# dimred_umap(adata_cor, layer='raw_counts')\n",
    "# intermixing_layer(adata, adata_cor, condition_name, measures = ['X_pca', 'X_umap'], layer='raw_counts')"
   ]
  },
  {
   "cell_type": "code",
   "execution_count": null,
   "id": "eebfdd8a",
   "metadata": {
    "execution": {
     "iopub.execute_input": "2023-01-16T11:35:47.942102Z",
     "iopub.status.busy": "2023-01-16T11:35:47.941650Z",
     "iopub.status.idle": "2023-01-16T11:35:47.947293Z",
     "shell.execute_reply": "2023-01-16T11:35:47.945623Z"
    },
    "papermill": {
     "duration": 0.024144,
     "end_time": "2023-01-16T11:35:47.950079",
     "exception": false,
     "start_time": "2023-01-16T11:35:47.925935",
     "status": "completed"
    },
    "tags": []
   },
   "outputs": [],
   "source": [
    "# dimred_umap(adata, layer='log_raw_counts')\n",
    "# dimred_umap(adata_cor, layer='log_raw_counts')\n",
    "# intermixing_layer(adata, adata_cor, condition_name, measures = ['X_pca', 'X_umap'], layer='log_raw_counts')"
   ]
  },
  {
   "cell_type": "code",
   "execution_count": null,
   "id": "6db4dc16",
   "metadata": {
    "execution": {
     "iopub.execute_input": "2023-01-16T11:35:47.980675Z",
     "iopub.status.busy": "2023-01-16T11:35:47.979950Z",
     "iopub.status.idle": "2023-01-16T11:35:47.985965Z",
     "shell.execute_reply": "2023-01-16T11:35:47.984179Z"
    },
    "papermill": {
     "duration": 0.023897,
     "end_time": "2023-01-16T11:35:47.988625",
     "exception": false,
     "start_time": "2023-01-16T11:35:47.964728",
     "status": "completed"
    },
    "tags": []
   },
   "outputs": [],
   "source": [
    "# dimred_umap(adata, layer='norm_counts')\n",
    "# dimred_umap(adata_cor, layer='norm_counts')\n",
    "# intermixing_layer(adata, adata_cor, condition_name, measures = ['X_pca', 'X_umap'], layer='norm_counts')"
   ]
  },
  {
   "cell_type": "code",
   "execution_count": null,
   "id": "77415a35",
   "metadata": {
    "execution": {
     "iopub.execute_input": "2023-01-16T11:35:48.018973Z",
     "iopub.status.busy": "2023-01-16T11:35:48.017864Z",
     "iopub.status.idle": "2023-01-16T11:57:48.541737Z",
     "shell.execute_reply": "2023-01-16T11:57:48.540578Z"
    },
    "papermill": {
     "duration": 1320.542524,
     "end_time": "2023-01-16T11:57:48.545263",
     "exception": false,
     "start_time": "2023-01-16T11:35:48.002739",
     "status": "completed"
    },
    "tags": []
   },
   "outputs": [],
   "source": [
    "dimred_umap(adata, layer='log_norm_counts', label=\"uncorrected\")\n",
    "dimred_umap(adata_cor, layer='log_norm_counts', label=\"ISM correction\")\n",
    "intermixing_layer(adata, adata_cor, condition_name, measures = ['X_pca', 'X_umap'], layer='log_norm_counts')"
   ]
  },
  {
   "cell_type": "code",
   "execution_count": null,
   "id": "c87726d6",
   "metadata": {
    "execution": {
     "iopub.execute_input": "2023-01-16T11:57:48.650479Z",
     "iopub.status.busy": "2023-01-16T11:57:48.649666Z",
     "iopub.status.idle": "2023-01-16T11:57:48.655133Z",
     "shell.execute_reply": "2023-01-16T11:57:48.653857Z"
    },
    "papermill": {
     "duration": 0.057849,
     "end_time": "2023-01-16T11:57:48.657718",
     "exception": false,
     "start_time": "2023-01-16T11:57:48.599869",
     "status": "completed"
    },
    "tags": []
   },
   "outputs": [],
   "source": [
    "# dimred_umap(adata, layer='1e4_norm_counts')\n",
    "# dimred_umap(adata_cor, layer='1e4_norm_counts')\n",
    "# intermixing_layer(adata, adata_cor, condition_name, measures = ['X_pca', 'X_umap'], layer='1e4_norm_counts')"
   ]
  },
  {
   "cell_type": "code",
   "execution_count": null,
   "id": "823fc858",
   "metadata": {
    "papermill": {
     "duration": 1080.330582,
     "end_time": "2023-01-16T12:15:49.038067",
     "exception": false,
     "start_time": "2023-01-16T11:57:48.707485",
     "status": "completed"
    },
    "tags": []
   },
   "outputs": [],
   "source": [
    "dimred_umap(adata, layer='1e4_log_norm_counts', label=\"uncorrected\")\n",
    "dimred_umap(adata_cor, layer='1e4_log_norm_counts', label=\"ISM correction\")\n",
    "intermixing_layer(adata, adata_cor, condition_name, measures = ['X_pca', 'X_umap'], layer='1e4_log_norm_counts')"
   ]
  },
  {
   "cell_type": "markdown",
   "id": "d38383a6",
   "metadata": {
    "papermill": {
     "duration": 0.086085,
     "end_time": "2023-01-16T12:15:49.212750",
     "exception": false,
     "start_time": "2023-01-16T12:15:49.126665",
     "status": "completed"
    },
    "tags": []
   },
   "source": [
    "Before analysis, asserting that the two data files were deconvoluted in the same way. Specifically, the corrected dataframe cannot have non-zero values at positions where the uncorrected dataframe has zero values."
   ]
  },
  {
   "cell_type": "code",
   "execution_count": null,
   "id": "f47b5d15",
   "metadata": {
    "execution": {
     "iopub.execute_input": "2023-01-16T12:15:49.386700Z",
     "iopub.status.busy": "2023-01-16T12:15:49.386261Z",
     "iopub.status.idle": "2023-01-16T12:15:50.788261Z",
     "shell.execute_reply": "2023-01-16T12:15:50.786940Z"
    },
    "papermill": {
     "duration": 1.492395,
     "end_time": "2023-01-16T12:15:50.791259",
     "exception": false,
     "start_time": "2023-01-16T12:15:49.298864",
     "status": "completed"
    },
    "tags": []
   },
   "outputs": [],
   "source": [
    "assert not any(pd.Series(np.array((adata.to_df() == 0) & (adata_cor.to_df()!= 0)).flatten()))"
   ]
  },
  {
   "cell_type": "code",
   "execution_count": null,
   "id": "0479943c",
   "metadata": {
    "execution": {
     "iopub.execute_input": "2023-01-16T12:15:50.965711Z",
     "iopub.status.busy": "2023-01-16T12:15:50.964822Z",
     "iopub.status.idle": "2023-01-16T12:15:50.973612Z",
     "shell.execute_reply": "2023-01-16T12:15:50.972132Z"
    },
    "papermill": {
     "duration": 0.099079,
     "end_time": "2023-01-16T12:15:50.976357",
     "exception": false,
     "start_time": "2023-01-16T12:15:50.877278",
     "status": "completed"
    },
    "tags": []
   },
   "outputs": [],
   "source": [
    "adata.obs['correction'] = 'uncorrected'\n",
    "adata_cor.obs['correction'] = 'ISM correction'"
   ]
  },
  {
   "cell_type": "markdown",
   "id": "168e7300",
   "metadata": {
    "papermill": {
     "duration": 0.084701,
     "end_time": "2023-01-16T12:15:51.147251",
     "exception": false,
     "start_time": "2023-01-16T12:15:51.062550",
     "status": "completed"
    },
    "tags": []
   },
   "source": [
    "## Effects of the correction on different molecules\n",
    "\n",
    "The ISM correction is performed per ion on the logarithmized intensity / sampling proportion ratio. The underlying quantile regression can only be computed with a minimum number of datapoints. If an ion has less than 10 datapoints, the quantile regression is instead computed based on a reference pool of ions.\n",
    "In the following, the resulting slopes by which all ions have been corrected are visualized. Ions that were corrected using the reference pool are shown separately.\n"
   ]
  },
  {
   "cell_type": "code",
   "execution_count": null,
   "id": "0c16695f",
   "metadata": {
    "execution": {
     "iopub.execute_input": "2023-01-16T12:15:51.320305Z",
     "iopub.status.busy": "2023-01-16T12:15:51.319873Z",
     "iopub.status.idle": "2023-01-16T12:15:52.217586Z",
     "shell.execute_reply": "2023-01-16T12:15:52.216338Z"
    },
    "papermill": {
     "duration": 0.986909,
     "end_time": "2023-01-16T12:15:52.220376",
     "exception": false,
     "start_time": "2023-01-16T12:15:51.233467",
     "status": "completed"
    },
    "tags": []
   },
   "outputs": [],
   "source": [
    "grid = sns.FacetGrid(adata_cor.var[['mean_correction_quantreg_slope', 'corrected_only_using_pool']], col='corrected_only_using_pool', hue='corrected_only_using_pool', sharey=False)\n",
    "grid.map(sns.histplot, 'mean_correction_quantreg_slope', bins=30)\n",
    "cor_pool = list(adata_cor.var[adata_cor.var['corrected_only_using_pool'] == True].index)\n",
    "adata_cor.var['corrected_only_using_pool'].value_counts()"
   ]
  },
  {
   "cell_type": "markdown",
   "id": "8172fdae",
   "metadata": {
    "papermill": {
     "duration": 0.085139,
     "end_time": "2023-01-16T12:15:52.392744",
     "exception": false,
     "start_time": "2023-01-16T12:15:52.307605",
     "status": "completed"
    },
    "tags": []
   },
   "source": [
    "Based on the slopes of the correction but also the logfoldchanges between corrected and uncorrected cells, one can infer the extent of alteration of different metabolites in the correction. These measures not necessarily correlate, thus the degree of correction of ions has to be evaluated on individual datasets."
   ]
  },
  {
   "cell_type": "code",
   "execution_count": null,
   "id": "4020f6dd",
   "metadata": {
    "execution": {
     "iopub.execute_input": "2023-01-16T12:15:52.567885Z",
     "iopub.status.busy": "2023-01-16T12:15:52.567390Z",
     "iopub.status.idle": "2023-01-16T12:15:52.576605Z",
     "shell.execute_reply": "2023-01-16T12:15:52.575487Z"
    },
    "papermill": {
     "duration": 0.099187,
     "end_time": "2023-01-16T12:15:52.579238",
     "exception": false,
     "start_time": "2023-01-16T12:15:52.480051",
     "status": "completed"
    },
    "tags": []
   },
   "outputs": [],
   "source": [
    "import src.evaluation\n",
    "from importlib import reload\n",
    "reload(src.evaluation)\n",
    "from src.evaluation import MetaboliteAnalysis"
   ]
  },
  {
   "cell_type": "code",
   "execution_count": null,
   "id": "86d8608e",
   "metadata": {
    "execution": {
     "iopub.execute_input": "2023-01-16T12:15:52.754207Z",
     "iopub.status.busy": "2023-01-16T12:15:52.753492Z",
     "iopub.status.idle": "2023-01-16T12:16:40.293836Z",
     "shell.execute_reply": "2023-01-16T12:16:40.292490Z"
    },
    "papermill": {
     "duration": 47.630834,
     "end_time": "2023-01-16T12:16:40.296747",
     "exception": false,
     "start_time": "2023-01-16T12:15:52.665913",
     "status": "completed"
    },
    "tags": []
   },
   "outputs": [],
   "source": [
    "ma_raw = MetaboliteAnalysis(adata=adata, adata_cor=adata_cor, condition_name = condition_name, \n",
    "                        obs_columns = ['list_TPO'],\n",
    "                        var_columns = ['corrected_only_using_pool', 'mean_correction_quantreg_slope', \n",
    "                                       'n_cells','median_intensity', 'mean_intensity', 'sum_correction_using_ion_pool'],\n",
    "                       use_raw = True)"
   ]
  },
  {
   "cell_type": "code",
   "execution_count": null,
   "id": "1bdb9042",
   "metadata": {
    "execution": {
     "iopub.execute_input": "2023-01-16T12:16:40.474787Z",
     "iopub.status.busy": "2023-01-16T12:16:40.473662Z",
     "iopub.status.idle": "2023-01-16T12:16:47.975878Z",
     "shell.execute_reply": "2023-01-16T12:16:47.974837Z"
    },
    "papermill": {
     "duration": 7.602814,
     "end_time": "2023-01-16T12:16:47.987535",
     "exception": false,
     "start_time": "2023-01-16T12:16:40.384721",
     "status": "completed"
    },
    "tags": []
   },
   "outputs": [],
   "source": [
    "ma_raw.pair_plot(exclude_ref_corrected = False)"
   ]
  },
  {
   "cell_type": "code",
   "execution_count": null,
   "id": "802496f6",
   "metadata": {
    "execution": {
     "iopub.execute_input": "2023-01-16T12:16:48.201340Z",
     "iopub.status.busy": "2023-01-16T12:16:48.200295Z",
     "iopub.status.idle": "2023-01-16T12:16:49.296356Z",
     "shell.execute_reply": "2023-01-16T12:16:49.295267Z"
    },
    "papermill": {
     "duration": 1.20811,
     "end_time": "2023-01-16T12:16:49.301262",
     "exception": false,
     "start_time": "2023-01-16T12:16:48.093152",
     "status": "completed"
    },
    "tags": []
   },
   "outputs": [],
   "source": [
    "ma_raw.volcano_plot(exclude_ref_corrected = False)"
   ]
  },
  {
   "cell_type": "code",
   "execution_count": null,
   "id": "d41e48d2",
   "metadata": {
    "execution": {
     "iopub.execute_input": "2023-01-16T12:16:49.525811Z",
     "iopub.status.busy": "2023-01-16T12:16:49.525003Z",
     "iopub.status.idle": "2023-01-16T12:16:51.654904Z",
     "shell.execute_reply": "2023-01-16T12:16:51.653654Z"
    },
    "papermill": {
     "duration": 2.247068,
     "end_time": "2023-01-16T12:16:51.659313",
     "exception": false,
     "start_time": "2023-01-16T12:16:49.412245",
     "status": "completed"
    },
    "tags": []
   },
   "outputs": [],
   "source": [
    "sc.pl.rank_genes_groups_tracksplot(ma_raw.conc_adata, groupby='correction', dendrogram=False)"
   ]
  },
  {
   "cell_type": "code",
   "execution_count": null,
   "id": "0e0721d1",
   "metadata": {
    "execution": {
     "iopub.execute_input": "2023-01-16T12:16:51.888070Z",
     "iopub.status.busy": "2023-01-16T12:16:51.887145Z",
     "iopub.status.idle": "2023-01-16T12:16:51.931371Z",
     "shell.execute_reply": "2023-01-16T12:16:51.930145Z"
    },
    "papermill": {
     "duration": 0.15954,
     "end_time": "2023-01-16T12:16:51.933748",
     "exception": false,
     "start_time": "2023-01-16T12:16:51.774208",
     "status": "completed"
    },
    "tags": []
   },
   "outputs": [],
   "source": [
    "adata_cor.obs['n_pixels'] = [i.count(';')+1 for i in adata_cor.obs['list_TPO']]\n",
    "strat_cell_list = list(adata_cor.obs.groupby('n_pixels', group_keys=False).apply(lambda x: x.sample(1)).index)[:6]\n",
    "strat_cell_list"
   ]
  },
  {
   "cell_type": "markdown",
   "id": "7e50bfdb",
   "metadata": {
    "papermill": {
     "duration": 0.113775,
     "end_time": "2023-01-16T12:16:52.160575",
     "exception": false,
     "start_time": "2023-01-16T12:16:52.046800",
     "status": "completed"
    },
    "tags": []
   },
   "source": [
    "The following plot shows the metabolic profiles of sampled cell generated from 1 and increasing numbers of ablation marks. The first row has the uncorrected raw ion intensities, the second row the corrected raw ion intensities and the third row the correction ratio/quotient between the two ( $correction\\_ratio = \\frac{I_{corrected}}{I_{uncorrected}}$ ). Most ions have the same correction ratio in a given cells, some have a higher ratio (smaller slope, less ISM correction) and some have a lower ratio (steeper slope, stronger ISM correction). The distribution of ion-specific correction ratios in the same cells is shown, separately for self-corrected and pool-corrected ions, in density plots underneath the metabolic profiles. Black horizontal and vertical lines show the sampling proportion of all ablation marks that were combined to the respective cell. Especially from the density plots, it becomes obvious that the majority of ions have correction ratios that colocalize with the pixels' sampling ratios. This can be explained by the fact that most ions had a correction slope of ~-1, the pool-corrected ions had all the same slope close to -1. Thus, these ions are down-corrected by multiplying with ~1 times their sampling proportion. Since many ions seem to occur only in one of the underlying ablation marks, the distribution of correction ratios has prominent peaks and few values between them."
   ]
  },
  {
   "cell_type": "code",
   "execution_count": null,
   "id": "f0dc23e5",
   "metadata": {
    "execution": {
     "iopub.execute_input": "2023-01-16T12:16:52.391512Z",
     "iopub.status.busy": "2023-01-16T12:16:52.390551Z",
     "iopub.status.idle": "2023-01-16T12:18:57.632042Z",
     "shell.execute_reply": "2023-01-16T12:18:57.630959Z"
    },
    "papermill": {
     "duration": 125.362034,
     "end_time": "2023-01-16T12:18:57.636364",
     "exception": false,
     "start_time": "2023-01-16T12:16:52.274330",
     "status": "completed"
    },
    "tags": []
   },
   "outputs": [],
   "source": [
    "ma_raw.quotient_plot(show_cells=strat_cell_list)"
   ]
  },
  {
   "cell_type": "code",
   "execution_count": null,
   "id": "18160871",
   "metadata": {
    "execution": {
     "iopub.execute_input": "2023-01-16T12:18:57.888103Z",
     "iopub.status.busy": "2023-01-16T12:18:57.887477Z",
     "iopub.status.idle": "2023-01-16T12:19:21.588266Z",
     "shell.execute_reply": "2023-01-16T12:19:21.587123Z"
    },
    "papermill": {
     "duration": 23.829566,
     "end_time": "2023-01-16T12:19:21.592621",
     "exception": false,
     "start_time": "2023-01-16T12:18:57.763055",
     "status": "completed"
    },
    "tags": []
   },
   "outputs": [],
   "source": [
    "ma_raw.top_ion_plot()"
   ]
  },
  {
   "cell_type": "code",
   "execution_count": null,
   "id": "7e16191d",
   "metadata": {
    "execution": {
     "iopub.execute_input": "2023-01-16T12:19:21.881350Z",
     "iopub.status.busy": "2023-01-16T12:19:21.880228Z",
     "iopub.status.idle": "2023-01-16T12:20:38.083984Z",
     "shell.execute_reply": "2023-01-16T12:20:38.082714Z"
    },
    "papermill": {
     "duration": 76.349286,
     "end_time": "2023-01-16T12:20:38.087518",
     "exception": false,
     "start_time": "2023-01-16T12:19:21.738232",
     "status": "completed"
    },
    "tags": []
   },
   "outputs": [],
   "source": [
    "_ = ma_raw.save_matrix(save_to_path = analysis_path, safe_to_name = project, save_figures=6)"
   ]
  },
  {
   "cell_type": "markdown",
   "id": "f382110a",
   "metadata": {
    "papermill": {
     "duration": 0.204574,
     "end_time": "2023-01-16T12:20:38.503675",
     "exception": false,
     "start_time": "2023-01-16T12:20:38.299101",
     "status": "completed"
    },
    "tags": []
   },
   "source": [
    "The same analysis is then carried out for the TIC-corrected and log-transformed data: Here, the differences between uncorrected and ISM-corrected data are much more subtle. This corresponds better with the UMAPs further down, as they also show very little noticebly differences between uncorrected and ISM-corrected datasets."
   ]
  },
  {
   "cell_type": "code",
   "execution_count": null,
   "id": "f6414008",
   "metadata": {
    "execution": {
     "iopub.execute_input": "2023-01-16T12:20:38.918811Z",
     "iopub.status.busy": "2023-01-16T12:20:38.918273Z",
     "iopub.status.idle": "2023-01-16T12:21:34.408729Z",
     "shell.execute_reply": "2023-01-16T12:21:34.407579Z"
    },
    "papermill": {
     "duration": 55.699464,
     "end_time": "2023-01-16T12:21:34.411677",
     "exception": false,
     "start_time": "2023-01-16T12:20:38.712213",
     "status": "completed"
    },
    "tags": []
   },
   "outputs": [],
   "source": [
    "ma = MetaboliteAnalysis(adata=adata, adata_cor=adata_cor, condition_name = condition_name, \n",
    "                        obs_columns = ['list_TPO'],\n",
    "                        var_columns = ['corrected_only_using_pool', 'mean_correction_quantreg_slope', \n",
    "                                       'n_cells','median_intensity', 'mean_intensity', 'sum_correction_using_ion_pool'],\n",
    "                       use_raw = False)"
   ]
  },
  {
   "cell_type": "code",
   "execution_count": null,
   "id": "b8ba3bf5",
   "metadata": {
    "execution": {
     "iopub.execute_input": "2023-01-16T12:21:34.694526Z",
     "iopub.status.busy": "2023-01-16T12:21:34.693537Z",
     "iopub.status.idle": "2023-01-16T12:21:36.816423Z",
     "shell.execute_reply": "2023-01-16T12:21:36.812496Z"
    },
    "papermill": {
     "duration": 2.265168,
     "end_time": "2023-01-16T12:21:36.818900",
     "exception": false,
     "start_time": "2023-01-16T12:21:34.553732",
     "status": "completed"
    },
    "tags": []
   },
   "outputs": [],
   "source": [
    "sc.pl.rank_genes_groups_tracksplot(ma.conc_adata, groupby='correction', dendrogram=False)"
   ]
  },
  {
   "cell_type": "code",
   "execution_count": null,
   "id": "c1b5b560",
   "metadata": {
    "execution": {
     "iopub.execute_input": "2023-01-16T12:21:37.115142Z",
     "iopub.status.busy": "2023-01-16T12:21:37.114519Z",
     "iopub.status.idle": "2023-01-16T12:23:42.463578Z",
     "shell.execute_reply": "2023-01-16T12:23:42.462496Z"
    },
    "papermill": {
     "duration": 125.498737,
     "end_time": "2023-01-16T12:23:42.468249",
     "exception": false,
     "start_time": "2023-01-16T12:21:36.969512",
     "status": "completed"
    },
    "tags": []
   },
   "outputs": [],
   "source": [
    "ma.quotient_plot(show_cells=strat_cell_list)"
   ]
  },
  {
   "cell_type": "code",
   "execution_count": null,
   "id": "61b8e401",
   "metadata": {
    "execution": {
     "iopub.execute_input": "2023-01-16T12:23:42.790943Z",
     "iopub.status.busy": "2023-01-16T12:23:42.789701Z",
     "iopub.status.idle": "2023-01-16T12:24:05.553971Z",
     "shell.execute_reply": "2023-01-16T12:24:05.552895Z"
    },
    "papermill": {
     "duration": 22.929355,
     "end_time": "2023-01-16T12:24:05.557885",
     "exception": false,
     "start_time": "2023-01-16T12:23:42.628530",
     "status": "completed"
    },
    "tags": []
   },
   "outputs": [],
   "source": [
    "ma.top_ion_plot()"
   ]
  },
  {
   "cell_type": "markdown",
   "id": "b7b6e691",
   "metadata": {
    "papermill": {
     "duration": 0.169524,
     "end_time": "2023-01-16T12:24:05.902113",
     "exception": false,
     "start_time": "2023-01-16T12:24:05.732589",
     "status": "completed"
    },
    "tags": []
   },
   "source": [
    "## Comparison of the datasets\n",
    "\n",
    "In the following, the uncorrected and ISM-corrected datasets are compared using methods of a typical single-cell analysis. Unless specified otherwise, the data was preprocessed using TOC normalization and log transformation."
   ]
  },
  {
   "cell_type": "code",
   "execution_count": null,
   "id": "779d9ae4",
   "metadata": {
    "execution": {
     "iopub.execute_input": "2023-01-16T12:24:06.233694Z",
     "iopub.status.busy": "2023-01-16T12:24:06.233068Z",
     "iopub.status.idle": "2023-01-16T12:24:18.534406Z",
     "shell.execute_reply": "2023-01-16T12:24:18.533192Z"
    },
    "papermill": {
     "duration": 12.469687,
     "end_time": "2023-01-16T12:24:18.537149",
     "exception": false,
     "start_time": "2023-01-16T12:24:06.067462",
     "status": "completed"
    },
    "tags": []
   },
   "outputs": [],
   "source": [
    "def dimred_pca(adata):\n",
    "    sc.pp.pca(adata)\n",
    "    sc.pl.pca_overview(adata, color=['well', condition_name], palette='cividis')\n",
    "\n",
    "dimred_pca(adata)\n",
    "dimred_pca(adata_cor)"
   ]
  },
  {
   "cell_type": "code",
   "execution_count": null,
   "id": "31fda607",
   "metadata": {
    "execution": {
     "iopub.execute_input": "2023-01-16T12:24:19.062793Z",
     "iopub.status.busy": "2023-01-16T12:24:19.062021Z",
     "iopub.status.idle": "2023-01-16T12:26:05.169236Z",
     "shell.execute_reply": "2023-01-16T12:26:05.168164Z"
    },
    "papermill": {
     "duration": 106.371164,
     "end_time": "2023-01-16T12:26:05.172831",
     "exception": false,
     "start_time": "2023-01-16T12:24:18.801667",
     "status": "completed"
    },
    "tags": []
   },
   "outputs": [],
   "source": [
    "dimred_umap(adata)\n",
    "dimred_umap(adata_cor)"
   ]
  },
  {
   "cell_type": "code",
   "execution_count": null,
   "id": "dc126845",
   "metadata": {
    "execution": {
     "iopub.execute_input": "2023-01-16T12:26:05.764647Z",
     "iopub.status.busy": "2023-01-16T12:26:05.763890Z",
     "iopub.status.idle": "2023-01-16T12:26:05.770742Z",
     "shell.execute_reply": "2023-01-16T12:26:05.768978Z"
    },
    "papermill": {
     "duration": 0.297583,
     "end_time": "2023-01-16T12:26:05.773975",
     "exception": false,
     "start_time": "2023-01-16T12:26:05.476392",
     "status": "completed"
    },
    "tags": []
   },
   "outputs": [],
   "source": [
    "# from sklearn.metrics.cluster import completeness_score\n",
    "# from sklearn.metrics import accuracy_score, silhouette_score\n",
    "# \n",
    "# def kmeans_clust(adata):\n",
    "#     n_clusters = len(adata.obs[condition_name].value_counts())\n",
    "#     kmeans = KMeans(n_clusters=n_clusters, random_state=0).fit(adata.X)\n",
    "#     adata.obs['kmeans'] = kmeans.labels_.astype(str)\n",
    "# \n",
    "#     sc.tl.leiden(adata, resolution=2)\n",
    "# \n",
    "#     leiden = np.array(adata.obs['leiden'].values)\n",
    "#     leiden_curated = np.copy(leiden)\n",
    "#     fc = np.array(adata.obs[condition_name].values)\n",
    "#     for cluster in np.unique(leiden):\n",
    "#         labels, counts = np.unique(fc[leiden == cluster], return_counts=True)\n",
    "#         leiden_curated[leiden == cluster] = str(labels[counts == np.max(counts)][0])\n",
    "#     adata.obs['leiden_curated'] = leiden_curated\n",
    "# \n",
    "#     sc.pl.umap(adata, color=['kmeans', 'leiden', 'leiden_curated', condition_name], palette='cividis')\n",
    "#     # print('Leiden acccuracy score: %1.4f' % accuracy_score(y_true = adata.obs[condition_name].replace(['HeLa', 'NIH3T3'], ['0', '1']), y_pred = adata.obs['leiden']))\n",
    "#     print('Curated leiden acccuracy score: %1.4f' % accuracy_score(y_true = adata.obs[condition_name], y_pred = adata.obs['leiden_curated']))\n",
    "#     print('KMeans completeness score: %1.4f' % completeness_score(adata.obs[condition_name], adata.obs['kmeans']))\n",
    "#     print('KMeans silhouette coefficient: %1.4f' % silhouette_score(adata.X, adata.obs['kmeans']))\n",
    "# \n",
    "# kmeans_clust(adata)\n",
    "# kmeans_clust(adata_cor)\n",
    "# "
   ]
  },
  {
   "cell_type": "code",
   "execution_count": null,
   "id": "e0a4f3e7",
   "metadata": {
    "execution": {
     "iopub.execute_input": "2023-01-16T12:26:06.345612Z",
     "iopub.status.busy": "2023-01-16T12:26:06.344834Z",
     "iopub.status.idle": "2023-01-16T12:45:52.520667Z",
     "shell.execute_reply": "2023-01-16T12:45:52.519502Z"
    },
    "papermill": {
     "duration": 1186.515003,
     "end_time": "2023-01-16T12:45:52.574586",
     "exception": false,
     "start_time": "2023-01-16T12:26:06.059583",
     "status": "completed"
    },
    "tags": []
   },
   "outputs": [],
   "source": [
    "summaries = intermixing({'uncorrected': adata, 'ISM correction': adata_cor}, condition_name = condition_name, measures = ['X_pca', 'X_umap'])"
   ]
  },
  {
   "cell_type": "code",
   "execution_count": null,
   "id": "15a6f5f5",
   "metadata": {
    "execution": {
     "iopub.execute_input": "2023-01-16T12:45:53.169655Z",
     "iopub.status.busy": "2023-01-16T12:45:53.169129Z",
     "iopub.status.idle": "2023-01-16T12:51:18.000545Z",
     "shell.execute_reply": "2023-01-16T12:51:17.999418Z"
    },
    "papermill": {
     "duration": 325.129448,
     "end_time": "2023-01-16T12:51:18.004455",
     "exception": false,
     "start_time": "2023-01-16T12:45:52.875007",
     "status": "completed"
    },
    "tags": []
   },
   "outputs": [],
   "source": [
    "s = intermixing(\n",
    "    adata_dict = {'uncorrected': adata, 'ISM correction': adata_cor},\n",
    "    condition_name = condition_name,\n",
    "    sample_frac=0.1,\n",
    "    measures =['X_umap', 'X_pca'],\n",
    "    n_datapoints = 50,\n",
    "    sample_log = True,\n",
    "    neighborhood_size = None,\n",
    "    normalized = False,\n",
    "    show_table = [],\n",
    "    n_jobs = multiprocessing.cpu_count()\n",
    ")"
   ]
  },
  {
   "cell_type": "code",
   "execution_count": null,
   "id": "f353f3bb",
   "metadata": {
    "execution": {
     "iopub.execute_input": "2023-01-16T12:51:18.601381Z",
     "iopub.status.busy": "2023-01-16T12:51:18.600518Z",
     "iopub.status.idle": "2023-01-16T12:51:18.609123Z",
     "shell.execute_reply": "2023-01-16T12:51:18.607863Z"
    },
    "papermill": {
     "duration": 0.303254,
     "end_time": "2023-01-16T12:51:18.611741",
     "exception": false,
     "start_time": "2023-01-16T12:51:18.308487",
     "status": "completed"
    },
    "tags": []
   },
   "outputs": [],
   "source": [
    "from scipy.integrate import trapz, simps\n",
    "\n",
    "def auc_intermixing(summary_dict):\n",
    "    for name, data in summary_dict.items():\n",
    "        print('Area under the curve for %s: %1.4f'%(name, trapz(data['mean'], data.index) / max(data.index)))\n",
    "\n",
    "\n",
    "auc_intermixing(s[1])"
   ]
  },
  {
   "cell_type": "code",
   "execution_count": null,
   "id": "fb6dab61",
   "metadata": {
    "papermill": {
     "duration": 0.305446,
     "end_time": "2023-01-16T12:51:19.207313",
     "exception": false,
     "start_time": "2023-01-16T12:51:18.901867",
     "status": "completed"
    },
    "tags": []
   },
   "outputs": [],
   "source": [
    "from sklearn.svm import LinearSVC\n",
    "\n",
    "def analyse_svm_margin(adata, adata_cor, condition_name, layer=None):\n",
    "    print(layer)\n",
    "    if layer is not None:\n",
    "        adata.layers['default_X'] = adata.X\n",
    "        adata.X = adata.layers[layer]\n",
    "        adata_cor.layers['default_X'] = adata_cor.X\n",
    "        adata_cor.X = adata_cor.layers[layer]\n",
    "    \n",
    "    def get_svm_margin(adata, condition_name, size_factor = 1):\n",
    "        predictors = adata.X * size_factor\n",
    "        result = adata.obs[condition_name]\n",
    "        clf = LinearSVC(random_state=0, dual=False)\n",
    "        clf.fit(predictors, result)  \n",
    "        margin_df = pd.DataFrame({'condition': clf.classes_, 'margin': 1 / np.sqrt(np.sum(clf.coef_**2, axis=1))})\n",
    "\n",
    "        #print(margin_df)\n",
    "        return margin_df\n",
    "    \n",
    "    size_factor = np.sum(adata.X) / np.sum(adata_cor.X)\n",
    "\n",
    "    df = pd.merge(get_svm_margin(adata, condition_name), \n",
    "                  get_svm_margin(adata_cor, condition_name, size_factor = size_factor), \n",
    "                  on='condition', suffixes=['_uncorrected', '_ISM_correction'])\n",
    "    sns.set(rc={\"figure.figsize\":(5, 5)})\n",
    "    sns.set_style(\"white\")\n",
    "    plt = sns.barplot(df.melt(id_vars='condition', var_name='correction', value_name='margin'), \n",
    "                x='condition', y='margin', hue='correction', \n",
    "               )\n",
    "    #plt.set_title('Comparison of SVM margins')\n",
    "    plt.set_xticklabels(labels = plt.get_xticklabels(), rotation=45, horizontalalignment='right')\n",
    "    \n",
    "    \n",
    "    if layer is not None:\n",
    "        adata.X = adata.layers['default_X']\n",
    "        adata_cor.X = adata_cor.layers['default_X']\n",
    "\n",
    "    return plt\n",
    "   "
   ]
  },
  {
   "cell_type": "code",
   "execution_count": null,
   "id": "d152a0ef",
   "metadata": {
    "papermill": {
     "duration": 3.219387,
     "end_time": "2023-01-16T12:51:22.716593",
     "exception": false,
     "start_time": "2023-01-16T12:51:19.497206",
     "status": "completed"
    },
    "tags": []
   },
   "outputs": [],
   "source": [
    "analyse_svm_margin(adata, adata_cor, condition_name, layer='log_norm_counts')"
   ]
  },
  {
   "cell_type": "code",
   "execution_count": null,
   "id": "9db20d71",
   "metadata": {
    "papermill": {
     "duration": 3.219966,
     "end_time": "2023-01-16T12:51:26.240524",
     "exception": false,
     "start_time": "2023-01-16T12:51:23.020558",
     "status": "completed"
    },
    "tags": []
   },
   "outputs": [],
   "source": [
    "sns.move_legend(analyse_svm_margin(adata, adata_cor, condition_name, layer='1e4_log_norm_counts'), \"lower right\")"
   ]
  }
 ],
 "metadata": {
  "kernelspec": {
   "display_name": "“ion_suppression_new”",
   "language": "python",
   "name": "ion_suppression"
  },
  "language_info": {
   "codemirror_mode": {
    "name": "ipython",
    "version": 3
   },
   "file_extension": ".py",
   "mimetype": "text/x-python",
   "name": "python",
   "nbconvert_exporter": "python",
   "pygments_lexer": "ipython3",
   "version": "3.10.8"
  },
  "papermill": {
   "default_parameters": {},
   "duration": 4563.142149,
   "end_time": "2023-01-16T12:51:31.099914",
   "environment_variables": {},
   "exception": null,
   "input_path": "analysis/Lx_Pancreatic_Cancer/pipeline_03_evaluation.ipynb",
   "output_path": "analysis/Lx_Pancreatic_Cancer/pipeline_03_evaluation.ipynb",
   "parameters": {
    "analysis_path": "/home/mklein/FDA_project/analysis/Lx_Pancreatic_Cancer",
    "condition_name": "condition",
    "notebooks": [
     "pipeline_01_correction.ipynb",
     "pipeline_02_processing.ipynb",
     "pipeline_03_evaluation.ipynb"
    ],
    "project": "Lx_Pancreatic_Cancer",
    "source_path": "/home/mklein/Raw Data/2022-01-31_PancreaticCancer",
    "target_path": "/home/mklein/FDA_project/data/Lx_Pancreatic_Cancer",
    "well_name": "slide_well"
   },
   "start_time": "2023-01-16T11:35:27.957765",
   "version": "2.3.4"
  },
  "vscode": {
   "interpreter": {
    "hash": "89b4449ee30f46b148fb6825d70934bcbb1ebdb6d5b2015fe3835362773c7289"
   }
  }
 },
 "nbformat": 4,
 "nbformat_minor": 5
}
