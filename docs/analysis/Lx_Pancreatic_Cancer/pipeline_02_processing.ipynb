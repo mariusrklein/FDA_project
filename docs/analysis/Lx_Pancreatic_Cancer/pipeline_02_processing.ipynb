{
 "cells": [
  {
   "cell_type": "markdown",
   "id": "844c13ec",
   "metadata": {
    "papermill": {
     "duration": 0.006978,
     "end_time": "2023-01-12T17:41:25.649520",
     "exception": false,
     "start_time": "2023-01-12T17:41:25.642542",
     "status": "completed"
    },
    "tags": []
   },
   "source": [
    "# Lx_Pancreatic_Cancer: Processing\n",
    "\n",
    "Datasets typically consist of several wells on a microscopy slide. In this notebook, the wells are integrated to one annotated data matrix."
   ]
  },
  {
   "cell_type": "code",
   "execution_count": null,
   "id": "a01665e6",
   "metadata": {
    "execution": {
     "iopub.execute_input": "2023-01-12T17:41:25.664244Z",
     "iopub.status.busy": "2023-01-12T17:41:25.663788Z",
     "iopub.status.idle": "2023-01-12T17:41:31.866483Z",
     "shell.execute_reply": "2023-01-12T17:41:31.865411Z"
    },
    "papermill": {
     "duration": 6.212598,
     "end_time": "2023-01-12T17:41:31.868726",
     "exception": false,
     "start_time": "2023-01-12T17:41:25.656128",
     "status": "completed"
    },
    "tags": []
   },
   "outputs": [],
   "source": [
    "import os\n",
    "import platform\n",
    "import scanpy as sc\n",
    "import pandas as pd\n",
    "import numpy as np\n",
    "import anndata as ad\n",
    "import multiprocessing\n",
    "from joblib import Parallel, delayed\n",
    "from importlib import reload\n",
    "from tqdm import tqdm\n",
    "import statsmodels.formula.api as smf\n",
    "import matplotlib.pyplot as plt\n",
    "import seaborn as sns\n",
    "import functools\n",
    "import sys\n",
    "sys.path.append('/home/mklein/spacem')\n",
    "sys.path.append('/Volumes/mklein/spacem')\n",
    "sys.path.append('/home/mklein/FDA_project')\n",
    "from src.correction import get_matrices_from_dfs, normalize_proportion_ratios\n",
    "from src import const\n",
    "from src.evaluation import plot_all_ion_slopes\n",
    "\n",
    "%matplotlib inline\n",
    "%config InlineBackend.figure_formats = ['retina']"
   ]
  },
  {
   "cell_type": "code",
   "execution_count": null,
   "id": "e88a049d",
   "metadata": {
    "execution": {
     "iopub.execute_input": "2023-01-12T17:41:31.883964Z",
     "iopub.status.busy": "2023-01-12T17:41:31.882698Z",
     "iopub.status.idle": "2023-01-12T17:41:31.888374Z",
     "shell.execute_reply": "2023-01-12T17:41:31.887431Z"
    },
    "papermill": {
     "duration": 0.014779,
     "end_time": "2023-01-12T17:41:31.890406",
     "exception": false,
     "start_time": "2023-01-12T17:41:31.875627",
     "status": "completed"
    },
    "tags": [
     "parameters"
    ]
   },
   "outputs": [],
   "source": [
    "if platform.system() == \"Darwin\":\n",
    "    target_path = '/Volumes/mklein/FDA_project/data/Lx_Glioblastoma'\n",
    "else:\n",
    "    target_path = '/home/mklein/FDA_project/data/Lx_Glioblastoma'\n",
    "    "
   ]
  },
  {
   "cell_type": "code",
   "execution_count": null,
   "id": "56f6b59b",
   "metadata": {
    "execution": {
     "iopub.execute_input": "2023-01-12T17:41:31.904858Z",
     "iopub.status.busy": "2023-01-12T17:41:31.904101Z",
     "iopub.status.idle": "2023-01-12T17:41:31.909393Z",
     "shell.execute_reply": "2023-01-12T17:41:31.908450Z"
    },
    "papermill": {
     "duration": 0.015038,
     "end_time": "2023-01-12T17:41:31.911681",
     "exception": false,
     "start_time": "2023-01-12T17:41:31.896643",
     "status": "completed"
    },
    "tags": [
     "injected-parameters"
    ]
   },
   "outputs": [],
   "source": [
    "# Parameters\n",
    "source_path = \"/home/mklein/Raw Data/2022-01-31_PancreaticCancer\"\n",
    "target_path = \"/home/mklein/FDA_project/data/Lx_Pancreatic_Cancer\"\n",
    "condition_name = \"condition\"\n",
    "well_name = \"slide_well\"\n",
    "analysis_path = \"/home/mklein/FDA_project/analysis/Lx_Pancreatic_Cancer\"\n",
    "notebooks = [\n",
    "    \"pipeline_01_correction.ipynb\",\n",
    "    \"pipeline_02_processing.ipynb\",\n",
    "    \"pipeline_03_evaluation.ipynb\",\n",
    "]\n",
    "project = \"Lx_Pancreatic_Cancer\"\n"
   ]
  },
  {
   "cell_type": "code",
   "execution_count": null,
   "id": "e08ddab5",
   "metadata": {
    "execution": {
     "iopub.execute_input": "2023-01-12T17:41:31.925722Z",
     "iopub.status.busy": "2023-01-12T17:41:31.925018Z",
     "iopub.status.idle": "2023-01-12T17:41:31.931375Z",
     "shell.execute_reply": "2023-01-12T17:41:31.930479Z"
    },
    "papermill": {
     "duration": 0.015931,
     "end_time": "2023-01-12T17:41:31.933725",
     "exception": false,
     "start_time": "2023-01-12T17:41:31.917794",
     "status": "completed"
    },
    "tags": []
   },
   "outputs": [],
   "source": [
    "samples = [dir.name for dir in os.scandir(target_path) if dir.is_dir() and dir.name[0] != \".\"]\n",
    "\n",
    "files = {\n",
    "        'am_sm_matrix': 'am_spatiomolecular_adata.h5ad',\n",
    "        'corr_am_sm_matrix': 'am_spatiomolecular_adata_corrected.h5ad',\n",
    "        'cell_sm_matrix': 'cells_spatiomolecular_adata_spacem.h5ad',\n",
    "        'gen_cell_sm_matrix': 'cells_spatiomolecular_adata.h5ad',\n",
    "        'corr_cell_sm_matrix': 'cells_spatiomolecular_adata_corrected.h5ad',\n",
    "    }\n"
   ]
  },
  {
   "cell_type": "markdown",
   "id": "3a86775f",
   "metadata": {
    "papermill": {
     "duration": 0.006081,
     "end_time": "2023-01-12T17:41:31.946015",
     "exception": false,
     "start_time": "2023-01-12T17:41:31.939934",
     "status": "completed"
    },
    "tags": []
   },
   "source": [
    "After loading all individual wells, they are concatenated into one data matrix. Cell identifiers are kept unique by adding a well-specific suffix "
   ]
  },
  {
   "cell_type": "code",
   "execution_count": null,
   "id": "b3020e1a",
   "metadata": {
    "execution": {
     "iopub.execute_input": "2023-01-12T17:41:31.960355Z",
     "iopub.status.busy": "2023-01-12T17:41:31.959407Z",
     "iopub.status.idle": "2023-01-12T17:41:43.341366Z",
     "shell.execute_reply": "2023-01-12T17:41:43.340317Z"
    },
    "papermill": {
     "duration": 11.391577,
     "end_time": "2023-01-12T17:41:43.343675",
     "exception": false,
     "start_time": "2023-01-12T17:41:31.952098",
     "status": "completed"
    },
    "tags": []
   },
   "outputs": [],
   "source": [
    "am_adata_dict = {}\n",
    "am_adata_cor_dict = {}\n",
    "adata_dict = {}\n",
    "gen_adata_dict = {}\n",
    "adata_cor_dict = {}\n",
    "\n",
    "for sample in tqdm(samples):\n",
    "    sample_path = os.path.join(target_path, sample)\n",
    "\n",
    "    project_files = {k: os.path.join(sample_path, v) for k, v in files.items()}\n",
    "\n",
    "    # am_adata_dict[sample] = sc.read(project_files['am_sm_matrix'])\n",
    "    # am_adata_cor_dict[sample] = sc.read(project_files['corr_am_sm_matrix'])\n",
    "    adata_dict[sample] = sc.read(project_files['cell_sm_matrix'])\n",
    "    gen_adata_dict[sample] = sc.read(project_files['gen_cell_sm_matrix'])\n",
    "    adata_cor_dict[sample] = sc.read(project_files['corr_cell_sm_matrix'])\n"
   ]
  },
  {
   "cell_type": "code",
   "execution_count": null,
   "id": "01d44682",
   "metadata": {
    "execution": {
     "iopub.execute_input": "2023-01-12T17:41:43.361024Z",
     "iopub.status.busy": "2023-01-12T17:41:43.360370Z",
     "iopub.status.idle": "2023-01-12T17:41:43.366222Z",
     "shell.execute_reply": "2023-01-12T17:41:43.365166Z"
    },
    "papermill": {
     "duration": 0.016889,
     "end_time": "2023-01-12T17:41:43.368447",
     "exception": false,
     "start_time": "2023-01-12T17:41:43.351558",
     "status": "completed"
    },
    "tags": []
   },
   "outputs": [],
   "source": [
    "def split_dataset_info(adata):\n",
    "    split = adata.obs['dataset'].str.split(\"_\", expand=True)\n",
    "    adata.obs[['dataset_' + str(col) for col in split.columns]] = split"
   ]
  },
  {
   "cell_type": "markdown",
   "id": "7ba4f517",
   "metadata": {
    "papermill": {
     "duration": 0.007965,
     "end_time": "2023-01-12T17:41:43.383881",
     "exception": false,
     "start_time": "2023-01-12T17:41:43.375916",
     "status": "completed"
    },
    "tags": []
   },
   "source": [
    "The combination of wells is not restricted to concatenation of the corresponding data matrices. Some of the ion-related metadata, like the slopes used in ISM correction, are specific to the individual wells. Thus, they are summarised and mean values saved in the combined data matrices."
   ]
  },
  {
   "cell_type": "code",
   "execution_count": null,
   "id": "9be5fe4d",
   "metadata": {
    "execution": {
     "iopub.execute_input": "2023-01-12T17:41:43.400772Z",
     "iopub.status.busy": "2023-01-12T17:41:43.399601Z",
     "iopub.status.idle": "2023-01-12T17:41:43.417372Z",
     "shell.execute_reply": "2023-01-12T17:41:43.416239Z"
    },
    "papermill": {
     "duration": 0.028361,
     "end_time": "2023-01-12T17:41:43.419524",
     "exception": false,
     "start_time": "2023-01-12T17:41:43.391163",
     "status": "completed"
    },
    "tags": []
   },
   "outputs": [],
   "source": [
    "def plot_range_slopes(adata_dict):\n",
    "    adata = ad.concat(adata_dict, label='well', index_unique=\"_\", merge=\"first\", join='inner', fill_value=0)\n",
    "    conca_var_df = pd.concat({k: v.var for k, v in adata_dict.items()}).select_dtypes(include=[float])\n",
    "    \n",
    "    dfs = [conca_var_df.reset_index(names = ['well', 'ion']).groupby('ion').mean(numeric_only = True).reset_index().melt(id_vars=['ion'], value_name='mean'),\n",
    "              conca_var_df.reset_index(names = ['well', 'ion']).groupby('ion').min(numeric_only = True).reset_index().melt(id_vars=['ion'], value_name='min'),\n",
    "              conca_var_df.reset_index(names = ['well', 'ion']).groupby('ion').max(numeric_only = True).reset_index().melt(id_vars=['ion'], value_name='max')]\n",
    "\n",
    "    sum_df = pd.merge(functools.reduce(lambda left,right: pd.merge(left, right, how='left', on=['ion', 'variable']), dfs), \n",
    "                      pd.concat({k: v.var for k, v in adata_cor_dict.items()})[['correction_using_ion_pool']].reset_index(names = ['well', 'ion']).groupby('ion').sum(numeric_only = True), \n",
    "                      left_on='ion', right_index=True)\n",
    "\n",
    "    def my_bin(i):\n",
    "        if i == len(adata_dict):\n",
    "            return '4_all by pool'\n",
    "        elif i == 0:\n",
    "            return '0_none by pool'\n",
    "        elif i >0.9*len(adata_dict):\n",
    "            return '3_>90% by pool'\n",
    "        elif i >0.5*len(adata_dict):\n",
    "            return '2_>50% by pool'\n",
    "        else:\n",
    "            return '1_<50% by pool'\n",
    "        \n",
    "    sum_df['corr_pool_bins'] = [my_bin(i) for i in sum_df['correction_using_ion_pool']]\n",
    "    #pd.cut(sum_df['correction_using_ion_pool'], bins=4)#, q=[0, .2, .4, .6, .8, 1], labels=['<20%', '<40%', '<60%', '<80%', '>80%'])\n",
    "    \n",
    "    sum_df = sum_df.sort_values(['correction_using_ion_pool'])\n",
    "    \n",
    "    fig, ax = plt.subplots(figsize=(16, 4))\n",
    "    m = sns.lineplot(sum_df[sum_df.variable == 'correction_quantreg_slope'], x = 'ion', y='mean', hue='corr_pool_bins', ax=ax)\n",
    "    sns.lineplot(sum_df[sum_df.variable == 'correction_quantreg_slope'], x = 'ion', y='min', hue='corr_pool_bins', ax=ax, linewidth=0.4)\n",
    "    sns.lineplot(sum_df[sum_df.variable == 'correction_quantreg_slope'], x = 'ion', y='max', hue='corr_pool_bins', ax=ax, linewidth=0.4)\n",
    "    ax.set_xticks([])\n",
    "    ax.set_ylabel('mean, max and min slope')\n",
    "    handles, labels = ax.get_legend_handles_labels()\n",
    "    ax.legend(handles[:5], labels[:5], title='correction_using_ion_pool')\n",
    "    ax.axhline(0)\n",
    "    ax.axhline(-1)\n",
    "    ax.set_title('Range of ISM correction slopes across wells')\n",
    "    fig.tight_layout()"
   ]
  },
  {
   "cell_type": "code",
   "execution_count": null,
   "id": "c215a3ce",
   "metadata": {
    "execution": {
     "iopub.execute_input": "2023-01-12T17:41:43.438088Z",
     "iopub.status.busy": "2023-01-12T17:41:43.436823Z",
     "iopub.status.idle": "2023-01-12T17:41:44.280859Z",
     "shell.execute_reply": "2023-01-12T17:41:44.279740Z"
    },
    "papermill": {
     "duration": 0.855155,
     "end_time": "2023-01-12T17:41:44.283419",
     "exception": false,
     "start_time": "2023-01-12T17:41:43.428264",
     "status": "completed"
    },
    "tags": []
   },
   "outputs": [],
   "source": [
    "import functools\n",
    "def concat_wells(adata_dict):\n",
    "    adata = ad.concat(adata_dict, label='well', index_unique=\"_\", merge=\"first\", join='inner', fill_value=0)\n",
    "    \n",
    "    conca_var_df = pd.concat({k: v.var for k, v in adata_dict.items()}).select_dtypes(include=[float, bool])\n",
    "    if 'correction_quantreg_slope' in conca_var_df.columns:\n",
    "\n",
    "        mean_var_df = conca_var_df.reset_index(names = ['well', 'ion']).groupby('ion').mean(numeric_only = True)\n",
    "        mean_var_df.columns = ['mean_'+col for col in mean_var_df.columns]\n",
    "        \n",
    "        std_var_df = conca_var_df.reset_index(names = ['well', 'ion']).groupby('ion').std(numeric_only = True)\n",
    "        std_var_df.columns = ['sd_'+col for col in std_var_df.columns]\n",
    "        \n",
    "        count_var_df = conca_var_df.reset_index(names = ['well', 'ion']).groupby('ion').sum(numeric_only = True)\n",
    "        count_var_df.columns = ['sum_'+col for col in count_var_df.columns]\n",
    "        \n",
    "        dfs = [adata.var, \n",
    "            mean_var_df[['mean_correction_full_pixel_avg_intensities', 'mean_correction_quantreg_slope', 'mean_correction_quantreg_intersect']], \n",
    "            std_var_df[['sd_correction_full_pixel_avg_intensities', 'sd_correction_quantreg_slope', 'sd_correction_quantreg_intersect']],\n",
    "            count_var_df[['sum_correction_using_ion_pool']] ]\n",
    "        \n",
    "        adata.var = functools.reduce(lambda left,right: pd.merge(left, right, how='left', left_index=True, right_index=True), dfs)\n",
    "        adata.var['corrected_only_using_pool'] = adata.var['sum_correction_using_ion_pool'] == len(adata_dict)\n",
    "        \n",
    "    #sc.tl.pca(adata)\n",
    "    #sc.external.pp.bbknn(adata, batch_key='well')\n",
    "    split_dataset_info(adata)\n",
    "    return adata\n",
    "\n",
    "# am_adata = concat_wells(am_adata_dict)\n",
    "# am_adata_cor = concat_wells(am_adata_cor_dict)\n",
    "adata = concat_wells(adata_dict)\n",
    "gen_adata = concat_wells(gen_adata_dict)\n",
    "adata_cor = concat_wells(adata_cor_dict)"
   ]
  },
  {
   "cell_type": "markdown",
   "id": "7a0825b9",
   "metadata": {
    "papermill": {
     "duration": 0.007639,
     "end_time": "2023-01-12T17:41:44.299287",
     "exception": false,
     "start_time": "2023-01-12T17:41:44.291648",
     "status": "completed"
    },
    "tags": []
   },
   "source": [
    "Especially for the underlying slopes of the ISM correction, taking the mean removes a lot of information. In reality, the different wells exhibit a large variety of slopes, which is visualized in the following figure. All ions are shown by increasing fraction of pool-corrected wells. Clearly, the lower this fraction, the more variable the distribution."
   ]
  },
  {
   "cell_type": "code",
   "execution_count": null,
   "id": "344b2aa7",
   "metadata": {
    "execution": {
     "iopub.execute_input": "2023-01-12T17:41:44.316422Z",
     "iopub.status.busy": "2023-01-12T17:41:44.315484Z",
     "iopub.status.idle": "2023-01-12T17:41:48.808585Z",
     "shell.execute_reply": "2023-01-12T17:41:48.807554Z"
    },
    "papermill": {
     "duration": 4.506271,
     "end_time": "2023-01-12T17:41:48.813065",
     "exception": false,
     "start_time": "2023-01-12T17:41:44.306794",
     "status": "completed"
    },
    "tags": []
   },
   "outputs": [],
   "source": [
    "plot_range_slopes(adata_cor_dict)"
   ]
  },
  {
   "cell_type": "markdown",
   "id": "8285ae23",
   "metadata": {
    "papermill": {
     "duration": 0.011671,
     "end_time": "2023-01-12T17:41:48.837448",
     "exception": false,
     "start_time": "2023-01-12T17:41:48.825777",
     "status": "completed"
    },
    "tags": []
   },
   "source": [
    "The concatenated annotated data matrices are individually saved to file."
   ]
  },
  {
   "cell_type": "code",
   "execution_count": null,
   "id": "121ce955",
   "metadata": {
    "execution": {
     "iopub.execute_input": "2023-01-12T17:41:48.863147Z",
     "iopub.status.busy": "2023-01-12T17:41:48.862291Z",
     "iopub.status.idle": "2023-01-12T17:41:51.687663Z",
     "shell.execute_reply": "2023-01-12T17:41:51.686523Z"
    },
    "papermill": {
     "duration": 2.841169,
     "end_time": "2023-01-12T17:41:51.690234",
     "exception": false,
     "start_time": "2023-01-12T17:41:48.849065",
     "status": "completed"
    },
    "tags": []
   },
   "outputs": [],
   "source": [
    "adata.write(os.path.join(target_path, \"batch_sm_matrix.h5ad\"))\n",
    "gen_adata.write(os.path.join(target_path, \"gen_batch_sm_matrix.h5ad\"))\n",
    "adata_cor.write(os.path.join(target_path, \"corrected_batch_sm_matrix.h5ad\"))"
   ]
  },
  {
   "cell_type": "markdown",
   "id": "cc4510dc",
   "metadata": {
    "papermill": {
     "duration": 0.011843,
     "end_time": "2023-01-12T17:41:51.714501",
     "exception": false,
     "start_time": "2023-01-12T17:41:51.702658",
     "status": "completed"
    },
    "tags": []
   },
   "source": [
    "In order to ensure that especially the pixel-cell deconvolution was successful across samples, the summed absolute deviations between different annotated datasets are visualized in the following plot. On one hand, the uncorected but manually deconvoluted (generated) dataset is compared to the dataset directly output by SpaceM. If the same parameters were used for deconvolution, these dataset should not exhibit any differences. On the other hand, the corrected dataset is compared to the generated dataset. These dataset should exhibit differences on a comparable level across samples. If one of the samples shows much greater differences than the others, there might be a sample-specific problem with the parameters used for deconvolution."
   ]
  },
  {
   "cell_type": "code",
   "execution_count": null,
   "id": "bdf0df6a",
   "metadata": {
    "execution": {
     "iopub.execute_input": "2023-01-12T17:41:51.740930Z",
     "iopub.status.busy": "2023-01-12T17:41:51.739822Z",
     "iopub.status.idle": "2023-01-12T17:41:54.191161Z",
     "shell.execute_reply": "2023-01-12T17:41:54.189867Z"
    },
    "papermill": {
     "duration": 2.467854,
     "end_time": "2023-01-12T17:41:54.194136",
     "exception": false,
     "start_time": "2023-01-12T17:41:51.726282",
     "status": "completed"
    },
    "tags": []
   },
   "outputs": [],
   "source": [
    "def plot_deviations(adata1, adata2, label=\"\"):\n",
    "    df = np.abs(adata1.to_df() - adata2.to_df()).sum(axis=1)\n",
    "    # df = df / (adata1.to_df().shape[0] * adata1.to_df().shape[1])\n",
    "    df = df / (adata1.to_df().sum().sum())\n",
    "    df = pd.concat({'summed deviation': df, 'well': adata1.obs['well']}, axis=1)\n",
    "    sns.lineplot(df, x='well', y=\"summed deviation\", label=label, marker='o').set(title = 'Summed absolute deviations across wells')\n",
    "    \n",
    "plot_deviations(adata, gen_adata, 'gen. data vs. spacem')\n",
    "plot_deviations(gen_adata, adata_cor, 'corr. data vs. gen. data')"
   ]
  }
 ],
 "metadata": {
  "kernelspec": {
   "display_name": "Python 3 (ipykernel)",
   "language": "python",
   "name": "python3"
  },
  "language_info": {
   "codemirror_mode": {
    "name": "ipython",
    "version": 3
   },
   "file_extension": ".py",
   "mimetype": "text/x-python",
   "name": "python",
   "nbconvert_exporter": "python",
   "pygments_lexer": "ipython3",
   "version": "3.10.8"
  },
  "papermill": {
   "default_parameters": {},
   "duration": 33.217155,
   "end_time": "2023-01-12T17:41:55.334079",
   "environment_variables": {},
   "exception": null,
   "input_path": "analysis/Lx_Pancreatic_Cancer/pipeline_02_processing.ipynb",
   "output_path": "analysis/Lx_Pancreatic_Cancer/pipeline_02_processing.ipynb",
   "parameters": {
    "analysis_path": "/home/mklein/FDA_project/analysis/Lx_Pancreatic_Cancer",
    "condition_name": "condition",
    "notebooks": [
     "pipeline_01_correction.ipynb",
     "pipeline_02_processing.ipynb",
     "pipeline_03_evaluation.ipynb"
    ],
    "project": "Lx_Pancreatic_Cancer",
    "source_path": "/home/mklein/Raw Data/2022-01-31_PancreaticCancer",
    "target_path": "/home/mklein/FDA_project/data/Lx_Pancreatic_Cancer",
    "well_name": "slide_well"
   },
   "start_time": "2023-01-12T17:41:22.116924",
   "version": "2.3.4"
  },
  "vscode": {
   "interpreter": {
    "hash": "89b4449ee30f46b148fb6825d70934bcbb1ebdb6d5b2015fe3835362773c7289"
   }
  }
 },
 "nbformat": 4,
 "nbformat_minor": 5
}
