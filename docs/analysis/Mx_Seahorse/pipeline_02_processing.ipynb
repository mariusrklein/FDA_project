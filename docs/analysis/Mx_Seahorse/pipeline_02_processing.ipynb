{
 "cells": [
  {
   "cell_type": "markdown",
   "id": "50f4774b",
   "metadata": {
    "papermill": {
     "duration": 0.007335,
     "end_time": "2023-01-15T19:42:56.278579",
     "exception": false,
     "start_time": "2023-01-15T19:42:56.271244",
     "status": "completed"
    },
    "tags": []
   },
   "source": [
    "# Mx_Seahorse: Processing\n",
    "\n",
    "Datasets typically consist of several wells on a microscopy slide. In this notebook, the wells are integrated to one annotated data matrix."
   ]
  },
  {
   "cell_type": "code",
   "execution_count": null,
   "id": "abfc0acd",
   "metadata": {
    "execution": {
     "iopub.execute_input": "2023-01-15T19:42:56.294272Z",
     "iopub.status.busy": "2023-01-15T19:42:56.293559Z",
     "iopub.status.idle": "2023-01-15T19:43:02.241149Z",
     "shell.execute_reply": "2023-01-15T19:43:02.240186Z"
    },
    "papermill": {
     "duration": 5.958092,
     "end_time": "2023-01-15T19:43:02.243680",
     "exception": false,
     "start_time": "2023-01-15T19:42:56.285588",
     "status": "completed"
    },
    "tags": []
   },
   "outputs": [],
   "source": [
    "import os\n",
    "import platform\n",
    "import scanpy as sc\n",
    "import pandas as pd\n",
    "import numpy as np\n",
    "import anndata as ad\n",
    "import multiprocessing\n",
    "from joblib import Parallel, delayed\n",
    "from importlib import reload\n",
    "from tqdm import tqdm\n",
    "import statsmodels.formula.api as smf\n",
    "import matplotlib.pyplot as plt\n",
    "import seaborn as sns\n",
    "import functools\n",
    "import sys\n",
    "sys.path.append('/home/mklein/spacem')\n",
    "sys.path.append('/Volumes/mklein/spacem')\n",
    "sys.path.append('/home/mklein/FDA_project')\n",
    "from src.correction import get_matrices_from_dfs, normalize_proportion_ratios\n",
    "from src import const\n",
    "from src.evaluation import plot_all_ion_slopes\n",
    "\n",
    "%matplotlib inline"
   ]
  },
  {
   "cell_type": "code",
   "execution_count": null,
   "id": "852a7028",
   "metadata": {
    "execution": {
     "iopub.execute_input": "2023-01-15T19:43:02.260159Z",
     "iopub.status.busy": "2023-01-15T19:43:02.259176Z",
     "iopub.status.idle": "2023-01-15T19:43:02.265974Z",
     "shell.execute_reply": "2023-01-15T19:43:02.264900Z"
    },
    "papermill": {
     "duration": 0.017215,
     "end_time": "2023-01-15T19:43:02.268332",
     "exception": false,
     "start_time": "2023-01-15T19:43:02.251117",
     "status": "completed"
    },
    "tags": [
     "parameters"
    ]
   },
   "outputs": [],
   "source": [
    "if platform.system() == \"Darwin\":\n",
    "    target_path = '/Volumes/mklein/FDA_project/data/Lx_Glioblastoma'\n",
    "else:\n",
    "    target_path = '/home/mklein/FDA_project/data/Lx_Glioblastoma'\n",
    "    \n",
    "# this is the column of the annotated data matrix, that discriminates between conditions\n",
    "condition_name = 'dataset_3'"
   ]
  },
  {
   "cell_type": "code",
   "execution_count": null,
   "id": "196886d7",
   "metadata": {
    "execution": {
     "iopub.execute_input": "2023-01-15T19:43:02.283629Z",
     "iopub.status.busy": "2023-01-15T19:43:02.283067Z",
     "iopub.status.idle": "2023-01-15T19:43:02.288839Z",
     "shell.execute_reply": "2023-01-15T19:43:02.287954Z"
    },
    "papermill": {
     "duration": 0.015288,
     "end_time": "2023-01-15T19:43:02.290865",
     "exception": false,
     "start_time": "2023-01-15T19:43:02.275577",
     "status": "completed"
    },
    "tags": [
     "injected-parameters"
    ]
   },
   "outputs": [],
   "source": [
    "# Parameters\n",
    "source_path = \"/home/mklein/Raw Data/220412_Luisa_ScSeahorse_SpaceM\"\n",
    "target_path = \"/home/mklein/FDA_project/data/Mx_Seahorse\"\n",
    "condition_name = \"treatment\"\n",
    "well_name = \"rowcol\"\n",
    "analysis_path = \"/home/mklein/FDA_project/analysis/Mx_Seahorse\"\n",
    "notebooks = [\n",
    "    \"pipeline_01_correction.ipynb\",\n",
    "    \"pipeline_02_processing.ipynb\",\n",
    "    \"pipeline_03_evaluation.ipynb\",\n",
    "]\n",
    "project = \"Mx_Seahorse\"\n"
   ]
  },
  {
   "cell_type": "code",
   "execution_count": null,
   "id": "2aece217",
   "metadata": {
    "execution": {
     "iopub.execute_input": "2023-01-15T19:43:02.306920Z",
     "iopub.status.busy": "2023-01-15T19:43:02.305812Z",
     "iopub.status.idle": "2023-01-15T19:43:02.312328Z",
     "shell.execute_reply": "2023-01-15T19:43:02.311509Z"
    },
    "papermill": {
     "duration": 0.016554,
     "end_time": "2023-01-15T19:43:02.314336",
     "exception": false,
     "start_time": "2023-01-15T19:43:02.297782",
     "status": "completed"
    },
    "tags": []
   },
   "outputs": [],
   "source": [
    "samples = [dir.name for dir in os.scandir(target_path) if dir.is_dir() and dir.name[0] != \".\"]\n",
    "\n",
    "files = {\n",
    "        'am_sm_matrix': 'am_spatiomolecular_adata.h5ad',\n",
    "        'corr_am_sm_matrix': 'am_spatiomolecular_adata_corrected.h5ad',\n",
    "        'cell_sm_matrix': 'cells_spatiomolecular_adata_spacem.h5ad',\n",
    "        'gen_cell_sm_matrix': 'cells_spatiomolecular_adata.h5ad',\n",
    "        'corr_cell_sm_matrix': 'cells_spatiomolecular_adata_corrected.h5ad',\n",
    "    }\n"
   ]
  },
  {
   "cell_type": "markdown",
   "id": "20d3fbb9",
   "metadata": {
    "papermill": {
     "duration": 0.006206,
     "end_time": "2023-01-15T19:43:02.327166",
     "exception": false,
     "start_time": "2023-01-15T19:43:02.320960",
     "status": "completed"
    },
    "tags": []
   },
   "source": [
    "After loading all individual wells, they are concatenated into one data matrix. Cell identifiers are kept unique by adding a well-specific suffix "
   ]
  },
  {
   "cell_type": "code",
   "execution_count": null,
   "id": "d754590d",
   "metadata": {
    "execution": {
     "iopub.execute_input": "2023-01-15T19:43:02.342264Z",
     "iopub.status.busy": "2023-01-15T19:43:02.341351Z",
     "iopub.status.idle": "2023-01-15T19:43:11.992465Z",
     "shell.execute_reply": "2023-01-15T19:43:11.991633Z"
    },
    "papermill": {
     "duration": 9.660852,
     "end_time": "2023-01-15T19:43:11.994735",
     "exception": false,
     "start_time": "2023-01-15T19:43:02.333883",
     "status": "completed"
    },
    "tags": []
   },
   "outputs": [],
   "source": [
    "am_adata_dict = {}\n",
    "am_adata_cor_dict = {}\n",
    "adata_dict = {}\n",
    "gen_adata_dict = {}\n",
    "adata_cor_dict = {}\n",
    "\n",
    "for sample in tqdm(samples):\n",
    "    sample_path = os.path.join(target_path, sample)\n",
    "\n",
    "    project_files = {k: os.path.join(sample_path, v) for k, v in files.items()}\n",
    "\n",
    "    # am_adata_dict[sample] = sc.read(project_files['am_sm_matrix'])\n",
    "    # am_adata_cor_dict[sample] = sc.read(project_files['corr_am_sm_matrix'])\n",
    "    adata_dict[sample] = sc.read(project_files['cell_sm_matrix'])\n",
    "    gen_adata_dict[sample] = sc.read(project_files['gen_cell_sm_matrix'])\n",
    "    adata_cor_dict[sample] = sc.read(project_files['corr_cell_sm_matrix'])\n"
   ]
  },
  {
   "cell_type": "code",
   "execution_count": null,
   "id": "42b78756",
   "metadata": {
    "execution": {
     "iopub.execute_input": "2023-01-15T19:43:12.013583Z",
     "iopub.status.busy": "2023-01-15T19:43:12.013198Z",
     "iopub.status.idle": "2023-01-15T19:43:12.019858Z",
     "shell.execute_reply": "2023-01-15T19:43:12.018792Z"
    },
    "papermill": {
     "duration": 0.018271,
     "end_time": "2023-01-15T19:43:12.021936",
     "exception": false,
     "start_time": "2023-01-15T19:43:12.003665",
     "status": "completed"
    },
    "tags": []
   },
   "outputs": [],
   "source": [
    "def split_dataset_info(adata):\n",
    "    split = adata.obs['dataset'].str.split(\"_\", expand=True)\n",
    "    adata.obs[['dataset_' + str(col) for col in split.columns]] = split"
   ]
  },
  {
   "cell_type": "markdown",
   "id": "b7313ac3",
   "metadata": {
    "papermill": {
     "duration": 0.008154,
     "end_time": "2023-01-15T19:43:12.037946",
     "exception": false,
     "start_time": "2023-01-15T19:43:12.029792",
     "status": "completed"
    },
    "tags": []
   },
   "source": [
    "The combination of wells is not restricted to concatenation of the corresponding data matrices. Some of the ion-related metadata, like the slopes used in ISM correction, are specific to the individual wells. Thus, they are summarised and mean values saved in the combined data matrices."
   ]
  },
  {
   "cell_type": "code",
   "execution_count": null,
   "id": "4ef8c0b8",
   "metadata": {
    "execution": {
     "iopub.execute_input": "2023-01-15T19:43:12.055671Z",
     "iopub.status.busy": "2023-01-15T19:43:12.054994Z",
     "iopub.status.idle": "2023-01-15T19:43:12.071244Z",
     "shell.execute_reply": "2023-01-15T19:43:12.070282Z"
    },
    "papermill": {
     "duration": 0.027385,
     "end_time": "2023-01-15T19:43:12.073301",
     "exception": false,
     "start_time": "2023-01-15T19:43:12.045916",
     "status": "completed"
    },
    "tags": []
   },
   "outputs": [],
   "source": [
    "def plot_range_slopes(adata_dict):\n",
    "    adata = ad.concat(adata_dict, label='well', index_unique=\"_\", merge=\"first\", join='inner', fill_value=0)\n",
    "    conca_var_df = pd.concat({k: v.var for k, v in adata_dict.items()}).select_dtypes(include=[float])\n",
    "    \n",
    "    dfs = [conca_var_df.reset_index(names = ['well', 'ion']).groupby('ion').mean(numeric_only = True).reset_index().melt(id_vars=['ion'], value_name='mean'),\n",
    "              conca_var_df.reset_index(names = ['well', 'ion']).groupby('ion').min(numeric_only = True).reset_index().melt(id_vars=['ion'], value_name='min'),\n",
    "              conca_var_df.reset_index(names = ['well', 'ion']).groupby('ion').max(numeric_only = True).reset_index().melt(id_vars=['ion'], value_name='max')]\n",
    "\n",
    "    sum_df = pd.merge(functools.reduce(lambda left,right: pd.merge(left, right, how='left', on=['ion', 'variable']), dfs), \n",
    "                      pd.concat({k: v.var for k, v in adata_cor_dict.items()})[['correction_using_ion_pool']].reset_index(names = ['well', 'ion']).groupby('ion').sum(numeric_only = True), \n",
    "                      left_on='ion', right_index=True)\n",
    "\n",
    "    def my_bin(i):\n",
    "        if i == len(adata_dict):\n",
    "            return '4_all by pool'\n",
    "        elif i == 0:\n",
    "            return '0_none by pool'\n",
    "        elif i >0.9*len(adata_dict):\n",
    "            return '3_>90% by pool'\n",
    "        elif i >0.5*len(adata_dict):\n",
    "            return '2_>50% by pool'\n",
    "        else:\n",
    "            return '1_<50% by pool'\n",
    "        \n",
    "    sum_df['corr_pool_bins'] = [my_bin(i) for i in sum_df['correction_using_ion_pool']]\n",
    "    #pd.cut(sum_df['correction_using_ion_pool'], bins=4)#, q=[0, .2, .4, .6, .8, 1], labels=['<20%', '<40%', '<60%', '<80%', '>80%'])\n",
    "    \n",
    "    sum_df = sum_df.sort_values(['correction_using_ion_pool'])\n",
    "    \n",
    "    fig, ax = plt.subplots(figsize=(16, 4))\n",
    "    m = sns.lineplot(sum_df[sum_df.variable == 'correction_quantreg_slope'], x = 'ion', y='mean', hue='corr_pool_bins', ax=ax)\n",
    "    sns.lineplot(sum_df[sum_df.variable == 'correction_quantreg_slope'], x = 'ion', y='min', hue='corr_pool_bins', ax=ax, linewidth=0.4)\n",
    "    sns.lineplot(sum_df[sum_df.variable == 'correction_quantreg_slope'], x = 'ion', y='max', hue='corr_pool_bins', ax=ax, linewidth=0.4)\n",
    "    ax.set_xticks([])\n",
    "    ax.set_ylabel('mean, max and min slope')\n",
    "    handles, labels = ax.get_legend_handles_labels()\n",
    "    ax.legend(handles[:5], labels[:5], title='correction_using_ion_pool')\n",
    "    ax.axhline(0)\n",
    "    ax.axhline(-1)\n",
    "    ax.set_title('Range of ISM correction slopes across wells')\n",
    "    fig.tight_layout()"
   ]
  },
  {
   "cell_type": "code",
   "execution_count": null,
   "id": "7145bcd6",
   "metadata": {
    "execution": {
     "iopub.execute_input": "2023-01-15T19:43:12.091575Z",
     "iopub.status.busy": "2023-01-15T19:43:12.090839Z",
     "iopub.status.idle": "2023-01-15T19:43:13.005403Z",
     "shell.execute_reply": "2023-01-15T19:43:13.004454Z"
    },
    "papermill": {
     "duration": 0.926131,
     "end_time": "2023-01-15T19:43:13.007849",
     "exception": false,
     "start_time": "2023-01-15T19:43:12.081718",
     "status": "completed"
    },
    "tags": []
   },
   "outputs": [],
   "source": [
    "import functools\n",
    "def concat_wells(adata_dict):\n",
    "    adata = ad.concat(adata_dict, label='well', index_unique=\"_\", merge=\"first\", join='inner', fill_value=0)\n",
    "    \n",
    "    conca_var_df = pd.concat({k: v.var for k, v in adata_dict.items()}).select_dtypes(include=[float, bool])\n",
    "    if 'correction_quantreg_slope' in conca_var_df.columns:\n",
    "\n",
    "        mean_var_df = conca_var_df.reset_index(names = ['well', 'ion']).groupby('ion').mean(numeric_only = True)\n",
    "        mean_var_df.columns = ['mean_'+col for col in mean_var_df.columns]\n",
    "        \n",
    "        std_var_df = conca_var_df.reset_index(names = ['well', 'ion']).groupby('ion').std(numeric_only = True)\n",
    "        std_var_df.columns = ['sd_'+col for col in std_var_df.columns]\n",
    "        \n",
    "        count_var_df = conca_var_df.reset_index(names = ['well', 'ion']).groupby('ion').sum(numeric_only = True)\n",
    "        count_var_df.columns = ['sum_'+col for col in count_var_df.columns]\n",
    "        \n",
    "        dfs = [adata.var, \n",
    "            mean_var_df[['mean_correction_full_pixel_avg_intensities', 'mean_correction_quantreg_slope', 'mean_correction_quantreg_intersect']], \n",
    "            std_var_df[['sd_correction_full_pixel_avg_intensities', 'sd_correction_quantreg_slope', 'sd_correction_quantreg_intersect']],\n",
    "            count_var_df[['sum_correction_using_ion_pool']] ]\n",
    "        \n",
    "        adata.var = functools.reduce(lambda left,right: pd.merge(left, right, how='left', left_index=True, right_index=True), dfs)\n",
    "        adata.var['corrected_only_using_pool'] = adata.var['sum_correction_using_ion_pool'] == len(adata_dict)\n",
    "        \n",
    "    #sc.tl.pca(adata)\n",
    "    #sc.external.pp.bbknn(adata, batch_key='well')\n",
    "    split_dataset_info(adata)\n",
    "    return adata\n",
    "\n",
    "# am_adata = concat_wells(am_adata_dict)\n",
    "# am_adata_cor = concat_wells(am_adata_cor_dict)\n",
    "adata = concat_wells(adata_dict)\n",
    "gen_adata = concat_wells(gen_adata_dict)\n",
    "adata_cor = concat_wells(adata_cor_dict)"
   ]
  },
  {
   "cell_type": "markdown",
   "id": "1e61a131",
   "metadata": {
    "papermill": {
     "duration": 0.00812,
     "end_time": "2023-01-15T19:43:13.024408",
     "exception": false,
     "start_time": "2023-01-15T19:43:13.016288",
     "status": "completed"
    },
    "tags": []
   },
   "source": [
    "Especially for the underlying slopes of the ISM correction, taking the mean removes a lot of information. In reality, the different wells exhibit a large variety of slopes, which is visualized in the following figure. All ions are shown by increasing fraction of pool-corrected wells. Clearly, the lower this fraction, the more variable the distribution."
   ]
  },
  {
   "cell_type": "markdown",
   "id": "80e59f66-cbc7-4685-9115-ab0d81abc417",
   "metadata": {
    "papermill": {
     "duration": 0.007893,
     "end_time": "2023-01-15T19:43:13.040357",
     "exception": false,
     "start_time": "2023-01-15T19:43:13.032464",
     "status": "completed"
    },
    "tags": []
   },
   "source": [
    "In this case, most of the ions had enough data to be corrected on their own and only about 20% were corrected solely based on pool data."
   ]
  },
  {
   "cell_type": "code",
   "execution_count": null,
   "id": "4f8c94d9",
   "metadata": {
    "execution": {
     "iopub.execute_input": "2023-01-15T19:43:13.058032Z",
     "iopub.status.busy": "2023-01-15T19:43:13.057653Z",
     "iopub.status.idle": "2023-01-15T19:43:19.060933Z",
     "shell.execute_reply": "2023-01-15T19:43:19.060033Z"
    },
    "papermill": {
     "duration": 6.016329,
     "end_time": "2023-01-15T19:43:19.064749",
     "exception": false,
     "start_time": "2023-01-15T19:43:13.048420",
     "status": "completed"
    },
    "tags": []
   },
   "outputs": [],
   "source": [
    "plot_range_slopes(adata_cor_dict)"
   ]
  },
  {
   "cell_type": "markdown",
   "id": "47243b8e",
   "metadata": {
    "papermill": {
     "duration": 0.013222,
     "end_time": "2023-01-15T19:43:19.093597",
     "exception": false,
     "start_time": "2023-01-15T19:43:19.080375",
     "status": "completed"
    },
    "tags": []
   },
   "source": [
    "The concatenated annotated data matrices are individually saved to file."
   ]
  },
  {
   "cell_type": "code",
   "execution_count": null,
   "id": "112bd357",
   "metadata": {
    "execution": {
     "iopub.execute_input": "2023-01-15T19:43:19.116975Z",
     "iopub.status.busy": "2023-01-15T19:43:19.116512Z",
     "iopub.status.idle": "2023-01-15T19:43:20.665440Z",
     "shell.execute_reply": "2023-01-15T19:43:20.664465Z"
    },
    "papermill": {
     "duration": 1.563378,
     "end_time": "2023-01-15T19:43:20.667884",
     "exception": false,
     "start_time": "2023-01-15T19:43:19.104506",
     "status": "completed"
    },
    "tags": []
   },
   "outputs": [],
   "source": [
    "adata.write(os.path.join(target_path, \"batch_sm_matrix.h5ad\"))\n",
    "gen_adata.write(os.path.join(target_path, \"gen_batch_sm_matrix.h5ad\"))\n",
    "adata_cor.write(os.path.join(target_path, \"corrected_batch_sm_matrix.h5ad\"))"
   ]
  },
  {
   "cell_type": "markdown",
   "id": "316d899b",
   "metadata": {
    "papermill": {
     "duration": 0.011897,
     "end_time": "2023-01-15T19:43:20.691748",
     "exception": false,
     "start_time": "2023-01-15T19:43:20.679851",
     "status": "completed"
    },
    "tags": []
   },
   "source": [
    "In order to ensure that especially the pixel-cell deconvolution was successful across samples, the summed absolute deviations between different annotated datasets are visualized in the following plot. On one hand, the uncorected but manually deconvoluted (generated) dataset is compared to the dataset directly output by SpaceM. If the same parameters were used for deconvolution, these dataset should not exhibit any differences. On the other hand, the corrected dataset is compared to the generated dataset. These dataset should exhibit differences on a comparable level across samples. If one of the samples shows much greater differences than the others, there might be a sample-specific problem with the parameters used for deconvolution."
   ]
  },
  {
   "cell_type": "markdown",
   "id": "d9cd30c7-8170-4271-92b4-01eb31b6f01d",
   "metadata": {
    "papermill": {
     "duration": 0.01072,
     "end_time": "2023-01-15T19:43:20.713489",
     "exception": false,
     "start_time": "2023-01-15T19:43:20.702769",
     "status": "completed"
    },
    "tags": []
   },
   "source": [
    "In this case, the wells E2, E3 and E4 have a larger difference between the original SpaceM-derived and generated data than the other wells. This remains although I double-checked that all the correct parameters are used. Thus, some other step of the process seems to deviate from the original process, that I currently cannot pinpoint."
   ]
  },
  {
   "cell_type": "code",
   "execution_count": null,
   "id": "088d3629",
   "metadata": {
    "execution": {
     "iopub.execute_input": "2023-01-15T19:43:20.737573Z",
     "iopub.status.busy": "2023-01-15T19:43:20.736606Z",
     "iopub.status.idle": "2023-01-15T19:43:22.783995Z",
     "shell.execute_reply": "2023-01-15T19:43:22.783021Z"
    },
    "papermill": {
     "duration": 2.062643,
     "end_time": "2023-01-15T19:43:22.787030",
     "exception": false,
     "start_time": "2023-01-15T19:43:20.724387",
     "status": "completed"
    },
    "tags": []
   },
   "outputs": [],
   "source": [
    "def plot_deviations(adata1, adata2, label=\"\"):\n",
    "    df = np.abs(adata1.to_df() - adata2.to_df()).sum(axis=1)\n",
    "    # df = df / (adata1.to_df().shape[0] * adata1.to_df().shape[1])\n",
    "    df = df / (adata1.to_df().sum().sum())\n",
    "    df = pd.concat({'summed deviation': df, 'well': adata1.obs['well']}, axis=1)\n",
    "    sns.lineplot(df, x='well', y=\"summed deviation\", label=label, marker='o').set(title = 'Summed absolute deviations across wells')\n",
    "    \n",
    "plot_deviations(adata, gen_adata, 'gen. data vs. spacem')\n",
    "plot_deviations(gen_adata, adata_cor, 'corr. data vs. gen. data')"
   ]
  },
  {
   "cell_type": "code",
   "execution_count": null,
   "id": "be00f4f8-69f6-45bb-b189-43f353cbf563",
   "metadata": {
    "execution": {
     "iopub.execute_input": "2023-01-15T19:43:22.816949Z",
     "iopub.status.busy": "2023-01-15T19:43:22.816455Z",
     "iopub.status.idle": "2023-01-15T19:43:39.076139Z",
     "shell.execute_reply": "2023-01-15T19:43:39.075018Z"
    },
    "papermill": {
     "duration": 16.277283,
     "end_time": "2023-01-15T19:43:39.078839",
     "exception": false,
     "start_time": "2023-01-15T19:43:22.801556",
     "status": "completed"
    },
    "tags": []
   },
   "outputs": [],
   "source": [
    "from src.evaluation import plot_deviations_between_adatas\n",
    "plot_deviations_between_adatas(adata, gen_adata, adata_cor)"
   ]
  }
 ],
 "metadata": {
  "kernelspec": {
   "display_name": "“ion_suppression_new”",
   "language": "python",
   "name": "ion_suppression"
  },
  "language_info": {
   "codemirror_mode": {
    "name": "ipython",
    "version": 3
   },
   "file_extension": ".py",
   "mimetype": "text/x-python",
   "name": "python",
   "nbconvert_exporter": "python",
   "pygments_lexer": "ipython3",
   "version": "3.10.8"
  },
  "papermill": {
   "default_parameters": {},
   "duration": 47.004443,
   "end_time": "2023-01-15T19:43:40.318664",
   "environment_variables": {},
   "exception": null,
   "input_path": "analysis/Mx_Seahorse/pipeline_02_processing.ipynb",
   "output_path": "analysis/Mx_Seahorse/pipeline_02_processing.ipynb",
   "parameters": {
    "analysis_path": "/home/mklein/FDA_project/analysis/Mx_Seahorse",
    "condition_name": "treatment",
    "notebooks": [
     "pipeline_01_correction.ipynb",
     "pipeline_02_processing.ipynb",
     "pipeline_03_evaluation.ipynb"
    ],
    "project": "Mx_Seahorse",
    "source_path": "/home/mklein/Raw Data/220412_Luisa_ScSeahorse_SpaceM",
    "target_path": "/home/mklein/FDA_project/data/Mx_Seahorse",
    "well_name": "rowcol"
   },
   "start_time": "2023-01-15T19:42:53.314221",
   "version": "2.3.4"
  },
  "vscode": {
   "interpreter": {
    "hash": "89b4449ee30f46b148fb6825d70934bcbb1ebdb6d5b2015fe3835362773c7289"
   }
  }
 },
 "nbformat": 4,
 "nbformat_minor": 5
}
