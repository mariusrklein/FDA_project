{
 "cells": [
  {
   "cell_type": "markdown",
   "id": "3dab55c6",
   "metadata": {
    "papermill": {
     "duration": 0.012889,
     "end_time": "2022-12-01T11:20:38.792095",
     "exception": false,
     "start_time": "2022-12-01T11:20:38.779206",
     "status": "completed"
    },
    "tags": []
   },
   "source": [
    "# Mx_Seahorse: Evaluation\n",
    "\n",
    "In this notebook, different measures are investigated to quantify the effect of correcting SpaceM ion intensity data for partial pixel-cell overlap.\n",
    "Moreover, The effects of the correction on different metabolites is visualized.\n",
    " "
   ]
  },
  {
   "cell_type": "code",
   "execution_count": null,
   "id": "b5221548",
   "metadata": {
    "papermill": {
     "duration": 3.448792,
     "end_time": "2022-12-01T11:20:42.252382",
     "exception": false,
     "start_time": "2022-12-01T11:20:38.803590",
     "status": "completed"
    },
    "tags": []
   },
   "outputs": [],
   "source": [
    "import platform\n",
    "import os\n",
    "import multiprocessing\n",
    "import numpy as np\n",
    "import pandas as pd\n",
    "import anndata as ad\n",
    "import scanpy as sc\n",
    "import seaborn as sns\n",
    "from sklearn.cluster import KMeans\n",
    "import re\n",
    "import outer_spacem as osm\n",
    "import sys\n",
    "sys.path.append('/home/mklein/spacem')\n",
    "sys.path.append('/Volumes/mklein/spacem')\n",
    "sys.path.append('/home/mklein/FDA_project')\n",
    "from src.correction import *\n",
    "from src.evaluation import intermixing, MetaboliteAnalysis\n",
    "\n",
    "%matplotlib inline"
   ]
  },
  {
   "cell_type": "code",
   "execution_count": null,
   "id": "c6afb38d",
   "metadata": {
    "papermill": {
     "duration": 0.020864,
     "end_time": "2022-12-01T11:20:42.318583",
     "exception": false,
     "start_time": "2022-12-01T11:20:42.297719",
     "status": "completed"
    },
    "tags": [
     "injected-parameters"
    ]
   },
   "outputs": [],
   "source": [
    "# Parameters\n",
    "source_path = \"/home/mklein/Raw Data/220412_Luisa_ScSeahorse_SpaceM\"\n",
    "target_path = \"/home/mklein/FDA_project/data/Mx_Seahorse\"\n",
    "condition_name = \"treatment\"\n",
    "well_name = \"rowcol\"\n",
    "analysis_path = \"/home/mklein/FDA_project/analysis/Mx_Seahorse\"\n",
    "notebooks = [\n",
    "    \"pipeline_01_correction.ipynb\",\n",
    "    \"pipeline_02_processing.ipynb\",\n",
    "    \"pipeline_03_evaluation.ipynb\",\n",
    "]\n",
    "project = \"Mx_Seahorse\"\n"
   ]
  },
  {
   "cell_type": "markdown",
   "id": "774e39e3",
   "metadata": {
    "papermill": {
     "duration": 0.009692,
     "end_time": "2022-12-01T11:20:42.338380",
     "exception": false,
     "start_time": "2022-12-01T11:20:42.328688",
     "status": "completed"
    },
    "tags": []
   },
   "source": [
    "Loading the uncorrected and ISM-corrected dataset from file. Additionally, loading the metadata CSV file to filter out excluded wells."
   ]
  },
  {
   "cell_type": "code",
   "execution_count": null,
   "id": "f0ab61c7",
   "metadata": {
    "papermill": {
     "duration": 0.763042,
     "end_time": "2022-12-01T11:20:43.111316",
     "exception": false,
     "start_time": "2022-12-01T11:20:42.348274",
     "status": "completed"
    },
    "tags": []
   },
   "outputs": [],
   "source": [
    "adata = ad.read(os.path.join(target_path, \"gen_batch_sm_matrix.h5ad\"))\n",
    "adata_cor = ad.read(os.path.join(target_path, \"corrected_batch_sm_matrix.h5ad\"))"
   ]
  },
  {
   "cell_type": "code",
   "execution_count": null,
   "id": "65c6dfb3-29d8-4066-a43c-45c05370a3a4",
   "metadata": {
    "papermill": {
     "duration": 0.697098,
     "end_time": "2022-12-01T11:20:43.821629",
     "exception": false,
     "start_time": "2022-12-01T11:20:43.124531",
     "status": "completed"
    },
    "tags": []
   },
   "outputs": [],
   "source": [
    "metadata_path = os.path.join(target_path, 'metadata.csv')\n",
    "samples = list(set(adata.obs['well']))\n",
    "\n",
    "if os.path.exists(metadata_path):\n",
    "    metadata = pd.read_csv(metadata_path)\n",
    "    if well_name not in metadata.columns:\n",
    "        metadata[well_name] = metadata['row'].astype(str) + metadata['col'].astype(str)\n",
    "    samples = list(metadata[well_name])\n",
    "\n",
    "def assign_conditions(adata):\n",
    "    index = adata.obs.index.name\n",
    "    new_obs = adata.obs.reset_index()\n",
    "    \n",
    "    new_obs = pd.merge(new_obs, metadata[[well_name, condition_name]], \n",
    "                       how='inner', left_on='well', right_on=well_name).set_index(index)\n",
    "    \n",
    "    adata = adata[new_obs.index, :].copy()\n",
    "    adata.obs = new_obs\n",
    "    if 'keep_conditions' in globals():\n",
    "        adata = adata[adata.obs[condition_name].isin(keep_conditions), :].copy()\n",
    "    return adata\n",
    "\n",
    "adata = assign_conditions(adata)\n",
    "adata_cor = assign_conditions(adata_cor)"
   ]
  },
  {
   "cell_type": "markdown",
   "id": "ba3da3e8-8cc7-44f4-9c57-6ffe10c540e9",
   "metadata": {},
   "source": [
    "Some wells are excluded from the analysis for different reasons. The wells A3, G1 and J2 were excluded before as the exhibited batch effects. The wells E2, E3 and E4 have inconsistencies in the pixel-cell deconvolution."
   ]
  },
  {
   "cell_type": "code",
   "execution_count": null,
   "id": "175daf3d-e649-4f68-9384-62a9678d4548",
   "metadata": {
    "papermill": {
     "duration": 0.697098,
     "end_time": "2022-12-01T11:20:43.821629",
     "exception": false,
     "start_time": "2022-12-01T11:20:43.124531",
     "status": "completed"
    },
    "tags": []
   },
   "outputs": [],
   "source": [
    "# remove wells where deconvolution could not be reproduced.\n",
    "# adata = adata[~adata.obs['well'].isin(['E2', 'E3', 'E4'])]\n",
    "# adata_cor = adata_cor[~adata_cor.obs['well'].isin(['E2', 'E3', 'E4'])]\n",
    "adata = adata[~adata.obs['well'].isin(['A3', 'G1', 'J2', 'E2', 'E3', 'E4'])]\n",
    "adata_cor = adata_cor[~adata_cor.obs['well'].isin(['A3', 'G1', 'J2', 'E2', 'E3', 'E4'])]"
   ]
  },
  {
   "cell_type": "code",
   "execution_count": null,
   "id": "a2870c8b-83d3-4118-b441-bf2a5ced87ea",
   "metadata": {
    "papermill": {
     "duration": 0.697098,
     "end_time": "2022-12-01T11:20:43.821629",
     "exception": false,
     "start_time": "2022-12-01T11:20:43.124531",
     "status": "completed"
    },
    "tags": []
   },
   "outputs": [],
   "source": [
    "pd.crosstab(adata.obs['well'], adata.obs[condition_name], margins=True)"
   ]
  },
  {
   "cell_type": "code",
   "execution_count": null,
   "id": "f03b2187-b482-4638-a1ee-70caccff13af",
   "metadata": {
    "papermill": {
     "duration": 0.58095,
     "end_time": "2022-12-01T11:20:46.211709",
     "exception": false,
     "start_time": "2022-12-01T11:20:45.630759",
     "status": "completed"
    },
    "tags": []
   },
   "outputs": [],
   "source": [
    "included_molecules = adata.var_names.intersection(adata_cor.var_names)\n",
    "included_cells = adata.obs_names.intersection(adata_cor.obs_names)\n",
    "\n",
    "def subset_molecules(adata):\n",
    "    \n",
    "    return adata[included_cells, included_molecules].copy()\n",
    "\n",
    "adata = subset_molecules(adata)\n",
    "adata_cor = subset_molecules(adata_cor)\n",
    "\n",
    "print(adata.shape)\n",
    "print(adata_cor.shape)"
   ]
  },
  {
   "cell_type": "markdown",
   "id": "e79bc9e2",
   "metadata": {
    "papermill": {
     "duration": 0.011525,
     "end_time": "2022-12-01T11:20:43.847333",
     "exception": false,
     "start_time": "2022-12-01T11:20:43.835808",
     "status": "completed"
    },
    "tags": []
   },
   "source": [
    "First of all, the loaded datasets are filtered:\n",
    "\n",
    "- cells need non-zero intensities for at least 10 ions.\n",
    "- ions need non-zero intensities for at least 200 cells.\n",
    "\n",
    "After that, the sets are preprocessed in different ways:\n",
    "\n",
    "- intensties are normalized to TIC and/or log-transformed (log(x+1))\n",
    "\n",
    "After that, both datasets are subset to contain the same ions and cells (intersection)."
   ]
  },
  {
   "cell_type": "code",
   "execution_count": null,
   "id": "331d83ef",
   "metadata": {
    "papermill": {
     "duration": 1.758661,
     "end_time": "2022-12-01T11:20:45.617051",
     "exception": false,
     "start_time": "2022-12-01T11:20:43.858390",
     "status": "completed"
    },
    "tags": []
   },
   "outputs": [],
   "source": [
    "def preprocess(adata):\n",
    "    \n",
    "    sc.pp.filter_cells(adata, min_genes=10)\n",
    "    sc.pp.filter_genes(adata, min_cells=200)\n",
    "    adata.raw = adata\n",
    "    adata.layers[\"raw_counts\"] = adata.X.copy()\n",
    "    # sc.pp.scale(adata)\n",
    "    adata.layers[\"norm_counts\"] = sc.pp.normalize_total(adata, layer='raw_counts', target_sum=None, inplace=False)['X']\n",
    "    adata.layers[\"1e4_norm_counts\"] = sc.pp.normalize_total(adata, layer='raw_counts', target_sum=1e4, inplace=False)['X']\n",
    "    \n",
    "    adata.layers[\"log_raw_counts\"] = sc.pp.log1p(adata.layers[\"raw_counts\"], copy=True)\n",
    "    adata.layers[\"log_norm_counts\"] = sc.pp.log1p(adata.layers[\"norm_counts\"], copy=True)\n",
    "    adata.layers[\"1e4_log_norm_counts\"] = sc.pp.log1p(adata.layers[\"1e4_norm_counts\"], copy=True)\n",
    "    adata.X = adata.layers[\"log_norm_counts\"]\n",
    "    \n",
    "    adata.var['median_intensity'] = np.median(adata.X, axis=0)\n",
    "    adata.var['mean_intensity'] = np.mean(adata.X, axis=0)\n",
    "    # adata_x = adata.X.copy()\n",
    "    # adata_x[adata_x == 0] = np.nan\n",
    "    # adata.var['median_intensity_nonzero'] = np.nanmedian(adata_x, axis=0)\n",
    "    \n",
    "print(adata.shape)\n",
    "print(adata_cor.shape)\n",
    "\n",
    "preprocess(adata)\n",
    "preprocess(adata_cor)\n",
    "\n",
    "print(adata.shape)\n",
    "print(adata_cor.shape)\n"
   ]
  },
  {
   "cell_type": "code",
   "execution_count": null,
   "id": "de92eda2-4b90-4c2f-a48e-0b94f70eeebb",
   "metadata": {
    "papermill": {
     "duration": 120.971995,
     "end_time": "2022-12-01T11:32:46.203388",
     "exception": false,
     "start_time": "2022-12-01T11:30:45.231393",
     "status": "completed"
    },
    "tags": []
   },
   "outputs": [],
   "source": [
    "def dimred_umap(adata, layer=None, min_dist=0.5):\n",
    "    if layer is not None:\n",
    "        adata.layers['default_X'] = adata.X\n",
    "        adata.X = adata.layers[layer]\n",
    "    \n",
    "    sc.pp.pca(adata)\n",
    "    sc.pp.neighbors(adata, n_neighbors=50, metric='cosine')\n",
    "    sc.tl.umap(adata, min_dist=min_dist, spread=1.0, random_state=1, n_components=2)\n",
    "    # sc.pp.neighbors(adata, random_state=12345)\n",
    "    # sc.tl.umap(adata, random_state=12345)\n",
    "    #sc.pl.umap(adata, color=['well', condition_name], palette='cividis')\n",
    "    f = osm.pl.highlight_scatterplot(\n",
    "        data = adata,\n",
    "        obsm_key = \"X_umap\",\n",
    "        hue = condition_name,\n",
    "        col = condition_name,\n",
    "        palette = \"cividis\",\n",
    "        trim_axes=True,\n",
    "        height = 5,\n",
    "        scatter_kwargs = dict(s=5)\n",
    "    )\n",
    "\n",
    "    f.add_legend(markerscale=3)\n",
    "    \n",
    "    if layer is not None:\n",
    "        adata.X = adata.layers['default_X']"
   ]
  },
  {
   "cell_type": "code",
   "execution_count": null,
   "id": "dd7ffd30-dd25-4619-b736-dcbf37b6f32a",
   "metadata": {},
   "outputs": [],
   "source": [
    "def intermixing_layer(adata, adata_cor, condition_name, measures = ['X_pca', 'X_umap'], layer=None):\n",
    "    if layer is not None:\n",
    "        adata.layers['default_X'] = adata.X\n",
    "        adata.X = adata.layers[layer]\n",
    "        adata_cor.layers['default_X'] = adata_cor.X\n",
    "        adata_cor.X = adata_cor.layers[layer]\n",
    "    \n",
    "    summaries = intermixing({'uncorrected': adata, 'ISM correction': adata_cor}, condition_name = condition_name, measures = measures)\n",
    "    \n",
    "    if layer is not None:\n",
    "        adata.X = adata.layers['default_X']\n",
    "        adata_cor.X = adata_cor.layers['default_X']\n",
    "    \n",
    "    return\n",
    "    "
   ]
  },
  {
   "cell_type": "markdown",
   "id": "edbc6132-691a-47d0-ba30-9f5167785a5a",
   "metadata": {},
   "source": [
    "The different options for scaling and transforming the data are shown in the following:\n",
    "\n",
    "1. raw values\n",
    "2. log transformation\n",
    "3. TIC normalization\n",
    "4. TIC normalization and log transformation\n",
    "5. normalization to a fixed count (10^4)\n",
    "6. normalization to a fixed count (10^4) and log transformation\n",
    "\n",
    "The normalization to a fixed count has a slightly different effect than TIC normalization. The former normalizes all counts per cell to the given target sum so that all cells from the uncorrected and the corrected set are scaled to this count. In contrast, the latter retains the differences between the datasets by normalizing to the median count across cells in a dataset. Across modes of normalization, the corrected dataset has better separation than the uncorrected one. The overall separation in the uncorrected set is much better after log transformation but the effect of the correction is large for all assessed proprocessing combinations."
   ]
  },
  {
   "cell_type": "code",
   "execution_count": null,
   "id": "be998c5c-9dd9-4cef-82a4-c4c60b6e1d1f",
   "metadata": {},
   "outputs": [],
   "source": [
    "dimred_umap(adata, layer='raw_counts')\n",
    "dimred_umap(adata_cor, layer='raw_counts')\n",
    "intermixing_layer(adata, adata_cor, condition_name, measures = ['X_pca', 'X_umap'], layer='raw_counts')"
   ]
  },
  {
   "cell_type": "code",
   "execution_count": null,
   "id": "89364f9e-ef5a-4baf-8544-1af50dc71535",
   "metadata": {},
   "outputs": [],
   "source": [
    "dimred_umap(adata, layer='log_raw_counts')\n",
    "dimred_umap(adata_cor, layer='log_raw_counts')\n",
    "intermixing_layer(adata, adata_cor, condition_name, measures = ['X_pca', 'X_umap'], layer='log_raw_counts')"
   ]
  },
  {
   "cell_type": "code",
   "execution_count": null,
   "id": "5ed32d32-7aeb-4961-83b1-0c75efaf3d2b",
   "metadata": {},
   "outputs": [],
   "source": [
    "dimred_umap(adata, layer='norm_counts')\n",
    "dimred_umap(adata_cor, layer='norm_counts')\n",
    "intermixing_layer(adata, adata_cor, condition_name, measures = ['X_pca', 'X_umap'], layer='norm_counts')"
   ]
  },
  {
   "cell_type": "code",
   "execution_count": null,
   "id": "600d223c-8b5f-4afa-bc2d-baa63d6d0a33",
   "metadata": {},
   "outputs": [],
   "source": [
    "dimred_umap(adata, layer='log_norm_counts')\n",
    "dimred_umap(adata_cor, layer='log_norm_counts')\n",
    "intermixing_layer(adata, adata_cor, condition_name, measures = ['X_pca', 'X_umap'], layer='log_norm_counts')"
   ]
  },
  {
   "cell_type": "code",
   "execution_count": null,
   "id": "3f05f118-3f19-40d1-a99a-ce341c59ea4f",
   "metadata": {},
   "outputs": [],
   "source": [
    "dimred_umap(adata, layer='1e4_norm_counts')\n",
    "dimred_umap(adata_cor, layer='1e4_norm_counts')\n",
    "intermixing_layer(adata, adata_cor, condition_name, measures = ['X_pca', 'X_umap'], layer='1e4_norm_counts')"
   ]
  },
  {
   "cell_type": "code",
   "execution_count": null,
   "id": "dac16865-a838-421d-85a9-8b179b4c9dd4",
   "metadata": {},
   "outputs": [],
   "source": [
    "dimred_umap(adata, layer='1e4_log_norm_counts')\n",
    "dimred_umap(adata_cor, layer='1e4_log_norm_counts')\n",
    "intermixing_layer(adata, adata_cor, condition_name, measures = ['X_pca', 'X_umap'], layer='1e4_log_norm_counts')"
   ]
  },
  {
   "cell_type": "markdown",
   "id": "331d66f2",
   "metadata": {
    "papermill": {
     "duration": 0.013059,
     "end_time": "2022-12-01T11:20:46.238569",
     "exception": false,
     "start_time": "2022-12-01T11:20:46.225510",
     "status": "completed"
    },
    "tags": []
   },
   "source": [
    "Before analysis, I am asserting that the two data files were deconvoluted in the same way. Specifically, the corrected dataframe cannot have non-zero values at positions where the uncorrected dataframe has zero values."
   ]
  },
  {
   "cell_type": "code",
   "execution_count": null,
   "id": "fa006a4c",
   "metadata": {
    "papermill": {
     "duration": 0.698216,
     "end_time": "2022-12-01T11:20:46.949903",
     "exception": false,
     "start_time": "2022-12-01T11:20:46.251687",
     "status": "completed"
    },
    "tags": []
   },
   "outputs": [],
   "source": [
    "assert not any(pd.Series(np.array((adata.to_df() == 0) & (adata_cor.to_df()!= 0)).flatten()))"
   ]
  },
  {
   "cell_type": "code",
   "execution_count": null,
   "id": "60bcaeb3",
   "metadata": {
    "papermill": {
     "duration": 0.108286,
     "end_time": "2022-12-01T11:20:47.071069",
     "exception": false,
     "start_time": "2022-12-01T11:20:46.962783",
     "status": "completed"
    },
    "tags": []
   },
   "outputs": [],
   "source": [
    "adata.obs['correction'] = 'uncorrected'\n",
    "adata_cor.obs['correction'] = 'ISM correction'"
   ]
  },
  {
   "cell_type": "markdown",
   "id": "f046d047",
   "metadata": {
    "papermill": {
     "duration": 0.007507,
     "end_time": "2022-12-01T11:20:47.086343",
     "exception": false,
     "start_time": "2022-12-01T11:20:47.078836",
     "status": "completed"
    },
    "tags": []
   },
   "source": [
    "## Effects of the correction on different molecules\n",
    "\n",
    "The ISM correction is performed per ion on the logarithmized intensity / sampling proportion ratio. The underlying quantile regression can only be computed with a minimum number of datapoints. If an ion has less than 10 datapoints, the quantile regression is instead computed based on a reference pool of ions.\n",
    "In the following, the resulting slopes by which all ions have been corrected are visualized. Ions that were corrected using the reference pool are shown separately.\n",
    "\n",
    "**For simplicity, not all modes of preprocessing are investigated in theis step. Only the non-transformed raw counts and the TIC-normalized and log-transformed counts are included here.**\n"
   ]
  },
  {
   "cell_type": "code",
   "execution_count": null,
   "id": "a73b7c68",
   "metadata": {
    "papermill": {
     "duration": 0.800514,
     "end_time": "2022-12-01T11:20:47.894399",
     "exception": false,
     "start_time": "2022-12-01T11:20:47.093885",
     "status": "completed"
    },
    "tags": []
   },
   "outputs": [],
   "source": [
    "grid = sns.FacetGrid(adata_cor.var[['mean_correction_quantreg_slope', 'corrected_only_using_pool']], col='corrected_only_using_pool', hue='corrected_only_using_pool', sharey=False)\n",
    "grid.map(sns.histplot, 'mean_correction_quantreg_slope', bins=30)\n",
    "cor_pool = list(adata_cor.var[adata_cor.var['corrected_only_using_pool'] == True].index)\n",
    "adata_cor.var['corrected_only_using_pool'].value_counts()"
   ]
  },
  {
   "cell_type": "markdown",
   "id": "32ba9de3",
   "metadata": {
    "papermill": {
     "duration": 0.013842,
     "end_time": "2022-12-01T11:20:47.923269",
     "exception": false,
     "start_time": "2022-12-01T11:20:47.909427",
     "status": "completed"
    },
    "tags": []
   },
   "source": [
    "Based on the slopes of the correction but also the logfoldchanges between corrected and uncorrected cells, one can infer the extent of alteration of different metabolites in the correction. These measures not necessarily correlate, thus the degree of correction of ions has to be evaluated on individual datasets."
   ]
  },
  {
   "cell_type": "code",
   "execution_count": null,
   "id": "0bfac9d0",
   "metadata": {
    "papermill": {
     "duration": 0.024002,
     "end_time": "2022-12-01T11:20:47.960137",
     "exception": false,
     "start_time": "2022-12-01T11:20:47.936135",
     "status": "completed"
    },
    "tags": []
   },
   "outputs": [],
   "source": [
    "import src.evaluation\n",
    "from importlib import reload\n",
    "reload(src.evaluation)\n",
    "from src.evaluation import MetaboliteAnalysis"
   ]
  },
  {
   "cell_type": "code",
   "execution_count": null,
   "id": "fda398cb",
   "metadata": {
    "papermill": {
     "duration": 35.75388,
     "end_time": "2022-12-01T11:21:23.728399",
     "exception": false,
     "start_time": "2022-12-01T11:20:47.974519",
     "status": "completed"
    },
    "tags": []
   },
   "outputs": [],
   "source": [
    "ma_raw = MetaboliteAnalysis(adata=adata, adata_cor=adata_cor, condition_name = condition_name, \n",
    "                        obs_columns = ['list_TPO'],\n",
    "                        var_columns = ['corrected_only_using_pool', 'mean_correction_quantreg_slope', \n",
    "                                       'n_cells','median_intensity', 'mean_intensity', 'sum_correction_using_ion_pool'],\n",
    "                       use_raw = True)"
   ]
  },
  {
   "cell_type": "code",
   "execution_count": null,
   "id": "1e49ec7e",
   "metadata": {
    "papermill": {
     "duration": 7.467922,
     "end_time": "2022-12-01T11:21:31.212849",
     "exception": false,
     "start_time": "2022-12-01T11:21:23.744927",
     "status": "completed"
    },
    "tags": []
   },
   "outputs": [],
   "source": [
    "ma_raw.pair_plot(exclude_ref_corrected = False)"
   ]
  },
  {
   "cell_type": "code",
   "execution_count": null,
   "id": "8c5924f1",
   "metadata": {
    "papermill": {
     "duration": 0.622165,
     "end_time": "2022-12-01T11:21:31.868943",
     "exception": false,
     "start_time": "2022-12-01T11:21:31.246778",
     "status": "completed"
    },
    "tags": []
   },
   "outputs": [],
   "source": [
    "ma_raw.volcano_plot(exclude_ref_corrected = False)"
   ]
  },
  {
   "cell_type": "code",
   "execution_count": null,
   "id": "d6d1643b",
   "metadata": {
    "papermill": {
     "duration": 2.71297,
     "end_time": "2022-12-01T11:21:34.622963",
     "exception": false,
     "start_time": "2022-12-01T11:21:31.909993",
     "status": "completed"
    },
    "tags": []
   },
   "outputs": [],
   "source": [
    "sc.pl.rank_genes_groups_tracksplot(ma_raw.conc_adata, groupby='correction', dendrogram=False)"
   ]
  },
  {
   "cell_type": "code",
   "execution_count": null,
   "id": "fe32b44e-33a3-4f66-aef9-4f81dca07352",
   "metadata": {},
   "outputs": [],
   "source": [
    "adata.obs['n_pixels'] = [i.count(';')+1 for i in adata.obs['list_TPO']]\n",
    "strat_cell_list = list(adata.obs.groupby('n_pixels', group_keys=False).apply(lambda x: x.sample(2)).index)[:6]"
   ]
  },
  {
   "cell_type": "code",
   "execution_count": null,
   "id": "89f99dcf",
   "metadata": {
    "papermill": {
     "duration": 52.963988,
     "end_time": "2022-12-01T11:22:27.636709",
     "exception": false,
     "start_time": "2022-12-01T11:21:34.672721",
     "status": "completed"
    },
    "tags": []
   },
   "outputs": [],
   "source": [
    "ma_raw.quotient_plot(show_cells=strat_cell_list)"
   ]
  },
  {
   "cell_type": "code",
   "execution_count": null,
   "id": "2aff6ed6",
   "metadata": {
    "papermill": {
     "duration": 320.681014,
     "end_time": "2022-12-01T11:27:48.390755",
     "exception": false,
     "start_time": "2022-12-01T11:22:27.709741",
     "status": "completed"
    },
    "tags": []
   },
   "outputs": [],
   "source": [
    "ma_raw.top_ion_plot(plot_method=sns.scatterplot, log=True)"
   ]
  },
  {
   "cell_type": "code",
   "execution_count": null,
   "id": "273e3f18",
   "metadata": {
    "papermill": {
     "duration": 38.163545,
     "end_time": "2022-12-01T11:28:26.630746",
     "exception": false,
     "start_time": "2022-12-01T11:27:48.467201",
     "status": "completed"
    },
    "tags": []
   },
   "outputs": [],
   "source": [
    "_ = ma_raw.save_matrix(save_to_path = analysis_path, safe_to_name = project, save_figures=6)"
   ]
  },
  {
   "cell_type": "markdown",
   "id": "8016a400",
   "metadata": {
    "papermill": {
     "duration": 0.073301,
     "end_time": "2022-12-01T11:28:26.800984",
     "exception": false,
     "start_time": "2022-12-01T11:28:26.727683",
     "status": "completed"
    },
    "tags": []
   },
   "source": [
    "The same analysis is then carried out for the normalized and log-transformed data: Here, the differences between uncorrected and ISM-corrected data are much more subtle. This corresponds better with the UMAPs further down, as they also show very little noticebly differences between uncorrected and ISM-corrected datasets."
   ]
  },
  {
   "cell_type": "code",
   "execution_count": null,
   "id": "b3e15b0a-b8b8-49ed-b9ca-1225c326fc48",
   "metadata": {
    "papermill": {
     "duration": 42.262422,
     "end_time": "2022-12-01T13:14:12.405055",
     "exception": false,
     "start_time": "2022-12-01T13:13:30.142633",
     "status": "completed"
    },
    "tags": []
   },
   "outputs": [],
   "source": [
    "adata.X = adata.layers['log_norm_counts']\n",
    "adata_cor.X = adata_cor.layers['log_norm_counts']"
   ]
  },
  {
   "cell_type": "code",
   "execution_count": null,
   "id": "24218fbd",
   "metadata": {
    "papermill": {
     "duration": 34.722333,
     "end_time": "2022-12-01T11:29:01.591360",
     "exception": false,
     "start_time": "2022-12-01T11:28:26.869027",
     "status": "completed"
    },
    "tags": []
   },
   "outputs": [],
   "source": [
    "ma = MetaboliteAnalysis(adata=adata, adata_cor=adata_cor, condition_name = condition_name, \n",
    "                        obs_columns = ['list_TPO'],\n",
    "                        var_columns = ['corrected_only_using_pool', 'mean_correction_quantreg_slope', \n",
    "                                       'n_cells','median_intensity', 'mean_intensity', 'sum_correction_using_ion_pool'],\n",
    "                       use_raw = False)"
   ]
  },
  {
   "cell_type": "code",
   "execution_count": null,
   "id": "67afef5f",
   "metadata": {
    "papermill": {
     "duration": 2.616152,
     "end_time": "2022-12-01T11:29:04.291901",
     "exception": false,
     "start_time": "2022-12-01T11:29:01.675749",
     "status": "completed"
    },
    "tags": []
   },
   "outputs": [],
   "source": [
    "sc.pl.rank_genes_groups_tracksplot(ma.conc_adata, groupby='correction', dendrogram=False)"
   ]
  },
  {
   "cell_type": "code",
   "execution_count": null,
   "id": "6f7237dc",
   "metadata": {
    "papermill": {
     "duration": 54.048326,
     "end_time": "2022-12-01T11:29:58.437551",
     "exception": false,
     "start_time": "2022-12-01T11:29:04.389225",
     "status": "completed"
    },
    "tags": []
   },
   "outputs": [],
   "source": [
    "ma.quotient_plot(show_cells=strat_cell_list)"
   ]
  },
  {
   "cell_type": "code",
   "execution_count": null,
   "id": "cbd05d67",
   "metadata": {
    "papermill": {
     "duration": 20.884869,
     "end_time": "2022-12-01T11:30:19.440977",
     "exception": false,
     "start_time": "2022-12-01T11:29:58.556108",
     "status": "completed"
    },
    "tags": []
   },
   "outputs": [],
   "source": [
    "ma.top_ion_plot()"
   ]
  },
  {
   "cell_type": "markdown",
   "id": "4d5e9efd-12a4-4462-86f7-ab4e7571dcd4",
   "metadata": {},
   "source": [
    "The different degree of correction of metabolites could be reflected in the spatial distribution on the corresponding ion images. To this end, the ion images of each two metabolites with the highest (center column) and lowest (right column) correction slopes are shown in the following figure (from well G1, condition NStim). The corresponding dataset is available on [metaspace](https://metaspace2020.eu/annotations?ds=2022-01-27_17h48m39s&fdr=0.5&q=C7H5NO%20%7C%20C5H5N5O%20%7C%20C9H7NO%20%7C%20H5O7P2%20%7C%20C13H10N2%20%7C%20C9H7NO%20%7C%20C10H10N2O%20%7C%20C6H6O4&row=5).\n",
    "\n",
    "<p align=\"center\">\n",
    "  <img \n",
    "    style=\"display: block; \n",
    "           margin-left: auto;\n",
    "           margin-right: auto;\n",
    "           width: 70%;\" align=\"center\" width=\"800\" src=\"ion_images_seahorse.png\">\n",
    "</p>\n"
   ]
  },
  {
   "cell_type": "markdown",
   "id": "cb3e51ab",
   "metadata": {
    "papermill": {
     "duration": 0.105195,
     "end_time": "2022-12-01T11:30:19.677968",
     "exception": false,
     "start_time": "2022-12-01T11:30:19.572773",
     "status": "completed"
    },
    "tags": []
   },
   "source": [
    "## Comparison of the datasets\n",
    "\n",
    "In the following, the uncorrected and ISM-corrected datasets are compared using methods of a typical single-cell analysis."
   ]
  },
  {
   "cell_type": "code",
   "execution_count": null,
   "id": "c5e80faa",
   "metadata": {
    "papermill": {
     "duration": 25.296982,
     "end_time": "2022-12-01T11:30:45.083748",
     "exception": false,
     "start_time": "2022-12-01T11:30:19.786766",
     "status": "completed"
    },
    "tags": []
   },
   "outputs": [],
   "source": [
    "def dimred_pca(adata):\n",
    "    sc.pp.pca(adata)\n",
    "    sc.pl.pca_overview(adata, color=['well', condition_name], palette='cividis')\n",
    "\n",
    "dimred_pca(adata)\n",
    "dimred_pca(adata_cor)"
   ]
  },
  {
   "cell_type": "code",
   "execution_count": null,
   "id": "3299b320-6385-4b8d-a98c-3c0f87cfb795",
   "metadata": {
    "papermill": {
     "duration": 120.971995,
     "end_time": "2022-12-01T11:32:46.203388",
     "exception": false,
     "start_time": "2022-12-01T11:30:45.231393",
     "status": "completed"
    },
    "tags": []
   },
   "outputs": [],
   "source": [
    "dimred_umap(adata)\n",
    "dimred_umap(adata_cor)"
   ]
  },
  {
   "cell_type": "code",
   "execution_count": null,
   "id": "b43117af",
   "metadata": {
    "papermill": {
     "duration": 0.306676,
     "end_time": "2022-12-01T11:32:46.824913",
     "exception": false,
     "start_time": "2022-12-01T11:32:46.518237",
     "status": "completed"
    },
    "tags": []
   },
   "outputs": [],
   "source": [
    "# from sklearn.metrics.cluster import completeness_score\n",
    "# from sklearn.metrics import accuracy_score, silhouette_score\n",
    "# \n",
    "# def kmeans_clust(adata):\n",
    "#     n_clusters = len(adata.obs[condition_name].value_counts())\n",
    "#     kmeans = KMeans(n_clusters=n_clusters, random_state=0).fit(adata.X)\n",
    "#     adata.obs['kmeans'] = kmeans.labels_.astype(str)\n",
    "# \n",
    "#     sc.tl.leiden(adata, resolution=2)\n",
    "# \n",
    "#     leiden = np.array(adata.obs['leiden'].values)\n",
    "#     leiden_curated = np.copy(leiden)\n",
    "#     fc = np.array(adata.obs[condition_name].values)\n",
    "#     for cluster in np.unique(leiden):\n",
    "#         labels, counts = np.unique(fc[leiden == cluster], return_counts=True)\n",
    "#         leiden_curated[leiden == cluster] = str(labels[counts == np.max(counts)][0])\n",
    "#     adata.obs['leiden_curated'] = leiden_curated\n",
    "# \n",
    "#     sc.pl.umap(adata, color=['kmeans', 'leiden', 'leiden_curated', condition_name], palette='cividis')\n",
    "#     # print('Leiden acccuracy score: %1.4f' % accuracy_score(y_true = adata.obs[condition_name].replace(['HeLa', 'NIH3T3'], ['0', '1']), y_pred = adata.obs['leiden']))\n",
    "#     print('Curated leiden acccuracy score: %1.4f' % accuracy_score(y_true = adata.obs[condition_name], y_pred = adata.obs['leiden_curated']))\n",
    "#     print('KMeans completeness score: %1.4f' % completeness_score(adata.obs[condition_name], adata.obs['kmeans']))\n",
    "#     print('KMeans silhouette coefficient: %1.4f' % silhouette_score(adata.X, adata.obs['kmeans']))\n",
    "# \n",
    "# kmeans_clust(adata)\n",
    "# kmeans_clust(adata_cor)\n",
    "# "
   ]
  },
  {
   "cell_type": "code",
   "execution_count": null,
   "id": "adcb815e",
   "metadata": {
    "papermill": {
     "duration": 219.067299,
     "end_time": "2022-12-01T11:36:26.178839",
     "exception": false,
     "start_time": "2022-12-01T11:32:47.111540",
     "status": "completed"
    },
    "tags": []
   },
   "outputs": [],
   "source": [
    "summaries = intermixing({'uncorrected': adata, 'ISM correction': adata_cor}, condition_name = condition_name, measures = ['X_pca', 'X_umap'])"
   ]
  },
  {
   "cell_type": "code",
   "execution_count": null,
   "id": "87765314",
   "metadata": {
    "papermill": {
     "duration": 101.176555,
     "end_time": "2022-12-01T11:38:07.641266",
     "exception": false,
     "start_time": "2022-12-01T11:36:26.464711",
     "status": "completed"
    },
    "tags": []
   },
   "outputs": [],
   "source": [
    "s = intermixing(\n",
    "    adata_dict = {'uncorrected': adata, 'ISM correction': adata_cor},\n",
    "    condition_name = condition_name,\n",
    "    sample_frac=0.1,\n",
    "    measures =['X_umap', 'X_pca'],\n",
    "    n_datapoints = 50,\n",
    "    sample_log = True,\n",
    "    neighborhood_size = None,\n",
    "    normalized = False,\n",
    "    show_table = [],\n",
    "    n_jobs = multiprocessing.cpu_count()\n",
    ")"
   ]
  },
  {
   "cell_type": "code",
   "execution_count": null,
   "id": "a2751cd5",
   "metadata": {
    "papermill": {
     "duration": 0.317572,
     "end_time": "2022-12-01T11:38:08.285664",
     "exception": false,
     "start_time": "2022-12-01T11:38:07.968092",
     "status": "completed"
    },
    "tags": []
   },
   "outputs": [],
   "source": [
    "from scipy.integrate import trapz, simps\n",
    "\n",
    "def auc_intermixing(summary_dict):\n",
    "    for name, data in summary_dict.items():\n",
    "        print('Area under the curve for %s: %1.4f'%(name, trapz(data['mean'], data.index) / max(data.index)))\n",
    "\n",
    "\n",
    "auc_intermixing(s[1])"
   ]
  },
  {
   "cell_type": "code",
   "execution_count": null,
   "id": "6312ac2f-4b59-4276-b008-ca26be085067",
   "metadata": {
    "papermill": {
     "duration": 0.861726,
     "end_time": "2022-12-01T13:24:28.415890",
     "exception": false,
     "start_time": "2022-12-01T13:24:27.554164",
     "status": "completed"
    },
    "tags": []
   },
   "outputs": [],
   "source": [
    "from sklearn.svm import LinearSVC\n",
    "\n",
    "def analyse_svm_margin(adata, adata_cor, condition_name, layer=None):\n",
    "    print(layer)\n",
    "    if layer is not None:\n",
    "        adata.layers['default_X'] = adata.X\n",
    "        adata.X = adata.layers[layer]\n",
    "        adata_cor.layers['default_X'] = adata_cor.X\n",
    "        adata_cor.X = adata_cor.layers[layer]\n",
    "    \n",
    "    def get_svm_margin(adata, condition_name, size_factor = 1):\n",
    "        predictors = adata.X * size_factor\n",
    "        result = adata.obs[condition_name]\n",
    "        clf = LinearSVC(random_state=0, dual=False)\n",
    "        clf.fit(predictors, result)  \n",
    "        margin_df = pd.DataFrame({'condition': clf.classes_, 'margin': 1 / np.sqrt(np.sum(clf.coef_**2, axis=1))})\n",
    "\n",
    "        #print(margin_df)\n",
    "        return margin_df\n",
    "    \n",
    "    size_factor = np.sum(adata.X) / np.sum(adata_cor.X)\n",
    "\n",
    "    df = pd.merge(get_svm_margin(adata, condition_name), \n",
    "                  get_svm_margin(adata_cor, condition_name, size_factor = size_factor), \n",
    "                  on='condition', suffixes=['_uncorrected', '_ISM_corrected'])\n",
    "    sns.set(rc={\"figure.figsize\":(12, 5)})\n",
    "    sns.barplot(df.melt(id_vars='condition', var_name='correction', value_name='margin'), \n",
    "                x='condition', y='margin', hue='correction').set_title('Comparison of SVM margins for layer %s'%layer)\n",
    "    \n",
    "    \n",
    "    \n",
    "    if layer is not None:\n",
    "        adata.X = adata.layers['default_X']\n",
    "        adata_cor.X = adata_cor.layers['default_X']\n",
    "   "
   ]
  },
  {
   "cell_type": "code",
   "execution_count": null,
   "id": "c47b63a1-a480-45f7-a5aa-38e3766ab653",
   "metadata": {},
   "outputs": [],
   "source": [
    "analyse_svm_margin(adata, adata_cor, condition_name, layer='log_norm_counts')"
   ]
  },
  {
   "cell_type": "code",
   "execution_count": null,
   "id": "64ba9f85-d381-4fe5-935f-d183dc865b1e",
   "metadata": {},
   "outputs": [],
   "source": [
    "analyse_svm_margin(adata, adata_cor, condition_name, layer='1e4_log_norm_counts')"
   ]
  }
 ],
 "metadata": {
  "kernelspec": {
   "display_name": "Python 3 (ipykernel)",
   "language": "python",
   "name": "python3"
  },
  "language_info": {
   "codemirror_mode": {
    "name": "ipython",
    "version": 3
   },
   "file_extension": ".py",
   "mimetype": "text/x-python",
   "name": "python",
   "nbconvert_exporter": "python",
   "pygments_lexer": "ipython3",
   "version": "3.10.6"
  },
  "papermill": {
   "default_parameters": {},
   "duration": 1188.107535,
   "end_time": "2022-12-01T11:40:25.442968",
   "environment_variables": {},
   "exception": true,
   "input_path": "/home/mklein/FDA_project/pipeline_03_evaluation.ipynb",
   "output_path": "/home/mklein/FDA_project/analysis/Mx_Seahorse/pipeline_03_evaluation.ipynb",
   "parameters": {
    "analysis_path": "/home/mklein/FDA_project/analysis/Mx_Seahorse",
    "condition_name": "treatment",
    "notebooks": [
     "pipeline_01_correction.ipynb",
     "pipeline_02_processing.ipynb",
     "pipeline_03_evaluation.ipynb"
    ],
    "project": "Mx_Seahorse",
    "source_path": "/home/mklein/Raw Data/220412_Luisa_ScSeahorse_SpaceM",
    "target_path": "/home/mklein/FDA_project/data/Mx_Seahorse",
    "well_name": "rowcol"
   },
   "start_time": "2022-12-01T11:20:37.335433",
   "version": "2.3.4"
  },
  "vscode": {
   "interpreter": {
    "hash": "89b4449ee30f46b148fb6825d70934bcbb1ebdb6d5b2015fe3835362773c7289"
   }
  }
 },
 "nbformat": 4,
 "nbformat_minor": 5
}
