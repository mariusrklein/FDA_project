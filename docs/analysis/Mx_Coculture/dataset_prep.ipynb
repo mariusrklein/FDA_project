{
 "cells": [
  {
   "cell_type": "markdown",
   "metadata": {},
   "source": [
    "# Mx_Coculture: Data preparation\n",
    "\n",
    "The Co-Culture-Dataset of HeLa and NIH3T3 cells was not available in the typical structure of SpaceM-processed data. Thus, the data is converted to this format to enable the use of the same analysis pipeline."
   ]
  },
  {
   "cell_type": "code",
   "execution_count": null,
   "metadata": {
    "execution": {
     "iopub.execute_input": "2023-01-16T22:47:15.817461Z",
     "iopub.status.busy": "2023-01-16T22:47:15.817004Z",
     "iopub.status.idle": "2023-01-16T22:47:21.459999Z",
     "shell.execute_reply": "2023-01-16T22:47:21.458457Z"
    },
    "papermill": {
     "duration": 4.316287,
     "end_time": "2022-12-06T15:35:59.702814",
     "exception": false,
     "start_time": "2022-12-06T15:35:55.386527",
     "status": "completed"
    },
    "tags": []
   },
   "outputs": [],
   "source": [
    "import os\n",
    "import platform\n",
    "import scanpy as sc\n",
    "import pandas as pd\n",
    "import numpy as np\n",
    "import anndata as ad\n",
    "import statistics as st\n",
    "import multiprocessing\n",
    "from joblib import Parallel, delayed\n",
    "from tqdm import tqdm\n",
    "import statsmodels.formula.api as smf\n",
    "import seaborn as sns\n",
    "import re\n",
    "from importlib import reload\n",
    "import json\n",
    "import sys\n",
    "sys.path.append('/home/mklein/spacem')\n",
    "sys.path.append('/home/mklein/FDA_project')\n",
    "\n",
    "from src.correction import (add_normalization_factors, \n",
    "                            correct_quantile_inplace,\n",
    "                            deconvolution_spacem,\n",
    "                            get_overlap_data,\n",
    "                            add_overlap_matrix_spacem\n",
    "                           )\n",
    "from src import const \n",
    "from SpaceM.lib.modules import (\n",
    "    overlap_analysis,\n",
    "    single_cell_analysis_normalization\n",
    ")\n",
    "\n",
    "%matplotlib inline\n",
    "%config InlineBackend.figure_formats = ['retina']"
   ]
  },
  {
   "cell_type": "code",
   "execution_count": null,
   "metadata": {
    "execution": {
     "iopub.execute_input": "2023-01-16T22:47:21.466133Z",
     "iopub.status.busy": "2023-01-16T22:47:21.465112Z",
     "iopub.status.idle": "2023-01-16T22:47:21.471614Z",
     "shell.execute_reply": "2023-01-16T22:47:21.470807Z"
    },
    "papermill": {
     "duration": 0.017111,
     "end_time": "2022-12-06T15:35:59.766973",
     "exception": false,
     "start_time": "2022-12-06T15:35:59.749862",
     "status": "completed"
    },
    "tags": [
     "injected-parameters"
    ]
   },
   "outputs": [],
   "source": [
    "# Parameters\n",
    "source_path = \"/home/mklein/Raw Data/Coculture\"\n",
    "target_path = \"/home/mklein/FDA_project/data/Mx_Co_Cultured\"\n",
    "condition_name = \"condition\"\n",
    "well_name = \"rowcol\"\n",
    "deconv_default_min_overlap = 0.3\n",
    "analysis_path = \"/home/mklein/FDA_project/analysis/Mx_Coculture\"\n",
    "notebooks = [\n",
    "    \"pipeline_01_correction.ipynb\",\n",
    "    \"pipeline_02_processing.ipynb\",\n",
    "    \"pipeline_03_evaluation.ipynb\",\n",
    "]\n",
    "project = \"Mx_Coculture\"\n"
   ]
  },
  {
   "cell_type": "code",
   "execution_count": null,
   "metadata": {
    "execution": {
     "iopub.execute_input": "2023-01-16T22:47:21.475457Z",
     "iopub.status.busy": "2023-01-16T22:47:21.475012Z",
     "iopub.status.idle": "2023-01-16T22:47:21.780906Z",
     "shell.execute_reply": "2023-01-16T22:47:21.779904Z"
    }
   },
   "outputs": [],
   "source": [
    "dataset_co_cult = np.load(os.path.join(target_path, 'marks_flitered_fluo.npy'), allow_pickle = True)\n",
    "\n",
    "dict_headers = [\"norm_MM\",\n",
    "    \"cell_marks\",\n",
    "    \"nucl_fluo\",\n",
    "    \"cell_fluo\",\n",
    "    \"marks_fluo\",\n",
    "    \"marks_cell_overlap\",\n",
    "    \"mark_area\",\n",
    "    \"overlap_indices\",\n",
    "    \"marks_fluo_overlap\",\n",
    "    \"cell_area\",\n",
    "    \"marks_cell_overlap_indexes\",\n",
    "    \"marks_cellLabels\",\n",
    "    \"marks_samplingArea\",\n",
    "    \"pmi\",\n",
    "    \"overLaps\"]\n",
    "\n",
    "cell_area = dataset_co_cult[9]\n",
    "\n",
    "# reference, which cells are covered by which marks\n",
    "cell_marks = dataset_co_cult[1]\n",
    "\n",
    "# size of every mark\n",
    "mark_area = dataset_co_cult[6]\n",
    "\n",
    "# reference of overlap area between cells and marks\n",
    "marks_cell_overlap = dataset_co_cult[5]"
   ]
  },
  {
   "cell_type": "code",
   "execution_count": null,
   "metadata": {
    "execution": {
     "iopub.execute_input": "2023-01-16T22:47:21.784906Z",
     "iopub.status.busy": "2023-01-16T22:47:21.784654Z",
     "iopub.status.idle": "2023-01-16T22:47:21.799257Z",
     "shell.execute_reply": "2023-01-16T22:47:21.798448Z"
    }
   },
   "outputs": [],
   "source": [
    "mark_regions = pd.DataFrame({'am_id': mark_area.keys(), 'area': mark_area.values()}, index=mark_area.keys()).set_index('am_id')\n",
    "mark_regions"
   ]
  },
  {
   "cell_type": "code",
   "execution_count": null,
   "metadata": {
    "execution": {
     "iopub.execute_input": "2023-01-16T22:47:21.859021Z",
     "iopub.status.busy": "2023-01-16T22:47:21.858701Z",
     "iopub.status.idle": "2023-01-16T22:47:21.956049Z",
     "shell.execute_reply": "2023-01-16T22:47:21.952403Z"
    }
   },
   "outputs": [],
   "source": [
    "overlap_regions_list = [] \n",
    "for k, v in cell_marks.items():\n",
    "    if len(v) > 0:\n",
    "        for i, am in enumerate(v):\n",
    "            dic = {'cell_id': int(k), 'am_id': int(am), 'area': float(marks_cell_overlap[str(k)][i])}\n",
    "            overlap_regions_list.append(dic)\n",
    "\n",
    "overlap_regions = pd.DataFrame(overlap_regions_list)\n",
    "overlap_regions['overlap_id'] = overlap_regions.index + 1\n",
    "overlap_regions = overlap_regions.set_index('overlap_id')\n",
    "overlap_regions"
   ]
  },
  {
   "cell_type": "code",
   "execution_count": null,
   "metadata": {
    "execution": {
     "iopub.execute_input": "2023-01-16T22:47:21.964324Z",
     "iopub.status.busy": "2023-01-16T22:47:21.963880Z",
     "iopub.status.idle": "2023-01-16T22:47:22.147846Z",
     "shell.execute_reply": "2023-01-16T22:47:22.146088Z"
    }
   },
   "outputs": [],
   "source": [
    "cell_regions_list = []\n",
    "for k, v in cell_area.items():\n",
    "    if len(v) == 0:\n",
    "        area = 0.0\n",
    "    else:\n",
    "        area = float(v[0])\n",
    "    cell_regions_list.append({'cell_id': int(k), 'area': area})\n",
    "        \n",
    "cell_regions = pd.DataFrame(cell_regions_list).set_index('cell_id')\n",
    "cell_regions"
   ]
  },
  {
   "cell_type": "code",
   "execution_count": null,
   "metadata": {
    "execution": {
     "iopub.execute_input": "2023-01-16T22:47:22.154756Z",
     "iopub.status.busy": "2023-01-16T22:47:22.154083Z",
     "iopub.status.idle": "2023-01-16T22:47:22.621785Z",
     "shell.execute_reply": "2023-01-16T22:47:22.620731Z"
    }
   },
   "outputs": [],
   "source": [
    "ion_intensities = pd.read_csv(os.path.join(target_path, 'sm_annotation_detections.csv'))\n",
    "\n",
    "ion_intensities = ion_intensities.drop(['Num', 'X', 'Y', 'Z', 'R'], axis=1)\n",
    "\n",
    "# ion_intensities = ion_intensities[['C16H30O2', \"C25H44NO7P\", \"C45H78NO8P\"]]\n",
    "# ion_intensities = ion_intensities.iloc[selected_pixels]\n",
    "\n",
    "ion_intensities.index = [str(i) for i in ion_intensities.index]\n",
    "ion_intensities\n"
   ]
  },
  {
   "cell_type": "code",
   "execution_count": null,
   "metadata": {
    "execution": {
     "iopub.execute_input": "2023-01-16T22:47:22.625705Z",
     "iopub.status.busy": "2023-01-16T22:47:22.625382Z",
     "iopub.status.idle": "2023-01-16T22:47:22.638934Z",
     "shell.execute_reply": "2023-01-16T22:47:22.632281Z"
    }
   },
   "outputs": [],
   "source": [
    "am_adata = ad.AnnData(X = ion_intensities.astype(np.float32))"
   ]
  },
  {
   "cell_type": "code",
   "execution_count": null,
   "metadata": {
    "execution": {
     "iopub.execute_input": "2023-01-16T22:47:22.644209Z",
     "iopub.status.busy": "2023-01-16T22:47:22.643350Z",
     "iopub.status.idle": "2023-01-16T22:47:24.513308Z",
     "shell.execute_reply": "2023-01-16T22:47:24.512235Z"
    },
    "tags": []
   },
   "outputs": [],
   "source": [
    "condition_metadata = pd.read_csv(os.path.join(target_path, 'MORPHnMOL.csv'))\n",
    "condition_metadata.index = [const.CELL_PRE + str(i) for i in condition_metadata.ObjectNumber]\n",
    "condition_metadata['GFP'] = condition_metadata.Intensity_MeanIntensity_GFP_quantif\n",
    "condition_metadata['MCherry'] = condition_metadata.Intensity_MeanIntensity_mCherry_quantif\n",
    "condition_metadata['fluorescence_ratio'] = np.log(condition_metadata.GFP / condition_metadata.MCherry)\n",
    "\n",
    "#condition_metadata['celltype'] = 'HeLa' if condition_metadata.fluorescence_ratio < 0.8 else 'NIH3T3'\n",
    "condition_metadata['celltype'] = np.where(condition_metadata.fluorescence_ratio < 0.8, 'HeLa', 'NIH3T3')\n",
    "\n",
    "print(condition_metadata['celltype'].value_counts())\n",
    "\n",
    "plot = sns.relplot(data=condition_metadata, x='GFP', y='MCherry', hue='celltype')\n",
    "plot.set(xscale='log')\n",
    "plot.set(yscale='log')\n",
    "plot.set(title='Cell type attributation based on GFP / MCherry fluorescence ratio')\n",
    "\n",
    "raw_adata = ad.AnnData(X=np.array(condition_metadata[am_adata.var.index.intersection(condition_metadata.columns)]),\n",
    "    obs=condition_metadata[['ObjectNumber', 'celltype', 'GFP', 'MCherry', 'fluorescence_ratio']], \n",
    "    var=am_adata.var.loc[am_adata.var.index.intersection(condition_metadata.columns)])"
   ]
  },
  {
   "cell_type": "code",
   "execution_count": null,
   "metadata": {
    "execution": {
     "iopub.execute_input": "2023-01-16T22:47:24.521733Z",
     "iopub.status.busy": "2023-01-16T22:47:24.521380Z",
     "iopub.status.idle": "2023-01-16T22:47:24.528592Z",
     "shell.execute_reply": "2023-01-16T22:47:24.527770Z"
    }
   },
   "outputs": [],
   "source": [
    "am_adata = am_adata[:, am_adata.var.index.intersection(condition_metadata.columns)].copy()"
   ]
  },
  {
   "cell_type": "code",
   "execution_count": null,
   "metadata": {
    "execution": {
     "iopub.execute_input": "2023-01-16T22:47:24.532926Z",
     "iopub.status.busy": "2023-01-16T22:47:24.532599Z",
     "iopub.status.idle": "2023-01-16T22:47:24.556146Z",
     "shell.execute_reply": "2023-01-16T22:47:24.555228Z"
    }
   },
   "outputs": [],
   "source": [
    "r_adata = pd.read_csv(os.path.join(target_path, 'cell_spatiomolecular_matrix.csv'))\n",
    "r_adata['cell_id'] = r_adata['Unnamed: 0']\n",
    "del r_adata['Unnamed: 0']\n",
    "r_adata_df = r_adata.set_index('cell_id').replace(np.nan, 0)"
   ]
  },
  {
   "cell_type": "code",
   "execution_count": null,
   "metadata": {
    "execution": {
     "iopub.execute_input": "2023-01-16T22:47:24.561037Z",
     "iopub.status.busy": "2023-01-16T22:47:24.560762Z",
     "iopub.status.idle": "2023-01-16T22:47:24.589760Z",
     "shell.execute_reply": "2023-01-16T22:47:24.588802Z"
    }
   },
   "outputs": [],
   "source": [
    "r_cell_adata = raw_adata.copy()\n",
    "r_cell_adata.X = r_adata_df\n",
    "r_cell_adata.to_df()"
   ]
  },
  {
   "cell_type": "code",
   "execution_count": null,
   "metadata": {
    "execution": {
     "iopub.execute_input": "2023-01-16T22:47:24.594320Z",
     "iopub.status.busy": "2023-01-16T22:47:24.594061Z",
     "iopub.status.idle": "2023-01-16T22:47:24.665893Z",
     "shell.execute_reply": "2023-01-16T22:47:24.664923Z"
    }
   },
   "outputs": [],
   "source": [
    "if not os.path.exists(os.path.join(source_path, 'dataset/analysis/ablation_mark_analysis')):\n",
    "        os.makedirs(os.path.join(source_path, 'dataset/analysis/ablation_mark_analysis'))\n",
    "if not os.path.exists(os.path.join(source_path, 'dataset/analysis/overlap_analysis2')):\n",
    "        os.makedirs(os.path.join(source_path, 'dataset/analysis/overlap_analysis2'))\n",
    "if not os.path.exists(os.path.join(source_path, 'dataset/analysis/single_cell_analysis')):\n",
    "        os.makedirs(os.path.join(source_path, 'dataset/analysis/single_cell_analysis'))\n",
    "        \n",
    "am_adata.write(os.path.join(source_path, 'dataset/analysis/ablation_mark_analysis/spatiomolecular_adata.h5ad'))\n",
    "# raw_adata.write(os.path.join(source_path, 'dataset/analysis/single_cell_analysis/spatiomolecular_adata.h5ad'))\n",
    "r_cell_adata.write(os.path.join(source_path, 'dataset/analysis/single_cell_analysis/spatiomolecular_adata.h5ad'))\n",
    "\n",
    "cell_regions.to_csv(os.path.join(source_path, 'dataset/analysis/overlap_analysis2/cell.regions.csv'))\n",
    "mark_regions.to_csv(os.path.join(source_path, 'dataset/analysis/overlap_analysis2/ablation_mark.regions.csv'))\n",
    "overlap_regions.to_csv(os.path.join(source_path, 'dataset/analysis/overlap_analysis2/overlap.regions.csv'))"
   ]
  }
 ],
 "metadata": {
  "kernelspec": {
   "display_name": "Python 3 (ipykernel)",
   "language": "python",
   "name": "python3"
  },
  "language_info": {
   "codemirror_mode": {
    "name": "ipython",
    "version": 3
   },
   "file_extension": ".py",
   "mimetype": "text/x-python",
   "name": "python",
   "nbconvert_exporter": "python",
   "pygments_lexer": "ipython3",
   "version": "3.10.8"
  },
  "vscode": {
   "interpreter": {
    "hash": "89b4449ee30f46b148fb6825d70934bcbb1ebdb6d5b2015fe3835362773c7289"
   }
  }
 },
 "nbformat": 4,
 "nbformat_minor": 4
}
