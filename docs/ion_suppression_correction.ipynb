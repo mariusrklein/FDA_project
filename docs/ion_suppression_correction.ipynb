{
 "cells": [
  {
   "cell_type": "markdown",
   "metadata": {},
   "source": [
    "# Ion suppression correction\n",
    "\n",
    "This notebook establishes the correction workflow using the Co-Culture-Dataset of HeLa and NIH3T3 cells."
   ]
  },
  {
   "cell_type": "code",
   "execution_count": null,
   "metadata": {},
   "outputs": [],
   "source": [
    "import os\n",
    "import platform\n",
    "import numpy as np\n",
    "import pandas as pd\n",
    "import scanpy as sc\n",
    "import multiprocessing\n",
    "from joblib import Parallel, delayed\n",
    "from tqdm import tqdm\n",
    "import matplotlib.pyplot as plt\n",
    "import statsmodels.formula.api as smf\n",
    "import seaborn as sns\n",
    "import statistics as st\n",
    "import anndata as ad\n",
    "from importlib import reload\n",
    "import src.correction\n",
    "from src.correction import *\n",
    "from src import const\n",
    "from src.evaluation import plot_all_ion_slopes\n",
    "%matplotlib inline"
   ]
  },
  {
   "cell_type": "code",
   "execution_count": null,
   "metadata": {},
   "outputs": [],
   "source": [
    "if platform.system() == \"Darwin\":\n",
    "    target_path = '/Volumes/mklein/FDA_project/data/Mx_Co_Cultured'\n",
    "else:\n",
    "    target_path = '/home/mklein/FDA_project/data/Mx_Co_Cultured'\n"
   ]
  },
  {
   "cell_type": "code",
   "execution_count": null,
   "metadata": {},
   "outputs": [],
   "source": [
    "dataset_co_cult = np.load('data/Mx_Co_Cultured/marks_flitered_fluo.npy', allow_pickle = True)\n",
    "\n",
    "dict_headers = [\"norm_MM\",\n",
    "    \"cell_marks\",\n",
    "    \"nucl_fluo\",\n",
    "    \"cell_fluo\",\n",
    "    \"marks_fluo\",\n",
    "    \"marks_cell_overlap\",\n",
    "    \"mark_area\",\n",
    "    \"overlap_indices\",\n",
    "    \"marks_fluo_overlap\",\n",
    "    \"cell_area\",\n",
    "    \"marks_cell_overlap_indexes\",\n",
    "    \"marks_cellLabels\",\n",
    "    \"marks_samplingArea\",\n",
    "    \"pmi\",\n",
    "    \"overLaps\"]\n",
    "\n",
    "cell_area = dataset_co_cult[9]\n",
    "\n",
    "# reference, which cells are covered by which marks\n",
    "cell_marks = dataset_co_cult[1]\n",
    "\n",
    "# size of every mark\n",
    "mark_area = dataset_co_cult[6]\n",
    "\n",
    "# reference of overlap area between cells and marks\n",
    "marks_cell_overlap = dataset_co_cult[5]\n",
    "\n"
   ]
  },
  {
   "cell_type": "code",
   "execution_count": null,
   "metadata": {},
   "outputs": [],
   "source": [
    "# pickles of tables that result from this comfiguration have suffix \"_small\"\n",
    "if(False):\n",
    "    selected_cells = ['3', '100', '21', '43', '547']\n",
    "    cell_marks = {k:v for k,v in cell_marks.items() if k in selected_cells}\n",
    "    marks_cell_overlap = {k:v for k,v in marks_cell_overlap.items() if k in selected_cells}\n",
    "    selected_pixels = ['2']\n",
    "    for _, cell in cell_marks.items():\n",
    "        selected_pixels = selected_pixels + [str(n) for n in cell]\n",
    "\n",
    "    selected_pixels.sort(key = int)\n",
    "    mark_area = {k:v for k,v in mark_area.items() if k in selected_pixels}\n",
    "\n",
    "    selected_pixels"
   ]
  },
  {
   "cell_type": "code",
   "execution_count": null,
   "metadata": {},
   "outputs": [],
   "source": [
    "# calculating different cell x pixel matrices\n",
    "overlap_matrix, sampling_spec_matrix = get_matrices(mark_area=mark_area, marks_cell_associations=cell_marks, marks_cell_overlap=marks_cell_overlap)\n",
    "\n",
    "sampling_spec_matrix"
   ]
  },
  {
   "cell_type": "code",
   "execution_count": null,
   "metadata": {},
   "outputs": [],
   "source": [
    "ion_intensities = pd.read_csv('data/Mx_Co_Cultured/sm_annotation_detections.csv')\n",
    "\n",
    "ion_intensities = ion_intensities.drop(['Num', 'X', 'Y', 'Z', 'R'], axis=1)\n",
    "\n",
    "# ion_intensities = ion_intensities[['C16H30O2', \"C25H44NO7P\", \"C45H78NO8P\"]]\n",
    "# ion_intensities = ion_intensities.iloc[selected_pixels]\n",
    "\n",
    "ion_intensities.index = [const.PIXEL_PRE + str(i) for i in ion_intensities.index]\n",
    "ion_intensities\n"
   ]
  },
  {
   "cell_type": "code",
   "execution_count": null,
   "metadata": {},
   "outputs": [],
   "source": [
    "am_adata = ad.AnnData(X = ion_intensities.astype(np.float32))"
   ]
  },
  {
   "cell_type": "code",
   "execution_count": null,
   "metadata": {},
   "outputs": [],
   "source": [
    "# this is how martijn performed the calculations\n",
    "def cell_normalization_Rappez_matrix(sampling_prop_matrix, sampling_spec_matrix, ion_intensity_matrix, sampling_prop_threshold = 0.3, sampling_spec_threshold = 0):\n",
    "    \n",
    "    # filter out pixels with little overlap with any cell (thus sum of all overlaps)\n",
    "    pixel_sampling_prop_keep = sampling_prop_matrix.sum(axis = 0) > sampling_prop_threshold\n",
    "    # filter out pixels with low contributions to a cell\n",
    "    pixel_sampling_spec_keep = sampling_spec_matrix > sampling_spec_threshold\n",
    "\n",
    "    sampling_prop_matrix_filtered = sampling_prop_matrix.sum(axis = 0) * pixel_sampling_prop_keep\n",
    "    sampling_spec_matrix_filtered = sampling_spec_matrix * pixel_sampling_spec_keep\n",
    "\n",
    "    sum_prop_matrix = sampling_prop_matrix_filtered.replace(to_replace=0, value=pd.NA)\n",
    "\n",
    "    # create dataframe for results\n",
    "    norm_ion_intensities = pd.DataFrame(index=sampling_prop_matrix_filtered.index, columns=ion_intensity_matrix.columns)\n",
    "    norm_spots = ion_intensity_matrix.multiply(1/sum_prop_matrix, axis=0).replace(np.nan, 0)\n",
    "    \n",
    "    cor_df = sampling_spec_matrix_filtered.replace(np.nan, 0).dot(norm_spots)\n",
    "\n",
    "    norm_cor_df = cor_df.multiply(1/sampling_spec_matrix_filtered.sum(axis=1), axis=0)\n",
    "    \n",
    "    return norm_cor_df\n",
    "\n"
   ]
  },
  {
   "cell_type": "code",
   "execution_count": null,
   "metadata": {},
   "outputs": [],
   "source": [
    "reload(src.correction)\n",
    "from src.correction import add_normalization_factors, correct_quantile_inplace\n",
    "\n",
    "add_matrices(adata = am_adata,\n",
    "    overlap_matrix = overlap_matrix,\n",
    "    sampling_spec_matrix = sampling_spec_matrix)\n",
    "\n",
    "add_normalization_factors(adata = am_adata, method = st.median)\n",
    "\n",
    "corrected_intensities = correct_quantile_inplace(am_adata, \n",
    "    reference_ions = ['C21H43O7P'],\n",
    "    correct_intersect = True)\n",
    "    "
   ]
  },
  {
   "cell_type": "code",
   "execution_count": null,
   "metadata": {},
   "outputs": [],
   "source": [
    "condition_metadata = pd.read_csv(os.path.join(target_path, 'MORPHnMOL.csv'))\n",
    "condition_metadata.index = [const.CELL_PRE + str(i) for i in condition_metadata.ObjectNumber]\n",
    "condition_metadata['GFP'] = condition_metadata.Intensity_MeanIntensity_GFP_quantif\n",
    "condition_metadata['MCherry'] = condition_metadata.Intensity_MeanIntensity_mCherry_quantif\n",
    "condition_metadata['fluorescence_ratio'] = np.log(condition_metadata.GFP / condition_metadata.MCherry)\n",
    "\n",
    "#condition_metadata['celltype'] = 'HeLa' if condition_metadata.fluorescence_ratio < 0.8 else 'NIH3T3'\n",
    "condition_metadata['celltype'] = np.where(condition_metadata.fluorescence_ratio < 0.8, 'HeLa', 'NIH3T3')\n",
    "\n",
    "print(condition_metadata['celltype'].value_counts())\n",
    "\n",
    "plot = sns.relplot(data=condition_metadata, x='GFP', y='MCherry', hue='celltype')\n",
    "plot.set(xscale='log')\n",
    "plot.set(yscale='log')\n",
    "plot.set(title='Cell type attributation based on GFP / MCherry fluorescence ratio')\n",
    "\n",
    "raw_adata = ad.AnnData(obs=condition_metadata[['ObjectNumber', 'celltype', 'GFP', 'MCherry', 'fluorescence_ratio']], var=am_adata.var.loc[am_adata.var.index.intersection(condition_metadata.columns)])\n",
    "\n"
   ]
  },
  {
   "cell_type": "code",
   "execution_count": null,
   "metadata": {},
   "outputs": [],
   "source": [
    "cell_adata = deconvolution_rappez(am_adata, raw_adata=raw_adata)\n",
    "corr_cell_adata = deconvolution_rappez(corrected_intensities, raw_adata=raw_adata)"
   ]
  },
  {
   "cell_type": "code",
   "execution_count": null,
   "metadata": {},
   "outputs": [],
   "source": [
    "def log_log_regression_plot(df, molecule = '', x_axis_name='sampling_proportion', title = 'Regression plot', log_axis = False):\n",
    "    intensities_df = df.to_df()\n",
    "    \n",
    "    if 'correction_quantreg_intersect' in list(df.var.columns):\n",
    "        intersect = df.var.loc[molecule, 'correction_quantreg_intersect']\n",
    "        slope = df.var.loc[molecule, 'correction_quantreg_slope']\n",
    "        print('y = %1.2fx + %1.2f'%(slope,intersect))\n",
    "        \n",
    "    x_axis = total_pixel_overlap = df.obs['correction_total_pixel_overlap']\n",
    "    full_pixel_intensities = df.var['correction_full_pixel_avg_intensities']\n",
    "    norm_intensity_prop_ratios_df = normalize_proportion_ratios(df, normalized=True).to_df()\n",
    "    intensities_df[x_axis_name] = total_pixel_overlap\n",
    "    norm_intensity_prop_ratios_df[x_axis_name] = total_pixel_overlap\n",
    "\n",
    "    if not molecule in intensities_df.columns:\n",
    "        molecule = intensities_df.columns[0]\n",
    "    \n",
    "    if log_axis:\n",
    "        intensities_df = np.log10(intensities_df)\n",
    "        norm_intensity_prop_ratios_df = np.log10(norm_intensity_prop_ratios_df)\n",
    "        \n",
    "    fig, ax = plt.subplots(1, 2)\n",
    "\n",
    "    def render_plot(df, ax, measure, title = ''):\n",
    "\n",
    "        sns.scatterplot(data=df.dropna(subset = [molecule, x_axis_name]).infer_objects(), x=x_axis_name, y=molecule, ax=ax)\n",
    "        \n",
    "        if not log_axis:\n",
    "            ax.set(xscale=\"log\")\n",
    "            ax.set(yscale=\"log\")\n",
    "            \n",
    "        ax.set(ylabel= measure + \" of \" + molecule)\n",
    "        ax.set(title=title)\n",
    "\n",
    "    render_plot(intensities_df, ax[0], measure = 'intensity', title = title)\n",
    "    render_plot(norm_intensity_prop_ratios_df, ax[1], measure = 'norm. intensity/sampling prop. ratio', title='intens./sampling prop. ratio')\n",
    "    \n",
    "    # if 'correction_quantreg_intersect' in list(df.var.columns):\n",
    "        # ax[1].axline((0, intersect), slope=slope)\n",
    "\n",
    "    fig.tight_layout()\n"
   ]
  },
  {
   "cell_type": "code",
   "execution_count": null,
   "metadata": {},
   "outputs": [],
   "source": [
    "log_log_regression_plot(am_adata, molecule='C20H32O2', title='raw intensities')\n",
    "log_log_regression_plot(corrected_intensities, molecule='C20H32O2', title='corrected intensities')"
   ]
  },
  {
   "cell_type": "code",
   "execution_count": null,
   "metadata": {},
   "outputs": [],
   "source": [
    "log_log_regression_plot(am_adata, molecule='C16H30O2', title='raw intensities')\n",
    "log_log_regression_plot(corrected_intensities, molecule='C16H30O2', title='corrected intensities')"
   ]
  },
  {
   "cell_type": "code",
   "execution_count": null,
   "metadata": {},
   "outputs": [],
   "source": [
    "log_log_regression_plot(am_adata, molecule='C21H43O7P', title='raw intensities')\n",
    "log_log_regression_plot(corrected_intensities, molecule='C21H43O7P', title='corrected intensities')"
   ]
  },
  {
   "cell_type": "code",
   "execution_count": null,
   "metadata": {},
   "outputs": [],
   "source": [
    "cell_adata.write(os.path.join(target_path, 'pipeline_files/batch_sm_matrix.h5ad'))\n",
    "corr_cell_adata.write(os.path.join(target_path, 'pipeline_files/corrected_batch_sm_matrix.h5ad'))"
   ]
  },
  {
   "cell_type": "code",
   "execution_count": null,
   "metadata": {},
   "outputs": [],
   "source": [
    "am_adata.write(os.path.join(target_path, 'pipeline_files/am_sm_matrix.h5ad'))\n",
    "corrected_intensities.write(os.path.join(target_path, 'pipeline_files/corrected_am_sm_matrix.h5ad'))"
   ]
  },
  {
   "cell_type": "markdown",
   "metadata": {},
   "source": [
    "Different molecules are changed by the ion suppression correction to a different extent. This is not only determined by the data at hand but also by the regression method employed. In the following, the results of quantile regression and other regression methods are shown on different representative molecules. In total on two molecules, quantile regression results in a positive relationship between intensity / sampling proportion ratio and sampling proportion. This is not expected and also does not reflect the visual impression of the regression plot. Other methods, albeit resulting in a negative slope, are also unable to align with the precepted relationship."
   ]
  },
  {
   "cell_type": "code",
   "execution_count": null,
   "metadata": {},
   "outputs": [],
   "source": [
    "from scipy.sparse import csr_matrix\n",
    "sparse_overlap = csr_matrix(am_adata.obsm['correction_overlap_matrix'])\n",
    "dict_assoc = sparse_overlap.tocoo(copy=True)\n",
    "overlap_df = pd.DataFrame({'am': dict_assoc.row, 'ObjectNumber': dict_assoc.col})\n",
    "overlap_df = pd.merge(overlap_df, cell_adata.obs[['ObjectNumber', 'celltype']], on='ObjectNumber', how='inner')\n",
    "overlap_df['celltype'] = pd.Categorical(overlap_df['celltype'], categories = ['HeLa', 'NIH3T3', 'mixed', 'none'])\n",
    "am_adata.obs['cell_condition'] = pd.Categorical([\",\".join(list(set(overlap_df.loc[overlap_df['am'].astype(str) == am, 'celltype']))) \n",
    "    if am in list(overlap_df['am'].astype(str))\n",
    "    else 'none' \n",
    "    for am in am_adata.obs.index])"
   ]
  },
  {
   "cell_type": "code",
   "execution_count": null,
   "metadata": {},
   "outputs": [],
   "source": [
    "import statsmodels.api as sm\n",
    "\n",
    "norm_int = src.correction.normalize_proportion_ratios(am_adata, normalized=True)"
   ]
  },
  {
   "cell_type": "code",
   "execution_count": null,
   "metadata": {},
   "outputs": [],
   "source": [
    "def plot_different_regressions(ion):\n",
    "    \n",
    "    df = sc.get.obs_df(norm_int, keys=[ion, const.TPO])\n",
    "    plot_df = np.log10(df).replace([-np.Inf], np.nan).dropna()\n",
    "    plot_df = plot_df[plot_df[const.TPO] > np.log10(0.1)]\n",
    "    plot_df['full'] = ['full' if p == 0.0 else 'not full' for p in plot_df[const.TPO]]\n",
    "    plot_df['am'] = plot_df.index\n",
    "    plot_df = pd.merge(plot_df, norm_int.obs[['cell_condition']], how='left', left_index=True, right_index=True)\n",
    "\n",
    "    fig, ax = plt.subplots(1, 2)\n",
    "\n",
    "    sns.scatterplot(plot_df, x='correction_total_pixel_overlap', y=ion, ax=ax[0], hue='cell_condition', palette='cividis')\n",
    "    sns.scatterplot(plot_df, x='correction_total_pixel_overlap', y=ion, ax=ax[1])\n",
    "    ax[0].axline((0, 0), slope=-1)\n",
    "\n",
    "    qrmodel = smf.quantreg(ion+' ~ correction_total_pixel_overlap', plot_df).fit(0.5)\n",
    "    ax[1].axline((0, qrmodel.params[0]), slope=qrmodel.params[1], label = 'quantreg', color='red')\n",
    "\n",
    "    model = sm.OLS(plot_df[ion], sm.add_constant(plot_df['correction_total_pixel_overlap'])).fit()\n",
    "    ax[1].axline((0, model.params[0]), slope=model.params[1], label = 'OLS', color='green')\n",
    "\n",
    "    model = sm.RLM(plot_df[ion], sm.add_constant(plot_df['correction_total_pixel_overlap']), M=sm.robust.norms.HuberT()).fit()\n",
    "    ax[1].axline((0, model.params[0]), slope=model.params[1], label = 'RLM')\n",
    "    \n",
    "    for a in ax:\n",
    "        a.legend()\n",
    "        a.set(ylabel='log.-norm. intensity / sampling proportion ratio', xlabel='log sampling proportion')\n",
    "    \n",
    "    ax[0].set(title = ion + \": distribution of conditions\")\n",
    "    ax[1].set(title = ion + \": regression methods\")\n",
    "\n",
    "    # print(\"full pixel average intensity %s: %1.1f\"%(ion, norm_int.var.loc[ion, const.FPAI]))\n",
    "    #print(qrmodel.params)\n",
    "    fig.tight_layout()\n",
    "    fig.set_figwidth(12)\n",
    "    return plot_df\n",
    "\n",
    "\n",
    "arach_df = plot_different_regressions(ion = 'C20H32O2')\n",
    "plot_different_regressions(ion = 'C43H81O13P')\n",
    "plot_different_regressions(ion = 'C41H80NO8P')\n",
    "_ = plot_different_regressions(ion = 'C19H37O6P')\n"
   ]
  },
  {
   "cell_type": "code",
   "execution_count": null,
   "metadata": {},
   "outputs": [],
   "source": [
    "plot_all_ion_slopes(am_adata, subset = raw_adata.var_names)\n"
   ]
  },
  {
   "cell_type": "code",
   "execution_count": null,
   "metadata": {},
   "outputs": [],
   "source": [
    "plot_all_ion_slopes(corrected_intensities, subset = raw_adata.var_names)"
   ]
  }
 ],
 "metadata": {
  "kernelspec": {
   "display_name": "Python 3 (ipykernel)",
   "language": "python",
   "name": "python3"
  },
  "language_info": {
   "codemirror_mode": {
    "name": "ipython",
    "version": 3
   },
   "file_extension": ".py",
   "mimetype": "text/x-python",
   "name": "python",
   "nbconvert_exporter": "python",
   "pygments_lexer": "ipython3",
   "version": "3.10.6"
  },
  "vscode": {
   "interpreter": {
    "hash": "89b4449ee30f46b148fb6825d70934bcbb1ebdb6d5b2015fe3835362773c7289"
   }
  }
 },
 "nbformat": 4,
 "nbformat_minor": 4
}
