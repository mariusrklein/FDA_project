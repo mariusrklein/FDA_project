{
 "cells": [
  {
   "cell_type": "markdown",
   "id": "ea694e79",
   "metadata": {
    "tags": [
     "papermill-error-cell-tag"
    ]
   },
   "source": [
    "<span style=\"color:red; font-family:Helvetica Neue, Helvetica, Arial, sans-serif; font-size:2em;\">An Exception was encountered at '<a href=\"#papermill-error-cell\">In [5]</a>'.</span>"
   ]
  },
  {
   "cell_type": "markdown",
   "id": "7704d35a",
   "metadata": {
    "papermill": {
     "duration": 0.014424,
     "end_time": "2022-12-01T11:44:55.746617",
     "exception": false,
     "start_time": "2022-12-01T11:44:55.732193",
     "status": "completed"
    },
    "tags": []
   },
   "source": [
    "# Evaluation of ion suppression correction\n",
    "\n",
    "In this notebook, different measures are investigated to quantify the effect of correcting SpaceM ion intensity data for partial pixel-cell overlap.\n",
    "Moreover, The effects of the correction on different metabolites is visualized.\n",
    " "
   ]
  },
  {
   "cell_type": "code",
   "execution_count": 1,
   "id": "2c1fb250",
   "metadata": {
    "execution": {
     "iopub.execute_input": "2022-12-01T11:44:55.772341Z",
     "iopub.status.busy": "2022-12-01T11:44:55.771755Z",
     "iopub.status.idle": "2022-12-01T11:44:59.060004Z",
     "shell.execute_reply": "2022-12-01T11:44:59.059108Z"
    },
    "papermill": {
     "duration": 3.305164,
     "end_time": "2022-12-01T11:44:59.063545",
     "exception": false,
     "start_time": "2022-12-01T11:44:55.758381",
     "status": "completed"
    },
    "tags": []
   },
   "outputs": [],
   "source": [
    "import platform\n",
    "import os\n",
    "import multiprocessing\n",
    "import numpy as np\n",
    "import pandas as pd\n",
    "import anndata as ad\n",
    "import scanpy as sc\n",
    "import seaborn as sns\n",
    "from sklearn.cluster import KMeans\n",
    "import re\n",
    "import outer_spacem as osm\n",
    "import sys\n",
    "sys.path.append('/home/mklein/spacem')\n",
    "sys.path.append('/Volumes/mklein/spacem')\n",
    "sys.path.append('/home/mklein/FDA_project')\n",
    "from src.correction import *\n",
    "from src.evaluation import intermixing, MetaboliteAnalysis\n",
    "\n",
    "%matplotlib inline\n",
    "%config InlineBackend.figure_formats = ['retina']"
   ]
  },
  {
   "cell_type": "code",
   "execution_count": 2,
   "id": "8847d788",
   "metadata": {
    "execution": {
     "iopub.execute_input": "2022-12-01T11:44:59.089949Z",
     "iopub.status.busy": "2022-12-01T11:44:59.089518Z",
     "iopub.status.idle": "2022-12-01T11:44:59.094703Z",
     "shell.execute_reply": "2022-12-01T11:44:59.093998Z"
    },
    "papermill": {
     "duration": 0.020356,
     "end_time": "2022-12-01T11:44:59.097221",
     "exception": false,
     "start_time": "2022-12-01T11:44:59.076865",
     "status": "completed"
    },
    "tags": [
     "parameters"
    ]
   },
   "outputs": [],
   "source": [
    "if platform.system() == \"Darwin\":\n",
    "    target_path = '/Volumes/mklein/FDA_project/data/Lx_Glioblastoma'\n",
    "    if True:\n",
    "        target_path = '/Users/mariusklein/Local_Project_Files/FDA_project/data/Lx_Glioblastoma'\n",
    "\n",
    "else:\n",
    "    target_path = '/home/mklein/FDA_project/data/Lx_Glioblastoma'\n",
    "\n",
    "condition_name = 'condition'\n",
    "well_name = 'rowcol'\n",
    "project = 'Lx_Glioblastoma'\n",
    "analysis_path = target_path"
   ]
  },
  {
   "cell_type": "code",
   "execution_count": 3,
   "id": "f0ac6a70",
   "metadata": {
    "execution": {
     "iopub.execute_input": "2022-12-01T11:44:59.119504Z",
     "iopub.status.busy": "2022-12-01T11:44:59.119183Z",
     "iopub.status.idle": "2022-12-01T11:44:59.124001Z",
     "shell.execute_reply": "2022-12-01T11:44:59.123001Z"
    },
    "papermill": {
     "duration": 0.018454,
     "end_time": "2022-12-01T11:44:59.126338",
     "exception": false,
     "start_time": "2022-12-01T11:44:59.107884",
     "status": "completed"
    },
    "tags": [
     "injected-parameters"
    ]
   },
   "outputs": [],
   "source": [
    "# Parameters\n",
    "source_path = \"/home/mklein/Raw Data/2022-01-31_PancreaticCancer\"\n",
    "target_path = \"/home/mklein/FDA_project/data/Lx_Pancreatic_Cancer\"\n",
    "condition_name = \"condition\"\n",
    "well_name = \"rowcol\"\n",
    "analysis_path = \"/home/mklein/FDA_project/analysis/Lx_Pancreatic_Cancer\"\n",
    "notebooks = [\n",
    "    \"pipeline_01_correction.ipynb\",\n",
    "    \"pipeline_02_processing.ipynb\",\n",
    "    \"pipeline_03_evaluation.ipynb\",\n",
    "]\n",
    "project = \"Lx_Pancreatic_Cancer\"\n"
   ]
  },
  {
   "cell_type": "markdown",
   "id": "95bda795",
   "metadata": {
    "papermill": {
     "duration": 0.009181,
     "end_time": "2022-12-01T11:44:59.145083",
     "exception": false,
     "start_time": "2022-12-01T11:44:59.135902",
     "status": "completed"
    },
    "tags": []
   },
   "source": [
    "Loading the uncorrected and ISM-corrected dataset from file. Additionally, loading the metadata CSV file to filter out excluded wells."
   ]
  },
  {
   "cell_type": "code",
   "execution_count": 4,
   "id": "f21c8c0b",
   "metadata": {
    "execution": {
     "iopub.execute_input": "2022-12-01T11:44:59.164140Z",
     "iopub.status.busy": "2022-12-01T11:44:59.163703Z",
     "iopub.status.idle": "2022-12-01T11:45:01.006904Z",
     "shell.execute_reply": "2022-12-01T11:45:01.005473Z"
    },
    "papermill": {
     "duration": 1.856184,
     "end_time": "2022-12-01T11:45:01.010259",
     "exception": false,
     "start_time": "2022-12-01T11:44:59.154075",
     "status": "completed"
    },
    "tags": []
   },
   "outputs": [],
   "source": [
    "adata = ad.read(os.path.join(target_path, \"gen_batch_sm_matrix.h5ad\"))\n",
    "adata_cor = ad.read(os.path.join(target_path, \"corrected_batch_sm_matrix.h5ad\"))"
   ]
  },
  {
   "cell_type": "markdown",
   "id": "cd2b728e",
   "metadata": {
    "tags": [
     "papermill-error-cell-tag"
    ]
   },
   "source": [
    "<span id=\"papermill-error-cell\" style=\"color:red; font-family:Helvetica Neue, Helvetica, Arial, sans-serif; font-size:2em;\">Execution using papermill encountered an exception here and stopped:</span>"
   ]
  },
  {
   "cell_type": "code",
   "execution_count": 5,
   "id": "cd1bf1bf",
   "metadata": {
    "execution": {
     "iopub.execute_input": "2022-12-01T11:45:01.037846Z",
     "iopub.status.busy": "2022-12-01T11:45:01.037200Z",
     "iopub.status.idle": "2022-12-01T11:45:01.441533Z",
     "shell.execute_reply": "2022-12-01T11:45:01.439716Z"
    },
    "papermill": {
     "duration": 0.420541,
     "end_time": "2022-12-01T11:45:01.443867",
     "exception": true,
     "start_time": "2022-12-01T11:45:01.023326",
     "status": "failed"
    },
    "tags": []
   },
   "outputs": [
    {
     "ename": "NameError",
     "evalue": "name 'metadata' is not defined",
     "output_type": "error",
     "traceback": [
      "\u001b[0;31m---------------------------------------------------------------------------\u001b[0m",
      "\u001b[0;31mNameError\u001b[0m                                 Traceback (most recent call last)",
      "Cell \u001b[0;32mIn [5], line 23\u001b[0m\n\u001b[1;32m     20\u001b[0m         adata \u001b[38;5;241m=\u001b[39m adata[adata\u001b[38;5;241m.\u001b[39mobs[condition_name]\u001b[38;5;241m.\u001b[39misin(keep_conditions), :]\u001b[38;5;241m.\u001b[39mcopy()\n\u001b[1;32m     21\u001b[0m     \u001b[38;5;28;01mreturn\u001b[39;00m adata\n\u001b[0;32m---> 23\u001b[0m adata \u001b[38;5;241m=\u001b[39m \u001b[43massign_conditions\u001b[49m\u001b[43m(\u001b[49m\u001b[43madata\u001b[49m\u001b[43m)\u001b[49m\n\u001b[1;32m     24\u001b[0m adata_cor \u001b[38;5;241m=\u001b[39m assign_conditions(adata_cor)\n\u001b[1;32m     26\u001b[0m adata\u001b[38;5;241m.\u001b[39mobs[condition_name]\u001b[38;5;241m.\u001b[39mvalue_counts()\n",
      "Cell \u001b[0;32mIn [5], line 14\u001b[0m, in \u001b[0;36massign_conditions\u001b[0;34m(adata)\u001b[0m\n\u001b[1;32m     11\u001b[0m index \u001b[38;5;241m=\u001b[39m adata\u001b[38;5;241m.\u001b[39mobs\u001b[38;5;241m.\u001b[39mindex\u001b[38;5;241m.\u001b[39mname\n\u001b[1;32m     12\u001b[0m new_obs \u001b[38;5;241m=\u001b[39m adata\u001b[38;5;241m.\u001b[39mobs\u001b[38;5;241m.\u001b[39mreset_index()\n\u001b[0;32m---> 14\u001b[0m new_obs \u001b[38;5;241m=\u001b[39m pd\u001b[38;5;241m.\u001b[39mmerge(new_obs, \u001b[43mmetadata\u001b[49m[[well_name, condition_name]], \n\u001b[1;32m     15\u001b[0m                    how\u001b[38;5;241m=\u001b[39m\u001b[38;5;124m'\u001b[39m\u001b[38;5;124minner\u001b[39m\u001b[38;5;124m'\u001b[39m, left_on\u001b[38;5;241m=\u001b[39m\u001b[38;5;124m'\u001b[39m\u001b[38;5;124mwell\u001b[39m\u001b[38;5;124m'\u001b[39m, right_on\u001b[38;5;241m=\u001b[39mwell_name)\u001b[38;5;241m.\u001b[39mset_index(index)\n\u001b[1;32m     17\u001b[0m adata \u001b[38;5;241m=\u001b[39m adata[new_obs\u001b[38;5;241m.\u001b[39mindex, :]\u001b[38;5;241m.\u001b[39mcopy()\n\u001b[1;32m     18\u001b[0m adata\u001b[38;5;241m.\u001b[39mobs \u001b[38;5;241m=\u001b[39m new_obs\n",
      "\u001b[0;31mNameError\u001b[0m: name 'metadata' is not defined"
     ]
    }
   ],
   "source": [
    "metadata_path = os.path.join(target_path, 'metadata.csv')\n",
    "samples = list(set(adata.obs['well']))\n",
    "\n",
    "if os.path.exists(metadata_path):\n",
    "    metadata = pd.read_csv(metadata_path)\n",
    "    if well_name not in metadata.columns:\n",
    "        metadata[well_name] = metadata['row'].astype(str) + metadata['col'].astype(str)\n",
    "    samples = list(metadata[well_name])\n",
    "\n",
    "def assign_conditions(adata):\n",
    "    index = adata.obs.index.name\n",
    "    new_obs = adata.obs.reset_index()\n",
    "    \n",
    "    new_obs = pd.merge(new_obs, metadata[[well_name, condition_name]], \n",
    "                       how='inner', left_on='well', right_on=well_name).set_index(index)\n",
    "    \n",
    "    adata = adata[new_obs.index, :].copy()\n",
    "    adata.obs = new_obs\n",
    "    if 'keep_conditions' in globals():\n",
    "        adata = adata[adata.obs[condition_name].isin(keep_conditions), :].copy()\n",
    "    return adata\n",
    "\n",
    "adata = assign_conditions(adata)\n",
    "adata_cor = assign_conditions(adata_cor)\n",
    "\n",
    "adata.obs[condition_name].value_counts()"
   ]
  },
  {
   "cell_type": "markdown",
   "id": "af725b7f",
   "metadata": {
    "papermill": {
     "duration": null,
     "end_time": null,
     "exception": null,
     "start_time": null,
     "status": "pending"
    },
    "tags": []
   },
   "source": [
    "The loaded datasets are preprocessed in the same way:\n",
    "\n",
    "- cells need non-zero intensities for at least 10 ions.\n",
    "- ions need non-zero intensities for at least 200 cells.\n",
    "- intensties are normalized to TIC and log-transformed (log(x+1))\n",
    "\n",
    "After that, both datasets are subset to contain the same ions and cells (intersection)."
   ]
  },
  {
   "cell_type": "code",
   "execution_count": null,
   "id": "7b502af7",
   "metadata": {
    "papermill": {
     "duration": null,
     "end_time": null,
     "exception": null,
     "start_time": null,
     "status": "pending"
    },
    "tags": []
   },
   "outputs": [],
   "source": [
    "def preprocess(adata):\n",
    "    \n",
    "    sc.pp.filter_cells(adata, min_genes=10)\n",
    "    sc.pp.filter_genes(adata, min_cells=200)\n",
    "    adata.raw = adata\n",
    "    # sc.pp.scale(adata)\n",
    "    sc.pp.normalize_total(adata, target_sum=None)\n",
    "    # sc.pp.log1p(adata)\n",
    "    \n",
    "    adata.var['median_intensity'] = np.median(adata.X, axis=0)\n",
    "    adata.var['mean_intensity'] = np.mean(adata.X, axis=0)\n",
    "    # adata_x = adata.X.copy()\n",
    "    # adata_x[adata_x == 0] = np.nan\n",
    "    # adata.var['median_intensity_nonzero'] = np.nanmedian(adata_x, axis=0)\n",
    "    \n",
    "    \n",
    "    \n",
    "preprocess(adata)\n",
    "preprocess(adata_cor)\n",
    "\n",
    "print(adata.shape)\n",
    "print(adata_cor.shape)\n"
   ]
  },
  {
   "cell_type": "code",
   "execution_count": null,
   "id": "5f6456cd",
   "metadata": {
    "papermill": {
     "duration": null,
     "end_time": null,
     "exception": null,
     "start_time": null,
     "status": "pending"
    },
    "tags": []
   },
   "outputs": [],
   "source": [
    "included_molecules = adata.var_names.intersection(adata_cor.var_names)\n",
    "included_cells = adata.obs_names.intersection(adata_cor.obs_names)\n",
    "\n",
    "def subset_molecules(adata):\n",
    "    \n",
    "    return adata[included_cells, included_molecules].copy()\n",
    "\n",
    "adata = subset_molecules(adata)\n",
    "adata_cor = subset_molecules(adata_cor)\n",
    "\n",
    "print(adata.shape)\n",
    "print(adata_cor.shape)"
   ]
  },
  {
   "cell_type": "markdown",
   "id": "60861ce0",
   "metadata": {
    "papermill": {
     "duration": null,
     "end_time": null,
     "exception": null,
     "start_time": null,
     "status": "pending"
    },
    "tags": []
   },
   "source": [
    "Before analysis, asserting that the two data files were deconvoluted in the same way. Specifically, the corrected dataframe cannot have non-zero values at positions where the uncorrected dataframe has zero values."
   ]
  },
  {
   "cell_type": "code",
   "execution_count": null,
   "id": "c1570ff2",
   "metadata": {
    "papermill": {
     "duration": null,
     "end_time": null,
     "exception": null,
     "start_time": null,
     "status": "pending"
    },
    "tags": []
   },
   "outputs": [],
   "source": [
    "assert not any(pd.Series(np.array((adata.to_df() == 0) & (adata_cor.to_df()!= 0)).flatten()))"
   ]
  },
  {
   "cell_type": "code",
   "execution_count": null,
   "id": "eab36efa",
   "metadata": {
    "papermill": {
     "duration": null,
     "end_time": null,
     "exception": null,
     "start_time": null,
     "status": "pending"
    },
    "tags": []
   },
   "outputs": [],
   "source": [
    "adata.obs['correction'] = 'uncorrected'\n",
    "adata_cor.obs['correction'] = 'ISM correction'"
   ]
  },
  {
   "cell_type": "markdown",
   "id": "84610606",
   "metadata": {
    "papermill": {
     "duration": null,
     "end_time": null,
     "exception": null,
     "start_time": null,
     "status": "pending"
    },
    "tags": []
   },
   "source": [
    "## Effects of the correction on different molecules\n",
    "\n",
    "The ISM correction is performed per ion on the logarithmized intensity / sampling proportion ratio. The underlying quantile regression can only be computed with a minimum number of datapoints. If an ion has less than 10 datapoints, the quantile regression is instead computed based on a reference pool of ions.\n",
    "In the following, the resulting slopes by which all ions have been corrected are visualized. Ions that were corrected using the reference pool are shown separately.\n"
   ]
  },
  {
   "cell_type": "code",
   "execution_count": null,
   "id": "f6c2fda1",
   "metadata": {
    "papermill": {
     "duration": null,
     "end_time": null,
     "exception": null,
     "start_time": null,
     "status": "pending"
    },
    "tags": []
   },
   "outputs": [],
   "source": [
    "grid = sns.FacetGrid(adata_cor.var[['mean_correction_quantreg_slope', 'corrected_only_using_pool']], col='corrected_only_using_pool', hue='corrected_only_using_pool', sharey=False)\n",
    "grid.map(sns.kdeplot, 'mean_correction_quantreg_slope')\n",
    "cor_pool = list(adata_cor.var[adata_cor.var['corrected_only_using_pool'] == True].index)"
   ]
  },
  {
   "cell_type": "markdown",
   "id": "35cb6507",
   "metadata": {
    "papermill": {
     "duration": null,
     "end_time": null,
     "exception": null,
     "start_time": null,
     "status": "pending"
    },
    "tags": []
   },
   "source": [
    "Based on the slopes of the correction but also the logfoldchanges between corrected and uncorrected cells, one can infer the extent of alteration of different metabolites in the correction. These measures not necessarily correlate, thus the degree of correction of ions has to be evaluated on individual datasets."
   ]
  },
  {
   "cell_type": "code",
   "execution_count": null,
   "id": "ec7548ff",
   "metadata": {
    "papermill": {
     "duration": null,
     "end_time": null,
     "exception": null,
     "start_time": null,
     "status": "pending"
    },
    "tags": []
   },
   "outputs": [],
   "source": [
    "import src.evaluation\n",
    "from importlib import reload\n",
    "reload(src.evaluation)\n",
    "from src.evaluation import MetaboliteAnalysis"
   ]
  },
  {
   "cell_type": "code",
   "execution_count": null,
   "id": "a3494767",
   "metadata": {
    "papermill": {
     "duration": null,
     "end_time": null,
     "exception": null,
     "start_time": null,
     "status": "pending"
    },
    "tags": []
   },
   "outputs": [],
   "source": [
    "ma_raw = MetaboliteAnalysis(adata=adata, adata_cor=adata_cor, condition_name = condition_name, \n",
    "                        obs_columns = ['list_TPO'],\n",
    "                        var_columns = ['corrected_only_using_pool', 'mean_correction_quantreg_slope', \n",
    "                                       'n_cells','median_intensity', 'mean_intensity', 'sum_correction_using_ion_pool'],\n",
    "                       use_raw = True)"
   ]
  },
  {
   "cell_type": "code",
   "execution_count": null,
   "id": "7eae3007",
   "metadata": {
    "papermill": {
     "duration": null,
     "end_time": null,
     "exception": null,
     "start_time": null,
     "status": "pending"
    },
    "tags": []
   },
   "outputs": [],
   "source": [
    "ma_raw.pair_plot(exclude_ref_corrected = False)"
   ]
  },
  {
   "cell_type": "code",
   "execution_count": null,
   "id": "fe6af835",
   "metadata": {
    "papermill": {
     "duration": null,
     "end_time": null,
     "exception": null,
     "start_time": null,
     "status": "pending"
    },
    "tags": []
   },
   "outputs": [],
   "source": [
    "ma_raw.volcano_plot(exclude_ref_corrected = False)"
   ]
  },
  {
   "cell_type": "code",
   "execution_count": null,
   "id": "e42fb6c1",
   "metadata": {
    "papermill": {
     "duration": null,
     "end_time": null,
     "exception": null,
     "start_time": null,
     "status": "pending"
    },
    "tags": []
   },
   "outputs": [],
   "source": [
    "sc.pl.rank_genes_groups_tracksplot(ma_raw.conc_adata, groupby='correction', dendrogram=False)"
   ]
  },
  {
   "cell_type": "code",
   "execution_count": null,
   "id": "5fec56a1",
   "metadata": {
    "papermill": {
     "duration": null,
     "end_time": null,
     "exception": null,
     "start_time": null,
     "status": "pending"
    },
    "tags": []
   },
   "outputs": [],
   "source": [
    "ma_raw.quotient_plot()"
   ]
  },
  {
   "cell_type": "code",
   "execution_count": null,
   "id": "3b818f7a",
   "metadata": {
    "papermill": {
     "duration": null,
     "end_time": null,
     "exception": null,
     "start_time": null,
     "status": "pending"
    },
    "tags": []
   },
   "outputs": [],
   "source": [
    "ma_raw.top_ion_plot()"
   ]
  },
  {
   "cell_type": "code",
   "execution_count": null,
   "id": "69753109",
   "metadata": {
    "papermill": {
     "duration": null,
     "end_time": null,
     "exception": null,
     "start_time": null,
     "status": "pending"
    },
    "tags": []
   },
   "outputs": [],
   "source": [
    "_ = ma_raw.save_matrix(save_to_path = analysis_path, safe_to_name = project)"
   ]
  },
  {
   "cell_type": "markdown",
   "id": "2c365f16",
   "metadata": {
    "papermill": {
     "duration": null,
     "end_time": null,
     "exception": null,
     "start_time": null,
     "status": "pending"
    },
    "tags": []
   },
   "source": [
    "The same analysis is then carried out for the TIC-corrected and log-transformed data: Here, the differences between uncorrected and ISM-corrected data are much more subtle. This corresponds better with the UMAPs further down, as they also show very little noticebly differences between uncorrected and ISM-corrected datasets."
   ]
  },
  {
   "cell_type": "code",
   "execution_count": null,
   "id": "8460fc52",
   "metadata": {
    "papermill": {
     "duration": null,
     "end_time": null,
     "exception": null,
     "start_time": null,
     "status": "pending"
    },
    "tags": []
   },
   "outputs": [],
   "source": [
    "ma = MetaboliteAnalysis(adata=adata, adata_cor=adata_cor, condition_name = condition_name, \n",
    "                        obs_columns = ['list_TPO'],\n",
    "                        var_columns = ['corrected_only_using_pool', 'mean_correction_quantreg_slope', \n",
    "                                       'n_cells','median_intensity', 'mean_intensity', 'sum_correction_using_ion_pool'],\n",
    "                       use_raw = False)"
   ]
  },
  {
   "cell_type": "code",
   "execution_count": null,
   "id": "8d96d94d",
   "metadata": {
    "papermill": {
     "duration": null,
     "end_time": null,
     "exception": null,
     "start_time": null,
     "status": "pending"
    },
    "tags": []
   },
   "outputs": [],
   "source": [
    "sc.pl.rank_genes_groups_tracksplot(ma.conc_adata, groupby='correction', dendrogram=False)"
   ]
  },
  {
   "cell_type": "code",
   "execution_count": null,
   "id": "0d2cfc0e",
   "metadata": {
    "papermill": {
     "duration": null,
     "end_time": null,
     "exception": null,
     "start_time": null,
     "status": "pending"
    },
    "tags": []
   },
   "outputs": [],
   "source": [
    "ma.quotient_plot()"
   ]
  },
  {
   "cell_type": "code",
   "execution_count": null,
   "id": "96f6c23d",
   "metadata": {
    "papermill": {
     "duration": null,
     "end_time": null,
     "exception": null,
     "start_time": null,
     "status": "pending"
    },
    "tags": []
   },
   "outputs": [],
   "source": [
    "ma.top_ion_plot()"
   ]
  },
  {
   "cell_type": "markdown",
   "id": "a110944f",
   "metadata": {
    "papermill": {
     "duration": null,
     "end_time": null,
     "exception": null,
     "start_time": null,
     "status": "pending"
    },
    "tags": []
   },
   "source": [
    "## Comparison of the datasets\n",
    "\n",
    "In the following, the uncorrected and ISM-corrected datasets are compared using methods of a typical single-cell analysis."
   ]
  },
  {
   "cell_type": "code",
   "execution_count": null,
   "id": "1d3f5dc8",
   "metadata": {
    "papermill": {
     "duration": null,
     "end_time": null,
     "exception": null,
     "start_time": null,
     "status": "pending"
    },
    "tags": []
   },
   "outputs": [],
   "source": [
    "def dimred_pca(adata):\n",
    "    sc.pp.pca(adata)\n",
    "    sc.pl.pca_overview(adata, color=['well', condition_name], palette='cividis')\n",
    "\n",
    "dimred_pca(adata)\n",
    "dimred_pca(adata_cor)"
   ]
  },
  {
   "cell_type": "code",
   "execution_count": null,
   "id": "4ca2dc53",
   "metadata": {
    "papermill": {
     "duration": null,
     "end_time": null,
     "exception": null,
     "start_time": null,
     "status": "pending"
    },
    "tags": []
   },
   "outputs": [],
   "source": [
    "def dimred_umap(adata, min_dist = 0.5):\n",
    "    sc.pp.neighbors(adata, n_neighbors=50, metric='cosine')\n",
    "    sc.tl.umap(adata, min_dist=min_dist, spread=1.0, random_state=1, n_components=2)\n",
    "    sc.pl.umap(adata, color=['well', condition_name], palette='cividis')\n",
    "    f = osm.pl.highlight_scatterplot(\n",
    "        data = adata,\n",
    "        obsm_key = \"X_umap\",\n",
    "        hue = condition_name,\n",
    "        col = condition_name,\n",
    "        palette = \"cividis\",\n",
    "        trim_axes=True,\n",
    "        height = 5,\n",
    "        scatter_kwargs = dict(s=5)\n",
    "    )\n",
    "\n",
    "    f.add_legend(markerscale=3)\n",
    "\n",
    "\n",
    "dimred_umap(adata)\n",
    "dimred_umap(adata_cor)\n"
   ]
  },
  {
   "cell_type": "code",
   "execution_count": null,
   "id": "90269e2d",
   "metadata": {
    "papermill": {
     "duration": null,
     "end_time": null,
     "exception": null,
     "start_time": null,
     "status": "pending"
    },
    "tags": []
   },
   "outputs": [],
   "source": [
    "# from sklearn.metrics.cluster import completeness_score\n",
    "# from sklearn.metrics import accuracy_score, silhouette_score\n",
    "# \n",
    "# def kmeans_clust(adata):\n",
    "#     n_clusters = len(adata.obs[condition_name].value_counts())\n",
    "#     kmeans = KMeans(n_clusters=n_clusters, random_state=0).fit(adata.X)\n",
    "#     adata.obs['kmeans'] = kmeans.labels_.astype(str)\n",
    "# \n",
    "#     sc.tl.leiden(adata, resolution=2)\n",
    "# \n",
    "#     leiden = np.array(adata.obs['leiden'].values)\n",
    "#     leiden_curated = np.copy(leiden)\n",
    "#     fc = np.array(adata.obs[condition_name].values)\n",
    "#     for cluster in np.unique(leiden):\n",
    "#         labels, counts = np.unique(fc[leiden == cluster], return_counts=True)\n",
    "#         leiden_curated[leiden == cluster] = str(labels[counts == np.max(counts)][0])\n",
    "#     adata.obs['leiden_curated'] = leiden_curated\n",
    "# \n",
    "#     sc.pl.umap(adata, color=['kmeans', 'leiden', 'leiden_curated', condition_name], palette='cividis')\n",
    "#     # print('Leiden acccuracy score: %1.4f' % accuracy_score(y_true = adata.obs[condition_name].replace(['HeLa', 'NIH3T3'], ['0', '1']), y_pred = adata.obs['leiden']))\n",
    "#     print('Curated leiden acccuracy score: %1.4f' % accuracy_score(y_true = adata.obs[condition_name], y_pred = adata.obs['leiden_curated']))\n",
    "#     print('KMeans completeness score: %1.4f' % completeness_score(adata.obs[condition_name], adata.obs['kmeans']))\n",
    "#     print('KMeans silhouette coefficient: %1.4f' % silhouette_score(adata.X, adata.obs['kmeans']))\n",
    "# \n",
    "# kmeans_clust(adata)\n",
    "# kmeans_clust(adata_cor)\n",
    "# "
   ]
  },
  {
   "cell_type": "code",
   "execution_count": null,
   "id": "2daedf2e",
   "metadata": {
    "papermill": {
     "duration": null,
     "end_time": null,
     "exception": null,
     "start_time": null,
     "status": "pending"
    },
    "tags": []
   },
   "outputs": [],
   "source": [
    "summaries = intermixing({'uncorrected': adata, 'ISM correction': adata_cor}, condition_name = condition_name, measures = ['X_pca', 'X_umap'])"
   ]
  },
  {
   "cell_type": "code",
   "execution_count": null,
   "id": "b6b88add",
   "metadata": {
    "papermill": {
     "duration": null,
     "end_time": null,
     "exception": null,
     "start_time": null,
     "status": "pending"
    },
    "tags": []
   },
   "outputs": [],
   "source": [
    "s = intermixing(\n",
    "    adata_dict = {'uncorrected': adata, 'ISM correction': adata_cor},\n",
    "    condition_name = condition_name,\n",
    "    sample_frac=0.1,\n",
    "    measures =['X_umap', 'X_pca'],\n",
    "    n_datapoints = 50,\n",
    "    sample_log = True,\n",
    "    neighborhood_size = None,\n",
    "    normalized = False,\n",
    "    show_table = [],\n",
    "    n_jobs = multiprocessing.cpu_count()\n",
    ")"
   ]
  },
  {
   "cell_type": "code",
   "execution_count": null,
   "id": "9e5c580f",
   "metadata": {
    "papermill": {
     "duration": null,
     "end_time": null,
     "exception": null,
     "start_time": null,
     "status": "pending"
    },
    "tags": []
   },
   "outputs": [],
   "source": [
    "from scipy.integrate import trapz, simps\n",
    "\n",
    "def auc_intermixing(summary_dict):\n",
    "    for name, data in summary_dict.items():\n",
    "        print('Area under the curve for %s: %1.4f'%(name, trapz(data['mean'], data.index) / max(data.index)))\n",
    "\n",
    "\n",
    "auc_intermixing(s[1])"
   ]
  },
  {
   "cell_type": "code",
   "execution_count": null,
   "id": "da43c65d",
   "metadata": {
    "papermill": {
     "duration": null,
     "end_time": null,
     "exception": null,
     "start_time": null,
     "status": "pending"
    },
    "tags": []
   },
   "outputs": [],
   "source": [
    "from sklearn.svm import LinearSVC\n",
    "\n",
    "def get_svm_margin(adata, size_factor = 1):\n",
    "    predictors = adata.X * size_factor\n",
    "    result = adata.obs[condition_name]\n",
    "    clf = LinearSVC(random_state=0, dual=False)\n",
    "    clf.fit(predictors, result)  \n",
    "    margin_df = pd.DataFrame({'condition': clf.classes_, 'margin': 1 / np.sqrt(np.sum(clf.coef_**2, axis=1))})\n",
    "    #print(margin_df)\n",
    "    return margin_df\n",
    "\n",
    "df = pd.merge(get_svm_margin(adata), get_svm_margin(adata_cor, size_factor = np.sum(adata.X) / np.sum(adata_cor.X)), on='condition', suffixes=['_uncorrected', '_ISM_corrected'])"
   ]
  },
  {
   "cell_type": "code",
   "execution_count": null,
   "id": "8d4a8aa9",
   "metadata": {
    "papermill": {
     "duration": null,
     "end_time": null,
     "exception": null,
     "start_time": null,
     "status": "pending"
    },
    "tags": []
   },
   "outputs": [],
   "source": [
    "sns.set(rc={\"figure.figsize\":(12, 5)})\n",
    "sns.barplot(df.melt(id_vars='condition', var_name='correction', value_name='margin'), x='condition', y='margin', hue='correction')"
   ]
  },
  {
   "cell_type": "code",
   "execution_count": null,
   "id": "67dd6d2a",
   "metadata": {
    "papermill": {
     "duration": null,
     "end_time": null,
     "exception": null,
     "start_time": null,
     "status": "pending"
    },
    "tags": []
   },
   "outputs": [],
   "source": [
    "from sklearn.discriminant_analysis import LinearDiscriminantAnalysis\n",
    "from sklearn.model_selection import RepeatedStratifiedKFold, cross_val_score\n",
    "\n",
    "def LDA(adata):\n",
    "    predictors = adata.X\n",
    "    result = adata.obs[condition_name]\n",
    "    model = LinearDiscriminantAnalysis()\n",
    "    model.fit(predictors, result)  \n",
    "\n",
    "    cv = RepeatedStratifiedKFold(n_splits=10, n_repeats=10, random_state=1)\n",
    "    scores = cross_val_score(model, predictors, result, scoring='accuracy', cv=cv, n_jobs=multiprocessing.cpu_count()-5)\n",
    "    \n",
    "    adata.obs['lda'] = model.predict(adata.X)\n",
    "    sc.pl.umap(adata, color=[condition_name, 'lda'], palette='cividis')\n",
    "    print(\"LDA accuracy after 10-fold cross-validation: %1.4f (±%1.4f)\" % (np.mean(scores), np.std(scores)))  \n",
    "\n",
    "\n",
    "LDA(adata) \n",
    "LDA(adata_cor) "
   ]
  }
 ],
 "metadata": {
  "kernelspec": {
   "display_name": "Python 3 (ipykernel)",
   "language": "python",
   "name": "python3"
  },
  "language_info": {
   "codemirror_mode": {
    "name": "ipython",
    "version": 3
   },
   "file_extension": ".py",
   "mimetype": "text/x-python",
   "name": "python",
   "nbconvert_exporter": "python",
   "pygments_lexer": "ipython3",
   "version": "3.10.6"
  },
  "papermill": {
   "default_parameters": {},
   "duration": 8.270612,
   "end_time": "2022-12-01T11:45:02.479809",
   "environment_variables": {},
   "exception": true,
   "input_path": "/home/mklein/FDA_project/pipeline_03_evaluation.ipynb",
   "output_path": "/home/mklein/FDA_project/analysis/Lx_Pancreatic_Cancer/pipeline_03_evaluation.ipynb",
   "parameters": {
    "analysis_path": "/home/mklein/FDA_project/analysis/Lx_Pancreatic_Cancer",
    "condition_name": "condition",
    "notebooks": [
     "pipeline_01_correction.ipynb",
     "pipeline_02_processing.ipynb",
     "pipeline_03_evaluation.ipynb"
    ],
    "project": "Lx_Pancreatic_Cancer",
    "source_path": "/home/mklein/Raw Data/2022-01-31_PancreaticCancer",
    "target_path": "/home/mklein/FDA_project/data/Lx_Pancreatic_Cancer",
    "well_name": "rowcol"
   },
   "start_time": "2022-12-01T11:44:54.209197",
   "version": "2.3.4"
  },
  "vscode": {
   "interpreter": {
    "hash": "89b4449ee30f46b148fb6825d70934bcbb1ebdb6d5b2015fe3835362773c7289"
   }
  }
 },
 "nbformat": 4,
 "nbformat_minor": 5
}
