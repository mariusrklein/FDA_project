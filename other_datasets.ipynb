{
 "cells": [
  {
   "cell_type": "code",
   "execution_count": 1,
   "metadata": {},
   "outputs": [],
   "source": [
    "import os\n",
    "import scanpy as sc\n",
    "import pandas as pd\n",
    "import numpy as np\n",
    "from src.functions import get_matrices_from_dfs"
   ]
  },
  {
   "cell_type": "code",
   "execution_count": 2,
   "metadata": {},
   "outputs": [],
   "source": [
    "project_path = '/Volumes/alexandr/smenon/2022-07-13_Glioblastoma/processed_files'\n",
    "samples = os.listdir(project_path)"
   ]
  },
  {
   "cell_type": "code",
   "execution_count": 3,
   "metadata": {},
   "outputs": [
    {
     "data": {
      "text/plain": [
       "{'sm_matrix': '/Volumes/alexandr/smenon/2022-07-13_Glioblastoma/processed_files/B1/analysis/ablation_mark_analysis/spatiomolecular_adata.h5ad',\n",
       " 'overlap_regions': '/Volumes/alexandr/smenon/2022-07-13_Glioblastoma/processed_files/B1/analysis/overlap_analysis1/overlap.regions.csv',\n",
       " 'mark_regions': '/Volumes/alexandr/smenon/2022-07-13_Glioblastoma/processed_files/B1/analysis/overlap_analysis1/ablation_mark.regions.csv',\n",
       " 'cell_regions': '/Volumes/alexandr/smenon/2022-07-13_Glioblastoma/processed_files/B1/analysis/overlap_analysis1/cell.regions.csv',\n",
       " 'cell_sm_matrix': '/Volumes/alexandr/smenon/2022-07-13_Glioblastoma/processed_files/B1/analysis/single_cell_analysis/spatiomolecular_adata.h5ad'}"
      ]
     },
     "execution_count": 3,
     "metadata": {},
     "output_type": "execute_result"
    }
   ],
   "source": [
    "sample = os.path.join(project_path, samples[0], \"analysis\")\n",
    "files = {\n",
    "    'sm_matrix': 'ablation_mark_analysis/spatiomolecular_adata.h5ad',\n",
    "    'overlap_regions': 'overlap_analysis1/overlap.regions.csv',\n",
    "    'mark_regions': 'overlap_analysis1/ablation_mark.regions.csv',\n",
    "    'cell_regions': 'overlap_analysis1/cell.regions.csv',\n",
    "    'cell_sm_matrix': 'single_cell_analysis/spatiomolecular_adata.h5ad',\n",
    "}\n",
    "\n",
    "project_files = {k: os.path.join(sample, v) for k, v in files.items()}\n",
    "\n",
    "project_files"
   ]
  },
  {
   "cell_type": "code",
   "execution_count": 4,
   "metadata": {},
   "outputs": [
    {
     "data": {
      "text/html": [
       "<div>\n",
       "<style scoped>\n",
       "    .dataframe tbody tr th:only-of-type {\n",
       "        vertical-align: middle;\n",
       "    }\n",
       "\n",
       "    .dataframe tbody tr th {\n",
       "        vertical-align: top;\n",
       "    }\n",
       "\n",
       "    .dataframe thead th {\n",
       "        text-align: right;\n",
       "    }\n",
       "</style>\n",
       "<table border=\"1\" class=\"dataframe\">\n",
       "  <thead>\n",
       "    <tr style=\"text-align: right;\">\n",
       "      <th></th>\n",
       "      <th>overlap_id</th>\n",
       "      <th>cell_id</th>\n",
       "      <th>am_id</th>\n",
       "      <th>bbox_x0</th>\n",
       "      <th>bbox_y0</th>\n",
       "      <th>bbox_x1</th>\n",
       "      <th>bbox_y1</th>\n",
       "      <th>area</th>\n",
       "    </tr>\n",
       "  </thead>\n",
       "  <tbody>\n",
       "    <tr>\n",
       "      <th>0</th>\n",
       "      <td>1</td>\n",
       "      <td>3</td>\n",
       "      <td>17</td>\n",
       "      <td>645</td>\n",
       "      <td>22</td>\n",
       "      <td>667</td>\n",
       "      <td>30</td>\n",
       "      <td>120.0</td>\n",
       "    </tr>\n",
       "    <tr>\n",
       "      <th>1</th>\n",
       "      <td>2</td>\n",
       "      <td>4</td>\n",
       "      <td>55</td>\n",
       "      <td>2122</td>\n",
       "      <td>22</td>\n",
       "      <td>2152</td>\n",
       "      <td>46</td>\n",
       "      <td>333.0</td>\n",
       "    </tr>\n",
       "    <tr>\n",
       "      <th>2</th>\n",
       "      <td>3</td>\n",
       "      <td>5</td>\n",
       "      <td>70</td>\n",
       "      <td>2729</td>\n",
       "      <td>23</td>\n",
       "      <td>2742</td>\n",
       "      <td>45</td>\n",
       "      <td>220.0</td>\n",
       "    </tr>\n",
       "    <tr>\n",
       "      <th>3</th>\n",
       "      <td>4</td>\n",
       "      <td>5</td>\n",
       "      <td>71</td>\n",
       "      <td>2746</td>\n",
       "      <td>21</td>\n",
       "      <td>2778</td>\n",
       "      <td>42</td>\n",
       "      <td>353.0</td>\n",
       "    </tr>\n",
       "    <tr>\n",
       "      <th>4</th>\n",
       "      <td>5</td>\n",
       "      <td>6</td>\n",
       "      <td>37</td>\n",
       "      <td>1440</td>\n",
       "      <td>22</td>\n",
       "      <td>1456</td>\n",
       "      <td>53</td>\n",
       "      <td>290.0</td>\n",
       "    </tr>\n",
       "    <tr>\n",
       "      <th>...</th>\n",
       "      <td>...</td>\n",
       "      <td>...</td>\n",
       "      <td>...</td>\n",
       "      <td>...</td>\n",
       "      <td>...</td>\n",
       "      <td>...</td>\n",
       "      <td>...</td>\n",
       "      <td>...</td>\n",
       "    </tr>\n",
       "    <tr>\n",
       "      <th>1236</th>\n",
       "      <td>1237</td>\n",
       "      <td>321</td>\n",
       "      <td>6269</td>\n",
       "      <td>1104</td>\n",
       "      <td>3092</td>\n",
       "      <td>1132</td>\n",
       "      <td>3110</td>\n",
       "      <td>308.0</td>\n",
       "    </tr>\n",
       "    <tr>\n",
       "      <th>1237</th>\n",
       "      <td>1238</td>\n",
       "      <td>321</td>\n",
       "      <td>6348</td>\n",
       "      <td>1085</td>\n",
       "      <td>3114</td>\n",
       "      <td>1087</td>\n",
       "      <td>3115</td>\n",
       "      <td>2.0</td>\n",
       "    </tr>\n",
       "    <tr>\n",
       "      <th>1238</th>\n",
       "      <td>1239</td>\n",
       "      <td>321</td>\n",
       "      <td>6349</td>\n",
       "      <td>1107</td>\n",
       "      <td>3114</td>\n",
       "      <td>1139</td>\n",
       "      <td>3131</td>\n",
       "      <td>331.0</td>\n",
       "    </tr>\n",
       "    <tr>\n",
       "      <th>1239</th>\n",
       "      <td>1240</td>\n",
       "      <td>321</td>\n",
       "      <td>6350</td>\n",
       "      <td>1143</td>\n",
       "      <td>3114</td>\n",
       "      <td>1178</td>\n",
       "      <td>3146</td>\n",
       "      <td>796.0</td>\n",
       "    </tr>\n",
       "    <tr>\n",
       "      <th>1240</th>\n",
       "      <td>1241</td>\n",
       "      <td>321</td>\n",
       "      <td>6351</td>\n",
       "      <td>1182</td>\n",
       "      <td>3117</td>\n",
       "      <td>1198</td>\n",
       "      <td>3138</td>\n",
       "      <td>183.0</td>\n",
       "    </tr>\n",
       "  </tbody>\n",
       "</table>\n",
       "<p>1241 rows × 8 columns</p>\n",
       "</div>"
      ],
      "text/plain": [
       "      overlap_id  cell_id  am_id  bbox_x0  bbox_y0  bbox_x1  bbox_y1   area\n",
       "0              1        3     17      645       22      667       30  120.0\n",
       "1              2        4     55     2122       22     2152       46  333.0\n",
       "2              3        5     70     2729       23     2742       45  220.0\n",
       "3              4        5     71     2746       21     2778       42  353.0\n",
       "4              5        6     37     1440       22     1456       53  290.0\n",
       "...          ...      ...    ...      ...      ...      ...      ...    ...\n",
       "1236        1237      321   6269     1104     3092     1132     3110  308.0\n",
       "1237        1238      321   6348     1085     3114     1087     3115    2.0\n",
       "1238        1239      321   6349     1107     3114     1139     3131  331.0\n",
       "1239        1240      321   6350     1143     3114     1178     3146  796.0\n",
       "1240        1241      321   6351     1182     3117     1198     3138  183.0\n",
       "\n",
       "[1241 rows x 8 columns]"
      ]
     },
     "execution_count": 4,
     "metadata": {},
     "output_type": "execute_result"
    }
   ],
   "source": [
    "cell_regions = pd.read_csv(project_files['cell_regions'])\n",
    "mark_regions = pd.read_csv(project_files['mark_regions'])\n",
    "overlap_regions = pd.read_csv(project_files['overlap_regions'])\n",
    "overlap_regions"
   ]
  },
  {
   "cell_type": "code",
   "execution_count": 5,
   "metadata": {},
   "outputs": [],
   "source": [
    "overlap_matrix, sampling_spec_matrix = get_matrices_from_dfs(mark_area = mark_regions, cell_area = cell_regions, marks_cell_overlap = overlap_regions)"
   ]
  },
  {
   "cell_type": "code",
   "execution_count": 6,
   "metadata": {},
   "outputs": [
    {
     "data": {
      "text/plain": [
       "AnnData object with n_obs × n_vars = 6400 × 2100\n",
       "    obs: 'center_x', 'center_y', 'am_area', 'am_sampling_area', 'am_sampling_ratio', 'am_nearest_cell_distance', 'centroid-0', 'centroid-1', 'bbox-0', 'bbox-1', 'bbox-2', 'bbox-3', 'local_centroid-0', 'local_centroid-1', 'area', 'filled_area', 'solidity', 'perimeter', 'eccentricity', 'euler_number', 'moments_hu-0', 'moments_hu-1', 'moments_hu-2', 'moments_hu-3', 'moments_hu-4', 'moments_hu-5', 'moments_hu-6', 'moments_central-0-0', 'moments_central-0-1', 'moments_central-0-2', 'moments_central-0-3', 'moments_central-1-0', 'moments_central-1-1', 'moments_central-1-2', 'moments_central-1-3', 'moments_central-2-0', 'moments_central-2-1', 'moments_central-2-2', 'moments_central-2-3', 'moments_central-3-0', 'moments_central-3-1', 'moments_central-3-2', 'moments_central-3-3', 'inertia_tensor_eigvals-0', 'inertia_tensor_eigvals-1', 'major_axis_length', 'minor_axis_length', 'weighted_moments_central-0-0-DAPI', 'weighted_moments_central-0-1-DAPI', 'weighted_moments_central-0-2-DAPI', 'weighted_moments_central-0-3-DAPI', 'weighted_moments_central-1-0-DAPI', 'weighted_moments_central-1-1-DAPI', 'weighted_moments_central-1-2-DAPI', 'weighted_moments_central-1-3-DAPI', 'weighted_moments_central-2-0-DAPI', 'weighted_moments_central-2-1-DAPI', 'weighted_moments_central-2-2-DAPI', 'weighted_moments_central-2-3-DAPI', 'weighted_moments_central-3-0-DAPI', 'weighted_moments_central-3-1-DAPI', 'weighted_moments_central-3-2-DAPI', 'weighted_moments_central-3-3-DAPI', 'weighted_moments_normalized-0-0-DAPI', 'weighted_moments_normalized-0-1-DAPI', 'weighted_moments_normalized-0-2-DAPI', 'weighted_moments_normalized-0-3-DAPI', 'weighted_moments_normalized-1-0-DAPI', 'weighted_moments_normalized-1-1-DAPI', 'weighted_moments_normalized-1-2-DAPI', 'weighted_moments_normalized-1-3-DAPI', 'weighted_moments_normalized-2-0-DAPI', 'weighted_moments_normalized-2-1-DAPI', 'weighted_moments_normalized-2-2-DAPI', 'weighted_moments_normalized-2-3-DAPI', 'weighted_moments_normalized-3-0-DAPI', 'weighted_moments_normalized-3-1-DAPI', 'weighted_moments_normalized-3-2-DAPI', 'weighted_moments_normalized-3-3-DAPI', 'weighted_moments_hu-0-DAPI', 'weighted_moments_hu-1-DAPI', 'weighted_moments_hu-2-DAPI', 'weighted_moments_hu-3-DAPI', 'weighted_moments_hu-4-DAPI', 'weighted_moments_hu-5-DAPI', 'weighted_moments_hu-6-DAPI', 'max_intensity-DAPI', 'min_intensity-DAPI', 'mean_intensity-DAPI', 'median_intensity-DAPI', 'sum_intensity-DAPI', 'sampled_max_intensity-DAPI', 'sampled_min_intensity-DAPI', 'sampled_mean_intensity-DAPI', 'sampled_median_intensity-DAPI', 'sampled_sum_intensity-DAPI', 'dataset'\n",
       "    var: 'annotation_id', 'formula', 'adduct', 'ionFormula', 'ion', 'mz', 'msm', 'fdr', 'databases', 'moleculeNames', 'moleculeIds'"
      ]
     },
     "execution_count": 6,
     "metadata": {},
     "output_type": "execute_result"
    }
   ],
   "source": [
    "sm_matrix = sc.read(os.path.join(sample, files['sm_matrix']))\n",
    "sm_matrix"
   ]
  },
  {
   "cell_type": "code",
   "execution_count": 7,
   "metadata": {},
   "outputs": [],
   "source": [
    "from src.functions import PIXEL_PRE\n",
    "\n",
    "\n",
    "sm_matrix.obs_names = PIXEL_PRE + sm_matrix.obs_names"
   ]
  },
  {
   "cell_type": "code",
   "execution_count": 8,
   "metadata": {},
   "outputs": [],
   "source": [
    "from src.functions import get_molecule_normalization_factors\n",
    "import statistics as st\n",
    "\n",
    "\n",
    "total_pixel_overlap, full_pixel_intensities_median = get_molecule_normalization_factors(sm_matrix.to_df(), overlap_matrix, method= st.median)"
   ]
  },
  {
   "cell_type": "code",
   "execution_count": 9,
   "metadata": {},
   "outputs": [
    {
     "name": "stderr",
     "output_type": "stream",
     "text": [
      "/Users/mariusklein/opt/anaconda3/envs/ion_suppression/lib/python3.7/site-packages/pandas/core/arraylike.py:364: RuntimeWarning: divide by zero encountered in log10\n",
      "  result = getattr(ufunc, method)(*inputs, **kwargs)\n",
      "/Users/mariusklein/opt/anaconda3/envs/ion_suppression/lib/python3.7/site-packages/statsmodels/regression/quantile_regression.py:192: IterationLimitWarning: Maximum number of iterations (1000) reached.\n",
      "  \") reached.\", IterationLimitWarning)\n"
     ]
    }
   ],
   "source": [
    "import src.functions\n",
    "from src.functions import correct_intensities_quantile_regression\n",
    "from importlib import reload\n",
    "reload(src.functions)\n",
    "\n",
    "\n",
    "corrected_intensities = correct_intensities_quantile_regression(sm_matrix.to_df(), total_pixel_overlap, full_pixel_intensities_median, reference_ions=sm_matrix.var_names)"
   ]
  },
  {
   "cell_type": "code",
   "execution_count": 10,
   "metadata": {},
   "outputs": [],
   "source": [
    "corr_sm_matrix = sm_matrix.copy()\n",
    "corr_sm_matrix.X = corrected_intensities"
   ]
  },
  {
   "cell_type": "code",
   "execution_count": 11,
   "metadata": {},
   "outputs": [
    {
     "data": {
      "text/html": [
       "<div>\n",
       "<style scoped>\n",
       "    .dataframe tbody tr th:only-of-type {\n",
       "        vertical-align: middle;\n",
       "    }\n",
       "\n",
       "    .dataframe tbody tr th {\n",
       "        vertical-align: top;\n",
       "    }\n",
       "\n",
       "    .dataframe thead th {\n",
       "        text-align: right;\n",
       "    }\n",
       "</style>\n",
       "<table border=\"1\" class=\"dataframe\">\n",
       "  <thead>\n",
       "    <tr style=\"text-align: right;\">\n",
       "      <th></th>\n",
       "      <th>C10H20NO8P+K</th>\n",
       "      <th>C10H20NO8P+K</th>\n",
       "      <th>total_pixel_area</th>\n",
       "    </tr>\n",
       "  </thead>\n",
       "  <tbody>\n",
       "    <tr>\n",
       "      <th>pixel_80</th>\n",
       "      <td>216.316875</td>\n",
       "      <td>406.304199</td>\n",
       "      <td>0.694704</td>\n",
       "    </tr>\n",
       "    <tr>\n",
       "      <th>pixel_180</th>\n",
       "      <td>10.714414</td>\n",
       "      <td>103.297676</td>\n",
       "      <td>0.139438</td>\n",
       "    </tr>\n",
       "    <tr>\n",
       "      <th>pixel_189</th>\n",
       "      <td>38.253912</td>\n",
       "      <td>144.616760</td>\n",
       "      <td>0.349585</td>\n",
       "    </tr>\n",
       "    <tr>\n",
       "      <th>pixel_229</th>\n",
       "      <td>1.212734</td>\n",
       "      <td>117.070709</td>\n",
       "      <td>0.014523</td>\n",
       "    </tr>\n",
       "    <tr>\n",
       "      <th>pixel_230</th>\n",
       "      <td>90.328211</td>\n",
       "      <td>117.070709</td>\n",
       "      <td>1.000000</td>\n",
       "    </tr>\n",
       "    <tr>\n",
       "      <th>...</th>\n",
       "      <td>...</td>\n",
       "      <td>...</td>\n",
       "      <td>...</td>\n",
       "    </tr>\n",
       "    <tr>\n",
       "      <th>pixel_6145</th>\n",
       "      <td>23.144753</td>\n",
       "      <td>254.800949</td>\n",
       "      <td>0.122407</td>\n",
       "    </tr>\n",
       "    <tr>\n",
       "      <th>pixel_6162</th>\n",
       "      <td>1.284767</td>\n",
       "      <td>158.389786</td>\n",
       "      <td>0.011423</td>\n",
       "    </tr>\n",
       "    <tr>\n",
       "      <th>pixel_6230</th>\n",
       "      <td>172.105505</td>\n",
       "      <td>447.623291</td>\n",
       "      <td>0.504683</td>\n",
       "    </tr>\n",
       "    <tr>\n",
       "      <th>pixel_6231</th>\n",
       "      <td>334.563476</td>\n",
       "      <td>482.055847</td>\n",
       "      <td>0.901247</td>\n",
       "    </tr>\n",
       "    <tr>\n",
       "      <th>pixel_6232</th>\n",
       "      <td>161.201563</td>\n",
       "      <td>654.218628</td>\n",
       "      <td>0.326064</td>\n",
       "    </tr>\n",
       "  </tbody>\n",
       "</table>\n",
       "<p>136 rows × 3 columns</p>\n",
       "</div>"
      ],
      "text/plain": [
       "            C10H20NO8P+K  C10H20NO8P+K  total_pixel_area\n",
       "pixel_80      216.316875    406.304199          0.694704\n",
       "pixel_180      10.714414    103.297676          0.139438\n",
       "pixel_189      38.253912    144.616760          0.349585\n",
       "pixel_229       1.212734    117.070709          0.014523\n",
       "pixel_230      90.328211    117.070709          1.000000\n",
       "...                  ...           ...               ...\n",
       "pixel_6145     23.144753    254.800949          0.122407\n",
       "pixel_6162      1.284767    158.389786          0.011423\n",
       "pixel_6230    172.105505    447.623291          0.504683\n",
       "pixel_6231    334.563476    482.055847          0.901247\n",
       "pixel_6232    161.201563    654.218628          0.326064\n",
       "\n",
       "[136 rows x 3 columns]"
      ]
     },
     "execution_count": 11,
     "metadata": {},
     "output_type": "execute_result"
    }
   ],
   "source": [
    "pd.concat([corr_sm_matrix.to_df().replace(0, np.nan)['C10H20NO8P+K'], sm_matrix.to_df().replace(0, np.nan)['C10H20NO8P+K'], total_pixel_overlap.replace(0, np.nan)], axis=1).dropna()"
   ]
  },
  {
   "cell_type": "code",
   "execution_count": 12,
   "metadata": {},
   "outputs": [],
   "source": [
    "corr_sm_matrix.write('data/Lx_Glioblastoma/spatiomolecular_adata_corrected.h5ad')"
   ]
  }
 ],
 "metadata": {
  "kernelspec": {
   "display_name": "Python 3.7.12 ('ion_suppression')",
   "language": "python",
   "name": "python3"
  },
  "language_info": {
   "codemirror_mode": {
    "name": "ipython",
    "version": 3
   },
   "file_extension": ".py",
   "mimetype": "text/x-python",
   "name": "python",
   "nbconvert_exporter": "python",
   "pygments_lexer": "ipython3",
   "version": "3.7.12"
  },
  "orig_nbformat": 4,
  "vscode": {
   "interpreter": {
    "hash": "89b4449ee30f46b148fb6825d70934bcbb1ebdb6d5b2015fe3835362773c7289"
   }
  }
 },
 "nbformat": 4,
 "nbformat_minor": 2
}
