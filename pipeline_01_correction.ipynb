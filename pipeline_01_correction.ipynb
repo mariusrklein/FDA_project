{
 "cells": [
  {
   "cell_type": "code",
   "execution_count": 1,
   "metadata": {},
   "outputs": [],
   "source": [
    "import os\n",
    "import platform\n",
    "import scanpy as sc\n",
    "import pandas as pd\n",
    "import numpy as np\n",
    "import anndata as ad\n",
    "from src.functions import get_matrices_from_dfs, CELL_PRE\n",
    "import multiprocessing\n",
    "from joblib import Parallel, delayed\n",
    "from tqdm import tqdm\n",
    "import statsmodels.formula.api as smf"
   ]
  },
  {
   "cell_type": "code",
   "execution_count": null,
   "metadata": {},
   "outputs": [],
   "source": [
    "if platform.system() == \"Darwin\":\n",
    "    source_path = '/Volumes/alexandr/smenon/2022-07-13_Glioblastoma/processed_files'\n",
    "    target_path = '/Volumes/mklein/FDA_project/data/Lx_Glioblastoma'\n",
    "else:\n",
    "    source_path = '/g/alexandr/smenon/2022-07-13_Glioblastoma/processed_files'\n",
    "    target_path = '/home/mklein/FDA_project/data/Lx_Glioblastoma'"
   ]
  },
  {
   "cell_type": "code",
   "execution_count": 3,
   "metadata": {},
   "outputs": [],
   "source": [
    "samples = os.listdir(source_path)\n",
    "\n",
    "def cell_normalization_Rappez_adata(sampling_prop_matrix, sampling_spec_matrix, adata, raw_adata, sampling_prop_threshold = 0.3, sampling_spec_threshold = 0):\n",
    "    \n",
    "    # filter out pixels with little overlap with any cell (thus sum of all overlaps)\n",
    "    pixel_sampling_prop_keep = sampling_prop_matrix.sum(axis = 0) > sampling_prop_threshold\n",
    "    # filter out pixels with low contributions to a cell\n",
    "    pixel_sampling_spec_keep = sampling_spec_matrix > sampling_spec_threshold\n",
    "\n",
    "    sampling_prop_matrix_filtered = sampling_prop_matrix.sum(axis = 0) * pixel_sampling_prop_keep\n",
    "    sampling_spec_matrix_filtered = sampling_spec_matrix * pixel_sampling_spec_keep\n",
    "\n",
    "    sum_prop_matrix = sampling_prop_matrix_filtered.replace(to_replace=0, value=pd.NA)\n",
    "\n",
    "    # create dataframe for results\n",
    "    norm_ion_intensities = ad.AnnData(obs=pd.DataFrame({'cell_id': sampling_prop_matrix.index}), var=adata.var)\n",
    "    norm_spots = adata.to_df().multiply(1/sum_prop_matrix, axis=0).replace(np.nan, 0)\n",
    "    \n",
    "    cor_df = sampling_spec_matrix_filtered.replace(np.nan, 0).dot(norm_spots)\n",
    "\n",
    "    norm_ion_intensities.X = cor_df.multiply(1/sampling_spec_matrix_filtered.sum(axis=1), axis=0)\n",
    "    norm_ion_intensities.obs.index = norm_ion_intensities.obs.cell_id.map(lambda x: x.replace(CELL_PRE, \"\"))\n",
    "\n",
    "    norm_ion_intensities = norm_ion_intensities[raw_adata.obs_names]\n",
    "    norm_ion_intensities.obs = raw_adata.obs\n",
    "    \n",
    "    return norm_ion_intensities"
   ]
  },
  {
   "cell_type": "code",
   "execution_count": 14,
   "metadata": {},
   "outputs": [
    {
     "name": "stderr",
     "output_type": "stream",
     "text": [
      " 29%|██▊       | 10/35 [00:00<00:00, 27.46it/s]/home/mklein/.conda/envs/ion_suppression/lib/python3.7/site-packages/pandas/core/arraylike.py:358: RuntimeWarning: divide by zero encountered in log10\n",
      "  result = getattr(ufunc, method)(*inputs, **kwargs)\n",
      "  1%|          | 16/2100 [00:00<00:37, 56.08it/s]/home/mklein/.conda/envs/ion_suppression/lib/python3.7/site-packages/pandas/core/arraylike.py:358: RuntimeWarning: divide by zero encountered in log10\n",
      "  result = getattr(ufunc, method)(*inputs, **kwargs)\n",
      "  0%|          | 0/2100 [00:00<?, ?it/s]/home/mklein/.conda/envs/ion_suppression/lib/python3.7/site-packages/pandas/core/arraylike.py:358: RuntimeWarning: divide by zero encountered in log10\n",
      "  result = getattr(ufunc, method)(*inputs, **kwargs)\n",
      "  3%|▎         | 56/2100 [00:01<00:38, 53.37it/s]/home/mklein/.conda/envs/ion_suppression/lib/python3.7/site-packages/pandas/core/arraylike.py:358: RuntimeWarning: divide by zero encountered in log10\n",
      "  result = getattr(ufunc, method)(*inputs, **kwargs)\n",
      "  3%|▎         | 64/2100 [00:01<00:36, 56.21it/s]/home/mklein/.conda/envs/ion_suppression/lib/python3.7/site-packages/pandas/core/arraylike.py:358: RuntimeWarning: divide by zero encountered in log10\n",
      "  result = getattr(ufunc, method)(*inputs, **kwargs)\n",
      "  4%|▍         | 80/2100 [00:01<00:39, 50.52it/s]/home/mklein/.conda/envs/ion_suppression/lib/python3.7/site-packages/pandas/core/arraylike.py:358: RuntimeWarning: divide by zero encountered in log10\n",
      "  result = getattr(ufunc, method)(*inputs, **kwargs)\n",
      "  2%|▏         | 32/2100 [00:00<00:38, 54.06it/s]/home/mklein/.conda/envs/ion_suppression/lib/python3.7/site-packages/pandas/core/arraylike.py:358: RuntimeWarning: divide by zero encountered in log10\n",
      "  result = getattr(ufunc, method)(*inputs, **kwargs)\n",
      "  6%|▌         | 120/2100 [00:02<00:38, 51.18it/s]/home/mklein/.conda/envs/ion_suppression/lib/python3.7/site-packages/pandas/core/arraylike.py:358: RuntimeWarning: divide by zero encountered in log10\n",
      "  result = getattr(ufunc, method)(*inputs, **kwargs)\n",
      "  1%|          | 16/2100 [00:00<00:52, 39.86it/s]/home/mklein/.conda/envs/ion_suppression/lib/python3.7/site-packages/pandas/core/arraylike.py:358: RuntimeWarning: divide by zero encountered in log10\n",
      "  result = getattr(ufunc, method)(*inputs, **kwargs)\n",
      "  5%|▌         | 112/2100 [00:02<00:40, 49.42it/s]/home/mklein/.conda/envs/ion_suppression/lib/python3.7/site-packages/pandas/core/arraylike.py:358: RuntimeWarning: divide by zero encountered in log10\n",
      "  result = getattr(ufunc, method)(*inputs, **kwargs)\n",
      " 75%|███████▌  | 1584/2100 [00:34<00:10, 49.50it/s]/home/mklein/.conda/envs/ion_suppression/lib/python3.7/site-packages/statsmodels/regression/quantile_regression.py:192: IterationLimitWarning: Maximum number of iterations (1000) reached.\n",
      "  \") reached.\", IterationLimitWarning)\n",
      " 57%|█████▋    | 20/35 [01:16<01:06,  4.47s/it]t/s]\n",
      "/home/mklein/.conda/envs/ion_suppression/lib/python3.7/site-packages/anndata/_core/anndata.py:121: ImplicitModificationWarning: Transforming to str index.\n",
      "  warnings.warn(\"Transforming to str index.\", ImplicitModificationWarning)\n",
      "/home/mklein/.conda/envs/ion_suppression/lib/python3.7/site-packages/anndata/_core/anndata.py:859: FutureWarning: X.dtype being converted to np.float32 from float64. In the next version of anndata (0.9) conversion will not be automatic. Pass dtype explicitly to avoid this warning. Pass `AnnData(X, dtype=X.dtype, ...)` to get the future behavour.\n",
      "  self._set_dim_df(value, \"obs\")\n",
      "/home/mklein/.conda/envs/ion_suppression/lib/python3.7/site-packages/pandas/core/arraylike.py:358: RuntimeWarning: divide by zero encountered in log10\n",
      "  result = getattr(ufunc, method)(*inputs, **kwargs)\n",
      "  1%|          | 16/2100 [00:00<00:17, 120.81it/s]"
     ]
    },
    {
     "name": "stdout",
     "output_type": "stream",
     "text": [
      "insufficient metabolites: 2045\n"
     ]
    },
    {
     "name": "stderr",
     "output_type": "stream",
     "text": [
      "  2%|▏         | 52/2100 [00:00<00:23, 88.09it/s] \n",
      "/home/mklein/.conda/envs/ion_suppression/lib/python3.7/site-packages/anndata/_core/anndata.py:121: ImplicitModificationWarning: Transforming to str index.\n",
      "  warnings.warn(\"Transforming to str index.\", ImplicitModificationWarning)\n",
      "/home/mklein/.conda/envs/ion_suppression/lib/python3.7/site-packages/anndata/_core/anndata.py:859: FutureWarning: X.dtype being converted to np.float32 from float64. In the next version of anndata (0.9) conversion will not be automatic. Pass dtype explicitly to avoid this warning. Pass `AnnData(X, dtype=X.dtype, ...)` to get the future behavour.\n",
      "  self._set_dim_df(value, \"obs\")\n",
      "/home/mklein/.conda/envs/ion_suppression/lib/python3.7/site-packages/pandas/core/arraylike.py:358: RuntimeWarning: divide by zero encountered in log10\n",
      "  result = getattr(ufunc, method)(*inputs, **kwargs)\n",
      "  0%|          | 0/2100 [00:00<?, ?it/s]"
     ]
    },
    {
     "name": "stdout",
     "output_type": "stream",
     "text": [
      "insufficient metabolites: 2057\n"
     ]
    },
    {
     "name": "stderr",
     "output_type": "stream",
     "text": [
      "  4%|▍         | 88/2100 [00:01<00:30, 66.24it/s]]\n",
      "/home/mklein/.conda/envs/ion_suppression/lib/python3.7/site-packages/anndata/_core/anndata.py:121: ImplicitModificationWarning: Transforming to str index.\n",
      "  warnings.warn(\"Transforming to str index.\", ImplicitModificationWarning)\n",
      "/home/mklein/.conda/envs/ion_suppression/lib/python3.7/site-packages/anndata/_core/anndata.py:859: FutureWarning: X.dtype being converted to np.float32 from float64. In the next version of anndata (0.9) conversion will not be automatic. Pass dtype explicitly to avoid this warning. Pass `AnnData(X, dtype=X.dtype, ...)` to get the future behavour.\n",
      "  self._set_dim_df(value, \"obs\")\n",
      "/home/mklein/.conda/envs/ion_suppression/lib/python3.7/site-packages/pandas/core/arraylike.py:358: RuntimeWarning: divide by zero encountered in log10\n",
      "  result = getattr(ufunc, method)(*inputs, **kwargs)\n",
      "  1%|          | 16/2100 [00:00<00:16, 125.02it/s]"
     ]
    },
    {
     "name": "stdout",
     "output_type": "stream",
     "text": [
      "insufficient metabolites: 2053\n"
     ]
    },
    {
     "name": "stderr",
     "output_type": "stream",
     "text": [
      "  7%|▋         | 152/2100 [00:02<00:28, 68.25it/s]\n",
      "/home/mklein/.conda/envs/ion_suppression/lib/python3.7/site-packages/anndata/_core/anndata.py:121: ImplicitModificationWarning: Transforming to str index.\n",
      "  warnings.warn(\"Transforming to str index.\", ImplicitModificationWarning)\n",
      "/home/mklein/.conda/envs/ion_suppression/lib/python3.7/site-packages/anndata/_core/anndata.py:859: FutureWarning: X.dtype being converted to np.float32 from float64. In the next version of anndata (0.9) conversion will not be automatic. Pass dtype explicitly to avoid this warning. Pass `AnnData(X, dtype=X.dtype, ...)` to get the future behavour.\n",
      "  self._set_dim_df(value, \"obs\")\n",
      "/home/mklein/.conda/envs/ion_suppression/lib/python3.7/site-packages/pandas/core/arraylike.py:358: RuntimeWarning: divide by zero encountered in log10\n",
      "  result = getattr(ufunc, method)(*inputs, **kwargs)\n",
      "  0%|          | 0/2100 [00:00<?, ?it/s]\n",
      "/home/mklein/.conda/envs/ion_suppression/lib/python3.7/site-packages/anndata/_core/anndata.py:121: ImplicitModificationWarning: Transforming to str index.\n",
      "  warnings.warn(\"Transforming to str index.\", ImplicitModificationWarning)\n",
      "/home/mklein/.conda/envs/ion_suppression/lib/python3.7/site-packages/anndata/_core/anndata.py:859: FutureWarning: X.dtype being converted to np.float32 from float64. In the next version of anndata (0.9) conversion will not be automatic. Pass dtype explicitly to avoid this warning. Pass `AnnData(X, dtype=X.dtype, ...)` to get the future behavour.\n",
      "  self._set_dim_df(value, \"obs\")\n",
      "/home/mklein/.conda/envs/ion_suppression/lib/python3.7/site-packages/pandas/core/arraylike.py:358: RuntimeWarning: divide by zero encountered in log10\n",
      "  result = getattr(ufunc, method)(*inputs, **kwargs)\n",
      "  0%|          | 0/2100 [00:00<?, ?it/s]"
     ]
    },
    {
     "name": "stdout",
     "output_type": "stream",
     "text": [
      "insufficient metabolites: 2050\n",
      "insufficient metabolites: 2044\n"
     ]
    },
    {
     "name": "stderr",
     "output_type": "stream",
     "text": [
      "  9%|▉         | 184/2100 [00:02<00:35, 54.24it/s]\n",
      "/home/mklein/.conda/envs/ion_suppression/lib/python3.7/site-packages/anndata/_core/anndata.py:121: ImplicitModificationWarning: Transforming to str index.\n",
      "  warnings.warn(\"Transforming to str index.\", ImplicitModificationWarning)\n",
      "/home/mklein/.conda/envs/ion_suppression/lib/python3.7/site-packages/anndata/_core/anndata.py:859: FutureWarning: X.dtype being converted to np.float32 from float64. In the next version of anndata (0.9) conversion will not be automatic. Pass dtype explicitly to avoid this warning. Pass `AnnData(X, dtype=X.dtype, ...)` to get the future behavour.\n",
      "  self._set_dim_df(value, \"obs\")\n",
      "/home/mklein/.conda/envs/ion_suppression/lib/python3.7/site-packages/pandas/core/arraylike.py:358: RuntimeWarning: divide by zero encountered in log10\n",
      "  result = getattr(ufunc, method)(*inputs, **kwargs)\n",
      "  1%|          | 16/2100 [00:00<00:21, 98.18it/s]]"
     ]
    },
    {
     "name": "stdout",
     "output_type": "stream",
     "text": [
      "insufficient metabolites: 2068\n"
     ]
    },
    {
     "name": "stderr",
     "output_type": "stream",
     "text": [
      "  8%|▊         | 168/2100 [00:02<00:38, 49.69it/s]\n",
      "/home/mklein/.conda/envs/ion_suppression/lib/python3.7/site-packages/anndata/_core/anndata.py:121: ImplicitModificationWarning: Transforming to str index.\n",
      "  warnings.warn(\"Transforming to str index.\", ImplicitModificationWarning)\n",
      "/home/mklein/.conda/envs/ion_suppression/lib/python3.7/site-packages/anndata/_core/anndata.py:859: FutureWarning: X.dtype being converted to np.float32 from float64. In the next version of anndata (0.9) conversion will not be automatic. Pass dtype explicitly to avoid this warning. Pass `AnnData(X, dtype=X.dtype, ...)` to get the future behavour.\n",
      "  self._set_dim_df(value, \"obs\")\n",
      "/home/mklein/.conda/envs/ion_suppression/lib/python3.7/site-packages/pandas/core/arraylike.py:358: RuntimeWarning: divide by zero encountered in log10\n",
      "  result = getattr(ufunc, method)(*inputs, **kwargs)\n",
      "  8%|▊         | 160/2100 [00:02<00:36, 53.50it/s]"
     ]
    },
    {
     "name": "stdout",
     "output_type": "stream",
     "text": [
      "insufficient metabolites: 2053\n"
     ]
    },
    {
     "name": "stderr",
     "output_type": "stream",
     "text": [
      " 21%|██        | 440/2100 [00:07<00:35, 47.09it/s]\n",
      "/home/mklein/.conda/envs/ion_suppression/lib/python3.7/site-packages/anndata/_core/anndata.py:121: ImplicitModificationWarning: Transforming to str index.\n",
      "  warnings.warn(\"Transforming to str index.\", ImplicitModificationWarning)\n",
      "/home/mklein/.conda/envs/ion_suppression/lib/python3.7/site-packages/anndata/_core/anndata.py:859: FutureWarning: X.dtype being converted to np.float32 from float64. In the next version of anndata (0.9) conversion will not be automatic. Pass dtype explicitly to avoid this warning. Pass `AnnData(X, dtype=X.dtype, ...)` to get the future behavour.\n",
      "  self._set_dim_df(value, \"obs\")\n",
      "/home/mklein/.conda/envs/ion_suppression/lib/python3.7/site-packages/pandas/core/arraylike.py:358: RuntimeWarning: divide by zero encountered in log10\n",
      "  result = getattr(ufunc, method)(*inputs, **kwargs)\n",
      " 11%|█         | 232/2100 [00:04<00:34, 54.02it/s]"
     ]
    },
    {
     "name": "stdout",
     "output_type": "stream",
     "text": [
      "insufficient metabolites: 2054\n"
     ]
    },
    {
     "name": "stderr",
     "output_type": "stream",
     "text": [
      "  1%|▏         | 27/2100 [00:00<00:30, 67.43it/s] \n",
      "/home/mklein/.conda/envs/ion_suppression/lib/python3.7/site-packages/anndata/_core/anndata.py:121: ImplicitModificationWarning: Transforming to str index.\n",
      "  warnings.warn(\"Transforming to str index.\", ImplicitModificationWarning)\n",
      "/home/mklein/.conda/envs/ion_suppression/lib/python3.7/site-packages/anndata/_core/anndata.py:859: FutureWarning: X.dtype being converted to np.float32 from float64. In the next version of anndata (0.9) conversion will not be automatic. Pass dtype explicitly to avoid this warning. Pass `AnnData(X, dtype=X.dtype, ...)` to get the future behavour.\n",
      "  self._set_dim_df(value, \"obs\")\n",
      "/home/mklein/.conda/envs/ion_suppression/lib/python3.7/site-packages/pandas/core/arraylike.py:358: RuntimeWarning: divide by zero encountered in log10\n",
      "  result = getattr(ufunc, method)(*inputs, **kwargs)\n",
      "  2%|▏         | 35/2100 [00:00<00:29, 71.11it/s]]"
     ]
    },
    {
     "name": "stdout",
     "output_type": "stream",
     "text": [
      "insufficient metabolites: 2066\n"
     ]
    },
    {
     "name": "stderr",
     "output_type": "stream",
     "text": [
      " 24%|██▍       | 512/2100 [00:10<00:36, 43.87it/s]\n",
      "/home/mklein/.conda/envs/ion_suppression/lib/python3.7/site-packages/anndata/_core/anndata.py:121: ImplicitModificationWarning: Transforming to str index.\n",
      "  warnings.warn(\"Transforming to str index.\", ImplicitModificationWarning)\n",
      "/home/mklein/.conda/envs/ion_suppression/lib/python3.7/site-packages/anndata/_core/anndata.py:859: FutureWarning: X.dtype being converted to np.float32 from float64. In the next version of anndata (0.9) conversion will not be automatic. Pass dtype explicitly to avoid this warning. Pass `AnnData(X, dtype=X.dtype, ...)` to get the future behavour.\n",
      "  self._set_dim_df(value, \"obs\")\n",
      "/home/mklein/.conda/envs/ion_suppression/lib/python3.7/site-packages/pandas/core/arraylike.py:358: RuntimeWarning: divide by zero encountered in log10\n",
      "  result = getattr(ufunc, method)(*inputs, **kwargs)\n",
      " 25%|██▍       | 520/2100 [00:09<00:34, 46.13it/s]"
     ]
    },
    {
     "name": "stdout",
     "output_type": "stream",
     "text": [
      "insufficient metabolites: 2066\n"
     ]
    },
    {
     "name": "stderr",
     "output_type": "stream",
     "text": [
      " 93%|█████████▎| 1944/2100 [00:38<00:02, 59.72it/s]/home/mklein/.conda/envs/ion_suppression/lib/python3.7/site-packages/statsmodels/regression/quantile_regression.py:192: IterationLimitWarning: Maximum number of iterations (1000) reached.\n",
      "  \") reached.\", IterationLimitWarning)\n",
      "100%|██████████| 35/35 [02:30<00:00,  4.30s/it]t/s]\n"
     ]
    },
    {
     "name": "stdout",
     "output_type": "stream",
     "text": [
      "insufficient metabolites: 2042\n"
     ]
    },
    {
     "name": "stderr",
     "output_type": "stream",
     "text": [
      "\n",
      "/home/mklein/.conda/envs/ion_suppression/lib/python3.7/site-packages/anndata/_core/anndata.py:121: ImplicitModificationWarning: Transforming to str index.\n",
      "  warnings.warn(\"Transforming to str index.\", ImplicitModificationWarning)\n",
      "/home/mklein/.conda/envs/ion_suppression/lib/python3.7/site-packages/anndata/_core/anndata.py:859: FutureWarning: X.dtype being converted to np.float32 from float64. In the next version of anndata (0.9) conversion will not be automatic. Pass dtype explicitly to avoid this warning. Pass `AnnData(X, dtype=X.dtype, ...)` to get the future behavour.\n",
      "  self._set_dim_df(value, \"obs\")\n",
      "/home/mklein/.conda/envs/ion_suppression/lib/python3.7/site-packages/pandas/core/arraylike.py:358: RuntimeWarning: divide by zero encountered in log10\n",
      "  result = getattr(ufunc, method)(*inputs, **kwargs)\n",
      "  2%|▏         | 47/2100 [00:00<00:26, 77.50it/s] \n",
      "/home/mklein/.conda/envs/ion_suppression/lib/python3.7/site-packages/anndata/_core/anndata.py:121: ImplicitModificationWarning: Transforming to str index.\n",
      "  warnings.warn(\"Transforming to str index.\", ImplicitModificationWarning)\n",
      "/home/mklein/.conda/envs/ion_suppression/lib/python3.7/site-packages/anndata/_core/anndata.py:859: FutureWarning: X.dtype being converted to np.float32 from float64. In the next version of anndata (0.9) conversion will not be automatic. Pass dtype explicitly to avoid this warning. Pass `AnnData(X, dtype=X.dtype, ...)` to get the future behavour.\n",
      "  self._set_dim_df(value, \"obs\")\n",
      "/home/mklein/.conda/envs/ion_suppression/lib/python3.7/site-packages/pandas/core/arraylike.py:358: RuntimeWarning: divide by zero encountered in log10\n",
      "  result = getattr(ufunc, method)(*inputs, **kwargs)\n",
      "  1%|          | 16/2100 [00:00<00:18, 110.93it/s]"
     ]
    },
    {
     "name": "stdout",
     "output_type": "stream",
     "text": [
      "insufficient metabolites: 2071\n"
     ]
    },
    {
     "name": "stderr",
     "output_type": "stream",
     "text": [
      "  4%|▍         | 88/2100 [00:01<00:35, 56.75it/s] \n",
      "/home/mklein/.conda/envs/ion_suppression/lib/python3.7/site-packages/anndata/_core/anndata.py:121: ImplicitModificationWarning: Transforming to str index.\n",
      "  warnings.warn(\"Transforming to str index.\", ImplicitModificationWarning)\n",
      "/home/mklein/.conda/envs/ion_suppression/lib/python3.7/site-packages/anndata/_core/anndata.py:859: FutureWarning: X.dtype being converted to np.float32 from float64. In the next version of anndata (0.9) conversion will not be automatic. Pass dtype explicitly to avoid this warning. Pass `AnnData(X, dtype=X.dtype, ...)` to get the future behavour.\n",
      "  self._set_dim_df(value, \"obs\")\n",
      "/home/mklein/.conda/envs/ion_suppression/lib/python3.7/site-packages/pandas/core/arraylike.py:358: RuntimeWarning: divide by zero encountered in log10\n",
      "  result = getattr(ufunc, method)(*inputs, **kwargs)\n",
      "  5%|▍         | 96/2100 [00:01<00:37, 52.92it/s]]"
     ]
    },
    {
     "name": "stdout",
     "output_type": "stream",
     "text": [
      "insufficient metabolites: 2062\n"
     ]
    },
    {
     "name": "stderr",
     "output_type": "stream",
     "text": [
      "  4%|▎         | 75/2100 [00:00<00:28, 71.74it/s]\n",
      "/home/mklein/.conda/envs/ion_suppression/lib/python3.7/site-packages/anndata/_core/anndata.py:121: ImplicitModificationWarning: Transforming to str index.\n",
      "  warnings.warn(\"Transforming to str index.\", ImplicitModificationWarning)\n",
      "/home/mklein/.conda/envs/ion_suppression/lib/python3.7/site-packages/anndata/_core/anndata.py:859: FutureWarning: X.dtype being converted to np.float32 from float64. In the next version of anndata (0.9) conversion will not be automatic. Pass dtype explicitly to avoid this warning. Pass `AnnData(X, dtype=X.dtype, ...)` to get the future behavour.\n",
      "  self._set_dim_df(value, \"obs\")\n",
      "/home/mklein/.conda/envs/ion_suppression/lib/python3.7/site-packages/pandas/core/arraylike.py:358: RuntimeWarning: divide by zero encountered in log10\n",
      "  result = getattr(ufunc, method)(*inputs, **kwargs)\n",
      "  5%|▌         | 112/2100 [00:01<00:34, 58.43it/s]"
     ]
    },
    {
     "name": "stdout",
     "output_type": "stream",
     "text": [
      "insufficient metabolites: 2078\n"
     ]
    },
    {
     "name": "stderr",
     "output_type": "stream",
     "text": [
      " 12%|█▏        | 248/2100 [00:04<00:34, 53.45it/s]\n",
      "/home/mklein/.conda/envs/ion_suppression/lib/python3.7/site-packages/anndata/_core/anndata.py:121: ImplicitModificationWarning: Transforming to str index.\n",
      "  warnings.warn(\"Transforming to str index.\", ImplicitModificationWarning)\n",
      "/home/mklein/.conda/envs/ion_suppression/lib/python3.7/site-packages/anndata/_core/anndata.py:859: FutureWarning: X.dtype being converted to np.float32 from float64. In the next version of anndata (0.9) conversion will not be automatic. Pass dtype explicitly to avoid this warning. Pass `AnnData(X, dtype=X.dtype, ...)` to get the future behavour.\n",
      "  self._set_dim_df(value, \"obs\")\n",
      "/home/mklein/.conda/envs/ion_suppression/lib/python3.7/site-packages/pandas/core/arraylike.py:358: RuntimeWarning: divide by zero encountered in log10\n",
      "  result = getattr(ufunc, method)(*inputs, **kwargs)\n",
      "  1%|          | 16/2100 [00:00<00:16, 123.81it/s]"
     ]
    },
    {
     "name": "stdout",
     "output_type": "stream",
     "text": [
      "insufficient metabolites: 2081\n"
     ]
    },
    {
     "name": "stderr",
     "output_type": "stream",
     "text": [
      " 26%|██▌       | 536/2100 [00:09<00:33, 46.03it/s]\n",
      "/home/mklein/.conda/envs/ion_suppression/lib/python3.7/site-packages/statsmodels/regression/quantile_regression.py:192: IterationLimitWarning: Maximum number of iterations (1000) reached.\n",
      "  \") reached.\", IterationLimitWarning)\n",
      "/home/mklein/.conda/envs/ion_suppression/lib/python3.7/site-packages/anndata/_core/anndata.py:121: ImplicitModificationWarning: Transforming to str index.\n",
      "  warnings.warn(\"Transforming to str index.\", ImplicitModificationWarning)\n",
      "/home/mklein/.conda/envs/ion_suppression/lib/python3.7/site-packages/anndata/_core/anndata.py:859: FutureWarning: X.dtype being converted to np.float32 from float64. In the next version of anndata (0.9) conversion will not be automatic. Pass dtype explicitly to avoid this warning. Pass `AnnData(X, dtype=X.dtype, ...)` to get the future behavour.\n",
      "  self._set_dim_df(value, \"obs\")\n",
      "/home/mklein/.conda/envs/ion_suppression/lib/python3.7/site-packages/pandas/core/arraylike.py:358: RuntimeWarning: divide by zero encountered in log10\n",
      "  result = getattr(ufunc, method)(*inputs, **kwargs)\n",
      " 15%|█▌        | 320/2100 [00:06<00:36, 48.90it/s]\n",
      "/home/mklein/.conda/envs/ion_suppression/lib/python3.7/site-packages/anndata/_core/anndata.py:121: ImplicitModificationWarning: Transforming to str index.\n",
      "  warnings.warn(\"Transforming to str index.\", ImplicitModificationWarning)\n",
      "/home/mklein/.conda/envs/ion_suppression/lib/python3.7/site-packages/anndata/_core/anndata.py:859: FutureWarning: X.dtype being converted to np.float32 from float64. In the next version of anndata (0.9) conversion will not be automatic. Pass dtype explicitly to avoid this warning. Pass `AnnData(X, dtype=X.dtype, ...)` to get the future behavour.\n",
      "  self._set_dim_df(value, \"obs\")\n",
      "/home/mklein/.conda/envs/ion_suppression/lib/python3.7/site-packages/pandas/core/arraylike.py:358: RuntimeWarning: divide by zero encountered in log10\n",
      "  result = getattr(ufunc, method)(*inputs, **kwargs)\n",
      " 27%|██▋       | 576/2100 [00:10<00:38, 39.72it/s]"
     ]
    },
    {
     "name": "stdout",
     "output_type": "stream",
     "text": [
      "insufficient metabolites: 2037\n",
      "insufficient metabolites: 2053\n"
     ]
    },
    {
     "name": "stderr",
     "output_type": "stream",
     "text": [
      "  2%|▏         | 32/2100 [00:00<00:25, 81.59it/s] \n",
      "/home/mklein/.conda/envs/ion_suppression/lib/python3.7/site-packages/anndata/_core/anndata.py:121: ImplicitModificationWarning: Transforming to str index.\n",
      "  warnings.warn(\"Transforming to str index.\", ImplicitModificationWarning)\n",
      "/home/mklein/.conda/envs/ion_suppression/lib/python3.7/site-packages/anndata/_core/anndata.py:859: FutureWarning: X.dtype being converted to np.float32 from float64. In the next version of anndata (0.9) conversion will not be automatic. Pass dtype explicitly to avoid this warning. Pass `AnnData(X, dtype=X.dtype, ...)` to get the future behavour.\n",
      "  self._set_dim_df(value, \"obs\")\n",
      "/home/mklein/.conda/envs/ion_suppression/lib/python3.7/site-packages/pandas/core/arraylike.py:358: RuntimeWarning: divide by zero encountered in log10\n",
      "  result = getattr(ufunc, method)(*inputs, **kwargs)\n",
      "  0%|          | 0/2100 [00:00<?, ?it/s]"
     ]
    },
    {
     "name": "stdout",
     "output_type": "stream",
     "text": [
      "insufficient metabolites: 2078\n"
     ]
    },
    {
     "name": "stderr",
     "output_type": "stream",
     "text": [
      " 35%|███▍      | 728/2100 [00:12<00:26, 51.49it/s]\n",
      "/home/mklein/.conda/envs/ion_suppression/lib/python3.7/site-packages/statsmodels/regression/quantile_regression.py:192: IterationLimitWarning: Maximum number of iterations (1000) reached.\n",
      "  \") reached.\", IterationLimitWarning)\n",
      "/home/mklein/.conda/envs/ion_suppression/lib/python3.7/site-packages/anndata/_core/anndata.py:121: ImplicitModificationWarning: Transforming to str index.\n",
      "  warnings.warn(\"Transforming to str index.\", ImplicitModificationWarning)\n",
      "/home/mklein/.conda/envs/ion_suppression/lib/python3.7/site-packages/anndata/_core/anndata.py:859: FutureWarning: X.dtype being converted to np.float32 from float64. In the next version of anndata (0.9) conversion will not be automatic. Pass dtype explicitly to avoid this warning. Pass `AnnData(X, dtype=X.dtype, ...)` to get the future behavour.\n",
      "  self._set_dim_df(value, \"obs\")\n",
      "/home/mklein/.conda/envs/ion_suppression/lib/python3.7/site-packages/pandas/core/arraylike.py:358: RuntimeWarning: divide by zero encountered in log10\n",
      "  result = getattr(ufunc, method)(*inputs, **kwargs)\n",
      " 34%|███▎      | 704/2100 [00:13<00:33, 41.53it/s]"
     ]
    },
    {
     "name": "stdout",
     "output_type": "stream",
     "text": [
      "insufficient metabolites: 2047\n"
     ]
    },
    {
     "name": "stderr",
     "output_type": "stream",
     "text": [
      " 50%|█████     | 1056/2100 [00:21<00:22, 47.23it/s]\n",
      "/home/mklein/.conda/envs/ion_suppression/lib/python3.7/site-packages/anndata/_core/anndata.py:121: ImplicitModificationWarning: Transforming to str index.\n",
      "  warnings.warn(\"Transforming to str index.\", ImplicitModificationWarning)\n",
      "/home/mklein/.conda/envs/ion_suppression/lib/python3.7/site-packages/anndata/_core/anndata.py:859: FutureWarning: X.dtype being converted to np.float32 from float64. In the next version of anndata (0.9) conversion will not be automatic. Pass dtype explicitly to avoid this warning. Pass `AnnData(X, dtype=X.dtype, ...)` to get the future behavour.\n",
      "  self._set_dim_df(value, \"obs\")\n",
      "/home/mklein/.conda/envs/ion_suppression/lib/python3.7/site-packages/pandas/core/arraylike.py:358: RuntimeWarning: divide by zero encountered in log10\n",
      "  result = getattr(ufunc, method)(*inputs, **kwargs)\n",
      " 52%|█████▏    | 1088/2100 [00:20<00:18, 55.48it/s]"
     ]
    },
    {
     "name": "stdout",
     "output_type": "stream",
     "text": [
      "insufficient metabolites: 2070\n"
     ]
    },
    {
     "name": "stderr",
     "output_type": "stream",
     "text": [
      " 45%|████▍     | 944/2100 [00:18<00:19, 58.15it/s]/home/mklein/.conda/envs/ion_suppression/lib/python3.7/site-packages/statsmodels/regression/quantile_regression.py:192: IterationLimitWarning: Maximum number of iterations (1000) reached.\n",
      "  \") reached.\", IterationLimitWarning)\n",
      " 58%|█████▊    | 1224/2100 [00:23<00:17, 51.15it/s]/home/mklein/.conda/envs/ion_suppression/lib/python3.7/site-packages/statsmodels/regression/quantile_regression.py:192: IterationLimitWarning: Maximum number of iterations (1000) reached.\n",
      "  \") reached.\", IterationLimitWarning)\n",
      "100%|██████████| 2100/2100 [00:41<00:00, 50.74it/s]\n",
      "/home/mklein/.conda/envs/ion_suppression/lib/python3.7/site-packages/anndata/_core/anndata.py:121: ImplicitModificationWarning: Transforming to str index.\n",
      "  warnings.warn(\"Transforming to str index.\", ImplicitModificationWarning)\n",
      "/home/mklein/.conda/envs/ion_suppression/lib/python3.7/site-packages/anndata/_core/anndata.py:859: FutureWarning: X.dtype being converted to np.float32 from float64. In the next version of anndata (0.9) conversion will not be automatic. Pass dtype explicitly to avoid this warning. Pass `AnnData(X, dtype=X.dtype, ...)` to get the future behavour.\n",
      "  self._set_dim_df(value, \"obs\")\n",
      "/home/mklein/.conda/envs/ion_suppression/lib/python3.7/site-packages/pandas/core/arraylike.py:358: RuntimeWarning: divide by zero encountered in log10\n",
      "  result = getattr(ufunc, method)(*inputs, **kwargs)\n",
      "  1%|          | 16/2100 [00:00<00:15, 130.93it/s]"
     ]
    },
    {
     "name": "stdout",
     "output_type": "stream",
     "text": [
      "insufficient metabolites: 2082\n"
     ]
    },
    {
     "name": "stderr",
     "output_type": "stream",
     "text": [
      "  3%|▎         | 54/2100 [00:00<00:20, 100.17it/s]\n",
      "/home/mklein/.conda/envs/ion_suppression/lib/python3.7/site-packages/anndata/_core/anndata.py:121: ImplicitModificationWarning: Transforming to str index.\n",
      "  warnings.warn(\"Transforming to str index.\", ImplicitModificationWarning)\n",
      "/home/mklein/.conda/envs/ion_suppression/lib/python3.7/site-packages/anndata/_core/anndata.py:859: FutureWarning: X.dtype being converted to np.float32 from float64. In the next version of anndata (0.9) conversion will not be automatic. Pass dtype explicitly to avoid this warning. Pass `AnnData(X, dtype=X.dtype, ...)` to get the future behavour.\n",
      "  self._set_dim_df(value, \"obs\")\n",
      "/home/mklein/.conda/envs/ion_suppression/lib/python3.7/site-packages/pandas/core/arraylike.py:358: RuntimeWarning: divide by zero encountered in log10\n",
      "  result = getattr(ufunc, method)(*inputs, **kwargs)\n",
      "  0%|          | 0/2100 [00:00<?, ?it/s]\n",
      "/home/mklein/.conda/envs/ion_suppression/lib/python3.7/site-packages/anndata/_core/anndata.py:121: ImplicitModificationWarning: Transforming to str index.\n",
      "  warnings.warn(\"Transforming to str index.\", ImplicitModificationWarning)\n",
      "/home/mklein/.conda/envs/ion_suppression/lib/python3.7/site-packages/anndata/_core/anndata.py:859: FutureWarning: X.dtype being converted to np.float32 from float64. In the next version of anndata (0.9) conversion will not be automatic. Pass dtype explicitly to avoid this warning. Pass `AnnData(X, dtype=X.dtype, ...)` to get the future behavour.\n",
      "  self._set_dim_df(value, \"obs\")\n",
      "/home/mklein/.conda/envs/ion_suppression/lib/python3.7/site-packages/pandas/core/arraylike.py:358: RuntimeWarning: divide by zero encountered in log10\n",
      "  result = getattr(ufunc, method)(*inputs, **kwargs)\n",
      "  3%|▎         | 65/2100 [00:00<00:24, 82.19it/s] "
     ]
    },
    {
     "name": "stdout",
     "output_type": "stream",
     "text": [
      "insufficient metabolites: 2064\n",
      "insufficient metabolites: 2083\n"
     ]
    },
    {
     "name": "stderr",
     "output_type": "stream",
     "text": [
      " 13%|█▎        | 200/1503 [00:03<00:23, 56.01it/s]\n",
      "/home/mklein/.conda/envs/ion_suppression/lib/python3.7/site-packages/anndata/_core/anndata.py:121: ImplicitModificationWarning: Transforming to str index.\n",
      "  warnings.warn(\"Transforming to str index.\", ImplicitModificationWarning)\n",
      "/home/mklein/.conda/envs/ion_suppression/lib/python3.7/site-packages/anndata/_core/anndata.py:859: FutureWarning: X.dtype being converted to np.float32 from float64. In the next version of anndata (0.9) conversion will not be automatic. Pass dtype explicitly to avoid this warning. Pass `AnnData(X, dtype=X.dtype, ...)` to get the future behavour.\n",
      "  self._set_dim_df(value, \"obs\")\n",
      "/home/mklein/.conda/envs/ion_suppression/lib/python3.7/site-packages/pandas/core/arraylike.py:358: RuntimeWarning: divide by zero encountered in log10\n",
      "  result = getattr(ufunc, method)(*inputs, **kwargs)\n",
      "  0%|          | 0/2100 [00:00<?, ?it/s]"
     ]
    },
    {
     "name": "stdout",
     "output_type": "stream",
     "text": [
      "insufficient metabolites: 2058\n",
      "insufficient metabolites: 2042\n"
     ]
    },
    {
     "name": "stderr",
     "output_type": "stream",
     "text": [
      " 14%|█▎        | 288/2100 [00:03<00:25, 72.30it/s]\n",
      "/home/mklein/.conda/envs/ion_suppression/lib/python3.7/site-packages/anndata/_core/anndata.py:121: ImplicitModificationWarning: Transforming to str index.\n",
      "  warnings.warn(\"Transforming to str index.\", ImplicitModificationWarning)\n",
      "/home/mklein/.conda/envs/ion_suppression/lib/python3.7/site-packages/anndata/_core/anndata.py:859: FutureWarning: X.dtype being converted to np.float32 from float64. In the next version of anndata (0.9) conversion will not be automatic. Pass dtype explicitly to avoid this warning. Pass `AnnData(X, dtype=X.dtype, ...)` to get the future behavour.\n",
      "  self._set_dim_df(value, \"obs\")\n",
      "/home/mklein/.conda/envs/ion_suppression/lib/python3.7/site-packages/pandas/core/arraylike.py:358: RuntimeWarning: divide by zero encountered in log10\n",
      "  result = getattr(ufunc, method)(*inputs, **kwargs)\n",
      "100%|██████████| 2100/2100 [00:22<00:00, 91.32it/s] "
     ]
    }
   ],
   "source": [
    "from src.functions import PIXEL_PRE, correct_intensities_quantile_regression_parallel, get_molecule_normalization_factors\n",
    "import statistics as st\n",
    "\n",
    "files = {\n",
    "        'config': '../config.json',\n",
    "        'sm_matrix': 'ablation_mark_analysis/spatiomolecular_adata.h5ad',\n",
    "        'overlap_regions': 'overlap_analysis1/overlap.regions.csv',\n",
    "        'mark_regions': 'overlap_analysis1/ablation_mark.regions.csv',\n",
    "        'cell_regions': 'overlap_analysis1/cell.regions.csv',\n",
    "        'cell_sm_matrix': 'single_cell_analysis/spatiomolecular_adata.h5ad',\n",
    "    }\n",
    "\n",
    "def correct_sample(sample):\n",
    "    \n",
    "    sample_path = os.path.join(source_path, sample, \"analysis\")\n",
    "\n",
    "    if not os.path.exists(os.path.join(target_path, sample)):\n",
    "        os.makedirs(os.path.join(target_path, sample))\n",
    "\n",
    "    project_files = {k: os.path.join(sample_path, v) for k, v in files.items()}\n",
    "\n",
    "    cell_regions = pd.read_csv(project_files['cell_regions'])\n",
    "    mark_regions = pd.read_csv(project_files['mark_regions'])\n",
    "    overlap_regions = pd.read_csv(project_files['overlap_regions'])\n",
    "\n",
    "    overlap_matrix, sampling_spec_matrix = get_matrices_from_dfs(mark_area = mark_regions, cell_area = cell_regions, marks_cell_overlap = overlap_regions)\n",
    "\n",
    "    sm_matrix = sc.read(os.path.join(sample_path, files['sm_matrix']))\n",
    "    sm_matrix.obs_names = PIXEL_PRE + sm_matrix.obs_names\n",
    "    cell_sm_matrix = sc.read(os.path.join(sample_path, files['cell_sm_matrix']))\n",
    "\n",
    "    total_pixel_overlap, full_pixel_intensities_median = get_molecule_normalization_factors(sm_matrix.to_df(), overlap_matrix, method= st.median)\n",
    "\n",
    "    corrected_intensities = correct_intensities_quantile_regression_parallel(sm_matrix.to_df(), total_pixel_overlap, full_pixel_intensities_median, reference_ions=sm_matrix.var_names, n_jobs=8)\n",
    "\n",
    "    corr_sm_matrix = sm_matrix.copy()\n",
    "    corr_sm_matrix.X = corrected_intensities\n",
    "\n",
    "    corr_cell_sm_matrix = cell_normalization_Rappez_adata(sampling_prop_matrix=overlap_matrix, sampling_spec_matrix=sampling_spec_matrix, adata=corr_sm_matrix, raw_adata=cell_sm_matrix)\n",
    "\n",
    "    corr_cell_sm_matrix.write(os.path.join(target_path, sample, 'cells_spatiomolecular_adata_corrected.h5ad'))\n",
    "    cell_sm_matrix.write(os.path.join(target_path, sample, 'cells_spatiomolecular_adata.h5ad'))\n",
    "    \n",
    "    return (sample, cell_sm_matrix, corr_cell_sm_matrix)\n",
    "\n",
    "\n",
    "adata_list = Parallel(n_jobs=10)(delayed(correct_sample)(sample) for sample in tqdm(samples))\n"
   ]
  },
  {
   "cell_type": "code",
   "execution_count": 15,
   "metadata": {},
   "outputs": [],
   "source": [
    "adata_dict = {item[0]: item[1] for item in adata_list}\n",
    "adata_cor_dict = {item[0]: item[2] for item in adata_list}"
   ]
  }
 ],
 "metadata": {
  "kernelspec": {
   "display_name": "Python 3 (ipykernel)",
   "language": "python",
   "name": "python3"
  },
  "language_info": {
   "codemirror_mode": {
    "name": "ipython",
    "version": 3
   },
   "file_extension": ".py",
   "mimetype": "text/x-python",
   "name": "python",
   "nbconvert_exporter": "python",
   "pygments_lexer": "ipython3",
   "version": "3.7.12"
  },
  "vscode": {
   "interpreter": {
    "hash": "89b4449ee30f46b148fb6825d70934bcbb1ebdb6d5b2015fe3835362773c7289"
   }
  }
 },
 "nbformat": 4,
 "nbformat_minor": 4
}
