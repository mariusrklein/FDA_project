{
 "cells": [
  {
   "cell_type": "markdown",
   "id": "c894b4a4-a1bf-4ad3-9d7b-a57a005323c2",
   "metadata": {},
   "source": [
    "# Quality controls"
   ]
  },
  {
   "cell_type": "code",
   "execution_count": null,
   "id": "b9616ef0-8207-48dd-b728-786234cedcdc",
   "metadata": {
    "papermill": {
     "duration": 3.607276,
     "end_time": "2023-01-14T14:40:12.943565",
     "exception": false,
     "start_time": "2023-01-14T14:40:09.336289",
     "status": "completed"
    },
    "tags": [
     "parameters"
    ]
   },
   "outputs": [],
   "source": [
    "import os\n",
    "import json\n",
    "import sys"
   ]
  },
  {
   "cell_type": "code",
   "execution_count": null,
   "id": "51b57455",
   "metadata": {},
   "outputs": [],
   "source": [
    "sys.path.append(isc_path)\n",
    "import scanpy as sc\n",
    "import pandas as pd\n",
    "import numpy as np\n",
    "import anndata as ad\n",
    "from scmIonSuppressionCorrection.src import const\n",
    "from scmIonSuppressionCorrection.src.evaluation import compare_pre_post_correction, plot_deviations_between_adatas\n",
    "\n",
    "%matplotlib inline\n",
    "# Default parameters"
   ]
  },
  {
   "cell_type": "code",
   "execution_count": null,
   "id": "a64f5f75-331f-411a-b877-8ec106dd37f9",
   "metadata": {
    "papermill": {
     "duration": 0.215275,
     "end_time": "2023-01-14T14:40:13.207603",
     "exception": true,
     "start_time": "2023-01-14T14:40:12.992328",
     "status": "failed"
    },
    "tags": []
   },
   "outputs": [],
   "source": [
    "deconvolution_params = {}\n",
    "am_adatas = {}\n",
    "corr_am_adatas = {}\n",
    "\n",
    "for sample in config['runtime']['samples']:\n",
    "    \n",
    "    config_path = os.path.join(config['runtime']['spacem_dataset_path'], \n",
    "                               sample, \n",
    "                               config['input']['spacem_config_file'])\n",
    "    \n",
    "    if os.path.exists(config_path):\n",
    "        with open(config_path) as json_file:\n",
    "            data = json.load(json_file)\n",
    "        deconvolution_params[sample] = data['single_cell_analysis']\n",
    "\n",
    "    sample_path = os.path.join(config['runtime']['out_folder'], \n",
    "                               sample, \n",
    "                               config['output']['write_sample_folder_path'])\n",
    "    \n",
    "    am_adatas[sample] = sc.read(os.path.join(config['runtime']['spacem_dataset_path'],\n",
    "                               sample,\n",
    "                               config['input']['am_adata_file']))\n",
    "    corr_am_adatas[sample] = sc.read(os.path.join(config['runtime']['out_folder'], \n",
    "                               sample, \n",
    "                               config['output']['write_sample_folder_path'], \n",
    "                               config['output']['file_names']['corrected_am_adata']))\n"
   ]
  },
  {
   "cell_type": "markdown",
   "id": "14f7805b-f875-473a-a862-da934f26ddf4",
   "metadata": {
    "papermill": {
     "duration": null,
     "end_time": null,
     "exception": null,
     "start_time": null,
     "status": "pending"
    },
    "tags": []
   },
   "source": [
    "## Correction slopes"
   ]
  },
  {
   "cell_type": "code",
   "execution_count": null,
   "id": "18420a21-f056-4937-b379-0c6ab5168b7a",
   "metadata": {
    "papermill": {
     "duration": null,
     "end_time": null,
     "exception": null,
     "start_time": null,
     "status": "pending"
    },
    "tags": []
   },
   "outputs": [],
   "source": [
    "# reshape data for immediate analysis\n",
    "am_adata = ad.concat(am_adatas, label='well', index_unique=\"_\", merge=\"first\")\n",
    "corr_am_adata = ad.concat(corr_am_adatas, label='well', index_unique=\"_\", merge=\"first\")"
   ]
  },
  {
   "cell_type": "code",
   "execution_count": null,
   "id": "bef74b53-4d64-4d03-9b78-17e23c6e8e3f",
   "metadata": {
    "papermill": {
     "duration": null,
     "end_time": null,
     "exception": null,
     "start_time": null,
     "status": "pending"
    },
    "tags": []
   },
   "outputs": [],
   "source": [
    "am_adata.obs[const.TPO] = corr_am_adata.obs[const.TPO]\n",
    "am_adata.var[const.FPAI] = corr_am_adata.var[const.FPAI]\n",
    "\n",
    "compare_pre_post_correction(adata = am_adata, \n",
    "                            adata_cor = corr_am_adata, \n",
    "                            proportion_threshold = config['correction']['correction_proportion_threshold'], \n",
    "                            normalized = True)"
   ]
  },
  {
   "attachments": {},
   "cell_type": "markdown",
   "id": "d6bef64a-4dc0-49c1-9a17-1750d4c0a7c1",
   "metadata": {},
   "source": [
    "## Deconvolution\n",
    "\n",
    "The following table shows the individual deconvolution parameters of the different wells, as documented in the respective config.json files. These parameters were used if the flag \"use_data_from_spacem_configuration\" is True. Otherwise, the parameters from the configuration above were used."
   ]
  },
  {
   "cell_type": "code",
   "execution_count": null,
   "id": "ab069fca-35c3-471f-83bd-205df7a8cea1",
   "metadata": {},
   "outputs": [],
   "source": [
    "deconv_table = pd.DataFrame(deconvolution_params).T\n",
    "deconv_table"
   ]
  },
  {
   "cell_type": "code",
   "execution_count": null,
   "id": "c4c21d66-2767-42a1-9ab9-09f66f778d7f",
   "metadata": {
    "papermill": {
     "duration": 2.108501,
     "end_time": "2023-01-14T01:45:10.370761",
     "exception": false,
     "start_time": "2023-01-14T01:45:08.262260",
     "status": "completed"
    },
    "tags": []
   },
   "outputs": [],
   "source": [
    "adata = ad.read(os.path.join(config['runtime']['out_folder'], config['output']['file_names']['adata']))\n",
    "gen_adata = ad.read(os.path.join(config['runtime']['out_folder'], config['output']['file_names']['generated_adata']))\n",
    "adata_cor = ad.read(os.path.join(config['runtime']['out_folder'], config['output']['file_names']['corrected_adata']))"
   ]
  },
  {
   "cell_type": "code",
   "execution_count": null,
   "id": "7f605bee-4535-444f-89ac-6ebce8ff0272",
   "metadata": {},
   "outputs": [],
   "source": [
    "plot_deviations_between_adatas(adata, gen_adata, adata_cor, well_name=const.SAMPLE_COL)"
   ]
  }
 ],
 "metadata": {
  "kernelspec": {
   "display_name": "ion_suppression_full",
   "language": "python",
   "name": "ion_suppression"
  },
  "language_info": {
   "codemirror_mode": {
    "name": "ipython",
    "version": 3
   },
   "file_extension": ".py",
   "mimetype": "text/x-python",
   "name": "python",
   "nbconvert_exporter": "python",
   "pygments_lexer": "ipython3",
   "version": "3.10.6"
  }
 },
 "nbformat": 4,
 "nbformat_minor": 5
}
